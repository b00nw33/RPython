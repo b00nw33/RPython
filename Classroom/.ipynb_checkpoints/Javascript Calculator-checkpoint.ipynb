{
 "cells": [
  {
   "cell_type": "code",
   "execution_count": 23,
   "id": "73046776-7973-4ba0-83cd-0fbee1dde161",
   "metadata": {
    "tags": []
   },
   "outputs": [
    {
     "data": {
      "text/plain": [
       "{ Alice: 2, Bob: 1, Tiff: 1, Bruce: 1 }"
      ]
     },
     "execution_count": 23,
     "metadata": {},
     "output_type": "execute_result"
    }
   ],
   "source": [
    "// https://developer.mozilla.org/en-US/docs/Web/JavaScript/Reference/Global_Objects/Array/reduce\n",
    "\n",
    "names = [\"Alice\", \"Bob\", \"Tiff\", \"Bruce\", \"Alice\"];\n",
    "\n",
    "countedNames = names.reduce((allNames, name) => {\n",
    "  const currCount = allNames[name] ?? 0;\n",
    "  return {\n",
    "    ...allNames,\n",
    "    [name]: currCount + 1,\n",
    "  };\n",
    "}, {});"
   ]
  },
  {
   "cell_type": "code",
   "execution_count": 14,
   "id": "445c8e21-5dad-4d8d-81c7-f4111e9aa295",
   "metadata": {
    "tags": []
   },
   "outputs": [
    {
     "name": "stdout",
     "output_type": "stream",
     "text": [
      "{} \t v:count = U : 0\n",
      "{ U: 1 } \t v:count = A : 0\n",
      "{ U: 1, A: 1 } \t v:count = B : 0\n",
      "{ U: 1, A: 1, B: 1 } \t v:count = C : 0\n",
      "{ U: 1, A: 1, B: 1, C: 1 } \t v:count = D : 0\n",
      "{ U: 1, A: 1, B: 1, C: 1, D: 1 } \t v:count = E : 0\n",
      "{ U: 1, A: 1, B: 1, C: 1, D: 1, E: 1 } \t v:count = U : 1\n",
      "{ U: 2, A: 1, B: 1, C: 1, D: 1, E: 1 } \t v:count = A : 1\n",
      "{ U: 2, A: 2, B: 1, C: 1, D: 1, E: 1 } \t v:count = B : 1\n",
      "{ U: 2, A: 2, B: 2, C: 1, D: 1, E: 1 } \t v:count = C : 1\n",
      "{ U: 2, A: 2, B: 2, C: 2, D: 1, E: 1 } \t v:count = D : 1\n",
      "{ U: 2, A: 2, B: 2, C: 2, D: 2, E: 1 } \t v:count = E : 1\n",
      "{ U: 2, A: 2, B: 2, C: 2, D: 2, E: 2 } \t v:count = U : 2\n",
      "{ U: 3, A: 2, B: 2, C: 2, D: 2, E: 2 } \t v:count = A : 2\n",
      "{ U: 3, A: 3, B: 2, C: 2, D: 2, E: 2 } \t v:count = B : 2\n",
      "{ U: 3, A: 3, B: 3, C: 2, D: 2, E: 2 } \t v:count = C : 2\n",
      "{ U: 3, A: 3, B: 3, C: 3, D: 2, E: 2 } \t v:count = D : 2\n",
      "{ U: 3, A: 3, B: 3, C: 3, D: 3, E: 2 } \t v:count = E : 2\n",
      "{ U: 3, A: 3, B: 3, C: 3, D: 3, E: 3 } \t v:count = U : 3\n",
      "{ U: 4, A: 3, B: 3, C: 3, D: 3, E: 3 } \t v:count = A : 3\n",
      "{ U: 4, A: 4, B: 3, C: 3, D: 3, E: 3 } \t v:count = B : 3\n",
      "{ U: 4, A: 4, B: 4, C: 3, D: 3, E: 3 } \t v:count = C : 3\n",
      "{ U: 4, A: 4, B: 4, C: 4, D: 3, E: 3 } \t v:count = D : 3\n",
      "{ U: 4, A: 4, B: 4, C: 4, D: 4, E: 3 } \t v:count = E : 3\n",
      "{ U: 4, A: 4, B: 4, C: 4, D: 4, E: 4 } \t v:count = U : 4\n"
     ]
    },
    {
     "data": {
      "text/plain": [
       "{ U: 5, A: 4, B: 4, C: 4, D: 4, E: 4 }"
      ]
     },
     "execution_count": 14,
     "metadata": {},
     "output_type": "execute_result"
    }
   ],
   "source": [
    "// https://developer.mozilla.org/en-US/docs/Web/JavaScript/Reference/Operators/Nullish_coalescing\n",
    "\n",
    "arr = ['U','A','B','C','D','E','U','A','B','C','D','E','U','A','B','C','D','E','U','A','B','C','D','E','U']\n",
    "arr.reduce((a,v) => {\n",
    "    count = a[v] ?? 0\n",
    "    console.log(a, \"\\t v:count =\",v,\":\",count)\n",
    "    return {...a, [v]: count + 1}\n",
    "},{})"
   ]
  },
  {
   "cell_type": "code",
   "execution_count": null,
   "id": "64548207-5d0e-416d-8fda-f3140849a05f",
   "metadata": {},
   "outputs": [],
   "source": []
  },
  {
   "cell_type": "code",
   "execution_count": 6,
   "id": "c78aa960-088f-475f-9b9f-9bbe37c51835",
   "metadata": {},
   "outputs": [
    {
     "data": {
      "text/plain": [
       "[\n",
       "  -3, -1,  1,  3,  5,\n",
       "   7,  9, 11, 13, 15\n",
       "]"
      ]
     },
     "execution_count": 6,
     "metadata": {},
     "output_type": "execute_result"
    }
   ],
   "source": [
    "[...Array(10).keys()].map(x => 2*x-3)"
   ]
  },
  {
   "cell_type": "code",
   "execution_count": 1,
   "id": "b0fa3f92-0e21-4f76-9105-d94ec42dfb67",
   "metadata": {},
   "outputs": [
    {
     "name": "stdout",
     "output_type": "stream",
     "text": [
      "{} \t v:count = E : 0\n",
      "{ E: 1 } \t v:count = A : 0\n",
      "{ E: 1, A: 1 } \t v:count = C : 0\n",
      "{ E: 1, A: 1, C: 1 } \t v:count = A : 1\n",
      "{ E: 1, A: 2, C: 1 } \t v:count = B : 0\n",
      "{ E: 1, A: 2, C: 1, B: 1 } \t v:count = E : 1\n",
      "{ E: 2, A: 2, C: 1, B: 1 } \t v:count = A : 2\n",
      "{ E: 2, A: 3, C: 1, B: 1 } \t v:count = U : 0\n",
      "{ E: 2, A: 3, C: 1, B: 1, U: 1 } \t v:count = A : 3\n",
      "{ E: 2, A: 4, C: 1, B: 1, U: 1 } \t v:count = E : 2\n",
      "{ E: 3, A: 4, C: 1, B: 1, U: 1 } \t v:count = C : 1\n",
      "{ E: 3, A: 4, C: 2, B: 1, U: 1 } \t v:count = A : 4\n",
      "{ E: 3, A: 5, C: 2, B: 1, U: 1 } \t v:count = A : 5\n",
      "{ E: 3, A: 6, C: 2, B: 1, U: 1 } \t v:count = D : 0\n",
      "{ E: 3, A: 6, C: 2, B: 1, U: 1, D: 1 } \t v:count = E : 3\n",
      "{ E: 4, A: 6, C: 2, B: 1, U: 1, D: 1 } \t v:count = A : 6\n",
      "{ E: 4, A: 7, C: 2, B: 1, U: 1, D: 1 } \t v:count = E : 4\n",
      "{ E: 5, A: 7, C: 2, B: 1, U: 1, D: 1 } \t v:count = B : 1\n",
      "{ E: 5, A: 7, C: 2, B: 2, U: 1, D: 1 } \t v:count = A : 7\n",
      "{ E: 5, A: 8, C: 2, B: 2, U: 1, D: 1 } \t v:count = U : 1\n",
      "{ E: 5, A: 8, C: 2, B: 2, U: 2, D: 1 } \t v:count = E : 5\n",
      "{ E: 6, A: 8, C: 2, B: 2, U: 2, D: 1 } \t v:count = E : 6\n",
      "{ E: 7, A: 8, C: 2, B: 2, U: 2, D: 1 } \t v:count = A : 8\n",
      "{ E: 7, A: 9, C: 2, B: 2, U: 2, D: 1 } \t v:count = D : 1\n",
      "{ E: 7, A: 9, C: 2, B: 2, U: 2, D: 2 } \t v:count = D : 2\n",
      "{ E: 7, A: 9, C: 2, B: 2, U: 2, D: 3 } \t v:count = C : 2\n",
      "{ E: 7, A: 9, C: 3, B: 2, U: 2, D: 3 } \t v:count = C : 3\n",
      "{ E: 7, A: 9, C: 4, B: 2, U: 2, D: 3 } \t v:count = B : 2\n",
      "{ E: 7, A: 9, C: 4, B: 3, U: 2, D: 3 } \t v:count = A : 9\n",
      "{ E: 7, A: 10, C: 4, B: 3, U: 2, D: 3 } \t v:count = B : 3\n"
     ]
    },
    {
     "data": {
      "text/plain": [
       "{ E: 7, A: 10, C: 4, B: 4, U: 2, D: 3 }"
      ]
     },
     "execution_count": 1,
     "metadata": {},
     "output_type": "execute_result"
    }
   ],
   "source": [
    "GradeN = function(x) {\n",
    "  let grades = ['A','B','C','D','E','U']\n",
    "  let bounds = [75, 70, 65, 60, 50, 0]\n",
    "  return grades[bounds.filter(i => i > x).length]\n",
    "}\n",
    "\n",
    "const scores = [54, 95, 65, 94, 72, 58, 86, 45, 99, 59, 65, 96, 76, 61, 59,95, 57, 73, 90, 45, 54, 53, 90, 62, 61, 65, 68, 72, 93, 71]\n",
    "let grades = scores.map(i => GradeN(parseFloat(i)))\n",
    "\n",
    "grades.reduce((a,v) => {\n",
    "    count = a[v] ?? 0\n",
    "    // console.log(a, \"\\t v:count =\",v,\":\",count)\n",
    "    return {...a, [v]: count + 1}\n",
    "},{})"
   ]
  },
  {
   "cell_type": "code",
   "execution_count": null,
   "id": "d9bc0ba5-ec79-4bff-8a0e-91a2f2afd1c6",
   "metadata": {},
   "outputs": [],
   "source": []
  },
  {
   "cell_type": "code",
   "execution_count": null,
   "id": "e3a40875-072f-44d4-a1d4-1c0fd6918775",
   "metadata": {},
   "outputs": [],
   "source": []
  },
  {
   "cell_type": "code",
   "execution_count": null,
   "id": "5ec5f787-657c-4815-b60f-423c90b9bf9d",
   "metadata": {},
   "outputs": [],
   "source": []
  },
  {
   "cell_type": "code",
   "execution_count": null,
   "id": "3fa21ae5-45cc-41a8-be2f-2fa422f9ea65",
   "metadata": {},
   "outputs": [],
   "source": []
  }
 ],
 "metadata": {
  "kernelspec": {
   "display_name": "Javascript (Node.js)",
   "language": "javascript",
   "name": "javascript"
  },
  "language_info": {
   "file_extension": ".js",
   "mimetype": "application/javascript",
   "name": "javascript",
   "version": "14.20.1"
  }
 },
 "nbformat": 4,
 "nbformat_minor": 5
}
