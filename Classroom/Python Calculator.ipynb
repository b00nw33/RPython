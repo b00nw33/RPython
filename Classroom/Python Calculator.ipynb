{
 "cells": [
  {
   "cell_type": "markdown",
   "id": "82f4812d-8c9b-41cb-ad68-7a0720c5ef61",
   "metadata": {},
   "source": [
    "<img src=\"https://www.python.org/static/community_logos/python-logo-master-v3-TM.png\" alt=\"drawing\" width=\"300\"/>"
   ]
  },
  {
   "cell_type": "markdown",
   "id": "8b045018-8cea-4789-9519-0b8351da8d06",
   "metadata": {
    "tags": []
   },
   "source": [
    "# Python Calculator"
   ]
  },
  {
   "cell_type": "markdown",
   "id": "5f41d7f4-b6b2-4d4b-af0d-c7f5996e97c5",
   "metadata": {},
   "source": [
    "For a **quick** recap, visit [**`Kaggle Learn`**](https://www.kaggle.com/learn). To use Python in Finance, visit [**`FinanceAndPython`**](https://financeandpython.com/)."
   ]
  },
  {
   "cell_type": "markdown",
   "id": "82980106-9a39-4c78-b425-078a15cb4573",
   "metadata": {
    "jp-MarkdownHeadingCollapsed": true,
    "tags": []
   },
   "source": [
    "## Maths"
   ]
  },
  {
   "cell_type": "markdown",
   "id": "166ef283-f266-4f76-9543-40d1b185b8ee",
   "metadata": {
    "jp-MarkdownHeadingCollapsed": true,
    "tags": []
   },
   "source": [
    "### Use of `filter()` to find primes"
   ]
  },
  {
   "cell_type": "code",
   "execution_count": 75,
   "id": "c64ad293-00c2-479e-8c36-99e2d5ab117f",
   "metadata": {},
   "outputs": [],
   "source": [
    "nums = range(2,1000)\n",
    "\n",
    "def is_prime(num):\n",
    "    for i in range(2,num):\n",
    "        if num%i == 0:\n",
    "            return False\n",
    "    return True"
   ]
  },
  {
   "cell_type": "code",
   "execution_count": 76,
   "id": "305ee06b-95d2-4971-8b28-943e6fc57169",
   "metadata": {},
   "outputs": [
    {
     "data": {
      "text/plain": [
       "array([  2,   3,   5,   7,  11,  13,  17,  19,  23,  29,  31,  37,  41,\n",
       "        43,  47,  53,  59,  61,  67,  71,  73,  79,  83,  89,  97, 101,\n",
       "       103, 107, 109, 113, 127, 131, 137, 139, 149, 151, 157, 163, 167,\n",
       "       173, 179, 181, 191, 193, 197, 199, 211, 223, 227, 229, 233, 239,\n",
       "       241, 251, 257, 263, 269, 271, 277, 281, 283, 293, 307, 311, 313,\n",
       "       317, 331, 337, 347, 349, 353, 359, 367, 373, 379, 383, 389, 397,\n",
       "       401, 409, 419, 421, 431, 433, 439, 443, 449, 457, 461, 463, 467,\n",
       "       479, 487, 491, 499, 503, 509, 521, 523, 541, 547, 557, 563, 569,\n",
       "       571, 577, 587, 593, 599, 601, 607, 613, 617, 619, 631, 641, 643,\n",
       "       647, 653, 659, 661, 673, 677, 683, 691, 701, 709, 719, 727, 733,\n",
       "       739, 743, 751, 757, 761, 769, 773, 787, 797, 809, 811, 821, 823,\n",
       "       827, 829, 839, 853, 857, 859, 863, 877, 881, 883, 887, 907, 911,\n",
       "       919, 929, 937, 941, 947, 953, 967, 971, 977, 983, 991, 997])"
      ]
     },
     "execution_count": 76,
     "metadata": {},
     "output_type": "execute_result"
    }
   ],
   "source": [
    "import numpy as np\n",
    "\n",
    "plist = list(filter(is_prime, nums))\n",
    "primes = np.array(plist)\n",
    "primes"
   ]
  },
  {
   "cell_type": "markdown",
   "id": "ef6252a3-e51c-464d-8ee8-23c4e1df5146",
   "metadata": {
    "jp-MarkdownHeadingCollapsed": true,
    "tags": []
   },
   "source": [
    "### Matrices and Linear Algebra with`numpy`"
   ]
  },
  {
   "cell_type": "code",
   "execution_count": 7,
   "id": "4be121d6-3c31-4508-bc7c-88d4638533b3",
   "metadata": {},
   "outputs": [
    {
     "name": "stdout",
     "output_type": "stream",
     "text": [
      "[[1 2 3]\n",
      " [4 5 6]]\n"
     ]
    }
   ],
   "source": [
    "import numpy as np\n",
    "\n",
    "m = np.array([[1,2,3],[4,5,6]])\n",
    "print(m)"
   ]
  },
  {
   "cell_type": "code",
   "execution_count": 8,
   "id": "17c75c58-e8c5-4fae-b62f-c73c80b5ef42",
   "metadata": {},
   "outputs": [
    {
     "name": "stdout",
     "output_type": "stream",
     "text": [
      "[[1 2]\n",
      " [3 4]\n",
      " [5 6]]\n"
     ]
    }
   ],
   "source": [
    "n = np.array([[1,2],[3,4],[5,6]])\n",
    "print(n)"
   ]
  },
  {
   "cell_type": "code",
   "execution_count": 9,
   "id": "f2ed5ae1-58fa-4875-8a23-6d313d70bfea",
   "metadata": {},
   "outputs": [
    {
     "name": "stdout",
     "output_type": "stream",
     "text": [
      "[[22 28]\n",
      " [49 64]]\n"
     ]
    }
   ],
   "source": [
    "print(np.matmul(m,n))"
   ]
  },
  {
   "cell_type": "code",
   "execution_count": 11,
   "id": "e007d61b-5407-4b66-bd98-d7b9f08ba19b",
   "metadata": {},
   "outputs": [
    {
     "name": "stdout",
     "output_type": "stream",
     "text": [
      "[[22 28]\n",
      " [49 64]]\n"
     ]
    }
   ],
   "source": [
    "print(m@n)"
   ]
  },
  {
   "cell_type": "markdown",
   "id": "e2134e2a-f6cb-4ad3-900b-e700aabb1175",
   "metadata": {
    "jp-MarkdownHeadingCollapsed": true,
    "tags": []
   },
   "source": [
    "### Complex numbers with `cmath`"
   ]
  },
  {
   "cell_type": "code",
   "execution_count": 39,
   "id": "3b8f59d1-85db-40d3-bde7-2680acb6cef5",
   "metadata": {},
   "outputs": [
    {
     "name": "stdout",
     "output_type": "stream",
     "text": [
      "(1+2j) (1-2j) (5+0j)\n"
     ]
    }
   ],
   "source": [
    "a = 1+2j\n",
    "b = a.conjugate()\n",
    "print(a, b, a*b)"
   ]
  },
  {
   "cell_type": "code",
   "execution_count": 40,
   "id": "7be8aaad-a2b3-4291-84ad-6c3ed4b07c63",
   "metadata": {},
   "outputs": [
    {
     "data": {
      "text/plain": [
       "(237-3116j)"
      ]
     },
     "execution_count": 40,
     "metadata": {},
     "output_type": "execute_result"
    }
   ],
   "source": [
    "a**10"
   ]
  },
  {
   "cell_type": "code",
   "execution_count": 41,
   "id": "bfd9fd2a-6b79-4f8c-98b4-1ad3c40fe99c",
   "metadata": {},
   "outputs": [
    {
     "data": {
      "text/plain": [
       "(2.23606797749979, 1.1071487177940904)"
      ]
     },
     "execution_count": 41,
     "metadata": {},
     "output_type": "execute_result"
    }
   ],
   "source": [
    "import cmath\n",
    "\n",
    "p = cmath.polar(a)\n",
    "p"
   ]
  },
  {
   "cell_type": "code",
   "execution_count": 42,
   "id": "be64f8a5-bcf4-4d48-af85-68474346ea0c",
   "metadata": {},
   "outputs": [
    {
     "data": {
      "text/plain": [
       "(1.0000000000000002+2j)"
      ]
     },
     "execution_count": 42,
     "metadata": {},
     "output_type": "execute_result"
    }
   ],
   "source": [
    "r = cmath.rect(*p)\n",
    "r"
   ]
  },
  {
   "cell_type": "code",
   "execution_count": 43,
   "id": "1ef9220a-1d6e-4518-b6a3-51bc431efe54",
   "metadata": {},
   "outputs": [
    {
     "data": {
      "text/plain": [
       "(236.99999999999716-3116.000000000002j)"
      ]
     },
     "execution_count": 43,
     "metadata": {},
     "output_type": "execute_result"
    }
   ],
   "source": [
    "# When multiplying complex numbers, r is MULTIPLIED and theta is ADDED\n",
    "\n",
    "cmath.rect(p[0]**10, 10*p[1])"
   ]
  },
  {
   "cell_type": "code",
   "execution_count": 45,
   "id": "ef33c317-0ddc-47b3-8c42-3a144fb633ca",
   "metadata": {},
   "outputs": [
    {
     "data": {
      "text/plain": [
       "1.1071487177940904"
      ]
     },
     "execution_count": 45,
     "metadata": {},
     "output_type": "execute_result"
    }
   ],
   "source": [
    "# numpy does some complex too\n",
    "import numpy as np\n",
    "\n",
    "np.angle(a)"
   ]
  },
  {
   "cell_type": "markdown",
   "id": "32ae1e7b-c41d-4b8c-b4a6-5db17ce1c5cb",
   "metadata": {
    "jp-MarkdownHeadingCollapsed": true,
    "tags": []
   },
   "source": [
    "### Pivot tables with `pandas`"
   ]
  },
  {
   "cell_type": "code",
   "execution_count": 1,
   "id": "e8de927d-692b-400a-8106-b70ecc40dfad",
   "metadata": {},
   "outputs": [],
   "source": [
    "# List of cryptocurrency coins dictionaries:\n",
    "\n",
    "crypto_coin = [\n",
    "{\n",
    "\"name\": \"Bitcoin\", \n",
    "\"ticker\": 'BTC',\n",
    "\"price\": 35870.86,\n",
    "\"24h_change\": 1.48,\n",
    "\"volume\": 670552492185,\n",
    "\"supply\": 18721781,\n",
    "\"category\": 'CURRENCY'\n",
    "},\n",
    "    \n",
    "{\n",
    "\"name\": \"Ethereum\", \n",
    "\"ticker\": 'ETH',\n",
    "\"price\": 2422.80,\n",
    "\"24h_change\": 0.05,\n",
    "\"volume\": 281073942766,\n",
    "\"supply\": 116083174,\n",
    "\"category\": 'PLATFORM'\n",
    "},\n",
    "    \n",
    "{\n",
    "\"name\": \"Cardano\", \n",
    "\"ticker\": 'ADA',\n",
    "\"price\": 1.63,\n",
    "\"24h_change\": 10.26,\n",
    "\"volume\": 51951358766,\n",
    "\"supply\": 31948309441,\n",
    "\"category\": 'PLATFORM'\n",
    "},\n",
    "    \n",
    "{\n",
    "\"name\": \"Binance Coin\", \n",
    "\"ticker\": 'BNB',\n",
    "\"price\": 331.21,\n",
    "\"24h_change\": 6.08,\n",
    "\"volume\": 50829735875,\n",
    "\"supply\": 153432897,\n",
    "\"category\": 'EXCHANGE'\n",
    "},\n",
    "    \n",
    "{\n",
    "\"name\": \"XRP\", \n",
    "\"ticker\": 'XRP',\n",
    "\"price\": 5.00,\n",
    "\"24h_change\": 7.39,\n",
    "\"volume\": 40594034312,\n",
    "\"supply\": 46143602688,\n",
    "\"category\": 'CURRENCY'\n",
    "},\n",
    "    \n",
    "{\n",
    "\"name\": \"Dogecoin\", \n",
    "\"ticker\": 'DOGE',\n",
    "\"price\": 0.31,\n",
    "\"24h_change\": 2.11,\n",
    "\"volume\": 39593068555,\n",
    "\"supply\": 129813129789,\n",
    "\"category\": 'CURRENCY'\n",
    "}\n",
    "]"
   ]
  },
  {
   "cell_type": "code",
   "execution_count": 2,
   "id": "20d43f47-36c2-4399-8244-8f4e4c398adc",
   "metadata": {},
   "outputs": [
    {
     "data": {
      "text/html": [
       "<div>\n",
       "<style scoped>\n",
       "    .dataframe tbody tr th:only-of-type {\n",
       "        vertical-align: middle;\n",
       "    }\n",
       "\n",
       "    .dataframe tbody tr th {\n",
       "        vertical-align: top;\n",
       "    }\n",
       "\n",
       "    .dataframe thead th {\n",
       "        text-align: right;\n",
       "    }\n",
       "</style>\n",
       "<table border=\"1\" class=\"dataframe\">\n",
       "  <thead>\n",
       "    <tr style=\"text-align: right;\">\n",
       "      <th></th>\n",
       "      <th>name</th>\n",
       "      <th>ticker</th>\n",
       "      <th>price</th>\n",
       "      <th>24h_change</th>\n",
       "      <th>volume</th>\n",
       "      <th>supply</th>\n",
       "      <th>category</th>\n",
       "    </tr>\n",
       "  </thead>\n",
       "  <tbody>\n",
       "    <tr>\n",
       "      <th>0</th>\n",
       "      <td>Bitcoin</td>\n",
       "      <td>BTC</td>\n",
       "      <td>35870.86</td>\n",
       "      <td>1.48</td>\n",
       "      <td>670552492185</td>\n",
       "      <td>18721781</td>\n",
       "      <td>CURRENCY</td>\n",
       "    </tr>\n",
       "    <tr>\n",
       "      <th>1</th>\n",
       "      <td>Ethereum</td>\n",
       "      <td>ETH</td>\n",
       "      <td>2422.80</td>\n",
       "      <td>0.05</td>\n",
       "      <td>281073942766</td>\n",
       "      <td>116083174</td>\n",
       "      <td>PLATFORM</td>\n",
       "    </tr>\n",
       "    <tr>\n",
       "      <th>2</th>\n",
       "      <td>Cardano</td>\n",
       "      <td>ADA</td>\n",
       "      <td>1.63</td>\n",
       "      <td>10.26</td>\n",
       "      <td>51951358766</td>\n",
       "      <td>31948309441</td>\n",
       "      <td>PLATFORM</td>\n",
       "    </tr>\n",
       "    <tr>\n",
       "      <th>3</th>\n",
       "      <td>Binance Coin</td>\n",
       "      <td>BNB</td>\n",
       "      <td>331.21</td>\n",
       "      <td>6.08</td>\n",
       "      <td>50829735875</td>\n",
       "      <td>153432897</td>\n",
       "      <td>EXCHANGE</td>\n",
       "    </tr>\n",
       "    <tr>\n",
       "      <th>4</th>\n",
       "      <td>XRP</td>\n",
       "      <td>XRP</td>\n",
       "      <td>5.00</td>\n",
       "      <td>7.39</td>\n",
       "      <td>40594034312</td>\n",
       "      <td>46143602688</td>\n",
       "      <td>CURRENCY</td>\n",
       "    </tr>\n",
       "    <tr>\n",
       "      <th>5</th>\n",
       "      <td>Dogecoin</td>\n",
       "      <td>DOGE</td>\n",
       "      <td>0.31</td>\n",
       "      <td>2.11</td>\n",
       "      <td>39593068555</td>\n",
       "      <td>129813129789</td>\n",
       "      <td>CURRENCY</td>\n",
       "    </tr>\n",
       "  </tbody>\n",
       "</table>\n",
       "</div>"
      ],
      "text/plain": [
       "           name ticker     price  24h_change        volume        supply  \\\n",
       "0       Bitcoin    BTC  35870.86        1.48  670552492185      18721781   \n",
       "1      Ethereum    ETH   2422.80        0.05  281073942766     116083174   \n",
       "2       Cardano    ADA      1.63       10.26   51951358766   31948309441   \n",
       "3  Binance Coin    BNB    331.21        6.08   50829735875     153432897   \n",
       "4           XRP    XRP      5.00        7.39   40594034312   46143602688   \n",
       "5      Dogecoin   DOGE      0.31        2.11   39593068555  129813129789   \n",
       "\n",
       "   category  \n",
       "0  CURRENCY  \n",
       "1  PLATFORM  \n",
       "2  PLATFORM  \n",
       "3  EXCHANGE  \n",
       "4  CURRENCY  \n",
       "5  CURRENCY  "
      ]
     },
     "execution_count": 2,
     "metadata": {},
     "output_type": "execute_result"
    }
   ],
   "source": [
    "import pandas as pd\n",
    "\n",
    "df = pd.json_normalize(crypto_coin)\n",
    "df"
   ]
  },
  {
   "cell_type": "code",
   "execution_count": 6,
   "id": "420c3382-51b7-4085-9a6b-1074e99544ea",
   "metadata": {},
   "outputs": [
    {
     "data": {
      "text/html": [
       "<div>\n",
       "<style scoped>\n",
       "    .dataframe tbody tr th:only-of-type {\n",
       "        vertical-align: middle;\n",
       "    }\n",
       "\n",
       "    .dataframe tbody tr th {\n",
       "        vertical-align: top;\n",
       "    }\n",
       "\n",
       "    .dataframe thead tr th {\n",
       "        text-align: left;\n",
       "    }\n",
       "\n",
       "    .dataframe thead tr:last-of-type th {\n",
       "        text-align: right;\n",
       "    }\n",
       "</style>\n",
       "<table border=\"1\" class=\"dataframe\">\n",
       "  <thead>\n",
       "    <tr>\n",
       "      <th></th>\n",
       "      <th colspan=\"3\" halign=\"left\">24h_change</th>\n",
       "      <th colspan=\"3\" halign=\"left\">volume</th>\n",
       "    </tr>\n",
       "    <tr>\n",
       "      <th></th>\n",
       "      <th>count</th>\n",
       "      <th>sum</th>\n",
       "      <th>mean</th>\n",
       "      <th>count</th>\n",
       "      <th>sum</th>\n",
       "      <th>mean</th>\n",
       "    </tr>\n",
       "    <tr>\n",
       "      <th>category</th>\n",
       "      <th></th>\n",
       "      <th></th>\n",
       "      <th></th>\n",
       "      <th></th>\n",
       "      <th></th>\n",
       "      <th></th>\n",
       "    </tr>\n",
       "  </thead>\n",
       "  <tbody>\n",
       "    <tr>\n",
       "      <th>CURRENCY</th>\n",
       "      <td>3</td>\n",
       "      <td>10.98</td>\n",
       "      <td>3.660</td>\n",
       "      <td>3</td>\n",
       "      <td>750739595052</td>\n",
       "      <td>2.502465e+11</td>\n",
       "    </tr>\n",
       "    <tr>\n",
       "      <th>EXCHANGE</th>\n",
       "      <td>1</td>\n",
       "      <td>6.08</td>\n",
       "      <td>6.080</td>\n",
       "      <td>1</td>\n",
       "      <td>50829735875</td>\n",
       "      <td>5.082974e+10</td>\n",
       "    </tr>\n",
       "    <tr>\n",
       "      <th>PLATFORM</th>\n",
       "      <td>2</td>\n",
       "      <td>10.31</td>\n",
       "      <td>5.155</td>\n",
       "      <td>2</td>\n",
       "      <td>333025301532</td>\n",
       "      <td>1.665127e+11</td>\n",
       "    </tr>\n",
       "  </tbody>\n",
       "</table>\n",
       "</div>"
      ],
      "text/plain": [
       "         24h_change               volume                            \n",
       "              count    sum   mean  count           sum          mean\n",
       "category                                                            \n",
       "CURRENCY          3  10.98  3.660      3  750739595052  2.502465e+11\n",
       "EXCHANGE          1   6.08  6.080      1   50829735875  5.082974e+10\n",
       "PLATFORM          2  10.31  5.155      2  333025301532  1.665127e+11"
      ]
     },
     "execution_count": 6,
     "metadata": {},
     "output_type": "execute_result"
    }
   ],
   "source": [
    "df.groupby('category').agg({'24h_change':['count','sum','mean'],'volume':['count','sum','mean']})"
   ]
  },
  {
   "cell_type": "code",
   "execution_count": 3,
   "id": "1279c9e0-f720-4b87-be74-09b948069860",
   "metadata": {},
   "outputs": [
    {
     "data": {
      "text/html": [
       "<div>\n",
       "<style scoped>\n",
       "    .dataframe tbody tr th:only-of-type {\n",
       "        vertical-align: middle;\n",
       "    }\n",
       "\n",
       "    .dataframe tbody tr th {\n",
       "        vertical-align: top;\n",
       "    }\n",
       "\n",
       "    .dataframe thead th {\n",
       "        text-align: right;\n",
       "    }\n",
       "</style>\n",
       "<table border=\"1\" class=\"dataframe\">\n",
       "  <thead>\n",
       "    <tr style=\"text-align: right;\">\n",
       "      <th></th>\n",
       "      <th>24h_change</th>\n",
       "    </tr>\n",
       "    <tr>\n",
       "      <th>category</th>\n",
       "      <th></th>\n",
       "    </tr>\n",
       "  </thead>\n",
       "  <tbody>\n",
       "    <tr>\n",
       "      <th>CURRENCY</th>\n",
       "      <td>3.660</td>\n",
       "    </tr>\n",
       "    <tr>\n",
       "      <th>EXCHANGE</th>\n",
       "      <td>6.080</td>\n",
       "    </tr>\n",
       "    <tr>\n",
       "      <th>PLATFORM</th>\n",
       "      <td>5.155</td>\n",
       "    </tr>\n",
       "  </tbody>\n",
       "</table>\n",
       "</div>"
      ],
      "text/plain": [
       "          24h_change\n",
       "category            \n",
       "CURRENCY       3.660\n",
       "EXCHANGE       6.080\n",
       "PLATFORM       5.155"
      ]
     },
     "execution_count": 3,
     "metadata": {},
     "output_type": "execute_result"
    }
   ],
   "source": [
    "df.groupby('category')[['24h_change']].mean()"
   ]
  },
  {
   "cell_type": "markdown",
   "id": "4ebd3ddc-1beb-4a84-b876-53b19ab08322",
   "metadata": {
    "jp-MarkdownHeadingCollapsed": true,
    "tags": []
   },
   "source": [
    "### `np.polynomial.Polynomial` package"
   ]
  },
  {
   "cell_type": "code",
   "execution_count": 12,
   "id": "1fbeb75f-7c01-4d3b-8c4c-9382b021c2ba",
   "metadata": {},
   "outputs": [
    {
     "data": {
      "text/plain": [
       "135.0"
      ]
     },
     "execution_count": 12,
     "metadata": {},
     "output_type": "execute_result"
    }
   ],
   "source": [
    "# https://numpy.org/doc/stable/reference/routines.polynomials.classes.html#basics\n",
    "# https://perso.crans.org/besson/notebooks/Demonstration_of_numpy.polynomial.Polynomial_and_nice_display_with_LaTeX_and_MathJax__python3_.html\n",
    "\n",
    "from numpy.polynomial import Polynomial as p\n",
    "\n",
    "n = p([-1,2,-3,4,-5,6])\n",
    "d = p([4,-3,2])\n",
    "\n",
    "n(2)"
   ]
  },
  {
   "cell_type": "code",
   "execution_count": 29,
   "id": "8751e189-86b6-43bc-902b-a96932546ec1",
   "metadata": {},
   "outputs": [
    {
     "data": {
      "text/plain": [
       "(Polynomial([-7., -1.,  2.,  3.], domain=[-1.,  1.], window=[-1.,  1.]),\n",
       " Polynomial([ 27., -15.], domain=[-1.,  1.], window=[-1.,  1.]))"
      ]
     },
     "execution_count": 29,
     "metadata": {},
     "output_type": "execute_result"
    }
   ],
   "source": [
    "divmod(n,d)"
   ]
  },
  {
   "cell_type": "code",
   "execution_count": 31,
   "id": "33ae7695-cb49-4cc7-ac39-dbc148121213",
   "metadata": {},
   "outputs": [
    {
     "data": {
      "text/latex": [
       "$x \\mapsto \\text{-7.0} - \\text{1.0}\\,x + \\text{2.0}\\,x^{2} + \\text{3.0}\\,x^{3}$"
      ],
      "text/plain": [
       "Polynomial([-7., -1.,  2.,  3.], domain=[-1.,  1.], window=[-1.,  1.])"
      ]
     },
     "execution_count": 31,
     "metadata": {},
     "output_type": "execute_result"
    }
   ],
   "source": [
    "n // d"
   ]
  },
  {
   "cell_type": "code",
   "execution_count": 37,
   "id": "6163955c-5d48-4d03-a7d6-975ccd90ee42",
   "metadata": {},
   "outputs": [
    {
     "data": {
      "text/latex": [
       "$x \\mapsto \\text{27.0} - \\text{15.0}\\,x$"
      ],
      "text/plain": [
       "Polynomial([ 27., -15.], domain=[-1.,  1.], window=[-1.,  1.])"
      ]
     },
     "execution_count": 37,
     "metadata": {},
     "output_type": "execute_result"
    }
   ],
   "source": [
    "n % d"
   ]
  },
  {
   "cell_type": "markdown",
   "id": "0275943b-2dd9-4817-82f1-06880a00f7e8",
   "metadata": {
    "jp-MarkdownHeadingCollapsed": true,
    "tags": []
   },
   "source": [
    "#### Horner's method\n",
    "[Horner's method](https://youtu.be/zEvfkSuPqWk?t=235), commonly represented in the form of Synthetic Division, is a quick way to divide polynomial $P(x)$ by binomials of the form $(x-a)$. Factor and remainder theorem states that the remainder of such a division can be obtained simply by evaluating $P(a)$. Since the last term of Synthetic Division gives the remainder of the division, $(x-a)$ is a factor of $P(x)$ if the value of the last term is zero.\n",
    "$$\n",
    "\\begin{array}{c|rrr}\n",
    " &1&-8&-72&382&727&-2310\\\\\n",
    "3& &3&-15&-261&363&3270\\\\\n",
    "\\hline\n",
    " &1&-5&-87&121&1090&960&=P(3)\\\\\n",
    "\\end{array}\n",
    "$$"
   ]
  },
  {
   "cell_type": "code",
   "execution_count": 13,
   "id": "54e2be22-7d29-42a6-b02e-d6f6adff9497",
   "metadata": {},
   "outputs": [
    {
     "data": {
      "text/plain": [
       "960.0"
      ]
     },
     "execution_count": 13,
     "metadata": {},
     "output_type": "execute_result"
    }
   ],
   "source": [
    "P = p([-2310,727,382,-72,-8,1])\n",
    "P(3) # (x-3) IS NOT a factor of P"
   ]
  },
  {
   "cell_type": "code",
   "execution_count": 5,
   "id": "b1db1e89-29aa-4be6-9520-d5f10055a3a5",
   "metadata": {},
   "outputs": [
    {
     "data": {
      "text/plain": [
       "0.0"
      ]
     },
     "execution_count": 5,
     "metadata": {},
     "output_type": "execute_result"
    }
   ],
   "source": [
    "P(2) # (x-2) IS a factor of P"
   ]
  },
  {
   "cell_type": "markdown",
   "id": "0b94886f-7635-4123-9a27-a6e41006d5ba",
   "metadata": {},
   "source": [
    "[Ruffini's rule](https://www.youtube.com/playlist?list=PLbzVLFZiGEdQnmR2M2jDmi0nVHUF3WPyG) extends Horner's method to evaluate derivatives of polynomials.\n",
    "\n",
    "\\begin{align*}\n",
    " P^{(k)}(a)&=k!q_{(k)}(a)\\\\\n",
    " P'''(5)&=5!q_3(5)\n",
    "\\end{align*}\n",
    "\n",
    "\\begin{array}{c|rrr}\n",
    "5&1&-8&-72&382&727&-2310\\\\\n",
    "\\hline\n",
    "5&1&-5&-87&-53&462&0&P(5)=0\\\\\n",
    "\\hline\n",
    "5&1&2&-77&-438&-1728&\\times1!&P'(5)=-1728\\\\\n",
    "\\hline\n",
    "5&1&7&-42&-648&\\times2!&&P''(5)=-1296\\\\\n",
    "\\hline\n",
    " &1&12&18&\\times3!&&&P'''(5)=108\n",
    "\\end{array}"
   ]
  },
  {
   "cell_type": "code",
   "execution_count": 26,
   "id": "3d03fdf3-d9d1-4d47-a205-c0faf9982bb4",
   "metadata": {},
   "outputs": [
    {
     "data": {
      "text/plain": [
       "[0.0, -1728.0, -1296.0, 108.0]"
      ]
     },
     "execution_count": 26,
     "metadata": {},
     "output_type": "execute_result"
    }
   ],
   "source": [
    "[P.deriv(n)(5) for n in range(4)]"
   ]
  },
  {
   "cell_type": "markdown",
   "id": "aa2f9449-2ab2-4887-ae44-5b4fd0ce3d72",
   "metadata": {},
   "source": [
    "Graphical visualisations created using R `polynom` package"
   ]
  },
  {
   "cell_type": "markdown",
   "id": "f6bed143-fda2-40fa-b50a-3875803581f5",
   "metadata": {
    "jp-MarkdownHeadingCollapsed": true,
    "tags": []
   },
   "source": [
    "### Symbolic computations with `sympy`"
   ]
  },
  {
   "cell_type": "code",
   "execution_count": 1,
   "id": "afe47697-95e2-4a1d-a062-0fcdc9cf80fc",
   "metadata": {},
   "outputs": [
    {
     "name": "stdout",
     "output_type": "stream",
     "text": [
      "IPython console for SymPy 1.6.2 (Python 3.8.10-64-bit) (ground types: gmpy)\n",
      "\n",
      "These commands were executed:\n",
      ">>> from __future__ import division\n",
      ">>> from sympy import *\n",
      ">>> x, y, z, t = symbols('x y z t')\n",
      ">>> k, m, n = symbols('k m n', integer=True)\n",
      ">>> f, g, h = symbols('f g h', cls=Function)\n",
      ">>> init_printing()\n",
      "\n",
      "Documentation can be found at https://docs.sympy.org/1.6.2/\n",
      "\n"
     ]
    },
    {
     "data": {
      "image/png": "[encoded data removed]",
      "text/latex": [
       "$\\displaystyle \\left[ -42.3701545902301, \\  42.3701545902301\\right]$"
      ],
      "text/plain": [
       "[-42.3701545902301, 42.3701545902301]"
      ]
     },
     "execution_count": 1,
     "metadata": {},
     "output_type": "execute_result"
    }
   ],
   "source": [
    "import sympy as sp\n",
    "from sympy.abc import a,b,c,m,n,x,y,z,s,u,v,a,t\n",
    "import sympy.physics.units as i\n",
    "from sympy import init_session\n",
    "init_session()\n",
    "\n",
    "# SUVAT Equations\n",
    "uvat = sp.Eq(v, u + a*t)\n",
    "uvas = sp.Eq(v**2, u**2 + 2*a*s)\n",
    "utas = s - u*t - .5*a*t**2\n",
    "vuts = s - (v+u)/2*t\n",
    "svat = s - v*t + .5*a*t**2\n",
    "\n",
    "sp.solve(uvas.subs({a:-9.81, v:0, s:91.5}),u)"
   ]
  },
  {
   "cell_type": "code",
   "execution_count": 8,
   "id": "fcc5b437-9056-4d98-8215-9bd962994ea9",
   "metadata": {},
   "outputs": [
    {
     "data": {
      "image/png": "[encoded data removed]",
      "text/latex": [
       "$\\displaystyle \\left\\{ 7 : 1, \\  11 : 1, \\  13 : 1\\right\\}$"
      ],
      "text/plain": [
       "{7: 1, 11: 1, 13: 1}"
      ]
     },
     "execution_count": 8,
     "metadata": {},
     "output_type": "execute_result"
    }
   ],
   "source": [
    "sp.factorint(1001)"
   ]
  },
  {
   "cell_type": "code",
   "execution_count": 9,
   "id": "2c2bef41-7637-4fdc-a7cd-9b6c151f4fbc",
   "metadata": {},
   "outputs": [
    {
     "data": {
      "image/png": "[encoded data removed]",
      "text/latex": [
       "$\\displaystyle \\left[ 1, \\  7, \\  11, \\  13, \\  77, \\  91, \\  143, \\  1001\\right]$"
      ],
      "text/plain": [
       "[1, 7, 11, 13, 77, 91, 143, 1001]"
      ]
     },
     "execution_count": 9,
     "metadata": {},
     "output_type": "execute_result"
    }
   ],
   "source": [
    "sp.divisors(1001)"
   ]
  },
  {
   "cell_type": "code",
   "execution_count": 5,
   "id": "22da25e6-e329-4ca6-bb66-e343a4a8a8da",
   "metadata": {},
   "outputs": [
    {
     "data": {
      "text/latex": [
       "$\\displaystyle 4 m^{2} n^{2}$"
      ],
      "text/plain": [
       "4*m**2*n**2"
      ]
     },
     "execution_count": 5,
     "metadata": {},
     "output_type": "execute_result"
    }
   ],
   "source": [
    "sp.expand((m**2+n**2)**2-(m**2-n**2)**2)"
   ]
  },
  {
   "cell_type": "code",
   "execution_count": 7,
   "id": "8340a2f7-73ae-4d18-a4cc-46419d8dd74d",
   "metadata": {},
   "outputs": [
    {
     "data": {
      "text/latex": [
       "$\\displaystyle x^{3} + 2 x^{2} - 5 x - 6$"
      ],
      "text/plain": [
       "x**3 + 2*x**2 - 5*x - 6"
      ]
     },
     "execution_count": 7,
     "metadata": {},
     "output_type": "execute_result"
    }
   ],
   "source": [
    "exp = sp.expand((x-2)*(x+1)*(x+3))\n",
    "exp"
   ]
  },
  {
   "cell_type": "code",
   "execution_count": 8,
   "id": "4fcc999c-08fc-4e5a-8fc1-40903f38ae55",
   "metadata": {},
   "outputs": [
    {
     "data": {
      "text/latex": [
       "$\\displaystyle \\left(x - 2\\right) \\left(x + 1\\right) \\left(x + 3\\right)$"
      ],
      "text/plain": [
       "(x - 2)*(x + 1)*(x + 3)"
      ]
     },
     "execution_count": 8,
     "metadata": {},
     "output_type": "execute_result"
    }
   ],
   "source": [
    "sp.factor(exp)"
   ]
  },
  {
   "cell_type": "code",
   "execution_count": 6,
   "id": "fe82a47d-d55b-4805-8d26-2dc4df326eee",
   "metadata": {},
   "outputs": [
    {
     "data": {
      "image/png": "[encoded data removed]",
      "text/latex": [
       "$\\displaystyle \\left[ \\left( 2, \\  4\\right), \\  \\left( 4, \\  2\\right)\\right]$"
      ],
      "text/plain": [
       "[(2, 4), (4, 2)]"
      ]
     },
     "execution_count": 6,
     "metadata": {},
     "output_type": "execute_result"
    }
   ],
   "source": [
    "# More examples on solving\n",
    "# https://docs.sympy.org/latest/guides/solving/index.html\n",
    "\n",
    "eq1 = sp.Eq(x**2+y**2, 20)\n",
    "eq2 = sp.Eq(x+y, 6)\n",
    "\n",
    "sp.solve([eq1,eq2],x,y)"
   ]
  },
  {
   "cell_type": "code",
   "execution_count": 31,
   "id": "f876d32a-fc9c-4f25-90f8-3bcc2dcd9a08",
   "metadata": {},
   "outputs": [
    {
     "data": {
      "text/plain": [
       "[(-3/2, -10), (5, 3)]"
      ]
     },
     "execution_count": 31,
     "metadata": {},
     "output_type": "execute_result"
    }
   ],
   "source": [
    "eq1 = sp.Eq(2*x-y,7)\n",
    "eq2 = sp.Eq(x*y,15)\n",
    "\n",
    "sp.solve([eq1,eq2],x,y)"
   ]
  },
  {
   "cell_type": "code",
   "execution_count": 6,
   "id": "87cd0595-8c50-4865-b9cc-261941006871",
   "metadata": {},
   "outputs": [
    {
     "data": {
      "text/latex": [
       "$\\displaystyle - \\frac{1}{x^{2} + 1} + \\frac{1}{x^{2}}$"
      ],
      "text/plain": [
       "-1/(x**2 + 1) + x**(-2)"
      ]
     },
     "execution_count": 6,
     "metadata": {},
     "output_type": "execute_result"
    }
   ],
   "source": [
    "# https://mattpap.github.io/scipy-2011-tutorial/html/partfrac.html\n",
    "\n",
    "f = 1/(x**2*(x**2 + 1))\n",
    "sp.apart(f)"
   ]
  },
  {
   "cell_type": "code",
   "execution_count": 5,
   "id": "a3336a6c-f2e2-45f0-8fed-1343657fe653",
   "metadata": {},
   "outputs": [
    {
     "data": {
      "text/latex": [
       "$\\displaystyle \\sum_{x=1}^{10} \\left(m + x\\right)$"
      ],
      "text/plain": [
       "Sum(m + x, (x, 1, 10))"
      ]
     },
     "execution_count": 5,
     "metadata": {},
     "output_type": "execute_result"
    }
   ],
   "source": [
    "sp.Sum(x + m,(x,1,10))"
   ]
  },
  {
   "cell_type": "code",
   "execution_count": 8,
   "id": "2b72885a-97b0-46e5-b285-0dd056cacb87",
   "metadata": {},
   "outputs": [
    {
     "data": {
      "text/latex": [
       "$\\displaystyle 10 m + 55$"
      ],
      "text/plain": [
       "10*m + 55"
      ]
     },
     "execution_count": 8,
     "metadata": {},
     "output_type": "execute_result"
    }
   ],
   "source": [
    "sp.N(_).simplify().simplify()"
   ]
  },
  {
   "cell_type": "markdown",
   "id": "bc05daa9-92a0-48e6-8d87-4dd064041e0c",
   "metadata": {},
   "source": [
    "<!-- https://towardsdatascience.com/write-markdown-latex-in-the-jupyter-notebook-10985edb91fd -->\n",
    "\n",
    "Given : $\\pi = 3.14$ , $\\alpha = \\frac{3\\pi}{4}\\, rad$\n",
    "$$\n",
    "\\omega = 2\\pi f \\\\\n",
    "f = \\frac{c}{\\lambda}\\\\\n",
    "\\lambda_0=\\theta^2+\\delta\\\\\n",
    "\\Delta\\lambda = \\frac{1}{\\lambda^2}\n",
    "$$"
   ]
  },
  {
   "cell_type": "code",
   "execution_count": 11,
   "id": "1967df8e-7d45-4506-a66b-0a59755229ac",
   "metadata": {},
   "outputs": [
    {
     "data": {
      "image/png": "[encoded data removed]",
      "text/latex": [
       "$\\displaystyle \\left( \\text{m}, \\  \\text{kg}, \\  \\text{s}, \\  \\text{A}, \\  \\text{mol}, \\  \\text{cd}, \\  \\text{K}\\right)$"
      ],
      "text/plain": [
       "(meter, kilogram, second, ampere, mole, candela, kelvin)"
      ]
     },
     "execution_count": 11,
     "metadata": {},
     "output_type": "execute_result"
    }
   ],
   "source": [
    "si_base = i.si.SI._base_units\n",
    "si_base"
   ]
  },
  {
   "cell_type": "code",
   "execution_count": 7,
   "id": "208ec19d-70d0-4d97-9cf4-b5470568b5c8",
   "metadata": {},
   "outputs": [
    {
     "data": {
      "image/png": "[encoded data removed]",
      "text/latex": [
       "$\\displaystyle \\frac{\\text{kg} \\text{m}^{2}}{\\text{s}^{2}}$"
      ],
      "text/plain": [
       "              2\n",
       "kilogram⋅meter \n",
       "───────────────\n",
       "          2    \n",
       "    second     "
      ]
     },
     "execution_count": 7,
     "metadata": {},
     "output_type": "execute_result"
    }
   ],
   "source": [
    "i.joule.convert_to(si_base)"
   ]
  },
  {
   "cell_type": "code",
   "execution_count": 8,
   "id": "37ea9cd8-d862-4bcf-b8b7-6a637d0084f6",
   "metadata": {},
   "outputs": [
    {
     "data": {
      "image/png": "[encoded data removed]",
      "text/latex": [
       "$\\displaystyle \\frac{\\text{kg}}{\\text{A} \\text{s}^{2}}$"
      ],
      "text/plain": [
       "   kilogram   \n",
       "──────────────\n",
       "             2\n",
       "ampere⋅second "
      ]
     },
     "execution_count": 8,
     "metadata": {},
     "output_type": "execute_result"
    }
   ],
   "source": [
    "i.tesla.convert_to(si_base)"
   ]
  },
  {
   "cell_type": "code",
   "execution_count": 10,
   "id": "0a416b79-c3fc-4359-b0e4-442b3efa67e2",
   "metadata": {},
   "outputs": [
    {
     "data": {
      "image/png": "[encoded data removed]",
      "text/latex": [
       "$\\displaystyle \\frac{\\text{kg} \\text{m}^{2}}{\\text{A} \\text{s}^{2}}$"
      ],
      "text/plain": [
       "              2\n",
       "kilogram⋅meter \n",
       "───────────────\n",
       "              2\n",
       " ampere⋅second "
      ]
     },
     "execution_count": 10,
     "metadata": {},
     "output_type": "execute_result"
    }
   ],
   "source": [
    "i.Wb.convert_to(si_base)"
   ]
  },
  {
   "cell_type": "code",
   "execution_count": 18,
   "id": "a8d5132b-500e-4b04-91a9-486d36edf831",
   "metadata": {},
   "outputs": [
    {
     "data": {
      "image/png": "[encoded data removed]",
      "text/latex": [
       "$\\displaystyle \\frac{\\text{kg} \\text{m}^{2}}{\\text{A}^{2} \\text{s}^{3}}$"
      ],
      "text/plain": [
       "              2\n",
       "kilogram⋅meter \n",
       "───────────────\n",
       "      2       3\n",
       "ampere ⋅second "
      ]
     },
     "execution_count": 18,
     "metadata": {},
     "output_type": "execute_result"
    }
   ],
   "source": [
    "i.convert_to(i.ohm,si_base).n()"
   ]
  },
  {
   "cell_type": "code",
   "execution_count": 24,
   "id": "b501a4a7-6aa9-462e-bf3c-c014c90af5ec",
   "metadata": {},
   "outputs": [
    {
     "data": {
      "image/png": "[encoded data removed]",
      "text/latex": [
       "$\\displaystyle 4.5 \\cdot 10^{9} \\text{mm}^{3}$"
      ],
      "text/plain": [
       "                 3\n",
       "4.5e+9⋅millimeter "
      ]
     },
     "execution_count": 24,
     "metadata": {},
     "output_type": "execute_result"
    }
   ],
   "source": [
    "l = 3*i.m\n",
    "b = 50*i.cm\n",
    "h = 3*i.m\n",
    "\n",
    "v = l*b*h\n",
    "i.convert_to(v,i.mm).n(3)"
   ]
  },
  {
   "cell_type": "code",
   "execution_count": 34,
   "id": "13f8ae63-7cac-45b3-a1b8-f50a50886773",
   "metadata": {},
   "outputs": [
    {
     "data": {
      "image/png": "[encoded data removed]",
      "text/latex": [
       "$\\displaystyle 2.54 \\text{cm}$"
      ],
      "text/plain": [
       "2.54⋅centimeter"
      ]
     },
     "execution_count": 34,
     "metadata": {},
     "output_type": "execute_result"
    }
   ],
   "source": [
    "i.inch.convert_to(i.cm).n(3)"
   ]
  },
  {
   "cell_type": "code",
   "execution_count": 44,
   "id": "9e352c1f-1802-4252-932d-77f097956ea4",
   "metadata": {},
   "outputs": [
    {
     "data": {
      "image/png": "[encoded data removed]",
      "text/latex": [
       "$\\displaystyle 6.89 \\text{kPa}$"
      ],
      "text/plain": [
       "6.89⋅kilopascal"
      ]
     },
     "execution_count": 44,
     "metadata": {},
     "output_type": "execute_result"
    }
   ],
   "source": [
    "i.psi.convert_to(i.kPa).n(3)"
   ]
  },
  {
   "cell_type": "code",
   "execution_count": 47,
   "id": "c28fa8a8-f1a9-44ba-a992-1a7a3b00f383",
   "metadata": {},
   "outputs": [
    {
     "data": {
      "image/png": "[encoded data removed]",
      "text/latex": [
       "$\\displaystyle \\frac{3.6 \\text{km}}{\\text{hour}}$"
      ],
      "text/plain": [
       "3.6⋅kilometer\n",
       "─────────────\n",
       "     hour    "
      ]
     },
     "execution_count": 47,
     "metadata": {},
     "output_type": "execute_result"
    }
   ],
   "source": [
    "i.m.convert_to(i.km)/i.s.convert_to(i.h).n(3)"
   ]
  },
  {
   "cell_type": "code",
   "execution_count": 49,
   "id": "d1a1dab3-8cf5-4012-82a8-ce608ee3a5f1",
   "metadata": {},
   "outputs": [
    {
     "data": {
      "image/png": "[encoded data removed]",
      "text/latex": [
       "$\\displaystyle \\frac{\\text{kg} \\text{m}}{\\text{s}^{2}}$"
      ],
      "text/plain": [
       "kilogram⋅meter\n",
       "──────────────\n",
       "         2    \n",
       "   second     "
      ]
     },
     "execution_count": 49,
     "metadata": {},
     "output_type": "execute_result"
    }
   ],
   "source": [
    "i.newton.convert_to(si_base)"
   ]
  },
  {
   "cell_type": "code",
   "execution_count": 50,
   "id": "695adb81-80dc-4a0e-9dfe-642bd8d6b620",
   "metadata": {},
   "outputs": [
    {
     "data": {
      "image/png": "[encoded data removed]",
      "text/latex": [
       "$\\displaystyle \\frac{6.9 \\cdot 10^{3} \\text{kg}}{\\text{m} \\text{s}^{2}}$"
      ],
      "text/plain": [
       "6.9e+3⋅kilogram\n",
       "───────────────\n",
       "             2 \n",
       " meter⋅second  "
      ]
     },
     "execution_count": 50,
     "metadata": {},
     "output_type": "execute_result"
    }
   ],
   "source": [
    "i.psi.convert_to(si_base).n(3)"
   ]
  },
  {
   "cell_type": "code",
   "execution_count": 51,
   "id": "b5930261-96c9-4b3e-b341-948eda1a2403",
   "metadata": {},
   "outputs": [
    {
     "data": {
      "image/png": "[encoded data removed]",
      "text/latex": [
       "$\\displaystyle \\frac{\\text{kg} \\text{m}}{\\text{s}^{2}}$"
      ],
      "text/plain": [
       "kilogram⋅meter\n",
       "──────────────\n",
       "         2    \n",
       "   second     "
      ]
     },
     "execution_count": 51,
     "metadata": {},
     "output_type": "execute_result"
    }
   ],
   "source": [
    "i.newton.convert_to(si_base).n(3)"
   ]
  },
  {
   "cell_type": "code",
   "execution_count": 38,
   "id": "a49a0704-c6bd-424c-a990-9359c3bde834",
   "metadata": {},
   "outputs": [
    {
     "data": {
      "text/plain": [
       "['g',\n",
       " 'kg',\n",
       " 'mg',\n",
       " 'ug',\n",
       " 'amu',\n",
       " 'mmu',\n",
       " 'amus',\n",
       " 'gram',\n",
       " 'mmus',\n",
       " 'grams',\n",
       " 'pound',\n",
       " 'pounds',\n",
       " 'kilogram',\n",
       " 'kilograms',\n",
       " 'microgram',\n",
       " 'milligram',\n",
       " 'micrograms',\n",
       " 'milligrams',\n",
       " 'planck_mass',\n",
       " 'milli_mass_unit',\n",
       " 'atomic_mass_unit',\n",
       " 'atomic_mass_constant']"
      ]
     },
     "execution_count": 38,
     "metadata": {},
     "output_type": "execute_result"
    }
   ],
   "source": [
    "i.find_unit('mass')"
   ]
  },
  {
   "cell_type": "markdown",
   "id": "3526978f-97e1-4b60-aaa4-975445c0f824",
   "metadata": {},
   "source": [
    "For more examples of Sympy Calculus:\n",
    "http://prob140.org/sp17/textbook/ch17/Calculus_in_SymPy.html"
   ]
  },
  {
   "cell_type": "markdown",
   "id": "49605f6a-5dc9-49d0-bc27-5f38bc9b8ed8",
   "metadata": {
    "jp-MarkdownHeadingCollapsed": true,
    "tags": []
   },
   "source": [
    "### Partial fractions"
   ]
  },
  {
   "cell_type": "code",
   "execution_count": 7,
   "id": "08dd3fb1-73db-4afa-89f5-0fcb487bbd67",
   "metadata": {},
   "outputs": [],
   "source": [
    "https://mattpap.github.io/scipy-2011-tutorial/html/partfrac.html\n",
    "\n",
    "# import sympy\n",
    "from sympy import *\n",
    "x, y, z = symbols('x y z')\n",
    "gfg_exp = (x**2 + 2 * x + 1)/(x**2 + x)\n",
    "\n",
    "# Using sympy.apart() method\n",
    "gfg_apart = apart(gfg_exp)"
   ]
  },
  {
   "cell_type": "code",
   "execution_count": 6,
   "id": "219ef412-213b-4d94-97dc-402bb37abdbe",
   "metadata": {},
   "outputs": [
    {
     "data": {
      "text/latex": [
       "$\\displaystyle \\frac{x^{2} + 2 x + 1}{x^{2} + x}$"
      ],
      "text/plain": [
       "(x**2 + 2*x + 1)/(x**2 + x)"
      ]
     },
     "execution_count": 6,
     "metadata": {},
     "output_type": "execute_result"
    }
   ],
   "source": [
    "gfg_exp"
   ]
  },
  {
   "cell_type": "code",
   "execution_count": 5,
   "id": "bbc82f7a-1fec-48ee-8a0b-275853e500c9",
   "metadata": {},
   "outputs": [
    {
     "data": {
      "text/latex": [
       "$\\displaystyle 1 + \\frac{1}{x}$"
      ],
      "text/plain": [
       "1 + 1/x"
      ]
     },
     "execution_count": 5,
     "metadata": {},
     "output_type": "execute_result"
    }
   ],
   "source": [
    "gfg_apart"
   ]
  },
  {
   "cell_type": "markdown",
   "id": "9034242d-f930-401f-aed3-5e2d2d7a60d9",
   "metadata": {},
   "source": [
    "# Class Workings"
   ]
  },
  {
   "cell_type": "markdown",
   "id": "bb114314-dd47-4098-bf43-23c0d0c1abe3",
   "metadata": {},
   "source": [
    "### `uncertainties` package"
   ]
  },
  {
   "cell_type": "code",
   "execution_count": 1,
   "id": "02bfb08d-20ca-42eb-be36-960fd77e259d",
   "metadata": {},
   "outputs": [
    {
     "data": {
      "text/plain": [
       "60.0+/-6.0"
      ]
     },
     "execution_count": 1,
     "metadata": {},
     "output_type": "execute_result"
    }
   ],
   "source": [
    "# https://pythonhosted.org/uncertainties/#\n",
    "\n",
    "from uncertainties import ufloat as u\n",
    "from uncertainties.umath import *  # sin(), etc.\n",
    "\n",
    "osc01 = u(3, 0.3)\n",
    "osc20 = osc01 * 20\n",
    "osc20"
   ]
  },
  {
   "cell_type": "code",
   "execution_count": 2,
   "id": "444b14bc-da5c-4c21-a583-e7392301fb39",
   "metadata": {},
   "outputs": [
    {
     "data": {
      "text/plain": [
       "3.0+/-0.015"
      ]
     },
     "execution_count": 2,
     "metadata": {},
     "output_type": "execute_result"
    }
   ],
   "source": [
    "u(60,.3)/20"
   ]
  },
  {
   "cell_type": "code",
   "execution_count": null,
   "id": "65a24262-e557-42cc-bca8-19259ab193d2",
   "metadata": {},
   "outputs": [],
   "source": []
  },
  {
   "cell_type": "code",
   "execution_count": 5,
   "id": "62c36b31-fa95-4c4b-b8fa-3869347daffa",
   "metadata": {},
   "outputs": [
    {
     "name": "stderr",
     "output_type": "stream",
     "text": [
      "/usr/local/lib/python3.8/dist-packages/pandas/core/arraylike.py:402: RuntimeWarning: invalid value encountered in log\n",
      "  result = getattr(ufunc, method)(*inputs, **kwargs)\n"
     ]
    },
    {
     "data": {
      "text/html": [
       "<div>\n",
       "<style scoped>\n",
       "    .dataframe tbody tr th:only-of-type {\n",
       "        vertical-align: middle;\n",
       "    }\n",
       "\n",
       "    .dataframe tbody tr th {\n",
       "        vertical-align: top;\n",
       "    }\n",
       "\n",
       "    .dataframe thead th {\n",
       "        text-align: right;\n",
       "    }\n",
       "</style>\n",
       "<table border=\"1\" class=\"dataframe\">\n",
       "  <thead>\n",
       "    <tr style=\"text-align: right;\">\n",
       "      <th></th>\n",
       "      <th>0</th>\n",
       "      <th>1</th>\n",
       "      <th>2</th>\n",
       "      <th>3</th>\n",
       "      <th>4</th>\n",
       "      <th>5</th>\n",
       "      <th>6</th>\n",
       "      <th>7</th>\n",
       "      <th>8</th>\n",
       "      <th>9</th>\n",
       "      <th>10</th>\n",
       "    </tr>\n",
       "  </thead>\n",
       "  <tbody>\n",
       "    <tr>\n",
       "      <th>x</th>\n",
       "      <td>-5.000000</td>\n",
       "      <td>-4.000000</td>\n",
       "      <td>-3.000000</td>\n",
       "      <td>-2.000000</td>\n",
       "      <td>-1.0</td>\n",
       "      <td>0.0</td>\n",
       "      <td>1.0</td>\n",
       "      <td>2.000000</td>\n",
       "      <td>3.000000</td>\n",
       "      <td>4.000000</td>\n",
       "      <td>5.000000</td>\n",
       "    </tr>\n",
       "    <tr>\n",
       "      <th>y</th>\n",
       "      <td>73.000000</td>\n",
       "      <td>46.000000</td>\n",
       "      <td>25.000000</td>\n",
       "      <td>10.000000</td>\n",
       "      <td>1.0</td>\n",
       "      <td>-2.0</td>\n",
       "      <td>1.0</td>\n",
       "      <td>10.000000</td>\n",
       "      <td>25.000000</td>\n",
       "      <td>46.000000</td>\n",
       "      <td>73.000000</td>\n",
       "    </tr>\n",
       "    <tr>\n",
       "      <th>z</th>\n",
       "      <td>4.290459</td>\n",
       "      <td>3.828641</td>\n",
       "      <td>3.218876</td>\n",
       "      <td>2.302585</td>\n",
       "      <td>0.0</td>\n",
       "      <td>NaN</td>\n",
       "      <td>0.0</td>\n",
       "      <td>2.302585</td>\n",
       "      <td>3.218876</td>\n",
       "      <td>3.828641</td>\n",
       "      <td>4.290459</td>\n",
       "    </tr>\n",
       "  </tbody>\n",
       "</table>\n",
       "</div>"
      ],
      "text/plain": [
       "          0          1          2          3    4    5    6          7   \\\n",
       "x  -5.000000  -4.000000  -3.000000  -2.000000 -1.0  0.0  1.0   2.000000   \n",
       "y  73.000000  46.000000  25.000000  10.000000  1.0 -2.0  1.0  10.000000   \n",
       "z   4.290459   3.828641   3.218876   2.302585  0.0  NaN  0.0   2.302585   \n",
       "\n",
       "          8          9          10  \n",
       "x   3.000000   4.000000   5.000000  \n",
       "y  25.000000  46.000000  73.000000  \n",
       "z   3.218876   3.828641   4.290459  "
      ]
     },
     "execution_count": 5,
     "metadata": {},
     "output_type": "execute_result"
    }
   ],
   "source": [
    "import pandas as pd\n",
    "import numpy as np\n",
    "\n",
    "df = pd.DataFrame({'x':range(-5,6)})\\\n",
    "        .assign(y=lambda x: 3*x.x**2 - 2,\n",
    "              z=lambda x: np.log(x.y))\n",
    "df.transpose()"
   ]
  },
  {
   "cell_type": "code",
   "execution_count": 25,
   "id": "d657ec8d-205f-4dec-9723-0241751c0557",
   "metadata": {},
   "outputs": [
    {
     "data": {
      "text/plain": [
       "<AxesSubplot: xlabel='x', ylabel='y'>"
      ]
     },
     "execution_count": 25,
     "metadata": {},
     "output_type": "execute_result"
    },
    {
     "data": {
      "image/png": "[encoded data removed]",
      "text/plain": [
       "<Figure size 864x504 with 1 Axes>"
      ]
     },
     "metadata": {
      "image/png": {
       "height": 424,
       "width": 720
      },
      "needs_background": "light"
     },
     "output_type": "display_data"
    }
   ],
   "source": [
    "import seaborn as sns\n",
    "\n",
    "sns.scatterplot(df,x='x',y='y')\n",
    "sns.rugplot(df,x='x',y='y')"
   ]
  },
  {
   "cell_type": "code",
   "execution_count": 7,
   "id": "47408c07-6573-4fbc-901a-9453fd04fa5e",
   "metadata": {},
   "outputs": [
    {
     "data": {
      "text/plain": [
       "<AxesSubplot: >"
      ]
     },
     "execution_count": 7,
     "metadata": {},
     "output_type": "execute_result"
    },
    {
     "data": {
      "image/png": "[encoded data removed]",
      "text/plain": [
       "<Figure size 864x504 with 1 Axes>"
      ]
     },
     "metadata": {
      "image/png": {
       "height": 411,
       "width": 697
      },
      "needs_background": "light"
     },
     "output_type": "display_data"
    }
   ],
   "source": [
    "df.z.plot()"
   ]
  },
  {
   "cell_type": "code",
   "execution_count": null,
   "id": "1b4d1357-530f-415e-9077-b0bf4d52936f",
   "metadata": {},
   "outputs": [],
   "source": []
  },
  {
   "cell_type": "code",
   "execution_count": null,
   "id": "d967dcc8-8c96-4e67-aa29-9b3a95e4e7c2",
   "metadata": {},
   "outputs": [],
   "source": []
  },
  {
   "cell_type": "code",
   "execution_count": null,
   "id": "1c3fe938-b4e9-47c1-b8c0-f5db88e32d6a",
   "metadata": {},
   "outputs": [],
   "source": []
  },
  {
   "cell_type": "code",
   "execution_count": null,
   "id": "fe73a94d-775c-4b46-bcaa-8fac45c50359",
   "metadata": {},
   "outputs": [],
   "source": []
  },
  {
   "cell_type": "code",
   "execution_count": null,
   "id": "041a39ba-56d3-4843-aa32-d17810cc7b5c",
   "metadata": {},
   "outputs": [],
   "source": []
  },
  {
   "cell_type": "code",
   "execution_count": null,
   "id": "4438870f-9c3f-4af0-8c48-942654b49eda",
   "metadata": {},
   "outputs": [],
   "source": []
  },
  {
   "cell_type": "code",
   "execution_count": null,
   "id": "f8155625-2fd9-4fee-a452-4fb200d8459b",
   "metadata": {},
   "outputs": [],
   "source": []
  },
  {
   "cell_type": "code",
   "execution_count": null,
   "id": "ad9a399e-bab0-4997-80ac-091b428ad2bf",
   "metadata": {},
   "outputs": [],
   "source": []
  },
  {
   "cell_type": "code",
   "execution_count": null,
   "id": "1ddc26de-326f-4352-80fa-da174cd0b2e7",
   "metadata": {},
   "outputs": [],
   "source": []
  },
  {
   "cell_type": "code",
   "execution_count": null,
   "id": "b8974dd7-2ed0-462a-9ef0-559199b06401",
   "metadata": {},
   "outputs": [],
   "source": []
  },
  {
   "cell_type": "code",
   "execution_count": null,
   "id": "bdfa242f-1a53-4686-94d1-682b97ed9402",
   "metadata": {},
   "outputs": [],
   "source": []
  },
  {
   "cell_type": "code",
   "execution_count": null,
   "id": "b8239ccb-8406-411b-b5ab-4ae27d97f85e",
   "metadata": {},
   "outputs": [],
   "source": []
  },
  {
   "cell_type": "code",
   "execution_count": null,
   "id": "a10493db-cda5-4aa7-953f-aa0a000b56a4",
   "metadata": {},
   "outputs": [],
   "source": []
  },
  {
   "cell_type": "code",
   "execution_count": null,
   "id": "74f78798-10b0-4181-bf9a-5807f0992584",
   "metadata": {},
   "outputs": [],
   "source": []
  },
  {
   "cell_type": "code",
   "execution_count": null,
   "id": "b3457b15-f495-4adc-a33f-6ead99311c13",
   "metadata": {},
   "outputs": [],
   "source": []
  },
  {
   "cell_type": "code",
   "execution_count": null,
   "id": "7632a601-e892-4261-9cf7-e3dd993c5ab9",
   "metadata": {},
   "outputs": [],
   "source": []
  },
  {
   "cell_type": "code",
   "execution_count": null,
   "id": "063fc9dd-f1cc-4709-8999-6f6be39aea44",
   "metadata": {},
   "outputs": [],
   "source": []
  },
  {
   "cell_type": "code",
   "execution_count": null,
   "id": "bac66584-3932-487c-ba90-5011f95e7f84",
   "metadata": {},
   "outputs": [],
   "source": []
  },
  {
   "cell_type": "code",
   "execution_count": null,
   "id": "7948da25-f7e7-45dd-9159-dda8893dcb38",
   "metadata": {},
   "outputs": [],
   "source": []
  },
  {
   "cell_type": "code",
   "execution_count": null,
   "id": "39f0e324-86c2-405e-8f86-4a3d7a1c1822",
   "metadata": {},
   "outputs": [],
   "source": []
  },
  {
   "cell_type": "code",
   "execution_count": null,
   "id": "10c784d6-053b-419e-a2cb-86bdcf2d9070",
   "metadata": {},
   "outputs": [],
   "source": []
  },
  {
   "cell_type": "code",
   "execution_count": null,
   "id": "75d6a5a3-9815-4ae4-a915-78f445c8eeca",
   "metadata": {},
   "outputs": [],
   "source": []
  },
  {
   "cell_type": "code",
   "execution_count": null,
   "id": "78193caa-1a84-4db6-9b59-bb0ad6802c30",
   "metadata": {},
   "outputs": [],
   "source": []
  },
  {
   "cell_type": "code",
   "execution_count": null,
   "id": "1e00a8d8-38d1-4104-84b5-171f46edb381",
   "metadata": {},
   "outputs": [],
   "source": []
  },
  {
   "cell_type": "code",
   "execution_count": null,
   "id": "7854abbf-a46f-439f-85ea-ed865fdabdc0",
   "metadata": {},
   "outputs": [],
   "source": []
  },
  {
   "cell_type": "code",
   "execution_count": null,
   "id": "34bc6150-7361-43b6-ae7b-9b2ba9bc1ad1",
   "metadata": {},
   "outputs": [],
   "source": []
  },
  {
   "cell_type": "code",
   "execution_count": null,
   "id": "89f79360-9c7b-400f-8092-500717546497",
   "metadata": {},
   "outputs": [],
   "source": []
  },
  {
   "cell_type": "code",
   "execution_count": null,
   "id": "26e2b64d-0325-40ce-b44c-795df2a38433",
   "metadata": {},
   "outputs": [],
   "source": []
  },
  {
   "cell_type": "code",
   "execution_count": null,
   "id": "96c32464-d176-4750-9a55-4038888d7115",
   "metadata": {},
   "outputs": [],
   "source": []
  },
  {
   "cell_type": "code",
   "execution_count": null,
   "id": "9752fdfd-77d2-4e21-b592-e6ce599ad422",
   "metadata": {},
   "outputs": [],
   "source": []
  },
  {
   "cell_type": "code",
   "execution_count": null,
   "id": "c887b3d7-7860-48a2-b86f-a09ba2725f19",
   "metadata": {},
   "outputs": [],
   "source": []
  },
  {
   "cell_type": "code",
   "execution_count": null,
   "id": "bf207303-f6e6-4940-947a-a407c7a527d6",
   "metadata": {},
   "outputs": [],
   "source": []
  },
  {
   "cell_type": "code",
   "execution_count": null,
   "id": "227a9fbb-1017-42b3-a30c-97c84dbaee7b",
   "metadata": {},
   "outputs": [],
   "source": []
  }
 ],
 "metadata": {
  "kernelspec": {
   "display_name": "Python 3 (ipykernel)",
   "language": "python",
   "name": "python3"
  },
  "language_info": {
   "codemirror_mode": {
    "name": "ipython",
    "version": 3
   },
   "file_extension": ".py",
   "mimetype": "text/x-python",
   "name": "python",
   "nbconvert_exporter": "python",
   "pygments_lexer": "ipython3",
   "version": "3.10.6"
  },
  "vscode": {
   "interpreter": {
    "hash": "916dbcbb3f70747c44a77c7bcd40155683ae19c65e1c03b4aa3499c5328201f1"
   }
  }
 },
 "nbformat": 4,
 "nbformat_minor": 5
}
