{
 "cells": [
  {
   "cell_type": "code",
   "execution_count": 1,
   "id": "38629c61-6904-429a-ae6c-52aaad981b05",
   "metadata": {},
   "outputs": [
    {
     "name": "stdout",
     "output_type": "stream",
     "text": [
      "Bash.ipynb  \u001b[0m\u001b[01;34mPyR4MDS-master\u001b[0m  \u001b[01;31mPyR4MDS-master.zip\u001b[0m\n"
     ]
    }
   ],
   "source": [
    "ls"
   ]
  },
  {
   "cell_type": "code",
   "execution_count": 31,
   "id": "35e42c0e-5463-406e-8fc3-d2ab7e451cd6",
   "metadata": {
    "collapsed": true,
    "jupyter": {
     "outputs_hidden": true
    },
    "tags": []
   },
   "outputs": [
    {
     "name": "stdout",
     "output_type": "stream",
     "text": [
      "Archive:  PyR4MDS-master.zip\n",
      "b07e521722ae98c2384a085ed762a829c7de5948\n",
      "   creating: PyR4MDS-master/\n",
      " extracting: PyR4MDS-master/.gitignore  \n",
      "  inflating: PyR4MDS-master/PyR4MDS.Rproj  \n",
      "  inflating: PyR4MDS-master/README.md  \n",
      "  inflating: PyR4MDS-master/book_cover.jpeg  \n",
      "   creating: PyR4MDS-master/ch02-r4py/\n",
      "   creating: PyR4MDS-master/ch02-r4py/data/\n",
      "  inflating: PyR4MDS-master/ch02-r4py/data/diamonds.csv  \n",
      "  inflating: PyR4MDS-master/ch02-r4py/data/diamonds_noheader.csv  \n",
      "  inflating: PyR4MDS-master/ch02-r4py/data/irrigation.csv  \n",
      "  inflating: PyR4MDS-master/ch02-r4py/r4py.R  \n",
      "   creating: PyR4MDS-master/ch03-py4r/\n",
      "   creating: PyR4MDS-master/ch03-py4r/data/\n",
      "  inflating: PyR4MDS-master/ch03-py4r/data/plant_growth.csv  \n",
      "  inflating: PyR4MDS-master/ch03-py4r/py4r.py  \n",
      "   creating: PyR4MDS-master/ch04-format/\n",
      " extracting: PyR4MDS-master/ch04-format/.gitignore  \n",
      "  inflating: PyR4MDS-master/ch04-format/ch04-format.Rproj  \n",
      "  inflating: PyR4MDS-master/ch04-format/data_format.Rmd  \n",
      "  inflating: PyR4MDS-master/ch04-format/data_format.ipynb  \n",
      "  inflating: PyR4MDS-master/ch04-format/requirements.txt  \n",
      "   creating: PyR4MDS-master/ch05-workflow/\n",
      " extracting: PyR4MDS-master/ch05-workflow/.gitignore  \n",
      "  inflating: PyR4MDS-master/ch05-workflow/ch05-workflow.Rproj  \n",
      "  inflating: PyR4MDS-master/ch05-workflow/ml_api.py  \n",
      "  inflating: PyR4MDS-master/ch05-workflow/requirements.txt  \n",
      "  inflating: PyR4MDS-master/ch05-workflow/train_model.py  \n",
      "  inflating: PyR4MDS-master/ch05-workflow/workflow.Rmd  \n",
      "  inflating: PyR4MDS-master/ch05-workflow/workflow.ipynb  \n",
      "   creating: PyR4MDS-master/ch06-reticulate/\n",
      "  inflating: PyR4MDS-master/ch06-reticulate/0 - Setup.R  \n",
      "  inflating: PyR4MDS-master/ch06-reticulate/1 - Activate.R  \n",
      "  inflating: PyR4MDS-master/ch06-reticulate/2 - Passing objects.Rmd  \n",
      "  inflating: PyR4MDS-master/ch06-reticulate/3 - Using functions.Rmd  \n",
      "  inflating: PyR4MDS-master/ch06-reticulate/4 - Calling scripts.Rmd  \n",
      "  inflating: PyR4MDS-master/ch06-reticulate/4b - Calling scripts.R  \n",
      "  inflating: PyR4MDS-master/ch06-reticulate/5 - Interactive mode.R  \n",
      "  inflating: PyR4MDS-master/ch06-reticulate/6 - Interactive document.Rmd  \n",
      "  inflating: PyR4MDS-master/ch06-reticulate/SVC_iris.py  \n",
      "   creating: PyR4MDS-master/ch07-case-study/\n",
      "  inflating: PyR4MDS-master/ch07-case-study/.DS_Store  \n",
      " extracting: PyR4MDS-master/ch07-case-study/.gitignore  \n",
      "  inflating: PyR4MDS-master/ch07-case-study/case_study.Rmd  \n",
      "  inflating: PyR4MDS-master/ch07-case-study/case_study_plots.Rmd  \n",
      "  inflating: PyR4MDS-master/ch07-case-study/ch07-case-study.Rproj  \n",
      "  inflating: PyR4MDS-master/ch07-case-study/leaflet.Rmd  \n",
      "  inflating: PyR4MDS-master/ch07-case-study/ml.py  \n"
     ]
    }
   ],
   "source": [
    "unzip PyR4MDS-master.zip"
   ]
  },
  {
   "cell_type": "code",
   "execution_count": 30,
   "id": "0ad87b08-962f-44cf-921b-67e5251f73c5",
   "metadata": {},
   "outputs": [],
   "source": [
    "rm -r PyR4MDS-master"
   ]
  },
  {
   "cell_type": "code",
   "execution_count": 2,
   "id": "5147b6d3-1aa5-4310-b4f0-1b78df65f7e9",
   "metadata": {},
   "outputs": [
    {
     "name": "stdout",
     "output_type": "stream",
     "text": [
      "\u001b[01;34m.\u001b[00m\n",
      "├── PyR4MDS.Rproj\n",
      "├── README.md\n",
      "├── \u001b[01;35mbook_cover.jpeg\u001b[00m\n",
      "├── \u001b[01;34mch02-r4py\u001b[00m\n",
      "│   ├── \u001b[01;34mdata\u001b[00m\n",
      "│   │   ├── diamonds.csv\n",
      "│   │   ├── diamonds_noheader.csv\n",
      "│   │   └── irrigation.csv\n",
      "│   └── r4py.R\n",
      "├── \u001b[01;34mch03-py4r\u001b[00m\n",
      "│   ├── \u001b[01;34mdata\u001b[00m\n",
      "│   │   └── plant_growth.csv\n",
      "│   └── py4r.py\n",
      "├── \u001b[01;34mch04-format\u001b[00m\n",
      "│   ├── ch04-format.Rproj\n",
      "│   ├── data_format.Rmd\n",
      "│   ├── data_format.ipynb\n",
      "│   └── requirements.txt\n",
      "├── \u001b[01;34mch05-workflow\u001b[00m\n",
      "│   ├── ch05-workflow.Rproj\n",
      "│   ├── ml_api.py\n",
      "│   ├── requirements.txt\n",
      "│   ├── train_model.py\n",
      "│   ├── workflow.Rmd\n",
      "│   └── workflow.ipynb\n",
      "├── \u001b[01;34mch06-reticulate\u001b[00m\n",
      "│   ├── 0 - Setup.R\n",
      "│   ├── 1 - Activate.R\n",
      "│   ├── 2 - Passing objects.Rmd\n",
      "│   ├── 3 - Using functions.Rmd\n",
      "│   ├── 4 - Calling scripts.Rmd\n",
      "│   ├── 4b - Calling scripts.R\n",
      "│   ├── 5 - Interactive mode.R\n",
      "│   ├── 6 - Interactive document.Rmd\n",
      "│   └── SVC_iris.py\n",
      "└── \u001b[01;34mch07-case-study\u001b[00m\n",
      "    ├── case_study.Rmd\n",
      "    ├── case_study_plots.Rmd\n",
      "    ├── ch07-case-study.Rproj\n",
      "    ├── leaflet.Rmd\n",
      "    └── ml.py\n",
      "\n",
      "8 directories, 33 files\n"
     ]
    }
   ],
   "source": [
    "cd PyR4MDS-master/ch03-py4r\n",
    "tree"
   ]
  },
  {
   "cell_type": "code",
   "execution_count": 5,
   "id": "a16571c5-9464-4fbe-8ba2-eb071f2f0339",
   "metadata": {},
   "outputs": [
    {
     "name": "stdout",
     "output_type": "stream",
     "text": [
      "[NbConvertApp] Converting notebook py4r.py to notebook\n",
      "Traceback (most recent call last):\n",
      "  File \"/usr/local/lib/python3.8/dist-packages/nbformat/reader.py\", line 18, in parse_json\n",
      "    nb_dict = json.loads(s, **kwargs)\n",
      "  File \"/usr/lib/python3.8/json/__init__.py\", line 357, in loads\n",
      "    return _default_decoder.decode(s)\n",
      "  File \"/usr/lib/python3.8/json/decoder.py\", line 337, in decode\n",
      "    obj, end = self.raw_decode(s, idx=_w(s, 0).end())\n",
      "  File \"/usr/lib/python3.8/json/decoder.py\", line 355, in raw_decode\n",
      "    raise JSONDecodeError(\"Expecting value\", s, err.value) from None\n",
      "json.decoder.JSONDecodeError: Expecting value: line 1 column 1 (char 0)\n",
      "\n",
      "The above exception was the direct cause of the following exception:\n",
      "\n",
      "Traceback (most recent call last):\n",
      "  File \"/usr/local/bin/jupyter-nbconvert\", line 8, in <module>\n",
      "    sys.exit(main())\n",
      "  File \"/usr/local/lib/python3.8/dist-packages/jupyter_core/application.py\", line 269, in launch_instance\n",
      "    return super().launch_instance(argv=argv, **kwargs)\n",
      "  File \"/usr/local/lib/python3.8/dist-packages/traitlets/config/application.py\", line 846, in launch_instance\n",
      "    app.start()\n",
      "  File \"/usr/local/lib/python3.8/dist-packages/nbconvert/nbconvertapp.py\", line 426, in start\n",
      "    self.convert_notebooks()\n",
      "  File \"/usr/local/lib/python3.8/dist-packages/nbconvert/nbconvertapp.py\", line 600, in convert_notebooks\n",
      "    self.convert_single_notebook(notebook_filename)\n",
      "  File \"/usr/local/lib/python3.8/dist-packages/nbconvert/nbconvertapp.py\", line 563, in convert_single_notebook\n",
      "    output, resources = self.export_single_notebook(\n",
      "  File \"/usr/local/lib/python3.8/dist-packages/nbconvert/nbconvertapp.py\", line 491, in export_single_notebook\n",
      "    output, resources = self.exporter.from_filename(\n",
      "  File \"/usr/local/lib/python3.8/dist-packages/nbconvert/exporters/exporter.py\", line 190, in from_filename\n",
      "    return self.from_file(f, resources=resources, **kw)\n",
      "  File \"/usr/local/lib/python3.8/dist-packages/nbconvert/exporters/exporter.py\", line 208, in from_file\n",
      "    nbformat.read(file_stream, as_version=4), resources=resources, **kw\n",
      "  File \"/usr/local/lib/python3.8/dist-packages/nbformat/__init__.py\", line 170, in read\n",
      "    return reads(buf, as_version, capture_validation_error, **kwargs)\n",
      "  File \"/usr/local/lib/python3.8/dist-packages/nbformat/__init__.py\", line 88, in reads\n",
      "    nb = reader.reads(s, **kwargs)\n",
      "  File \"/usr/local/lib/python3.8/dist-packages/nbformat/reader.py\", line 71, in reads\n",
      "    nb_dict = parse_json(s, **kwargs)\n",
      "  File \"/usr/local/lib/python3.8/dist-packages/nbformat/reader.py\", line 21, in parse_json\n",
      "    raise NotJSONError((\"Notebook does not appear to be JSON: %r\" % s)[:77] + \"...\") from e\n",
      "nbformat.reader.NotJSONError: Notebook does not appear to be JSON: '# Python & R for the Modern Data Scient...\n"
     ]
    },
    {
     "ename": "",
     "evalue": "1",
     "output_type": "error",
     "traceback": []
    }
   ],
   "source": [
    "jupyter nbconvert *.py --to notebook"
   ]
  },
  {
   "cell_type": "code",
   "execution_count": null,
   "id": "eea04442-0ee6-427e-ba28-549f36437ae5",
   "metadata": {},
   "outputs": [],
   "source": []
  },
  {
   "cell_type": "code",
   "execution_count": null,
   "id": "26702eec-94a6-46bf-8999-ce02c983dc28",
   "metadata": {},
   "outputs": [],
   "source": []
  },
  {
   "cell_type": "code",
   "execution_count": null,
   "id": "3d526fd2-f937-4953-8265-0a94d25042c6",
   "metadata": {},
   "outputs": [],
   "source": []
  },
  {
   "cell_type": "code",
   "execution_count": null,
   "id": "3f305e73-7a72-4da6-be7f-9c6dcc3ba3fc",
   "metadata": {},
   "outputs": [],
   "source": []
  },
  {
   "cell_type": "code",
   "execution_count": null,
   "id": "93c3badb-aff0-466c-9563-2813e7be141f",
   "metadata": {},
   "outputs": [],
   "source": []
  },
  {
   "cell_type": "code",
   "execution_count": null,
   "id": "f5ad9d4a-2296-4ce6-9a07-a99cb51f16ea",
   "metadata": {},
   "outputs": [],
   "source": []
  },
  {
   "cell_type": "code",
   "execution_count": null,
   "id": "73c8d2f1-cc66-481a-a21b-3fae6732b166",
   "metadata": {},
   "outputs": [],
   "source": []
  },
  {
   "cell_type": "code",
   "execution_count": null,
   "id": "bcb6b9c1-dd82-4544-877c-25b44e14318d",
   "metadata": {},
   "outputs": [],
   "source": []
  },
  {
   "cell_type": "code",
   "execution_count": null,
   "id": "286eeb65-f6c2-4768-9aeb-a68f65fc9470",
   "metadata": {},
   "outputs": [],
   "source": []
  },
  {
   "cell_type": "code",
   "execution_count": null,
   "id": "d02bc45a-2d83-4024-8cc2-a34bb0a224b9",
   "metadata": {},
   "outputs": [],
   "source": []
  },
  {
   "cell_type": "code",
   "execution_count": null,
   "id": "65b793cb-a12f-4343-8c44-89118e676665",
   "metadata": {},
   "outputs": [],
   "source": []
  },
  {
   "cell_type": "code",
   "execution_count": null,
   "id": "a97cfb63-ab42-4c93-a42c-3828e14db9c9",
   "metadata": {},
   "outputs": [],
   "source": []
  },
  {
   "cell_type": "code",
   "execution_count": null,
   "id": "c90818e3-54b1-46e3-b2a5-e163e600c7bc",
   "metadata": {},
   "outputs": [],
   "source": []
  },
  {
   "cell_type": "code",
   "execution_count": null,
   "id": "b417bb30-37a5-43dd-b699-cdafb746d779",
   "metadata": {},
   "outputs": [],
   "source": []
  },
  {
   "cell_type": "code",
   "execution_count": null,
   "id": "ab43df7f-ea4f-4e8e-8c0a-ef828ba4d08c",
   "metadata": {},
   "outputs": [],
   "source": []
  },
  {
   "cell_type": "code",
   "execution_count": null,
   "id": "a11038d1-79c8-4e06-b33e-ba9afe25c5f5",
   "metadata": {},
   "outputs": [],
   "source": []
  },
  {
   "cell_type": "code",
   "execution_count": null,
   "id": "456eeaec-bc24-4b52-b264-36bbdace96a0",
   "metadata": {},
   "outputs": [],
   "source": []
  },
  {
   "cell_type": "code",
   "execution_count": null,
   "id": "92e6c257-ed34-4ac9-b3f9-6e52247debc4",
   "metadata": {},
   "outputs": [],
   "source": []
  }
 ],
 "metadata": {
  "kernelspec": {
   "display_name": "Bash (Linux)",
   "language": "bash",
   "name": "bash"
  },
  "language_info": {
   "codemirror_mode": "shell",
   "file_extension": ".sh",
   "mimetype": "text/x-sh",
   "name": "bash"
  }
 },
 "nbformat": 4,
 "nbformat_minor": 5
}
