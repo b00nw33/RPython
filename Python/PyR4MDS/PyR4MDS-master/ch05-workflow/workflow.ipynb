{
 "cells": [
  {
   "cell_type": "markdown",
   "id": "swiss-documentary",
   "metadata": {},
   "source": [
    "# Workflow Context"
   ]
  },
  {
   "cell_type": "markdown",
   "id": "existing-postcard",
   "metadata": {},
   "source": [
    "## Machine learning"
   ]
  },
  {
   "cell_type": "code",
   "execution_count": 1,
   "id": "economic-learning",
   "metadata": {},
   "outputs": [],
   "source": [
    "from sklearn.ensemble import RandomForestClassifier\n",
    "from sklearn.tree import DecisionTreeClassifier\n",
    "from sklearn.linear_model import LinearRegression\n",
    "from sklearn import metrics\n",
    "from sklearn.model_selection import train_test_split"
   ]
  },
  {
   "cell_type": "code",
   "execution_count": null,
   "id": "veterinary-flush",
   "metadata": {},
   "outputs": [],
   "source": [
    "X_train, X_test, y_train, y_test = train_test_split(X, y, test_size=0.33, random_state=42)"
   ]
  },
  {
   "cell_type": "code",
   "execution_count": null,
   "id": "fifty-lodging",
   "metadata": {},
   "outputs": [],
   "source": [
    "model = RandomForestClassifier()\n",
    "model.fit(X_train, y_train)\n",
    "predictions = model.predict(X_test)"
   ]
  },
  {
   "cell_type": "code",
   "execution_count": null,
   "id": "dried-hardwood",
   "metadata": {},
   "outputs": [],
   "source": [
    "acc = metrics.accuracy_score(predictions, y_test)\n",
    "conf_matrix = metrics.confusion_matrix(predictions, y_test)\n",
    "classif_report = metrics.classification_report(predictions, y_test)"
   ]
  },
  {
   "cell_type": "code",
   "execution_count": 2,
   "id": "funded-ebony",
   "metadata": {},
   "outputs": [],
   "source": [
    "from yellowbrick.regressor import ResidualsPlot"
   ]
  },
  {
   "cell_type": "code",
   "execution_count": null,
   "id": "assured-wholesale",
   "metadata": {},
   "outputs": [],
   "source": [
    "visualizer = ResidualsPlot(regr)\n",
    "visualizer.fit(X_train, y_train)\n",
    "visualizer.score(X_test, y_test)\n",
    "visualizer.show()"
   ]
  }
 ],
 "metadata": {
  "kernelspec": {
   "display_name": "Python 3",
   "language": "python",
   "name": "python3"
  },
  "language_info": {
   "codemirror_mode": {
    "name": "ipython",
    "version": 3
   },
   "file_extension": ".py",
   "mimetype": "text/x-python",
   "name": "python",
   "nbconvert_exporter": "python",
   "pygments_lexer": "ipython3",
   "version": "3.8.5"
  }
 },
 "nbformat": 4,
 "nbformat_minor": 5
}
