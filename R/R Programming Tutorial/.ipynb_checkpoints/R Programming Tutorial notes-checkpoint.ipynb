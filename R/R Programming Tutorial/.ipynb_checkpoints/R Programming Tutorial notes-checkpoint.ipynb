{
 "cells": [
  {
   "cell_type": "markdown",
   "metadata": {
    "collapsed": false
   },
   "source": [
    "Video tutorial\n",
    "\n",
    "https://www.youtube.com/watch?v=\\_V8eKsto3Ug  \n",
    "\n"
   ]
  }
 ],
 "metadata": {
  "kernelspec": {
   "display_name": "R (system-wide)",
   "language": "r",
   "metadata": {
    "cocalc": {
     "description": "R statistical programming language",
     "priority": 10,
     "url": "https://www.r-project.org/"
    }
   },
   "name": "ir",
   "resource_dir": "/ext/jupyter/kernels/ir"
  }
 },
 "nbformat": 4,
 "nbformat_minor": 4
}