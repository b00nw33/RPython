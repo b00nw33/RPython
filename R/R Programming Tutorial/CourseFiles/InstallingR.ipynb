{
 "cells": [
  {
   "cell_type": "markdown",
   "id": "33bc6f2a",
   "metadata": {},
   "source": [
    "File:   InstallingR.R\n",
    "Course: R: An Introduction (with RStudio)"
   ]
  },
  {
   "cell_type": "markdown",
   "id": "8db1ccbd",
   "metadata": {},
   "source": [
    "LOAD DATA ################################################"
   ]
  },
  {
   "cell_type": "code",
   "execution_count": null,
   "id": "973d99b0",
   "metadata": {},
   "outputs": [],
   "source": [
    "library(datasets)  # Load built-in datasets"
   ]
  },
  {
   "cell_type": "markdown",
   "id": "fa389c26",
   "metadata": {},
   "source": [
    "SUMMARIZE DATA ###########################################"
   ]
  },
  {
   "cell_type": "code",
   "execution_count": null,
   "id": "8d03fdd3",
   "metadata": {},
   "outputs": [],
   "source": [
    "head(iris)         # Show the first six lines of iris data\n",
    "summary(iris)      # Summary statistics for iris data\n",
    "plot(iris)         # Scatterplot matrix for iris data"
   ]
  },
  {
   "cell_type": "markdown",
   "id": "0852bbb6",
   "metadata": {},
   "source": [
    "CLEAN UP #################################################"
   ]
  },
  {
   "cell_type": "code",
   "execution_count": null,
   "id": "92c97ab9",
   "metadata": {},
   "outputs": [],
   "source": [
    "# Clear packages\n",
    "detach(\"package:datasets\", unload = TRUE)  # For base"
   ]
  },
  {
   "cell_type": "code",
   "execution_count": null,
   "id": "38639dcd",
   "metadata": {},
   "outputs": [],
   "source": [
    "# Clear plots\n",
    "dev.off()  # But only if there IS a plot"
   ]
  },
  {
   "cell_type": "markdown",
   "id": "5ec0508e",
   "metadata": {},
   "source": [
    "Clear console"
   ]
  },
  {
   "cell_type": "markdown",
   "id": "624e11e3",
   "metadata": {},
   "source": [
    "Clear mind :)"
   ]
  }
 ],
 "metadata": {
  "jupytext": {
   "cell_metadata_filter": "-all",
   "main_language": "R",
   "notebook_metadata_filter": "-all"
  }
 },
 "nbformat": 4,
 "nbformat_minor": 5
}
