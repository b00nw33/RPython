{
 "cells": [
  {
   "cell_type": "markdown",
   "id": "c37841ea",
   "metadata": {},
   "source": [
    "File:   Describe.R\n",
    "Course: R: An Introduction (with RStudio)"
   ]
  },
  {
   "cell_type": "markdown",
   "id": "2b5ce3e1",
   "metadata": {},
   "source": [
    "INSTALL AND LOAD PACKAGES ################################"
   ]
  },
  {
   "cell_type": "code",
   "execution_count": 1,
   "id": "6def2fb8",
   "metadata": {},
   "outputs": [],
   "source": [
    "library(datasets)  # Load base packages manually"
   ]
  },
  {
   "cell_type": "code",
   "execution_count": 2,
   "id": "4567bdbd",
   "metadata": {},
   "outputs": [
    {
     "name": "stderr",
     "output_type": "stream",
     "text": [
      "Loading required package: pacman\n",
      "\n",
      "Warning message in library(package, lib.loc = lib.loc, character.only = TRUE, logical.return = TRUE, :\n",
      "“there is no package called ‘pacman’”\n",
      "Installing package into ‘/usr/local/lib/R/site-library’\n",
      "(as ‘lib’ is unspecified)\n",
      "\n",
      "Warning message in install.packages(\"pacman\"):\n",
      "“'lib = \"/usr/local/lib/R/site-library\"' is not writable”\n"
     ]
    },
    {
     "ename": "ERROR",
     "evalue": "Error in install.packages(\"pacman\"): unable to install packages\n",
     "output_type": "error",
     "traceback": [
      "Error in install.packages(\"pacman\"): unable to install packages\nTraceback:\n",
      "1. install.packages(\"pacman\")",
      "2. stop(\"unable to install packages\")"
     ]
    }
   ],
   "source": [
    "# Installs pacman (\"package manager\") if needed\n",
    "if (!require(\"pacman\")) install.packages(\"pacman\")"
   ]
  },
  {
   "cell_type": "code",
   "execution_count": null,
   "id": "116d7d27",
   "metadata": {},
   "outputs": [],
   "source": [
    "# Use pacman to load add-on packages as desired\n",
    "pacman::p_load(pacman, psych) "
   ]
  },
  {
   "cell_type": "markdown",
   "id": "2b854daf",
   "metadata": {},
   "source": [
    "LOAD DATA ################################################"
   ]
  },
  {
   "cell_type": "code",
   "execution_count": null,
   "id": "9ba05e2e",
   "metadata": {},
   "outputs": [],
   "source": [
    "head(iris)"
   ]
  },
  {
   "cell_type": "markdown",
   "id": "0050f27c",
   "metadata": {},
   "source": [
    "PSYCH PACKAGE ############################################"
   ]
  },
  {
   "cell_type": "code",
   "execution_count": null,
   "id": "e971419d",
   "metadata": {},
   "outputs": [],
   "source": [
    "# Get info on package\n",
    "p_help(psych)           # Opens package PDF in browser\n",
    "p_help(psych, web = F)  # Opens help in R Viewer"
   ]
  },
  {
   "cell_type": "markdown",
   "id": "425062e0",
   "metadata": {},
   "source": [
    "DESCRIBE() ###############################################"
   ]
  },
  {
   "cell_type": "markdown",
   "id": "e6571260",
   "metadata": {},
   "source": [
    "For quantitative variables only."
   ]
  },
  {
   "cell_type": "code",
   "execution_count": null,
   "id": "659da42d",
   "metadata": {},
   "outputs": [],
   "source": [
    "describe(iris$Sepal.Length)  # One quantitative variable\n",
    "describe(iris)               # Entire data frame"
   ]
  },
  {
   "cell_type": "markdown",
   "id": "08b2b6a1",
   "metadata": {},
   "source": [
    "CLEAN UP #################################################"
   ]
  },
  {
   "cell_type": "code",
   "execution_count": null,
   "id": "02dee95e",
   "metadata": {},
   "outputs": [],
   "source": [
    "# Clear environment\n",
    "rm(list = ls()) "
   ]
  },
  {
   "cell_type": "code",
   "execution_count": null,
   "id": "7f2ab2c3",
   "metadata": {},
   "outputs": [],
   "source": [
    "# Clear packages\n",
    "p_unload(all)  # Remove all add-ons\n",
    "detach(\"package:datasets\", unload = TRUE)   # For base"
   ]
  },
  {
   "cell_type": "code",
   "execution_count": null,
   "id": "6535fde9",
   "metadata": {},
   "outputs": [],
   "source": [
    "# Clear console\n",
    "cat(\"\\014\")  # ctrl+L"
   ]
  },
  {
   "cell_type": "markdown",
   "id": "55c68b2c",
   "metadata": {},
   "source": [
    "Clear mind :)"
   ]
  }
 ],
 "metadata": {
  "jupytext": {
   "cell_metadata_filter": "-all",
   "main_language": "R",
   "notebook_metadata_filter": "-all"
  },
  "kernelspec": {
   "display_name": "R (system-wide)",
   "language": "r",
   "name": "ir"
  },
  "language_info": {
   "codemirror_mode": "r",
   "file_extension": ".r",
   "mimetype": "text/x-r-source",
   "name": "R",
   "pygments_lexer": "r",
   "version": "4.2.1"
  }
 },
 "nbformat": 4,
 "nbformat_minor": 5
}
