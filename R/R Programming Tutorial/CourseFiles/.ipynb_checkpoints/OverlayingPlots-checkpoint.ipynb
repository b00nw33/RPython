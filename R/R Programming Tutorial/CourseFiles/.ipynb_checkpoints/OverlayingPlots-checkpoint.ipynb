{
 "cells": [
  {
   "cell_type": "markdown",
   "id": "19b6eea1",
   "metadata": {},
   "source": [
    "File:   OverlayingPlots.R\n",
    "Course: R: An Introduction (with RStudio)"
   ]
  },
  {
   "cell_type": "markdown",
   "id": "4d9ccc8e",
   "metadata": {},
   "source": [
    "INSTALL AND LOAD PACKAGES ################################"
   ]
  },
  {
   "cell_type": "code",
   "execution_count": null,
   "id": "414d1927",
   "metadata": {},
   "outputs": [],
   "source": [
    "library(datasets)  # Load/unload base packages manually"
   ]
  },
  {
   "cell_type": "markdown",
   "id": "3d8435e1",
   "metadata": {},
   "source": [
    "LOAD DATA ################################################"
   ]
  },
  {
   "cell_type": "code",
   "execution_count": null,
   "id": "f5246321",
   "metadata": {},
   "outputs": [],
   "source": [
    "# Annual Canadian Lynx trappings 1821-1934\n",
    "?lynx\n",
    "head(lynx)"
   ]
  },
  {
   "cell_type": "markdown",
   "id": "a3b4375d",
   "metadata": {},
   "source": [
    "HISTOGRAM ################################################"
   ]
  },
  {
   "cell_type": "code",
   "execution_count": null,
   "id": "c585f253",
   "metadata": {},
   "outputs": [],
   "source": [
    "# Default\n",
    "hist(lynx)"
   ]
  },
  {
   "cell_type": "code",
   "execution_count": null,
   "id": "8d6e466e",
   "metadata": {},
   "outputs": [],
   "source": [
    "# Add some options\n",
    "hist(lynx,\n",
    "     breaks = 14,          # \"Suggests\" 14 bins\n",
    "     freq   = FALSE,       # Axis shows density, not freq.\n",
    "     col    = \"thistle1\",  # Color for histogram\n",
    "     main   = paste(\"Histogram of Annual Canadian Lynx\",\n",
    "                    \"Trappings, 1821-1934\"),\n",
    "     xlab   = \"Number of Lynx Trapped\")"
   ]
  },
  {
   "cell_type": "code",
   "execution_count": null,
   "id": "171d9a07",
   "metadata": {},
   "outputs": [],
   "source": [
    "# Add a normal distribution\n",
    "curve(dnorm(x, mean = mean(lynx), sd = sd(lynx)),\n",
    "      col = \"thistle4\",  # Color of curve\n",
    "      lwd = 2,           # Line width of 2 pixels\n",
    "      add = TRUE)        # Superimpose on previous graph"
   ]
  },
  {
   "cell_type": "code",
   "execution_count": null,
   "id": "5a58deca",
   "metadata": {},
   "outputs": [],
   "source": [
    "# Add two kernel density estimators\n",
    "lines(density(lynx), col = \"blue\", lwd = 2)\n",
    "lines(density(lynx, adjust = 3), col = \"purple\", lwd = 2)"
   ]
  },
  {
   "cell_type": "code",
   "execution_count": null,
   "id": "35b1063f",
   "metadata": {},
   "outputs": [],
   "source": [
    "# Add a rug plot\n",
    "rug(lynx, lwd = 2, col = \"gray\")"
   ]
  },
  {
   "cell_type": "markdown",
   "id": "e281f588",
   "metadata": {},
   "source": [
    "CLEAN UP #################################################"
   ]
  },
  {
   "cell_type": "code",
   "execution_count": null,
   "id": "2c818550",
   "metadata": {},
   "outputs": [],
   "source": [
    "# Clear packages\n",
    "detach(\"package:datasets\", unload = TRUE)  # For base"
   ]
  },
  {
   "cell_type": "code",
   "execution_count": null,
   "id": "2ac28993",
   "metadata": {},
   "outputs": [],
   "source": [
    "# Clear plots\n",
    "dev.off()  # But only if there IS a plot"
   ]
  },
  {
   "cell_type": "code",
   "execution_count": null,
   "id": "8b56d00a",
   "metadata": {},
   "outputs": [],
   "source": [
    "# Clear console\n",
    "cat(\"\\014\")  # ctrl+L"
   ]
  },
  {
   "cell_type": "markdown",
   "id": "6496bc38",
   "metadata": {},
   "source": [
    "Clear mind :)"
   ]
  }
 ],
 "metadata": {
  "jupytext": {
   "cell_metadata_filter": "-all",
   "main_language": "R",
   "notebook_metadata_filter": "-all"
  }
 },
 "nbformat": 4,
 "nbformat_minor": 5
}
