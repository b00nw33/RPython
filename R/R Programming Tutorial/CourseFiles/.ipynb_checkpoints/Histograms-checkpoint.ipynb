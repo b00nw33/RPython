{
 "cells": [
  {
   "cell_type": "markdown",
   "id": "83cbd8af",
   "metadata": {},
   "source": [
    "File:   Histograms.R\n",
    "Course: R: An Introduction (with RStudio)"
   ]
  },
  {
   "cell_type": "markdown",
   "id": "de99ef2f",
   "metadata": {},
   "source": [
    "LOAD PACKAGES ############################################"
   ]
  },
  {
   "cell_type": "code",
   "execution_count": null,
   "id": "9d1d68f3",
   "metadata": {},
   "outputs": [],
   "source": [
    "library(datasets)"
   ]
  },
  {
   "cell_type": "markdown",
   "id": "9e063fe0",
   "metadata": {},
   "source": [
    "LOAD DATA ################################################"
   ]
  },
  {
   "cell_type": "code",
   "execution_count": null,
   "id": "755eae9f",
   "metadata": {},
   "outputs": [],
   "source": [
    "?iris\n",
    "head(iris)"
   ]
  },
  {
   "cell_type": "markdown",
   "id": "84ae71ce",
   "metadata": {},
   "source": [
    "BASIC HISTOGRAMS #########################################"
   ]
  },
  {
   "cell_type": "code",
   "execution_count": null,
   "id": "602b84a3",
   "metadata": {},
   "outputs": [],
   "source": [
    "hist(iris$Sepal.Length)\n",
    "hist(iris$Sepal.Width)\n",
    "hist(iris$Petal.Length)\n",
    "hist(iris$Petal.Width)"
   ]
  },
  {
   "cell_type": "markdown",
   "id": "2c36a313",
   "metadata": {},
   "source": [
    "HISTOGRAM BY GROUP #######################################"
   ]
  },
  {
   "cell_type": "code",
   "execution_count": null,
   "id": "587ac452",
   "metadata": {},
   "outputs": [],
   "source": [
    "# Put graphs in 3 rows and 1 column\n",
    "par(mfrow = c(3, 1))"
   ]
  },
  {
   "cell_type": "code",
   "execution_count": null,
   "id": "2ce9e76b",
   "metadata": {},
   "outputs": [],
   "source": [
    "# Histograms for each species using options\n",
    "hist(iris$Petal.Width [iris$Species == \"setosa\"],\n",
    "  xlim = c(0, 3),\n",
    "  breaks = 9,\n",
    "  main = \"Petal Width for Setosa\",\n",
    "  xlab = \"\",\n",
    "  col = \"red\")"
   ]
  },
  {
   "cell_type": "code",
   "execution_count": null,
   "id": "8a311586",
   "metadata": {},
   "outputs": [],
   "source": [
    "hist(iris$Petal.Width [iris$Species == \"versicolor\"],\n",
    "  xlim = c(0, 3),\n",
    "  breaks = 9,\n",
    "  main = \"Petal Width for Versicolor\",\n",
    "  xlab = \"\",\n",
    "  col = \"purple\")"
   ]
  },
  {
   "cell_type": "code",
   "execution_count": null,
   "id": "9d7cb87a",
   "metadata": {},
   "outputs": [],
   "source": [
    "hist(iris$Petal.Width [iris$Species == \"virginica\"],\n",
    "  xlim = c(0, 3),\n",
    "  breaks = 9,\n",
    "  main = \"Petal Width for Virginica\",\n",
    "  xlab = \"\",\n",
    "  col = \"blue\")"
   ]
  },
  {
   "cell_type": "code",
   "execution_count": null,
   "id": "5097af14",
   "metadata": {},
   "outputs": [],
   "source": [
    "# Restore graphic parameter\n",
    "par(mfrow=c(1, 1))"
   ]
  },
  {
   "cell_type": "markdown",
   "id": "12736eb7",
   "metadata": {},
   "source": [
    "CLEAN UP #################################################"
   ]
  },
  {
   "cell_type": "code",
   "execution_count": null,
   "id": "a8ad328d",
   "metadata": {},
   "outputs": [],
   "source": [
    "# Clear packages\n",
    "detach(\"package:datasets\", unload = TRUE)  # For base"
   ]
  },
  {
   "cell_type": "code",
   "execution_count": null,
   "id": "df837db4",
   "metadata": {},
   "outputs": [],
   "source": [
    "# Clear plots\n",
    "dev.off()  # But only if there IS a plot"
   ]
  },
  {
   "cell_type": "code",
   "execution_count": null,
   "id": "7842014a",
   "metadata": {},
   "outputs": [],
   "source": [
    "# Clear console\n",
    "cat(\"\\014\")  # ctrl+L"
   ]
  },
  {
   "cell_type": "markdown",
   "id": "75be4386",
   "metadata": {},
   "source": [
    "Clear mind :)"
   ]
  }
 ],
 "metadata": {
  "jupytext": {
   "cell_metadata_filter": "-all",
   "main_language": "R",
   "notebook_metadata_filter": "-all"
  }
 },
 "nbformat": 4,
 "nbformat_minor": 5
}
