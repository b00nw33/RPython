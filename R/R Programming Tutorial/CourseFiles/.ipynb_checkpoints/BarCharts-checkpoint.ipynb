{
 "cells": [
  {
   "cell_type": "markdown",
   "id": "3123f86f",
   "metadata": {},
   "source": [
    "File:   BarCharts.R\n",
    "Course: R: An Introduction (with RStudio)"
   ]
  },
  {
   "cell_type": "markdown",
   "id": "2563fe2c",
   "metadata": {},
   "source": [
    "LOAD DATASETS PACKAGES ###################################"
   ]
  },
  {
   "cell_type": "code",
   "execution_count": null,
   "id": "88359768",
   "metadata": {},
   "outputs": [],
   "source": [
    "library(datasets)"
   ]
  },
  {
   "cell_type": "markdown",
   "id": "15a48cd2",
   "metadata": {},
   "source": [
    "LOAD DATA ################################################"
   ]
  },
  {
   "cell_type": "code",
   "execution_count": null,
   "id": "690fce26",
   "metadata": {},
   "outputs": [],
   "source": [
    "?mtcars\n",
    "head(mtcars)"
   ]
  },
  {
   "cell_type": "markdown",
   "id": "203ca09f",
   "metadata": {},
   "source": [
    "BAR CHARTS ###############################################"
   ]
  },
  {
   "cell_type": "code",
   "execution_count": null,
   "id": "629c8164",
   "metadata": {},
   "outputs": [],
   "source": [
    "barplot(mtcars$cyl)             # Doesn't work"
   ]
  },
  {
   "cell_type": "code",
   "execution_count": null,
   "id": "68a6d4bd",
   "metadata": {},
   "outputs": [],
   "source": [
    "# Need a table with frequencies for each category\n",
    "cylinders <- table(mtcars$cyl)  # Create table\n",
    "barplot(cylinders)              # Bar chart\n",
    "plot(cylinders)                 # Default X-Y plot (lines)"
   ]
  },
  {
   "cell_type": "markdown",
   "id": "686d8c84",
   "metadata": {},
   "source": [
    "CLEAN UP #################################################"
   ]
  },
  {
   "cell_type": "code",
   "execution_count": null,
   "id": "18e59033",
   "metadata": {},
   "outputs": [],
   "source": [
    "# Clear environment\n",
    "rm(list = ls()) "
   ]
  },
  {
   "cell_type": "code",
   "execution_count": null,
   "id": "3a0d064f",
   "metadata": {},
   "outputs": [],
   "source": [
    "# Clear packages\n",
    "detach(\"package:datasets\", unload = TRUE)  # For base"
   ]
  },
  {
   "cell_type": "code",
   "execution_count": null,
   "id": "a31f9e6b",
   "metadata": {},
   "outputs": [],
   "source": [
    "# Clear plots\n",
    "dev.off()  # But only if there IS a plot"
   ]
  },
  {
   "cell_type": "code",
   "execution_count": null,
   "id": "2a8185bb",
   "metadata": {},
   "outputs": [],
   "source": [
    "# Clear console\n",
    "cat(\"\\014\")  # ctrl+L"
   ]
  },
  {
   "cell_type": "markdown",
   "id": "b27f05e9",
   "metadata": {},
   "source": [
    "Clear mind :)"
   ]
  }
 ],
 "metadata": {
  "jupytext": {
   "cell_metadata_filter": "-all",
   "main_language": "R",
   "notebook_metadata_filter": "-all"
  }
 },
 "nbformat": 4,
 "nbformat_minor": 5
}
