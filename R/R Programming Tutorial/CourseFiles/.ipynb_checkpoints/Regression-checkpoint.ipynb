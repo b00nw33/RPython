{
 "cells": [
  {
   "cell_type": "markdown",
   "id": "e8876dc4",
   "metadata": {},
   "source": [
    "File:   Regression.R\n",
    "Course: R: An Introduction (with RStudio)"
   ]
  },
  {
   "cell_type": "markdown",
   "id": "827daa48",
   "metadata": {},
   "source": [
    "INSTALL AND LOAD PACKAGES ################################"
   ]
  },
  {
   "cell_type": "code",
   "execution_count": null,
   "id": "d2cc561b",
   "metadata": {},
   "outputs": [],
   "source": [
    "library(datasets)  # Load base packages manually"
   ]
  },
  {
   "cell_type": "code",
   "execution_count": null,
   "id": "6ad29631",
   "metadata": {},
   "outputs": [],
   "source": [
    "# Installs pacman (\"package manager\") if needed\n",
    "if (!require(\"pacman\")) install.packages(\"pacman\")"
   ]
  },
  {
   "cell_type": "code",
   "execution_count": null,
   "id": "08f74e01",
   "metadata": {},
   "outputs": [],
   "source": [
    "# Use pacman to load add-on packages as desired\n",
    "pacman::p_load(pacman, caret, lars, tidyverse)"
   ]
  },
  {
   "cell_type": "markdown",
   "id": "1d2d48a2",
   "metadata": {},
   "source": [
    "LOAD DATA ################################################"
   ]
  },
  {
   "cell_type": "code",
   "execution_count": null,
   "id": "36e4cd7f",
   "metadata": {},
   "outputs": [],
   "source": [
    "?USJudgeRatings\n",
    "head(USJudgeRatings)\n",
    "data <- USJudgeRatings"
   ]
  },
  {
   "cell_type": "code",
   "execution_count": null,
   "id": "a5209753",
   "metadata": {},
   "outputs": [],
   "source": [
    "# Define variable groups\n",
    "x <- as.matrix(data[, -12])\n",
    "y <- data[, 12]"
   ]
  },
  {
   "cell_type": "markdown",
   "id": "7f0cccfe",
   "metadata": {},
   "source": [
    "REGRESSION WITH SIMULTANEOUS ENTRY #######################"
   ]
  },
  {
   "cell_type": "code",
   "execution_count": null,
   "id": "d405d138",
   "metadata": {},
   "outputs": [],
   "source": [
    "# Using variable groups\n",
    "reg1 <- lm(y ~ x)"
   ]
  },
  {
   "cell_type": "code",
   "execution_count": null,
   "id": "d579997c",
   "metadata": {},
   "outputs": [],
   "source": [
    "# Or specify variables individually\n",
    "reg1 <- lm(RTEN ~ CONT + INTG + DMNR + DILG + CFMG +\n",
    "           DECI + PREP + FAMI + ORAL + WRIT + PHYS,\n",
    "           data = USJudgeRatings)"
   ]
  },
  {
   "cell_type": "code",
   "execution_count": null,
   "id": "38f7bb36",
   "metadata": {},
   "outputs": [],
   "source": [
    "# Results\n",
    "reg1           # Coefficients only\n",
    "summary(reg1)  # Inferential tests"
   ]
  },
  {
   "cell_type": "markdown",
   "id": "42c9f048",
   "metadata": {},
   "source": [
    "MORE SUMMARIES ###########################################"
   ]
  },
  {
   "cell_type": "code",
   "execution_count": null,
   "id": "4909fc6a",
   "metadata": {},
   "outputs": [],
   "source": [
    "anova(reg1)            # Coefficients w/inferential tests\n",
    "coef(reg1)             # Coefficients (same as reg1)\n",
    "confint(reg1)          # CI for coefficients\n",
    "resid(reg1)            # Residuals case-by-case\n",
    "hist(residuals(reg1))  # Histogram of residuals"
   ]
  },
  {
   "cell_type": "markdown",
   "id": "a88cbab3",
   "metadata": {},
   "source": [
    "ADDITIONAL MODELS ########################################"
   ]
  },
  {
   "cell_type": "code",
   "execution_count": null,
   "id": "f2192cb0",
   "metadata": {},
   "outputs": [],
   "source": [
    "# Conventional stepwise regression\n",
    "stepwise <- lars(x, y, type = \"stepwise\")"
   ]
  },
  {
   "cell_type": "code",
   "execution_count": null,
   "id": "7b4d9d02",
   "metadata": {},
   "outputs": [],
   "source": [
    "# Stagewise: Like stepwise but with better generalizability\n",
    "forward <- lars(x, y, type = \"forward.stagewise\")"
   ]
  },
  {
   "cell_type": "code",
   "execution_count": null,
   "id": "d5a729c6",
   "metadata": {},
   "outputs": [],
   "source": [
    "# LAR: Least Angle Regression\n",
    "lar <- lars(x, y, type = \"lar\")"
   ]
  },
  {
   "cell_type": "code",
   "execution_count": null,
   "id": "938e16c4",
   "metadata": {},
   "outputs": [],
   "source": [
    "# LASSO: Least Absolute Shrinkage and Selection Operator\n",
    "lasso <- lars(x, y, type = \"lasso\")"
   ]
  },
  {
   "cell_type": "code",
   "execution_count": null,
   "id": "90bcfe2f",
   "metadata": {},
   "outputs": [],
   "source": [
    "# Comparison of R^2 for new models\n",
    "r2comp <- c(stepwise$R2[6], forward$R2[6], \n",
    "            lar$R2[6], lasso$R2[6]) %>% \n",
    "            round(2)\n",
    "names(r2comp) <- c(\"stepwise\", \"forward\", \"lar\", \"lasso\") \n",
    "r2comp  # Show values of R^2"
   ]
  },
  {
   "cell_type": "markdown",
   "id": "4e8e971f",
   "metadata": {},
   "source": [
    "CLEAN UP #################################################"
   ]
  },
  {
   "cell_type": "code",
   "execution_count": null,
   "id": "40f0e05e",
   "metadata": {},
   "outputs": [],
   "source": [
    "# Clear environment\n",
    "rm(list = ls()) "
   ]
  },
  {
   "cell_type": "code",
   "execution_count": null,
   "id": "2ae6c6a7",
   "metadata": {},
   "outputs": [],
   "source": [
    "# Clear packages\n",
    "p_unload(all)  # Remove all add-ons\n",
    "detach(\"package:datasets\", unload = TRUE)  # For base"
   ]
  },
  {
   "cell_type": "code",
   "execution_count": null,
   "id": "68221008",
   "metadata": {},
   "outputs": [],
   "source": [
    "# Clear plots\n",
    "dev.off()  # But only if there IS a plot"
   ]
  },
  {
   "cell_type": "code",
   "execution_count": null,
   "id": "3b8146f5",
   "metadata": {},
   "outputs": [],
   "source": [
    "# Clear console\n",
    "cat(\"\\014\")  # ctrl+L"
   ]
  },
  {
   "cell_type": "markdown",
   "id": "ea8503e3",
   "metadata": {},
   "source": [
    "Clear mind :)"
   ]
  }
 ],
 "metadata": {
  "jupytext": {
   "cell_metadata_filter": "-all",
   "main_language": "R",
   "notebook_metadata_filter": "-all"
  }
 },
 "nbformat": 4,
 "nbformat_minor": 5
}
