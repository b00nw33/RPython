{
 "cells": [
  {
   "cell_type": "markdown",
   "id": "60f750df",
   "metadata": {},
   "source": [
    "File:   ImportingData.R\n",
    "Course: R: An Introduction (with RStudio)"
   ]
  },
  {
   "cell_type": "markdown",
   "id": "f06c9fb1",
   "metadata": {},
   "source": [
    "INSTALL AND LOAD PACKAGES ################################"
   ]
  },
  {
   "cell_type": "code",
   "execution_count": 1,
   "id": "81902d24",
   "metadata": {},
   "outputs": [],
   "source": [
    "library(datasets)  # Load base packages manually"
   ]
  },
  {
   "cell_type": "code",
   "execution_count": 2,
   "id": "623383cc",
   "metadata": {},
   "outputs": [
    {
     "name": "stderr",
     "output_type": "stream",
     "text": [
      "Loading required package: pacman\n",
      "\n",
      "Warning message in library(package, lib.loc = lib.loc, character.only = TRUE, logical.return = TRUE, :\n",
      "“there is no package called ‘pacman’”\n",
      "Installing package into ‘/usr/local/lib/R/site-library’\n",
      "(as ‘lib’ is unspecified)\n",
      "\n",
      "Warning message in install.packages(\"pacman\"):\n",
      "“'lib = \"/usr/local/lib/R/site-library\"' is not writable”\n"
     ]
    },
    {
     "ename": "ERROR",
     "evalue": "Error in install.packages(\"pacman\"): unable to install packages\n",
     "output_type": "error",
     "traceback": [
      "Error in install.packages(\"pacman\"): unable to install packages\nTraceback:\n",
      "1. install.packages(\"pacman\")",
      "2. stop(\"unable to install packages\")"
     ]
    }
   ],
   "source": [
    "# Installs pacman (\"package manager\") if needed\n",
    "if (!require(\"pacman\")) install.packages(\"pacman\")"
   ]
  },
  {
   "cell_type": "code",
   "execution_count": null,
   "id": "7c3936a6",
   "metadata": {},
   "outputs": [],
   "source": [
    "# Use pacman to load add-on packages as desired\n",
    "pacman::p_load(pacman, rio) "
   ]
  },
  {
   "cell_type": "markdown",
   "id": "5828808a",
   "metadata": {},
   "source": [
    "ABOUT EXCEL FILES ########################################"
   ]
  },
  {
   "cell_type": "code",
   "execution_count": null,
   "id": "0ee58379",
   "metadata": {},
   "outputs": [],
   "source": [
    "# From the official R documentation\n",
    "browseURL(\"http://j.mp/2aFZUrJ\")"
   ]
  },
  {
   "cell_type": "markdown",
   "id": "7fd0af0c",
   "metadata": {},
   "source": [
    "You have been warned: ಠ_ಠ"
   ]
  },
  {
   "cell_type": "markdown",
   "id": "92574e61",
   "metadata": {},
   "source": [
    "IMPORTING WITH RIO #######################################"
   ]
  },
  {
   "cell_type": "code",
   "execution_count": null,
   "id": "ce6ff9e7",
   "metadata": {},
   "outputs": [],
   "source": [
    "# CSV\n",
    "rio_csv <- import(\"~/Desktop/mbb.csv\")\n",
    "head(rio_csv)"
   ]
  },
  {
   "cell_type": "code",
   "execution_count": null,
   "id": "1c704e17",
   "metadata": {},
   "outputs": [],
   "source": [
    "# TXT\n",
    "rio_txt <- import(\"~/Desktop/mbb.txt\")\n",
    "head(rio_txt)"
   ]
  },
  {
   "cell_type": "code",
   "execution_count": null,
   "id": "04bb0bac",
   "metadata": {},
   "outputs": [],
   "source": [
    "# Excel XLSX\n",
    "rio_xlsx <- import(\"~/Desktop/mbb.xlsx\")\n",
    "head(rio_xlsx)"
   ]
  },
  {
   "cell_type": "markdown",
   "id": "7250257d",
   "metadata": {},
   "source": [
    "DATA VIEWER ##############################################"
   ]
  },
  {
   "cell_type": "code",
   "execution_count": null,
   "id": "a25badcf",
   "metadata": {},
   "outputs": [],
   "source": [
    "?View\n",
    "View(rio_csv)"
   ]
  },
  {
   "cell_type": "markdown",
   "id": "588cfd89",
   "metadata": {},
   "source": [
    "READ.TABLE FOR TXT FILES #################################"
   ]
  },
  {
   "cell_type": "markdown",
   "id": "46832f49",
   "metadata": {},
   "source": [
    "R's built-in function for text files (used by rio)"
   ]
  },
  {
   "cell_type": "markdown",
   "id": "61370d4d",
   "metadata": {},
   "source": [
    "TEXT FILES"
   ]
  },
  {
   "cell_type": "code",
   "execution_count": null,
   "id": "f3c3be09",
   "metadata": {},
   "outputs": [],
   "source": [
    "# Load a spreadsheet that has been saved as tab-delimited\n",
    "# text file. Need to give complete address to file. This\n",
    "# command gives an error on missing data but works on\n",
    "# complete data.\n",
    "r_txt1 <- read.table(\"~/Desktop/mbb.txt\", header = TRUE)"
   ]
  },
  {
   "cell_type": "code",
   "execution_count": null,
   "id": "fd616fd8",
   "metadata": {},
   "outputs": [],
   "source": [
    "# This works with missing data by specifying the separator: \n",
    "# \\t is for tabs, sep = \",\" for commas. R converts missing\n",
    "# to \"NA\"\n",
    "r_txt2 <- read.table(\"~/Desktop/mbb.txt\", \n",
    "  header = TRUE, \n",
    "  sep = \"\\t\")"
   ]
  },
  {
   "cell_type": "markdown",
   "id": "ee85a788",
   "metadata": {},
   "source": [
    "READ.CSV FOR CSV FILES ###################################"
   ]
  },
  {
   "cell_type": "markdown",
   "id": "bbecc812",
   "metadata": {},
   "source": [
    "R's built-in function for csv files (also used by rio)"
   ]
  },
  {
   "cell_type": "code",
   "execution_count": null,
   "id": "0cd7bb00",
   "metadata": {},
   "outputs": [],
   "source": [
    "# CSV FILES\n",
    "# Don't have to specify delimiters for missing data\n",
    "# because CSV means \"comma separated values\"\n",
    "trends.csv <- read.csv(\"~/Desktop/mbb.csv\", header = TRUE)"
   ]
  },
  {
   "cell_type": "markdown",
   "id": "de8bd616",
   "metadata": {},
   "source": [
    "CLEAN UP #################################################"
   ]
  },
  {
   "cell_type": "code",
   "execution_count": null,
   "id": "f7a874f3",
   "metadata": {},
   "outputs": [],
   "source": [
    "# Clear environment\n",
    "rm(list = ls()) "
   ]
  },
  {
   "cell_type": "code",
   "execution_count": null,
   "id": "a898b3aa",
   "metadata": {},
   "outputs": [],
   "source": [
    "# Clear packages\n",
    "p_unload(all)  # Remove all add-ons"
   ]
  },
  {
   "cell_type": "code",
   "execution_count": null,
   "id": "a70e4842",
   "metadata": {},
   "outputs": [],
   "source": [
    "# Clear console\n",
    "cat(\"\\014\")  # ctrl+L"
   ]
  },
  {
   "cell_type": "markdown",
   "id": "8ee35326",
   "metadata": {},
   "source": [
    "Clear mind :)"
   ]
  }
 ],
 "metadata": {
  "jupytext": {
   "cell_metadata_filter": "-all",
   "main_language": "R",
   "notebook_metadata_filter": "-all"
  },
  "kernelspec": {
   "display_name": "R (system-wide)",
   "language": "r",
   "name": "ir"
  },
  "language_info": {
   "codemirror_mode": "r",
   "file_extension": ".r",
   "mimetype": "text/x-r-source",
   "name": "R",
   "pygments_lexer": "r",
   "version": "4.2.1"
  }
 },
 "nbformat": 4,
 "nbformat_minor": 5
}
