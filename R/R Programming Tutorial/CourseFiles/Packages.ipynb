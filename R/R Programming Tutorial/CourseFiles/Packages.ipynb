{
 "cells": [
  {
   "cell_type": "markdown",
   "id": "3917b370",
   "metadata": {},
   "source": [
    "File:   Packages.R\n",
    "Course: R: An Introduction (with RStudio)"
   ]
  },
  {
   "cell_type": "markdown",
   "id": "aa2ff058",
   "metadata": {},
   "source": [
    "LOAD PACKAGES ############################################"
   ]
  },
  {
   "cell_type": "code",
   "execution_count": null,
   "id": "b84a5c8c",
   "metadata": {},
   "outputs": [],
   "source": [
    "# I recommend \"pacman\" for managing add-on packages. It will\n",
    "# install packages, if needed, and then load the packages.\n",
    "install.packages(\"pacman\")"
   ]
  },
  {
   "cell_type": "code",
   "execution_count": null,
   "id": "2b9722c9",
   "metadata": {},
   "outputs": [],
   "source": [
    "# Then load the package by using either of the following:\n",
    "require(pacman)  # Gives a confirmation message.\n",
    "library(pacman)  # No message."
   ]
  },
  {
   "cell_type": "code",
   "execution_count": null,
   "id": "7410de73",
   "metadata": {},
   "outputs": [],
   "source": [
    "# Or, by using \"pacman::p_load\" you can use the p_load\n",
    "# function from pacman without actually loading pacman.\n",
    "# These are packages I load every time.\n",
    "pacman::p_load(pacman, dplyr, GGally, ggplot2, ggthemes, \n",
    "  ggvis, httr, lubridate, plotly, rio, rmarkdown, shiny, \n",
    "  stringr, tidyr) "
   ]
  },
  {
   "cell_type": "code",
   "execution_count": null,
   "id": "a8064946",
   "metadata": {},
   "outputs": [],
   "source": [
    "library(datasets)  # Load/unload base packages manually"
   ]
  },
  {
   "cell_type": "markdown",
   "id": "7452e161",
   "metadata": {},
   "source": [
    "CLEAN UP #################################################"
   ]
  },
  {
   "cell_type": "code",
   "execution_count": null,
   "id": "38780c38",
   "metadata": {},
   "outputs": [],
   "source": [
    "# Clear packages\n",
    "p_unload(dplyr, tidyr, stringr) # Clear specific packages\n",
    "p_unload(all)  # Easier: clears all add-ons\n",
    "detach(\"package:datasets\", unload = TRUE)  # For base"
   ]
  },
  {
   "cell_type": "code",
   "execution_count": null,
   "id": "6c4dcf62",
   "metadata": {},
   "outputs": [],
   "source": [
    "# Clear console\n",
    "cat(\"\\014\")  # ctrl+L"
   ]
  },
  {
   "cell_type": "markdown",
   "id": "d186f2be",
   "metadata": {},
   "source": [
    "Clear mind :)"
   ]
  }
 ],
 "metadata": {
  "jupytext": {
   "cell_metadata_filter": "-all",
   "main_language": "R",
   "notebook_metadata_filter": "-all"
  }
 },
 "nbformat": 4,
 "nbformat_minor": 5
}
