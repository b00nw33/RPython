{
 "cells": [
  {
   "cell_type": "code",
   "execution_count": null,
   "id": "3627082f",
   "metadata": {},
   "outputs": [],
   "source": [
    "install.packages( \"ggplot2\", dependencies=TRUE )"
   ]
  },
  {
   "cell_type": "code",
   "execution_count": null,
   "id": "d7746693",
   "metadata": {},
   "outputs": [],
   "source": [
    "library( ggplot2 )"
   ]
  },
  {
   "cell_type": "code",
   "execution_count": null,
   "id": "5eabb423",
   "metadata": {},
   "outputs": [],
   "source": [
    "help( qplot )"
   ]
  }
 ],
 "metadata": {
  "jupytext": {
   "cell_metadata_filter": "-all",
   "main_language": "R",
   "notebook_metadata_filter": "-all"
  }
 },
 "nbformat": 4,
 "nbformat_minor": 5
}
