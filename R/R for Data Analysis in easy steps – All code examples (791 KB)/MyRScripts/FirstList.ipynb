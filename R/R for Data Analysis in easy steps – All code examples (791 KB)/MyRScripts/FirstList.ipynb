{
 "cells": [
  {
   "cell_type": "code",
   "execution_count": null,
   "id": "d2f395c1",
   "metadata": {},
   "outputs": [],
   "source": [
    "sales <- list( Jan=1500, Feb=1300, Mar=2400 )"
   ]
  },
  {
   "cell_type": "code",
   "execution_count": null,
   "id": "d161e424",
   "metadata": {},
   "outputs": [],
   "source": [
    "sales <- c( sales, list( Apr=1800 ) )"
   ]
  },
  {
   "cell_type": "code",
   "execution_count": null,
   "id": "14eed33a",
   "metadata": {},
   "outputs": [],
   "source": [
    "print( unlist( sales ) )"
   ]
  },
  {
   "cell_type": "code",
   "execution_count": null,
   "id": "fa228ed5",
   "metadata": {},
   "outputs": [],
   "source": [
    "monthly.sales <- unlist( sales, use.names=FALSE )"
   ]
  },
  {
   "cell_type": "code",
   "execution_count": null,
   "id": "9b96a98d",
   "metadata": {},
   "outputs": [],
   "source": [
    "total.sales <- sum( monthly.sales )\n",
    "print( paste( \"Total Sales: \", total.sales ) )"
   ]
  },
  {
   "cell_type": "code",
   "execution_count": null,
   "id": "49f18f8d",
   "metadata": {},
   "outputs": [],
   "source": [
    "average.per.month <- mean( monthly.sales )\n",
    "print(paste( \"Monthly Average: \", average.per.month ) )"
   ]
  },
  {
   "cell_type": "code",
   "execution_count": null,
   "id": "8b3442e4",
   "metadata": {},
   "outputs": [],
   "source": [
    "print( paste( \"Is sales a List: \", is.list( sales ) ) )"
   ]
  }
 ],
 "metadata": {
  "jupytext": {
   "cell_metadata_filter": "-all",
   "main_language": "R",
   "notebook_metadata_filter": "-all"
  }
 },
 "nbformat": 4,
 "nbformat_minor": 5
}
