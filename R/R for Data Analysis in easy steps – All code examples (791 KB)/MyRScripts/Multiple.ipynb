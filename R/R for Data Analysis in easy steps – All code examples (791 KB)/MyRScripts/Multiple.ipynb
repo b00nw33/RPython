{
 "cells": [
  {
   "cell_type": "code",
   "execution_count": null,
   "id": "ecedbd4a",
   "metadata": {},
   "outputs": [],
   "source": [
    "alphabet <- c( \"Alpha\", \"Bravo\", \"Charlie\" )"
   ]
  },
  {
   "cell_type": "code",
   "execution_count": null,
   "id": "ab7171cb",
   "metadata": {},
   "outputs": [],
   "source": [
    "print( alphabet )"
   ]
  },
  {
   "cell_type": "code",
   "execution_count": null,
   "id": "0621a733",
   "metadata": {},
   "outputs": [],
   "source": [
    "print( paste( \"2nd Element: \", alphabet[2] ) )"
   ]
  },
  {
   "cell_type": "code",
   "execution_count": null,
   "id": "e6078ea6",
   "metadata": {},
   "outputs": [],
   "source": [
    "print( paste( \"Vector Length: \", length( alphabet ) ) )"
   ]
  },
  {
   "cell_type": "code",
   "execution_count": null,
   "id": "a3d4e290",
   "metadata": {},
   "outputs": [],
   "source": [
    "alphabet[ 5 ] <- \"Echo\""
   ]
  },
  {
   "cell_type": "code",
   "execution_count": null,
   "id": "4fa327c2",
   "metadata": {},
   "outputs": [],
   "source": [
    "print( alphabet )\n",
    "print( paste( \"Vector Length Now: \", length( alphabet ) ) )"
   ]
  },
  {
   "cell_type": "code",
   "execution_count": null,
   "id": "97fe4950",
   "metadata": {},
   "outputs": [],
   "source": [
    "print( paste( \"Is alphabet a Vector: \", is.vector( alphabet ) ) )"
   ]
  }
 ],
 "metadata": {
  "jupytext": {
   "cell_metadata_filter": "-all",
   "main_language": "R",
   "notebook_metadata_filter": "-all"
  }
 },
 "nbformat": 4,
 "nbformat_minor": 5
}
