{
 "cells": [
  {
   "cell_type": "code",
   "execution_count": null,
   "id": "1eb3176b",
   "metadata": {},
   "outputs": [],
   "source": [
    "title <- \"R for Data Analysis\"\n",
    "result <- paste( \"Type of title:\", typeof( title ) )\n",
    "print( result )"
   ]
  },
  {
   "cell_type": "code",
   "execution_count": null,
   "id": "0f376d4b",
   "metadata": {},
   "outputs": [],
   "source": [
    "pi <- 3.14159265\n",
    "dozen <- 12L"
   ]
  },
  {
   "cell_type": "code",
   "execution_count": null,
   "id": "bdf37702",
   "metadata": {},
   "outputs": [],
   "source": [
    "print( paste( \"Type of pi:\", typeof( pi ) ) )\n",
    "print( paste( \"Type of dozen:\", typeof( dozen ) ) )"
   ]
  },
  {
   "cell_type": "code",
   "execution_count": null,
   "id": "4bb69cad",
   "metadata": {},
   "outputs": [],
   "source": [
    "flag <- T\n",
    "print( paste( \"Is flag logical:\", is.logical( flag ) ) )"
   ]
  }
 ],
 "metadata": {
  "jupytext": {
   "cell_metadata_filter": "-all",
   "main_language": "R",
   "notebook_metadata_filter": "-all"
  }
 },
 "nbformat": 4,
 "nbformat_minor": 5
}
