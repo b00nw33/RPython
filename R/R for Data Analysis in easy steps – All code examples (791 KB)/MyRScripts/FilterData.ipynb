{
 "cells": [
  {
   "cell_type": "code",
   "execution_count": 1,
   "id": "4ca786e6",
   "metadata": {},
   "outputs": [],
   "source": [
    "frame <- read.csv( \"DataSet-Browsers.csv\" )"
   ]
  },
  {
   "cell_type": "code",
   "execution_count": 2,
   "id": "ca4a42ba",
   "metadata": {},
   "outputs": [
    {
     "name": "stdout",
     "output_type": "stream",
     "text": [
      "\n",
      "Top Browsers...\n",
      "               Web.Browser.Version PerCentage.Market.Share\n",
      "1                      Chrome 61.0                   35.16\n",
      "2 Microsoft Internet Explorer 11.0                   12.52\n"
     ]
    }
   ],
   "source": [
    "top <- frame[ frame$PerCentage.Market.Share > 10 , ]\n",
    "cat( \"\\nTop Browsers...\\n\" )\n",
    "print( top )"
   ]
  },
  {
   "cell_type": "code",
   "execution_count": 3,
   "id": "d186259a",
   "metadata": {},
   "outputs": [
    {
     "name": "stdout",
     "output_type": "stream",
     "text": [
      "\n",
      "Popular Browsers...\n",
      "  Web.Browser.Version PerCentage.Market.Share\n",
      "3         Chrome 55.0                    7.40\n",
      "4          Firefox 56                    6.53\n",
      "5   Microsoft Edge 14                    3.60\n"
     ]
    }
   ],
   "source": [
    "mid <- frame[ frame$PerCentage.Market.Share > 3 & \n",
    "                frame$PerCentage.Market.Share < 10, ]\n",
    "cat( \"\\nPopular Browsers...\\n\" )\n",
    "print( mid )"
   ]
  },
  {
   "cell_type": "code",
   "execution_count": 4,
   "id": "3743e108",
   "metadata": {},
   "outputs": [
    {
     "name": "stdout",
     "output_type": "stream",
     "text": [
      "\n",
      "Google Browsers...\n",
      "   Web.Browser.Version PerCentage.Market.Share\n",
      "1          Chrome 61.0                   35.16\n",
      "3          Chrome 55.0                    7.40\n",
      "6          Chrome 49.0                    2.26\n",
      "7          Chrome 60.0                    2.19\n",
      "8          Chrome 45.0                    1.86\n",
      "9          Chrome 62.0                    1.76\n",
      "11         Chrome 50.0                    1.59\n",
      "13         Chrome 58.0                    1.25\n",
      "17         Chrome 53.0                    0.93\n",
      "25         Chrome 47.0                    0.64\n",
      "26         Chrome 59.0                    0.56\n",
      "29         Chrome 56.0                    0.49\n",
      "31         Chrome 57.0                    0.47\n",
      "32         Chrome 43.0                    0.41\n",
      "34         Chrome 60.4                    0.28\n",
      "40         Chrome 54.0                    0.17\n"
     ]
    }
   ],
   "source": [
    "google <- frame[ grep( \"Chrome\", frame$Web.Browser.Version ),  ]\n",
    "cat( \"\\nGoogle Browsers...\\n\" )\n",
    "print( google )"
   ]
  }
 ],
 "metadata": {
  "jupytext": {
   "cell_metadata_filter": "-all",
   "main_language": "R",
   "notebook_metadata_filter": "-all"
  },
  "kernelspec": {
   "display_name": "R (system-wide)",
   "language": "r",
   "name": "ir"
  },
  "language_info": {
   "codemirror_mode": "r",
   "file_extension": ".r",
   "mimetype": "text/x-r-source",
   "name": "R",
   "pygments_lexer": "r",
   "version": "4.2.1"
  }
 },
 "nbformat": 4,
 "nbformat_minor": 5
}
