{
 "cells": [
  {
   "cell_type": "code",
   "execution_count": 1,
   "id": "b9e6f8f6",
   "metadata": {},
   "outputs": [
    {
     "data": {
      "text/html": [
       "<table class=\"dataframe\">\n",
       "<caption>A data.frame: 5 × 2</caption>\n",
       "<thead>\n",
       "\t<tr><th scope=col>X1.5</th><th scope=col>sizes</th></tr>\n",
       "\t<tr><th scope=col>&lt;int&gt;</th><th scope=col>&lt;chr&gt;</th></tr>\n",
       "</thead>\n",
       "<tbody>\n",
       "\t<tr><td>1</td><td>S </td></tr>\n",
       "\t<tr><td>2</td><td>L </td></tr>\n",
       "\t<tr><td>3</td><td>XL</td></tr>\n",
       "\t<tr><td>4</td><td>S </td></tr>\n",
       "\t<tr><td>5</td><td>M </td></tr>\n",
       "</tbody>\n",
       "</table>\n"
      ],
      "text/latex": [
       "A data.frame: 5 × 2\n",
       "\\begin{tabular}{ll}\n",
       " X1.5 & sizes\\\\\n",
       " <int> & <chr>\\\\\n",
       "\\hline\n",
       "\t 1 & S \\\\\n",
       "\t 2 & L \\\\\n",
       "\t 3 & XL\\\\\n",
       "\t 4 & S \\\\\n",
       "\t 5 & M \\\\\n",
       "\\end{tabular}\n"
      ],
      "text/markdown": [
       "\n",
       "A data.frame: 5 × 2\n",
       "\n",
       "| X1.5 &lt;int&gt; | sizes &lt;chr&gt; |\n",
       "|---|---|\n",
       "| 1 | S  |\n",
       "| 2 | L  |\n",
       "| 3 | XL |\n",
       "| 4 | S  |\n",
       "| 5 | M  |\n",
       "\n"
      ],
      "text/plain": [
       "  X1.5 sizes\n",
       "1 1    S    \n",
       "2 2    L    \n",
       "3 3    XL   \n",
       "4 4    S    \n",
       "5 5    M    "
      ]
     },
     "metadata": {},
     "output_type": "display_data"
    }
   ],
   "source": [
    "frame <- data.frame( 1:5, sizes=c( \"S\", \"L\", \"XL\", \"S\", \"M\") )\n",
    "frame"
   ]
  },
  {
   "cell_type": "code",
   "execution_count": 2,
   "id": "97ca9856",
   "metadata": {},
   "outputs": [
    {
     "name": "stdout",
     "output_type": "stream",
     "text": [
      "\n",
      "Column Data...\n",
      " chr [1:5] \"S\" \"L\" \"XL\" \"S\" \"M\"\n"
     ]
    }
   ],
   "source": [
    "cat( \"\\nColumn Data...\\n\" )\n",
    "str( frame$sizes )"
   ]
  },
  {
   "cell_type": "code",
   "execution_count": 3,
   "id": "f1ea382a",
   "metadata": {},
   "outputs": [],
   "source": [
    "var.sizes <- c( \"S\", \"L\", \"XL\", \"S\", \"M\" )"
   ]
  },
  {
   "cell_type": "code",
   "execution_count": 4,
   "id": "61f01670",
   "metadata": {},
   "outputs": [
    {
     "name": "stdout",
     "output_type": "stream",
     "text": [
      "\n",
      "Vector Data...\n",
      " chr [1:5] \"S\" \"L\" \"XL\" \"S\" \"M\"\n"
     ]
    }
   ],
   "source": [
    "cat( \"\\nVector Data...\\n\" )\n",
    "str( var.sizes )"
   ]
  },
  {
   "cell_type": "code",
   "execution_count": 5,
   "id": "19a4fff9",
   "metadata": {},
   "outputs": [
    {
     "data": {
      "text/html": [
       "<style>\n",
       ".list-inline {list-style: none; margin:0; padding: 0}\n",
       ".list-inline>li {display: inline-block}\n",
       ".list-inline>li:not(:last-child)::after {content: \"\\00b7\"; padding: 0 .5ex}\n",
       "</style>\n",
       "<ol class=list-inline><li>S</li><li>L</li><li>XL</li><li>S</li><li>M</li></ol>\n",
       "\n",
       "<details>\n",
       "\t<summary style=display:list-item;cursor:pointer>\n",
       "\t\t<strong>Levels</strong>:\n",
       "\t</summary>\n",
       "\t<style>\n",
       "\t.list-inline {list-style: none; margin:0; padding: 0}\n",
       "\t.list-inline>li {display: inline-block}\n",
       "\t.list-inline>li:not(:last-child)::after {content: \"\\00b7\"; padding: 0 .5ex}\n",
       "\t</style>\n",
       "\t<ol class=list-inline><li>'L'</li><li>'M'</li><li>'S'</li><li>'XL'</li></ol>\n",
       "</details>"
      ],
      "text/latex": [
       "\\begin{enumerate*}\n",
       "\\item S\n",
       "\\item L\n",
       "\\item XL\n",
       "\\item S\n",
       "\\item M\n",
       "\\end{enumerate*}\n",
       "\n",
       "\\emph{Levels}: \\begin{enumerate*}\n",
       "\\item 'L'\n",
       "\\item 'M'\n",
       "\\item 'S'\n",
       "\\item 'XL'\n",
       "\\end{enumerate*}\n"
      ],
      "text/markdown": [
       "1. S\n",
       "2. L\n",
       "3. XL\n",
       "4. S\n",
       "5. M\n",
       "\n",
       "\n",
       "\n",
       "**Levels**: 1. 'L'\n",
       "2. 'M'\n",
       "3. 'S'\n",
       "4. 'XL'\n",
       "\n",
       "\n"
      ],
      "text/plain": [
       "[1] S  L  XL S  M \n",
       "Levels: L M S XL"
      ]
     },
     "metadata": {},
     "output_type": "display_data"
    }
   ],
   "source": [
    "var.sizes <- factor( var.sizes )\n",
    "var.sizes"
   ]
  },
  {
   "cell_type": "code",
   "execution_count": 6,
   "id": "3a90ed95",
   "metadata": {},
   "outputs": [
    {
     "name": "stdout",
     "output_type": "stream",
     "text": [
      "\n",
      "Factored Vector Data...\n",
      " Factor w/ 4 levels \"L\",\"M\",\"S\",\"XL\": 3 1 4 3 2\n",
      "[1] \"L\"  \"M\"  \"S\"  \"XL\"\n"
     ]
    }
   ],
   "source": [
    "cat( \"\\nFactored Vector Data...\\n\" )\n",
    "str( var.sizes )\n",
    "print( levels( var.sizes ) )"
   ]
  },
  {
   "cell_type": "code",
   "execution_count": 7,
   "id": "f197b59e",
   "metadata": {},
   "outputs": [],
   "source": [
    "var.sizes <- factor( var.sizes, \n",
    "                     levels = c( \"S\",\"M\",\"L\",\"XL\" ) )"
   ]
  },
  {
   "cell_type": "code",
   "execution_count": 8,
   "id": "06b8aa45",
   "metadata": {},
   "outputs": [
    {
     "name": "stdout",
     "output_type": "stream",
     "text": [
      "\n",
      "Re-ordered Factored Vector Data...\n",
      " Factor w/ 4 levels \"S\",\"M\",\"L\",\"XL\": 1 3 4 1 2\n",
      "[1] \"S\"  \"M\"  \"L\"  \"XL\"\n"
     ]
    }
   ],
   "source": [
    "cat( \"\\nRe-ordered Factored Vector Data...\\n\" )\n",
    "str( var.sizes )\n",
    "print( levels( var.sizes ) )"
   ]
  },
  {
   "cell_type": "code",
   "execution_count": 9,
   "id": "6f0e9ec1",
   "metadata": {},
   "outputs": [
    {
     "name": "stdout",
     "output_type": "stream",
     "text": [
      "\n",
      "Reversed Factored Vector Data...\n",
      " Factor w/ 4 levels \"XL\",\"L\",\"M\",\"S\": 4 2 1 4 3\n",
      "[1] \"XL\" \"L\"  \"M\"  \"S\" \n"
     ]
    }
   ],
   "source": [
    "var.sizes <- factor( var.sizes, \n",
    "                     levels=rev( levels( var.sizes ) ) )\n",
    "cat( \"\\nReversed Factored Vector Data...\\n\" )\n",
    "str( var.sizes )\n",
    "print( levels( var.sizes ) )"
   ]
  }
 ],
 "metadata": {
  "jupytext": {
   "cell_metadata_filter": "-all",
   "main_language": "R",
   "notebook_metadata_filter": "-all"
  },
  "kernelspec": {
   "display_name": "R (system-wide)",
   "language": "r",
   "name": "ir"
  },
  "language_info": {
   "codemirror_mode": "r",
   "file_extension": ".r",
   "mimetype": "text/x-r-source",
   "name": "R",
   "pygments_lexer": "r",
   "version": "4.2.1"
  }
 },
 "nbformat": 4,
 "nbformat_minor": 5
}
