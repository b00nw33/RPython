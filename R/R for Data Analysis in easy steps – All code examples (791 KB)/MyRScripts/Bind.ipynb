{
 "cells": [
  {
   "cell_type": "code",
   "execution_count": 1,
   "id": "f41173b4",
   "metadata": {},
   "outputs": [],
   "source": [
    "start <- LETTERS[ 1:10 ]\n",
    "finish <- LETTERS[ 17:26 ]\n",
    "numeric <- seq( 1:10 )"
   ]
  },
  {
   "cell_type": "code",
   "execution_count": 2,
   "id": "3b1441f4",
   "metadata": {},
   "outputs": [
    {
     "name": "stdout",
     "output_type": "stream",
     "text": [
      "\n",
      "Bind Rows:\n",
      "\n",
      "        [,1] [,2] [,3] [,4] [,5] [,6] [,7] [,8] [,9] [,10]\n",
      "start   \"A\"  \"B\"  \"C\"  \"D\"  \"E\"  \"F\"  \"G\"  \"H\"  \"I\"  \"J\"  \n",
      "finish  \"Q\"  \"R\"  \"S\"  \"T\"  \"U\"  \"V\"  \"W\"  \"X\"  \"Y\"  \"Z\"  \n",
      "numeric \"1\"  \"2\"  \"3\"  \"4\"  \"5\"  \"6\"  \"7\"  \"8\"  \"9\"  \"10\" \n"
     ]
    }
   ],
   "source": [
    "table <- rbind( start, finish, numeric )\n",
    "cat( \"\\nBind Rows:\\n\\n\")\n",
    "print( table )"
   ]
  },
  {
   "cell_type": "code",
   "execution_count": 3,
   "id": "d49f83d8",
   "metadata": {},
   "outputs": [
    {
     "name": "stdout",
     "output_type": "stream",
     "text": [
      "\n",
      "Bind Columns:\n",
      "\n",
      "      start finish numeric\n",
      " [1,] \"A\"   \"Q\"    \"1\"    \n",
      " [2,] \"B\"   \"R\"    \"2\"    \n",
      " [3,] \"C\"   \"S\"    \"3\"    \n",
      " [4,] \"D\"   \"T\"    \"4\"    \n",
      " [5,] \"E\"   \"U\"    \"5\"    \n",
      " [6,] \"F\"   \"V\"    \"6\"    \n",
      " [7,] \"G\"   \"W\"    \"7\"    \n",
      " [8,] \"H\"   \"X\"    \"8\"    \n",
      " [9,] \"I\"   \"Y\"    \"9\"    \n",
      "[10,] \"J\"   \"Z\"    \"10\"   \n"
     ]
    }
   ],
   "source": [
    "table <- cbind( start, finish, numeric )\n",
    "cat( \"\\nBind Columns:\\n\\n\")\n",
    "print( table )"
   ]
  }
 ],
 "metadata": {
  "jupytext": {
   "cell_metadata_filter": "-all",
   "main_language": "R",
   "notebook_metadata_filter": "-all"
  },
  "kernelspec": {
   "display_name": "R (system-wide)",
   "language": "r",
   "name": "ir"
  },
  "language_info": {
   "codemirror_mode": "r",
   "file_extension": ".r",
   "mimetype": "text/x-r-source",
   "name": "R",
   "pygments_lexer": "r",
   "version": "4.2.1"
  }
 },
 "nbformat": 4,
 "nbformat_minor": 5
}
