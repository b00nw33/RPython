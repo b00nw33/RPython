{
 "cells": [
  {
   "cell_type": "code",
   "execution_count": 1,
   "id": "1acadc61",
   "metadata": {},
   "outputs": [],
   "source": [
    "frame <- read.csv( \"DataSet-Browsers.csv\" )"
   ]
  },
  {
   "cell_type": "code",
   "execution_count": 2,
   "id": "2295ec92",
   "metadata": {},
   "outputs": [
    {
     "name": "stdout",
     "output_type": "stream",
     "text": [
      "   Web.Browser.Version PerCentage.Market.Share\n",
      "33   Microsoft Edge 12                    0.33\n",
      "24   Microsoft Edge 13                    0.65\n",
      "5    Microsoft Edge 14                    3.60\n",
      "12   Microsoft Edge 15                    1.43\n"
     ]
    }
   ],
   "source": [
    "edge <- frame[ c( 33, 24, 5, 12 ),  ]\n",
    "print( edge )"
   ]
  },
  {
   "cell_type": "code",
   "execution_count": 3,
   "id": "1606e4a1",
   "metadata": {},
   "outputs": [],
   "source": [
    "edge.row <- edge[ 1 , ]"
   ]
  },
  {
   "cell_type": "code",
   "execution_count": 4,
   "id": "ebff468c",
   "metadata": {},
   "outputs": [
    {
     "name": "stdout",
     "output_type": "stream",
     "text": [
      "\n",
      "Row...\n",
      "   Web.Browser.Version PerCentage.Market.Share\n",
      "33   Microsoft Edge 12                    0.33\n"
     ]
    }
   ],
   "source": [
    "cat( \"\\nRow...\\n\")\n",
    "print( edge.row )"
   ]
  },
  {
   "cell_type": "code",
   "execution_count": 5,
   "id": "424c9cfd",
   "metadata": {},
   "outputs": [
    {
     "name": "stdout",
     "output_type": "stream",
     "text": [
      "Data Frame?: TRUE"
     ]
    }
   ],
   "source": [
    "cat( \"Data Frame?:\", is.data.frame( edge.row ) )"
   ]
  },
  {
   "cell_type": "code",
   "execution_count": 6,
   "id": "cb9d7694",
   "metadata": {},
   "outputs": [
    {
     "name": "stdout",
     "output_type": "stream",
     "text": [
      "\n",
      "\n",
      "Column...\n",
      "[1] 0.33 0.65 3.60 1.43\n"
     ]
    }
   ],
   "source": [
    "edge.col <- edge[ , 2 ]\n",
    "cat( \"\\n\\nColumn...\\n\" )\n",
    "print( edge.col )"
   ]
  },
  {
   "cell_type": "code",
   "execution_count": 7,
   "id": "04fe02ba",
   "metadata": {},
   "outputs": [
    {
     "name": "stdout",
     "output_type": "stream",
     "text": [
      "Data Frame?: FALSE\tVector?: TRUE"
     ]
    }
   ],
   "source": [
    "cat( \"Data Frame?:\", is.data.frame( edge.col ) )\n",
    "cat( \"\\tVector?:\", is.vector( edge.col ) )"
   ]
  },
  {
   "cell_type": "code",
   "execution_count": 8,
   "id": "904fa422",
   "metadata": {},
   "outputs": [
    {
     "name": "stdout",
     "output_type": "stream",
     "text": [
      "\n",
      "\n",
      "Column...\n",
      "   PerCentage.Market.Share\n",
      "33                    0.33\n",
      "24                    0.65\n",
      "5                     3.60\n",
      "12                    1.43\n"
     ]
    }
   ],
   "source": [
    "edge.col <- edge[ , 2, drop=FALSE ]\n",
    "cat( \"\\n\\nColumn...\\n\" )\n",
    "print( edge.col )"
   ]
  },
  {
   "cell_type": "code",
   "execution_count": 9,
   "id": "bdaa4555",
   "metadata": {},
   "outputs": [
    {
     "name": "stdout",
     "output_type": "stream",
     "text": [
      "Data Frame?: TRUE\tVector?: FALSE"
     ]
    }
   ],
   "source": [
    "cat( \"Data Frame?:\", is.data.frame( edge.col ) )\n",
    "cat( \"\\tVector?:\", is.vector( edge.col ) )"
   ]
  }
 ],
 "metadata": {
  "jupytext": {
   "cell_metadata_filter": "-all",
   "main_language": "R",
   "notebook_metadata_filter": "-all"
  },
  "kernelspec": {
   "display_name": "R (system-wide)",
   "language": "r",
   "name": "ir"
  },
  "language_info": {
   "codemirror_mode": "r",
   "file_extension": ".r",
   "mimetype": "text/x-r-source",
   "name": "R",
   "pygments_lexer": "r",
   "version": "4.2.1"
  }
 },
 "nbformat": 4,
 "nbformat_minor": 5
}
