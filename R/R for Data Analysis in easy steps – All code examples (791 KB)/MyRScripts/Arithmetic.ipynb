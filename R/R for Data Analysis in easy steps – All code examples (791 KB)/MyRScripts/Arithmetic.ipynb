{
 "cells": [
  {
   "cell_type": "code",
   "execution_count": null,
   "id": "c338200c",
   "metadata": {},
   "outputs": [],
   "source": [
    "large <- 5\n",
    "small <- 2"
   ]
  },
  {
   "cell_type": "code",
   "execution_count": null,
   "id": "73d13f12",
   "metadata": {},
   "outputs": [],
   "source": [
    "print( paste( \"Addition:\", large + small ) )\n",
    "print( paste( \"Subtraction:\", large - small ) )\n",
    "print( paste( \"Multiplication:\", large * small ) )"
   ]
  },
  {
   "cell_type": "code",
   "execution_count": null,
   "id": "57cc0c98",
   "metadata": {},
   "outputs": [],
   "source": [
    "print( paste( \"Division:\", large / small ) )\n",
    "print( paste( \"Integer Division:\", large %/% small ) )"
   ]
  },
  {
   "cell_type": "code",
   "execution_count": null,
   "id": "e8bdea86",
   "metadata": {},
   "outputs": [],
   "source": [
    "print( paste( \"Exponentiation:\", large ^ small ) )"
   ]
  },
  {
   "cell_type": "code",
   "execution_count": null,
   "id": "fa8bc936",
   "metadata": {},
   "outputs": [],
   "source": [
    "print( paste( \"Remainder:\", large %% small ) )"
   ]
  }
 ],
 "metadata": {
  "jupytext": {
   "cell_metadata_filter": "-all",
   "main_language": "R",
   "notebook_metadata_filter": "-all"
  }
 },
 "nbformat": 4,
 "nbformat_minor": 5
}
