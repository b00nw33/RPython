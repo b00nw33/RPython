{
 "cells": [
  {
   "cell_type": "code",
   "execution_count": 1,
   "id": "18316a45",
   "metadata": {},
   "outputs": [],
   "source": [
    "frame <- read.csv( \"DataSet-Browsers.csv\" )"
   ]
  },
  {
   "cell_type": "code",
   "execution_count": 2,
   "id": "e6f90ef5",
   "metadata": {},
   "outputs": [
    {
     "name": "stdout",
     "output_type": "stream",
     "text": [
      "Rows: 40 \tColumns: 2"
     ]
    }
   ],
   "source": [
    "cat( \"Rows:\", nrow( frame ), \"\\tColumns:\", ncol( frame ) )"
   ]
  },
  {
   "cell_type": "code",
   "execution_count": 3,
   "id": "96c610ec",
   "metadata": {},
   "outputs": [
    {
     "name": "stdout",
     "output_type": "stream",
     "text": [
      "\n",
      "Head...\n",
      "               Web.Browser.Version PerCentage.Market.Share\n",
      "1                      Chrome 61.0                   35.16\n",
      "2 Microsoft Internet Explorer 11.0                   12.52\n",
      "3                      Chrome 55.0                    7.40\n",
      "\n",
      "Tail...\n",
      "   Web.Browser.Version PerCentage.Market.Share\n",
      "38         Firefox 8.0                    0.19\n",
      "39          Firefox 47                    0.19\n",
      "40         Chrome 54.0                    0.17\n"
     ]
    }
   ],
   "source": [
    "cat( \"\\nHead...\\n\" )\n",
    "print( head( frame, n=3 ) )\n",
    "cat( \"\\nTail...\\n\" )       \n",
    "print( tail( frame, n=3 ) )"
   ]
  },
  {
   "cell_type": "code",
   "execution_count": 4,
   "id": "af979c99",
   "metadata": {},
   "outputs": [
    {
     "name": "stdout",
     "output_type": "stream",
     "text": [
      "\n",
      "Structure...\n",
      "'data.frame':\t40 obs. of  2 variables:\n",
      " $ Web.Browser.Version    : chr  \"Chrome 61.0\" \"Microsoft Internet Explorer 11.0\" \"Chrome 55.0\" \"Firefox 56\" ...\n",
      " $ PerCentage.Market.Share: num  35.16 12.52 7.4 6.53 3.6 ...\n",
      "NULL\n",
      "\n",
      "Summary...\n",
      " Web.Browser.Version PerCentage.Market.Share\n",
      " Length:40           Min.   : 0.170         \n",
      " Class :character    1st Qu.: 0.470         \n",
      " Mode  :character    Median : 0.820         \n",
      "                     Mean   : 2.373         \n",
      "                     3rd Qu.: 1.617         \n",
      "                     Max.   :35.160         \n"
     ]
    }
   ],
   "source": [
    "cat( \"\\nStructure...\\n\" )\n",
    "print( str( frame ) )\n",
    "cat( \"\\nSummary...\\n\" )\n",
    "print( summary( frame ) )"
   ]
  }
 ],
 "metadata": {
  "jupytext": {
   "cell_metadata_filter": "-all",
   "main_language": "R",
   "notebook_metadata_filter": "-all"
  },
  "kernelspec": {
   "display_name": "R (system-wide)",
   "language": "r",
   "name": "ir"
  },
  "language_info": {
   "codemirror_mode": "r",
   "file_extension": ".r",
   "mimetype": "text/x-r-source",
   "name": "R",
   "pygments_lexer": "r",
   "version": "4.2.1"
  }
 },
 "nbformat": 4,
 "nbformat_minor": 5
}
