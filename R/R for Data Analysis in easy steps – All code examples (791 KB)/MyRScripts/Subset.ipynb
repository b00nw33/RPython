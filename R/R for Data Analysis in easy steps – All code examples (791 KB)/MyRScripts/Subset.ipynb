{
 "cells": [
  {
   "cell_type": "code",
   "execution_count": 1,
   "id": "e8514500",
   "metadata": {},
   "outputs": [],
   "source": [
    "ny <- c( 3.8, 5.5, 9.9, 15.7, 21.5, 26.3 )\n",
    "la <- c( 19.5, 19.4, 19.7, 20.8, 21.3, 22.7 )\n",
    "fw <- c( 13.7, 15.4, 20.0, 24.6, 28.5, 32.7 )"
   ]
  },
  {
   "cell_type": "code",
   "execution_count": 2,
   "id": "462d25de",
   "metadata": {},
   "outputs": [],
   "source": [
    "table <- cbind( ny, la, fw )\n",
    "rownames( table ) <- month.name[ 1:6 ]\n",
    "colnames( table ) <- c( \"New York\", \"Los Angeles\", \"Fort Worth\" )"
   ]
  },
  {
   "cell_type": "code",
   "execution_count": 3,
   "id": "456cb1bd",
   "metadata": {},
   "outputs": [
    {
     "name": "stdout",
     "output_type": "stream",
     "text": [
      "\n",
      "Matrix...\n",
      "         New York Los Angeles Fort Worth\n",
      "January       3.8        19.5       13.7\n",
      "February      5.5        19.4       15.4\n",
      "March         9.9        19.7       20.0\n",
      "April        15.7        20.8       24.6\n",
      "May          21.5        21.3       28.5\n",
      "June         26.3        22.7       32.7\n"
     ]
    }
   ],
   "source": [
    "cat( \"\\nMatrix...\\n\")\n",
    "print( table )"
   ]
  },
  {
   "cell_type": "code",
   "execution_count": 4,
   "id": "6f9cd82f",
   "metadata": {},
   "outputs": [],
   "source": [
    "table.q1 <- table[ 1:3, c( 1, 3 ) ]"
   ]
  },
  {
   "cell_type": "code",
   "execution_count": 5,
   "id": "cb896119",
   "metadata": {},
   "outputs": [
    {
     "name": "stdout",
     "output_type": "stream",
     "text": [
      "\n",
      "Subset...\n",
      "         New York Fort Worth\n",
      "January       3.8       13.7\n",
      "February      5.5       15.4\n",
      "March         9.9       20.0\n"
     ]
    }
   ],
   "source": [
    "cat( \"\\nSubset...\\n\" )\n",
    "print( table.q1 )"
   ]
  }
 ],
 "metadata": {
  "jupytext": {
   "cell_metadata_filter": "-all",
   "main_language": "R",
   "notebook_metadata_filter": "-all"
  },
  "kernelspec": {
   "display_name": "R (system-wide)",
   "language": "r",
   "name": "ir"
  },
  "language_info": {
   "codemirror_mode": "r",
   "file_extension": ".r",
   "mimetype": "text/x-r-source",
   "name": "R",
   "pygments_lexer": "r",
   "version": "4.2.1"
  }
 },
 "nbformat": 4,
 "nbformat_minor": 5
}
