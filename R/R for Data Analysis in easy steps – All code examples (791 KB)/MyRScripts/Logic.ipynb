{
 "cells": [
  {
   "cell_type": "code",
   "execution_count": null,
   "id": "d13a9fa1",
   "metadata": {},
   "outputs": [],
   "source": [
    "active <- TRUE"
   ]
  },
  {
   "cell_type": "code",
   "execution_count": null,
   "id": "d72ae3b6",
   "metadata": {},
   "outputs": [],
   "source": [
    "print( paste( \"NOT logic !active:\", !active ) )"
   ]
  },
  {
   "cell_type": "code",
   "execution_count": null,
   "id": "e96d7a21",
   "metadata": {},
   "outputs": [],
   "source": [
    "flags <- c( TRUE, TRUE, FALSE, ( 1 > 0 ), 0 )\n",
    "marks <- c( FALSE, TRUE, TRUE, 16, FALSE )"
   ]
  },
  {
   "cell_type": "code",
   "execution_count": null,
   "id": "a7b80025",
   "metadata": {},
   "outputs": [],
   "source": [
    "print( paste( \"AND  logic:\", flags && marks ) )\n",
    "print( paste( \"OR logic:\", flags || marks ) )"
   ]
  },
  {
   "cell_type": "code",
   "execution_count": null,
   "id": "8aa6bdab",
   "metadata": {},
   "outputs": [],
   "source": [
    "and.result <- flags & marks\n",
    "or.result <- flags | marks"
   ]
  }
 ],
 "metadata": {
  "jupytext": {
   "cell_metadata_filter": "-all",
   "main_language": "R",
   "notebook_metadata_filter": "-all"
  }
 },
 "nbformat": 4,
 "nbformat_minor": 5
}
