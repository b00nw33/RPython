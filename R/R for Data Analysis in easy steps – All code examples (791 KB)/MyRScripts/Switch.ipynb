{
 "cells": [
  {
   "cell_type": "code",
   "execution_count": 1,
   "id": "cc70d76d",
   "metadata": {},
   "outputs": [],
   "source": [
    "month <- \"Feb\"\n",
    "year <- 2020\n",
    "num <- 0"
   ]
  },
  {
   "cell_type": "code",
   "execution_count": 2,
   "id": "b0ac73b1",
   "metadata": {},
   "outputs": [],
   "source": [
    "switch( month,\n",
    "        \"Jan\" = { num <- 31 } ,\n",
    "        \"Feb\" = { if ( year %% 4 == 0 ) \n",
    "                        num <- 29 else num <-  28 },\n",
    "        \"Mar\" = { num <- 31 } ,\n",
    "        \"Apr\" = { num <- 30 },\n",
    "        \"May\" = { num <- 31 },\n",
    "        \"Jun\" = { num <- 30 },\n",
    "        \"Jul\" = { num <- 31 },\n",
    "        \"Aug\" = { num <- 31 },\n",
    "        \"Sep\" = { num <- 30 },\n",
    "        \"Oct\" = { num <- 31 },\n",
    "        \"Nov\" = { num <- 30 },\n",
    "        \"Dec\" = { num <- 31 }\n",
    "        )"
   ]
  },
  {
   "cell_type": "code",
   "execution_count": 3,
   "id": "9bd160b6",
   "metadata": {},
   "outputs": [
    {
     "name": "stdout",
     "output_type": "stream",
     "text": [
      "[1] \"Feb 2020 has 29 days\"\n"
     ]
    }
   ],
   "source": [
    "print( paste( month, year,\"has\", num, \"days\" ) )"
   ]
  }
 ],
 "metadata": {
  "jupytext": {
   "cell_metadata_filter": "-all",
   "main_language": "R",
   "notebook_metadata_filter": "-all"
  },
  "kernelspec": {
   "display_name": "R (system-wide)",
   "language": "r",
   "name": "ir"
  },
  "language_info": {
   "codemirror_mode": "r",
   "file_extension": ".r",
   "mimetype": "text/x-r-source",
   "name": "R",
   "pygments_lexer": "r",
   "version": "4.2.1"
  }
 },
 "nbformat": 4,
 "nbformat_minor": 5
}
