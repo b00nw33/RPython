{
 "cells": [
  {
   "cell_type": "code",
   "execution_count": 1,
   "id": "e9ba84ef",
   "metadata": {},
   "outputs": [],
   "source": [
    "nums <- c( 1:59 )"
   ]
  },
  {
   "cell_type": "code",
   "execution_count": 2,
   "id": "0c626010",
   "metadata": {},
   "outputs": [
    {
     "name": "stdout",
     "output_type": "stream",
     "text": [
      "My Lucky Numbers: 40 11 39 32 57 14 \n",
      "\n"
     ]
    }
   ],
   "source": [
    "cat( \"My Lucky Numbers:\", sample( nums, 6 ), \"\\n\\n\" )"
   ]
  }
 ],
 "metadata": {
  "jupytext": {
   "cell_metadata_filter": "-all",
   "main_language": "R",
   "notebook_metadata_filter": "-all"
  },
  "kernelspec": {
   "display_name": "R (system-wide)",
   "language": "r",
   "name": "ir"
  },
  "language_info": {
   "codemirror_mode": "r",
   "file_extension": ".r",
   "mimetype": "text/x-r-source",
   "name": "R",
   "pygments_lexer": "r",
   "version": "4.2.1"
  }
 },
 "nbformat": 4,
 "nbformat_minor": 5
}
