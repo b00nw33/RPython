{
 "cells": [
  {
   "cell_type": "code",
   "execution_count": null,
   "id": "cc3404f0",
   "metadata": {},
   "outputs": [],
   "source": [
    "frame <- read.csv( \"DataSet-ProfSalaries.csv\" )\n",
    "library( ggplot2 )"
   ]
  },
  {
   "cell_type": "code",
   "execution_count": null,
   "id": "5ed9b9fe",
   "metadata": {},
   "outputs": [],
   "source": [
    "ggplot( data=frame, aes( x=salary )  ) +\n",
    "  geom_histogram( aes( fill=rank ), color=\"Black\", bins=20 ) +\n",
    "  facet_grid( rank~. )"
   ]
  },
  {
   "cell_type": "code",
   "execution_count": null,
   "id": "f97a5a85",
   "metadata": {},
   "outputs": [],
   "source": [
    "ggplot( data=frame, aes( x=salary )  ) +\n",
    "  geom_histogram( aes( fill=rank ), color=\"Black\", bins=20 ) +\n",
    "  facet_grid( rank~. , scales=\"free\" )"
   ]
  }
 ],
 "metadata": {
  "jupytext": {
   "cell_metadata_filter": "-all",
   "main_language": "R",
   "notebook_metadata_filter": "-all"
  }
 },
 "nbformat": 4,
 "nbformat_minor": 5
}
