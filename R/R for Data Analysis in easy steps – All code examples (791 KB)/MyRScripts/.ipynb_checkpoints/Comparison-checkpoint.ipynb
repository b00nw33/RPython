{
 "cells": [
  {
   "cell_type": "code",
   "execution_count": null,
   "id": "76d31585",
   "metadata": {},
   "outputs": [],
   "source": [
    "nil <- 0\n",
    "num <- 0\n",
    "max <- 1"
   ]
  },
  {
   "cell_type": "code",
   "execution_count": null,
   "id": "d983554d",
   "metadata": {},
   "outputs": [],
   "source": [
    "cap <- \"A\"\n",
    "low <- \"a\""
   ]
  },
  {
   "cell_type": "code",
   "execution_count": null,
   "id": "0b3a6d8f",
   "metadata": {},
   "outputs": [],
   "source": [
    "print( paste( \"0 == 0 Equality:\", nil == num ) )\n",
    "print( paste( \"A == a Equality:\", cap == low ) )"
   ]
  },
  {
   "cell_type": "code",
   "execution_count": null,
   "id": "4e5f5873",
   "metadata": {},
   "outputs": [],
   "source": [
    "print( paste( \"0 != 1 Inequality:\", nil != max ) )"
   ]
  },
  {
   "cell_type": "code",
   "execution_count": null,
   "id": "42e5ca4d",
   "metadata": {},
   "outputs": [],
   "source": [
    "print( paste( \"0 > 1 Greater:\", nil > max ) )\n",
    "print( paste( \"0 < 1 Less:\", nil < max ) )"
   ]
  },
  {
   "cell_type": "code",
   "execution_count": null,
   "id": "157d7295",
   "metadata": {},
   "outputs": [],
   "source": [
    "print( paste( \"0 >= 0 Greater or Equal:\", nil >= num ) )\n",
    "print( paste( \"1 <= 0 Less or Equal:\", max <= nil ) )"
   ]
  }
 ],
 "metadata": {
  "jupytext": {
   "cell_metadata_filter": "-all",
   "main_language": "R",
   "notebook_metadata_filter": "-all"
  }
 },
 "nbformat": 4,
 "nbformat_minor": 5
}
