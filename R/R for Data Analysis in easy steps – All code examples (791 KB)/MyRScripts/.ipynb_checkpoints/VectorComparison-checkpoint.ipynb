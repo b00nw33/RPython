{
 "cells": [
  {
   "cell_type": "code",
   "execution_count": null,
   "id": "dbd9c64d",
   "metadata": {},
   "outputs": [],
   "source": [
    "ascend <- c( 1:5 )\n",
    "descend <- c( 5:1 )"
   ]
  },
  {
   "cell_type": "code",
   "execution_count": null,
   "id": "d3de46b1",
   "metadata": {},
   "outputs": [],
   "source": [
    "cat( \"Vectors:\\n\", ascend,\"\\n\", descend )"
   ]
  },
  {
   "cell_type": "code",
   "execution_count": null,
   "id": "f0688b18",
   "metadata": {},
   "outputs": [],
   "source": [
    "result <- ascend > descend"
   ]
  },
  {
   "cell_type": "code",
   "execution_count": null,
   "id": "24cdb0d3",
   "metadata": {},
   "outputs": [],
   "source": [
    "cat( \"\\n1st Vector Greater?:\", result )"
   ]
  },
  {
   "cell_type": "code",
   "execution_count": null,
   "id": "8529e967",
   "metadata": {},
   "outputs": [],
   "source": [
    "cat( \"\\nAt Index No.:\", which( result ) )"
   ]
  },
  {
   "cell_type": "code",
   "execution_count": null,
   "id": "50c9bcad",
   "metadata": {},
   "outputs": [],
   "source": [
    "pets <- c( \"Dog\", \"Cat\", \"Gerbil\", \"Rabbit\" )\n",
    "animals <- c( \"Lion\",\"Tiger\", \"Cat\", \"Rabbit\" )"
   ]
  },
  {
   "cell_type": "code",
   "execution_count": null,
   "id": "1cc4c976",
   "metadata": {},
   "outputs": [],
   "source": [
    "cat( \"\\n\\nVectors:\\n\", pets,\"\\n\",animals )"
   ]
  },
  {
   "cell_type": "code",
   "execution_count": null,
   "id": "29b7b984",
   "metadata": {},
   "outputs": [],
   "source": [
    "result <- pets == animals"
   ]
  },
  {
   "cell_type": "code",
   "execution_count": null,
   "id": "52450394",
   "metadata": {},
   "outputs": [],
   "source": [
    "cat( \"\\nElement Match?:\", result )"
   ]
  },
  {
   "cell_type": "code",
   "execution_count": null,
   "id": "6787703c",
   "metadata": {},
   "outputs": [],
   "source": [
    "cat( \"\\nAt Index No.:\", which( result ) )"
   ]
  },
  {
   "cell_type": "code",
   "execution_count": null,
   "id": "60061517",
   "metadata": {},
   "outputs": [],
   "source": [
    "cat( \"\\nCommon:\", intersect( pets, animals ) )"
   ]
  }
 ],
 "metadata": {
  "jupytext": {
   "cell_metadata_filter": "-all",
   "main_language": "R",
   "notebook_metadata_filter": "-all"
  }
 },
 "nbformat": 4,
 "nbformat_minor": 5
}
