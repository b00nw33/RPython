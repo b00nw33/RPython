{
 "cells": [
  {
   "cell_type": "code",
   "execution_count": null,
   "id": "b050e750",
   "metadata": {},
   "outputs": [],
   "source": [
    "frame <- read.csv( \"DataSet-Browsers.csv\" )"
   ]
  },
  {
   "cell_type": "code",
   "execution_count": null,
   "id": "2f1b8fea",
   "metadata": {},
   "outputs": [],
   "source": [
    "cat( \"Head...\\n\" )\n",
    "print( head( frame, n=3 ) )"
   ]
  },
  {
   "cell_type": "code",
   "execution_count": null,
   "id": "acc81405",
   "metadata": {},
   "outputs": [],
   "source": [
    "data <- frame[ 1, 2 ]\n",
    "cat( \"\\nRow #1, Column #2:\", data , \"\\n\" )"
   ]
  },
  {
   "cell_type": "code",
   "execution_count": null,
   "id": "07253955",
   "metadata": {},
   "outputs": [],
   "source": [
    "data <- frame[ 2, \"PerCentage.Market.Share\" ]\n",
    "cat( \"\\nRow #2, Column #2:\", data, \"\\n\" )"
   ]
  },
  {
   "cell_type": "code",
   "execution_count": null,
   "id": "f0c8603d",
   "metadata": {},
   "outputs": [],
   "source": [
    "data <- frame$PerCentage.Market.Share[ 3 ]\n",
    "cat( \"\\nRow #3, Column #2:\", data, \"\\n\\n\" )"
   ]
  },
  {
   "cell_type": "code",
   "execution_count": null,
   "id": "6b7e5ee8",
   "metadata": {},
   "outputs": [],
   "source": [
    "print( levels( frame$Web.Browser.Version ) )"
   ]
  }
 ],
 "metadata": {
  "jupytext": {
   "cell_metadata_filter": "-all",
   "main_language": "R",
   "notebook_metadata_filter": "-all"
  }
 },
 "nbformat": 4,
 "nbformat_minor": 5
}
