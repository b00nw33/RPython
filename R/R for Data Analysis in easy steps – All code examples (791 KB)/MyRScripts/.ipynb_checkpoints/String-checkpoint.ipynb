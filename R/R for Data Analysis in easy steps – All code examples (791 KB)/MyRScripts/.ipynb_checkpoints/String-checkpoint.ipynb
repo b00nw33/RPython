{
 "cells": [
  {
   "cell_type": "code",
   "execution_count": null,
   "id": "e1cabae8",
   "metadata": {},
   "outputs": [],
   "source": [
    "string <- \"R for Data Analysis\""
   ]
  },
  {
   "cell_type": "code",
   "execution_count": null,
   "id": "00a225f5",
   "metadata": {},
   "outputs": [],
   "source": [
    "cat( \"Substring:\\t\", substr( string, 7, 10 ), \"\\n\" )"
   ]
  },
  {
   "cell_type": "code",
   "execution_count": null,
   "id": "bd89a481",
   "metadata": {},
   "outputs": [],
   "source": [
    "cat( \"Replaced:\\t\", sub( \"sis\", \"tics\", string ), \"\\n\\n\" )"
   ]
  },
  {
   "cell_type": "code",
   "execution_count": null,
   "id": "0972509a",
   "metadata": {},
   "outputs": [],
   "source": [
    "print( paste( \"Split: \", strsplit( string, \" \" ) ) )"
   ]
  },
  {
   "cell_type": "code",
   "execution_count": null,
   "id": "f76180db",
   "metadata": {},
   "outputs": [],
   "source": [
    "cat( \"\\nUppercase:\\t\", toupper( string ), \"\\n\\n\" )"
   ]
  },
  {
   "cell_type": "code",
   "execution_count": null,
   "id": "a2724df1",
   "metadata": {},
   "outputs": [],
   "source": [
    "now <-  Sys.time( )\n",
    "print( format( now, format=\"Date: %A, %B %e\" ) )\n",
    "print( format( now, format=\"Time: %H:%M\" ) )"
   ]
  }
 ],
 "metadata": {
  "jupytext": {
   "cell_metadata_filter": "-all",
   "main_language": "R",
   "notebook_metadata_filter": "-all"
  }
 },
 "nbformat": 4,
 "nbformat_minor": 5
}
