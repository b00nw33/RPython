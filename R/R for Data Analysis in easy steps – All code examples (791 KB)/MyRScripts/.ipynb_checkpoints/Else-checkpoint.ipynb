{
 "cells": [
  {
   "cell_type": "code",
   "execution_count": null,
   "id": "f90eb6a5",
   "metadata": {},
   "outputs": [],
   "source": [
    "hour <- 21"
   ]
  },
  {
   "cell_type": "code",
   "execution_count": null,
   "id": "dded4be2",
   "metadata": {},
   "outputs": [],
   "source": [
    "if( hour < 13 )\n",
    "{\n",
    "  print( paste( \"Good Morning:\", hour ) )\n",
    "} else\n",
    "  {\n",
    "    if( hour < 18 ) print( paste( \"Good Afternoon:\", hour ) )\n",
    "    else\n",
    "    {\n",
    "      print( paste( \"Good Evening:\", hour ) )\n",
    "    }\n",
    "  }"
   ]
  }
 ],
 "metadata": {
  "jupytext": {
   "cell_metadata_filter": "-all",
   "main_language": "R",
   "notebook_metadata_filter": "-all"
  }
 },
 "nbformat": 4,
 "nbformat_minor": 5
}
