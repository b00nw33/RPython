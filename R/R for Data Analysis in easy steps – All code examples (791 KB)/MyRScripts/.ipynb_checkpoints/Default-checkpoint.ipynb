{
 "cells": [
  {
   "cell_type": "code",
   "execution_count": null,
   "id": "6c4c1009",
   "metadata": {},
   "outputs": [],
   "source": [
    "launch <- function( num=5 )\n",
    "{\n",
    "  cat( num, \"- \" )\n",
    "  num <- ( num - 1 )\n",
    "  \n",
    "  if( num < 0 ) { return( NULL ) } else { launch( num ) }\n",
    "}"
   ]
  },
  {
   "cell_type": "code",
   "execution_count": null,
   "id": "825a4f1c",
   "metadata": {},
   "outputs": [],
   "source": [
    "graph <- function( x, y, ... )\n",
    "{\n",
    "  plot( x, y, col=\"Red\", type=\"o\", ... )\n",
    "}"
   ]
  },
  {
   "cell_type": "code",
   "execution_count": null,
   "id": "bf8078ce",
   "metadata": {},
   "outputs": [],
   "source": [
    "launch( )\n",
    "graph( 1:20, rnorm( 20 ), xlab=\"X Axis\", ylab=\"Y Axis\" )"
   ]
  }
 ],
 "metadata": {
  "jupytext": {
   "cell_metadata_filter": "-all",
   "main_language": "R",
   "notebook_metadata_filter": "-all"
  }
 },
 "nbformat": 4,
 "nbformat_minor": 5
}
