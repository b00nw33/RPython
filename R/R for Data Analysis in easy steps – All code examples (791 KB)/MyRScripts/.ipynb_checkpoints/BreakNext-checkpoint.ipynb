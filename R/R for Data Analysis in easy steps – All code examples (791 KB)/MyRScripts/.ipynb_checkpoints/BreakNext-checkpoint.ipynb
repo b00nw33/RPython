{
 "cells": [
  {
   "cell_type": "code",
   "execution_count": null,
   "id": "4ec66c28",
   "metadata": {},
   "outputs": [],
   "source": [
    "for( i in 1:3 )\n",
    "{\n",
    "  for( j in 1:3 )\n",
    "  {\n",
    "    if( i==1 && j==1)\n",
    "    {\n",
    "      cat( \"Skips Iteration at i=\", i, \" and j=\", j, \"\\n\" )\n",
    "      next\n",
    "    }\n",
    "    \n",
    "    if( i==2 && j==1)\n",
    "    {\n",
    "      cat( \"Breaks Inner Loop at i=\", i, \" and j=\", j, \"\\n\" )\n",
    "      break\n",
    "    }\n",
    "    \n",
    "    cat( \"Running i=\", i,\" j=\", j, \"\\n\" )\n",
    "  }\n",
    "}"
   ]
  }
 ],
 "metadata": {
  "jupytext": {
   "cell_metadata_filter": "-all",
   "main_language": "R",
   "notebook_metadata_filter": "-all"
  }
 },
 "nbformat": 4,
 "nbformat_minor": 5
}
