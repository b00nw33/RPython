{
 "cells": [
  {
   "cell_type": "code",
   "execution_count": null,
   "id": "2d459eff",
   "metadata": {},
   "outputs": [],
   "source": [
    "data <- 1:28"
   ]
  },
  {
   "cell_type": "code",
   "execution_count": null,
   "id": "60a586d8",
   "metadata": {},
   "outputs": [],
   "source": [
    "table <- matrix( data, nrow=4, ncol=7, byrow=TRUE, \n",
    "          dimnames=list( letters[ 1:4 ], LETTERS[ 1:7 ] ) )"
   ]
  },
  {
   "cell_type": "code",
   "execution_count": null,
   "id": "15ba197a",
   "metadata": {},
   "outputs": [],
   "source": [
    "cat( \"Matrix...\\n\" )\n",
    "print( table )"
   ]
  },
  {
   "cell_type": "code",
   "execution_count": null,
   "id": "9faa6ecc",
   "metadata": {},
   "outputs": [],
   "source": [
    "tier <- table[ 2, ]"
   ]
  },
  {
   "cell_type": "code",
   "execution_count": null,
   "id": "c23d4526",
   "metadata": {},
   "outputs": [],
   "source": [
    "cat( \"\\nSubset...\\n\\nRow #2 (Default)...\\n\" )\n",
    "print( tier )"
   ]
  },
  {
   "cell_type": "code",
   "execution_count": null,
   "id": "a94dbea7",
   "metadata": {},
   "outputs": [],
   "source": [
    "cat( \"\\nMatrix?:\", is.matrix( tier ) )\n",
    "cat( \"\\tVector?:\", is.vector( tier ), \"\\n\\n\" )"
   ]
  },
  {
   "cell_type": "code",
   "execution_count": null,
   "id": "ad1635f7",
   "metadata": {},
   "outputs": [],
   "source": [
    "tier <- table[ 2, , drop=FALSE ]"
   ]
  },
  {
   "cell_type": "code",
   "execution_count": null,
   "id": "6fdfbf60",
   "metadata": {},
   "outputs": [],
   "source": [
    "cat( \"\\nRow #2 (Drop=FALSE)...\\n\" )\n",
    "print( tier )"
   ]
  },
  {
   "cell_type": "code",
   "execution_count": null,
   "id": "90377174",
   "metadata": {},
   "outputs": [],
   "source": [
    "cat( \"\\nMatrix?:\", is.matrix( tier ) )\n",
    "cat( \"\\tVector?:\", is.vector( tier ), \"\\n\" )"
   ]
  }
 ],
 "metadata": {
  "jupytext": {
   "cell_metadata_filter": "-all",
   "main_language": "R",
   "notebook_metadata_filter": "-all"
  }
 },
 "nbformat": 4,
 "nbformat_minor": 5
}
