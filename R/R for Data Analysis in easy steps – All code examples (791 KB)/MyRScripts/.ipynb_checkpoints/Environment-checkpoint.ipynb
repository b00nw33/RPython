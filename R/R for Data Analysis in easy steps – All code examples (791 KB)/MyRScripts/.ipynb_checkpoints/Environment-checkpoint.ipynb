{
 "cells": [
  {
   "cell_type": "code",
   "execution_count": null,
   "id": "ddd67929",
   "metadata": {},
   "outputs": [],
   "source": [
    "iso.codes <- list( \"United Kingdom\"=\"UK\",\n",
    "              \"United States of America\" = \"US\",\n",
    "              France=\"FR\", Germany=\"DE\" )\n",
    "iso.japan <- \"JP\"\n",
    "iso.china <- \"CN\""
   ]
  },
  {
   "cell_type": "code",
   "execution_count": null,
   "id": "d8ad35e7",
   "metadata": {},
   "outputs": [],
   "source": [
    "ls( )"
   ]
  },
  {
   "cell_type": "code",
   "execution_count": null,
   "id": "1958e1f8",
   "metadata": {},
   "outputs": [],
   "source": [
    "rm( iso.japan, iso.china )\n",
    "ls( )"
   ]
  }
 ],
 "metadata": {
  "jupytext": {
   "cell_metadata_filter": "-all",
   "main_language": "R",
   "notebook_metadata_filter": "-all"
  }
 },
 "nbformat": 4,
 "nbformat_minor": 5
}
