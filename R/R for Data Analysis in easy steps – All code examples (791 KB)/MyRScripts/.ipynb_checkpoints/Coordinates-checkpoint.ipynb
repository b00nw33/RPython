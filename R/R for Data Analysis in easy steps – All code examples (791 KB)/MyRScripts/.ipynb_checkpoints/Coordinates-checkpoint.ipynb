{
 "cells": [
  {
   "cell_type": "code",
   "execution_count": null,
   "id": "ecaadda9",
   "metadata": {},
   "outputs": [],
   "source": [
    "frame <- read.csv( \"DataSet-ProfSalaries.csv\" )\n",
    "library( ggplot2 )"
   ]
  },
  {
   "cell_type": "code",
   "execution_count": null,
   "id": "c967c22a",
   "metadata": {},
   "outputs": [],
   "source": [
    "ggplot( data=frame, aes( x=salary ) ) +\n",
    "  geom_histogram( aes( fill=rank), color=\"Black\", bins=20 ) +\n",
    "  xlim( 80000, 140000 ) +\n",
    "  ylim( 0, 40 )"
   ]
  },
  {
   "cell_type": "code",
   "execution_count": null,
   "id": "59ff2e5f",
   "metadata": {},
   "outputs": [],
   "source": [
    "ggplot( data=frame, aes( x=salary ) ) +\n",
    "  geom_histogram(  aes( fill=rank), color=\"Black\", bins=20 ) +\n",
    "  coord_cartesian( xlim=c( 80000, 140000 ), ylim=c( 0, 40 ) )"
   ]
  }
 ],
 "metadata": {
  "jupytext": {
   "cell_metadata_filter": "-all",
   "main_language": "R",
   "notebook_metadata_filter": "-all"
  }
 },
 "nbformat": 4,
 "nbformat_minor": 5
}
