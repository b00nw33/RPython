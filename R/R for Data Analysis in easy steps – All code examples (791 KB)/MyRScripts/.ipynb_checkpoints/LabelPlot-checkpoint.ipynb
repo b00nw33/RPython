{
 "cells": [
  {
   "cell_type": "code",
   "execution_count": null,
   "id": "3a589c77",
   "metadata": {},
   "outputs": [],
   "source": [
    "frame <- read.csv( \"DataSet-Autos.csv\" )"
   ]
  },
  {
   "cell_type": "code",
   "execution_count": null,
   "id": "6221375e",
   "metadata": {},
   "outputs": [],
   "source": [
    "library( ggplot2 )"
   ]
  },
  {
   "cell_type": "code",
   "execution_count": null,
   "id": "a624c1e1",
   "metadata": {},
   "outputs": [],
   "source": [
    "Cylinders <- factor( frame$cyl )"
   ]
  },
  {
   "cell_type": "code",
   "execution_count": null,
   "id": "92d57169",
   "metadata": {},
   "outputs": [],
   "source": [
    "qplot( mpg, wt, data=frame,\n",
    "       geom=c(\"point\", \"smooth\" ),\n",
    "       color=Cylinders, \n",
    "       xlab=\"Miles Per Gallon (US)\", \n",
    "       ylab=\"Weight (1000 lbs)\", \n",
    "       main=\"Automobile Comparison\"\n",
    ") "
   ]
  },
  {
   "cell_type": "code",
   "execution_count": null,
   "id": "bd6c928a",
   "metadata": {},
   "outputs": [],
   "source": [
    "qplot( mpg, wt, data=frame,\n",
    "       geom=c(\"point\", \"smooth\", \"text\"),\n",
    "       color=Cylinders, \n",
    "       xlab=\"Miles Per Gallon\", \n",
    "       ylab=\"Weight (1000 lbs)\", \n",
    "       main=\"Automobile Comparison\",\n",
    "       label=frame$model,\n",
    "       xlim=c(8,35), \n",
    "       ylim=c(0,6)\n",
    "       ) "
   ]
  }
 ],
 "metadata": {
  "jupytext": {
   "cell_metadata_filter": "-all",
   "main_language": "R",
   "notebook_metadata_filter": "-all"
  }
 },
 "nbformat": 4,
 "nbformat_minor": 5
}
