{
 "cells": [
  {
   "cell_type": "code",
   "execution_count": null,
   "id": "b9e6f8f6",
   "metadata": {},
   "outputs": [],
   "source": [
    "frame <- data.frame( 1:5, sizes=c( \"S\", \"L\", \"XL\", \"S\", \"M\") )"
   ]
  },
  {
   "cell_type": "code",
   "execution_count": null,
   "id": "97ca9856",
   "metadata": {},
   "outputs": [],
   "source": [
    "cat( \"\\nColumn Data...\\n\" )\n",
    "str( frame$sizes )"
   ]
  },
  {
   "cell_type": "code",
   "execution_count": null,
   "id": "f1ea382a",
   "metadata": {},
   "outputs": [],
   "source": [
    "var.sizes <- c( \"S\", \"L\", \"XL\", \"S\", \"M\" )"
   ]
  },
  {
   "cell_type": "code",
   "execution_count": null,
   "id": "61f01670",
   "metadata": {},
   "outputs": [],
   "source": [
    "cat( \"\\nVector Data...\\n\" )\n",
    "str( var.sizes )"
   ]
  },
  {
   "cell_type": "code",
   "execution_count": null,
   "id": "19a4fff9",
   "metadata": {},
   "outputs": [],
   "source": [
    "var.sizes <- factor( var.sizes )"
   ]
  },
  {
   "cell_type": "code",
   "execution_count": null,
   "id": "3a90ed95",
   "metadata": {},
   "outputs": [],
   "source": [
    "cat( \"\\nFactored Vector Data...\\n\" )\n",
    "str( var.sizes )\n",
    "print( levels( var.sizes ) )"
   ]
  },
  {
   "cell_type": "code",
   "execution_count": null,
   "id": "f197b59e",
   "metadata": {},
   "outputs": [],
   "source": [
    "var.sizes <- factor( var.sizes, \n",
    "                     levels = c( \"S\",\"M\",\"L\",\"XL\" ) )"
   ]
  },
  {
   "cell_type": "code",
   "execution_count": null,
   "id": "06b8aa45",
   "metadata": {},
   "outputs": [],
   "source": [
    "cat( \"\\nRe-ordered Factored Vector Data...\\n\" )\n",
    "str( var.sizes )\n",
    "print( levels( var.sizes ) )"
   ]
  },
  {
   "cell_type": "code",
   "execution_count": null,
   "id": "6f0e9ec1",
   "metadata": {},
   "outputs": [],
   "source": [
    "var.sizes <- factor( var.sizes, \n",
    "                     levels=rev( levels( var.sizes ) ) )\n",
    "cat( \"\\nReversed Factored Vector Data...\\n\" )\n",
    "str( var.sizes )\n",
    "print( levels( var.sizes ) )"
   ]
  }
 ],
 "metadata": {
  "jupytext": {
   "cell_metadata_filter": "-all",
   "main_language": "R",
   "notebook_metadata_filter": "-all"
  }
 },
 "nbformat": 4,
 "nbformat_minor": 5
}
