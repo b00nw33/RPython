{
 "cells": [
  {
   "cell_type": "code",
   "execution_count": null,
   "id": "c9e4bcdc",
   "metadata": {},
   "outputs": [],
   "source": [
    "frame <- read.csv( \"DataSet-Browsers.csv\" )"
   ]
  },
  {
   "cell_type": "code",
   "execution_count": null,
   "id": "7e1e434c",
   "metadata": {},
   "outputs": [],
   "source": [
    "display <- function( title ) { \n",
    "  cat( \"\\n\", title, \"...\\n\" )\n",
    "  print( head( frame, n=2 ) )\n",
    "}"
   ]
  },
  {
   "cell_type": "code",
   "execution_count": null,
   "id": "25be2c2e",
   "metadata": {},
   "outputs": [],
   "source": [
    "display(\"Original Columns\" )"
   ]
  },
  {
   "cell_type": "code",
   "execution_count": null,
   "id": "12c3d42e",
   "metadata": {},
   "outputs": [],
   "source": [
    "colnames( frame ) <- c( \"Web.Browser\", \"PerCentage\" )\n",
    "display( \"Renamed Columns\" )"
   ]
  },
  {
   "cell_type": "code",
   "execution_count": null,
   "id": "9fb5af2a",
   "metadata": {},
   "outputs": [],
   "source": [
    "frame$Market.Share <- \n",
    "  paste( as.character( frame$PerCentage ),\"%\", sep=\"\" )\n",
    "frame$PerCentage <-  NULL\n",
    "display( \"Switched Columns\" )"
   ]
  }
 ],
 "metadata": {
  "jupytext": {
   "cell_metadata_filter": "-all",
   "main_language": "R",
   "notebook_metadata_filter": "-all"
  }
 },
 "nbformat": 4,
 "nbformat_minor": 5
}
