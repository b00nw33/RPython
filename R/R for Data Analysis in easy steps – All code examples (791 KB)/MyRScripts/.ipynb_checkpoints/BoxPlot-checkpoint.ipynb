{
 "cells": [
  {
   "cell_type": "code",
   "execution_count": null,
   "id": "73c01ce7",
   "metadata": {},
   "outputs": [],
   "source": [
    "frame <- read.csv( \"DataSet-Experiment.csv\" )"
   ]
  },
  {
   "cell_type": "code",
   "execution_count": null,
   "id": "16399e87",
   "metadata": {},
   "outputs": [],
   "source": [
    "print( head( frame, n=3 ) )"
   ]
  },
  {
   "cell_type": "code",
   "execution_count": null,
   "id": "1b4f0ed8",
   "metadata": {},
   "outputs": [],
   "source": [
    "library( ggplot2 )"
   ]
  },
  {
   "cell_type": "code",
   "execution_count": null,
   "id": "96eb077b",
   "metadata": {},
   "outputs": [],
   "source": [
    "qplot( Group, Weight, data=frame, \n",
    "       geom=c( \"boxplot\", \"jitter\" ), \n",
    "       fill=Group,\n",
    "       main=\"Experiment Results\" \n",
    ")"
   ]
  },
  {
   "cell_type": "code",
   "execution_count": null,
   "id": "e26a1ae1",
   "metadata": {},
   "outputs": [],
   "source": [
    "qplot( Group, Weight, data=frame, \n",
    "       geom=\"violin\", trim=FALSE, \n",
    "       fill=Group,\n",
    "       main=\"Experiment Results\" \n",
    ")"
   ]
  }
 ],
 "metadata": {
  "jupytext": {
   "cell_metadata_filter": "-all",
   "main_language": "R",
   "notebook_metadata_filter": "-all"
  }
 },
 "nbformat": 4,
 "nbformat_minor": 5
}
