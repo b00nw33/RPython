{
 "cells": [
  {
   "cell_type": "code",
   "execution_count": null,
   "id": "f41173b4",
   "metadata": {},
   "outputs": [],
   "source": [
    "start <- LETTERS[ 1:10 ]\n",
    "finish <- LETTERS[ 17:26 ]\n",
    "numeric <- seq( 1:10 )"
   ]
  },
  {
   "cell_type": "code",
   "execution_count": null,
   "id": "3b1441f4",
   "metadata": {},
   "outputs": [],
   "source": [
    "table <- rbind( start, finish, numeric )\n",
    "cat( \"\\nBind Rows:\\n\\n\")\n",
    "print( table )"
   ]
  },
  {
   "cell_type": "code",
   "execution_count": null,
   "id": "d49f83d8",
   "metadata": {},
   "outputs": [],
   "source": [
    "table <- cbind( start, finish, numeric )\n",
    "cat( \"\\nBind Columns:\\n\\n\")\n",
    "print( table )"
   ]
  }
 ],
 "metadata": {
  "jupytext": {
   "cell_metadata_filter": "-all",
   "main_language": "R",
   "notebook_metadata_filter": "-all"
  }
 },
 "nbformat": 4,
 "nbformat_minor": 5
}
