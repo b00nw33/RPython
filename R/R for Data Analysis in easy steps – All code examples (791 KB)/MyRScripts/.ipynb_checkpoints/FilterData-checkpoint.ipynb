{
 "cells": [
  {
   "cell_type": "code",
   "execution_count": null,
   "id": "4ca786e6",
   "metadata": {},
   "outputs": [],
   "source": [
    "frame <- read.csv( \"DataSet-Browsers.csv\" )"
   ]
  },
  {
   "cell_type": "code",
   "execution_count": null,
   "id": "ca4a42ba",
   "metadata": {},
   "outputs": [],
   "source": [
    "top <- frame[ frame$PerCentage.Market.Share > 10 , ]\n",
    "cat( \"\\nTop Browsers...\\n\" )\n",
    "print( top )"
   ]
  },
  {
   "cell_type": "code",
   "execution_count": null,
   "id": "d186259a",
   "metadata": {},
   "outputs": [],
   "source": [
    "mid <- frame[ frame$PerCentage.Market.Share > 3 & \n",
    "                frame$PerCentage.Market.Share < 10, ]\n",
    "cat( \"\\nPopular Browsers...\\n\" )\n",
    "print( mid )"
   ]
  },
  {
   "cell_type": "code",
   "execution_count": null,
   "id": "3743e108",
   "metadata": {},
   "outputs": [],
   "source": [
    "google <- frame[ grep( \"Chrome\", frame$Web.Browser.Version ),  ]\n",
    "cat( \"\\nGoogle Browsers...\\n\" )\n",
    "print( google )"
   ]
  }
 ],
 "metadata": {
  "jupytext": {
   "cell_metadata_filter": "-all",
   "main_language": "R",
   "notebook_metadata_filter": "-all"
  }
 },
 "nbformat": 4,
 "nbformat_minor": 5
}
