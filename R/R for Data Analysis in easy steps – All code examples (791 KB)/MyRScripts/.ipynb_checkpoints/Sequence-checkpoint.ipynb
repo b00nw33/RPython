{
 "cells": [
  {
   "cell_type": "code",
   "execution_count": null,
   "id": "4a89e3ea",
   "metadata": {},
   "outputs": [],
   "source": [
    "half.year <- month.abb[ 1:6 ]\n",
    "cat( \"Constant:\", half.year, \"\\n\" )"
   ]
  },
  {
   "cell_type": "code",
   "execution_count": null,
   "id": "17fa3811",
   "metadata": {},
   "outputs": [],
   "source": [
    "cat( \"Sequence:\", seq( 1, 8 ), \"\\n\" )\n",
    "cat( \"Two Step:\", seq( 1, 8, 2 ), \"\\n\\n\" )"
   ]
  },
  {
   "cell_type": "code",
   "execution_count": null,
   "id": "875a7b95",
   "metadata": {},
   "outputs": [],
   "source": [
    "cat( \"Distributed:\", seq( 1, 8, length.out=4 ), \"\\n\" )\n",
    "cat( \"Distributed:\", seq( 1, 8, along.with = half.year ), \"\\n\\n\" )"
   ]
  },
  {
   "cell_type": "code",
   "execution_count": null,
   "id": "96c26e03",
   "metadata": {},
   "outputs": [],
   "source": [
    "cat( \"Replicated:\", rep( 5, 9 ), \"\\n\" )"
   ]
  },
  {
   "cell_type": "code",
   "execution_count": null,
   "id": "76217129",
   "metadata": {},
   "outputs": [],
   "source": [
    "cat( \"Replicated:\", rep( 1:4, 3 ), \"\\n\" )"
   ]
  },
  {
   "cell_type": "code",
   "execution_count": null,
   "id": "77cc06d1",
   "metadata": {},
   "outputs": [],
   "source": [
    "cat( \"Replicated:\", rep( 1:4, 3, each=2 ), \"\\n\" )"
   ]
  }
 ],
 "metadata": {
  "jupytext": {
   "cell_metadata_filter": "-all",
   "main_language": "R",
   "notebook_metadata_filter": "-all"
  }
 },
 "nbformat": 4,
 "nbformat_minor": 5
}
