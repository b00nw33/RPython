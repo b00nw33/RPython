{
 "cells": [
  {
   "cell_type": "code",
   "execution_count": null,
   "id": "76aa4e5a",
   "metadata": {},
   "outputs": [],
   "source": [
    "nums <- sample( 1:6, 30, replace=TRUE )"
   ]
  },
  {
   "cell_type": "code",
   "execution_count": null,
   "id": "b0b9f9e9",
   "metadata": {},
   "outputs": [],
   "source": [
    "print( nums )"
   ]
  },
  {
   "cell_type": "code",
   "execution_count": null,
   "id": "3fe32c38",
   "metadata": {},
   "outputs": [],
   "source": [
    "library( ggplot2 )"
   ]
  },
  {
   "cell_type": "code",
   "execution_count": null,
   "id": "c3475398",
   "metadata": {},
   "outputs": [],
   "source": [
    "qplot( nums, geom=\"bar\",\n",
    "       color=I(\"Blue\"),\n",
    "       fill=I(\"Lightblue\"),\n",
    "       xlab=\"Face\",\n",
    "       ylab=\"Frequency\",\n",
    "       main=\"30 Shakes of the Dice\"\n",
    ") + scale_x_continuous( breaks = 1:6, \n",
    "    labels=c(\"One\", \"Two\", \"Three\", \"Four\", \"Five\", \"Six\" ) )"
   ]
  }
 ],
 "metadata": {
  "jupytext": {
   "cell_metadata_filter": "-all",
   "main_language": "R",
   "notebook_metadata_filter": "-all"
  }
 },
 "nbformat": 4,
 "nbformat_minor": 5
}
