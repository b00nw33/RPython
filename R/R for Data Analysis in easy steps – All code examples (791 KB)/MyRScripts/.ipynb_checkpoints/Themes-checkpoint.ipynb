{
 "cells": [
  {
   "cell_type": "code",
   "execution_count": null,
   "id": "54648bee",
   "metadata": {},
   "outputs": [],
   "source": [
    "frame <- read.csv( \"DataSet-ProfSalaries.csv\" )\n",
    "library( ggplot2 )"
   ]
  },
  {
   "cell_type": "code",
   "execution_count": null,
   "id": "ca33cce9",
   "metadata": {},
   "outputs": [],
   "source": [
    "ggplot( data=frame, aes( x=rank, y=salary ) ) +\n",
    "  geom_jitter( aes( color=rank ) ) +\n",
    "  geom_boxplot( aes( color=rank ), alpha=0.5 ) +\n",
    "  \n",
    "  theme( \n",
    "    \n",
    "    axis.title.x=element_text( size=15, color=\"Red\" ),\n",
    "    axis.title.y=element_text( size=15, color=\"Blue\" ),\n",
    "    legend.title=element_text( size=15 ),\n",
    "    axis.text.x=element_text( size=15, color=\"Red\" ),\n",
    "    axis.text.y=element_text( size=15, color=\"Blue\" ),\n",
    "    legend.text=element_text( size=15 ),\n",
    "    \n",
    "    legend.justification=c( 0, 1 ),\n",
    "    legend.position=c( 0.02, 0.97 )\n",
    "\n",
    "    )"
   ]
  }
 ],
 "metadata": {
  "jupytext": {
   "cell_metadata_filter": "-all",
   "main_language": "R",
   "notebook_metadata_filter": "-all"
  }
 },
 "nbformat": 4,
 "nbformat_minor": 5
}
