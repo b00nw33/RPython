{
 "cells": [
  {
   "cell_type": "markdown",
   "id": "a2353e28",
   "metadata": {},
   "source": [
    "Script name:  Comment.R\n",
    "Created on:   March 1,2019\n",
    "Author:       Mike McGrath\n",
    "Purpose:      Echo user input\n",
    "Version:      1.0\n",
    "Execution:    Must be run as Source to await user input."
   ]
  },
  {
   "cell_type": "code",
   "execution_count": null,
   "id": "e25e3bf3",
   "metadata": {},
   "outputs": [],
   "source": [
    "# Request user input.\n",
    "name <- readline( \"Please enter your name: \" )"
   ]
  },
  {
   "cell_type": "code",
   "execution_count": null,
   "id": "4fca5a98",
   "metadata": {},
   "outputs": [],
   "source": [
    "# Concatenate input and strings.\n",
    "greeting <- paste( \"Welcome\", name, \"!\" )"
   ]
  },
  {
   "cell_type": "code",
   "execution_count": null,
   "id": "f05c4417",
   "metadata": {},
   "outputs": [],
   "source": [
    "# Output concatenated string.\n",
    "print( greeting )"
   ]
  }
 ],
 "metadata": {
  "jupytext": {
   "cell_metadata_filter": "-all",
   "main_language": "R",
   "notebook_metadata_filter": "-all"
  }
 },
 "nbformat": 4,
 "nbformat_minor": 5
}
