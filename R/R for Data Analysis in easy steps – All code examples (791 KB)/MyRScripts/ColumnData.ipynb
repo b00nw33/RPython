{
 "cells": [
  {
   "cell_type": "code",
   "execution_count": 1,
   "id": "c9e4bcdc",
   "metadata": {},
   "outputs": [],
   "source": [
    "frame <- read.csv( \"DataSet-Browsers.csv\" )"
   ]
  },
  {
   "cell_type": "code",
   "execution_count": 2,
   "id": "7e1e434c",
   "metadata": {},
   "outputs": [],
   "source": [
    "display <- function( title ) { \n",
    "  cat( \"\\n\", title, \"...\\n\" )\n",
    "  print( head( frame, n=2 ) )\n",
    "}"
   ]
  },
  {
   "cell_type": "code",
   "execution_count": 3,
   "id": "25be2c2e",
   "metadata": {},
   "outputs": [
    {
     "name": "stdout",
     "output_type": "stream",
     "text": [
      "\n",
      " Original Columns ...\n",
      "               Web.Browser.Version PerCentage.Market.Share\n",
      "1                      Chrome 61.0                   35.16\n",
      "2 Microsoft Internet Explorer 11.0                   12.52\n"
     ]
    }
   ],
   "source": [
    "display(\"Original Columns\" )"
   ]
  },
  {
   "cell_type": "code",
   "execution_count": 4,
   "id": "12c3d42e",
   "metadata": {},
   "outputs": [
    {
     "name": "stdout",
     "output_type": "stream",
     "text": [
      "\n",
      " Renamed Columns ...\n",
      "                       Web.Browser PerCentage\n",
      "1                      Chrome 61.0      35.16\n",
      "2 Microsoft Internet Explorer 11.0      12.52\n"
     ]
    }
   ],
   "source": [
    "colnames( frame ) <- c( \"Web.Browser\", \"PerCentage\" )\n",
    "display( \"Renamed Columns\" )"
   ]
  },
  {
   "cell_type": "code",
   "execution_count": 5,
   "id": "9fb5af2a",
   "metadata": {},
   "outputs": [
    {
     "name": "stdout",
     "output_type": "stream",
     "text": [
      "\n",
      " Switched Columns ...\n",
      "                       Web.Browser PerCentage Market.Share\n",
      "1                      Chrome 61.0      35.16       35.16%\n",
      "2 Microsoft Internet Explorer 11.0      12.52       12.52%\n"
     ]
    }
   ],
   "source": [
    "frame$Market.Share <- \n",
    "  paste( as.character( frame$PerCentage ),\"%\", sep=\"\" )\n",
    "# frame$PerCentage <-  NULL\n",
    "display( \"Switched Columns\" )"
   ]
  },
  {
   "cell_type": "code",
   "execution_count": 13,
   "id": "4081a5ba-175f-4442-b375-b1fad4fcc404",
   "metadata": {},
   "outputs": [
    {
     "data": {
      "text/html": [
       "<table class=\"dataframe\">\n",
       "<caption>A data.frame: 40 × 3</caption>\n",
       "<thead>\n",
       "\t<tr><th scope=col>Market.Share</th><th scope=col>PerCentage</th><th scope=col>Web.Browser</th></tr>\n",
       "\t<tr><th scope=col>&lt;chr&gt;</th><th scope=col>&lt;dbl&gt;</th><th scope=col>&lt;chr&gt;</th></tr>\n",
       "</thead>\n",
       "<tbody>\n",
       "\t<tr><td>35.16%</td><td>35.16</td><td>Chrome 61.0                     </td></tr>\n",
       "\t<tr><td>12.52%</td><td>12.52</td><td>Microsoft Internet Explorer 11.0</td></tr>\n",
       "\t<tr><td>7.4%  </td><td> 7.40</td><td>Chrome 55.0                     </td></tr>\n",
       "\t<tr><td>6.53% </td><td> 6.53</td><td>Firefox 56                      </td></tr>\n",
       "\t<tr><td>3.6%  </td><td> 3.60</td><td>Microsoft Edge 14               </td></tr>\n",
       "\t<tr><td>2.26% </td><td> 2.26</td><td>Chrome 49.0                     </td></tr>\n",
       "\t<tr><td>2.19% </td><td> 2.19</td><td>Chrome 60.0                     </td></tr>\n",
       "\t<tr><td>1.86% </td><td> 1.86</td><td>Chrome 45.0                     </td></tr>\n",
       "\t<tr><td>1.76% </td><td> 1.76</td><td>Chrome 62.0                     </td></tr>\n",
       "\t<tr><td>1.7%  </td><td> 1.70</td><td>Safari 11.0                     </td></tr>\n",
       "\t<tr><td>1.59% </td><td> 1.59</td><td>Chrome 50.0                     </td></tr>\n",
       "\t<tr><td>1.43% </td><td> 1.43</td><td>Microsoft Edge 15               </td></tr>\n",
       "\t<tr><td>1.25% </td><td> 1.25</td><td>Chrome 58.0                     </td></tr>\n",
       "\t<tr><td>1.24% </td><td> 1.24</td><td>Firefox 55                      </td></tr>\n",
       "\t<tr><td>1.12% </td><td> 1.12</td><td>Microsoft Internet Explorer 8.0 </td></tr>\n",
       "\t<tr><td>1.06% </td><td> 1.06</td><td>Firefox 52                      </td></tr>\n",
       "\t<tr><td>0.93% </td><td> 0.93</td><td>Chrome 53.0                     </td></tr>\n",
       "\t<tr><td>0.85% </td><td> 0.85</td><td>Safari 10.0                     </td></tr>\n",
       "\t<tr><td>0.85% </td><td> 0.85</td><td>Opera 48                        </td></tr>\n",
       "\t<tr><td>0.83% </td><td> 0.83</td><td>Firefox 53                      </td></tr>\n",
       "\t<tr><td>0.81% </td><td> 0.81</td><td>Microsoft Internet Explorer 9.0 </td></tr>\n",
       "\t<tr><td>0.76% </td><td> 0.76</td><td>Firefox 40                      </td></tr>\n",
       "\t<tr><td>0.66% </td><td> 0.66</td><td>Safari 10.1                     </td></tr>\n",
       "\t<tr><td>0.65% </td><td> 0.65</td><td>Microsoft Edge 13               </td></tr>\n",
       "\t<tr><td>0.64% </td><td> 0.64</td><td>Chrome 47.0                     </td></tr>\n",
       "\t<tr><td>0.56% </td><td> 0.56</td><td>Chrome 59.0                     </td></tr>\n",
       "\t<tr><td>0.54% </td><td> 0.54</td><td>Microsoft Internet Explorer 10.0</td></tr>\n",
       "\t<tr><td>0.52% </td><td> 0.52</td><td>Safari 8.0                      </td></tr>\n",
       "\t<tr><td>0.49% </td><td> 0.49</td><td>Chrome 56.0                     </td></tr>\n",
       "\t<tr><td>0.47% </td><td> 0.47</td><td>Firefox 57                      </td></tr>\n",
       "\t<tr><td>0.47% </td><td> 0.47</td><td>Chrome 57.0                     </td></tr>\n",
       "\t<tr><td>0.41% </td><td> 0.41</td><td>Chrome 43.0                     </td></tr>\n",
       "\t<tr><td>0.33% </td><td> 0.33</td><td>Microsoft Edge 12               </td></tr>\n",
       "\t<tr><td>0.28% </td><td> 0.28</td><td>Chrome 60.4                     </td></tr>\n",
       "\t<tr><td>0.26% </td><td> 0.26</td><td>Safari 9.1                      </td></tr>\n",
       "\t<tr><td>0.21% </td><td> 0.21</td><td>Firefox 50                      </td></tr>\n",
       "\t<tr><td>0.2%  </td><td> 0.20</td><td>Firefox 54                      </td></tr>\n",
       "\t<tr><td>0.19% </td><td> 0.19</td><td>Firefox 8.0                     </td></tr>\n",
       "\t<tr><td>0.19% </td><td> 0.19</td><td>Firefox 47                      </td></tr>\n",
       "\t<tr><td>0.17% </td><td> 0.17</td><td>Chrome 54.0                     </td></tr>\n",
       "</tbody>\n",
       "</table>\n"
      ],
      "text/latex": [
       "A data.frame: 40 × 3\n",
       "\\begin{tabular}{lll}\n",
       " Market.Share & PerCentage & Web.Browser\\\\\n",
       " <chr> & <dbl> & <chr>\\\\\n",
       "\\hline\n",
       "\t 35.16\\% & 35.16 & Chrome 61.0                     \\\\\n",
       "\t 12.52\\% & 12.52 & Microsoft Internet Explorer 11.0\\\\\n",
       "\t 7.4\\%   &  7.40 & Chrome 55.0                     \\\\\n",
       "\t 6.53\\%  &  6.53 & Firefox 56                      \\\\\n",
       "\t 3.6\\%   &  3.60 & Microsoft Edge 14               \\\\\n",
       "\t 2.26\\%  &  2.26 & Chrome 49.0                     \\\\\n",
       "\t 2.19\\%  &  2.19 & Chrome 60.0                     \\\\\n",
       "\t 1.86\\%  &  1.86 & Chrome 45.0                     \\\\\n",
       "\t 1.76\\%  &  1.76 & Chrome 62.0                     \\\\\n",
       "\t 1.7\\%   &  1.70 & Safari 11.0                     \\\\\n",
       "\t 1.59\\%  &  1.59 & Chrome 50.0                     \\\\\n",
       "\t 1.43\\%  &  1.43 & Microsoft Edge 15               \\\\\n",
       "\t 1.25\\%  &  1.25 & Chrome 58.0                     \\\\\n",
       "\t 1.24\\%  &  1.24 & Firefox 55                      \\\\\n",
       "\t 1.12\\%  &  1.12 & Microsoft Internet Explorer 8.0 \\\\\n",
       "\t 1.06\\%  &  1.06 & Firefox 52                      \\\\\n",
       "\t 0.93\\%  &  0.93 & Chrome 53.0                     \\\\\n",
       "\t 0.85\\%  &  0.85 & Safari 10.0                     \\\\\n",
       "\t 0.85\\%  &  0.85 & Opera 48                        \\\\\n",
       "\t 0.83\\%  &  0.83 & Firefox 53                      \\\\\n",
       "\t 0.81\\%  &  0.81 & Microsoft Internet Explorer 9.0 \\\\\n",
       "\t 0.76\\%  &  0.76 & Firefox 40                      \\\\\n",
       "\t 0.66\\%  &  0.66 & Safari 10.1                     \\\\\n",
       "\t 0.65\\%  &  0.65 & Microsoft Edge 13               \\\\\n",
       "\t 0.64\\%  &  0.64 & Chrome 47.0                     \\\\\n",
       "\t 0.56\\%  &  0.56 & Chrome 59.0                     \\\\\n",
       "\t 0.54\\%  &  0.54 & Microsoft Internet Explorer 10.0\\\\\n",
       "\t 0.52\\%  &  0.52 & Safari 8.0                      \\\\\n",
       "\t 0.49\\%  &  0.49 & Chrome 56.0                     \\\\\n",
       "\t 0.47\\%  &  0.47 & Firefox 57                      \\\\\n",
       "\t 0.47\\%  &  0.47 & Chrome 57.0                     \\\\\n",
       "\t 0.41\\%  &  0.41 & Chrome 43.0                     \\\\\n",
       "\t 0.33\\%  &  0.33 & Microsoft Edge 12               \\\\\n",
       "\t 0.28\\%  &  0.28 & Chrome 60.4                     \\\\\n",
       "\t 0.26\\%  &  0.26 & Safari 9.1                      \\\\\n",
       "\t 0.21\\%  &  0.21 & Firefox 50                      \\\\\n",
       "\t 0.2\\%   &  0.20 & Firefox 54                      \\\\\n",
       "\t 0.19\\%  &  0.19 & Firefox 8.0                     \\\\\n",
       "\t 0.19\\%  &  0.19 & Firefox 47                      \\\\\n",
       "\t 0.17\\%  &  0.17 & Chrome 54.0                     \\\\\n",
       "\\end{tabular}\n"
      ],
      "text/markdown": [
       "\n",
       "A data.frame: 40 × 3\n",
       "\n",
       "| Market.Share &lt;chr&gt; | PerCentage &lt;dbl&gt; | Web.Browser &lt;chr&gt; |\n",
       "|---|---|---|\n",
       "| 35.16% | 35.16 | Chrome 61.0                      |\n",
       "| 12.52% | 12.52 | Microsoft Internet Explorer 11.0 |\n",
       "| 7.4%   |  7.40 | Chrome 55.0                      |\n",
       "| 6.53%  |  6.53 | Firefox 56                       |\n",
       "| 3.6%   |  3.60 | Microsoft Edge 14                |\n",
       "| 2.26%  |  2.26 | Chrome 49.0                      |\n",
       "| 2.19%  |  2.19 | Chrome 60.0                      |\n",
       "| 1.86%  |  1.86 | Chrome 45.0                      |\n",
       "| 1.76%  |  1.76 | Chrome 62.0                      |\n",
       "| 1.7%   |  1.70 | Safari 11.0                      |\n",
       "| 1.59%  |  1.59 | Chrome 50.0                      |\n",
       "| 1.43%  |  1.43 | Microsoft Edge 15                |\n",
       "| 1.25%  |  1.25 | Chrome 58.0                      |\n",
       "| 1.24%  |  1.24 | Firefox 55                       |\n",
       "| 1.12%  |  1.12 | Microsoft Internet Explorer 8.0  |\n",
       "| 1.06%  |  1.06 | Firefox 52                       |\n",
       "| 0.93%  |  0.93 | Chrome 53.0                      |\n",
       "| 0.85%  |  0.85 | Safari 10.0                      |\n",
       "| 0.85%  |  0.85 | Opera 48                         |\n",
       "| 0.83%  |  0.83 | Firefox 53                       |\n",
       "| 0.81%  |  0.81 | Microsoft Internet Explorer 9.0  |\n",
       "| 0.76%  |  0.76 | Firefox 40                       |\n",
       "| 0.66%  |  0.66 | Safari 10.1                      |\n",
       "| 0.65%  |  0.65 | Microsoft Edge 13                |\n",
       "| 0.64%  |  0.64 | Chrome 47.0                      |\n",
       "| 0.56%  |  0.56 | Chrome 59.0                      |\n",
       "| 0.54%  |  0.54 | Microsoft Internet Explorer 10.0 |\n",
       "| 0.52%  |  0.52 | Safari 8.0                       |\n",
       "| 0.49%  |  0.49 | Chrome 56.0                      |\n",
       "| 0.47%  |  0.47 | Firefox 57                       |\n",
       "| 0.47%  |  0.47 | Chrome 57.0                      |\n",
       "| 0.41%  |  0.41 | Chrome 43.0                      |\n",
       "| 0.33%  |  0.33 | Microsoft Edge 12                |\n",
       "| 0.28%  |  0.28 | Chrome 60.4                      |\n",
       "| 0.26%  |  0.26 | Safari 9.1                       |\n",
       "| 0.21%  |  0.21 | Firefox 50                       |\n",
       "| 0.2%   |  0.20 | Firefox 54                       |\n",
       "| 0.19%  |  0.19 | Firefox 8.0                      |\n",
       "| 0.19%  |  0.19 | Firefox 47                       |\n",
       "| 0.17%  |  0.17 | Chrome 54.0                      |\n",
       "\n"
      ],
      "text/plain": [
       "   Market.Share PerCentage Web.Browser                     \n",
       "1  35.16%       35.16      Chrome 61.0                     \n",
       "2  12.52%       12.52      Microsoft Internet Explorer 11.0\n",
       "3  7.4%          7.40      Chrome 55.0                     \n",
       "4  6.53%         6.53      Firefox 56                      \n",
       "5  3.6%          3.60      Microsoft Edge 14               \n",
       "6  2.26%         2.26      Chrome 49.0                     \n",
       "7  2.19%         2.19      Chrome 60.0                     \n",
       "8  1.86%         1.86      Chrome 45.0                     \n",
       "9  1.76%         1.76      Chrome 62.0                     \n",
       "10 1.7%          1.70      Safari 11.0                     \n",
       "11 1.59%         1.59      Chrome 50.0                     \n",
       "12 1.43%         1.43      Microsoft Edge 15               \n",
       "13 1.25%         1.25      Chrome 58.0                     \n",
       "14 1.24%         1.24      Firefox 55                      \n",
       "15 1.12%         1.12      Microsoft Internet Explorer 8.0 \n",
       "16 1.06%         1.06      Firefox 52                      \n",
       "17 0.93%         0.93      Chrome 53.0                     \n",
       "18 0.85%         0.85      Safari 10.0                     \n",
       "19 0.85%         0.85      Opera 48                        \n",
       "20 0.83%         0.83      Firefox 53                      \n",
       "21 0.81%         0.81      Microsoft Internet Explorer 9.0 \n",
       "22 0.76%         0.76      Firefox 40                      \n",
       "23 0.66%         0.66      Safari 10.1                     \n",
       "24 0.65%         0.65      Microsoft Edge 13               \n",
       "25 0.64%         0.64      Chrome 47.0                     \n",
       "26 0.56%         0.56      Chrome 59.0                     \n",
       "27 0.54%         0.54      Microsoft Internet Explorer 10.0\n",
       "28 0.52%         0.52      Safari 8.0                      \n",
       "29 0.49%         0.49      Chrome 56.0                     \n",
       "30 0.47%         0.47      Firefox 57                      \n",
       "31 0.47%         0.47      Chrome 57.0                     \n",
       "32 0.41%         0.41      Chrome 43.0                     \n",
       "33 0.33%         0.33      Microsoft Edge 12               \n",
       "34 0.28%         0.28      Chrome 60.4                     \n",
       "35 0.26%         0.26      Safari 9.1                      \n",
       "36 0.21%         0.21      Firefox 50                      \n",
       "37 0.2%          0.20      Firefox 54                      \n",
       "38 0.19%         0.19      Firefox 8.0                     \n",
       "39 0.19%         0.19      Firefox 47                      \n",
       "40 0.17%         0.17      Chrome 54.0                     "
      ]
     },
     "metadata": {},
     "output_type": "display_data"
    }
   ],
   "source": [
    "frame[,c(3,2,1)]"
   ]
  }
 ],
 "metadata": {
  "jupytext": {
   "cell_metadata_filter": "-all",
   "main_language": "R",
   "notebook_metadata_filter": "-all"
  },
  "kernelspec": {
   "display_name": "R (system-wide)",
   "language": "r",
   "name": "ir"
  },
  "language_info": {
   "codemirror_mode": "r",
   "file_extension": ".r",
   "mimetype": "text/x-r-source",
   "name": "R",
   "pygments_lexer": "r",
   "version": "4.2.1"
  }
 },
 "nbformat": 4,
 "nbformat_minor": 5
}
