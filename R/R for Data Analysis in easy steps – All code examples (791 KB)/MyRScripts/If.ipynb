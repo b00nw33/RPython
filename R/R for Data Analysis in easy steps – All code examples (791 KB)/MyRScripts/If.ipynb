{
 "cells": [
  {
   "cell_type": "code",
   "execution_count": 1,
   "id": "f1d44b8f",
   "metadata": {},
   "outputs": [
    {
     "name": "stdout",
     "output_type": "stream",
     "text": [
      "[1] \"Five is greater than one.\"\n"
     ]
    }
   ],
   "source": [
    "if ( 5 > 1 )\n",
    "{\n",
    "  print( \"Five is greater than one.\" )\n",
    "}"
   ]
  },
  {
   "cell_type": "code",
   "execution_count": 2,
   "id": "049cd92c",
   "metadata": {},
   "outputs": [
    {
     "name": "stdout",
     "output_type": "stream",
     "text": [
      "[1] \"Two is less than four.\"\n",
      "[1] \"Test succeeded.\"\n"
     ]
    }
   ],
   "source": [
    "if ( 2 < 4 )\n",
    "{\n",
    "  print( \"Two is less than four.\" )\n",
    "  print( \"Test succeeded.\" )\n",
    "}"
   ]
  },
  {
   "cell_type": "code",
   "execution_count": 3,
   "id": "7aa5f482",
   "metadata": {},
   "outputs": [],
   "source": [
    "num <- 8"
   ]
  },
  {
   "cell_type": "code",
   "execution_count": 4,
   "id": "07f5d7c4",
   "metadata": {},
   "outputs": [
    {
     "name": "stdout",
     "output_type": "stream",
     "text": [
      "[1] \"Number is 6-9 inclusive, or 12\"\n"
     ]
    }
   ],
   "source": [
    "if( ( num > 5 ) && ( num < 10 ) || ( num == 12 ) )\n",
    "{\n",
    "  print( \"Number is 6-9 inclusive, or 12\" )\n",
    "}"
   ]
  }
 ],
 "metadata": {
  "jupytext": {
   "cell_metadata_filter": "-all",
   "main_language": "R",
   "notebook_metadata_filter": "-all"
  },
  "kernelspec": {
   "display_name": "R (system-wide)",
   "language": "r",
   "name": "ir"
  },
  "language_info": {
   "codemirror_mode": "r",
   "file_extension": ".r",
   "mimetype": "text/x-r-source",
   "name": "R",
   "pygments_lexer": "r",
   "version": "4.2.1"
  }
 },
 "nbformat": 4,
 "nbformat_minor": 5
}
