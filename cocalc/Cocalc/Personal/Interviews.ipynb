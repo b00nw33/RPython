{
 "cells": [
  {
   "cell_type": "markdown",
   "metadata": {
    "collapsed": false,
    "jp-MarkdownHeadingCollapsed": true,
    "tags": [
    ]
   },
   "source": [
    "### Jr Data Engineer"
   ]
  },
  {
   "cell_type": "markdown",
   "metadata": {
    "collapsed": false
   },
   "source": [
    "https://learnerportal.generation.org/recruitment-process/618579\n",
    "If you have a question about your application, click the button below to contact the #GetReadySG team.\n",
    "You can also send us a message via WhatsApp at +65 9644 2780 (9am to 6pm).\n",
    "We will respond to your message within 2 to 3 working days."
   ]
  },
  {
   "cell_type": "markdown",
   "metadata": {
    "collapsed": false,
    "jupyter": {
     "outputs_hidden": true
    },
    "tags": [
    ]
   },
   "source": [
    "Explain why your background and experience would be a good fit for this job.\n",
    "\n",
    "School teacher - Collate, process, present students results using tools such as Access, Excel\n",
    "\n",
    "Before that, during my Part time employment with IMH - Managing patient attendance and treatment data using SPSS and Excel\n",
    "\n",
    "Through these experiences, I discovered that I enjoy the problem solving nature of working with data, as well as serving the people who require the data in their decision making process.\n",
    "\n",
    "Today, as a tutor, I make use of opportunities to introduce coding and data analysis to my students, adding value to their learning experience\n",
    "\n",
    "Role of Jr Data Engineer\n"
   ]
  },
  {
   "cell_type": "markdown",
   "metadata": {
    "collapsed": false
   },
   "source": [
    "Tell us what has been your best work achievement to this point in your career. What made this achievement important?\n",
    "\n",
    "School teacher - Collate, process, present students results using tools such as Access, Excel\n",
    "\n",
    "4 major assessment periods every year. After every assessment, subject teachers have around a week to submit results to form teachers to be updated into MOE system. During this week, the subject teachers need to return scripts to students for checking, and update form teachers should there be any changes to marks.\n",
    "\n",
    "Form teachers would be receiving data from various subject teachers at different points in time, primarily because the data had to be vetted by department heads before submission to MOE.\n",
    "\n",
    "School leaders would be expecting reports of the results so that they can be updated of the situation, and possibly make deployment changes if neccessary.\n",
    "\n",
    "It might come as a surprise that even though the workflow was well-understood by everyone, there was no standardised way of taking over of data, and herein lies the risk of data integrity.\n",
    "\n",
    "I started off by creating an Excel template for my personal use, which allowed me to present students' results together with a breakdown of the number of students who achieved various grades. It caught the attention of school leaders, and eventually I was put in charge of rolling it out schoolwide. Various enhancements were subsequently made based on feedback I gathered from teachers and school leaders, resulting in what we affectionately referred to as the Super Template.\n",
    "\n",
    "I feel that this was my most important work achievement because I saw how a good data management process could impact and enhance the work of both teachers and school leaders. While Excel wasn't the best tool for the job back then, I also saw the importance of choosing a tool that users are relatively familiar with."
   ]
  },
  {
   "cell_type": "markdown",
   "metadata": {
    "collapsed": false
   },
   "source": [
    "Describe a difficult task you were faced with and how you addressed it.\n",
    "\n",
    "Before I became a school teacher, I had a part time role as an admin assistant. Along with several others, I was helping out with monitoring patient attendance and treatment status for a programme conducted at IMH. The challenge back then was having to work with data from multiple sources, as well as reporting on live data that was being created by others around me.\n",
    "\n",
    "I first established a common structure for the data entry process, so that compilation would go smoothly at my end. With that, I was able to get the rest of the team doing data entry to work cohesively.\n",
    "\n",
    "For reporting, I made use of pivot tables, which was something I had to learn quickly at that point in time for the task. While I did research on several other tools, pivot tables were the quickest to implement back then. Possibly due to the number of pivot tables used, the updating of pivot tables got sluggish, and I had to manually refresh them.\n",
    "\n",
    "While there were various ways that the workflow could have been improved, that work experience early on in my career helped pave the way for my subsequent data-related roles."
   ]
  },
  {
   "cell_type": "code",
   "execution_count": 0,
   "metadata": {
    "collapsed": false
   },
   "outputs": [
   ],
   "source": [
    "Generation is a non-profit organization with a mission to prepare, place, and support people into life-changing careers that would otherwise be inaccessible. The #GetReadySG programs are highly subsidized and have limited spots, hence we focus on selecting applicants who face barriers in employment.\n",
    "\n",
    "How big of a difference would this opportunity make to your life in general, and not just professionally, if you are selected for this program, as compared to not being selected? \n",
    "\n",
    "Give your answer on a scale of 1 to 10 (with 1 being little to no difference and 10 being a world of difference), and explain your rating with as much detail as possible.\n",
    "\n"
   ]
  },
  {
   "cell_type": "markdown",
   "metadata": {
    "collapsed": false
   },
   "source": [
    "Can you differentiate between a Data Engineer and Data Scientist?\n",
    "\n",
    "Data Engineers develop, test, and maintain the complete architecture for data generation,\n",
    "whereas data scientists analyze and interpret complex data.\n",
    "They tend to focus on organization and translation of Big Data.\n",
    "Data scientists require data engineers to create the infrastructure for them to work."
   ]
  },
  {
   "cell_type": "markdown",
   "metadata": {
    "collapsed": false
   },
   "source": [
    "What, according to you, are the daily responsibilities of a data engineer?\n",
    "You can explain some crucial tasks a data engineer like:\n",
    "\n",
    "Development, testing, and maintenance of architectures.\n",
    "Aligning the design with business requisites.\n",
    "Data acquisition and development of data set processes.\n",
    "Deploying machine learning and statistical models\n",
    "Developing pipelines for various ETL operations and data transformation\n",
    "Simplifying data cleansing and improving the de-duplication and building of data.\n",
    "Identifying ways to improve data reliability, flexibility, accuracy, and quality."
   ]
  },
  {
   "cell_type": "markdown",
   "metadata": {
    "collapsed": false,
    "jp-MarkdownHeadingCollapsed": true,
    "tags": [
    ]
   },
   "source": [
    "### DBS"
   ]
  },
  {
   "cell_type": "code",
   "execution_count": 0,
   "metadata": {
    "collapsed": false
   },
   "outputs": [
   ],
   "source": [
    "DBS\n",
    "\n",
    "1. TELL ME ABOUT YOURSELF\n",
    "- As a student, Maths and Science has always been my stronger subjects\n",
    "- That set the stage for my affinity with STEM early on in life\n",
    "- Completed NS as a MP (mount/dismount/standby)\n",
    "- Studied Chem Eng at NUS (Linux/SSH for FYP)\n",
    "- IMH temp job (integrate SPSS with Excel)\n",
    "- began my career as a Science teacher w MOE\n",
    "- Three years in, did MEd to deepen my understanding in use of tech in education\n",
    "- (managed to link data entry and analysis into one Excel template using VBA)\n",
    "- When bond ended, left teaching to transition to finance\n",
    "- Took up a series of courses, leading up to MAF\n",
    "- Classmate referred DBS job position, but did not apply\n",
    "- Worked in tuition centres, taught Code For Fun in schools\n",
    "- Between Oct last year and Mar this year, I enrolled in series of IBF acreditted courses\n",
    "- Coursera, LinkedIn\n",
    "\n",
    "2. WHAT ARE YOUR STRENGTHS AND WEAKNESSES?\n",
    "PHILOMATH\n",
    "- Passionate about learning new things\n",
    "- Always curious and inquisitive\n",
    "- Like to experiment with different styles of learning\n",
    "- Prefer learning something fast and then shift to a new thing to learn\n",
    "- Learn very fast and thrive in short projects and dynamically changing environments\n",
    "- Always be the one to contribute with new knowledge to your team\n",
    "\n",
    "PROBLEM SOLVER\n",
    "- In any breakdown situation, my objective is to solve problems.\n",
    "- On the contrary, when something does not work the way it should be...\n",
    "- It provides you an opportunity to analyze symptoms of a problem, identify what's wrong and find the solution.\n",
    "- Your goal is to restore something to its true glory.\n",
    "- Known as a person who does not shy away from a problem, but fixes things to their normal functioning.\n",
    "\n",
    "ANALYST\n",
    "- Analyse to find root cause\n",
    "- Constantly look for patterns, connections and root causes behind any result\n",
    "- Data helps you to be objective, unbiased and dispassionate\n",
    "- If your analysis is delivered in a kind manner, it would make you into a great asset\n",
    "* 1 weakness - people pleaser (to ensure harmony within team)\n",
    "\n",
    "3. DESCRIBE HOW YOU WOULD SOLVE A PROBLEM\n",
    "- Polya's UPDA\n",
    "- IMH (integrate SPSS with Excel)\n",
    "- MOE (managed to link data entry and analysis into one Excel template using VBA)\n",
    "- Code For Fun\n",
    "\n",
    "4. TRANSFERRABLE SKILLS\n",
    "- Managing needs of various stakeholders\n",
    "- Patience and empathy\n",
    "- Problem solving\n",
    "\n",
    "5. WHAT DO YOU KNOW ABOUT DBS AND CLOUD COMPUTING?\n",
    "- World's Best Bank, World's Best Digital Bank\n",
    "- Paylah and Digibank are cloud-based\n",
    "- DBS Digital Exchange\n",
    "- Three encounters with cloud computing\n",
    "-- NUS FYP (Linux/SSH for FYP)\n",
    "-- MOE ISO collation\n",
    "-- AWS ML Course\n",
    "- SaaS (Paylah, Digibank)\n",
    "- PaaS (Developers)\n",
    "- IaaS (Storage, Networking, Virtualization)\n",
    "\n",
    "JOB ROLE\n",
    "- Assist with cloud infrastructure deployment and maintenance\n",
    "- Supports the configuration, integration and troubleshooting of cloud infrastructure\n",
    "- Assists with cloud infrastructure performance analysis\n",
    "-- to identify problems and risks\n",
    "-- to make improvement recommendations and implementations.\n",
    "\n",
    "6. HOW LONG DO YOU SEE YOURSELF IN THIS FIELD?\n",
    "- As long as I can add value to the company\n",
    "\n",
    "7. ANY FURTHER QUESTIONS?\n",
    "- What is the 16 month T&D plan for successful candidates?\n"
   ]
  }
 ],
 "metadata": {
  "kernelspec": {
   "display_name": "SageMath 9.7",
   "language": "sagemath",
   "metadata": {
    "cocalc": {
     "description": "Open-source mathematical software system",
     "priority": 10,
     "url": "https://www.sagemath.org/"
    }
   },
   "name": "sage-9.7",
   "resource_dir": "/ext/jupyter/kernels/sage-9.7"
  },
  "language_info": {
   "codemirror_mode": {
    "name": "ipython",
    "version": 3
   },
   "file_extension": ".py",
   "mimetype": "text/x-python",
   "name": "python",
   "nbconvert_exporter": "python",
   "pygments_lexer": "ipython3",
   "version": "3.10.5"
  }
 },
 "nbformat": 4,
 "nbformat_minor": 4
}