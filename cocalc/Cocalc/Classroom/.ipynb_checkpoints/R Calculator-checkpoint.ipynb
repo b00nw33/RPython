{
 "cells": [
  {
   "cell_type": "markdown",
   "id": "a02cb24f-4db7-4ac9-b160-fcca7d8d670b",
   "metadata": {},
   "source": [
    "<img src=\"https://r.analyticflow.com/en/cms/wp-content/themes/efprime_raf/images/feature_rlogo.png\" alt=\"drawing\" width=\"100\"/>"
   ]
  },
  {
   "cell_type": "markdown",
   "id": "f87b7d93-f9ce-4640-abd5-fd47bfa54f83",
   "metadata": {
    "jp-MarkdownHeadingCollapsed": true,
    "tags": []
   },
   "source": [
    "# R Calculator"
   ]
  },
  {
   "cell_type": "markdown",
   "id": "474a4a79-b0e1-4cc5-8b27-d836c3f46c2b",
   "metadata": {},
   "source": [
    "For a quick recap of R, visit [Posit Primers](https://posit.cloud/learn/primers)."
   ]
  },
  {
   "cell_type": "code",
   "execution_count": 1,
   "id": "97e42ba2-24e2-4f9d-ad71-3768663adf9f",
   "metadata": {},
   "outputs": [],
   "source": [
    "plot_dim <- function(width_choice, height_choice) {\n",
    "options(repr.plot.width=width_choice, repr.plot.height=height_choice)\n",
    "}\n",
    "\n",
    "dwidth = 6\n",
    "dheight = 6\n",
    "plot_dim(dwidth, dheight)"
   ]
  },
  {
   "cell_type": "markdown",
   "id": "d778ea2f-fdae-46c2-9f73-3703232b691c",
   "metadata": {
    "jp-MarkdownHeadingCollapsed": true,
    "tags": []
   },
   "source": [
    "## Maths"
   ]
  },
  {
   "cell_type": "markdown",
   "id": "a46909c6-a6dc-45cc-9b3c-2ac3369fd210",
   "metadata": {
    "jp-MarkdownHeadingCollapsed": true,
    "tags": []
   },
   "source": [
    "### Times table"
   ]
  },
  {
   "cell_type": "code",
   "execution_count": 10,
   "id": "52733f6c-66a5-4bac-9211-b1b0349dc679",
   "metadata": {
    "tags": []
   },
   "outputs": [
    {
     "data": {
      "text/html": [
       "<table class=\"dataframe\">\n",
       "<caption>A matrix: 10 × 10 of type dbl</caption>\n",
       "<tbody>\n",
       "\t<tr><td> 1</td><td> 2</td><td> 3</td><td> 4</td><td> 5</td><td> 6</td><td> 7</td><td> 8</td><td> 9</td><td> 10</td></tr>\n",
       "\t<tr><td> 2</td><td> 4</td><td> 6</td><td> 8</td><td>10</td><td>12</td><td>14</td><td>16</td><td>18</td><td> 20</td></tr>\n",
       "\t<tr><td> 3</td><td> 6</td><td> 9</td><td>12</td><td>15</td><td>18</td><td>21</td><td>24</td><td>27</td><td> 30</td></tr>\n",
       "\t<tr><td> 4</td><td> 8</td><td>12</td><td>16</td><td>20</td><td>24</td><td>28</td><td>32</td><td>36</td><td> 40</td></tr>\n",
       "\t<tr><td> 5</td><td>10</td><td>15</td><td>20</td><td>25</td><td>30</td><td>35</td><td>40</td><td>45</td><td> 50</td></tr>\n",
       "\t<tr><td> 6</td><td>12</td><td>18</td><td>24</td><td>30</td><td>36</td><td>42</td><td>48</td><td>54</td><td> 60</td></tr>\n",
       "\t<tr><td> 7</td><td>14</td><td>21</td><td>28</td><td>35</td><td>42</td><td>49</td><td>56</td><td>63</td><td> 70</td></tr>\n",
       "\t<tr><td> 8</td><td>16</td><td>24</td><td>32</td><td>40</td><td>48</td><td>56</td><td>64</td><td>72</td><td> 80</td></tr>\n",
       "\t<tr><td> 9</td><td>18</td><td>27</td><td>36</td><td>45</td><td>54</td><td>63</td><td>72</td><td>81</td><td> 90</td></tr>\n",
       "\t<tr><td>10</td><td>20</td><td>30</td><td>40</td><td>50</td><td>60</td><td>70</td><td>80</td><td>90</td><td>100</td></tr>\n",
       "</tbody>\n",
       "</table>\n"
      ],
      "text/latex": [
       "A matrix: 10 × 10 of type dbl\n",
       "\\begin{tabular}{llllllllll}\n",
       "\t  1 &  2 &  3 &  4 &  5 &  6 &  7 &  8 &  9 &  10\\\\\n",
       "\t  2 &  4 &  6 &  8 & 10 & 12 & 14 & 16 & 18 &  20\\\\\n",
       "\t  3 &  6 &  9 & 12 & 15 & 18 & 21 & 24 & 27 &  30\\\\\n",
       "\t  4 &  8 & 12 & 16 & 20 & 24 & 28 & 32 & 36 &  40\\\\\n",
       "\t  5 & 10 & 15 & 20 & 25 & 30 & 35 & 40 & 45 &  50\\\\\n",
       "\t  6 & 12 & 18 & 24 & 30 & 36 & 42 & 48 & 54 &  60\\\\\n",
       "\t  7 & 14 & 21 & 28 & 35 & 42 & 49 & 56 & 63 &  70\\\\\n",
       "\t  8 & 16 & 24 & 32 & 40 & 48 & 56 & 64 & 72 &  80\\\\\n",
       "\t  9 & 18 & 27 & 36 & 45 & 54 & 63 & 72 & 81 &  90\\\\\n",
       "\t 10 & 20 & 30 & 40 & 50 & 60 & 70 & 80 & 90 & 100\\\\\n",
       "\\end{tabular}\n"
      ],
      "text/markdown": [
       "\n",
       "A matrix: 10 × 10 of type dbl\n",
       "\n",
       "|  1 |  2 |  3 |  4 |  5 |  6 |  7 |  8 |  9 |  10 |\n",
       "|  2 |  4 |  6 |  8 | 10 | 12 | 14 | 16 | 18 |  20 |\n",
       "|  3 |  6 |  9 | 12 | 15 | 18 | 21 | 24 | 27 |  30 |\n",
       "|  4 |  8 | 12 | 16 | 20 | 24 | 28 | 32 | 36 |  40 |\n",
       "|  5 | 10 | 15 | 20 | 25 | 30 | 35 | 40 | 45 |  50 |\n",
       "|  6 | 12 | 18 | 24 | 30 | 36 | 42 | 48 | 54 |  60 |\n",
       "|  7 | 14 | 21 | 28 | 35 | 42 | 49 | 56 | 63 |  70 |\n",
       "|  8 | 16 | 24 | 32 | 40 | 48 | 56 | 64 | 72 |  80 |\n",
       "|  9 | 18 | 27 | 36 | 45 | 54 | 63 | 72 | 81 |  90 |\n",
       "| 10 | 20 | 30 | 40 | 50 | 60 | 70 | 80 | 90 | 100 |\n",
       "\n"
      ],
      "text/plain": [
       "      [,1] [,2] [,3] [,4] [,5] [,6] [,7] [,8] [,9] [,10]\n",
       " [1,]  1    2    3    4    5    6    7    8    9    10  \n",
       " [2,]  2    4    6    8   10   12   14   16   18    20  \n",
       " [3,]  3    6    9   12   15   18   21   24   27    30  \n",
       " [4,]  4    8   12   16   20   24   28   32   36    40  \n",
       " [5,]  5   10   15   20   25   30   35   40   45    50  \n",
       " [6,]  6   12   18   24   30   36   42   48   54    60  \n",
       " [7,]  7   14   21   28   35   42   49   56   63    70  \n",
       " [8,]  8   16   24   32   40   48   56   64   72    80  \n",
       " [9,]  9   18   27   36   45   54   63   72   81    90  \n",
       "[10,] 10   20   30   40   50   60   70   80   90   100  "
      ]
     },
     "metadata": {},
     "output_type": "display_data"
    }
   ],
   "source": [
    "# as.matrix(sapply(1:10, function(n)n*1:10))\n",
    "outer(1:10,1:10)"
   ]
  },
  {
   "cell_type": "markdown",
   "id": "5e48dcbc-1a1b-4ea1-a5ff-f4a4c3c6d1fd",
   "metadata": {
    "jp-MarkdownHeadingCollapsed": true,
    "tags": []
   },
   "source": [
    "### Sequences (Vectorization)\n",
    "R has great support for sequences right out of the box."
   ]
  },
  {
   "cell_type": "code",
   "execution_count": 2,
   "id": "920d6098-2f4c-436e-8d3f-ccb8635852d9",
   "metadata": {},
   "outputs": [
    {
     "data": {
      "text/html": [
       "<style>\n",
       ".list-inline {list-style: none; margin:0; padding: 0}\n",
       ".list-inline>li {display: inline-block}\n",
       ".list-inline>li:not(:last-child)::after {content: \"\\00b7\"; padding: 0 .5ex}\n",
       "</style>\n",
       "<ol class=list-inline><li>-1</li><li>1</li><li>3</li><li>5</li><li>7</li><li>9</li><li>11</li><li>13</li><li>15</li><li>17</li></ol>\n"
      ],
      "text/latex": [
       "\\begin{enumerate*}\n",
       "\\item -1\n",
       "\\item 1\n",
       "\\item 3\n",
       "\\item 5\n",
       "\\item 7\n",
       "\\item 9\n",
       "\\item 11\n",
       "\\item 13\n",
       "\\item 15\n",
       "\\item 17\n",
       "\\end{enumerate*}\n"
      ],
      "text/markdown": [
       "1. -1\n",
       "2. 1\n",
       "3. 3\n",
       "4. 5\n",
       "5. 7\n",
       "6. 9\n",
       "7. 11\n",
       "8. 13\n",
       "9. 15\n",
       "10. 17\n",
       "\n",
       "\n"
      ],
      "text/plain": [
       " [1] -1  1  3  5  7  9 11 13 15 17"
      ]
     },
     "metadata": {},
     "output_type": "display_data"
    },
    {
     "data": {
      "text/html": [
       "<style>\n",
       ".list-inline {list-style: none; margin:0; padding: 0}\n",
       ".list-inline>li {display: inline-block}\n",
       ".list-inline>li:not(:last-child)::after {content: \"\\00b7\"; padding: 0 .5ex}\n",
       "</style>\n",
       "<ol class=list-inline><li>-1</li><li>1</li><li>3</li><li>5</li><li>7</li><li>9</li><li>11</li><li>13</li><li>15</li><li>17</li></ol>\n"
      ],
      "text/latex": [
       "\\begin{enumerate*}\n",
       "\\item -1\n",
       "\\item 1\n",
       "\\item 3\n",
       "\\item 5\n",
       "\\item 7\n",
       "\\item 9\n",
       "\\item 11\n",
       "\\item 13\n",
       "\\item 15\n",
       "\\item 17\n",
       "\\end{enumerate*}\n"
      ],
      "text/markdown": [
       "1. -1\n",
       "2. 1\n",
       "3. 3\n",
       "4. 5\n",
       "5. 7\n",
       "6. 9\n",
       "7. 11\n",
       "8. 13\n",
       "9. 15\n",
       "10. 17\n",
       "\n",
       "\n"
      ],
      "text/plain": [
       " [1] -1  1  3  5  7  9 11 13 15 17"
      ]
     },
     "metadata": {},
     "output_type": "display_data"
    }
   ],
   "source": [
    "# Same functions, but much shorter\n",
    "sapply(1:10,function(x) 2*x-3)\n",
    "\n",
    "2* 1:10 - 3"
   ]
  },
  {
   "cell_type": "code",
   "execution_count": 38,
   "id": "c0b5b9c1-2f57-43bd-ba41-c9781920a3a8",
   "metadata": {},
   "outputs": [
    {
     "data": {
      "text/html": [
       "<style>\n",
       ".list-inline {list-style: none; margin:0; padding: 0}\n",
       ".list-inline>li {display: inline-block}\n",
       ".list-inline>li:not(:last-child)::after {content: \"\\00b7\"; padding: 0 .5ex}\n",
       "</style>\n",
       "<ol class=list-inline><li>2.5</li><li>2.6</li><li>2.7</li><li>2.8</li><li>2.9</li><li>3</li></ol>\n"
      ],
      "text/latex": [
       "\\begin{enumerate*}\n",
       "\\item 2.5\n",
       "\\item 2.6\n",
       "\\item 2.7\n",
       "\\item 2.8\n",
       "\\item 2.9\n",
       "\\item 3\n",
       "\\end{enumerate*}\n"
      ],
      "text/markdown": [
       "1. 2.5\n",
       "2. 2.6\n",
       "3. 2.7\n",
       "4. 2.8\n",
       "5. 2.9\n",
       "6. 3\n",
       "\n",
       "\n"
      ],
      "text/plain": [
       "[1] 2.5 2.6 2.7 2.8 2.9 3.0"
      ]
     },
     "metadata": {},
     "output_type": "display_data"
    }
   ],
   "source": [
    "seq(2.5,3,by=.1)"
   ]
  },
  {
   "cell_type": "code",
   "execution_count": 37,
   "id": "0fa0d2ce-305e-4fcd-8946-3618a244adb8",
   "metadata": {},
   "outputs": [
    {
     "data": {
      "text/html": [
       "<style>\n",
       ".list-inline {list-style: none; margin:0; padding: 0}\n",
       ".list-inline>li {display: inline-block}\n",
       ".list-inline>li:not(:last-child)::after {content: \"\\00b7\"; padding: 0 .5ex}\n",
       "</style>\n",
       "<ol class=list-inline><li>2.5</li><li>2.6</li><li>2.7</li><li>2.8</li><li>2.9</li><li>3</li></ol>\n"
      ],
      "text/latex": [
       "\\begin{enumerate*}\n",
       "\\item 2.5\n",
       "\\item 2.6\n",
       "\\item 2.7\n",
       "\\item 2.8\n",
       "\\item 2.9\n",
       "\\item 3\n",
       "\\end{enumerate*}\n"
      ],
      "text/markdown": [
       "1. 2.5\n",
       "2. 2.6\n",
       "3. 2.7\n",
       "4. 2.8\n",
       "5. 2.9\n",
       "6. 3\n",
       "\n",
       "\n"
      ],
      "text/plain": [
       "[1] 2.5 2.6 2.7 2.8 2.9 3.0"
      ]
     },
     "metadata": {},
     "output_type": "display_data"
    }
   ],
   "source": [
    "seq(2.5,3,length=6)"
   ]
  },
  {
   "cell_type": "code",
   "execution_count": 29,
   "id": "46c42eef-4dd6-4db5-9535-0e7b817e7cb9",
   "metadata": {},
   "outputs": [
    {
     "data": {
      "text/html": [
       "<style>\n",
       ".list-inline {list-style: none; margin:0; padding: 0}\n",
       ".list-inline>li {display: inline-block}\n",
       ".list-inline>li:not(:last-child)::after {content: \"\\00b7\"; padding: 0 .5ex}\n",
       "</style>\n",
       "<ol class=list-inline><li>1</li><li>2</li><li>3</li><li>4</li></ol>\n"
      ],
      "text/latex": [
       "\\begin{enumerate*}\n",
       "\\item 1\n",
       "\\item 2\n",
       "\\item 3\n",
       "\\item 4\n",
       "\\end{enumerate*}\n"
      ],
      "text/markdown": [
       "1. 1\n",
       "2. 2\n",
       "3. 3\n",
       "4. 4\n",
       "\n",
       "\n"
      ],
      "text/plain": [
       "[1] 1 2 3 4"
      ]
     },
     "metadata": {},
     "output_type": "display_data"
    }
   ],
   "source": [
    "seq_len(4)"
   ]
  },
  {
   "cell_type": "code",
   "execution_count": 30,
   "id": "1e2379a9-6ec6-4ca4-a887-fe2d07d305d7",
   "metadata": {},
   "outputs": [
    {
     "data": {
      "text/html": [
       "<style>\n",
       ".list-inline {list-style: none; margin:0; padding: 0}\n",
       ".list-inline>li {display: inline-block}\n",
       ".list-inline>li:not(:last-child)::after {content: \"\\00b7\"; padding: 0 .5ex}\n",
       "</style>\n",
       "<ol class=list-inline><li>1</li><li>2</li><li>3</li><li>4</li></ol>\n"
      ],
      "text/latex": [
       "\\begin{enumerate*}\n",
       "\\item 1\n",
       "\\item 2\n",
       "\\item 3\n",
       "\\item 4\n",
       "\\end{enumerate*}\n"
      ],
      "text/markdown": [
       "1. 1\n",
       "2. 2\n",
       "3. 3\n",
       "4. 4\n",
       "\n",
       "\n"
      ],
      "text/plain": [
       "[1] 1 2 3 4"
      ]
     },
     "metadata": {},
     "output_type": "display_data"
    }
   ],
   "source": [
    "seq_along(seq(5,8))"
   ]
  },
  {
   "cell_type": "markdown",
   "id": "56b84623-1c4b-47e3-803f-c2910f0a9701",
   "metadata": {
    "jp-MarkdownHeadingCollapsed": true,
    "tags": []
   },
   "source": [
    "### Pythagorean Triples"
   ]
  },
  {
   "cell_type": "markdown",
   "id": "17159e40-be9b-4f8e-9031-fbba4d2d7067",
   "metadata": {},
   "source": [
    "It can be proven algebraically that Pythagorean triples are of the form $(m^2-n^2,2mn,m^2+n^2)$. By substituting $m=x$ and $n=1/x$,\n",
    "\n",
    "$$(\\frac{x-1/x}{2})^2 + 1 = (\\frac{x+1/x}{2})^2$$"
   ]
  },
  {
   "cell_type": "code",
   "execution_count": 1,
   "id": "8f0e4e46-8675-4f42-a7db-9fc2f656aa0b",
   "metadata": {},
   "outputs": [
    {
     "data": {
      "text/html": [
       "<table class=\"dataframe\">\n",
       "<caption>A matrix: 3 × 15 of type dbl</caption>\n",
       "<tbody>\n",
       "\t<tr><th scope=row>a</th><td>120</td><td>3456</td><td>4800</td><td>13500</td><td>72</td><td>360</td><td>2700</td><td> 960</td><td>600</td><td>6480</td><td>60</td><td>2400</td><td>240</td><td>2700</td><td> 90</td></tr>\n",
       "\t<tr><th scope=row>b</th><td>119</td><td>3367</td><td>4601</td><td>12709</td><td>65</td><td>319</td><td>2291</td><td> 799</td><td>481</td><td>4961</td><td>45</td><td>1679</td><td>161</td><td>1771</td><td> 56</td></tr>\n",
       "\t<tr><th scope=row>c</th><td>169</td><td>4825</td><td>6649</td><td>18541</td><td>97</td><td>481</td><td>3541</td><td>1249</td><td>769</td><td>8161</td><td>75</td><td>2929</td><td>289</td><td>3229</td><td>106</td></tr>\n",
       "</tbody>\n",
       "</table>\n"
      ],
      "text/latex": [
       "A matrix: 3 × 15 of type dbl\n",
       "\\begin{tabular}{r|lllllllllllllll}\n",
       "\ta & 120 & 3456 & 4800 & 13500 & 72 & 360 & 2700 &  960 & 600 & 6480 & 60 & 2400 & 240 & 2700 &  90\\\\\n",
       "\tb & 119 & 3367 & 4601 & 12709 & 65 & 319 & 2291 &  799 & 481 & 4961 & 45 & 1679 & 161 & 1771 &  56\\\\\n",
       "\tc & 169 & 4825 & 6649 & 18541 & 97 & 481 & 3541 & 1249 & 769 & 8161 & 75 & 2929 & 289 & 3229 & 106\\\\\n",
       "\\end{tabular}\n"
      ],
      "text/markdown": [
       "\n",
       "A matrix: 3 × 15 of type dbl\n",
       "\n",
       "| a | 120 | 3456 | 4800 | 13500 | 72 | 360 | 2700 |  960 | 600 | 6480 | 60 | 2400 | 240 | 2700 |  90 |\n",
       "| b | 119 | 3367 | 4601 | 12709 | 65 | 319 | 2291 |  799 | 481 | 4961 | 45 | 1679 | 161 | 1771 |  56 |\n",
       "| c | 169 | 4825 | 6649 | 18541 | 97 | 481 | 3541 | 1249 | 769 | 8161 | 75 | 2929 | 289 | 3229 | 106 |\n",
       "\n"
      ],
      "text/plain": [
       "  [,1] [,2] [,3] [,4]  [,5] [,6] [,7] [,8] [,9] [,10] [,11] [,12] [,13] [,14]\n",
       "a 120  3456 4800 13500 72   360  2700  960 600  6480  60    2400  240   2700 \n",
       "b 119  3367 4601 12709 65   319  2291  799 481  4961  45    1679  161   1771 \n",
       "c 169  4825 6649 18541 97   481  3541 1249 769  8161  75    2929  289   3229 \n",
       "  [,15]\n",
       "a  90  \n",
       "b  56  \n",
       "c 106  "
      ]
     },
     "metadata": {},
     "output_type": "display_data"
    },
    {
     "data": {
      "text/html": [
       "<style>\n",
       ".list-inline {list-style: none; margin:0; padding: 0}\n",
       ".list-inline>li {display: inline-block}\n",
       ".list-inline>li:not(:last-child)::after {content: \"\\00b7\"; padding: 0 .5ex}\n",
       "</style>\n",
       "<ol class=list-inline><li>0.79</li><li>0.8</li><li>0.81</li><li>0.82</li><li>0.84</li><li>0.85</li><li>0.87</li><li>0.88</li><li>0.9</li><li>0.92</li><li>0.93</li><li>0.96</li><li>0.98</li><li>0.99</li><li>1.01</li></ol>\n"
      ],
      "text/latex": [
       "\\begin{enumerate*}\n",
       "\\item 0.79\n",
       "\\item 0.8\n",
       "\\item 0.81\n",
       "\\item 0.82\n",
       "\\item 0.84\n",
       "\\item 0.85\n",
       "\\item 0.87\n",
       "\\item 0.88\n",
       "\\item 0.9\n",
       "\\item 0.92\n",
       "\\item 0.93\n",
       "\\item 0.96\n",
       "\\item 0.98\n",
       "\\item 0.99\n",
       "\\item 1.01\n",
       "\\end{enumerate*}\n"
      ],
      "text/markdown": [
       "1. 0.79\n",
       "2. 0.8\n",
       "3. 0.81\n",
       "4. 0.82\n",
       "5. 0.84\n",
       "6. 0.85\n",
       "7. 0.87\n",
       "8. 0.88\n",
       "9. 0.9\n",
       "10. 0.92\n",
       "11. 0.93\n",
       "12. 0.96\n",
       "13. 0.98\n",
       "14. 0.99\n",
       "15. 1.01\n",
       "\n",
       "\n"
      ],
      "text/plain": [
       " [1] 0.79 0.80 0.81 0.82 0.84 0.85 0.87 0.88 0.90 0.92 0.93 0.96 0.98 0.99 1.01"
      ]
     },
     "metadata": {},
     "output_type": "display_data"
    }
   ],
   "source": [
    "# Plimpton 322 https://en.wikipedia.org/wiki/Plimpton_322\n",
    "# https://youtu.be/8d15H-ote-0\n",
    "\n",
    "b=c(119,3367,4601,12709,65,319,2291,799,481,4961,45,1679,161,1771,56)  #base\n",
    "c=c(169,4825,6649,18541,97,481,3541,1249,769,8161,75,2929,289,3229,106)  #hypothenuse\n",
    "a=sqrt(c^2-b^2)\n",
    "angle=round(acos(b/c), 2)\n",
    "\n",
    "rbind(a,b,c)\n",
    "angle"
   ]
  },
  {
   "cell_type": "code",
   "execution_count": 37,
   "id": "a9041ad2-9b19-4ff8-abd9-a0c242853338",
   "metadata": {
    "tags": []
   },
   "outputs": [],
   "source": [
    "trip_gen = function(code) {\n",
    "    if (code%%2) output = c(code^2 %/%2, code, code^2 %/%2 +1)\n",
    "    else output = c((code*2)^2/4-1 , code*2, (code*2)^2/4+1)\n",
    "    return(output)\n",
    "    }"
   ]
  },
  {
   "cell_type": "code",
   "execution_count": 38,
   "id": "9e74b434-04c7-47de-9dd9-d47159c41778",
   "metadata": {},
   "outputs": [
    {
     "data": {
      "text/html": [
       "<table class=\"dataframe\">\n",
       "<caption>A matrix: 3 × 18 of type dbl</caption>\n",
       "<tbody>\n",
       "\t<tr><td>4</td><td>15</td><td>12</td><td>35</td><td>24</td><td>63</td><td>40</td><td> 99</td><td>60</td><td>143</td><td>84</td><td>195</td><td>112</td><td>255</td><td>144</td><td>323</td><td>180</td><td>399</td></tr>\n",
       "\t<tr><td>3</td><td> 8</td><td> 5</td><td>12</td><td> 7</td><td>16</td><td> 9</td><td> 20</td><td>11</td><td> 24</td><td>13</td><td> 28</td><td> 15</td><td> 32</td><td> 17</td><td> 36</td><td> 19</td><td> 40</td></tr>\n",
       "\t<tr><td>5</td><td>17</td><td>13</td><td>37</td><td>25</td><td>65</td><td>41</td><td>101</td><td>61</td><td>145</td><td>85</td><td>197</td><td>113</td><td>257</td><td>145</td><td>325</td><td>181</td><td>401</td></tr>\n",
       "</tbody>\n",
       "</table>\n"
      ],
      "text/latex": [
       "A matrix: 3 × 18 of type dbl\n",
       "\\begin{tabular}{llllllllllllllllll}\n",
       "\t 4 & 15 & 12 & 35 & 24 & 63 & 40 &  99 & 60 & 143 & 84 & 195 & 112 & 255 & 144 & 323 & 180 & 399\\\\\n",
       "\t 3 &  8 &  5 & 12 &  7 & 16 &  9 &  20 & 11 &  24 & 13 &  28 &  15 &  32 &  17 &  36 &  19 &  40\\\\\n",
       "\t 5 & 17 & 13 & 37 & 25 & 65 & 41 & 101 & 61 & 145 & 85 & 197 & 113 & 257 & 145 & 325 & 181 & 401\\\\\n",
       "\\end{tabular}\n"
      ],
      "text/markdown": [
       "\n",
       "A matrix: 3 × 18 of type dbl\n",
       "\n",
       "| 4 | 15 | 12 | 35 | 24 | 63 | 40 |  99 | 60 | 143 | 84 | 195 | 112 | 255 | 144 | 323 | 180 | 399 |\n",
       "| 3 |  8 |  5 | 12 |  7 | 16 |  9 |  20 | 11 |  24 | 13 |  28 |  15 |  32 |  17 |  36 |  19 |  40 |\n",
       "| 5 | 17 | 13 | 37 | 25 | 65 | 41 | 101 | 61 | 145 | 85 | 197 | 113 | 257 | 145 | 325 | 181 | 401 |\n",
       "\n"
      ],
      "text/plain": [
       "     [,1] [,2] [,3] [,4] [,5] [,6] [,7] [,8] [,9] [,10] [,11] [,12] [,13] [,14]\n",
       "[1,] 4    15   12   35   24   63   40    99  60   143   84    195   112   255  \n",
       "[2,] 3     8    5   12    7   16    9    20  11    24   13     28    15    32  \n",
       "[3,] 5    17   13   37   25   65   41   101  61   145   85    197   113   257  \n",
       "     [,15] [,16] [,17] [,18]\n",
       "[1,] 144   323   180   399  \n",
       "[2,]  17    36    19    40  \n",
       "[3,] 145   325   181   401  "
      ]
     },
     "metadata": {},
     "output_type": "display_data"
    },
    {
     "data": {
      "text/html": [
       "'Check: TRUE'"
      ],
      "text/latex": [
       "'Check: TRUE'"
      ],
      "text/markdown": [
       "'Check: TRUE'"
      ],
      "text/plain": [
       "[1] \"Check: TRUE\""
      ]
     },
     "metadata": {},
     "output_type": "display_data"
    }
   ],
   "source": [
    "trip = sapply(3:20, trip_gen)\n",
    "matrix(trip, ncol=18, byrow = 0)\n",
    "paste(\"Check:\",all(trip[1,]^2 + trip[2,]^2 == trip[3,]^2))"
   ]
  },
  {
   "cell_type": "markdown",
   "id": "43ba2da4-072e-4e49-b088-1069090aec93",
   "metadata": {
    "jp-MarkdownHeadingCollapsed": true,
    "tags": []
   },
   "source": [
    "### Curve sketching (polynomials)"
   ]
  },
  {
   "cell_type": "code",
   "execution_count": 30,
   "id": "27920e46-0ac8-46a1-8d24-1008bb03c173",
   "metadata": {},
   "outputs": [
    {
     "data": {
      "image/png": "[encoded data removed]",
      "text/plain": [
       "plot without title"
      ]
     },
     "metadata": {
      "image/png": {
       "height": 420,
       "width": 420
      }
     },
     "output_type": "display_data"
    }
   ],
   "source": [
    "eq = function(x) x^3 + 2*x^2 - 10*x + 5\n",
    "\n",
    "plot(eq, xlim=c(-5,3))\n",
    "abline(h=0, lty=2)\n",
    "abline(v=0, lty=2)"
   ]
  },
  {
   "cell_type": "code",
   "execution_count": 20,
   "id": "f45b2e8c-3363-4b04-9b8e-74cf5ef12160",
   "metadata": {},
   "outputs": [
    {
     "data": {
      "text/html": [
       "<style>\n",
       ".list-inline {list-style: none; margin:0; padding: 0}\n",
       ".list-inline>li {display: inline-block}\n",
       ".list-inline>li:not(:last-child)::after {content: \"\\00b7\"; padding: 0 .5ex}\n",
       "</style>\n",
       "<ol class=list-inline><li>0.590239431165393+0i</li><li>1.89054718936166-0i</li><li>-4.48078662052706+0i</li></ol>\n"
      ],
      "text/latex": [
       "\\begin{enumerate*}\n",
       "\\item 0.590239431165393+0i\n",
       "\\item 1.89054718936166-0i\n",
       "\\item -4.48078662052706+0i\n",
       "\\end{enumerate*}\n"
      ],
      "text/markdown": [
       "1. 0.590239431165393+0i\n",
       "2. 1.89054718936166-0i\n",
       "3. -4.48078662052706+0i\n",
       "\n",
       "\n"
      ],
      "text/plain": [
       "[1]  0.5902394+0i  1.8905472-0i -4.4807866+0i"
      ]
     },
     "metadata": {},
     "output_type": "display_data"
    }
   ],
   "source": [
    "# To find roots of polynomial\n",
    "polyroot(c(5,-10,2,1))"
   ]
  },
  {
   "cell_type": "code",
   "execution_count": 23,
   "id": "b6a95cc2-f87f-4582-b6b9-d41b65c2b36e",
   "metadata": {},
   "outputs": [
    {
     "data": {
      "text/html": [
       "<dl>\n",
       "\t<dt>$root</dt>\n",
       "\t\t<dd>-4.48078635139163</dd>\n",
       "\t<dt>$f.root</dt>\n",
       "\t\t<dd>8.69554926197225e-06</dd>\n",
       "\t<dt>$iter</dt>\n",
       "\t\t<dd>5</dd>\n",
       "\t<dt>$init.it</dt>\n",
       "\t\t<dd>&lt;NA&gt;</dd>\n",
       "\t<dt>$estim.prec</dt>\n",
       "\t\t<dd>6.10351562517764e-05</dd>\n",
       "</dl>\n"
      ],
      "text/latex": [
       "\\begin{description}\n",
       "\\item[\\$root] -4.48078635139163\n",
       "\\item[\\$f.root] 8.69554926197225e-06\n",
       "\\item[\\$iter] 5\n",
       "\\item[\\$init.it] <NA>\n",
       "\\item[\\$estim.prec] 6.10351562517764e-05\n",
       "\\end{description}\n"
      ],
      "text/markdown": [
       "$root\n",
       ":   -4.48078635139163\n",
       "$f.root\n",
       ":   8.69554926197225e-06\n",
       "$iter\n",
       ":   5\n",
       "$init.it\n",
       ":   &lt;NA&gt;\n",
       "$estim.prec\n",
       ":   6.10351562517764e-05\n",
       "\n",
       "\n"
      ],
      "text/plain": [
       "$root\n",
       "[1] -4.480786\n",
       "\n",
       "$f.root\n",
       "[1] 8.695549e-06\n",
       "\n",
       "$iter\n",
       "[1] 5\n",
       "\n",
       "$init.it\n",
       "[1] NA\n",
       "\n",
       "$estim.prec\n",
       "[1] 6.103516e-05\n"
      ]
     },
     "metadata": {},
     "output_type": "display_data"
    }
   ],
   "source": [
    "# For non-polynomials\n",
    "uniroot(eq,c(-5,-4))"
   ]
  },
  {
   "cell_type": "code",
   "execution_count": 21,
   "id": "07d4307a-c7e9-4458-98d1-1e9e94dd9147",
   "metadata": {},
   "outputs": [
    {
     "data": {
      "text/html": [
       "5"
      ],
      "text/latex": [
       "5"
      ],
      "text/markdown": [
       "5"
      ],
      "text/plain": [
       "[1] 5"
      ]
     },
     "metadata": {},
     "output_type": "display_data"
    }
   ],
   "source": [
    "# To find y-intercept\n",
    "eq(0)"
   ]
  },
  {
   "cell_type": "code",
   "execution_count": 22,
   "id": "48835e37-14b6-48d5-80e9-8976ce1676cb",
   "metadata": {},
   "outputs": [
    {
     "data": {
      "text/html": [
       "<dl>\n",
       "\t<dt>$maximum</dt>\n",
       "\t\t<dd>-2.61032170154063</dd>\n",
       "\t<dt>$objective</dt>\n",
       "\t\t<dd>26.9446195869047</dd>\n",
       "</dl>\n"
      ],
      "text/latex": [
       "\\begin{description}\n",
       "\\item[\\$maximum] -2.61032170154063\n",
       "\\item[\\$objective] 26.9446195869047\n",
       "\\end{description}\n"
      ],
      "text/markdown": [
       "$maximum\n",
       ":   -2.61032170154063\n",
       "$objective\n",
       ":   26.9446195869047\n",
       "\n",
       "\n"
      ],
      "text/plain": [
       "$maximum\n",
       "[1] -2.610322\n",
       "\n",
       "$objective\n",
       "[1] 26.94462\n"
      ]
     },
     "metadata": {},
     "output_type": "display_data"
    },
    {
     "data": {
      "text/html": [
       "<dl>\n",
       "\t<dt>$minimum</dt>\n",
       "\t\t<dd>1.27698548478496</dd>\n",
       "\t<dt>$objective</dt>\n",
       "\t\t<dd>-2.42610106848581</dd>\n",
       "</dl>\n"
      ],
      "text/latex": [
       "\\begin{description}\n",
       "\\item[\\$minimum] 1.27698548478496\n",
       "\\item[\\$objective] -2.42610106848581\n",
       "\\end{description}\n"
      ],
      "text/markdown": [
       "$minimum\n",
       ":   1.27698548478496\n",
       "$objective\n",
       ":   -2.42610106848581\n",
       "\n",
       "\n"
      ],
      "text/plain": [
       "$minimum\n",
       "[1] 1.276985\n",
       "\n",
       "$objective\n",
       "[1] -2.426101\n"
      ]
     },
     "metadata": {},
     "output_type": "display_data"
    }
   ],
   "source": [
    "# To find turning points\n",
    "optimize(eq, c(-4,2), maximum=1)\n",
    "optimize(eq, c(-4,2), maximum=0)"
   ]
  },
  {
   "cell_type": "markdown",
   "id": "d51135a4-106f-4981-9ff2-bc4fa2c6a921",
   "metadata": {
    "jp-MarkdownHeadingCollapsed": true,
    "tags": []
   },
   "source": [
    "### GCD, LCM, unit conversion and more with `DescTools`"
   ]
  },
  {
   "cell_type": "code",
   "execution_count": 10,
   "id": "7d7062ed-da89-44cb-a245-42af866b23a2",
   "metadata": {},
   "outputs": [
    {
     "data": {
      "text/html": [
       "180"
      ],
      "text/latex": [
       "180"
      ],
      "text/markdown": [
       "180"
      ],
      "text/plain": [
       "[1] 180"
      ]
     },
     "metadata": {},
     "output_type": "display_data"
    },
    {
     "data": {
      "text/html": [
       "<strong>$`1729`</strong> = <table class=\"dataframe\">\n",
       "<caption>A matrix: 3 × 2 of type int</caption>\n",
       "<thead>\n",
       "\t<tr><th scope=col>p</th><th scope=col>m</th></tr>\n",
       "</thead>\n",
       "<tbody>\n",
       "\t<tr><td> 7</td><td>1</td></tr>\n",
       "\t<tr><td>13</td><td>1</td></tr>\n",
       "\t<tr><td>19</td><td>1</td></tr>\n",
       "</tbody>\n",
       "</table>\n"
      ],
      "text/latex": [
       "\\textbf{\\$`1729`} = A matrix: 3 × 2 of type int\n",
       "\\begin{tabular}{ll}\n",
       " p & m\\\\\n",
       "\\hline\n",
       "\t  7 & 1\\\\\n",
       "\t 13 & 1\\\\\n",
       "\t 19 & 1\\\\\n",
       "\\end{tabular}\n"
      ],
      "text/markdown": [
       "**$`1729`** = \n",
       "A matrix: 3 × 2 of type int\n",
       "\n",
       "| p | m |\n",
       "|---|---|\n",
       "|  7 | 1 |\n",
       "| 13 | 1 |\n",
       "| 19 | 1 |\n",
       "\n"
      ],
      "text/plain": [
       "$`1729`\n",
       "      p m\n",
       "[1,]  7 1\n",
       "[2,] 13 1\n",
       "[3,] 19 1\n"
      ]
     },
     "metadata": {},
     "output_type": "display_data"
    }
   ],
   "source": [
    "library(DescTools)\n",
    "\n",
    "LCM(12,15,18)\n",
    "Factorize(1729)"
   ]
  },
  {
   "cell_type": "code",
   "execution_count": 2,
   "id": "f99071fa-4784-4078-999f-e051887aa136",
   "metadata": {},
   "outputs": [],
   "source": [
    "data(d.prefix)"
   ]
  },
  {
   "cell_type": "code",
   "execution_count": 11,
   "id": "2f054be1-c336-4507-9404-f7228dc555a1",
   "metadata": {},
   "outputs": [
    {
     "data": {
      "text/html": [
       "<style>\n",
       ".list-inline {list-style: none; margin:0; padding: 0}\n",
       ".list-inline>li {display: inline-block}\n",
       ".list-inline>li:not(:last-child)::after {content: \"\\00b7\"; padding: 0 .5ex}\n",
       "</style>\n",
       "<ol class=list-inline><li>760.002100178515</li><li>1520.00420035703</li><li>3800.01050089257</li></ol>\n"
      ],
      "text/latex": [
       "\\begin{enumerate*}\n",
       "\\item 760.002100178515\n",
       "\\item 1520.00420035703\n",
       "\\item 3800.01050089257\n",
       "\\end{enumerate*}\n"
      ],
      "text/markdown": [
       "1. 760.002100178515\n",
       "2. 1520.00420035703\n",
       "3. 3800.01050089257\n",
       "\n",
       "\n"
      ],
      "text/plain": [
       "[1]  760.0021 1520.0042 3800.0105"
      ]
     },
     "metadata": {},
     "output_type": "display_data"
    }
   ],
   "source": [
    "ConvUnit(c(1,2,5), from=\"atm\", to=\"mmHg\")"
   ]
  },
  {
   "cell_type": "code",
   "execution_count": 12,
   "id": "7946c201-a6b5-41ac-95da-69ab83293c19",
   "metadata": {},
   "outputs": [
    {
     "data": {
      "text/html": [
       "<style>\n",
       ".list-inline {list-style: none; margin:0; padding: 0}\n",
       ".list-inline>li {display: inline-block}\n",
       ".list-inline>li:not(:last-child)::after {content: \"\\00b7\"; padding: 0 .5ex}\n",
       "</style>\n",
       "<ol class=list-inline><li>101.325</li><li>202.65</li><li>506.625</li></ol>\n"
      ],
      "text/latex": [
       "\\begin{enumerate*}\n",
       "\\item 101.325\n",
       "\\item 202.65\n",
       "\\item 506.625\n",
       "\\end{enumerate*}\n"
      ],
      "text/markdown": [
       "1. 101.325\n",
       "2. 202.65\n",
       "3. 506.625\n",
       "\n",
       "\n"
      ],
      "text/plain": [
       "[1] 101.325 202.650 506.625"
      ]
     },
     "metadata": {},
     "output_type": "display_data"
    }
   ],
   "source": [
    "ConvUnit(c(1,2,5), from=\"atm\", to=\"kPa\")"
   ]
  },
  {
   "cell_type": "code",
   "execution_count": 13,
   "id": "643d45bb-c753-4f73-95a7-7c37a84a6640",
   "metadata": {},
   "outputs": [
    {
     "data": {
      "text/html": [
       "<style>\n",
       ".list-inline {list-style: none; margin:0; padding: 0}\n",
       ".list-inline>li {display: inline-block}\n",
       ".list-inline>li:not(:last-child)::after {content: \"\\00b7\"; padding: 0 .5ex}\n",
       "</style>\n",
       "<ol class=list-inline><li>1.01325</li><li>2.0265</li><li>5.06625</li></ol>\n"
      ],
      "text/latex": [
       "\\begin{enumerate*}\n",
       "\\item 1.01325\n",
       "\\item 2.0265\n",
       "\\item 5.06625\n",
       "\\end{enumerate*}\n"
      ],
      "text/markdown": [
       "1. 1.01325\n",
       "2. 2.0265\n",
       "3. 5.06625\n",
       "\n",
       "\n"
      ],
      "text/plain": [
       "[1] 1.01325 2.02650 5.06625"
      ]
     },
     "metadata": {},
     "output_type": "display_data"
    }
   ],
   "source": [
    "ConvUnit(c(1,2,5), from='atm', to='bar')"
   ]
  },
  {
   "cell_type": "markdown",
   "id": "29268071-9822-4973-a26c-e03014281908",
   "metadata": {
    "jp-MarkdownHeadingCollapsed": true,
    "tags": []
   },
   "source": [
    "### `polynom` package"
   ]
  },
  {
   "cell_type": "code",
   "execution_count": 11,
   "id": "d662d3e6-0f80-4d8e-9587-b1158312907b",
   "metadata": {},
   "outputs": [
    {
     "data": {
      "text/plain": [
       "462 - 53*x - 87*x^2 - 3*x^3 + x^4 "
      ]
     },
     "metadata": {},
     "output_type": "display_data"
    },
    {
     "data": {
      "text/plain": [
       "0 "
      ]
     },
     "metadata": {},
     "output_type": "display_data"
    }
   ],
   "source": [
    "# https://cran.r-project.org/web/packages/polynom/polynom.pdf\n",
    "\n",
    "library(polynom)\n",
    "\n",
    "n = as.polynomial(c(-2310,727,382,-72,-8,1))\n",
    "d = as.polynomial(c(-5,1))\n",
    "n / d\n",
    "n %% d"
   ]
  },
  {
   "cell_type": "code",
   "execution_count": 12,
   "id": "780cacf4-f070-46ac-8a06-bfa743ff4261",
   "metadata": {},
   "outputs": [
    {
     "data": {
      "text/html": [
       "0"
      ],
      "text/latex": [
       "0"
      ],
      "text/markdown": [
       "0"
      ],
      "text/plain": [
       "[1] 0"
      ]
     },
     "metadata": {},
     "output_type": "display_data"
    }
   ],
   "source": [
    "fn = as.function(n)\n",
    "\n",
    "fn(2)"
   ]
  },
  {
   "cell_type": "code",
   "execution_count": 19,
   "id": "424aa4f6-3dea-4ecb-89ed-468763031a0b",
   "metadata": {},
   "outputs": [
    {
     "data": {
      "image/png": "[encoded data removed]",
      "text/plain": [
       "plot without title"
      ]
     },
     "metadata": {
      "image/png": {
       "height": 420,
       "width": 420
      }
     },
     "output_type": "display_data"
    }
   ],
   "source": [
    "plot(deriv(n))\n",
    "lines(n/d)"
   ]
  },
  {
   "cell_type": "code",
   "execution_count": 18,
   "id": "e5239170-6fb9-4f38-84aa-26df7ee3d75a",
   "metadata": {},
   "outputs": [
    {
     "data": {
      "image/png": "[encoded data removed]",
      "text/plain": [
       "plot without title"
      ]
     },
     "metadata": {
      "image/png": {
       "height": 420,
       "width": 420
      }
     },
     "output_type": "display_data"
    }
   ],
   "source": [
    "plot(deriv(deriv(n)))\n",
    "lines(2*n/d/d)"
   ]
  },
  {
   "cell_type": "code",
   "execution_count": 20,
   "id": "49dab41e-f457-413a-afcb-608c1c6dd240",
   "metadata": {},
   "outputs": [
    {
     "data": {
      "image/png": "[encoded data removed]",
      "text/plain": [
       "plot without title"
      ]
     },
     "metadata": {
      "image/png": {
       "height": 420,
       "width": 420
      }
     },
     "output_type": "display_data"
    }
   ],
   "source": [
    "plot(deriv(deriv(deriv(n))))\n",
    "lines(6*n/d/d/d)"
   ]
  },
  {
   "cell_type": "code",
   "execution_count": 22,
   "id": "4722d151-6387-4a40-9448-079b7eebde8d",
   "metadata": {},
   "outputs": [
    {
     "data": {
      "text/plain": [
       "\n",
       " Summary information for:\n",
       "-2310 + 727*x + 382*x^2 - 72*x^3 - 8*x^4 + x^5 \n",
       "\n",
       " Zeros:\n",
       "[1] -7 -3  2  5 11\n",
       "\n",
       " Stationary points:\n",
       "[1] -5.5349953 -0.7961367  3.6224717  9.1086603\n",
       "\n",
       " Points of inflexion:\n",
       "[1] -3.731625  1.444407  7.087218"
      ]
     },
     "metadata": {},
     "output_type": "display_data"
    }
   ],
   "source": [
    "summary(n)"
   ]
  },
  {
   "cell_type": "code",
   "execution_count": 49,
   "id": "09322f87-5795-4c60-bd02-2db97d9189f8",
   "metadata": {},
   "outputs": [
    {
     "data": {
      "text/plain": [
       "-2310 + 727*x + 382*x^2 - 72*x^3 - 8*x^4 + x^5 "
      ]
     },
     "metadata": {},
     "output_type": "display_data"
    }
   ],
   "source": [
    "# Polynomial from roots(zeros)\n",
    "poly.calc(c(-7,-3,2,5,11))"
   ]
  },
  {
   "cell_type": "code",
   "execution_count": 30,
   "id": "1af6100d-47cb-4c3d-898b-36b66fd91c6c",
   "metadata": {},
   "outputs": [
    {
     "data": {
      "text/plain": [
       "15 - 15*x + 4*x^2 "
      ]
     },
     "metadata": {},
     "output_type": "display_data"
    }
   ],
   "source": [
    "# Polynomial from points\n",
    "poly.calc(1:3,c(4,1,6))"
   ]
  },
  {
   "cell_type": "code",
   "execution_count": 24,
   "id": "bf1f9124-4a45-496f-8464-950b083a852f",
   "metadata": {},
   "outputs": [
    {
     "data": {
      "text/html": [
       "<style>\n",
       ".list-inline {list-style: none; margin:0; padding: 0}\n",
       ".list-inline>li {display: inline-block}\n",
       ".list-inline>li:not(:last-child)::after {content: \"\\00b7\"; padding: 0 .5ex}\n",
       "</style>\n",
       "<ol class=list-inline><li>4</li><li>1</li><li>6</li></ol>\n"
      ],
      "text/latex": [
       "\\begin{enumerate*}\n",
       "\\item 4\n",
       "\\item 1\n",
       "\\item 6\n",
       "\\end{enumerate*}\n"
      ],
      "text/markdown": [
       "1. 4\n",
       "2. 1\n",
       "3. 6\n",
       "\n",
       "\n"
      ],
      "text/plain": [
       "[1] 4 1 6"
      ]
     },
     "metadata": {},
     "output_type": "display_data"
    }
   ],
   "source": [
    "h = as.polynomial(c(15,-15,4))\n",
    "as.function(h)(1:3)"
   ]
  },
  {
   "cell_type": "code",
   "execution_count": 6,
   "id": "525ff04e-f62e-43a4-b954-f662579dde68",
   "metadata": {},
   "outputs": [
    {
     "data": {
      "image/png": "[encoded data removed]",
      "text/plain": [
       "plot without title"
      ]
     },
     "metadata": {
      "image/png": {
       "height": 420,
       "width": 420
      }
     },
     "output_type": "display_data"
    }
   ],
   "source": [
    "plot(poly.calc(-1:5))\n",
    "lines(poly.calc(2:4), lty=2)\n",
    "points(poly.calc(-2:5), pch=4)"
   ]
  },
  {
   "cell_type": "code",
   "execution_count": 34,
   "id": "23102e40-b4fb-4c9a-a2d0-52886648d171",
   "metadata": {},
   "outputs": [
    {
     "data": {
      "text/plain": [
       "-73 + 3*x + x^2 "
      ]
     },
     "metadata": {},
     "output_type": "display_data"
    }
   ],
   "source": [
    "g / poly.calc(c(4,1,6))"
   ]
  },
  {
   "cell_type": "code",
   "execution_count": 41,
   "id": "29850c39-719e-4dcc-98f0-a6dc44d71f8f",
   "metadata": {},
   "outputs": [
    {
     "data": {
      "text/plain": [
       "-1 - 5*x + 2*x^2 "
      ]
     },
     "metadata": {},
     "output_type": "display_data"
    },
    {
     "data": {
      "text/plain": [
       "-3 + x "
      ]
     },
     "metadata": {},
     "output_type": "display_data"
    }
   ],
   "source": [
    "# https://www.cuemath.com/algebra/dividing-polynomials/\n",
    "n = as.polynomial(c(-1,-5,2))\n",
    "d = as.polynomial(c(-3,1))\n",
    "n\n",
    "d"
   ]
  },
  {
   "cell_type": "code",
   "execution_count": 39,
   "id": "9e060953-6514-4e2e-8de0-5b4568a79724",
   "metadata": {},
   "outputs": [
    {
     "data": {
      "text/plain": [
       "1 + 2*x "
      ]
     },
     "metadata": {},
     "output_type": "display_data"
    },
    {
     "data": {
      "text/plain": [
       "2 "
      ]
     },
     "metadata": {},
     "output_type": "display_data"
    }
   ],
   "source": [
    "n / d\n",
    "n %% d"
   ]
  },
  {
   "cell_type": "markdown",
   "id": "4d7ab605-622d-4fb9-8ec7-b6c566cd3961",
   "metadata": {
    "jp-MarkdownHeadingCollapsed": true,
    "tags": []
   },
   "source": [
    "### `ggplot` for equations"
   ]
  },
  {
   "cell_type": "code",
   "execution_count": 1,
   "id": "0025b9e3-4698-4eda-953d-05e8db3448e9",
   "metadata": {},
   "outputs": [
    {
     "data": {
      "image/png": "[encoded data removed]",
      "text/plain": [
       "plot without title"
      ]
     },
     "metadata": {
      "image/png": {
       "height": 420,
       "width": 420
      }
     },
     "output_type": "display_data"
    }
   ],
   "source": [
    "library(\"ggplot2\")\n",
    "eq = function(x){x^2}\n",
    "ggplot(data.frame(x=c(-10,10)), aes(x=x)) + \n",
    "  stat_function(fun=eq)"
   ]
  },
  {
   "cell_type": "markdown",
   "id": "b2826e82-5a71-47a0-b6b5-56ca41be465b",
   "metadata": {
    "jp-MarkdownHeadingCollapsed": true,
    "tags": []
   },
   "source": [
    "### Fermat's Little Theorem"
   ]
  },
  {
   "cell_type": "markdown",
   "id": "5c3b688e-62b8-43ac-8138-40c57523e318",
   "metadata": {},
   "source": [
    "https://www.geeksforgeeks.org/fermats-little-theorem/?ref=lbp\n",
    "\n",
    "$$a^{p-1} \\equiv 1 \\pmod{p}$$ where a is not divisible by p\n",
    "\n",
    "Note: Fermat's Little Theorem cannot be applied in the following example, since 15 is not a prime number.\n",
    "<img src=\"https://i.stack.imgur.com/w4nXr.png\" alt=\"drawing\" width=\"700\"/>"
   ]
  },
  {
   "cell_type": "code",
   "execution_count": 42,
   "id": "96754e54-2e6d-4dd9-8fe8-7a7aa1d9962e",
   "metadata": {},
   "outputs": [
    {
     "data": {
      "text/html": [
       "<table class=\"dataframe\">\n",
       "<caption>A matrix: 5 × 50 of type int</caption>\n",
       "<tbody>\n",
       "\t<tr><td>1</td><td> 6</td><td>11</td><td>16</td><td>21</td><td>26</td><td>31</td><td>36</td><td>41</td><td>46</td><td>⋯</td><td>201</td><td>206</td><td>211</td><td>216</td><td>221</td><td>226</td><td>231</td><td>236</td><td>241</td><td>246</td></tr>\n",
       "\t<tr><td>2</td><td> 7</td><td>12</td><td>17</td><td>22</td><td>27</td><td>32</td><td>37</td><td>42</td><td>47</td><td>⋯</td><td>202</td><td>207</td><td>212</td><td>217</td><td>222</td><td>227</td><td>232</td><td>237</td><td>242</td><td>247</td></tr>\n",
       "\t<tr><td>3</td><td> 8</td><td>13</td><td>18</td><td>23</td><td>28</td><td>33</td><td>38</td><td>43</td><td>48</td><td>⋯</td><td>203</td><td>208</td><td>213</td><td>218</td><td>223</td><td>228</td><td>233</td><td>238</td><td>243</td><td>248</td></tr>\n",
       "\t<tr><td>4</td><td> 9</td><td>14</td><td>19</td><td>24</td><td>29</td><td>34</td><td>39</td><td>44</td><td>49</td><td>⋯</td><td>204</td><td>209</td><td>214</td><td>219</td><td>224</td><td>229</td><td>234</td><td>239</td><td>244</td><td>249</td></tr>\n",
       "\t<tr><td>5</td><td>10</td><td>15</td><td>20</td><td>25</td><td>30</td><td>35</td><td>40</td><td>45</td><td>50</td><td>⋯</td><td>205</td><td>210</td><td>215</td><td>220</td><td>225</td><td>230</td><td>235</td><td>240</td><td>245</td><td>250</td></tr>\n",
       "</tbody>\n",
       "</table>\n"
      ],
      "text/latex": [
       "A matrix: 5 × 50 of type int\n",
       "\\begin{tabular}{lllllllllllllllllllll}\n",
       "\t 1 &  6 & 11 & 16 & 21 & 26 & 31 & 36 & 41 & 46 & ⋯ & 201 & 206 & 211 & 216 & 221 & 226 & 231 & 236 & 241 & 246\\\\\n",
       "\t 2 &  7 & 12 & 17 & 22 & 27 & 32 & 37 & 42 & 47 & ⋯ & 202 & 207 & 212 & 217 & 222 & 227 & 232 & 237 & 242 & 247\\\\\n",
       "\t 3 &  8 & 13 & 18 & 23 & 28 & 33 & 38 & 43 & 48 & ⋯ & 203 & 208 & 213 & 218 & 223 & 228 & 233 & 238 & 243 & 248\\\\\n",
       "\t 4 &  9 & 14 & 19 & 24 & 29 & 34 & 39 & 44 & 49 & ⋯ & 204 & 209 & 214 & 219 & 224 & 229 & 234 & 239 & 244 & 249\\\\\n",
       "\t 5 & 10 & 15 & 20 & 25 & 30 & 35 & 40 & 45 & 50 & ⋯ & 205 & 210 & 215 & 220 & 225 & 230 & 235 & 240 & 245 & 250\\\\\n",
       "\\end{tabular}\n"
      ],
      "text/markdown": [
       "\n",
       "A matrix: 5 × 50 of type int\n",
       "\n",
       "| 1 |  6 | 11 | 16 | 21 | 26 | 31 | 36 | 41 | 46 | ⋯ | 201 | 206 | 211 | 216 | 221 | 226 | 231 | 236 | 241 | 246 |\n",
       "| 2 |  7 | 12 | 17 | 22 | 27 | 32 | 37 | 42 | 47 | ⋯ | 202 | 207 | 212 | 217 | 222 | 227 | 232 | 237 | 242 | 247 |\n",
       "| 3 |  8 | 13 | 18 | 23 | 28 | 33 | 38 | 43 | 48 | ⋯ | 203 | 208 | 213 | 218 | 223 | 228 | 233 | 238 | 243 | 248 |\n",
       "| 4 |  9 | 14 | 19 | 24 | 29 | 34 | 39 | 44 | 49 | ⋯ | 204 | 209 | 214 | 219 | 224 | 229 | 234 | 239 | 244 | 249 |\n",
       "| 5 | 10 | 15 | 20 | 25 | 30 | 35 | 40 | 45 | 50 | ⋯ | 205 | 210 | 215 | 220 | 225 | 230 | 235 | 240 | 245 | 250 |\n",
       "\n"
      ],
      "text/plain": [
       "     [,1] [,2] [,3] [,4] [,5] [,6] [,7] [,8] [,9] [,10] [,11] [,12] [,13] [,14]\n",
       "[1,] 1     6   11   16   21   26   31   36   41   46    ⋯     201   206   211  \n",
       "[2,] 2     7   12   17   22   27   32   37   42   47    ⋯     202   207   212  \n",
       "[3,] 3     8   13   18   23   28   33   38   43   48    ⋯     203   208   213  \n",
       "[4,] 4     9   14   19   24   29   34   39   44   49    ⋯     204   209   214  \n",
       "[5,] 5    10   15   20   25   30   35   40   45   50    ⋯     205   210   215  \n",
       "     [,15] [,16] [,17] [,18] [,19] [,20] [,21]\n",
       "[1,] 216   221   226   231   236   241   246  \n",
       "[2,] 217   222   227   232   237   242   247  \n",
       "[3,] 218   223   228   233   238   243   248  \n",
       "[4,] 219   224   229   234   239   244   249  \n",
       "[5,] 220   225   230   235   240   245   250  "
      ]
     },
     "metadata": {},
     "output_type": "display_data"
    }
   ],
   "source": [
    "p = 5\n",
    "\n",
    "A = matrix(1:(50*p), nrow = p)\n",
    "A"
   ]
  },
  {
   "cell_type": "code",
   "execution_count": 43,
   "id": "149d3042-9196-444f-9f59-f0799559a13a",
   "metadata": {},
   "outputs": [
    {
     "data": {
      "text/html": [
       "<table class=\"dataframe\">\n",
       "<caption>A matrix: 5 × 50 of type dbl</caption>\n",
       "<tbody>\n",
       "\t<tr><td>1</td><td>1</td><td>1</td><td>1</td><td>1</td><td>1</td><td>1</td><td>1</td><td>1</td><td>1</td><td>⋯</td><td>1</td><td>1</td><td>1</td><td>1</td><td>1</td><td>1</td><td>1</td><td>1</td><td>1</td><td>1</td></tr>\n",
       "\t<tr><td>1</td><td>1</td><td>1</td><td>1</td><td>1</td><td>1</td><td>1</td><td>1</td><td>1</td><td>1</td><td>⋯</td><td>1</td><td>1</td><td>1</td><td>1</td><td>1</td><td>1</td><td>1</td><td>1</td><td>1</td><td>1</td></tr>\n",
       "\t<tr><td>1</td><td>1</td><td>1</td><td>1</td><td>1</td><td>1</td><td>1</td><td>1</td><td>1</td><td>1</td><td>⋯</td><td>1</td><td>1</td><td>1</td><td>1</td><td>1</td><td>1</td><td>1</td><td>1</td><td>1</td><td>1</td></tr>\n",
       "\t<tr><td>1</td><td>1</td><td>1</td><td>1</td><td>1</td><td>1</td><td>1</td><td>1</td><td>1</td><td>1</td><td>⋯</td><td>1</td><td>1</td><td>1</td><td>1</td><td>1</td><td>1</td><td>1</td><td>1</td><td>1</td><td>1</td></tr>\n",
       "\t<tr><td>0</td><td>0</td><td>0</td><td>0</td><td>0</td><td>0</td><td>0</td><td>0</td><td>0</td><td>0</td><td>⋯</td><td>0</td><td>0</td><td>0</td><td>0</td><td>0</td><td>0</td><td>0</td><td>0</td><td>0</td><td>0</td></tr>\n",
       "</tbody>\n",
       "</table>\n"
      ],
      "text/latex": [
       "A matrix: 5 × 50 of type dbl\n",
       "\\begin{tabular}{lllllllllllllllllllll}\n",
       "\t 1 & 1 & 1 & 1 & 1 & 1 & 1 & 1 & 1 & 1 & ⋯ & 1 & 1 & 1 & 1 & 1 & 1 & 1 & 1 & 1 & 1\\\\\n",
       "\t 1 & 1 & 1 & 1 & 1 & 1 & 1 & 1 & 1 & 1 & ⋯ & 1 & 1 & 1 & 1 & 1 & 1 & 1 & 1 & 1 & 1\\\\\n",
       "\t 1 & 1 & 1 & 1 & 1 & 1 & 1 & 1 & 1 & 1 & ⋯ & 1 & 1 & 1 & 1 & 1 & 1 & 1 & 1 & 1 & 1\\\\\n",
       "\t 1 & 1 & 1 & 1 & 1 & 1 & 1 & 1 & 1 & 1 & ⋯ & 1 & 1 & 1 & 1 & 1 & 1 & 1 & 1 & 1 & 1\\\\\n",
       "\t 0 & 0 & 0 & 0 & 0 & 0 & 0 & 0 & 0 & 0 & ⋯ & 0 & 0 & 0 & 0 & 0 & 0 & 0 & 0 & 0 & 0\\\\\n",
       "\\end{tabular}\n"
      ],
      "text/markdown": [
       "\n",
       "A matrix: 5 × 50 of type dbl\n",
       "\n",
       "| 1 | 1 | 1 | 1 | 1 | 1 | 1 | 1 | 1 | 1 | ⋯ | 1 | 1 | 1 | 1 | 1 | 1 | 1 | 1 | 1 | 1 |\n",
       "| 1 | 1 | 1 | 1 | 1 | 1 | 1 | 1 | 1 | 1 | ⋯ | 1 | 1 | 1 | 1 | 1 | 1 | 1 | 1 | 1 | 1 |\n",
       "| 1 | 1 | 1 | 1 | 1 | 1 | 1 | 1 | 1 | 1 | ⋯ | 1 | 1 | 1 | 1 | 1 | 1 | 1 | 1 | 1 | 1 |\n",
       "| 1 | 1 | 1 | 1 | 1 | 1 | 1 | 1 | 1 | 1 | ⋯ | 1 | 1 | 1 | 1 | 1 | 1 | 1 | 1 | 1 | 1 |\n",
       "| 0 | 0 | 0 | 0 | 0 | 0 | 0 | 0 | 0 | 0 | ⋯ | 0 | 0 | 0 | 0 | 0 | 0 | 0 | 0 | 0 | 0 |\n",
       "\n"
      ],
      "text/plain": [
       "     [,1] [,2] [,3] [,4] [,5] [,6] [,7] [,8] [,9] [,10] [,11] [,12] [,13] [,14]\n",
       "[1,] 1    1    1    1    1    1    1    1    1    1     ⋯     1     1     1    \n",
       "[2,] 1    1    1    1    1    1    1    1    1    1     ⋯     1     1     1    \n",
       "[3,] 1    1    1    1    1    1    1    1    1    1     ⋯     1     1     1    \n",
       "[4,] 1    1    1    1    1    1    1    1    1    1     ⋯     1     1     1    \n",
       "[5,] 0    0    0    0    0    0    0    0    0    0     ⋯     0     0     0    \n",
       "     [,15] [,16] [,17] [,18] [,19] [,20] [,21]\n",
       "[1,] 1     1     1     1     1     1     1    \n",
       "[2,] 1     1     1     1     1     1     1    \n",
       "[3,] 1     1     1     1     1     1     1    \n",
       "[4,] 1     1     1     1     1     1     1    \n",
       "[5,] 0     0     0     0     0     0     0    "
      ]
     },
     "metadata": {},
     "output_type": "display_data"
    }
   ],
   "source": [
    "B = A^(p-1) %% p\n",
    "B"
   ]
  },
  {
   "cell_type": "code",
   "execution_count": 45,
   "id": "b19f663c-68bd-42b2-aa65-fcf87f5f847c",
   "metadata": {},
   "outputs": [
    {
     "data": {
      "text/html": [
       "TRUE"
      ],
      "text/latex": [
       "TRUE"
      ],
      "text/markdown": [
       "TRUE"
      ],
      "text/plain": [
       "[1] TRUE"
      ]
     },
     "metadata": {},
     "output_type": "display_data"
    }
   ],
   "source": [
    "# To show all elements in rows 1 to 4 contain ones AND all elements in row 5 contain zeros\n",
    "\n",
    "# prod(B[-p,] == 1) && prod(B[p,] == 0)\n",
    "\n",
    "# To show all elements in rows 1 to 4 contain ones\n",
    "# apply(B,1,sum)\n",
    "# rowSums(B)\n",
    "\n",
    "# prod(B[-p,] == 1)\n",
    "\n",
    "all(B[-5,]==1) && all(B[5,]==0)"
   ]
  },
  {
   "cell_type": "markdown",
   "id": "f05abc41-19c6-4c59-a1a9-13c3508a4b26",
   "metadata": {
    "jp-MarkdownHeadingCollapsed": true,
    "tags": []
   },
   "source": [
    "### Anonymous functions (resembles list comprehension)"
   ]
  },
  {
   "cell_type": "code",
   "execution_count": 4,
   "id": "c2585771-4207-4b46-97d2-577d0aca1cf2",
   "metadata": {},
   "outputs": [
    {
     "data": {
      "text/html": [
       "<style>\n",
       ".list-inline {list-style: none; margin:0; padding: 0}\n",
       ".list-inline>li {display: inline-block}\n",
       ".list-inline>li:not(:last-child)::after {content: \"\\00b7\"; padding: 0 .5ex}\n",
       "</style>\n",
       "<ol class=list-inline><li>1</li><li>4</li><li>7</li><li>10</li><li>13</li><li>16</li><li>19</li><li>22</li><li>25</li><li>28</li></ol>\n"
      ],
      "text/latex": [
       "\\begin{enumerate*}\n",
       "\\item 1\n",
       "\\item 4\n",
       "\\item 7\n",
       "\\item 10\n",
       "\\item 13\n",
       "\\item 16\n",
       "\\item 19\n",
       "\\item 22\n",
       "\\item 25\n",
       "\\item 28\n",
       "\\end{enumerate*}\n"
      ],
      "text/markdown": [
       "1. 1\n",
       "2. 4\n",
       "3. 7\n",
       "4. 10\n",
       "5. 13\n",
       "6. 16\n",
       "7. 19\n",
       "8. 22\n",
       "9. 25\n",
       "10. 28\n",
       "\n",
       "\n"
      ],
      "text/plain": [
       " [1]  1  4  7 10 13 16 19 22 25 28"
      ]
     },
     "metadata": {},
     "output_type": "display_data"
    }
   ],
   "source": [
    "(\\(x)3*x-2)(1:10)"
   ]
  },
  {
   "cell_type": "markdown",
   "id": "f3064a53-105f-48f4-93e3-23afac0d972b",
   "metadata": {
    "jp-MarkdownHeadingCollapsed": true,
    "tags": []
   },
   "source": [
    "### AP and GP"
   ]
  },
  {
   "cell_type": "code",
   "execution_count": 3,
   "id": "73ee9778-e1a8-4510-9b25-6607baba5dd9",
   "metadata": {
    "tags": []
   },
   "outputs": [
    {
     "data": {
      "image/png": "[encoded data removed]",
      "text/plain": [
       "Plot with title “==”Plot with title “T[n]”Plot with title “5 %*% -0.8^(`n - 1`)”"
      ]
     },
     "metadata": {
      "image/png": {
       "height": 600,
       "width": 1200
      }
     },
     "output_type": "display_data"
    }
   ],
   "source": [
    "plot_dim(20,10)\n",
    "par(mfrow = c(1, 2))\n",
    "\n",
    "a <- 5\n",
    "r <- .8\n",
    "n <- 1:50\n",
    "\n",
    "Tn <- a*r^(n-1)\n",
    "Sn <- cumsum(Tn)\n",
    "data <- rbind(n,Tn,Sn)\n",
    "# data\n",
    "\n",
    "plot(n, Tn, type='h', col='blue', lty=2, ylim=c(-1,26), ylab=\"Value\")\n",
    "lines(n, Sn, type='s', col='red', lty=2)\n",
    "abline(h=0, lwd=1)\n",
    "abline(h=a/(1-r), lwd=1, lty=2, col='gray')\n",
    "\n",
    "# Use a variable within a plotmath expression - R\n",
    "# https://www.youtube.com/watch?v=TjDPGDLBnis\n",
    "title(substitute(T[n] == A %*% R^(`n - 1`), list(A=a,R=r)))\n",
    "legend(\"right\", legend=c(expression(S[n]), expression(T[n])),\n",
    "       col=c(\"red\", \"blue\"), lty=2,\n",
    "       inset=.02, box.lty=0)\n",
    "\n",
    "\n",
    "\n",
    "a <- 5\n",
    "r <- -.8\n",
    "n <- 1:50\n",
    "\n",
    "Tn <- a*r^(n-1)\n",
    "Sn <- cumsum(Tn)\n",
    "data <- rbind(n,Tn,Sn)\n",
    "# data\n",
    "\n",
    "plot(n, Tn, type='h', col='blue', lty=2, ylim=c(-5,5), ylab=\"Value\")\n",
    "lines(n, Sn, type='s', col='red', lty=2)\n",
    "abline(h=0, lwd=1)\n",
    "abline(h=a/(1-r), lwd=1, lty=2, col='gray')\n",
    "\n",
    "# Use a variable within a plotmath expression - R\n",
    "# https://www.youtube.com/watch?v=TjDPGDLBnis\n",
    "title(substitute(T[n] == A %*% R^(`n - 1`), list(A=a,R=r)))\n",
    "legend(\"right\", legend=c(expression(S[n]), expression(T[n])),\n",
    "       col=c(\"red\", \"blue\"), lty=2,\n",
    "       inset=.02, box.lty=0)\n",
    "\n",
    "plot_dim(dwidth, dheight)"
   ]
  },
  {
   "cell_type": "markdown",
   "id": "0701cf94-9d4f-4f11-b62f-22e2d2b2dff0",
   "metadata": {
    "jp-MarkdownHeadingCollapsed": true,
    "tags": []
   },
   "source": [
    "### CATegorical and CATegorical"
   ]
  },
  {
   "cell_type": "code",
   "execution_count": 40,
   "id": "071f3295-5e44-485f-95d9-666901bd3865",
   "metadata": {},
   "outputs": [
    {
     "name": "stdout",
     "output_type": "stream",
     "text": [
      "'data.frame':\t32 obs. of  11 variables:\n",
      " $ mpg : num  21 21 22.8 21.4 18.7 18.1 14.3 24.4 22.8 19.2 ...\n",
      " $ cyl : num  6 6 4 6 8 6 8 4 4 6 ...\n",
      " $ disp: num  160 160 108 258 360 ...\n",
      " $ hp  : num  110 110 93 110 175 105 245 62 95 123 ...\n",
      " $ drat: num  3.9 3.9 3.85 3.08 3.15 2.76 3.21 3.69 3.92 3.92 ...\n",
      " $ wt  : num  2.62 2.88 2.32 3.21 3.44 ...\n",
      " $ qsec: num  16.5 17 18.6 19.4 17 ...\n",
      " $ vs  : num  0 0 1 1 0 1 0 1 1 1 ...\n",
      " $ am  : num  1 1 1 0 0 0 0 0 0 0 ...\n",
      " $ gear: num  4 4 4 3 3 3 3 4 4 4 ...\n",
      " $ carb: num  4 4 1 1 2 1 4 2 2 4 ...\n"
     ]
    }
   ],
   "source": [
    "str(mtcars)"
   ]
  },
  {
   "cell_type": "code",
   "execution_count": 35,
   "id": "5e9391fa-61bb-47d0-a990-61c37db56681",
   "metadata": {},
   "outputs": [
    {
     "data": {
      "text/plain": [
       "   \n",
       "     0  1\n",
       "  4  3  8\n",
       "  6  4  3\n",
       "  8 12  2"
      ]
     },
     "metadata": {},
     "output_type": "display_data"
    }
   ],
   "source": [
    "table(mtcars$cyl,mtcars$am)"
   ]
  },
  {
   "cell_type": "code",
   "execution_count": 4,
   "id": "e660ceea-848a-49b7-9716-6410699be0e5",
   "metadata": {},
   "outputs": [
    {
     "data": {
      "text/plain": [
       "   am\n",
       "cyl  0  1\n",
       "  4  3  8\n",
       "  6  4  3\n",
       "  8 12  2"
      ]
     },
     "metadata": {},
     "output_type": "display_data"
    }
   ],
   "source": [
    "x = xtabs(~cyl+am,mtcars)\n",
    "x"
   ]
  },
  {
   "cell_type": "code",
   "execution_count": 47,
   "id": "402f3aa2-2771-41d8-a721-f9d4a2221bf3",
   "metadata": {},
   "outputs": [
    {
     "name": "stderr",
     "output_type": "stream",
     "text": [
      "Warning message in chisq.test(x):\n",
      "“Chi-squared approximation may be incorrect”\n"
     ]
    },
    {
     "data": {
      "text/plain": [
       "\n",
       "\tPearson's Chi-squared test\n",
       "\n",
       "data:  x\n",
       "X-squared = 8.7407, df = 2, p-value = 0.01265\n"
      ]
     },
     "metadata": {},
     "output_type": "display_data"
    }
   ],
   "source": [
    "chisq.test(x)"
   ]
  },
  {
   "cell_type": "code",
   "execution_count": 5,
   "id": "906ae265-2fad-4def-b5a6-52c0211471fc",
   "metadata": {
    "tags": []
   },
   "outputs": [
    {
     "data": {
      "text/plain": [
       "   am\n",
       "cyl     0     1\n",
       "  4 27.27 72.73\n",
       "  6 57.14 42.86\n",
       "  8 85.71 14.29"
      ]
     },
     "metadata": {},
     "output_type": "display_data"
    }
   ],
   "source": [
    "# prop.table: 1 for across, 2 for down\n",
    "\n",
    "round(100*prop.table(x,1),2)"
   ]
  },
  {
   "cell_type": "markdown",
   "id": "f158fbe4-e3b8-4d8a-91d4-5a7659e4b63a",
   "metadata": {
    "jp-MarkdownHeadingCollapsed": true,
    "tags": []
   },
   "source": [
    "### CATegorical and QUANTitative"
   ]
  },
  {
   "cell_type": "code",
   "execution_count": 16,
   "id": "295dd702-301c-4f89-962a-dd3417ae259a",
   "metadata": {},
   "outputs": [
    {
     "name": "stdout",
     "output_type": "stream",
     "text": [
      "'data.frame':\t150 obs. of  3 variables:\n",
      " $ company: Factor w/ 4 levels \"AAPL\",\"GOOGL\",..: 4 3 3 3 1 2 3 2 2 2 ...\n",
      " $ Q1     : num  97 92 81 61 54 62 79 97 67 97 ...\n",
      " $ Q2     : num  48 44 59 37 49 40 47 57 69 45 ...\n"
     ]
    }
   ],
   "source": [
    "company = c('MSFT', 'META', 'META', 'META', 'AAPL', 'GOOGL', 'META', 'GOOGL', 'GOOGL', 'GOOGL', 'GOOGL', 'META', 'GOOGL', 'GOOGL', 'GOOGL', 'META', 'GOOGL', 'META', 'META', 'META', 'META', 'GOOGL', 'GOOGL', 'META', 'MSFT', 'GOOGL', 'META', 'META', 'META', 'AAPL', 'AAPL', 'GOOGL', 'META', 'AAPL', 'META', 'AAPL', 'META', 'MSFT', 'AAPL', 'GOOGL', 'GOOGL', 'META', 'MSFT', 'META', 'AAPL', 'META', 'META', 'META', 'GOOGL', 'AAPL')\n",
    "Q1 = c(97,92,81,61,54,62,79,97,67,97,63,74,48,89,58,87,66,57,86,48,81,73,72,95,59,84,82,48,55,88,64,86,77,90,48,81,70,77,92,88,95,50,73,91,47,94,80,75,78,68,91,58,65,48,56,94,56,54,67,83,86,57,61,51,78,83,48,56,53,82,70,46,77,75,90,69,50,54,69,98,62,76,50,73,50,76,63,100,62,48,69,94,52,94,64,97,92,60,87,63,60,92,52,65,59,91,72,78,86,80,53,83,68,84,74,49,88,56,48,81,60,75,83,48,69,60,61,77,76,72,48,53,83,56,89,94,67,54,82,82,53,100,79,84,60,84,69,69,57,52)\n",
    "Q2 = c(48,44,59,37,49,40,47,57,69,45,41,40,57,69,66,54,51,59,55,69,51,59,69,50,43,64,46,30,49,38,41,32,64,49,48,41,48,50,56,59,67,58,37,31,50,61,48,64,63,34)\n",
    "\n",
    "companies = data.frame(company,Q1,Q2)\n",
    "str(companies)"
   ]
  },
  {
   "cell_type": "code",
   "execution_count": 7,
   "id": "a2cf0fde-33bd-4d7a-86ed-9d74c51a3542",
   "metadata": {},
   "outputs": [
    {
     "data": {
      "text/plain": [
       "  company         Q1               Q2       \n",
       " AAPL :24   Min.   : 46.00   Min.   :30.00  \n",
       " GOOGL:48   1st Qu.: 57.25   1st Qu.:43.00  \n",
       " META :66   Median : 72.00   Median :50.00  \n",
       " MSFT :12   Mean   : 71.31   Mean   :51.12  \n",
       "            3rd Qu.: 83.75   3rd Qu.:59.00  \n",
       "            Max.   :100.00   Max.   :69.00  "
      ]
     },
     "metadata": {},
     "output_type": "display_data"
    }
   ],
   "source": [
    "summary(companies)"
   ]
  },
  {
   "cell_type": "code",
   "execution_count": 54,
   "id": "91e7f98e-f365-4d83-9451-794b1672d1fe",
   "metadata": {},
   "outputs": [
    {
     "data": {
      "text/html": [
       "<table class=\"dataframe\">\n",
       "<caption>A data.frame: 4 × 3</caption>\n",
       "<thead>\n",
       "\t<tr><th scope=col>company</th><th scope=col>Q1</th><th scope=col>Q2</th></tr>\n",
       "\t<tr><th scope=col>&lt;fct&gt;</th><th scope=col>&lt;dbl&gt;</th><th scope=col>&lt;dbl&gt;</th></tr>\n",
       "</thead>\n",
       "<tbody>\n",
       "\t<tr><td>AAPL </td><td>64.0</td><td>45.0</td></tr>\n",
       "\t<tr><td>GOOGL</td><td>74.5</td><td>59.0</td></tr>\n",
       "\t<tr><td>META </td><td>70.0</td><td>49.5</td></tr>\n",
       "\t<tr><td>MSFT </td><td>75.0</td><td>45.5</td></tr>\n",
       "</tbody>\n",
       "</table>\n"
      ],
      "text/latex": [
       "A data.frame: 4 × 3\n",
       "\\begin{tabular}{lll}\n",
       " company & Q1 & Q2\\\\\n",
       " <fct> & <dbl> & <dbl>\\\\\n",
       "\\hline\n",
       "\t AAPL  & 64.0 & 45.0\\\\\n",
       "\t GOOGL & 74.5 & 59.0\\\\\n",
       "\t META  & 70.0 & 49.5\\\\\n",
       "\t MSFT  & 75.0 & 45.5\\\\\n",
       "\\end{tabular}\n"
      ],
      "text/markdown": [
       "\n",
       "A data.frame: 4 × 3\n",
       "\n",
       "| company &lt;fct&gt; | Q1 &lt;dbl&gt; | Q2 &lt;dbl&gt; |\n",
       "|---|---|---|\n",
       "| AAPL  | 64.0 | 45.0 |\n",
       "| GOOGL | 74.5 | 59.0 |\n",
       "| META  | 70.0 | 49.5 |\n",
       "| MSFT  | 75.0 | 45.5 |\n",
       "\n"
      ],
      "text/plain": [
       "  company Q1   Q2  \n",
       "1 AAPL    64.0 45.0\n",
       "2 GOOGL   74.5 59.0\n",
       "3 META    70.0 49.5\n",
       "4 MSFT    75.0 45.5"
      ]
     },
     "metadata": {},
     "output_type": "display_data"
    }
   ],
   "source": [
    "# aggregate(cbind(Q1,Q2)~company,companies,sum)\n",
    "aggregate(.~company,companies,median)"
   ]
  },
  {
   "cell_type": "markdown",
   "id": "63c9e604-92fd-4397-9ed5-aa7d4039e489",
   "metadata": {
    "jp-MarkdownHeadingCollapsed": true,
    "tags": []
   },
   "source": [
    "### Linear Regression"
   ]
  },
  {
   "cell_type": "code",
   "execution_count": 4,
   "id": "a6d1c2f8-7f80-45eb-bfaa-c967c6251f72",
   "metadata": {},
   "outputs": [
    {
     "data": {
      "text/plain": [
       "\n",
       "Call:\n",
       "lm(formula = log.T. ~ t, data = df)\n",
       "\n",
       "Residuals:\n",
       "         1          2          3          5 \n",
       "-8.332e-05 -3.406e-03  5.276e-03 -1.787e-03 \n",
       "\n",
       "Coefficients:\n",
       "              Estimate Std. Error t value Pr(>|t|)    \n",
       "(Intercept)  3.2959202  0.0035767   921.5 1.18e-06 ***\n",
       "t           -0.1209332  0.0003122  -387.4 6.66e-06 ***\n",
       "---\n",
       "Signif. codes:  0 ‘***’ 0.001 ‘**’ 0.01 ‘*’ 0.05 ‘.’ 0.1 ‘ ’ 1\n",
       "\n",
       "Residual standard error: 0.004617 on 2 degrees of freedom\n",
       "Multiple R-squared:      1,\tAdjusted R-squared:      1 \n",
       "F-statistic: 1.5e+05 on 1 and 2 DF,  p-value: 6.664e-06\n"
      ]
     },
     "metadata": {},
     "output_type": "display_data"
    },
    {
     "data": {
      "image/png": "[encoded data removed]",
      "text/plain": [
       "plot without title"
      ]
     },
     "metadata": {
      "image/png": {
       "height": 360,
       "width": 360
      }
     },
     "output_type": "display_data"
    }
   ],
   "source": [
    "t = seq(0,20,5)\n",
    "T = c(27, 14.7, 8.1, 7.5, 2.4)\n",
    "\n",
    "# plot(t,log(T))\n",
    "\n",
    "df = data.frame(t,T,log(T))\n",
    "df = df[-4,]\n",
    "# df\n",
    "\n",
    "reg = lm(log.T. ~ t, df)\n",
    "summary(reg)\n",
    "\n",
    "plot(x = t, y=log(T))\n",
    "abline(reg)"
   ]
  },
  {
   "cell_type": "markdown",
   "id": "dbb2fe7f-15fc-4861-bce9-35e091cc9005",
   "metadata": {
    "jp-MarkdownHeadingCollapsed": true,
    "tags": []
   },
   "source": [
    "### Matrices and Linear Algebra"
   ]
  },
  {
   "cell_type": "code",
   "execution_count": 23,
   "id": "3bc9b37b-7e7f-4be5-b18b-27f0be172206",
   "metadata": {},
   "outputs": [
    {
     "data": {
      "text/html": [
       "<style>\n",
       ".list-inline {list-style: none; margin:0; padding: 0}\n",
       ".list-inline>li {display: inline-block}\n",
       ".list-inline>li:not(:last-child)::after {content: \"\\00b7\"; padding: 0 .5ex}\n",
       "</style>\n",
       "<ol class=list-inline><li>-13</li><li>-6</li><li>4</li></ol>\n"
      ],
      "text/latex": [
       "\\begin{enumerate*}\n",
       "\\item -13\n",
       "\\item -6\n",
       "\\item 4\n",
       "\\end{enumerate*}\n"
      ],
      "text/markdown": [
       "1. -13\n",
       "2. -6\n",
       "3. 4\n",
       "\n",
       "\n"
      ],
      "text/plain": [
       "[1] -13  -6   4"
      ]
     },
     "metadata": {},
     "output_type": "display_data"
    }
   ],
   "source": [
    "A = rbind(c(-4,7,-2),c(1,-2,1),c(2,-3,1))\n",
    "b = c(2,3,-4)\n",
    "solve(A,b)\n",
    "# inv(A) %*% b\n",
    "\n",
    "# Alternative\n",
    "# library(pracma)\n",
    "# A = rbind(c(-4,7,-2,2),c(1,-2,1,3),c(2,-3,1,-4))\n",
    "# rref(A)\n",
    "\n",
    "# Check using matrix multiplication\n",
    "# A %*% c(-13,-6,4)"
   ]
  },
  {
   "cell_type": "code",
   "execution_count": 5,
   "id": "97d92771-8d60-4ec8-a60f-d4419d1038f5",
   "metadata": {},
   "outputs": [
    {
     "data": {
      "text/plain": [
       "eigen() decomposition\n",
       "$values\n",
       "[1]  4 -2  1\n",
       "\n",
       "$vectors\n",
       "     [,1]       [,2]       [,3]\n",
       "[1,]    0  0.0000000  0.4574957\n",
       "[2,]    0  0.8944272  0.4574957\n",
       "[3,]    1 -0.4472136 -0.7624929\n"
      ]
     },
     "metadata": {},
     "output_type": "display_data"
    }
   ],
   "source": [
    "A <- matrix(c(1,0,0,3,-2,0,2,3,4), 3, 3, byrow=TRUE)\n",
    "eigen(A)"
   ]
  },
  {
   "cell_type": "code",
   "execution_count": 9,
   "id": "88264da0-7175-453d-93c0-9cada1779e9c",
   "metadata": {},
   "outputs": [
    {
     "data": {
      "text/html": [
       "<table class=\"dataframe\">\n",
       "<caption>A matrix: 2 × 2 of type dbl</caption>\n",
       "<tbody>\n",
       "\t<tr><td>1</td><td>0</td></tr>\n",
       "\t<tr><td>0</td><td>1</td></tr>\n",
       "</tbody>\n",
       "</table>\n"
      ],
      "text/latex": [
       "A matrix: 2 × 2 of type dbl\n",
       "\\begin{tabular}{ll}\n",
       "\t 1 & 0\\\\\n",
       "\t 0 & 1\\\\\n",
       "\\end{tabular}\n"
      ],
      "text/markdown": [
       "\n",
       "A matrix: 2 × 2 of type dbl\n",
       "\n",
       "| 1 | 0 |\n",
       "| 0 | 1 |\n",
       "\n"
      ],
      "text/plain": [
       "     [,1] [,2]\n",
       "[1,] 1    0   \n",
       "[2,] 0    1   "
      ]
     },
     "metadata": {},
     "output_type": "display_data"
    }
   ],
   "source": [
    "A = rbind(c(2,5),c(1,3))\n",
    "A %*% solve(A)"
   ]
  },
  {
   "cell_type": "markdown",
   "id": "5587c3a2-27ea-4e6a-bf00-30a7a15c60b6",
   "metadata": {
    "jp-MarkdownHeadingCollapsed": true,
    "tags": []
   },
   "source": [
    "### Pascal's Triangle"
   ]
  },
  {
   "cell_type": "code",
   "execution_count": 1,
   "id": "d0ce8fef-3cde-459c-b27e-73896f80a728",
   "metadata": {},
   "outputs": [
    {
     "data": {
      "text/html": [
       "<ol>\n",
       "\t<li>1</li>\n",
       "\t<li><style>\n",
       ".list-inline {list-style: none; margin:0; padding: 0}\n",
       ".list-inline>li {display: inline-block}\n",
       ".list-inline>li:not(:last-child)::after {content: \"\\00b7\"; padding: 0 .5ex}\n",
       "</style>\n",
       "<ol class=list-inline><li>1</li><li>1</li></ol>\n",
       "</li>\n",
       "\t<li><style>\n",
       ".list-inline {list-style: none; margin:0; padding: 0}\n",
       ".list-inline>li {display: inline-block}\n",
       ".list-inline>li:not(:last-child)::after {content: \"\\00b7\"; padding: 0 .5ex}\n",
       "</style>\n",
       "<ol class=list-inline><li>1</li><li>2</li><li>1</li></ol>\n",
       "</li>\n",
       "\t<li><style>\n",
       ".list-inline {list-style: none; margin:0; padding: 0}\n",
       ".list-inline>li {display: inline-block}\n",
       ".list-inline>li:not(:last-child)::after {content: \"\\00b7\"; padding: 0 .5ex}\n",
       "</style>\n",
       "<ol class=list-inline><li>1</li><li>3</li><li>3</li><li>1</li></ol>\n",
       "</li>\n",
       "\t<li><style>\n",
       ".list-inline {list-style: none; margin:0; padding: 0}\n",
       ".list-inline>li {display: inline-block}\n",
       ".list-inline>li:not(:last-child)::after {content: \"\\00b7\"; padding: 0 .5ex}\n",
       "</style>\n",
       "<ol class=list-inline><li>1</li><li>4</li><li>6</li><li>4</li><li>1</li></ol>\n",
       "</li>\n",
       "\t<li><style>\n",
       ".list-inline {list-style: none; margin:0; padding: 0}\n",
       ".list-inline>li {display: inline-block}\n",
       ".list-inline>li:not(:last-child)::after {content: \"\\00b7\"; padding: 0 .5ex}\n",
       "</style>\n",
       "<ol class=list-inline><li>1</li><li>5</li><li>10</li><li>10</li><li>5</li><li>1</li></ol>\n",
       "</li>\n",
       "\t<li><style>\n",
       ".list-inline {list-style: none; margin:0; padding: 0}\n",
       ".list-inline>li {display: inline-block}\n",
       ".list-inline>li:not(:last-child)::after {content: \"\\00b7\"; padding: 0 .5ex}\n",
       "</style>\n",
       "<ol class=list-inline><li>1</li><li>6</li><li>15</li><li>20</li><li>15</li><li>6</li><li>1</li></ol>\n",
       "</li>\n",
       "\t<li><style>\n",
       ".list-inline {list-style: none; margin:0; padding: 0}\n",
       ".list-inline>li {display: inline-block}\n",
       ".list-inline>li:not(:last-child)::after {content: \"\\00b7\"; padding: 0 .5ex}\n",
       "</style>\n",
       "<ol class=list-inline><li>1</li><li>7</li><li>21</li><li>35</li><li>35</li><li>21</li><li>7</li><li>1</li></ol>\n",
       "</li>\n",
       "\t<li><style>\n",
       ".list-inline {list-style: none; margin:0; padding: 0}\n",
       ".list-inline>li {display: inline-block}\n",
       ".list-inline>li:not(:last-child)::after {content: \"\\00b7\"; padding: 0 .5ex}\n",
       "</style>\n",
       "<ol class=list-inline><li>1</li><li>8</li><li>28</li><li>56</li><li>70</li><li>56</li><li>28</li><li>8</li><li>1</li></ol>\n",
       "</li>\n",
       "\t<li><style>\n",
       ".list-inline {list-style: none; margin:0; padding: 0}\n",
       ".list-inline>li {display: inline-block}\n",
       ".list-inline>li:not(:last-child)::after {content: \"\\00b7\"; padding: 0 .5ex}\n",
       "</style>\n",
       "<ol class=list-inline><li>1</li><li>9</li><li>36</li><li>84</li><li>126</li><li>126</li><li>84</li><li>36</li><li>9</li><li>1</li></ol>\n",
       "</li>\n",
       "\t<li><style>\n",
       ".list-inline {list-style: none; margin:0; padding: 0}\n",
       ".list-inline>li {display: inline-block}\n",
       ".list-inline>li:not(:last-child)::after {content: \"\\00b7\"; padding: 0 .5ex}\n",
       "</style>\n",
       "<ol class=list-inline><li>1</li><li>10</li><li>45</li><li>120</li><li>210</li><li>252</li><li>210</li><li>120</li><li>45</li><li>10</li><li>1</li></ol>\n",
       "</li>\n",
       "</ol>\n"
      ],
      "text/latex": [
       "\\begin{enumerate}\n",
       "\\item 1\n",
       "\\item \\begin{enumerate*}\n",
       "\\item 1\n",
       "\\item 1\n",
       "\\end{enumerate*}\n",
       "\n",
       "\\item \\begin{enumerate*}\n",
       "\\item 1\n",
       "\\item 2\n",
       "\\item 1\n",
       "\\end{enumerate*}\n",
       "\n",
       "\\item \\begin{enumerate*}\n",
       "\\item 1\n",
       "\\item 3\n",
       "\\item 3\n",
       "\\item 1\n",
       "\\end{enumerate*}\n",
       "\n",
       "\\item \\begin{enumerate*}\n",
       "\\item 1\n",
       "\\item 4\n",
       "\\item 6\n",
       "\\item 4\n",
       "\\item 1\n",
       "\\end{enumerate*}\n",
       "\n",
       "\\item \\begin{enumerate*}\n",
       "\\item 1\n",
       "\\item 5\n",
       "\\item 10\n",
       "\\item 10\n",
       "\\item 5\n",
       "\\item 1\n",
       "\\end{enumerate*}\n",
       "\n",
       "\\item \\begin{enumerate*}\n",
       "\\item 1\n",
       "\\item 6\n",
       "\\item 15\n",
       "\\item 20\n",
       "\\item 15\n",
       "\\item 6\n",
       "\\item 1\n",
       "\\end{enumerate*}\n",
       "\n",
       "\\item \\begin{enumerate*}\n",
       "\\item 1\n",
       "\\item 7\n",
       "\\item 21\n",
       "\\item 35\n",
       "\\item 35\n",
       "\\item 21\n",
       "\\item 7\n",
       "\\item 1\n",
       "\\end{enumerate*}\n",
       "\n",
       "\\item \\begin{enumerate*}\n",
       "\\item 1\n",
       "\\item 8\n",
       "\\item 28\n",
       "\\item 56\n",
       "\\item 70\n",
       "\\item 56\n",
       "\\item 28\n",
       "\\item 8\n",
       "\\item 1\n",
       "\\end{enumerate*}\n",
       "\n",
       "\\item \\begin{enumerate*}\n",
       "\\item 1\n",
       "\\item 9\n",
       "\\item 36\n",
       "\\item 84\n",
       "\\item 126\n",
       "\\item 126\n",
       "\\item 84\n",
       "\\item 36\n",
       "\\item 9\n",
       "\\item 1\n",
       "\\end{enumerate*}\n",
       "\n",
       "\\item \\begin{enumerate*}\n",
       "\\item 1\n",
       "\\item 10\n",
       "\\item 45\n",
       "\\item 120\n",
       "\\item 210\n",
       "\\item 252\n",
       "\\item 210\n",
       "\\item 120\n",
       "\\item 45\n",
       "\\item 10\n",
       "\\item 1\n",
       "\\end{enumerate*}\n",
       "\n",
       "\\end{enumerate}\n"
      ],
      "text/markdown": [
       "1. 1\n",
       "2. 1. 1\n",
       "2. 1\n",
       "\n",
       "\n",
       "\n",
       "3. 1. 1\n",
       "2. 2\n",
       "3. 1\n",
       "\n",
       "\n",
       "\n",
       "4. 1. 1\n",
       "2. 3\n",
       "3. 3\n",
       "4. 1\n",
       "\n",
       "\n",
       "\n",
       "5. 1. 1\n",
       "2. 4\n",
       "3. 6\n",
       "4. 4\n",
       "5. 1\n",
       "\n",
       "\n",
       "\n",
       "6. 1. 1\n",
       "2. 5\n",
       "3. 10\n",
       "4. 10\n",
       "5. 5\n",
       "6. 1\n",
       "\n",
       "\n",
       "\n",
       "7. 1. 1\n",
       "2. 6\n",
       "3. 15\n",
       "4. 20\n",
       "5. 15\n",
       "6. 6\n",
       "7. 1\n",
       "\n",
       "\n",
       "\n",
       "8. 1. 1\n",
       "2. 7\n",
       "3. 21\n",
       "4. 35\n",
       "5. 35\n",
       "6. 21\n",
       "7. 7\n",
       "8. 1\n",
       "\n",
       "\n",
       "\n",
       "9. 1. 1\n",
       "2. 8\n",
       "3. 28\n",
       "4. 56\n",
       "5. 70\n",
       "6. 56\n",
       "7. 28\n",
       "8. 8\n",
       "9. 1\n",
       "\n",
       "\n",
       "\n",
       "10. 1. 1\n",
       "2. 9\n",
       "3. 36\n",
       "4. 84\n",
       "5. 126\n",
       "6. 126\n",
       "7. 84\n",
       "8. 36\n",
       "9. 9\n",
       "10. 1\n",
       "\n",
       "\n",
       "\n",
       "11. 1. 1\n",
       "2. 10\n",
       "3. 45\n",
       "4. 120\n",
       "5. 210\n",
       "6. 252\n",
       "7. 210\n",
       "8. 120\n",
       "9. 45\n",
       "10. 10\n",
       "11. 1\n",
       "\n",
       "\n",
       "\n",
       "\n",
       "\n"
      ],
      "text/plain": [
       "[[1]]\n",
       "[1] 1\n",
       "\n",
       "[[2]]\n",
       "[1] 1 1\n",
       "\n",
       "[[3]]\n",
       "[1] 1 2 1\n",
       "\n",
       "[[4]]\n",
       "[1] 1 3 3 1\n",
       "\n",
       "[[5]]\n",
       "[1] 1 4 6 4 1\n",
       "\n",
       "[[6]]\n",
       "[1]  1  5 10 10  5  1\n",
       "\n",
       "[[7]]\n",
       "[1]  1  6 15 20 15  6  1\n",
       "\n",
       "[[8]]\n",
       "[1]  1  7 21 35 35 21  7  1\n",
       "\n",
       "[[9]]\n",
       "[1]  1  8 28 56 70 56 28  8  1\n",
       "\n",
       "[[10]]\n",
       " [1]   1   9  36  84 126 126  84  36   9   1\n",
       "\n",
       "[[11]]\n",
       " [1]   1  10  45 120 210 252 210 120  45  10   1\n"
      ]
     },
     "metadata": {},
     "output_type": "display_data"
    }
   ],
   "source": [
    "lapply(0:10, function(n) choose(n,0:n))"
   ]
  },
  {
   "cell_type": "markdown",
   "id": "7449d9d3-8754-455c-b011-24bbe4596d1f",
   "metadata": {
    "jp-MarkdownHeadingCollapsed": true,
    "tags": []
   },
   "source": [
    "### Permutation and Combination"
   ]
  },
  {
   "cell_type": "code",
   "execution_count": 6,
   "id": "35b7d9a0-9891-4643-acb4-075c3cca8b71",
   "metadata": {},
   "outputs": [
    {
     "data": {
      "text/html": [
       "<table class=\"dataframe\">\n",
       "<caption>A matrix: 3 × 10 of type chr</caption>\n",
       "<tbody>\n",
       "\t<tr><td>pen   </td><td>pen   </td><td>pen   </td><td>pen   </td><td>pen   </td><td>pen   </td><td>pencil</td><td>pencil</td><td>pencil</td><td>eraser</td></tr>\n",
       "\t<tr><td>pencil</td><td>pencil</td><td>pencil</td><td>eraser</td><td>eraser</td><td>marker</td><td>eraser</td><td>eraser</td><td>marker</td><td>marker</td></tr>\n",
       "\t<tr><td>eraser</td><td>marker</td><td>duster</td><td>marker</td><td>duster</td><td>duster</td><td>marker</td><td>duster</td><td>duster</td><td>duster</td></tr>\n",
       "</tbody>\n",
       "</table>\n"
      ],
      "text/latex": [
       "A matrix: 3 × 10 of type chr\n",
       "\\begin{tabular}{llllllllll}\n",
       "\t pen    & pen    & pen    & pen    & pen    & pen    & pencil & pencil & pencil & eraser\\\\\n",
       "\t pencil & pencil & pencil & eraser & eraser & marker & eraser & eraser & marker & marker\\\\\n",
       "\t eraser & marker & duster & marker & duster & duster & marker & duster & duster & duster\\\\\n",
       "\\end{tabular}\n"
      ],
      "text/markdown": [
       "\n",
       "A matrix: 3 × 10 of type chr\n",
       "\n",
       "| pen    | pen    | pen    | pen    | pen    | pen    | pencil | pencil | pencil | eraser |\n",
       "| pencil | pencil | pencil | eraser | eraser | marker | eraser | eraser | marker | marker |\n",
       "| eraser | marker | duster | marker | duster | duster | marker | duster | duster | duster |\n",
       "\n"
      ],
      "text/plain": [
       "     [,1]   [,2]   [,3]   [,4]   [,5]   [,6]   [,7]   [,8]   [,9]   [,10] \n",
       "[1,] pen    pen    pen    pen    pen    pen    pencil pencil pencil eraser\n",
       "[2,] pencil pencil pencil eraser eraser marker eraser eraser marker marker\n",
       "[3,] eraser marker duster marker duster duster marker duster duster duster"
      ]
     },
     "metadata": {},
     "output_type": "display_data"
    }
   ],
   "source": [
    "combn(c('pen','pencil','eraser','marker','duster'),3)"
   ]
  },
  {
   "cell_type": "code",
   "execution_count": 8,
   "id": "2559dbbc-266b-425a-b5f9-8dd8df6086d1",
   "metadata": {},
   "outputs": [
    {
     "data": {
      "text/html": [
       "<table class=\"dataframe\">\n",
       "<caption>A data.frame: 12 × 3</caption>\n",
       "<thead>\n",
       "\t<tr><th scope=col>shirt</th><th scope=col>pants</th><th scope=col>shoes</th></tr>\n",
       "\t<tr><th scope=col>&lt;fct&gt;</th><th scope=col>&lt;fct&gt;</th><th scope=col>&lt;fct&gt;</th></tr>\n",
       "</thead>\n",
       "<tbody>\n",
       "\t<tr><td>red </td><td>black</td><td>loafers</td></tr>\n",
       "\t<tr><td>blue</td><td>black</td><td>loafers</td></tr>\n",
       "\t<tr><td>red </td><td>navy </td><td>loafers</td></tr>\n",
       "\t<tr><td>blue</td><td>navy </td><td>loafers</td></tr>\n",
       "\t<tr><td>red </td><td>khaki</td><td>loafers</td></tr>\n",
       "\t<tr><td>blue</td><td>khaki</td><td>loafers</td></tr>\n",
       "\t<tr><td>red </td><td>black</td><td>boots  </td></tr>\n",
       "\t<tr><td>blue</td><td>black</td><td>boots  </td></tr>\n",
       "\t<tr><td>red </td><td>navy </td><td>boots  </td></tr>\n",
       "\t<tr><td>blue</td><td>navy </td><td>boots  </td></tr>\n",
       "\t<tr><td>red </td><td>khaki</td><td>boots  </td></tr>\n",
       "\t<tr><td>blue</td><td>khaki</td><td>boots  </td></tr>\n",
       "</tbody>\n",
       "</table>\n"
      ],
      "text/latex": [
       "A data.frame: 12 × 3\n",
       "\\begin{tabular}{lll}\n",
       " shirt & pants & shoes\\\\\n",
       " <fct> & <fct> & <fct>\\\\\n",
       "\\hline\n",
       "\t red  & black & loafers\\\\\n",
       "\t blue & black & loafers\\\\\n",
       "\t red  & navy  & loafers\\\\\n",
       "\t blue & navy  & loafers\\\\\n",
       "\t red  & khaki & loafers\\\\\n",
       "\t blue & khaki & loafers\\\\\n",
       "\t red  & black & boots  \\\\\n",
       "\t blue & black & boots  \\\\\n",
       "\t red  & navy  & boots  \\\\\n",
       "\t blue & navy  & boots  \\\\\n",
       "\t red  & khaki & boots  \\\\\n",
       "\t blue & khaki & boots  \\\\\n",
       "\\end{tabular}\n"
      ],
      "text/markdown": [
       "\n",
       "A data.frame: 12 × 3\n",
       "\n",
       "| shirt &lt;fct&gt; | pants &lt;fct&gt; | shoes &lt;fct&gt; |\n",
       "|---|---|---|\n",
       "| red  | black | loafers |\n",
       "| blue | black | loafers |\n",
       "| red  | navy  | loafers |\n",
       "| blue | navy  | loafers |\n",
       "| red  | khaki | loafers |\n",
       "| blue | khaki | loafers |\n",
       "| red  | black | boots   |\n",
       "| blue | black | boots   |\n",
       "| red  | navy  | boots   |\n",
       "| blue | navy  | boots   |\n",
       "| red  | khaki | boots   |\n",
       "| blue | khaki | boots   |\n",
       "\n"
      ],
      "text/plain": [
       "   shirt pants shoes  \n",
       "1  red   black loafers\n",
       "2  blue  black loafers\n",
       "3  red   navy  loafers\n",
       "4  blue  navy  loafers\n",
       "5  red   khaki loafers\n",
       "6  blue  khaki loafers\n",
       "7  red   black boots  \n",
       "8  blue  black boots  \n",
       "9  red   navy  boots  \n",
       "10 blue  navy  boots  \n",
       "11 red   khaki boots  \n",
       "12 blue  khaki boots  "
      ]
     },
     "metadata": {},
     "output_type": "display_data"
    }
   ],
   "source": [
    "expand.grid(shirt = c('red','blue'),\n",
    "            pants = c('black','navy','khaki'),\n",
    "            shoes = c('loafers','boots'))"
   ]
  },
  {
   "cell_type": "markdown",
   "id": "68e579b1-94c8-4efe-a59a-05fae904e6ab",
   "metadata": {
    "jp-MarkdownHeadingCollapsed": true,
    "tags": []
   },
   "source": [
    "### A Guide to dnorm, pnorm, qnorm, and rnorm in R"
   ]
  },
  {
   "cell_type": "code",
   "execution_count": 2,
   "id": "2c90dbbd-e6dd-4b46-84d7-002b9823934c",
   "metadata": {},
   "outputs": [
    {
     "data": {
      "text/html": [
       "<style>\n",
       ".list-inline {list-style: none; margin:0; padding: 0}\n",
       ".list-inline>li {display: inline-block}\n",
       ".list-inline>li:not(:last-child)::after {content: \"\\00b7\"; padding: 0 .5ex}\n",
       "</style>\n",
       "<ol class=list-inline><li>68.3</li><li>95.4</li><li>99.7</li></ol>\n"
      ],
      "text/latex": [
       "\\begin{enumerate*}\n",
       "\\item 68.3\n",
       "\\item 95.4\n",
       "\\item 99.7\n",
       "\\end{enumerate*}\n"
      ],
      "text/markdown": [
       "1. 68.3\n",
       "2. 95.4\n",
       "3. 99.7\n",
       "\n",
       "\n"
      ],
      "text/plain": [
       "[1] 68.3 95.4 99.7"
      ]
     },
     "metadata": {},
     "output_type": "display_data"
    }
   ],
   "source": [
    "# https://www.geeksforgeeks.org/a-guide-to-dnorm-pnorm-rnorm-and-qnorm-in-r/\n",
    "\n",
    "# Empirical rule\n",
    "round(100*(1-2*pnorm(-1:-3)),1)"
   ]
  },
  {
   "cell_type": "code",
   "execution_count": 21,
   "id": "ec1605fa-014f-4af0-931e-3e9972b264d0",
   "metadata": {},
   "outputs": [
    {
     "data": {
      "text/html": [
       "<style>\n",
       ".list-inline {list-style: none; margin:0; padding: 0}\n",
       ".list-inline>li {display: inline-block}\n",
       ".list-inline>li:not(:last-child)::after {content: \"\\00b7\"; padding: 0 .5ex}\n",
       "</style>\n",
       "<ol class=list-inline><li>-2.58</li><li>-1.96</li><li>-1.64</li></ol>\n"
      ],
      "text/latex": [
       "\\begin{enumerate*}\n",
       "\\item -2.58\n",
       "\\item -1.96\n",
       "\\item -1.64\n",
       "\\end{enumerate*}\n"
      ],
      "text/markdown": [
       "1. -2.58\n",
       "2. -1.96\n",
       "3. -1.64\n",
       "\n",
       "\n"
      ],
      "text/plain": [
       "[1] -2.58 -1.96 -1.64"
      ]
     },
     "metadata": {},
     "output_type": "display_data"
    }
   ],
   "source": [
    "round(qnorm(c(.005,.025,.05)),2)"
   ]
  },
  {
   "cell_type": "code",
   "execution_count": 23,
   "id": "2beb1ab1-006c-4658-a29e-9bcfa6b47ac0",
   "metadata": {},
   "outputs": [
    {
     "data": {
      "text/html": [
       "<style>\n",
       ".list-inline {list-style: none; margin:0; padding: 0}\n",
       ".list-inline>li {display: inline-block}\n",
       ".list-inline>li:not(:last-child)::after {content: \"\\00b7\"; padding: 0 .5ex}\n",
       "</style>\n",
       "<ol class=list-inline><li>10</li><li>6.14</li><li>8.63</li><li>10.94</li><li>5.77</li><li>12.93</li><li>8.71</li><li>8.12</li><li>7.67</li><li>10.55</li></ol>\n"
      ],
      "text/latex": [
       "\\begin{enumerate*}\n",
       "\\item 10\n",
       "\\item 6.14\n",
       "\\item 8.63\n",
       "\\item 10.94\n",
       "\\item 5.77\n",
       "\\item 12.93\n",
       "\\item 8.71\n",
       "\\item 8.12\n",
       "\\item 7.67\n",
       "\\item 10.55\n",
       "\\end{enumerate*}\n"
      ],
      "text/markdown": [
       "1. 10\n",
       "2. 6.14\n",
       "3. 8.63\n",
       "4. 10.94\n",
       "5. 5.77\n",
       "6. 12.93\n",
       "7. 8.71\n",
       "8. 8.12\n",
       "9. 7.67\n",
       "10. 10.55\n",
       "\n",
       "\n"
      ],
      "text/plain": [
       " [1] 10.00  6.14  8.63 10.94  5.77 12.93  8.71  8.12  7.67 10.55"
      ]
     },
     "metadata": {},
     "output_type": "display_data"
    }
   ],
   "source": [
    "round(rnorm(10, mean = 10, sd = 2),2)"
   ]
  },
  {
   "cell_type": "code",
   "execution_count": 9,
   "id": "4cca6814-4958-477f-b9b1-486fbf2112f7",
   "metadata": {},
   "outputs": [
    {
     "data": {
      "text/html": [
       "<style>\n",
       ".list-inline {list-style: none; margin:0; padding: 0}\n",
       ".list-inline>li {display: inline-block}\n",
       ".list-inline>li:not(:last-child)::after {content: \"\\00b7\"; padding: 0 .5ex}\n",
       "</style>\n",
       "<ol class=list-inline><li>0.001</li><li>0.008</li><li>0.031</li><li>0.075</li><li>0.132</li><li>0.176</li><li>0.185</li><li>0.159</li><li>0.112</li><li>0.067</li><li>0.033</li><li>0.014</li><li>0.005</li><li>0.002</li><li>0</li><li>0</li><li>0</li><li>0</li><li>0</li><li>0</li><li>0</li><li>0</li><li>0</li><li>0</li><li>0</li></ol>\n"
      ],
      "text/latex": [
       "\\begin{enumerate*}\n",
       "\\item 0.001\n",
       "\\item 0.008\n",
       "\\item 0.031\n",
       "\\item 0.075\n",
       "\\item 0.132\n",
       "\\item 0.176\n",
       "\\item 0.185\n",
       "\\item 0.159\n",
       "\\item 0.112\n",
       "\\item 0.067\n",
       "\\item 0.033\n",
       "\\item 0.014\n",
       "\\item 0.005\n",
       "\\item 0.002\n",
       "\\item 0\n",
       "\\item 0\n",
       "\\item 0\n",
       "\\item 0\n",
       "\\item 0\n",
       "\\item 0\n",
       "\\item 0\n",
       "\\item 0\n",
       "\\item 0\n",
       "\\item 0\n",
       "\\item 0\n",
       "\\end{enumerate*}\n"
      ],
      "text/markdown": [
       "1. 0.001\n",
       "2. 0.008\n",
       "3. 0.031\n",
       "4. 0.075\n",
       "5. 0.132\n",
       "6. 0.176\n",
       "7. 0.185\n",
       "8. 0.159\n",
       "9. 0.112\n",
       "10. 0.067\n",
       "11. 0.033\n",
       "12. 0.014\n",
       "13. 0.005\n",
       "14. 0.002\n",
       "15. 0\n",
       "16. 0\n",
       "17. 0\n",
       "18. 0\n",
       "19. 0\n",
       "20. 0\n",
       "21. 0\n",
       "22. 0\n",
       "23. 0\n",
       "24. 0\n",
       "25. 0\n",
       "\n",
       "\n"
      ],
      "text/plain": [
       " [1] 0.001 0.008 0.031 0.075 0.132 0.176 0.185 0.159 0.112 0.067 0.033 0.014\n",
       "[13] 0.005 0.002 0.000 0.000 0.000 0.000 0.000 0.000 0.000 0.000 0.000 0.000\n",
       "[25] 0.000"
      ]
     },
     "metadata": {},
     "output_type": "display_data"
    }
   ],
   "source": [
    "# https://www.geeksforgeeks.org/a-guide-to-dbinom-pbinom-qbinom-and-rbinom-in-r/\n",
    "n = 24\n",
    "p = .25\n",
    "round(dbinom(0:n,n,p),3)"
   ]
  },
  {
   "cell_type": "code",
   "execution_count": 13,
   "id": "f6d8aa87-2b0c-4755-bf36-93bbec966d3b",
   "metadata": {},
   "outputs": [
    {
     "data": {
      "text/html": [
       "<style>\n",
       ".list-inline {list-style: none; margin:0; padding: 0}\n",
       ".list-inline>li {display: inline-block}\n",
       ".list-inline>li:not(:last-child)::after {content: \"\\00b7\"; padding: 0 .5ex}\n",
       "</style>\n",
       "<ol class=list-inline><li>0.001</li><li>0.008</li><li>0.031</li><li>0.075</li><li>0.132</li><li>0.176</li><li>0.185</li><li>0.159</li><li>0.112</li><li>0.067</li><li>0.033</li><li>0.014</li><li>0.005</li><li>0.002</li><li>0</li><li>0</li><li>0</li><li>0</li><li>0</li><li>0</li><li>0</li><li>0</li><li>0</li><li>0</li><li>0</li></ol>\n"
      ],
      "text/latex": [
       "\\begin{enumerate*}\n",
       "\\item 0.001\n",
       "\\item 0.008\n",
       "\\item 0.031\n",
       "\\item 0.075\n",
       "\\item 0.132\n",
       "\\item 0.176\n",
       "\\item 0.185\n",
       "\\item 0.159\n",
       "\\item 0.112\n",
       "\\item 0.067\n",
       "\\item 0.033\n",
       "\\item 0.014\n",
       "\\item 0.005\n",
       "\\item 0.002\n",
       "\\item 0\n",
       "\\item 0\n",
       "\\item 0\n",
       "\\item 0\n",
       "\\item 0\n",
       "\\item 0\n",
       "\\item 0\n",
       "\\item 0\n",
       "\\item 0\n",
       "\\item 0\n",
       "\\item 0\n",
       "\\end{enumerate*}\n"
      ],
      "text/markdown": [
       "1. 0.001\n",
       "2. 0.008\n",
       "3. 0.031\n",
       "4. 0.075\n",
       "5. 0.132\n",
       "6. 0.176\n",
       "7. 0.185\n",
       "8. 0.159\n",
       "9. 0.112\n",
       "10. 0.067\n",
       "11. 0.033\n",
       "12. 0.014\n",
       "13. 0.005\n",
       "14. 0.002\n",
       "15. 0\n",
       "16. 0\n",
       "17. 0\n",
       "18. 0\n",
       "19. 0\n",
       "20. 0\n",
       "21. 0\n",
       "22. 0\n",
       "23. 0\n",
       "24. 0\n",
       "25. 0\n",
       "\n",
       "\n"
      ],
      "text/plain": [
       " [1] 0.001 0.008 0.031 0.075 0.132 0.176 0.185 0.159 0.112 0.067 0.033 0.014\n",
       "[13] 0.005 0.002 0.000 0.000 0.000 0.000 0.000 0.000 0.000 0.000 0.000 0.000\n",
       "[25] 0.000"
      ]
     },
     "metadata": {},
     "output_type": "display_data"
    }
   ],
   "source": [
    "r = 0:n\n",
    "round(choose(n,r)*p^r*(1-p)^(n-r),3)"
   ]
  },
  {
   "cell_type": "code",
   "execution_count": 10,
   "id": "a15029c3-680c-4ce3-a6e6-6c47a7150a72",
   "metadata": {},
   "outputs": [
    {
     "data": {
      "text/html": [
       "<style>\n",
       ".list-inline {list-style: none; margin:0; padding: 0}\n",
       ".list-inline>li {display: inline-block}\n",
       ".list-inline>li:not(:last-child)::after {content: \"\\00b7\"; padding: 0 .5ex}\n",
       "</style>\n",
       "<ol class=list-inline><li>0.001</li><li>0.009</li><li>0.04</li><li>0.115</li><li>0.247</li><li>0.422</li><li>0.607</li><li>0.766</li><li>0.879</li><li>0.945</li><li>0.979</li><li>0.993</li><li>0.998</li><li>0.999</li><li>1</li><li>1</li><li>1</li><li>1</li><li>1</li><li>1</li><li>1</li><li>1</li><li>1</li><li>1</li><li>1</li></ol>\n"
      ],
      "text/latex": [
       "\\begin{enumerate*}\n",
       "\\item 0.001\n",
       "\\item 0.009\n",
       "\\item 0.04\n",
       "\\item 0.115\n",
       "\\item 0.247\n",
       "\\item 0.422\n",
       "\\item 0.607\n",
       "\\item 0.766\n",
       "\\item 0.879\n",
       "\\item 0.945\n",
       "\\item 0.979\n",
       "\\item 0.993\n",
       "\\item 0.998\n",
       "\\item 0.999\n",
       "\\item 1\n",
       "\\item 1\n",
       "\\item 1\n",
       "\\item 1\n",
       "\\item 1\n",
       "\\item 1\n",
       "\\item 1\n",
       "\\item 1\n",
       "\\item 1\n",
       "\\item 1\n",
       "\\item 1\n",
       "\\end{enumerate*}\n"
      ],
      "text/markdown": [
       "1. 0.001\n",
       "2. 0.009\n",
       "3. 0.04\n",
       "4. 0.115\n",
       "5. 0.247\n",
       "6. 0.422\n",
       "7. 0.607\n",
       "8. 0.766\n",
       "9. 0.879\n",
       "10. 0.945\n",
       "11. 0.979\n",
       "12. 0.993\n",
       "13. 0.998\n",
       "14. 0.999\n",
       "15. 1\n",
       "16. 1\n",
       "17. 1\n",
       "18. 1\n",
       "19. 1\n",
       "20. 1\n",
       "21. 1\n",
       "22. 1\n",
       "23. 1\n",
       "24. 1\n",
       "25. 1\n",
       "\n",
       "\n"
      ],
      "text/plain": [
       " [1] 0.001 0.009 0.040 0.115 0.247 0.422 0.607 0.766 0.879 0.945 0.979 0.993\n",
       "[13] 0.998 0.999 1.000 1.000 1.000 1.000 1.000 1.000 1.000 1.000 1.000 1.000\n",
       "[25] 1.000"
      ]
     },
     "metadata": {},
     "output_type": "display_data"
    }
   ],
   "source": [
    "round(pbinom(0:n,n,p),3)"
   ]
  },
  {
   "cell_type": "code",
   "execution_count": 11,
   "id": "4f5fb00c-a8ca-4fb5-9dab-4e9ec796a568",
   "metadata": {},
   "outputs": [
    {
     "data": {
      "text/html": [
       "6"
      ],
      "text/latex": [
       "6"
      ],
      "text/markdown": [
       "6"
      ],
      "text/plain": [
       "[1] 6"
      ]
     },
     "metadata": {},
     "output_type": "display_data"
    }
   ],
   "source": [
    "qbinom(.5, n, p)"
   ]
  },
  {
   "cell_type": "markdown",
   "id": "8b98aa8a-6cfd-44b6-a6ff-2fb3b2bdd6ed",
   "metadata": {
    "jp-MarkdownHeadingCollapsed": true,
    "tags": []
   },
   "source": [
    "## Science"
   ]
  },
  {
   "cell_type": "markdown",
   "id": "b68915f0-e350-4d1d-bdd0-6fc94db33247",
   "metadata": {
    "jp-MarkdownHeadingCollapsed": true,
    "tags": []
   },
   "source": [
    "### Lab Report"
   ]
  },
  {
   "cell_type": "code",
   "execution_count": 8,
   "id": "5889e62d-10de-4658-888c-4a7024f6cce2",
   "metadata": {
    "tags": []
   },
   "outputs": [
    {
     "data": {
      "text/html": [
       "<table class=\"dataframe\">\n",
       "<caption>A data.frame: 7 × 6</caption>\n",
       "<thead>\n",
       "\t<tr><th scope=col>L</th><th scope=col>T</th><th scope=col>Tsq</th><th scope=col>pdT</th><th scope=col>pdTsq</th><th scope=col>dTsq</th></tr>\n",
       "\t<tr><th scope=col>&lt;dbl&gt;</th><th scope=col>&lt;dbl&gt;</th><th scope=col>&lt;dbl&gt;</th><th scope=col>&lt;dbl&gt;</th><th scope=col>&lt;dbl&gt;</th><th scope=col>&lt;dbl&gt;</th></tr>\n",
       "</thead>\n",
       "<tbody>\n",
       "\t<tr><td>0.1</td><td>0.71</td><td>0.5041</td><td>0.04225352</td><td>0.08450704</td><td>0.0426</td></tr>\n",
       "\t<tr><td>0.2</td><td>0.96</td><td>0.9216</td><td>0.03125000</td><td>0.06250000</td><td>0.0576</td></tr>\n",
       "\t<tr><td>0.3</td><td>1.16</td><td>1.3456</td><td>0.02586207</td><td>0.05172414</td><td>0.0696</td></tr>\n",
       "\t<tr><td>0.4</td><td>1.33</td><td>1.7689</td><td>0.02255639</td><td>0.04511278</td><td>0.0798</td></tr>\n",
       "\t<tr><td>0.5</td><td>1.47</td><td>2.1609</td><td>0.02040816</td><td>0.04081633</td><td>0.0882</td></tr>\n",
       "\t<tr><td>0.6</td><td>1.61</td><td>2.5921</td><td>0.01863354</td><td>0.03726708</td><td>0.0966</td></tr>\n",
       "\t<tr><td>0.7</td><td>1.74</td><td>3.0276</td><td>0.01724138</td><td>0.03448276</td><td>0.1044</td></tr>\n",
       "</tbody>\n",
       "</table>\n"
      ],
      "text/latex": [
       "A data.frame: 7 × 6\n",
       "\\begin{tabular}{llllll}\n",
       " L & T & Tsq & pdT & pdTsq & dTsq\\\\\n",
       " <dbl> & <dbl> & <dbl> & <dbl> & <dbl> & <dbl>\\\\\n",
       "\\hline\n",
       "\t 0.1 & 0.71 & 0.5041 & 0.04225352 & 0.08450704 & 0.0426\\\\\n",
       "\t 0.2 & 0.96 & 0.9216 & 0.03125000 & 0.06250000 & 0.0576\\\\\n",
       "\t 0.3 & 1.16 & 1.3456 & 0.02586207 & 0.05172414 & 0.0696\\\\\n",
       "\t 0.4 & 1.33 & 1.7689 & 0.02255639 & 0.04511278 & 0.0798\\\\\n",
       "\t 0.5 & 1.47 & 2.1609 & 0.02040816 & 0.04081633 & 0.0882\\\\\n",
       "\t 0.6 & 1.61 & 2.5921 & 0.01863354 & 0.03726708 & 0.0966\\\\\n",
       "\t 0.7 & 1.74 & 3.0276 & 0.01724138 & 0.03448276 & 0.1044\\\\\n",
       "\\end{tabular}\n"
      ],
      "text/markdown": [
       "\n",
       "A data.frame: 7 × 6\n",
       "\n",
       "| L &lt;dbl&gt; | T &lt;dbl&gt; | Tsq &lt;dbl&gt; | pdT &lt;dbl&gt; | pdTsq &lt;dbl&gt; | dTsq &lt;dbl&gt; |\n",
       "|---|---|---|---|---|---|\n",
       "| 0.1 | 0.71 | 0.5041 | 0.04225352 | 0.08450704 | 0.0426 |\n",
       "| 0.2 | 0.96 | 0.9216 | 0.03125000 | 0.06250000 | 0.0576 |\n",
       "| 0.3 | 1.16 | 1.3456 | 0.02586207 | 0.05172414 | 0.0696 |\n",
       "| 0.4 | 1.33 | 1.7689 | 0.02255639 | 0.04511278 | 0.0798 |\n",
       "| 0.5 | 1.47 | 2.1609 | 0.02040816 | 0.04081633 | 0.0882 |\n",
       "| 0.6 | 1.61 | 2.5921 | 0.01863354 | 0.03726708 | 0.0966 |\n",
       "| 0.7 | 1.74 | 3.0276 | 0.01724138 | 0.03448276 | 0.1044 |\n",
       "\n"
      ],
      "text/plain": [
       "  L   T    Tsq    pdT        pdTsq      dTsq  \n",
       "1 0.1 0.71 0.5041 0.04225352 0.08450704 0.0426\n",
       "2 0.2 0.96 0.9216 0.03125000 0.06250000 0.0576\n",
       "3 0.3 1.16 1.3456 0.02586207 0.05172414 0.0696\n",
       "4 0.4 1.33 1.7689 0.02255639 0.04511278 0.0798\n",
       "5 0.5 1.47 2.1609 0.02040816 0.04081633 0.0882\n",
       "6 0.6 1.61 2.5921 0.01863354 0.03726708 0.0966\n",
       "7 0.7 1.74 3.0276 0.01724138 0.03448276 0.1044"
      ]
     },
     "metadata": {},
     "output_type": "display_data"
    }
   ],
   "source": [
    "# Data for simple pendulum (Lecture notes pg 10)\n",
    "L = 1:7 / 10\n",
    "T = c(.71, .96, 1.16, 1.33, 1.47, 1.61, 1.74)\n",
    "\n",
    "df = data.frame(L, T,\n",
    "                Tsq = T^2,\n",
    "                pdT = .03/T)\n",
    "\n",
    "df$pdTsq = 2*df$pdT\n",
    "df$dTsq = df$pdTsq*df$Tsq\n",
    "\n",
    "df"
   ]
  },
  {
   "cell_type": "markdown",
   "id": "be67b635-ed44-4c8d-b46e-976463996a26",
   "metadata": {},
   "source": [
    "Assignment 1 - Oscillating mass-spring\n",
    "$$T=2\\pi\\sqrt{\\frac{m}{k}}$$\n",
    "$$T^2=\\frac{4\\pi^2}{k}m$$"
   ]
  },
  {
   "cell_type": "code",
   "execution_count": 9,
   "id": "c44b1606-f2ea-4631-95d0-b5624d793342",
   "metadata": {},
   "outputs": [
    {
     "data": {
      "text/html": [
       "<table class=\"dataframe\">\n",
       "<caption>A data.frame: 6 × 6</caption>\n",
       "<thead>\n",
       "\t<tr><th scope=col>m</th><th scope=col>T</th><th scope=col>Tsq</th><th scope=col>pdT</th><th scope=col>pdTsq</th><th scope=col>dTsq</th></tr>\n",
       "\t<tr><th scope=col>&lt;dbl&gt;</th><th scope=col>&lt;dbl&gt;</th><th scope=col>&lt;dbl&gt;</th><th scope=col>&lt;dbl&gt;</th><th scope=col>&lt;dbl&gt;</th><th scope=col>&lt;dbl&gt;</th></tr>\n",
       "</thead>\n",
       "<tbody>\n",
       "\t<tr><td>0.10</td><td>0.42</td><td>0.1764</td><td>0.07142857</td><td>0.14285714</td><td>0.0252</td></tr>\n",
       "\t<tr><td>0.15</td><td>0.53</td><td>0.2809</td><td>0.05660377</td><td>0.11320755</td><td>0.0318</td></tr>\n",
       "\t<tr><td>0.20</td><td>0.59</td><td>0.3481</td><td>0.05084746</td><td>0.10169492</td><td>0.0354</td></tr>\n",
       "\t<tr><td>0.25</td><td>0.62</td><td>0.3844</td><td>0.04838710</td><td>0.09677419</td><td>0.0372</td></tr>\n",
       "\t<tr><td>0.30</td><td>0.69</td><td>0.4761</td><td>0.04347826</td><td>0.08695652</td><td>0.0414</td></tr>\n",
       "\t<tr><td>0.35</td><td>0.75</td><td>0.5625</td><td>0.04000000</td><td>0.08000000</td><td>0.0450</td></tr>\n",
       "</tbody>\n",
       "</table>\n"
      ],
      "text/latex": [
       "A data.frame: 6 × 6\n",
       "\\begin{tabular}{llllll}\n",
       " m & T & Tsq & pdT & pdTsq & dTsq\\\\\n",
       " <dbl> & <dbl> & <dbl> & <dbl> & <dbl> & <dbl>\\\\\n",
       "\\hline\n",
       "\t 0.10 & 0.42 & 0.1764 & 0.07142857 & 0.14285714 & 0.0252\\\\\n",
       "\t 0.15 & 0.53 & 0.2809 & 0.05660377 & 0.11320755 & 0.0318\\\\\n",
       "\t 0.20 & 0.59 & 0.3481 & 0.05084746 & 0.10169492 & 0.0354\\\\\n",
       "\t 0.25 & 0.62 & 0.3844 & 0.04838710 & 0.09677419 & 0.0372\\\\\n",
       "\t 0.30 & 0.69 & 0.4761 & 0.04347826 & 0.08695652 & 0.0414\\\\\n",
       "\t 0.35 & 0.75 & 0.5625 & 0.04000000 & 0.08000000 & 0.0450\\\\\n",
       "\\end{tabular}\n"
      ],
      "text/markdown": [
       "\n",
       "A data.frame: 6 × 6\n",
       "\n",
       "| m &lt;dbl&gt; | T &lt;dbl&gt; | Tsq &lt;dbl&gt; | pdT &lt;dbl&gt; | pdTsq &lt;dbl&gt; | dTsq &lt;dbl&gt; |\n",
       "|---|---|---|---|---|---|\n",
       "| 0.10 | 0.42 | 0.1764 | 0.07142857 | 0.14285714 | 0.0252 |\n",
       "| 0.15 | 0.53 | 0.2809 | 0.05660377 | 0.11320755 | 0.0318 |\n",
       "| 0.20 | 0.59 | 0.3481 | 0.05084746 | 0.10169492 | 0.0354 |\n",
       "| 0.25 | 0.62 | 0.3844 | 0.04838710 | 0.09677419 | 0.0372 |\n",
       "| 0.30 | 0.69 | 0.4761 | 0.04347826 | 0.08695652 | 0.0414 |\n",
       "| 0.35 | 0.75 | 0.5625 | 0.04000000 | 0.08000000 | 0.0450 |\n",
       "\n"
      ],
      "text/plain": [
       "  m    T    Tsq    pdT        pdTsq      dTsq  \n",
       "1 0.10 0.42 0.1764 0.07142857 0.14285714 0.0252\n",
       "2 0.15 0.53 0.2809 0.05660377 0.11320755 0.0318\n",
       "3 0.20 0.59 0.3481 0.05084746 0.10169492 0.0354\n",
       "4 0.25 0.62 0.3844 0.04838710 0.09677419 0.0372\n",
       "5 0.30 0.69 0.4761 0.04347826 0.08695652 0.0414\n",
       "6 0.35 0.75 0.5625 0.04000000 0.08000000 0.0450"
      ]
     },
     "metadata": {},
     "output_type": "display_data"
    }
   ],
   "source": [
    "# Data for Assignment 1\n",
    "m = 2:7 /20\n",
    "t1 = c(5.2, 5.7, 6.5, 7.2, 7.6, 8.1)\n",
    "t2 = c(3.8, 5.0, 5.5, 5.1, 6.7, 7.0)\n",
    "t3 = c(3.5, 5.2, 5.8, 6.3, 6.5, 7.3)\n",
    "T = c(.42, .53, .59, .62, .69, .75)\n",
    "dT = .03\n",
    "\n",
    "df1 = data.frame(m, T,\n",
    "                Tsq = T^2,\n",
    "                pdT = dT/T)\n",
    "df1$pdTsq = 2 * df1$pdT\n",
    "df1$dTsq = df1$pdTsq * df1$Tsq\n",
    "df1"
   ]
  },
  {
   "cell_type": "code",
   "execution_count": 10,
   "id": "afc41eff-d54d-423c-8019-638e6d460bf9",
   "metadata": {},
   "outputs": [
    {
     "data": {
      "text/html": [
       "<style>\n",
       ".dl-inline {width: auto; margin:0; padding: 0}\n",
       ".dl-inline>dt, .dl-inline>dd {float: none; width: auto; display: inline-block}\n",
       ".dl-inline>dt::after {content: \":\\0020\"; padding-right: .5ex}\n",
       ".dl-inline>dt:not(:first-of-type) {padding-left: .5ex}\n",
       "</style><dl class=dl-inline><dt>(Intercept)</dt><dd>0.0432342857142858</dd><dt>m</dt><dd>1.45851428571429</dd></dl>\n"
      ],
      "text/latex": [
       "\\begin{description*}\n",
       "\\item[(Intercept)] 0.0432342857142858\n",
       "\\item[m] 1.45851428571429\n",
       "\\end{description*}\n"
      ],
      "text/markdown": [
       "(Intercept)\n",
       ":   0.0432342857142858m\n",
       ":   1.45851428571429\n",
       "\n"
      ],
      "text/plain": [
       "(Intercept)           m \n",
       " 0.04323429  1.45851429 "
      ]
     },
     "metadata": {},
     "output_type": "display_data"
    },
    {
     "data": {
      "text/html": [
       "<style>\n",
       ".dl-inline {width: auto; margin:0; padding: 0}\n",
       ".dl-inline>dt, .dl-inline>dd {float: none; width: auto; display: inline-block}\n",
       ".dl-inline>dt::after {content: \":\\0020\"; padding-right: .5ex}\n",
       ".dl-inline>dt:not(:first-of-type) {padding-left: .5ex}\n",
       "</style><dl class=dl-inline><dt>(Intercept)</dt><dd>0.07524</dd><dt>m</dt><dd>1.2636</dd></dl>\n"
      ],
      "text/latex": [
       "\\begin{description*}\n",
       "\\item[(Intercept)] 0.07524\n",
       "\\item[m] 1.2636\n",
       "\\end{description*}\n"
      ],
      "text/markdown": [
       "(Intercept)\n",
       ":   0.07524m\n",
       ":   1.2636\n",
       "\n"
      ],
      "text/plain": [
       "(Intercept)           m \n",
       "    0.07524     1.26360 "
      ]
     },
     "metadata": {},
     "output_type": "display_data"
    },
    {
     "data": {
      "text/html": [
       "<style>\n",
       ".dl-inline {width: auto; margin:0; padding: 0}\n",
       ".dl-inline>dt, .dl-inline>dd {float: none; width: auto; display: inline-block}\n",
       ".dl-inline>dt::after {content: \":\\0020\"; padding-right: .5ex}\n",
       ".dl-inline>dt:not(:first-of-type) {padding-left: .5ex}\n",
       "</style><dl class=dl-inline><dt>(Intercept)</dt><dd>-0.03132</dd><dt>m</dt><dd>1.8252</dd></dl>\n"
      ],
      "text/latex": [
       "\\begin{description*}\n",
       "\\item[(Intercept)] -0.03132\n",
       "\\item[m] 1.8252\n",
       "\\end{description*}\n"
      ],
      "text/markdown": [
       "(Intercept)\n",
       ":   -0.03132m\n",
       ":   1.8252\n",
       "\n"
      ],
      "text/plain": [
       "(Intercept)           m \n",
       "   -0.03132     1.82520 "
      ]
     },
     "metadata": {},
     "output_type": "display_data"
    }
   ],
   "source": [
    "df2 = df1[c(1,6),c(1,3,6)]\n",
    "df3 = df2\n",
    "df3[2,2] = df3[2,2] + df3[2,3]\n",
    "df3[1,2] = df3[1,2] - df3[1,3]\n",
    "df2[2,2] = df2[2,2] - df2[2,3]\n",
    "df2[1,2] = df2[1,2] + df2[1,3]\n",
    "\n",
    "reg1 = lm(Tsq~m, df1)\n",
    "reg2 = lm(Tsq~m, df2)\n",
    "reg3 = lm(Tsq~m, df3)\n",
    "\n",
    "summary(reg1)$coefficients[,1]\n",
    "summary(reg2)$coefficients[,1]\n",
    "summary(reg3)$coefficients[,1]"
   ]
  },
  {
   "cell_type": "code",
   "execution_count": 11,
   "id": "667d87af-1389-44b3-a470-abc9c66338d2",
   "metadata": {},
   "outputs": [
    {
     "data": {
      "image/png": "[encoded data removed]",
      "text/plain": [
       "plot without title"
      ]
     },
     "metadata": {
      "image/png": {
       "height": 360,
       "width": 360
      }
     },
     "output_type": "display_data"
    }
   ],
   "source": [
    "plot(df1$m, df1$Tsq,\n",
    "     xlim = c(0,.4), ylim=c(0,.6))\n",
    "abline(reg1, col='blue')\n",
    "abline(reg2, col='red')\n",
    "abline(reg3)"
   ]
  },
  {
   "cell_type": "markdown",
   "id": "f09d09e4-a76f-49ae-8e17-8047c84f02ca",
   "metadata": {},
   "source": [
    "Points to note:\n",
    "Average of three trials - calculation of errors\n",
    "Systematic error - refer to y-intercept\n",
    "\n",
    "Was the data accurate (is there a systematic uncertainty)?\n",
    "\n",
    "\n",
    "Are the values mainly too high or too low?\n",
    "\n",
    "\n",
    "What could be the cause of this uncertainty? Was there a specific measurement\n",
    "that could be wrongly measured?\n",
    "\n",
    "\n",
    "How could this uncertainty be reduced?\n",
    "\n",
    "\n",
    "Was the data precise (is there a random uncertainty)?\n",
    "\n",
    "\n",
    "Which measurement contributes the most to this random uncertainty?\n",
    "\n",
    "\n",
    "How could you minimise the uncertainty from this particular measurement?\n",
    "\n",
    "\n",
    "Does the expected value for the constant lie within the range of experimental value?\n",
    "\n",
    "\n",
    "What does this tell you about your experiment?"
   ]
  },
  {
   "cell_type": "code",
   "execution_count": 23,
   "id": "2c68d09d-6add-4c72-9d09-0e9f326b3c6f",
   "metadata": {},
   "outputs": [
    {
     "data": {
      "text/html": [
       "<table class=\"dataframe\">\n",
       "<caption>A data.frame: 6 × 10</caption>\n",
       "<thead>\n",
       "\t<tr><th scope=col>m</th><th scope=col>t1</th><th scope=col>t2</th><th scope=col>t3</th><th scope=col>T</th><th scope=col>dT</th><th scope=col>pdT</th><th scope=col>Tsq</th><th scope=col>pdTsq</th><th scope=col>dTsq</th></tr>\n",
       "\t<tr><th scope=col>&lt;dbl&gt;</th><th scope=col>&lt;dbl&gt;</th><th scope=col>&lt;dbl&gt;</th><th scope=col>&lt;dbl&gt;</th><th scope=col>&lt;dbl&gt;</th><th scope=col>&lt;dbl&gt;</th><th scope=col>&lt;dbl&gt;</th><th scope=col>&lt;dbl&gt;</th><th scope=col>&lt;dbl&gt;</th><th scope=col>&lt;dbl&gt;</th></tr>\n",
       "</thead>\n",
       "<tbody>\n",
       "\t<tr><td>0.10</td><td>5.2</td><td>3.8</td><td>3.5</td><td>0.4166667</td><td>0.02833333</td><td>0.06800000</td><td>0.1736111</td><td>0.13600000</td><td>0.02361111</td></tr>\n",
       "\t<tr><td>0.15</td><td>5.7</td><td>5.0</td><td>5.2</td><td>0.5300000</td><td>0.01166667</td><td>0.02201258</td><td>0.2809000</td><td>0.04402516</td><td>0.01236667</td></tr>\n",
       "\t<tr><td>0.20</td><td>6.5</td><td>5.5</td><td>5.8</td><td>0.5933333</td><td>0.01666667</td><td>0.02808989</td><td>0.3520444</td><td>0.05617978</td><td>0.01977778</td></tr>\n",
       "\t<tr><td>0.25</td><td>7.2</td><td>5.1</td><td>6.3</td><td>0.6200000</td><td>0.03500000</td><td>0.05645161</td><td>0.3844000</td><td>0.11290323</td><td>0.04340000</td></tr>\n",
       "\t<tr><td>0.30</td><td>7.6</td><td>6.7</td><td>6.5</td><td>0.6933333</td><td>0.01833333</td><td>0.02644231</td><td>0.4807111</td><td>0.05288462</td><td>0.02542222</td></tr>\n",
       "\t<tr><td>0.35</td><td>8.1</td><td>7.0</td><td>7.3</td><td>0.7466667</td><td>0.01833333</td><td>0.02455357</td><td>0.5575111</td><td>0.04910714</td><td>0.02737778</td></tr>\n",
       "</tbody>\n",
       "</table>\n"
      ],
      "text/latex": [
       "A data.frame: 6 × 10\n",
       "\\begin{tabular}{llllllllll}\n",
       " m & t1 & t2 & t3 & T & dT & pdT & Tsq & pdTsq & dTsq\\\\\n",
       " <dbl> & <dbl> & <dbl> & <dbl> & <dbl> & <dbl> & <dbl> & <dbl> & <dbl> & <dbl>\\\\\n",
       "\\hline\n",
       "\t 0.10 & 5.2 & 3.8 & 3.5 & 0.4166667 & 0.02833333 & 0.06800000 & 0.1736111 & 0.13600000 & 0.02361111\\\\\n",
       "\t 0.15 & 5.7 & 5.0 & 5.2 & 0.5300000 & 0.01166667 & 0.02201258 & 0.2809000 & 0.04402516 & 0.01236667\\\\\n",
       "\t 0.20 & 6.5 & 5.5 & 5.8 & 0.5933333 & 0.01666667 & 0.02808989 & 0.3520444 & 0.05617978 & 0.01977778\\\\\n",
       "\t 0.25 & 7.2 & 5.1 & 6.3 & 0.6200000 & 0.03500000 & 0.05645161 & 0.3844000 & 0.11290323 & 0.04340000\\\\\n",
       "\t 0.30 & 7.6 & 6.7 & 6.5 & 0.6933333 & 0.01833333 & 0.02644231 & 0.4807111 & 0.05288462 & 0.02542222\\\\\n",
       "\t 0.35 & 8.1 & 7.0 & 7.3 & 0.7466667 & 0.01833333 & 0.02455357 & 0.5575111 & 0.04910714 & 0.02737778\\\\\n",
       "\\end{tabular}\n"
      ],
      "text/markdown": [
       "\n",
       "A data.frame: 6 × 10\n",
       "\n",
       "| m &lt;dbl&gt; | t1 &lt;dbl&gt; | t2 &lt;dbl&gt; | t3 &lt;dbl&gt; | T &lt;dbl&gt; | dT &lt;dbl&gt; | pdT &lt;dbl&gt; | Tsq &lt;dbl&gt; | pdTsq &lt;dbl&gt; | dTsq &lt;dbl&gt; |\n",
       "|---|---|---|---|---|---|---|---|---|---|\n",
       "| 0.10 | 5.2 | 3.8 | 3.5 | 0.4166667 | 0.02833333 | 0.06800000 | 0.1736111 | 0.13600000 | 0.02361111 |\n",
       "| 0.15 | 5.7 | 5.0 | 5.2 | 0.5300000 | 0.01166667 | 0.02201258 | 0.2809000 | 0.04402516 | 0.01236667 |\n",
       "| 0.20 | 6.5 | 5.5 | 5.8 | 0.5933333 | 0.01666667 | 0.02808989 | 0.3520444 | 0.05617978 | 0.01977778 |\n",
       "| 0.25 | 7.2 | 5.1 | 6.3 | 0.6200000 | 0.03500000 | 0.05645161 | 0.3844000 | 0.11290323 | 0.04340000 |\n",
       "| 0.30 | 7.6 | 6.7 | 6.5 | 0.6933333 | 0.01833333 | 0.02644231 | 0.4807111 | 0.05288462 | 0.02542222 |\n",
       "| 0.35 | 8.1 | 7.0 | 7.3 | 0.7466667 | 0.01833333 | 0.02455357 | 0.5575111 | 0.04910714 | 0.02737778 |\n",
       "\n"
      ],
      "text/plain": [
       "  m    t1  t2  t3  T         dT         pdT        Tsq       pdTsq     \n",
       "1 0.10 5.2 3.8 3.5 0.4166667 0.02833333 0.06800000 0.1736111 0.13600000\n",
       "2 0.15 5.7 5.0 5.2 0.5300000 0.01166667 0.02201258 0.2809000 0.04402516\n",
       "3 0.20 6.5 5.5 5.8 0.5933333 0.01666667 0.02808989 0.3520444 0.05617978\n",
       "4 0.25 7.2 5.1 6.3 0.6200000 0.03500000 0.05645161 0.3844000 0.11290323\n",
       "5 0.30 7.6 6.7 6.5 0.6933333 0.01833333 0.02644231 0.4807111 0.05288462\n",
       "6 0.35 8.1 7.0 7.3 0.7466667 0.01833333 0.02455357 0.5575111 0.04910714\n",
       "  dTsq      \n",
       "1 0.02361111\n",
       "2 0.01236667\n",
       "3 0.01977778\n",
       "4 0.04340000\n",
       "5 0.02542222\n",
       "6 0.02737778"
      ]
     },
     "metadata": {},
     "output_type": "display_data"
    }
   ],
   "source": [
    "# Optimizing assignment one\n",
    "m = seq(.1,.35,by=.05)\n",
    "t1 = c(5.2, 5.7, 6.5, 7.2, 7.6, 8.1)\n",
    "t2 = c(3.8, 5.0, 5.5, 5.1, 6.7, 7.0)\n",
    "t3 = c(3.5, 5.2, 5.8, 6.3, 6.5, 7.3)\n",
    "data = cbind(t1,t2,t3)\n",
    "\n",
    "\n",
    "data = cbind(data, T = (t1+t2+t3)/30,\n",
    "             dT = apply(data[,c('t1','t2','t3')],1,function(x){(max(x)-min(x))/(2*30)}))\n",
    "\n",
    "data = cbind(data, pdT = data[,'dT']/data[,'T'], Tsq = data[,'T']^2)\n",
    "\n",
    "data = cbind(data, pdTsq = data[,'pdT'] * 2)\n",
    "\n",
    "data = cbind(m, data, dTsq = data[,'pdTsq'] * data[,'Tsq'])\n",
    "\n",
    "df = as.data.frame(data)\n",
    "\n",
    "df"
   ]
  },
  {
   "cell_type": "code",
   "execution_count": 24,
   "id": "4587d3ec-7893-4a14-9c90-8b4d439d3a73",
   "metadata": {},
   "outputs": [
    {
     "data": {
      "image/png": "[encoded data removed]",
      "text/plain": [
       "plot without title"
      ]
     },
     "metadata": {
      "image/png": {
       "height": 420,
       "width": 420
      }
     },
     "output_type": "display_data"
    }
   ],
   "source": [
    "# https://statdoe.com/step-by-step-scatterplot-for-one-factor-in-r/\n",
    "library(ggplot2)\n",
    "\n",
    "lreg = coef(lm(Tsq~m, df))\n",
    "\n",
    "ggplot(df, aes(m, Tsq)) + \n",
    "  geom_point(size=2) +\n",
    "  geom_smooth(method = \"lm\", formula = y ~ x) +\n",
    "  geom_abline(intercept = lreg[1], slope = lreg[2], lty=2) +\n",
    "  geom_errorbar(aes(ymin=Tsq-dTsq, ymax=Tsq+dTsq), width = .006) +\n",
    "  geom_label(aes(label = paste0(\"m = \", m)), nudge_y = -0.08) +\n",
    "  coord_cartesian(xlim = c(0,.4), ylim = c(0,.6))"
   ]
  },
  {
   "cell_type": "markdown",
   "id": "0698a455-d692-4370-9d84-e50073e1cc18",
   "metadata": {
    "jp-MarkdownHeadingCollapsed": true,
    "tags": []
   },
   "source": [
    "## Others"
   ]
  },
  {
   "cell_type": "markdown",
   "id": "9d45819a-99b6-4d1b-a6e5-4ee3c576c31c",
   "metadata": {
    "jp-MarkdownHeadingCollapsed": true,
    "tags": []
   },
   "source": [
    "### Time value of money"
   ]
  },
  {
   "cell_type": "code",
   "execution_count": 40,
   "id": "a85341b0-ade7-4ae1-b50c-59efe1c98f8c",
   "metadata": {},
   "outputs": [
    {
     "data": {
      "text/html": [
       "<strong>$minimum</strong> = 10.0686964393241"
      ],
      "text/latex": [
       "\\textbf{\\$minimum} = 10.0686964393241"
      ],
      "text/markdown": [
       "**$minimum** = 10.0686964393241"
      ],
      "text/plain": [
       "$minimum\n",
       "[1] 10.0687\n"
      ]
     },
     "metadata": {},
     "output_type": "display_data"
    }
   ],
   "source": [
    "library(tibble)\n",
    "\n",
    "data = function(x) {\n",
    "    output = tibble(EOY = 0:9, CF = c(100,rep(x,5),rep(-55,4)), Term = 5-EOY, DF = 1.06 ^ Term, Value = CF*DF)\n",
    "    return(output)\n",
    "}\n",
    "\n",
    "optimize(\\(x)abs(sum(data(x)['Value'])), c(0,100))[1]"
   ]
  },
  {
   "cell_type": "code",
   "execution_count": 41,
   "id": "26dc5b3d-30ee-4588-a2ff-4af386b17957",
   "metadata": {},
   "outputs": [
    {
     "data": {
      "text/html": [
       "<table class=\"dataframe\">\n",
       "<caption>A tibble: 10 × 5</caption>\n",
       "<thead>\n",
       "\t<tr><th scope=col>EOY</th><th scope=col>CF</th><th scope=col>Term</th><th scope=col>DF</th><th scope=col>Value</th></tr>\n",
       "\t<tr><th scope=col>&lt;int&gt;</th><th scope=col>&lt;dbl&gt;</th><th scope=col>&lt;dbl&gt;</th><th scope=col>&lt;dbl&gt;</th><th scope=col>&lt;dbl&gt;</th></tr>\n",
       "</thead>\n",
       "<tbody>\n",
       "\t<tr><td>0</td><td>100.0000</td><td> 5</td><td>1.3382256</td><td>133.82256</td></tr>\n",
       "\t<tr><td>1</td><td> 10.0687</td><td> 4</td><td>1.2624770</td><td> 12.71150</td></tr>\n",
       "\t<tr><td>2</td><td> 10.0687</td><td> 3</td><td>1.1910160</td><td> 11.99198</td></tr>\n",
       "\t<tr><td>3</td><td> 10.0687</td><td> 2</td><td>1.1236000</td><td> 11.31319</td></tr>\n",
       "\t<tr><td>4</td><td> 10.0687</td><td> 1</td><td>1.0600000</td><td> 10.67282</td></tr>\n",
       "\t<tr><td>5</td><td> 10.0687</td><td> 0</td><td>1.0000000</td><td> 10.06870</td></tr>\n",
       "\t<tr><td>6</td><td>-55.0000</td><td>-1</td><td>0.9433962</td><td>-51.88679</td></tr>\n",
       "\t<tr><td>7</td><td>-55.0000</td><td>-2</td><td>0.8899964</td><td>-48.94980</td></tr>\n",
       "\t<tr><td>8</td><td>-55.0000</td><td>-3</td><td>0.8396193</td><td>-46.17906</td></tr>\n",
       "\t<tr><td>9</td><td>-55.0000</td><td>-4</td><td>0.7920937</td><td>-43.56515</td></tr>\n",
       "</tbody>\n",
       "</table>\n"
      ],
      "text/latex": [
       "A tibble: 10 × 5\n",
       "\\begin{tabular}{lllll}\n",
       " EOY & CF & Term & DF & Value\\\\\n",
       " <int> & <dbl> & <dbl> & <dbl> & <dbl>\\\\\n",
       "\\hline\n",
       "\t 0 & 100.0000 &  5 & 1.3382256 & 133.82256\\\\\n",
       "\t 1 &  10.0687 &  4 & 1.2624770 &  12.71150\\\\\n",
       "\t 2 &  10.0687 &  3 & 1.1910160 &  11.99198\\\\\n",
       "\t 3 &  10.0687 &  2 & 1.1236000 &  11.31319\\\\\n",
       "\t 4 &  10.0687 &  1 & 1.0600000 &  10.67282\\\\\n",
       "\t 5 &  10.0687 &  0 & 1.0000000 &  10.06870\\\\\n",
       "\t 6 & -55.0000 & -1 & 0.9433962 & -51.88679\\\\\n",
       "\t 7 & -55.0000 & -2 & 0.8899964 & -48.94980\\\\\n",
       "\t 8 & -55.0000 & -3 & 0.8396193 & -46.17906\\\\\n",
       "\t 9 & -55.0000 & -4 & 0.7920937 & -43.56515\\\\\n",
       "\\end{tabular}\n"
      ],
      "text/markdown": [
       "\n",
       "A tibble: 10 × 5\n",
       "\n",
       "| EOY &lt;int&gt; | CF &lt;dbl&gt; | Term &lt;dbl&gt; | DF &lt;dbl&gt; | Value &lt;dbl&gt; |\n",
       "|---|---|---|---|---|\n",
       "| 0 | 100.0000 |  5 | 1.3382256 | 133.82256 |\n",
       "| 1 |  10.0687 |  4 | 1.2624770 |  12.71150 |\n",
       "| 2 |  10.0687 |  3 | 1.1910160 |  11.99198 |\n",
       "| 3 |  10.0687 |  2 | 1.1236000 |  11.31319 |\n",
       "| 4 |  10.0687 |  1 | 1.0600000 |  10.67282 |\n",
       "| 5 |  10.0687 |  0 | 1.0000000 |  10.06870 |\n",
       "| 6 | -55.0000 | -1 | 0.9433962 | -51.88679 |\n",
       "| 7 | -55.0000 | -2 | 0.8899964 | -48.94980 |\n",
       "| 8 | -55.0000 | -3 | 0.8396193 | -46.17906 |\n",
       "| 9 | -55.0000 | -4 | 0.7920937 | -43.56515 |\n",
       "\n"
      ],
      "text/plain": [
       "   EOY CF       Term DF        Value    \n",
       "1  0   100.0000  5   1.3382256 133.82256\n",
       "2  1    10.0687  4   1.2624770  12.71150\n",
       "3  2    10.0687  3   1.1910160  11.99198\n",
       "4  3    10.0687  2   1.1236000  11.31319\n",
       "5  4    10.0687  1   1.0600000  10.67282\n",
       "6  5    10.0687  0   1.0000000  10.06870\n",
       "7  6   -55.0000 -1   0.9433962 -51.88679\n",
       "8  7   -55.0000 -2   0.8899964 -48.94980\n",
       "9  8   -55.0000 -3   0.8396193 -46.17906\n",
       "10 9   -55.0000 -4   0.7920937 -43.56515"
      ]
     },
     "metadata": {},
     "output_type": "display_data"
    }
   ],
   "source": [
    "data(10.0686964393241)"
   ]
  },
  {
   "cell_type": "markdown",
   "id": "72a6cc3a-28d3-45ff-a2cf-8f9a8449b05f",
   "metadata": {
    "tags": []
   },
   "source": [
    "### Pivot Tables"
   ]
  },
  {
   "cell_type": "code",
   "execution_count": 4,
   "id": "cd50fc55-fbae-4a85-9b03-f8f8a52a64dd",
   "metadata": {},
   "outputs": [
    {
     "data": {
      "text/html": [
       "<table class=\"dataframe\">\n",
       "<caption>A tibble: 3 × 5</caption>\n",
       "<thead>\n",
       "\t<tr><th scope=col>cyl</th><th scope=col>n()</th><th scope=col>median(mpg)</th><th scope=col>mean(mpg)</th><th scope=col>sd(mpg)</th></tr>\n",
       "\t<tr><th scope=col>&lt;dbl&gt;</th><th scope=col>&lt;dbl&gt;</th><th scope=col>&lt;dbl&gt;</th><th scope=col>&lt;dbl&gt;</th><th scope=col>&lt;dbl&gt;</th></tr>\n",
       "</thead>\n",
       "<tbody>\n",
       "\t<tr><td>4</td><td>11</td><td>26</td><td>27</td><td>5</td></tr>\n",
       "\t<tr><td>6</td><td> 7</td><td>20</td><td>20</td><td>1</td></tr>\n",
       "\t<tr><td>8</td><td>14</td><td>15</td><td>15</td><td>3</td></tr>\n",
       "</tbody>\n",
       "</table>\n"
      ],
      "text/latex": [
       "A tibble: 3 × 5\n",
       "\\begin{tabular}{lllll}\n",
       " cyl & n() & median(mpg) & mean(mpg) & sd(mpg)\\\\\n",
       " <dbl> & <dbl> & <dbl> & <dbl> & <dbl>\\\\\n",
       "\\hline\n",
       "\t 4 & 11 & 26 & 27 & 5\\\\\n",
       "\t 6 &  7 & 20 & 20 & 1\\\\\n",
       "\t 8 & 14 & 15 & 15 & 3\\\\\n",
       "\\end{tabular}\n"
      ],
      "text/markdown": [
       "\n",
       "A tibble: 3 × 5\n",
       "\n",
       "| cyl &lt;dbl&gt; | n() &lt;dbl&gt; | median(mpg) &lt;dbl&gt; | mean(mpg) &lt;dbl&gt; | sd(mpg) &lt;dbl&gt; |\n",
       "|---|---|---|---|---|\n",
       "| 4 | 11 | 26 | 27 | 5 |\n",
       "| 6 |  7 | 20 | 20 | 1 |\n",
       "| 8 | 14 | 15 | 15 | 3 |\n",
       "\n"
      ],
      "text/plain": [
       "  cyl n() median(mpg) mean(mpg) sd(mpg)\n",
       "1 4   11  26          27        5      \n",
       "2 6    7  20          20        1      \n",
       "3 8   14  15          15        3      "
      ]
     },
     "metadata": {},
     "output_type": "display_data"
    }
   ],
   "source": [
    "library(dplyr)\n",
    "library(tidyr)\n",
    "\n",
    "mtcars %>%\n",
    "group_by(cyl) %>%\n",
    "summarise(n(),median(mpg),mean(mpg),sd(mpg)) %>%\n",
    "round()"
   ]
  },
  {
   "cell_type": "code",
   "execution_count": 6,
   "id": "636da075-a69a-4c5d-9885-3703adea45bc",
   "metadata": {},
   "outputs": [
    {
     "data": {
      "text/html": [
       "<table class=\"dataframe\">\n",
       "<caption>A tibble: 3 × 21</caption>\n",
       "<thead>\n",
       "\t<tr><th scope=col>cyl</th><th scope=col>mpg_fn1</th><th scope=col>disp_fn1</th><th scope=col>hp_fn1</th><th scope=col>drat_fn1</th><th scope=col>wt_fn1</th><th scope=col>qsec_fn1</th><th scope=col>vs_fn1</th><th scope=col>am_fn1</th><th scope=col>gear_fn1</th><th scope=col>⋯</th><th scope=col>mpg_fn2</th><th scope=col>disp_fn2</th><th scope=col>hp_fn2</th><th scope=col>drat_fn2</th><th scope=col>wt_fn2</th><th scope=col>qsec_fn2</th><th scope=col>vs_fn2</th><th scope=col>am_fn2</th><th scope=col>gear_fn2</th><th scope=col>carb_fn2</th></tr>\n",
       "\t<tr><th scope=col>&lt;dbl&gt;</th><th scope=col>&lt;dbl&gt;</th><th scope=col>&lt;dbl&gt;</th><th scope=col>&lt;dbl&gt;</th><th scope=col>&lt;dbl&gt;</th><th scope=col>&lt;dbl&gt;</th><th scope=col>&lt;dbl&gt;</th><th scope=col>&lt;dbl&gt;</th><th scope=col>&lt;dbl&gt;</th><th scope=col>&lt;dbl&gt;</th><th scope=col>⋯</th><th scope=col>&lt;dbl&gt;</th><th scope=col>&lt;dbl&gt;</th><th scope=col>&lt;dbl&gt;</th><th scope=col>&lt;dbl&gt;</th><th scope=col>&lt;dbl&gt;</th><th scope=col>&lt;dbl&gt;</th><th scope=col>&lt;dbl&gt;</th><th scope=col>&lt;dbl&gt;</th><th scope=col>&lt;dbl&gt;</th><th scope=col>&lt;dbl&gt;</th></tr>\n",
       "</thead>\n",
       "<tbody>\n",
       "\t<tr><td>4</td><td>27</td><td>105</td><td> 83</td><td>4</td><td>2</td><td>19</td><td>1</td><td>1</td><td>4</td><td>⋯</td><td>26</td><td>108</td><td> 91</td><td>4</td><td>2</td><td>19</td><td>1</td><td>1</td><td>4</td><td>2</td></tr>\n",
       "\t<tr><td>6</td><td>20</td><td>183</td><td>122</td><td>4</td><td>3</td><td>18</td><td>1</td><td>0</td><td>4</td><td>⋯</td><td>20</td><td>168</td><td>110</td><td>4</td><td>3</td><td>18</td><td>1</td><td>0</td><td>4</td><td>4</td></tr>\n",
       "\t<tr><td>8</td><td>15</td><td>353</td><td>209</td><td>3</td><td>4</td><td>17</td><td>0</td><td>0</td><td>3</td><td>⋯</td><td>15</td><td>350</td><td>192</td><td>3</td><td>4</td><td>17</td><td>0</td><td>0</td><td>3</td><td>4</td></tr>\n",
       "</tbody>\n",
       "</table>\n"
      ],
      "text/latex": [
       "A tibble: 3 × 21\n",
       "\\begin{tabular}{lllllllllllllllllllll}\n",
       " cyl & mpg\\_fn1 & disp\\_fn1 & hp\\_fn1 & drat\\_fn1 & wt\\_fn1 & qsec\\_fn1 & vs\\_fn1 & am\\_fn1 & gear\\_fn1 & ⋯ & mpg\\_fn2 & disp\\_fn2 & hp\\_fn2 & drat\\_fn2 & wt\\_fn2 & qsec\\_fn2 & vs\\_fn2 & am\\_fn2 & gear\\_fn2 & carb\\_fn2\\\\\n",
       " <dbl> & <dbl> & <dbl> & <dbl> & <dbl> & <dbl> & <dbl> & <dbl> & <dbl> & <dbl> & ⋯ & <dbl> & <dbl> & <dbl> & <dbl> & <dbl> & <dbl> & <dbl> & <dbl> & <dbl> & <dbl>\\\\\n",
       "\\hline\n",
       "\t 4 & 27 & 105 &  83 & 4 & 2 & 19 & 1 & 1 & 4 & ⋯ & 26 & 108 &  91 & 4 & 2 & 19 & 1 & 1 & 4 & 2\\\\\n",
       "\t 6 & 20 & 183 & 122 & 4 & 3 & 18 & 1 & 0 & 4 & ⋯ & 20 & 168 & 110 & 4 & 3 & 18 & 1 & 0 & 4 & 4\\\\\n",
       "\t 8 & 15 & 353 & 209 & 3 & 4 & 17 & 0 & 0 & 3 & ⋯ & 15 & 350 & 192 & 3 & 4 & 17 & 0 & 0 & 3 & 4\\\\\n",
       "\\end{tabular}\n"
      ],
      "text/markdown": [
       "\n",
       "A tibble: 3 × 21\n",
       "\n",
       "| cyl &lt;dbl&gt; | mpg_fn1 &lt;dbl&gt; | disp_fn1 &lt;dbl&gt; | hp_fn1 &lt;dbl&gt; | drat_fn1 &lt;dbl&gt; | wt_fn1 &lt;dbl&gt; | qsec_fn1 &lt;dbl&gt; | vs_fn1 &lt;dbl&gt; | am_fn1 &lt;dbl&gt; | gear_fn1 &lt;dbl&gt; | ⋯ ⋯ | mpg_fn2 &lt;dbl&gt; | disp_fn2 &lt;dbl&gt; | hp_fn2 &lt;dbl&gt; | drat_fn2 &lt;dbl&gt; | wt_fn2 &lt;dbl&gt; | qsec_fn2 &lt;dbl&gt; | vs_fn2 &lt;dbl&gt; | am_fn2 &lt;dbl&gt; | gear_fn2 &lt;dbl&gt; | carb_fn2 &lt;dbl&gt; |\n",
       "|---|---|---|---|---|---|---|---|---|---|---|---|---|---|---|---|---|---|---|---|---|\n",
       "| 4 | 27 | 105 |  83 | 4 | 2 | 19 | 1 | 1 | 4 | ⋯ | 26 | 108 |  91 | 4 | 2 | 19 | 1 | 1 | 4 | 2 |\n",
       "| 6 | 20 | 183 | 122 | 4 | 3 | 18 | 1 | 0 | 4 | ⋯ | 20 | 168 | 110 | 4 | 3 | 18 | 1 | 0 | 4 | 4 |\n",
       "| 8 | 15 | 353 | 209 | 3 | 4 | 17 | 0 | 0 | 3 | ⋯ | 15 | 350 | 192 | 3 | 4 | 17 | 0 | 0 | 3 | 4 |\n",
       "\n"
      ],
      "text/plain": [
       "  cyl mpg_fn1 disp_fn1 hp_fn1 drat_fn1 wt_fn1 qsec_fn1 vs_fn1 am_fn1 gear_fn1 ⋯\n",
       "1 4   27      105       83    4        2      19       1      1      4        ⋯\n",
       "2 6   20      183      122    4        3      18       1      0      4        ⋯\n",
       "3 8   15      353      209    3        4      17       0      0      3        ⋯\n",
       "  mpg_fn2 disp_fn2 hp_fn2 drat_fn2 wt_fn2 qsec_fn2 vs_fn2 am_fn2 gear_fn2\n",
       "1 26      108       91    4        2      19       1      1      4       \n",
       "2 20      168      110    4        3      18       1      0      4       \n",
       "3 15      350      192    3        4      17       0      0      3       \n",
       "  carb_fn2\n",
       "1 2       \n",
       "2 4       \n",
       "3 4       "
      ]
     },
     "metadata": {},
     "output_type": "display_data"
    }
   ],
   "source": [
    "mtcars %>%\n",
    "group_by(cyl) %>%\n",
    "summarise_if(is.numeric,c(mean,median)) %>%\n",
    "round()"
   ]
  },
  {
   "cell_type": "code",
   "execution_count": 27,
   "id": "251d736e-876b-401a-8cc3-f8f7fdc20134",
   "metadata": {},
   "outputs": [
    {
     "name": "stderr",
     "output_type": "stream",
     "text": [
      "\u001b[1m\u001b[22m`summarise()` has grouped output by 'cyl'. You can override using the `.groups`\n",
      "argument.\n"
     ]
    },
    {
     "data": {
      "text/html": [
       "<table class=\"dataframe\">\n",
       "<caption>A grouped_df: 3 × 3</caption>\n",
       "<thead>\n",
       "\t<tr><th scope=col>cyl</th><th scope=col>0</th><th scope=col>1</th></tr>\n",
       "\t<tr><th scope=col>&lt;dbl&gt;</th><th scope=col>&lt;dbl&gt;</th><th scope=col>&lt;dbl&gt;</th></tr>\n",
       "</thead>\n",
       "<tbody>\n",
       "\t<tr><td>4</td><td>22.9</td><td>28.1</td></tr>\n",
       "\t<tr><td>6</td><td>19.1</td><td>20.6</td></tr>\n",
       "\t<tr><td>8</td><td>15.1</td><td>15.4</td></tr>\n",
       "</tbody>\n",
       "</table>\n"
      ],
      "text/latex": [
       "A grouped\\_df: 3 × 3\n",
       "\\begin{tabular}{lll}\n",
       " cyl & 0 & 1\\\\\n",
       " <dbl> & <dbl> & <dbl>\\\\\n",
       "\\hline\n",
       "\t 4 & 22.9 & 28.1\\\\\n",
       "\t 6 & 19.1 & 20.6\\\\\n",
       "\t 8 & 15.1 & 15.4\\\\\n",
       "\\end{tabular}\n"
      ],
      "text/markdown": [
       "\n",
       "A grouped_df: 3 × 3\n",
       "\n",
       "| cyl &lt;dbl&gt; | 0 &lt;dbl&gt; | 1 &lt;dbl&gt; |\n",
       "|---|---|---|\n",
       "| 4 | 22.9 | 28.1 |\n",
       "| 6 | 19.1 | 20.6 |\n",
       "| 8 | 15.1 | 15.4 |\n",
       "\n"
      ],
      "text/plain": [
       "  cyl 0    1   \n",
       "1 4   22.9 28.1\n",
       "2 6   19.1 20.6\n",
       "3 8   15.1 15.4"
      ]
     },
     "metadata": {},
     "output_type": "display_data"
    }
   ],
   "source": [
    "# spread() works for single QUANT only\n",
    "\n",
    "mtcars %>%\n",
    "group_by(cyl,am) %>%\n",
    "summarise(avg=mean(mpg)) %>%\n",
    "round(1) %>%\n",
    "spread(am, avg)"
   ]
  },
  {
   "cell_type": "markdown",
   "id": "54453481-333a-417f-a7d5-cb390f35572e",
   "metadata": {
    "tags": []
   },
   "source": [
    "### Pivot Tables"
   ]
  },
  {
   "cell_type": "code",
   "execution_count": 2,
   "id": "a61008d6-5f98-4491-ac3e-27fe89cff8f1",
   "metadata": {},
   "outputs": [
    {
     "name": "stderr",
     "output_type": "stream",
     "text": [
      "\u001b[1m\u001b[22m`summarise()` has grouped output by 'cyl'. You can override using the `.groups`\n",
      "argument.\n"
     ]
    },
    {
     "data": {
      "text/html": [
       "<table class=\"dataframe\">\n",
       "<caption>A grouped_df: 3 × 5</caption>\n",
       "<thead>\n",
       "\t<tr><th scope=col>cyl</th><th scope=col>MPG_0</th><th scope=col>MPG_1</th><th scope=col>HP_0</th><th scope=col>HP_1</th></tr>\n",
       "\t<tr><th scope=col>&lt;dbl&gt;</th><th scope=col>&lt;dbl&gt;</th><th scope=col>&lt;dbl&gt;</th><th scope=col>&lt;dbl&gt;</th><th scope=col>&lt;dbl&gt;</th></tr>\n",
       "</thead>\n",
       "<tbody>\n",
       "\t<tr><td>4</td><td>22.900</td><td>28.07500</td><td> 84.66667</td><td> 81.8750</td></tr>\n",
       "\t<tr><td>6</td><td>19.125</td><td>20.56667</td><td>115.25000</td><td>131.6667</td></tr>\n",
       "\t<tr><td>8</td><td>15.050</td><td>15.40000</td><td>194.16667</td><td>299.5000</td></tr>\n",
       "</tbody>\n",
       "</table>\n"
      ],
      "text/latex": [
       "A grouped\\_df: 3 × 5\n",
       "\\begin{tabular}{lllll}\n",
       " cyl & MPG\\_0 & MPG\\_1 & HP\\_0 & HP\\_1\\\\\n",
       " <dbl> & <dbl> & <dbl> & <dbl> & <dbl>\\\\\n",
       "\\hline\n",
       "\t 4 & 22.900 & 28.07500 &  84.66667 &  81.8750\\\\\n",
       "\t 6 & 19.125 & 20.56667 & 115.25000 & 131.6667\\\\\n",
       "\t 8 & 15.050 & 15.40000 & 194.16667 & 299.5000\\\\\n",
       "\\end{tabular}\n"
      ],
      "text/markdown": [
       "\n",
       "A grouped_df: 3 × 5\n",
       "\n",
       "| cyl &lt;dbl&gt; | MPG_0 &lt;dbl&gt; | MPG_1 &lt;dbl&gt; | HP_0 &lt;dbl&gt; | HP_1 &lt;dbl&gt; |\n",
       "|---|---|---|---|---|\n",
       "| 4 | 22.900 | 28.07500 |  84.66667 |  81.8750 |\n",
       "| 6 | 19.125 | 20.56667 | 115.25000 | 131.6667 |\n",
       "| 8 | 15.050 | 15.40000 | 194.16667 | 299.5000 |\n",
       "\n"
      ],
      "text/plain": [
       "  cyl MPG_0  MPG_1    HP_0      HP_1    \n",
       "1 4   22.900 28.07500  84.66667  81.8750\n",
       "2 6   19.125 20.56667 115.25000 131.6667\n",
       "3 8   15.050 15.40000 194.16667 299.5000"
      ]
     },
     "metadata": {},
     "output_type": "display_data"
    }
   ],
   "source": [
    "# 2 CAT, 2 QUANT\n",
    "\n",
    "mtcars |>\n",
    "group_by(cyl, am) |>\n",
    "summarise(MPG=mean(mpg), HP=mean(hp)) |>\n",
    "pivot_wider(names_from = am, values_from = c(MPG,HP))"
   ]
  },
  {
   "cell_type": "code",
   "execution_count": 47,
   "id": "4b7708b4-6ef9-4b5d-8dc2-6aebde066df4",
   "metadata": {},
   "outputs": [
    {
     "data": {
      "text/html": [
       "<table class=\"dataframe\">\n",
       "<caption>A tibble: 3 × 5</caption>\n",
       "<thead>\n",
       "\t<tr><th scope=col>cyl</th><th scope=col>mpg_0</th><th scope=col>mpg_1</th><th scope=col>hp_0</th><th scope=col>hp_1</th></tr>\n",
       "\t<tr><th scope=col>&lt;dbl&gt;</th><th scope=col>&lt;dbl&gt;</th><th scope=col>&lt;dbl&gt;</th><th scope=col>&lt;dbl&gt;</th><th scope=col>&lt;dbl&gt;</th></tr>\n",
       "</thead>\n",
       "<tbody>\n",
       "\t<tr><td>4</td><td>22.900</td><td>28.07500</td><td> 84.66667</td><td> 81.8750</td></tr>\n",
       "\t<tr><td>6</td><td>19.125</td><td>20.56667</td><td>115.25000</td><td>131.6667</td></tr>\n",
       "\t<tr><td>8</td><td>15.050</td><td>15.40000</td><td>194.16667</td><td>299.5000</td></tr>\n",
       "</tbody>\n",
       "</table>\n"
      ],
      "text/latex": [
       "A tibble: 3 × 5\n",
       "\\begin{tabular}{lllll}\n",
       " cyl & mpg\\_0 & mpg\\_1 & hp\\_0 & hp\\_1\\\\\n",
       " <dbl> & <dbl> & <dbl> & <dbl> & <dbl>\\\\\n",
       "\\hline\n",
       "\t 4 & 22.900 & 28.07500 &  84.66667 &  81.8750\\\\\n",
       "\t 6 & 19.125 & 20.56667 & 115.25000 & 131.6667\\\\\n",
       "\t 8 & 15.050 & 15.40000 & 194.16667 & 299.5000\\\\\n",
       "\\end{tabular}\n"
      ],
      "text/markdown": [
       "\n",
       "A tibble: 3 × 5\n",
       "\n",
       "| cyl &lt;dbl&gt; | mpg_0 &lt;dbl&gt; | mpg_1 &lt;dbl&gt; | hp_0 &lt;dbl&gt; | hp_1 &lt;dbl&gt; |\n",
       "|---|---|---|---|---|\n",
       "| 4 | 22.900 | 28.07500 |  84.66667 |  81.8750 |\n",
       "| 6 | 19.125 | 20.56667 | 115.25000 | 131.6667 |\n",
       "| 8 | 15.050 | 15.40000 | 194.16667 | 299.5000 |\n",
       "\n"
      ],
      "text/plain": [
       "  cyl mpg_0  mpg_1    hp_0      hp_1    \n",
       "1 4   22.900 28.07500  84.66667  81.8750\n",
       "2 6   19.125 20.56667 115.25000 131.6667\n",
       "3 8   15.050 15.40000 194.16667 299.5000"
      ]
     },
     "metadata": {},
     "output_type": "display_data"
    }
   ],
   "source": [
    "aggregate(cbind(mpg,hp)~cyl + am, mtcars, mean) |>\n",
    "pivot_wider(names_from = am, values_from = c(mpg,hp))"
   ]
  },
  {
   "cell_type": "code",
   "execution_count": 12,
   "id": "74d68b6a-9d5e-4e4c-a2df-21be56b34825",
   "metadata": {},
   "outputs": [
    {
     "data": {
      "text/html": [
       "<table class=\"dataframe\">\n",
       "<caption>A matrix: 3 × 2 of type dbl</caption>\n",
       "<thead>\n",
       "\t<tr><th></th><th scope=col>0</th><th scope=col>1</th></tr>\n",
       "</thead>\n",
       "<tbody>\n",
       "\t<tr><th scope=row>4</th><td> 84.66667</td><td> 81.8750</td></tr>\n",
       "\t<tr><th scope=row>6</th><td>115.25000</td><td>131.6667</td></tr>\n",
       "\t<tr><th scope=row>8</th><td>194.16667</td><td>299.5000</td></tr>\n",
       "</tbody>\n",
       "</table>\n"
      ],
      "text/latex": [
       "A matrix: 3 × 2 of type dbl\n",
       "\\begin{tabular}{r|ll}\n",
       "  & 0 & 1\\\\\n",
       "\\hline\n",
       "\t4 &  84.66667 &  81.8750\\\\\n",
       "\t6 & 115.25000 & 131.6667\\\\\n",
       "\t8 & 194.16667 & 299.5000\\\\\n",
       "\\end{tabular}\n"
      ],
      "text/markdown": [
       "\n",
       "A matrix: 3 × 2 of type dbl\n",
       "\n",
       "| <!--/--> | 0 | 1 |\n",
       "|---|---|---|\n",
       "| 4 |  84.66667 |  81.8750 |\n",
       "| 6 | 115.25000 | 131.6667 |\n",
       "| 8 | 194.16667 | 299.5000 |\n",
       "\n"
      ],
      "text/plain": [
       "  0         1       \n",
       "4  84.66667  81.8750\n",
       "6 115.25000 131.6667\n",
       "8 194.16667 299.5000"
      ]
     },
     "metadata": {},
     "output_type": "display_data"
    }
   ],
   "source": [
    "# tapply appears to be the least versatile, taking only 1 QUANT variable\n",
    "with(mtcars, tapply(hp, list(cyl,am), mean))"
   ]
  },
  {
   "cell_type": "markdown",
   "id": "55af92a6-dc8d-4083-964b-102696c856d8",
   "metadata": {
    "tags": []
   },
   "source": [
    "### Work in Progress"
   ]
  },
  {
   "cell_type": "code",
   "execution_count": 3,
   "id": "8f76b677-2127-4532-a5c9-d6513b213c94",
   "metadata": {
    "collapsed": true,
    "jupyter": {
     "outputs_hidden": true
    },
    "tags": []
   },
   "outputs": [
    {
     "data": {
      "text/html": [
       "<table class=\"dataframe\">\n",
       "<caption>A data.frame: 50 × 2</caption>\n",
       "<thead>\n",
       "\t<tr><th></th><th scope=col>Score</th><th scope=col>Grade</th></tr>\n",
       "\t<tr><th></th><th scope=col>&lt;dbl&gt;</th><th scope=col>&lt;ord&gt;</th></tr>\n",
       "</thead>\n",
       "<tbody>\n",
       "\t<tr><th scope=row>5</th><td>72</td><td>B</td></tr>\n",
       "\t<tr><th scope=row>16</th><td>72</td><td>B</td></tr>\n",
       "\t<tr><th scope=row>21</th><td>71</td><td>B</td></tr>\n",
       "\t<tr><th scope=row>33</th><td>72</td><td>B</td></tr>\n",
       "\t<tr><th scope=row>46</th><td>70</td><td>B</td></tr>\n",
       "\t<tr><th scope=row>48</th><td>70</td><td>B</td></tr>\n",
       "\t<tr><th scope=row>2</th><td>67</td><td>C</td></tr>\n",
       "\t<tr><th scope=row>3</th><td>69</td><td>C</td></tr>\n",
       "\t<tr><th scope=row>7</th><td>69</td><td>C</td></tr>\n",
       "\t<tr><th scope=row>8</th><td>67</td><td>C</td></tr>\n",
       "\t<tr><th scope=row>10</th><td>65</td><td>C</td></tr>\n",
       "\t<tr><th scope=row>12</th><td>67</td><td>C</td></tr>\n",
       "\t<tr><th scope=row>13</th><td>69</td><td>C</td></tr>\n",
       "\t<tr><th scope=row>15</th><td>65</td><td>C</td></tr>\n",
       "\t<tr><th scope=row>25</th><td>67</td><td>C</td></tr>\n",
       "\t<tr><th scope=row>29</th><td>69</td><td>C</td></tr>\n",
       "\t<tr><th scope=row>32</th><td>67</td><td>C</td></tr>\n",
       "\t<tr><th scope=row>34</th><td>65</td><td>C</td></tr>\n",
       "\t<tr><th scope=row>35</th><td>69</td><td>C</td></tr>\n",
       "\t<tr><th scope=row>37</th><td>65</td><td>C</td></tr>\n",
       "\t<tr><th scope=row>41</th><td>69</td><td>C</td></tr>\n",
       "\t<tr><th scope=row>44</th><td>69</td><td>C</td></tr>\n",
       "\t<tr><th scope=row>47</th><td>66</td><td>C</td></tr>\n",
       "\t<tr><th scope=row>1</th><td>60</td><td>D</td></tr>\n",
       "\t<tr><th scope=row>4</th><td>63</td><td>D</td></tr>\n",
       "\t<tr><th scope=row>9</th><td>62</td><td>D</td></tr>\n",
       "\t<tr><th scope=row>11</th><td>63</td><td>D</td></tr>\n",
       "\t<tr><th scope=row>14</th><td>62</td><td>D</td></tr>\n",
       "\t<tr><th scope=row>17</th><td>60</td><td>D</td></tr>\n",
       "\t<tr><th scope=row>18</th><td>63</td><td>D</td></tr>\n",
       "\t<tr><th scope=row>19</th><td>63</td><td>D</td></tr>\n",
       "\t<tr><th scope=row>20</th><td>61</td><td>D</td></tr>\n",
       "\t<tr><th scope=row>23</th><td>61</td><td>D</td></tr>\n",
       "\t<tr><th scope=row>24</th><td>63</td><td>D</td></tr>\n",
       "\t<tr><th scope=row>26</th><td>62</td><td>D</td></tr>\n",
       "\t<tr><th scope=row>28</th><td>63</td><td>D</td></tr>\n",
       "\t<tr><th scope=row>30</th><td>64</td><td>D</td></tr>\n",
       "\t<tr><th scope=row>31</th><td>64</td><td>D</td></tr>\n",
       "\t<tr><th scope=row>36</th><td>62</td><td>D</td></tr>\n",
       "\t<tr><th scope=row>38</th><td>61</td><td>D</td></tr>\n",
       "\t<tr><th scope=row>39</th><td>62</td><td>D</td></tr>\n",
       "\t<tr><th scope=row>40</th><td>62</td><td>D</td></tr>\n",
       "\t<tr><th scope=row>42</th><td>64</td><td>D</td></tr>\n",
       "\t<tr><th scope=row>43</th><td>64</td><td>D</td></tr>\n",
       "\t<tr><th scope=row>49</th><td>60</td><td>D</td></tr>\n",
       "\t<tr><th scope=row>6</th><td>52</td><td>E</td></tr>\n",
       "\t<tr><th scope=row>22</th><td>59</td><td>E</td></tr>\n",
       "\t<tr><th scope=row>27</th><td>59</td><td>E</td></tr>\n",
       "\t<tr><th scope=row>45</th><td>58</td><td>E</td></tr>\n",
       "\t<tr><th scope=row>50</th><td>49</td><td>U</td></tr>\n",
       "</tbody>\n",
       "</table>\n"
      ],
      "text/latex": [
       "A data.frame: 50 × 2\n",
       "\\begin{tabular}{r|ll}\n",
       "  & Score & Grade\\\\\n",
       "  & <dbl> & <ord>\\\\\n",
       "\\hline\n",
       "\t5 & 72 & B\\\\\n",
       "\t16 & 72 & B\\\\\n",
       "\t21 & 71 & B\\\\\n",
       "\t33 & 72 & B\\\\\n",
       "\t46 & 70 & B\\\\\n",
       "\t48 & 70 & B\\\\\n",
       "\t2 & 67 & C\\\\\n",
       "\t3 & 69 & C\\\\\n",
       "\t7 & 69 & C\\\\\n",
       "\t8 & 67 & C\\\\\n",
       "\t10 & 65 & C\\\\\n",
       "\t12 & 67 & C\\\\\n",
       "\t13 & 69 & C\\\\\n",
       "\t15 & 65 & C\\\\\n",
       "\t25 & 67 & C\\\\\n",
       "\t29 & 69 & C\\\\\n",
       "\t32 & 67 & C\\\\\n",
       "\t34 & 65 & C\\\\\n",
       "\t35 & 69 & C\\\\\n",
       "\t37 & 65 & C\\\\\n",
       "\t41 & 69 & C\\\\\n",
       "\t44 & 69 & C\\\\\n",
       "\t47 & 66 & C\\\\\n",
       "\t1 & 60 & D\\\\\n",
       "\t4 & 63 & D\\\\\n",
       "\t9 & 62 & D\\\\\n",
       "\t11 & 63 & D\\\\\n",
       "\t14 & 62 & D\\\\\n",
       "\t17 & 60 & D\\\\\n",
       "\t18 & 63 & D\\\\\n",
       "\t19 & 63 & D\\\\\n",
       "\t20 & 61 & D\\\\\n",
       "\t23 & 61 & D\\\\\n",
       "\t24 & 63 & D\\\\\n",
       "\t26 & 62 & D\\\\\n",
       "\t28 & 63 & D\\\\\n",
       "\t30 & 64 & D\\\\\n",
       "\t31 & 64 & D\\\\\n",
       "\t36 & 62 & D\\\\\n",
       "\t38 & 61 & D\\\\\n",
       "\t39 & 62 & D\\\\\n",
       "\t40 & 62 & D\\\\\n",
       "\t42 & 64 & D\\\\\n",
       "\t43 & 64 & D\\\\\n",
       "\t49 & 60 & D\\\\\n",
       "\t6 & 52 & E\\\\\n",
       "\t22 & 59 & E\\\\\n",
       "\t27 & 59 & E\\\\\n",
       "\t45 & 58 & E\\\\\n",
       "\t50 & 49 & U\\\\\n",
       "\\end{tabular}\n"
      ],
      "text/markdown": [
       "\n",
       "A data.frame: 50 × 2\n",
       "\n",
       "| <!--/--> | Score &lt;dbl&gt; | Grade &lt;ord&gt; |\n",
       "|---|---|---|\n",
       "| 5 | 72 | B |\n",
       "| 16 | 72 | B |\n",
       "| 21 | 71 | B |\n",
       "| 33 | 72 | B |\n",
       "| 46 | 70 | B |\n",
       "| 48 | 70 | B |\n",
       "| 2 | 67 | C |\n",
       "| 3 | 69 | C |\n",
       "| 7 | 69 | C |\n",
       "| 8 | 67 | C |\n",
       "| 10 | 65 | C |\n",
       "| 12 | 67 | C |\n",
       "| 13 | 69 | C |\n",
       "| 15 | 65 | C |\n",
       "| 25 | 67 | C |\n",
       "| 29 | 69 | C |\n",
       "| 32 | 67 | C |\n",
       "| 34 | 65 | C |\n",
       "| 35 | 69 | C |\n",
       "| 37 | 65 | C |\n",
       "| 41 | 69 | C |\n",
       "| 44 | 69 | C |\n",
       "| 47 | 66 | C |\n",
       "| 1 | 60 | D |\n",
       "| 4 | 63 | D |\n",
       "| 9 | 62 | D |\n",
       "| 11 | 63 | D |\n",
       "| 14 | 62 | D |\n",
       "| 17 | 60 | D |\n",
       "| 18 | 63 | D |\n",
       "| 19 | 63 | D |\n",
       "| 20 | 61 | D |\n",
       "| 23 | 61 | D |\n",
       "| 24 | 63 | D |\n",
       "| 26 | 62 | D |\n",
       "| 28 | 63 | D |\n",
       "| 30 | 64 | D |\n",
       "| 31 | 64 | D |\n",
       "| 36 | 62 | D |\n",
       "| 38 | 61 | D |\n",
       "| 39 | 62 | D |\n",
       "| 40 | 62 | D |\n",
       "| 42 | 64 | D |\n",
       "| 43 | 64 | D |\n",
       "| 49 | 60 | D |\n",
       "| 6 | 52 | E |\n",
       "| 22 | 59 | E |\n",
       "| 27 | 59 | E |\n",
       "| 45 | 58 | E |\n",
       "| 50 | 49 | U |\n",
       "\n"
      ],
      "text/plain": [
       "   Score Grade\n",
       "5  72    B    \n",
       "16 72    B    \n",
       "21 71    B    \n",
       "33 72    B    \n",
       "46 70    B    \n",
       "48 70    B    \n",
       "2  67    C    \n",
       "3  69    C    \n",
       "7  69    C    \n",
       "8  67    C    \n",
       "10 65    C    \n",
       "12 67    C    \n",
       "13 69    C    \n",
       "15 65    C    \n",
       "25 67    C    \n",
       "29 69    C    \n",
       "32 67    C    \n",
       "34 65    C    \n",
       "35 69    C    \n",
       "37 65    C    \n",
       "41 69    C    \n",
       "44 69    C    \n",
       "47 66    C    \n",
       "1  60    D    \n",
       "4  63    D    \n",
       "9  62    D    \n",
       "11 63    D    \n",
       "14 62    D    \n",
       "17 60    D    \n",
       "18 63    D    \n",
       "19 63    D    \n",
       "20 61    D    \n",
       "23 61    D    \n",
       "24 63    D    \n",
       "26 62    D    \n",
       "28 63    D    \n",
       "30 64    D    \n",
       "31 64    D    \n",
       "36 62    D    \n",
       "38 61    D    \n",
       "39 62    D    \n",
       "40 62    D    \n",
       "42 64    D    \n",
       "43 64    D    \n",
       "49 60    D    \n",
       "6  52    E    \n",
       "22 59    E    \n",
       "27 59    E    \n",
       "45 58    E    \n",
       "50 49    U    "
      ]
     },
     "metadata": {},
     "output_type": "display_data"
    }
   ],
   "source": [
    "gradeN <- function (score) {\n",
    "    grades <- c('A','B','C','D','E','U')\n",
    "    bounds <- c(75,70,65,60,50,0)\n",
    "    \n",
    "    return(grades[min(which(score >= bounds))])\n",
    "    }\n",
    "\n",
    "n <- 50\n",
    "df <- data.frame(Student = sample(state.name, n),\n",
    "                 Score = 65 + round(rnorm(n) * 5, 0))\n",
    "\n",
    "df$Grade <- sapply(df$Score, gradeN)\n",
    "\n",
    "df$Grade <- factor(df$Grade,\n",
    "                   levels = c('A','B','C','D','E','U'),\n",
    "                   ordered = T)\n",
    "\n",
    "# Display scores anonymously\n",
    "df[order(df$Grade),-1]\n",
    "\n",
    "# str(df)\n",
    "# summary(df)\n",
    "# fivenum(df$Score)"
   ]
  },
  {
   "cell_type": "code",
   "execution_count": 5,
   "id": "ca03ef99-1f83-40b0-aa75-b61a2e8ae88d",
   "metadata": {},
   "outputs": [
    {
     "data": {
      "text/html": [
       "<style>\n",
       ".list-inline {list-style: none; margin:0; padding: 0}\n",
       ".list-inline>li {display: inline-block}\n",
       ".list-inline>li:not(:last-child)::after {content: \"\\00b7\"; padding: 0 .5ex}\n",
       "</style>\n",
       "<ol class=list-inline><li>3</li><li>5</li><li>6</li><li>9</li><li>10</li><li>13</li><li>15</li><li>16</li><li>19</li><li>20</li></ol>\n"
      ],
      "text/latex": [
       "\\begin{enumerate*}\n",
       "\\item 3\n",
       "\\item 5\n",
       "\\item 6\n",
       "\\item 9\n",
       "\\item 10\n",
       "\\item 13\n",
       "\\item 15\n",
       "\\item 16\n",
       "\\item 19\n",
       "\\item 20\n",
       "\\end{enumerate*}\n"
      ],
      "text/markdown": [
       "1. 3\n",
       "2. 5\n",
       "3. 6\n",
       "4. 9\n",
       "5. 10\n",
       "6. 13\n",
       "7. 15\n",
       "8. 16\n",
       "9. 19\n",
       "10. 20\n",
       "\n",
       "\n"
      ],
      "text/plain": [
       " [1]  3  5  6  9 10 13 15 16 19 20"
      ]
     },
     "metadata": {},
     "output_type": "display_data"
    }
   ],
   "source": [
    "(1:20)[1:10%%3==0 | 1:10%%5==0]"
   ]
  },
  {
   "cell_type": "code",
   "execution_count": 6,
   "id": "9feef3c3-342c-42e1-b8cc-503dcf812cac",
   "metadata": {},
   "outputs": [
    {
     "data": {
      "text/html": [
       "<style>\n",
       ".list-inline {list-style: none; margin:0; padding: 0}\n",
       ".list-inline>li {display: inline-block}\n",
       ".list-inline>li:not(:last-child)::after {content: \"\\00b7\"; padding: 0 .5ex}\n",
       "</style>\n",
       "<ol class=list-inline><li>90</li><li>45</li></ol>\n"
      ],
      "text/latex": [
       "\\begin{enumerate*}\n",
       "\\item 90\n",
       "\\item 45\n",
       "\\end{enumerate*}\n"
      ],
      "text/markdown": [
       "1. 90\n",
       "2. 45\n",
       "\n",
       "\n"
      ],
      "text/plain": [
       "[1] 90 45"
      ]
     },
     "metadata": {},
     "output_type": "display_data"
    }
   ],
   "source": [
    "n = c(82, 88, 90, 49, 58, 76, 45)\n",
    "\n",
    "# 1. Vector of lists\n",
    "# c(list(n[n>70]),list(n[n<70]))\n",
    "\n",
    "# 2. Multiples of 3\n",
    "n[!n%%3]"
   ]
  },
  {
   "cell_type": "code",
   "execution_count": 7,
   "id": "c76a744a-f07e-4695-b923-62a39a4588c7",
   "metadata": {},
   "outputs": [
    {
     "data": {
      "text/html": [
       "<ol>\n",
       "\t<li>'Happy Birthday to you'</li>\n",
       "\t<li>'Happy Birthday to you'</li>\n",
       "\t<li>'Happy Birthday to dear Name'</li>\n",
       "\t<li>'Happy Birthday to you'</li>\n",
       "</ol>\n"
      ],
      "text/latex": [
       "\\begin{enumerate}\n",
       "\\item 'Happy Birthday to you'\n",
       "\\item 'Happy Birthday to you'\n",
       "\\item 'Happy Birthday to dear Name'\n",
       "\\item 'Happy Birthday to you'\n",
       "\\end{enumerate}\n"
      ],
      "text/markdown": [
       "1. 'Happy Birthday to you'\n",
       "2. 'Happy Birthday to you'\n",
       "3. 'Happy Birthday to dear Name'\n",
       "4. 'Happy Birthday to you'\n",
       "\n",
       "\n"
      ],
      "text/plain": [
       "[[1]]\n",
       "[1] \"Happy Birthday to you\"\n",
       "\n",
       "[[2]]\n",
       "[1] \"Happy Birthday to you\"\n",
       "\n",
       "[[3]]\n",
       "[1] \"Happy Birthday to dear Name\"\n",
       "\n",
       "[[4]]\n",
       "[1] \"Happy Birthday to you\"\n"
      ]
     },
     "metadata": {},
     "output_type": "display_data"
    }
   ],
   "source": [
    "lapply((1:4),function(x){\n",
    "    paste(c(\"Happy Birthday to \",\n",
    "            ifelse(x!=3, \"you\", \"dear Name\")),\n",
    "          collapse=\"\")})"
   ]
  },
  {
   "cell_type": "markdown",
   "id": "82941b54-5f11-4bcf-b801-88564138dcc5",
   "metadata": {},
   "source": [
    "### Dataframe slicing"
   ]
  },
  {
   "cell_type": "code",
   "execution_count": 24,
   "id": "ebbfe9f1-4ee6-4d1e-b79a-b5d29d738ce1",
   "metadata": {},
   "outputs": [
    {
     "data": {
      "text/html": [
       "<table class=\"dataframe\">\n",
       "<caption>A data.frame: 18 × 4</caption>\n",
       "<thead>\n",
       "\t<tr><th></th><th scope=col>hp</th><th scope=col>disp</th><th scope=col>cyl</th><th scope=col>mpg</th></tr>\n",
       "\t<tr><th></th><th scope=col>&lt;dbl&gt;</th><th scope=col>&lt;dbl&gt;</th><th scope=col>&lt;dbl&gt;</th><th scope=col>&lt;dbl&gt;</th></tr>\n",
       "</thead>\n",
       "<tbody>\n",
       "\t<tr><th scope=row>Mazda RX4</th><td>110</td><td>160.0</td><td>6</td><td>21.0</td></tr>\n",
       "\t<tr><th scope=row>Mazda RX4 Wag</th><td>110</td><td>160.0</td><td>6</td><td>21.0</td></tr>\n",
       "\t<tr><th scope=row>Datsun 710</th><td> 93</td><td>108.0</td><td>4</td><td>22.8</td></tr>\n",
       "\t<tr><th scope=row>Hornet 4 Drive</th><td>110</td><td>258.0</td><td>6</td><td>21.4</td></tr>\n",
       "\t<tr><th scope=row>Valiant</th><td>105</td><td>225.0</td><td>6</td><td>18.1</td></tr>\n",
       "\t<tr><th scope=row>Merc 240D</th><td> 62</td><td>146.7</td><td>4</td><td>24.4</td></tr>\n",
       "\t<tr><th scope=row>Merc 230</th><td> 95</td><td>140.8</td><td>4</td><td>22.8</td></tr>\n",
       "\t<tr><th scope=row>Merc 280</th><td>123</td><td>167.6</td><td>6</td><td>19.2</td></tr>\n",
       "\t<tr><th scope=row>Merc 280C</th><td>123</td><td>167.6</td><td>6</td><td>17.8</td></tr>\n",
       "\t<tr><th scope=row>Fiat 128</th><td> 66</td><td> 78.7</td><td>4</td><td>32.4</td></tr>\n",
       "\t<tr><th scope=row>Honda Civic</th><td> 52</td><td> 75.7</td><td>4</td><td>30.4</td></tr>\n",
       "\t<tr><th scope=row>Toyota Corolla</th><td> 65</td><td> 71.1</td><td>4</td><td>33.9</td></tr>\n",
       "\t<tr><th scope=row>Toyota Corona</th><td> 97</td><td>120.1</td><td>4</td><td>21.5</td></tr>\n",
       "\t<tr><th scope=row>Fiat X1-9</th><td> 66</td><td> 79.0</td><td>4</td><td>27.3</td></tr>\n",
       "\t<tr><th scope=row>Porsche 914-2</th><td> 91</td><td>120.3</td><td>4</td><td>26.0</td></tr>\n",
       "\t<tr><th scope=row>Lotus Europa</th><td>113</td><td> 95.1</td><td>4</td><td>30.4</td></tr>\n",
       "\t<tr><th scope=row>Ferrari Dino</th><td>175</td><td>145.0</td><td>6</td><td>19.7</td></tr>\n",
       "\t<tr><th scope=row>Volvo 142E</th><td>109</td><td>121.0</td><td>4</td><td>21.4</td></tr>\n",
       "</tbody>\n",
       "</table>\n"
      ],
      "text/latex": [
       "A data.frame: 18 × 4\n",
       "\\begin{tabular}{r|llll}\n",
       "  & hp & disp & cyl & mpg\\\\\n",
       "  & <dbl> & <dbl> & <dbl> & <dbl>\\\\\n",
       "\\hline\n",
       "\tMazda RX4 & 110 & 160.0 & 6 & 21.0\\\\\n",
       "\tMazda RX4 Wag & 110 & 160.0 & 6 & 21.0\\\\\n",
       "\tDatsun 710 &  93 & 108.0 & 4 & 22.8\\\\\n",
       "\tHornet 4 Drive & 110 & 258.0 & 6 & 21.4\\\\\n",
       "\tValiant & 105 & 225.0 & 6 & 18.1\\\\\n",
       "\tMerc 240D &  62 & 146.7 & 4 & 24.4\\\\\n",
       "\tMerc 230 &  95 & 140.8 & 4 & 22.8\\\\\n",
       "\tMerc 280 & 123 & 167.6 & 6 & 19.2\\\\\n",
       "\tMerc 280C & 123 & 167.6 & 6 & 17.8\\\\\n",
       "\tFiat 128 &  66 &  78.7 & 4 & 32.4\\\\\n",
       "\tHonda Civic &  52 &  75.7 & 4 & 30.4\\\\\n",
       "\tToyota Corolla &  65 &  71.1 & 4 & 33.9\\\\\n",
       "\tToyota Corona &  97 & 120.1 & 4 & 21.5\\\\\n",
       "\tFiat X1-9 &  66 &  79.0 & 4 & 27.3\\\\\n",
       "\tPorsche 914-2 &  91 & 120.3 & 4 & 26.0\\\\\n",
       "\tLotus Europa & 113 &  95.1 & 4 & 30.4\\\\\n",
       "\tFerrari Dino & 175 & 145.0 & 6 & 19.7\\\\\n",
       "\tVolvo 142E & 109 & 121.0 & 4 & 21.4\\\\\n",
       "\\end{tabular}\n"
      ],
      "text/markdown": [
       "\n",
       "A data.frame: 18 × 4\n",
       "\n",
       "| <!--/--> | hp &lt;dbl&gt; | disp &lt;dbl&gt; | cyl &lt;dbl&gt; | mpg &lt;dbl&gt; |\n",
       "|---|---|---|---|---|\n",
       "| Mazda RX4 | 110 | 160.0 | 6 | 21.0 |\n",
       "| Mazda RX4 Wag | 110 | 160.0 | 6 | 21.0 |\n",
       "| Datsun 710 |  93 | 108.0 | 4 | 22.8 |\n",
       "| Hornet 4 Drive | 110 | 258.0 | 6 | 21.4 |\n",
       "| Valiant | 105 | 225.0 | 6 | 18.1 |\n",
       "| Merc 240D |  62 | 146.7 | 4 | 24.4 |\n",
       "| Merc 230 |  95 | 140.8 | 4 | 22.8 |\n",
       "| Merc 280 | 123 | 167.6 | 6 | 19.2 |\n",
       "| Merc 280C | 123 | 167.6 | 6 | 17.8 |\n",
       "| Fiat 128 |  66 |  78.7 | 4 | 32.4 |\n",
       "| Honda Civic |  52 |  75.7 | 4 | 30.4 |\n",
       "| Toyota Corolla |  65 |  71.1 | 4 | 33.9 |\n",
       "| Toyota Corona |  97 | 120.1 | 4 | 21.5 |\n",
       "| Fiat X1-9 |  66 |  79.0 | 4 | 27.3 |\n",
       "| Porsche 914-2 |  91 | 120.3 | 4 | 26.0 |\n",
       "| Lotus Europa | 113 |  95.1 | 4 | 30.4 |\n",
       "| Ferrari Dino | 175 | 145.0 | 6 | 19.7 |\n",
       "| Volvo 142E | 109 | 121.0 | 4 | 21.4 |\n",
       "\n"
      ],
      "text/plain": [
       "               hp  disp  cyl mpg \n",
       "Mazda RX4      110 160.0 6   21.0\n",
       "Mazda RX4 Wag  110 160.0 6   21.0\n",
       "Datsun 710      93 108.0 4   22.8\n",
       "Hornet 4 Drive 110 258.0 6   21.4\n",
       "Valiant        105 225.0 6   18.1\n",
       "Merc 240D       62 146.7 4   24.4\n",
       "Merc 230        95 140.8 4   22.8\n",
       "Merc 280       123 167.6 6   19.2\n",
       "Merc 280C      123 167.6 6   17.8\n",
       "Fiat 128        66  78.7 4   32.4\n",
       "Honda Civic     52  75.7 4   30.4\n",
       "Toyota Corolla  65  71.1 4   33.9\n",
       "Toyota Corona   97 120.1 4   21.5\n",
       "Fiat X1-9       66  79.0 4   27.3\n",
       "Porsche 914-2   91 120.3 4   26.0\n",
       "Lotus Europa   113  95.1 4   30.4\n",
       "Ferrari Dino   175 145.0 6   19.7\n",
       "Volvo 142E     109 121.0 4   21.4"
      ]
     },
     "metadata": {},
     "output_type": "display_data"
    }
   ],
   "source": [
    "# Filter rows with 4 or 6 cylinders, then extract first 4 columns in reverse order\n",
    "\n",
    "mtcars[mtcars$cyl %in% c(4,6), 4:1]"
   ]
  },
  {
   "cell_type": "markdown",
   "id": "dcec81e1-07da-4250-a899-698acbb21ad6",
   "metadata": {},
   "source": [
    "# Class Workings"
   ]
  },
  {
   "cell_type": "code",
   "execution_count": 2,
   "id": "76be425a-5d8c-4efe-be04-15fe8a8c9f5f",
   "metadata": {},
   "outputs": [],
   "source": [
    "# 4 data wrangling tasks in R for advanced beginners\n",
    "# Learn how to add columns, get summaries, sort your results and reshape your data.\n",
    "# https://www.computerworld.com/article/2486425/business-intelligence-4-data-wrangling-tasks-in-r-for-advanced-beginners.html\n",
    "\n",
    "fy <- c(2010,2011,2012,2010,2011,2012,2010,2011,2012)\n",
    "company <- c(\"Apple\",\"Apple\",\"Apple\",\"Google\",\"Google\",\"Google\",\"Microsoft\",\"Microsoft\",\"Microsoft\")\n",
    "revenue <- c(65225,108249,156508,29321,37905,50175,62484,69943,73723)\n",
    "profit <- c(14013,25922,41733,8505,9737,10737,18760,23150,16978) \n",
    "companiesData <- data.frame(fy, company, revenue, profit)\n",
    "\n",
    "companiesData$fy <- factor(companiesData$fy, ordered = TRUE)\n",
    "companiesData <- transform(companiesData, margin = round(profit/revenue * 100, 1))\n",
    "\n",
    "# str(companiesData)\n",
    "write.csv(companiesData, 'companies.csv')"
   ]
  },
  {
   "cell_type": "code",
   "execution_count": 99,
   "id": "9b34061d-9022-4180-9d2b-a17adc9eb4e8",
   "metadata": {},
   "outputs": [
    {
     "data": {
      "text/plain": [
       "           \n",
       "            2010 2011 2012\n",
       "  Apple        1    1    1\n",
       "  Google       1    1    1\n",
       "  Microsoft    1    1    1"
      ]
     },
     "metadata": {},
     "output_type": "display_data"
    }
   ],
   "source": [
    "table(companiesData$company,companiesData$fy)"
   ]
  },
  {
   "cell_type": "code",
   "execution_count": null,
   "id": "39b9e622-d8a9-4f6d-871b-f01fc4c93b12",
   "metadata": {},
   "outputs": [],
   "source": []
  },
  {
   "cell_type": "code",
   "execution_count": 26,
   "id": "fa000e7a-34e2-41be-a341-a2960e402028",
   "metadata": {},
   "outputs": [
    {
     "data": {
      "text/html": [
       "<table class=\"dataframe\">\n",
       "<caption>A data.frame: 8 × 4</caption>\n",
       "<thead>\n",
       "\t<tr><th scope=col>Group.1</th><th scope=col>Group.2</th><th scope=col>v1</th><th scope=col>v2</th></tr>\n",
       "\t<tr><th scope=col>&lt;chr&gt;</th><th scope=col>&lt;chr&gt;</th><th scope=col>&lt;dbl&gt;</th><th scope=col>&lt;dbl&gt;</th></tr>\n",
       "</thead>\n",
       "<tbody>\n",
       "\t<tr><td>1   </td><td>95  </td><td> 5</td><td>55</td></tr>\n",
       "\t<tr><td>2   </td><td>95  </td><td> 7</td><td>77</td></tr>\n",
       "\t<tr><td>1   </td><td>99  </td><td> 5</td><td>55</td></tr>\n",
       "\t<tr><td>2   </td><td>99  </td><td>NA</td><td>NA</td></tr>\n",
       "\t<tr><td>big </td><td>damp</td><td> 3</td><td>33</td></tr>\n",
       "\t<tr><td>blue</td><td>dry </td><td> 3</td><td>33</td></tr>\n",
       "\t<tr><td>red </td><td>red </td><td> 4</td><td>44</td></tr>\n",
       "\t<tr><td>red </td><td>wet </td><td> 1</td><td>11</td></tr>\n",
       "</tbody>\n",
       "</table>\n"
      ],
      "text/latex": [
       "A data.frame: 8 × 4\n",
       "\\begin{tabular}{llll}\n",
       " Group.1 & Group.2 & v1 & v2\\\\\n",
       " <chr> & <chr> & <dbl> & <dbl>\\\\\n",
       "\\hline\n",
       "\t 1    & 95   &  5 & 55\\\\\n",
       "\t 2    & 95   &  7 & 77\\\\\n",
       "\t 1    & 99   &  5 & 55\\\\\n",
       "\t 2    & 99   & NA & NA\\\\\n",
       "\t big  & damp &  3 & 33\\\\\n",
       "\t blue & dry  &  3 & 33\\\\\n",
       "\t red  & red  &  4 & 44\\\\\n",
       "\t red  & wet  &  1 & 11\\\\\n",
       "\\end{tabular}\n"
      ],
      "text/markdown": [
       "\n",
       "A data.frame: 8 × 4\n",
       "\n",
       "| Group.1 &lt;chr&gt; | Group.2 &lt;chr&gt; | v1 &lt;dbl&gt; | v2 &lt;dbl&gt; |\n",
       "|---|---|---|---|\n",
       "| 1    | 95   |  5 | 55 |\n",
       "| 2    | 95   |  7 | 77 |\n",
       "| 1    | 99   |  5 | 55 |\n",
       "| 2    | 99   | NA | NA |\n",
       "| big  | damp |  3 | 33 |\n",
       "| blue | dry  |  3 | 33 |\n",
       "| red  | red  |  4 | 44 |\n",
       "| red  | wet  |  1 | 11 |\n",
       "\n"
      ],
      "text/plain": [
       "  Group.1 Group.2 v1 v2\n",
       "1 1       95       5 55\n",
       "2 2       95       7 77\n",
       "3 1       99       5 55\n",
       "4 2       99      NA NA\n",
       "5 big     damp     3 33\n",
       "6 blue    dry      3 33\n",
       "7 red     red      4 44\n",
       "8 red     wet      1 11"
      ]
     },
     "metadata": {},
     "output_type": "display_data"
    },
    {
     "data": {
      "text/html": [
       "<table class=\"dataframe\">\n",
       "<caption>A data.frame: 10 × 4</caption>\n",
       "<thead>\n",
       "\t<tr><th scope=col>Group.1</th><th scope=col>Group.2</th><th scope=col>v1</th><th scope=col>v2</th></tr>\n",
       "\t<tr><th scope=col>&lt;fct&gt;</th><th scope=col>&lt;fct&gt;</th><th scope=col>&lt;dbl&gt;</th><th scope=col>&lt;dbl&gt;</th></tr>\n",
       "</thead>\n",
       "<tbody>\n",
       "\t<tr><td>1   </td><td>95  </td><td>5.0</td><td>55.0</td></tr>\n",
       "\t<tr><td>2   </td><td>95  </td><td>7.0</td><td>77.0</td></tr>\n",
       "\t<tr><td>1   </td><td>99  </td><td>5.0</td><td>55.0</td></tr>\n",
       "\t<tr><td>2   </td><td>99  </td><td> NA</td><td>  NA</td></tr>\n",
       "\t<tr><td>big </td><td>damp</td><td>3.0</td><td>33.0</td></tr>\n",
       "\t<tr><td>blue</td><td>dry </td><td>3.0</td><td>33.0</td></tr>\n",
       "\t<tr><td>red </td><td>red </td><td>4.0</td><td>44.0</td></tr>\n",
       "\t<tr><td>red </td><td>wet </td><td>1.0</td><td>11.0</td></tr>\n",
       "\t<tr><td>12  </td><td>NA  </td><td>9.0</td><td>99.0</td></tr>\n",
       "\t<tr><td>NA  </td><td>NA  </td><td>7.5</td><td>82.5</td></tr>\n",
       "</tbody>\n",
       "</table>\n"
      ],
      "text/latex": [
       "A data.frame: 10 × 4\n",
       "\\begin{tabular}{llll}\n",
       " Group.1 & Group.2 & v1 & v2\\\\\n",
       " <fct> & <fct> & <dbl> & <dbl>\\\\\n",
       "\\hline\n",
       "\t 1    & 95   & 5.0 & 55.0\\\\\n",
       "\t 2    & 95   & 7.0 & 77.0\\\\\n",
       "\t 1    & 99   & 5.0 & 55.0\\\\\n",
       "\t 2    & 99   &  NA &   NA\\\\\n",
       "\t big  & damp & 3.0 & 33.0\\\\\n",
       "\t blue & dry  & 3.0 & 33.0\\\\\n",
       "\t red  & red  & 4.0 & 44.0\\\\\n",
       "\t red  & wet  & 1.0 & 11.0\\\\\n",
       "\t 12   & NA   & 9.0 & 99.0\\\\\n",
       "\t NA   & NA   & 7.5 & 82.5\\\\\n",
       "\\end{tabular}\n"
      ],
      "text/markdown": [
       "\n",
       "A data.frame: 10 × 4\n",
       "\n",
       "| Group.1 &lt;fct&gt; | Group.2 &lt;fct&gt; | v1 &lt;dbl&gt; | v2 &lt;dbl&gt; |\n",
       "|---|---|---|---|\n",
       "| 1    | 95   | 5.0 | 55.0 |\n",
       "| 2    | 95   | 7.0 | 77.0 |\n",
       "| 1    | 99   | 5.0 | 55.0 |\n",
       "| 2    | 99   |  NA |   NA |\n",
       "| big  | damp | 3.0 | 33.0 |\n",
       "| blue | dry  | 3.0 | 33.0 |\n",
       "| red  | red  | 4.0 | 44.0 |\n",
       "| red  | wet  | 1.0 | 11.0 |\n",
       "| 12   | NA   | 9.0 | 99.0 |\n",
       "| NA   | NA   | 7.5 | 82.5 |\n",
       "\n"
      ],
      "text/plain": [
       "   Group.1 Group.2 v1  v2  \n",
       "1  1       95      5.0 55.0\n",
       "2  2       95      7.0 77.0\n",
       "3  1       99      5.0 55.0\n",
       "4  2       99       NA   NA\n",
       "5  big     damp    3.0 33.0\n",
       "6  blue    dry     3.0 33.0\n",
       "7  red     red     4.0 44.0\n",
       "8  red     wet     1.0 11.0\n",
       "9  12      NA      9.0 99.0\n",
       "10 NA      NA      7.5 82.5"
      ]
     },
     "metadata": {},
     "output_type": "display_data"
    }
   ],
   "source": [
    "# https://www.rdocumentation.org/packages/stats/versions/3.6.2/topics/aggregate\n",
    "\n",
    "## example with character variables and NAs\n",
    "testDF <- data.frame(v1 = c(1,3,5,7,8,3,5,NA,4,5,7,9),\n",
    "                     v2 = c(11,33,55,77,88,33,55,NA,44,55,77,99) )\n",
    "by1 <- c(\"red\", \"blue\", 1, 2, NA, \"big\", 1, 2, \"red\", 1, NA, 12)\n",
    "by2 <- c(\"wet\", \"dry\", 99, 95, NA, \"damp\", 95, 99, \"red\", 99, NA, NA)\n",
    "aggregate(x = testDF, by = list(by1, by2), FUN = \"mean\")\n",
    "\n",
    "# and if you want to treat NAs as a group\n",
    "fby1 <- factor(by1, exclude = \"\")\n",
    "fby2 <- factor(by2, exclude = \"\")\n",
    "aggregate(x = testDF, by = list(fby1, fby2), FUN = \"mean\")"
   ]
  },
  {
   "cell_type": "code",
   "execution_count": null,
   "id": "3bee8e64-3635-40bf-83f7-956acea84f61",
   "metadata": {},
   "outputs": [],
   "source": []
  },
  {
   "cell_type": "code",
   "execution_count": 7,
   "id": "de19a564-d7d5-4546-a542-81ad62010de0",
   "metadata": {},
   "outputs": [
    {
     "data": {
      "text/html": [
       "<style>\n",
       ".list-inline {list-style: none; margin:0; padding: 0}\n",
       ".list-inline>li {display: inline-block}\n",
       ".list-inline>li:not(:last-child)::after {content: \"\\00b7\"; padding: 0 .5ex}\n",
       "</style>\n",
       "<ol class=list-inline><li>-44</li><li>31</li><li>-40</li><li>47</li></ol>\n"
      ],
      "text/latex": [
       "\\begin{enumerate*}\n",
       "\\item -44\n",
       "\\item 31\n",
       "\\item -40\n",
       "\\item 47\n",
       "\\end{enumerate*}\n"
      ],
      "text/markdown": [
       "1. -44\n",
       "2. 31\n",
       "3. -40\n",
       "4. 47\n",
       "\n",
       "\n"
      ],
      "text/plain": [
       "[1] -44  31 -40  47"
      ]
     },
     "metadata": {},
     "output_type": "display_data"
    },
    {
     "data": {
      "text/html": [
       "<style>\n",
       ".list-inline {list-style: none; margin:0; padding: 0}\n",
       ".list-inline>li {display: inline-block}\n",
       ".list-inline>li:not(:last-child)::after {content: \"\\00b7\"; padding: 0 .5ex}\n",
       "</style>\n",
       "<ol class=list-inline><li>-0.579818495252942</li><li>0.440556427919434</li><li>-0.615760516944525</li><li>0.693147180559945</li></ol>\n"
      ],
      "text/latex": [
       "\\begin{enumerate*}\n",
       "\\item -0.579818495252942\n",
       "\\item 0.440556427919434\n",
       "\\item -0.615760516944525\n",
       "\\item 0.693147180559945\n",
       "\\end{enumerate*}\n"
      ],
      "text/markdown": [
       "1. -0.579818495252942\n",
       "2. 0.440556427919434\n",
       "3. -0.615760516944525\n",
       "4. 0.693147180559945\n",
       "\n",
       "\n"
      ],
      "text/plain": [
       "[1] -0.5798185  0.4405564 -0.6157605  0.6931472"
      ]
     },
     "metadata": {},
     "output_type": "display_data"
    }
   ],
   "source": [
    "# Calculating log returns\n",
    "p = c(100,56,87,47,94)\n",
    "\n",
    "# rt = c(NA,log(p[-1]/p))\n",
    "\n",
    "# mat = cbind(p,rt)\n",
    "# mat = mat[-nrow(mat),]\n",
    "\n",
    "# lg_rt = sum(mat[,2], na.rm=TRUE)\n",
    "# lg_rt\n",
    "\n",
    "lg_rt = diff(log(p))\n",
    "lg_rt"
   ]
  },
  {
   "cell_type": "code",
   "execution_count": 6,
   "id": "6fc73db4-1086-4eca-b244-1943c53adffd",
   "metadata": {},
   "outputs": [
    {
     "data": {
      "text/html": [
       "100"
      ],
      "text/latex": [
       "100"
      ],
      "text/markdown": [
       "100"
      ],
      "text/plain": [
       "[1] 100"
      ]
     },
     "metadata": {},
     "output_type": "display_data"
    }
   ],
   "source": [
    "94*exp(-sum(lg_rt))"
   ]
  },
  {
   "cell_type": "code",
   "execution_count": null,
   "id": "c9652183-e68d-46c0-8052-c929f35f2d59",
   "metadata": {},
   "outputs": [],
   "source": [
    "{\n",
    "  \"$schema\": \"https://vega.github.io/schema/vega-lite/v5.json\",\n",
    "  \"description\": \"A scatterplot showing horsepower and miles per gallons for various cars.\",\n",
    "  \"width\": 400,\n",
    "  \"height\": 400,\n",
    "  \"data\": {\"url\": \"data/cars.json\"},\n",
    "  \"layer\": [\n",
    "    {\n",
    "      \"mark\": {\"type\": \"errorband\", \"extent\": \"stdev\", \"opacity\": 0.15},\n",
    "      \"encoding\": {\n",
    "        \"y\": {\n",
    "          \"field\": \"Miles_per_Gallon\",\n",
    "          \"type\": \"quantitative\",\n",
    "          \"title\": \"Miles per Gallon\"\n",
    "        }\n",
    "      }\n",
    "    },\n",
    "    {\n",
    "      \"mark\": {\"type\": \"errorband\", \"extent\": \"stdev\", \"opacity\": 0.15},\n",
    "      \"encoding\": {\n",
    "        \"x\": {\n",
    "          \"field\": \"Horsepower\",\n",
    "          \"type\": \"quantitative\",\n",
    "          \"title\": \"Horsepower\"\n",
    "        }\n",
    "      }\n",
    "    },\n",
    "    {\n",
    "      \"mark\": \"rule\",\n",
    "      \"encoding\": {\n",
    "        \"y\": {\n",
    "          \"field\": \"Miles_per_Gallon\",\n",
    "          \"type\": \"quantitative\",\n",
    "          \"aggregate\": \"mean\"\n",
    "        },\n",
    "        \"color\": {\"value\": \"maroon\"}\n",
    "      }\n",
    "    },\n",
    "    {\n",
    "      \"mark\": \"rule\",\n",
    "      \"encoding\": {\n",
    "        \"x\": {\n",
    "          \"field\": \"Horsepower\",\n",
    "          \"type\": \"quantitative\",\n",
    "          \"aggregate\": \"mean\"\n",
    "        },\n",
    "        \"color\": {\"value\": \"maroon\"}\n",
    "      }\n",
    "    },\n",
    "    {\n",
    "      \"mark\": {\"type\": \"point\", \"tooltip\": {\"content\": \"data\"}},\n",
    "      \"encoding\": {\n",
    "        \"x\": {\"field\": \"Horsepower\", \"type\": \"quantitative\"},\n",
    "        \"y\": {\"field\": \"Miles_per_Gallon\", \"type\": \"quantitative\"},\n",
    "        \"color\": {\"field\": \"Cylinders\", \"type\": \"nominal\"}\n",
    "      }\n",
    "    }\n",
    "  ]\n",
    "}\n"
   ]
  },
  {
   "cell_type": "code",
   "execution_count": 12,
   "id": "ec29a0ae-c773-49fd-abf0-186de46e8cb8",
   "metadata": {},
   "outputs": [
    {
     "data": {
      "text/html": [
       "<table class=\"dataframe\">\n",
       "<caption>A matrix: 4 × 9 of type chr</caption>\n",
       "<tbody>\n",
       "\t<tr><td>Jan 2020</td><td>May 2020</td><td>Sep 2020</td><td>Jan 2021</td><td>May 2021</td><td>Sep 2021</td><td>Jan 2022</td><td>May 2022</td><td>Sep 2022</td></tr>\n",
       "\t<tr><td>Feb 2020</td><td>Jun 2020</td><td>Oct 2020</td><td>Feb 2021</td><td>Jun 2021</td><td>Oct 2021</td><td>Feb 2022</td><td>Jun 2022</td><td>Oct 2022</td></tr>\n",
       "\t<tr><td>Mar 2020</td><td>Jul 2020</td><td>Nov 2020</td><td>Mar 2021</td><td>Jul 2021</td><td>Nov 2021</td><td>Mar 2022</td><td>Jul 2022</td><td>Nov 2022</td></tr>\n",
       "\t<tr><td>Apr 2020</td><td>Aug 2020</td><td>Dec 2020</td><td>Apr 2021</td><td>Aug 2021</td><td>Dec 2021</td><td>Apr 2022</td><td>Aug 2022</td><td>Dec 2022</td></tr>\n",
       "</tbody>\n",
       "</table>\n"
      ],
      "text/latex": [
       "A matrix: 4 × 9 of type chr\n",
       "\\begin{tabular}{lllllllll}\n",
       "\t Jan 2020 & May 2020 & Sep 2020 & Jan 2021 & May 2021 & Sep 2021 & Jan 2022 & May 2022 & Sep 2022\\\\\n",
       "\t Feb 2020 & Jun 2020 & Oct 2020 & Feb 2021 & Jun 2021 & Oct 2021 & Feb 2022 & Jun 2022 & Oct 2022\\\\\n",
       "\t Mar 2020 & Jul 2020 & Nov 2020 & Mar 2021 & Jul 2021 & Nov 2021 & Mar 2022 & Jul 2022 & Nov 2022\\\\\n",
       "\t Apr 2020 & Aug 2020 & Dec 2020 & Apr 2021 & Aug 2021 & Dec 2021 & Apr 2022 & Aug 2022 & Dec 2022\\\\\n",
       "\\end{tabular}\n"
      ],
      "text/markdown": [
       "\n",
       "A matrix: 4 × 9 of type chr\n",
       "\n",
       "| Jan 2020 | May 2020 | Sep 2020 | Jan 2021 | May 2021 | Sep 2021 | Jan 2022 | May 2022 | Sep 2022 |\n",
       "| Feb 2020 | Jun 2020 | Oct 2020 | Feb 2021 | Jun 2021 | Oct 2021 | Feb 2022 | Jun 2022 | Oct 2022 |\n",
       "| Mar 2020 | Jul 2020 | Nov 2020 | Mar 2021 | Jul 2021 | Nov 2021 | Mar 2022 | Jul 2022 | Nov 2022 |\n",
       "| Apr 2020 | Aug 2020 | Dec 2020 | Apr 2021 | Aug 2021 | Dec 2021 | Apr 2022 | Aug 2022 | Dec 2022 |\n",
       "\n"
      ],
      "text/plain": [
       "     [,1]     [,2]     [,3]     [,4]     [,5]     [,6]     [,7]     [,8]    \n",
       "[1,] Jan 2020 May 2020 Sep 2020 Jan 2021 May 2021 Sep 2021 Jan 2022 May 2022\n",
       "[2,] Feb 2020 Jun 2020 Oct 2020 Feb 2021 Jun 2021 Oct 2021 Feb 2022 Jun 2022\n",
       "[3,] Mar 2020 Jul 2020 Nov 2020 Mar 2021 Jul 2021 Nov 2021 Mar 2022 Jul 2022\n",
       "[4,] Apr 2020 Aug 2020 Dec 2020 Apr 2021 Aug 2021 Dec 2021 Apr 2022 Aug 2022\n",
       "     [,9]    \n",
       "[1,] Sep 2022\n",
       "[2,] Oct 2022\n",
       "[3,] Nov 2022\n",
       "[4,] Dec 2022"
      ]
     },
     "metadata": {},
     "output_type": "display_data"
    }
   ],
   "source": [
    "matrix(outer(month.abb,2020:2022,paste),4)"
   ]
  },
  {
   "cell_type": "code",
   "execution_count": 14,
   "id": "1652d4a5-09e1-4cf2-910f-8e86f67b0772",
   "metadata": {},
   "outputs": [
    {
     "data": {
      "text/html": [
       "<table class=\"dataframe\">\n",
       "<caption>A matrix: 8 × 4 of type chr</caption>\n",
       "<thead>\n",
       "\t<tr><th></th><th scope=col>Eng</th><th scope=col>Chi</th><th scope=col>Mat</th><th scope=col>Sci</th></tr>\n",
       "</thead>\n",
       "<tbody>\n",
       "\t<tr><th scope=row>T1 (20%)</th><td>85  </td><td>62</td><td>95  </td><td>82  </td></tr>\n",
       "\t<tr><th scope=row>T2 (25%)</th><td>74  </td><td>80</td><td>97.5</td><td>86  </td></tr>\n",
       "\t<tr><th scope=row></th><td>78.9</td><td>72</td><td>96.4</td><td>84.2</td></tr>\n",
       "\t<tr><th scope=row>AL1 (90)</th><td>100 </td><td>- </td><td>85  </td><td>95  </td></tr>\n",
       "\t<tr><th scope=row>AL2 (85)</th><td>90  </td><td>96</td><td>76  </td><td>86  </td></tr>\n",
       "\t<tr><th scope=row>AL3 (80)</th><td>81  </td><td>87</td><td>67  </td><td>77  </td></tr>\n",
       "\t<tr><th scope=row>AL4 (75)</th><td>72  </td><td>78</td><td>58  </td><td>68  </td></tr>\n",
       "\t<tr><th scope=row>AL5 (65)</th><td>54  </td><td>60</td><td>40  </td><td>50  </td></tr>\n",
       "</tbody>\n",
       "</table>\n"
      ],
      "text/latex": [
       "A matrix: 8 × 4 of type chr\n",
       "\\begin{tabular}{r|llll}\n",
       "  & Eng & Chi & Mat & Sci\\\\\n",
       "\\hline\n",
       "\tT1 (20\\%) & 85   & 62 & 95   & 82  \\\\\n",
       "\tT2 (25\\%) & 74   & 80 & 97.5 & 86  \\\\\n",
       "\t & 78.9 & 72 & 96.4 & 84.2\\\\\n",
       "\tAL1 (90) & 100  & -  & 85   & 95  \\\\\n",
       "\tAL2 (85) & 90   & 96 & 76   & 86  \\\\\n",
       "\tAL3 (80) & 81   & 87 & 67   & 77  \\\\\n",
       "\tAL4 (75) & 72   & 78 & 58   & 68  \\\\\n",
       "\tAL5 (65) & 54   & 60 & 40   & 50  \\\\\n",
       "\\end{tabular}\n"
      ],
      "text/markdown": [
       "\n",
       "A matrix: 8 × 4 of type chr\n",
       "\n",
       "| <!--/--> | Eng | Chi | Mat | Sci |\n",
       "|---|---|---|---|---|\n",
       "| T1 (20%) | 85   | 62 | 95   | 82   |\n",
       "| T2 (25%) | 74   | 80 | 97.5 | 86   |\n",
       "| <!----> | 78.9 | 72 | 96.4 | 84.2 |\n",
       "| AL1 (90) | 100  | -  | 85   | 95   |\n",
       "| AL2 (85) | 90   | 96 | 76   | 86   |\n",
       "| AL3 (80) | 81   | 87 | 67   | 77   |\n",
       "| AL4 (75) | 72   | 78 | 58   | 68   |\n",
       "| AL5 (65) | 54   | 60 | 40   | 50   |\n",
       "\n"
      ],
      "text/plain": [
       "         Eng  Chi Mat  Sci \n",
       "T1 (20%) 85   62  95   82  \n",
       "T2 (25%) 74   80  97.5 86  \n",
       "         78.9 72  96.4 84.2\n",
       "AL1 (90) 100  -   85   95  \n",
       "AL2 (85) 90   96  76   86  \n",
       "AL3 (80) 81   87  67   77  \n",
       "AL4 (75) 72   78  58   68  \n",
       "AL5 (65) 54   60  40   50  "
      ]
     },
     "metadata": {},
     "output_type": "display_data"
    }
   ],
   "source": [
    "# Target Setting\n",
    "Eng = c(85,74)\n",
    "Chi = c(62,80)\n",
    "Mat = c(95,97.5)\n",
    "Sci = c(82,86)\n",
    "scores = cbind(Eng, Chi, Mat, Sci)\n",
    "\n",
    "w = c(T1=.2,T2=.25) #,T3=.2,T4=.25)\n",
    "\n",
    "t = c(AL1=90,AL2=85,AL3=80,AL4=75,AL5=65)\n",
    "# t = c(A=75,B=70,C=65,D=60,E=50)\n",
    "\n",
    "\n",
    "\n",
    "# DO NOT CHANGE ANY LINES BELOW\n",
    "# ------------------------------\n",
    "targets = setNames(t,paste(names(t),' (',t,')',sep=''))\n",
    "weights = paste(names(w),' (',w*100,'%)', sep='')\n",
    "rownames(scores) = weights[1:length(w)]\n",
    "current = colSums(scores *w)\n",
    "\n",
    "projection = function (tgt, cur) {\n",
    "    output = ceiling( (tgt -cur) /(1-sum(w)) )\n",
    "    return(output)\n",
    "    }\n",
    "\n",
    "projections = outer(targets, current, projection)\n",
    "\n",
    "output = rbind(round(scores, 1), round(current/sum(w), 1))\n",
    "if (sum(w)<1) output = rbind(output, projections)\n",
    "output = replace(output, output>100, \"-\")\n",
    "output"
   ]
  },
  {
   "cell_type": "code",
   "execution_count": 36,
   "id": "b0056647-43e9-413c-88b9-9382edbc0057",
   "metadata": {},
   "outputs": [
    {
     "data": {
      "text/html": [
       "<table class=\"dataframe\">\n",
       "<caption>A matrix: 2 × 4 of type dbl</caption>\n",
       "<tbody>\n",
       "\t<tr><th scope=row>T1</th><td>0.20</td><td>0.20</td><td>0.20</td><td>0.20</td></tr>\n",
       "\t<tr><th scope=row>T2</th><td>0.25</td><td>0.25</td><td>0.25</td><td>0.25</td></tr>\n",
       "</tbody>\n",
       "</table>\n"
      ],
      "text/latex": [
       "A matrix: 2 × 4 of type dbl\n",
       "\\begin{tabular}{r|llll}\n",
       "\tT1 & 0.20 & 0.20 & 0.20 & 0.20\\\\\n",
       "\tT2 & 0.25 & 0.25 & 0.25 & 0.25\\\\\n",
       "\\end{tabular}\n"
      ],
      "text/markdown": [
       "\n",
       "A matrix: 2 × 4 of type dbl\n",
       "\n",
       "| T1 | 0.20 | 0.20 | 0.20 | 0.20 |\n",
       "| T2 | 0.25 | 0.25 | 0.25 | 0.25 |\n",
       "\n"
      ],
      "text/plain": [
       "   [,1] [,2] [,3] [,4]\n",
       "T1 0.20 0.20 0.20 0.20\n",
       "T2 0.25 0.25 0.25 0.25"
      ]
     },
     "metadata": {},
     "output_type": "display_data"
    }
   ],
   "source": [
    "w = rbind(T1=c(.2),T2=c(.25))\n",
    "w = cbind(w,w,w,w)\n",
    "w"
   ]
  },
  {
   "cell_type": "code",
   "execution_count": 31,
   "id": "f4af0a4b-5e3c-4f64-9d1e-0915f4797df5",
   "metadata": {},
   "outputs": [
    {
     "data": {
      "text/html": [
       "<table class=\"dataframe\">\n",
       "<caption>A matrix: 2 × 4 of type dbl</caption>\n",
       "<thead>\n",
       "\t<tr><th></th><th scope=col>Eng</th><th scope=col>Chi</th><th scope=col>Mat</th><th scope=col>Sci</th></tr>\n",
       "</thead>\n",
       "<tbody>\n",
       "\t<tr><th scope=row>T1 (20%)</th><td>85</td><td>62</td><td>95.0</td><td>82</td></tr>\n",
       "\t<tr><th scope=row>T2 (25%)</th><td>74</td><td>80</td><td>97.5</td><td>86</td></tr>\n",
       "</tbody>\n",
       "</table>\n"
      ],
      "text/latex": [
       "A matrix: 2 × 4 of type dbl\n",
       "\\begin{tabular}{r|llll}\n",
       "  & Eng & Chi & Mat & Sci\\\\\n",
       "\\hline\n",
       "\tT1 (20\\%) & 85 & 62 & 95.0 & 82\\\\\n",
       "\tT2 (25\\%) & 74 & 80 & 97.5 & 86\\\\\n",
       "\\end{tabular}\n"
      ],
      "text/markdown": [
       "\n",
       "A matrix: 2 × 4 of type dbl\n",
       "\n",
       "| <!--/--> | Eng | Chi | Mat | Sci |\n",
       "|---|---|---|---|---|\n",
       "| T1 (20%) | 85 | 62 | 95.0 | 82 |\n",
       "| T2 (25%) | 74 | 80 | 97.5 | 86 |\n",
       "\n"
      ],
      "text/plain": [
       "         Eng Chi Mat  Sci\n",
       "T1 (20%) 85  62  95.0 82 \n",
       "T2 (25%) 74  80  97.5 86 "
      ]
     },
     "metadata": {},
     "output_type": "display_data"
    }
   ],
   "source": [
    "scores"
   ]
  },
  {
   "cell_type": "code",
   "execution_count": 32,
   "id": "be1ffb62-0dd4-4113-a6cf-b15c7fab7a4f",
   "metadata": {},
   "outputs": [
    {
     "data": {
      "text/html": [
       "<table class=\"dataframe\">\n",
       "<caption>A matrix: 2 × 4 of type dbl</caption>\n",
       "<thead>\n",
       "\t<tr><th></th><th scope=col>Eng</th><th scope=col>Chi</th><th scope=col>Mat</th><th scope=col>Sci</th></tr>\n",
       "</thead>\n",
       "<tbody>\n",
       "\t<tr><th scope=row>T1 (20%)</th><td>17.0</td><td>12.4</td><td>19.000</td><td>16.4</td></tr>\n",
       "\t<tr><th scope=row>T2 (25%)</th><td>18.5</td><td>20.0</td><td>24.375</td><td>21.5</td></tr>\n",
       "</tbody>\n",
       "</table>\n"
      ],
      "text/latex": [
       "A matrix: 2 × 4 of type dbl\n",
       "\\begin{tabular}{r|llll}\n",
       "  & Eng & Chi & Mat & Sci\\\\\n",
       "\\hline\n",
       "\tT1 (20\\%) & 17.0 & 12.4 & 19.000 & 16.4\\\\\n",
       "\tT2 (25\\%) & 18.5 & 20.0 & 24.375 & 21.5\\\\\n",
       "\\end{tabular}\n"
      ],
      "text/markdown": [
       "\n",
       "A matrix: 2 × 4 of type dbl\n",
       "\n",
       "| <!--/--> | Eng | Chi | Mat | Sci |\n",
       "|---|---|---|---|---|\n",
       "| T1 (20%) | 17.0 | 12.4 | 19.000 | 16.4 |\n",
       "| T2 (25%) | 18.5 | 20.0 | 24.375 | 21.5 |\n",
       "\n"
      ],
      "text/plain": [
       "         Eng  Chi  Mat    Sci \n",
       "T1 (20%) 17.0 12.4 19.000 16.4\n",
       "T2 (25%) 18.5 20.0 24.375 21.5"
      ]
     },
     "metadata": {},
     "output_type": "display_data"
    }
   ],
   "source": [
    "scores*w"
   ]
  },
  {
   "cell_type": "code",
   "execution_count": null,
   "id": "9d6b5abb-2052-4d79-a2b3-b2b77a6a81e2",
   "metadata": {},
   "outputs": [],
   "source": []
  },
  {
   "cell_type": "code",
   "execution_count": null,
   "id": "bcfe2d3c-e89a-40b4-9aa5-b4da641540c2",
   "metadata": {},
   "outputs": [],
   "source": []
  },
  {
   "cell_type": "code",
   "execution_count": null,
   "id": "501de53b-256d-48d1-8cfc-b6f658976348",
   "metadata": {},
   "outputs": [],
   "source": []
  },
  {
   "cell_type": "code",
   "execution_count": null,
   "id": "07f896fa-7f16-4fdf-90e4-18dd41085173",
   "metadata": {},
   "outputs": [],
   "source": []
  },
  {
   "cell_type": "code",
   "execution_count": null,
   "id": "5abf0521-4bb6-43f5-9ced-8ed26e8bab06",
   "metadata": {},
   "outputs": [],
   "source": []
  },
  {
   "cell_type": "code",
   "execution_count": null,
   "id": "345b7aad-9ca9-426a-9b96-8171e2ebd0b9",
   "metadata": {},
   "outputs": [],
   "source": []
  },
  {
   "cell_type": "code",
   "execution_count": null,
   "id": "7e147c3e-d9b5-4715-9968-caee56a057c0",
   "metadata": {},
   "outputs": [],
   "source": []
  },
  {
   "cell_type": "code",
   "execution_count": null,
   "id": "f261d9f2-b905-4691-9f53-4ac9f013e988",
   "metadata": {},
   "outputs": [],
   "source": []
  },
  {
   "cell_type": "code",
   "execution_count": null,
   "id": "d6da9360-40b3-4605-9830-561ea0ac8732",
   "metadata": {},
   "outputs": [],
   "source": []
  },
  {
   "cell_type": "code",
   "execution_count": null,
   "id": "49292706-e665-4f3d-af77-b71ec9423370",
   "metadata": {},
   "outputs": [],
   "source": []
  },
  {
   "cell_type": "code",
   "execution_count": null,
   "id": "34eb8bf1-8571-4ac8-a238-c372a571ad91",
   "metadata": {},
   "outputs": [],
   "source": []
  },
  {
   "cell_type": "code",
   "execution_count": null,
   "id": "d2e5f926-f6bd-4c0b-8309-7f95043228dc",
   "metadata": {},
   "outputs": [],
   "source": []
  },
  {
   "cell_type": "code",
   "execution_count": null,
   "id": "4bbb8fda-48e1-44b5-9458-28d6b219b50d",
   "metadata": {},
   "outputs": [],
   "source": []
  },
  {
   "cell_type": "code",
   "execution_count": null,
   "id": "dbcbe1c1-0f86-44e0-9e28-5693884fc5e0",
   "metadata": {},
   "outputs": [],
   "source": []
  },
  {
   "cell_type": "code",
   "execution_count": null,
   "id": "c8f3a581-aadc-4cb0-ad0b-1ba30f925653",
   "metadata": {},
   "outputs": [],
   "source": []
  },
  {
   "cell_type": "code",
   "execution_count": null,
   "id": "424b943f-a54c-410d-aa87-06382546bf78",
   "metadata": {},
   "outputs": [],
   "source": []
  },
  {
   "cell_type": "code",
   "execution_count": null,
   "id": "39b9ffc0-6952-4bb3-9bca-ef38f93643f0",
   "metadata": {},
   "outputs": [],
   "source": []
  },
  {
   "cell_type": "code",
   "execution_count": null,
   "id": "cbe17136-23ee-4af0-8d4d-4c1fe554b4c5",
   "metadata": {},
   "outputs": [],
   "source": []
  },
  {
   "cell_type": "code",
   "execution_count": null,
   "id": "2ea69c17-992b-4a8f-8837-1fb53452effd",
   "metadata": {},
   "outputs": [],
   "source": []
  },
  {
   "cell_type": "code",
   "execution_count": null,
   "id": "d1d9a489-5258-49b9-8fc4-8fb0937462d5",
   "metadata": {},
   "outputs": [],
   "source": []
  },
  {
   "cell_type": "code",
   "execution_count": null,
   "id": "57675ef7-c018-4a16-a9c5-008927b5838e",
   "metadata": {},
   "outputs": [],
   "source": []
  },
  {
   "cell_type": "code",
   "execution_count": null,
   "id": "507a3357-83af-49a3-a04b-bc09c227807c",
   "metadata": {},
   "outputs": [],
   "source": []
  },
  {
   "cell_type": "code",
   "execution_count": null,
   "id": "6547b649-a8cc-4b50-b2e8-e9dfbe2a4810",
   "metadata": {},
   "outputs": [],
   "source": []
  },
  {
   "cell_type": "code",
   "execution_count": null,
   "id": "62edc10f-52f7-4da0-be6a-0780005ea6f2",
   "metadata": {},
   "outputs": [],
   "source": []
  },
  {
   "cell_type": "code",
   "execution_count": null,
   "id": "84a58860-6a55-4c71-a5bc-544185c5bf11",
   "metadata": {},
   "outputs": [],
   "source": []
  },
  {
   "cell_type": "code",
   "execution_count": null,
   "id": "8d2e64cd-f5be-4e59-8b41-005f653a9768",
   "metadata": {},
   "outputs": [],
   "source": []
  },
  {
   "cell_type": "code",
   "execution_count": null,
   "id": "deba33ff-e916-46b5-9d52-9de0ba60cb4c",
   "metadata": {},
   "outputs": [],
   "source": []
  },
  {
   "cell_type": "code",
   "execution_count": null,
   "id": "09952414-0700-483c-8f7f-106a5c638391",
   "metadata": {},
   "outputs": [],
   "source": []
  },
  {
   "cell_type": "code",
   "execution_count": null,
   "id": "ad4d501f-dc83-4c74-bdd6-3372965affc9",
   "metadata": {},
   "outputs": [],
   "source": []
  },
  {
   "cell_type": "code",
   "execution_count": null,
   "id": "c3a0afdf-9c0c-4b2b-b298-9c87b50922d6",
   "metadata": {},
   "outputs": [],
   "source": []
  },
  {
   "cell_type": "code",
   "execution_count": null,
   "id": "47eabc3c-1d57-40fd-949f-5b0c6625aabd",
   "metadata": {},
   "outputs": [],
   "source": []
  },
  {
   "cell_type": "code",
   "execution_count": null,
   "id": "915f277b-6ee0-4ab8-a227-de9cc1eb9e2c",
   "metadata": {},
   "outputs": [],
   "source": []
  },
  {
   "cell_type": "code",
   "execution_count": null,
   "id": "5143d212-f8ef-4e2d-9535-a2dbda246cc9",
   "metadata": {},
   "outputs": [],
   "source": []
  },
  {
   "cell_type": "code",
   "execution_count": null,
   "id": "035c1b9a-26b2-4d03-95c6-fa3e27e58a52",
   "metadata": {},
   "outputs": [],
   "source": []
  },
  {
   "cell_type": "code",
   "execution_count": null,
   "id": "38ef42d3-035e-47cd-a614-d6e6a78dc138",
   "metadata": {},
   "outputs": [],
   "source": []
  },
  {
   "cell_type": "code",
   "execution_count": null,
   "id": "fa8bccc0-8c08-431e-ad0a-8491433c93f0",
   "metadata": {},
   "outputs": [],
   "source": []
  },
  {
   "cell_type": "code",
   "execution_count": null,
   "id": "894aacde-5952-47b0-ac51-abb3598a89d0",
   "metadata": {},
   "outputs": [],
   "source": []
  },
  {
   "cell_type": "code",
   "execution_count": null,
   "id": "1584ef83-9126-4688-ad11-964e6aca25d6",
   "metadata": {},
   "outputs": [],
   "source": []
  },
  {
   "cell_type": "code",
   "execution_count": null,
   "id": "7de80b02-1de6-4665-8aa0-3c35b1468459",
   "metadata": {},
   "outputs": [],
   "source": []
  },
  {
   "cell_type": "code",
   "execution_count": null,
   "id": "777e973a-8c9d-4b35-8dc6-4c35a890dd06",
   "metadata": {},
   "outputs": [],
   "source": []
  },
  {
   "cell_type": "code",
   "execution_count": null,
   "id": "73238630-ba86-476d-aab5-f6a89f1c6a42",
   "metadata": {},
   "outputs": [],
   "source": []
  },
  {
   "cell_type": "code",
   "execution_count": null,
   "id": "bdd6e8c3-e747-4cdc-90db-c0caec0bd5f9",
   "metadata": {},
   "outputs": [],
   "source": []
  },
  {
   "cell_type": "code",
   "execution_count": null,
   "id": "404e177f-aadf-4708-930d-facfddca2486",
   "metadata": {},
   "outputs": [],
   "source": []
  },
  {
   "cell_type": "code",
   "execution_count": null,
   "id": "8b09c2ec-32c8-4fa7-95fd-d1e871ef6652",
   "metadata": {},
   "outputs": [],
   "source": []
  },
  {
   "cell_type": "code",
   "execution_count": null,
   "id": "f5dd725d-1345-4614-8ac6-03608606966f",
   "metadata": {},
   "outputs": [],
   "source": []
  },
  {
   "cell_type": "code",
   "execution_count": null,
   "id": "97de4507-5e0e-4047-b252-45160f2eb25f",
   "metadata": {},
   "outputs": [],
   "source": []
  },
  {
   "cell_type": "code",
   "execution_count": null,
   "id": "f30861e6-b2fe-4675-ad28-d50ce9099d44",
   "metadata": {},
   "outputs": [],
   "source": []
  }
 ],
 "metadata": {
  "kernelspec": {
   "display_name": "R (system-wide)",
   "language": "r",
   "name": "ir"
  },
  "language_info": {
   "codemirror_mode": "r",
   "file_extension": ".r",
   "mimetype": "text/x-r-source",
   "name": "R",
   "pygments_lexer": "r",
   "version": "4.2.2"
  }
 },
 "nbformat": 4,
 "nbformat_minor": 5
}
