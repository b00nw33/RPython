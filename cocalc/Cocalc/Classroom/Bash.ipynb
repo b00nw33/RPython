{
 "cells": [
  {
   "cell_type": "markdown",
   "id": "3833c996-86e3-4790-b1ee-b59b8d655fa5",
   "metadata": {},
   "source": [
    "<img src=\"https://www.linuxjournal.com/sites/default/files/styles/850x500/public/nodeimage/story/Gnu-bash-logo_1.png?itok=wo5hwOTn\" alt=\"drawing\" width=\"300\"/>"
   ]
  },
  {
   "cell_type": "code",
   "execution_count": 1,
   "id": "deddc4d7-95a0-4934-89da-0a0d3e44354d",
   "metadata": {},
   "outputs": [
    {
     "name": "stdout",
     "output_type": "stream",
     "text": [
      "GNU bash, version 5.0.17(1)-release (x86_64-pc-linux-gnu)\n",
      "Copyright (C) 2019 Free Software Foundation, Inc.\n",
      "License GPLv3+: GNU GPL version 3 or later <http://gnu.org/licenses/gpl.html>\n",
      "\n",
      "This is free software; you are free to change and redistribute it.\n",
      "There is NO WARRANTY, to the extent permitted by law.\n"
     ]
    }
   ],
   "source": [
    "bash --version"
   ]
  },
  {
   "cell_type": "code",
   "execution_count": 2,
   "id": "2172f4a6-9383-4838-887f-e0bc133f7d66",
   "metadata": {},
   "outputs": [
    {
     "name": "stdout",
     "output_type": "stream",
     "text": [
      "    PID TTY          TIME CMD\n",
      "    339 pts/0    00:00:00 bash\n",
      "    429 pts/0    00:00:00 ps\n"
     ]
    }
   ],
   "source": [
    "ps"
   ]
  },
  {
   "cell_type": "code",
   "execution_count": 3,
   "id": "f705d684-60c6-432b-b23f-7224900d92a7",
   "metadata": {},
   "outputs": [
    {
     "name": "stdout",
     "output_type": "stream",
     "text": [
      "clear is /usr/bin/clear\n"
     ]
    }
   ],
   "source": [
    "type clear"
   ]
  },
  {
   "cell_type": "code",
   "execution_count": 4,
   "id": "5646c4fe-1226-41dd-bc07-ae09363c605e",
   "metadata": {},
   "outputs": [
    {
     "name": "stdout",
     "output_type": "stream",
     "text": [
      "exit is a shell builtin\n"
     ]
    }
   ],
   "source": [
    "type exit"
   ]
  },
  {
   "cell_type": "code",
   "execution_count": 5,
   "id": "e3319811-2ab9-4b63-af8f-387a2fef1809",
   "metadata": {},
   "outputs": [
    {
     "name": "stdout",
     "output_type": "stream",
     "text": [
      "bash: type: nosuchcommand: not found\n"
     ]
    },
    {
     "ename": "",
     "evalue": "1",
     "output_type": "error",
     "traceback": []
    }
   ],
   "source": [
    "type nosuchcommand"
   ]
  },
  {
   "cell_type": "code",
   "execution_count": 6,
   "id": "f3bf746e-34ff-483a-8cc9-d26c0878277b",
   "metadata": {},
   "outputs": [
    {
     "name": "stdout",
     "output_type": "stream",
     "text": [
      "/bin/bash\n"
     ]
    }
   ],
   "source": [
    "echo $SHELL"
   ]
  },
  {
   "cell_type": "code",
   "execution_count": 7,
   "id": "303a6192-ebfe-492a-ac1a-d1d39897cacb",
   "metadata": {},
   "outputs": [
    {
     "name": "stdout",
     "output_type": "stream",
     "text": [
      "5.0.17(1)-release\n"
     ]
    }
   ],
   "source": [
    "echo $BASH_VERSION"
   ]
  },
  {
   "cell_type": "code",
   "execution_count": 8,
   "id": "002cffbb-176b-4933-87de-0b27174ba33a",
   "metadata": {},
   "outputs": [
    {
     "name": "stdout",
     "output_type": "stream",
     "text": [
      "/cocalc/bin:/cocalc/src/smc-project/bin:/home/user/bin:/home/user/.local/bin:/ext/bin:/usr/lib/xpra:/opt/ghc/bin:/usr/local/sbin:/usr/local/bin:/usr/sbin:/usr/bin:/sbin:/bin:/ext/data/homer/bin:/ext/data/weblogo:/usr/lib/postgresql/10/bin\n"
     ]
    }
   ],
   "source": [
    "echo $PATH"
   ]
  },
  {
   "cell_type": "code",
   "execution_count": 9,
   "id": "6b6cbbfa-e6e4-415c-b6be-8f5fe99e7878",
   "metadata": {},
   "outputs": [
    {
     "name": "stdout",
     "output_type": "stream",
     "text": [
      "/home/user/Classroom\n"
     ]
    }
   ],
   "source": [
    "pwd"
   ]
  },
  {
   "cell_type": "code",
   "execution_count": 10,
   "id": "b83b57ca-fb64-4919-9f40-f7522ad9d575",
   "metadata": {},
   "outputs": [
    {
     "name": "stdout",
     "output_type": "stream",
     "text": [
      "\u001b[0m\u001b[01;34mbin\u001b[0m     \u001b[30;42mdata\u001b[0m  \u001b[01;34metc\u001b[0m  \u001b[01;34mhome\u001b[0m  \u001b[01;34mlib32\u001b[0m  \u001b[01;34mlibx32\u001b[0m  \u001b[01;34mopt\u001b[0m   \u001b[01;34msbin\u001b[0m     \u001b[01;34msrv\u001b[0m  \u001b[30;42mtmp\u001b[0m  \u001b[01;34mvar\u001b[0m\n",
      "\u001b[01;34mcocalc\u001b[0m  \u001b[01;34mdev\u001b[0m   \u001b[01;34mext\u001b[0m  \u001b[01;34mlib\u001b[0m   \u001b[01;34mlib64\u001b[0m  \u001b[01;34mlocal\u001b[0m   \u001b[01;34mproc\u001b[0m  \u001b[01;34msecrets\u001b[0m  \u001b[01;34msys\u001b[0m  \u001b[01;34musr\u001b[0m\n"
     ]
    }
   ],
   "source": [
    "ls /"
   ]
  },
  {
   "cell_type": "code",
   "execution_count": 11,
   "id": "4b71c343-6f4c-4316-a5b7-bcf49001e0ff",
   "metadata": {},
   "outputs": [
    {
     "name": "stdout",
     "output_type": "stream",
     "text": [
      "\u001b[0m\u001b[01;34mClassroom\u001b[0m  \u001b[01;34mPersonal\u001b[0m  \u001b[01;34mR\u001b[0m  \u001b[01;34mSageMath\u001b[0m\n"
     ]
    }
   ],
   "source": [
    "ls ~"
   ]
  },
  {
   "cell_type": "code",
   "execution_count": 1,
   "id": "0e980b8a-648a-4c29-8bc6-99ec957a1665",
   "metadata": {},
   "outputs": [
    {
     "name": "stdout",
     "output_type": "stream",
     "text": [
      "bad boy\n"
     ]
    }
   ],
   "source": [
    "echo b{ad,oy}"
   ]
  },
  {
   "cell_type": "code",
   "execution_count": 1,
   "id": "197ddb36-8b45-4dbc-9da4-d6ef8588a4ab",
   "metadata": {},
   "outputs": [
    {
     "name": "stdout",
     "output_type": "stream",
     "text": [
      "string strong sang sung\n"
     ]
    }
   ],
   "source": [
    "echo s{tr{i,o},a,u}ng"
   ]
  },
  {
   "cell_type": "code",
   "execution_count": 2,
   "id": "031785f7-a33e-400b-b1c5-7c1bea379b07",
   "metadata": {},
   "outputs": [
    {
     "name": "stdout",
     "output_type": "stream",
     "text": [
      "001 002 003 004 005 006 007 008 009 010 011 012 013 014 015 016 017 018 019 020\n"
     ]
    }
   ],
   "source": [
    "echo {001..020}"
   ]
  },
  {
   "cell_type": "code",
   "execution_count": 8,
   "id": "ae22455e-adcb-4c68-8bbf-5448fcaeeecf",
   "metadata": {},
   "outputs": [],
   "source": [
    "touch test{1..4}.txt"
   ]
  },
  {
   "cell_type": "code",
   "execution_count": 2,
   "id": "66f341c4-d4bb-44db-8bb4-0092e57d0bec",
   "metadata": {},
   "outputs": [
    {
     "name": "stdout",
     "output_type": "stream",
     "text": [
      "test1.txt  test2.txt  test3.txt  test4.txt\n"
     ]
    }
   ],
   "source": [
    "ls"
   ]
  },
  {
   "cell_type": "code",
   "execution_count": null,
   "id": "3e25f2c8-85f6-4c34-9792-e482af9c383e",
   "metadata": {},
   "outputs": [],
   "source": []
  },
  {
   "cell_type": "code",
   "execution_count": null,
   "id": "93b3ec69-2626-4877-98cb-df5cdca8cda0",
   "metadata": {},
   "outputs": [],
   "source": []
  }
 ],
 "metadata": {
  "kernelspec": {
   "display_name": "Bash (Linux)",
   "language": "bash",
   "name": "bash"
  },
  "language_info": {
   "codemirror_mode": "shell",
   "file_extension": ".sh",
   "mimetype": "text/x-sh",
   "name": "bash"
  }
 },
 "nbformat": 4,
 "nbformat_minor": 5
}
