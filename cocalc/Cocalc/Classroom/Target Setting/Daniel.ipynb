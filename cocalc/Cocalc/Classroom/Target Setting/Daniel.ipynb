{
 "cells": [
  {
   "cell_type": "markdown",
   "metadata": {},
   "source": [
    "# Daniel's Academic Report"
   ]
  },
  {
   "cell_type": "markdown",
   "metadata": {},
   "source": [
    "## Term 1"
   ]
  },
  {
   "cell_type": "code",
   "execution_count": 3,
   "metadata": {
    "jupyter": {
     "source_hidden": true
    },
    "tags": []
   },
   "outputs": [
    {
     "data": {
      "text/html": [
       "<table class=\"dataframe\">\n",
       "<caption>A matrix: 8 × 4 of type chr</caption>\n",
       "<thead>\n",
       "\t<tr><th></th><th scope=col>Eng</th><th scope=col>Chi</th><th scope=col>Mat</th><th scope=col>Sci</th></tr>\n",
       "</thead>\n",
       "<tbody>\n",
       "\t<tr><th scope=row>T1 (20%)</th><td>85  </td><td>62</td><td>95  </td><td>82  </td></tr>\n",
       "\t<tr><th scope=row>T2 (25%)</th><td>74  </td><td>80</td><td>97.5</td><td>86  </td></tr>\n",
       "\t<tr><th scope=row></th><td>78.9</td><td>72</td><td>96.4</td><td>84.2</td></tr>\n",
       "\t<tr><th scope=row>AL1 (90)</th><td>100 </td><td>- </td><td>85  </td><td>95  </td></tr>\n",
       "\t<tr><th scope=row>AL2 (85)</th><td>90  </td><td>96</td><td>76  </td><td>86  </td></tr>\n",
       "\t<tr><th scope=row>AL3 (80)</th><td>81  </td><td>87</td><td>67  </td><td>77  </td></tr>\n",
       "\t<tr><th scope=row>AL4 (75)</th><td>72  </td><td>78</td><td>58  </td><td>68  </td></tr>\n",
       "\t<tr><th scope=row>AL5 (65)</th><td>54  </td><td>60</td><td>40  </td><td>50  </td></tr>\n",
       "</tbody>\n",
       "</table>\n"
      ],
      "text/latex": [
       "A matrix: 8 × 4 of type chr\n",
       "\\begin{tabular}{r|llll}\n",
       "  & Eng & Chi & Mat & Sci\\\\\n",
       "\\hline\n",
       "\tT1 (20\\%) & 85   & 62 & 95   & 82  \\\\\n",
       "\tT2 (25\\%) & 74   & 80 & 97.5 & 86  \\\\\n",
       "\t & 78.9 & 72 & 96.4 & 84.2\\\\\n",
       "\tAL1 (90) & 100  & -  & 85   & 95  \\\\\n",
       "\tAL2 (85) & 90   & 96 & 76   & 86  \\\\\n",
       "\tAL3 (80) & 81   & 87 & 67   & 77  \\\\\n",
       "\tAL4 (75) & 72   & 78 & 58   & 68  \\\\\n",
       "\tAL5 (65) & 54   & 60 & 40   & 50  \\\\\n",
       "\\end{tabular}\n"
      ],
      "text/markdown": [
       "\n",
       "A matrix: 8 × 4 of type chr\n",
       "\n",
       "| <!--/--> | Eng | Chi | Mat | Sci |\n",
       "|---|---|---|---|---|\n",
       "| T1 (20%) | 85   | 62 | 95   | 82   |\n",
       "| T2 (25%) | 74   | 80 | 97.5 | 86   |\n",
       "| <!----> | 78.9 | 72 | 96.4 | 84.2 |\n",
       "| AL1 (90) | 100  | -  | 85   | 95   |\n",
       "| AL2 (85) | 90   | 96 | 76   | 86   |\n",
       "| AL3 (80) | 81   | 87 | 67   | 77   |\n",
       "| AL4 (75) | 72   | 78 | 58   | 68   |\n",
       "| AL5 (65) | 54   | 60 | 40   | 50   |\n",
       "\n"
      ],
      "text/plain": [
       "         Eng  Chi Mat  Sci \n",
       "T1 (20%) 85   62  95   82  \n",
       "T2 (25%) 74   80  97.5 86  \n",
       "         78.9 72  96.4 84.2\n",
       "AL1 (90) 100  -   85   95  \n",
       "AL2 (85) 90   96  76   86  \n",
       "AL3 (80) 81   87  67   77  \n",
       "AL4 (75) 72   78  58   68  \n",
       "AL5 (65) 54   60  40   50  "
      ]
     },
     "metadata": {},
     "output_type": "display_data"
    }
   ],
   "source": [
    "# Target Setting\n",
    "Eng = c(85,74)\n",
    "Chi = c(62,80)\n",
    "Mat = c(95,97.5)\n",
    "Sci = c(82,86)\n",
    "scores = cbind(Eng, Chi, Mat, Sci)\n",
    "\n",
    "w = c(T1=.2,T2=.25) #,T3=.2,T4=.25)\n",
    "t = c(AL1=90,AL2=85,AL3=80,AL4=75,AL5=65)\n",
    "# t = c(A=75,B=70,C=65,D=60,E=50)\n",
    "\n",
    "\n",
    "\n",
    "# DO NOT CHANGE ANY LINES BELOW\n",
    "# ------------------------------\n",
    "targets = setNames(t,paste(names(t),' (',t,')',sep=''))\n",
    "weights = paste(names(w),' (',w*100,'%)', sep='')\n",
    "rownames(scores) = weights[1:length(w)]\n",
    "current = colSums(scores *w)\n",
    "\n",
    "projection = function (tgt, cur) {\n",
    "    output = ceiling( (tgt -cur) /(1-sum(w)) )\n",
    "    return(output)\n",
    "    }\n",
    "\n",
    "projections = outer(targets, current, projection)\n",
    "\n",
    "output = rbind(round(scores, 1), round(current/sum(w), 1))\n",
    "if (sum(w)<1) output = rbind(output, projections)\n",
    "output = replace(output, output>100, \"-\")\n",
    "output"
   ]
  },
  {
   "cell_type": "code",
   "execution_count": null,
   "metadata": {},
   "outputs": [],
   "source": []
  },
  {
   "cell_type": "code",
   "execution_count": null,
   "metadata": {},
   "outputs": [],
   "source": []
  },
  {
   "cell_type": "code",
   "execution_count": null,
   "metadata": {},
   "outputs": [],
   "source": []
  },
  {
   "cell_type": "code",
   "execution_count": null,
   "metadata": {},
   "outputs": [],
   "source": []
  },
  {
   "cell_type": "code",
   "execution_count": null,
   "metadata": {},
   "outputs": [],
   "source": []
  }
 ],
 "metadata": {
  "kernelspec": {
   "display_name": "R (system-wide)",
   "language": "r",
   "name": "ir"
  },
  "language_info": {
   "codemirror_mode": "r",
   "file_extension": ".r",
   "mimetype": "text/x-r-source",
   "name": "R",
   "pygments_lexer": "r",
   "version": "4.2.1"
  }
 },
 "nbformat": 4,
 "nbformat_minor": 4
}
