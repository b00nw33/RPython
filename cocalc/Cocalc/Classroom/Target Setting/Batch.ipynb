{
 "cells": [
  {
   "cell_type": "code",
   "execution_count": 2,
   "id": "582ae0db-c982-4702-80ee-d6d85d860bd1",
   "metadata": {},
   "outputs": [
    {
     "name": "stdout",
     "output_type": "stream",
     "text": [
      "[NbConvertApp] Converting notebook Daniel.ipynb to html\n",
      "[NbConvertApp] Writing 575222 bytes to Daniel.html\n"
     ]
    }
   ],
   "source": [
    "jupyter nbconvert --no-input --to html Daniel.ipynb"
   ]
  }
 ],
 "metadata": {
  "kernelspec": {
   "display_name": "Bash (Linux)",
   "language": "bash",
   "name": "bash"
  },
  "language_info": {
   "codemirror_mode": "shell",
   "file_extension": ".sh",
   "mimetype": "text/x-sh",
   "name": "bash"
  }
 },
 "nbformat": 4,
 "nbformat_minor": 5
}
