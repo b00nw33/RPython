{
 "cells": [
  {
   "cell_type": "markdown",
   "metadata": {},
   "source": [
    "# SageMath For Teaching of   \n",
    "\n",
    "# Maths\n",
    "\n",
    "https://www.youtube.com/channel/UC7Lej7bjqlXjjmczCsY55jQ/videos  \n",
    "\n"
   ]
  },
  {
   "cell_type": "markdown",
   "metadata": {},
   "source": [
    "## Lecture 2: Data structures and plotting\n",
    "\n"
   ]
  },
  {
   "cell_type": "code",
   "execution_count": 1,
   "metadata": {
    "collapsed": false,
    "jupyter": {
     "outputs_hidden": false
    }
   },
   "outputs": [],
   "source": [
    "# Use range() instead!\n",
    "\n",
    "import numpy as np\n",
    "r = np.linspace(0,10,11).tolist()\n",
    "count = [binomial(10,k) for k in r]"
   ]
  },
  {
   "cell_type": "code",
   "execution_count": 2,
   "metadata": {
    "collapsed": false,
    "jupyter": {
     "outputs_hidden": false
    }
   },
   "outputs": [
    {
     "data": {
      "text/plain": [
       "'UK'"
      ]
     },
     "execution_count": 2,
     "metadata": {},
     "output_type": "execute_result"
    }
   ],
   "source": [
    "countries = ['Singapore', 'Malaysia', 'Thailand', 'Japan', 'China', 'USA', 'India', 'Korea', 'Indonesia', 'UK']\n",
    "countries.append('Macau')\n",
    "countries[-2]"
   ]
  },
  {
   "cell_type": "code",
   "execution_count": 3,
   "metadata": {
    "collapsed": false,
    "jupyter": {
     "outputs_hidden": false
    }
   },
   "outputs": [
    {
     "data": {
      "text/html": [
       "<div class=\"notruncate\">\n",
       "<table  class=\"table_form\">\n",
       "<tbody>\n",
       "<tr class =\"row-a\">\n",
       "<td style=\"text-align:left\">Singapore</td>\n",
       "<td style=\"text-align:left\">Malaysia</td>\n",
       "<td style=\"text-align:left\">Thailand</td>\n",
       "<td style=\"text-align:left\">Japan</td>\n",
       "<td style=\"text-align:left\">China</td>\n",
       "<td style=\"text-align:left\">USA</td>\n",
       "<td style=\"text-align:left\">India</td>\n",
       "<td style=\"text-align:left\">Korea</td>\n",
       "<td style=\"text-align:left\">Indonesia</td>\n",
       "<td style=\"text-align:left\">UK</td>\n",
       "<td style=\"text-align:left\">Macau</td>\n",
       "</tr>\n",
       "<tr class =\"row-b\">\n",
       "<td style=\"text-align:left\">\\(1\\)</td>\n",
       "<td style=\"text-align:left\">\\(10\\)</td>\n",
       "<td style=\"text-align:left\">\\(45\\)</td>\n",
       "<td style=\"text-align:left\">\\(120\\)</td>\n",
       "<td style=\"text-align:left\">\\(210\\)</td>\n",
       "<td style=\"text-align:left\">\\(252\\)</td>\n",
       "<td style=\"text-align:left\">\\(210\\)</td>\n",
       "<td style=\"text-align:left\">\\(120\\)</td>\n",
       "<td style=\"text-align:left\">\\(45\\)</td>\n",
       "<td style=\"text-align:left\">\\(10\\)</td>\n",
       "<td style=\"text-align:left\">\\(1\\)</td>\n",
       "</tr>\n",
       "</tbody>\n",
       "</table>\n",
       "</div>"
      ],
      "text/plain": [
       "  Singapore   Malaysia   Thailand   Japan   China   USA   India   Korea   Indonesia   UK   Macau\n",
       "  1           10         45         120     210     252   210     120     45          10   1"
      ]
     },
     "execution_count": 3,
     "metadata": {},
     "output_type": "execute_result"
    }
   ],
   "source": [
    "table([countries,count])"
   ]
  },
  {
   "cell_type": "code",
   "execution_count": 27,
   "metadata": {
    "collapsed": false,
    "jupyter": {
     "outputs_hidden": false
    }
   },
   "outputs": [
    {
     "data": {
      "image/png": "[encoded data removed]",
      "text/plain": [
       "Graphics object consisting of 1 graphics primitive"
      ]
     },
     "execution_count": 27,
     "metadata": {},
     "output_type": "execute_result"
    }
   ],
   "source": [
    "bar_chart(count, figsize=4)"
   ]
  },
  {
   "cell_type": "code",
   "execution_count": 5,
   "metadata": {
    "collapsed": false,
    "jupyter": {
     "outputs_hidden": false
    }
   },
   "outputs": [],
   "source": [
    "data=dict(zip(countries, count))\n",
    "# data"
   ]
  },
  {
   "cell_type": "code",
   "execution_count": 6,
   "metadata": {
    "collapsed": false,
    "jupyter": {
     "outputs_hidden": false
    }
   },
   "outputs": [
    {
     "data": {
      "text/plain": [
       "252"
      ]
     },
     "execution_count": 6,
     "metadata": {},
     "output_type": "execute_result"
    }
   ],
   "source": [
    "data['USA']"
   ]
  },
  {
   "cell_type": "code",
   "execution_count": 7,
   "metadata": {
    "collapsed": false,
    "jupyter": {
     "outputs_hidden": false
    }
   },
   "outputs": [
    {
     "data": {
      "text/plain": [
       "[{x: -1/2*sqrt(31) + 1/2, y: -1/2*sqrt(31) - 1/2},\n",
       " {x: 1/2*sqrt(31) + 1/2, y: 1/2*sqrt(31) - 1/2}]"
      ]
     },
     "execution_count": 7,
     "metadata": {},
     "output_type": "execute_result"
    }
   ],
   "source": [
    "# Use of dict in solving equations\n",
    "\n",
    "var('x,y')\n",
    "eq1 = x^2 + y^2 == 4^2\n",
    "eq2 = y == x-1\n",
    "sol = solve([eq1,eq2], [x,y], solution_dict=True)\n",
    "sol"
   ]
  },
  {
   "cell_type": "code",
   "execution_count": 29,
   "metadata": {
    "collapsed": false,
    "jupyter": {
     "outputs_hidden": false
    }
   },
   "outputs": [
    {
     "data": {
      "text/plain": [
       "16."
      ]
     },
     "execution_count": 29,
     "metadata": {},
     "output_type": "execute_result"
    }
   ],
   "source": [
    "# Substitute answer back into equation to check for equality\n",
    "\n",
    "eq1.subs(sol[1]).lhs().n(4)"
   ]
  },
  {
   "cell_type": "code",
   "execution_count": 9,
   "metadata": {
    "collapsed": false,
    "jupyter": {
     "outputs_hidden": false
    }
   },
   "outputs": [
    {
     "name": "stdout",
     "output_type": "stream",
     "text": [
      "Solution 1\n",
      "x :  -2.28388218141501\n",
      "y :  -3.28388218141501\n",
      "\n",
      "\n",
      "Solution 2\n",
      "x :  3.28388218141501\n",
      "y :  2.28388218141501\n",
      "\n",
      "\n"
     ]
    }
   ],
   "source": [
    "for n,i in enumerate(sol):\n",
    "    print(\"Solution\",n+1)\n",
    "    for j in i:\n",
    "        print(j,\": \", sol[n][j].n())\n",
    "    print(\"\\n\")"
   ]
  },
  {
   "cell_type": "code",
   "execution_count": 10,
   "metadata": {
    "collapsed": false,
    "jupyter": {
     "outputs_hidden": false
    }
   },
   "outputs": [],
   "source": [
    "# Plotting 2d graphs\n",
    "\n",
    "f(x) = x*sin(1/x)\n",
    "plt1 = f.plot()"
   ]
  },
  {
   "cell_type": "code",
   "execution_count": 11,
   "metadata": {
    "collapsed": false,
    "jupyter": {
     "outputs_hidden": false
    }
   },
   "outputs": [],
   "source": [
    "# zoom in to specific x range\n",
    "plt2 = plot(f, (x,-.1,.5), figsize=10, color='green', gridlines=True, thickness=2, linestyle='--', title=\"Graph of x*sin(1/x)\", typeset='latex')"
   ]
  },
  {
   "cell_type": "code",
   "execution_count": 12,
   "metadata": {
    "collapsed": false,
    "jupyter": {
     "outputs_hidden": false
    }
   },
   "outputs": [],
   "source": [
    "p = plot(f, (x,-.1,.1), color='green', legend_label='f')\n",
    "p1 = plot(x, (x,-.1,.1), color='gray', linestyle='--', legend_label='x')\n",
    "p2 = plot(-x, (x,-.1,.1), color='gray', linestyle='--', legend_label='-x')\n",
    "plt3 = p+p1+p2"
   ]
  },
  {
   "cell_type": "code",
   "execution_count": 13,
   "metadata": {
    "collapsed": false,
    "jupyter": {
     "outputs_hidden": false
    }
   },
   "outputs": [],
   "source": [
    "f1 = plot(floor(x),-5,5)\n",
    "f2 = plot(floor(x),-5,5,exclude=[-4..5])\n",
    "\n",
    "# Failed to include in Graphics Array\n",
    "plt4 = f2.inset(f1, pos=(.2,.7,.2,.2))"
   ]
  },
  {
   "cell_type": "code",
   "execution_count": 14,
   "metadata": {
    "collapsed": false,
    "jupyter": {
     "outputs_hidden": false
    }
   },
   "outputs": [],
   "source": [
    "# Implicit plot\n",
    "\n",
    "var('x,y')\n",
    "n=5\n",
    "f(x,y) = x^n+y^n-1\n",
    "\n",
    "plt5 = implicit_plot(f,(-2,2),(-2,2),color='green') + circle((1,0),1)"
   ]
  },
  {
   "cell_type": "code",
   "execution_count": 15,
   "metadata": {
    "collapsed": false,
    "jupyter": {
     "outputs_hidden": false
    }
   },
   "outputs": [],
   "source": [
    "# Parametric plot\n",
    "\n",
    "var('t')\n",
    "plt6 = parametric_plot([t*sin(1-t^2),t*cos(t^2)], (t,-2*pi,2*pi), color='red')\n",
    "\n",
    "# p.save('fig1.pdf')\n",
    "# p"
   ]
  },
  {
   "cell_type": "code",
   "execution_count": 16,
   "metadata": {
    "collapsed": false,
    "jupyter": {
     "outputs_hidden": false
    }
   },
   "outputs": [],
   "source": [
    "# Polar plot\n",
    "\n",
    "var('t')\n",
    "plt7 = polar_plot(1+2*cos(1.05*t), (t,0,200*pi), plot_points=5000)"
   ]
  },
  {
   "cell_type": "code",
   "execution_count": 17,
   "metadata": {
    "collapsed": false,
    "jupyter": {
     "outputs_hidden": false
    }
   },
   "outputs": [],
   "source": [
    "# Creating Graphics Array\n",
    "\n",
    "L = [plt1, plt2, plt3, plt5, plt6, plt7]\n",
    "# G = graphics_array([[plt1,plt2,plt3], [plt5,plt6,plt7]])\n",
    "G = graphics_array(L,2)\n",
    "# G.show(figsize=10)"
   ]
  },
  {
   "cell_type": "code",
   "execution_count": 18,
   "metadata": {
    "collapsed": false,
    "jupyter": {
     "outputs_hidden": false
    }
   },
   "outputs": [],
   "source": [
    "g1 = plot(sin(x^2), (x, 0, 6), axes_labels=['$x$', '$y$'],\n",
    "          axes=False, frame=True, gridlines='minor')\n",
    "y = var('y')\n",
    "g2 = streamline_plot((sin(x), cos(y)), (x,-3,3), (y,-3,3),\n",
    "                     aspect_ratio=1)\n",
    "g3 = graphs.DodecahedralGraph().plot()\n",
    "g4 = polar_plot(sin(5*x)^2, (x, 0, 2*pi), color='green',\n",
    "                fontsize=8) \\\n",
    "     + circle((0,0), 0.5, rgbcolor='red', fill=True, alpha=0.1,\n",
    "              legend_label='pink')\n",
    "g4.set_legend_options(loc='upper right')\n",
    "G = graphics_array([[g1, g2], [g3, g4]])\n",
    "# G"
   ]
  },
  {
   "cell_type": "code",
   "execution_count": 19,
   "metadata": {
    "collapsed": false,
    "jupyter": {
     "outputs_hidden": false
    }
   },
   "outputs": [],
   "source": [
    "p=polygon2d([[2,1], [1,-2], [-2,3]], color='goldenrod', edgecolor='black')\n",
    "t=text('Triangles are awesome!',(0.5,2.5))\n",
    "# p+t"
   ]
  },
  {
   "cell_type": "code",
   "execution_count": 20,
   "metadata": {
    "collapsed": false,
    "jupyter": {
     "outputs_hidden": false
    }
   },
   "outputs": [],
   "source": [
    "# sorted(colors)"
   ]
  },
  {
   "cell_type": "code",
   "execution_count": 21,
   "metadata": {
    "collapsed": false,
    "jupyter": {
     "outputs_hidden": false
    }
   },
   "outputs": [],
   "source": [
    "# Plotting 3d graphs\n",
    "\n",
    "var('x,y')\n",
    "f(x,y) = sin(x+y)*y*cos(x-y)\n",
    "# plot3d(f(x,y), (x,-2,2), (y,-2,2), opacity=.3)+sphere(color='lightgreen')"
   ]
  },
  {
   "cell_type": "code",
   "execution_count": 22,
   "metadata": {
    "collapsed": false,
    "jupyter": {
     "outputs_hidden": false
    }
   },
   "outputs": [],
   "source": [
    "u = var('u')\n",
    "curve = (u, cos(4*u), u^2)\n",
    "P = revolution_plot3d(curve, (u,-1,2), show_curve=True, parallel_axis='z', axis=(1,.2), color='red', opacity=.3)\n",
    "# P.show(aspect_ratio=(1,1,1))"
   ]
  },
  {
   "cell_type": "code",
   "execution_count": 23,
   "metadata": {
    "collapsed": false,
    "jupyter": {
     "outputs_hidden": false
    }
   },
   "outputs": [],
   "source": [
    "var('x,y,z')\n",
    "k=2\n",
    "# implicit_plot3d(x^k + y^k + z^k -4, (x,-2,2), (y,-2,2), (z,-2,2), opacity = .3)"
   ]
  },
  {
   "cell_type": "code",
   "execution_count": 24,
   "metadata": {
    "collapsed": false,
    "jupyter": {
     "outputs_hidden": false
    }
   },
   "outputs": [],
   "source": [
    "var('x,y')\n",
    "f(x,y) = y*sin(y) + x*cos(x)\n",
    "# plot3d(f(x,y), (x,-2*pi,2*pi), (y,-2*pi, 2*pi), opacity=.3)\n",
    "# contour_plot(f(x,y), (x,-2*pi,2*pi), (y,-2*pi, 2*pi), fill=False, contours=8, labels=True)"
   ]
  },
  {
   "cell_type": "code",
   "execution_count": 25,
   "metadata": {
    "collapsed": false,
    "jupyter": {
     "outputs_hidden": false
    }
   },
   "outputs": [],
   "source": [
    "# Building Interactive plots\n",
    "\n",
    "# @interact\n",
    "# def _(k=(1,(1,10)), a=input_box(default=-2*pi), b=input_box(default=2*pi)):\n",
    "#     p = plot(sin(k*x), a, b)\n",
    "#     print(r'Graph of sin(kx)')\n",
    "#     show(p, figsize=4)"
   ]
  }
 ],
 "metadata": {
  "kernelspec": {
   "display_name": "SageMath 9.7",
   "language": "sagemath",
   "name": "sage-9.7"
  },
  "language_info": {
   "codemirror_mode": {
    "name": "ipython",
    "version": 3
   },
   "file_extension": ".py",
   "mimetype": "text/x-python",
   "name": "python",
   "nbconvert_exporter": "python",
   "pygments_lexer": "ipython3",
   "version": "3.10.5"
  }
 },
 "nbformat": 4,
 "nbformat_minor": 4
}
