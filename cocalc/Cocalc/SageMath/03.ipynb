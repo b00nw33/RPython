{
 "cells": [
  {
   "cell_type": "markdown",
   "metadata": {},
   "source": [
    "# SageMath For Teaching of   \n",
    "\n",
    "# Maths\n",
    "\n",
    "https://www.youtube.com/channel/UC7Lej7bjqlXjjmczCsY55jQ/videos  \n",
    "\n"
   ]
  },
  {
   "cell_type": "markdown",
   "metadata": {},
   "source": [
    "## Lecture 3: Programming in SageMath\n",
    "\n"
   ]
  },
  {
   "cell_type": "code",
   "execution_count": 9,
   "metadata": {
    "collapsed": false,
    "jupyter": {
     "outputs_hidden": false
    },
    "scrolled": true
   },
   "outputs": [
    {
     "data": {
      "text/plain": [
       "[[1, 0, 0, 0, 0, 0, 0, 0, 0, 0, 0],\n",
       " [1, 1, 0, 0, 0, 0, 0, 0, 0, 0, 0],\n",
       " [1, 2, 1, 0, 0, 0, 0, 0, 0, 0, 0],\n",
       " [1, 3, 3, 1, 0, 0, 0, 0, 0, 0, 0],\n",
       " [1, 4, 6, 4, 1, 0, 0, 0, 0, 0, 0],\n",
       " [1, 5, 10, 10, 5, 1, 0, 0, 0, 0, 0],\n",
       " [1, 6, 15, 20, 15, 6, 1, 0, 0, 0, 0],\n",
       " [1, 7, 21, 35, 35, 21, 7, 1, 0, 0, 0],\n",
       " [1, 8, 28, 56, 70, 56, 28, 8, 1, 0, 0],\n",
       " [1, 9, 36, 84, 126, 126, 84, 36, 9, 1, 0],\n",
       " [1, 10, 45, 120, 210, 252, 210, 120, 45, 10, 1]]"
      ]
     },
     "execution_count": 9,
     "metadata": {},
     "output_type": "execute_result"
    }
   ],
   "source": [
    "# Generating sequence of numbers\n",
    "\n",
    "from math import comb\n",
    "\n",
    "pascal=[]\n",
    "n=11\n",
    "\n",
    "for row in range(n):\n",
    "    pascal.append([comb(row,r) for r in range(n)])\n",
    "\n",
    "pascal\n",
    "\n",
    "# One-liner\n",
    "# [[comb(row,r) for r in range(n)] for row in range(n)]"
   ]
  },
  {
   "cell_type": "code",
   "execution_count": 16,
   "metadata": {
    "collapsed": false,
    "jupyter": {
     "outputs_hidden": false
    }
   },
   "outputs": [
    {
     "data": {
      "text/plain": [
       "[1, 4/3, 5/3, 2, 7/3, 8/3, 3, 10/3, 11/3]"
      ]
     },
     "execution_count": 16,
     "metadata": {},
     "output_type": "execute_result"
    }
   ],
   "source": [
    "# Specify gap width in srange()\n",
    "list(srange(1,4,1/3))"
   ]
  },
  {
   "cell_type": "code",
   "execution_count": 2,
   "metadata": {
    "collapsed": false,
    "jupyter": {
     "outputs_hidden": false
    }
   },
   "outputs": [
    {
     "data": {
      "text/plain": [
       "array([1.        , 1.33333333, 1.66666667, 2.        , 2.33333333,\n",
       "       2.66666667, 3.        , 3.33333333, 3.66666667])"
      ]
     },
     "execution_count": 2,
     "metadata": {},
     "output_type": "execute_result"
    }
   ],
   "source": [
    "# Specify gap width in srange()\n",
    "import numpy as np\n",
    "\n",
    "np.arange(1,4,1/3)"
   ]
  },
  {
   "cell_type": "code",
   "execution_count": 18,
   "metadata": {
    "collapsed": false,
    "jupyter": {
     "outputs_hidden": false
    }
   },
   "outputs": [
    {
     "data": {
      "text/plain": [
       "array([1.  , 1.75, 2.5 , 3.25, 4.  ])"
      ]
     },
     "execution_count": 18,
     "metadata": {},
     "output_type": "execute_result"
    }
   ],
   "source": [
    "# Specify no.of 'lampposts' in np.linspace()\n",
    "np.linspace(1,4,5)"
   ]
  },
  {
   "cell_type": "code",
   "execution_count": 5,
   "metadata": {
    "collapsed": false,
    "jupyter": {
     "outputs_hidden": false
    }
   },
   "outputs": [],
   "source": [
    "# Mathematical function\n",
    "f(x) = x^2 - 3*x - 4\n",
    "\n",
    "# Python function\n",
    "def g(x):\n",
    "    return x^2 - 3*x - 4"
   ]
  },
  {
   "cell_type": "code",
   "execution_count": 6,
   "metadata": {
    "collapsed": false,
    "jupyter": {
     "outputs_hidden": false
    }
   },
   "outputs": [
    {
     "data": {
      "text/plain": [
       "[-6, -56/9, -56/9, -6, -50/9, -44/9, -4, -26/9, -14/9]"
      ]
     },
     "execution_count": 6,
     "metadata": {},
     "output_type": "execute_result"
    }
   ],
   "source": [
    "# Applying a function to a list of inputs\n",
    "\n",
    "L = list(srange(1,4,1/3))\n",
    "fs = list(map(f,L))\n",
    "fs"
   ]
  },
  {
   "cell_type": "code",
   "execution_count": 7,
   "metadata": {
    "collapsed": false,
    "jupyter": {
     "outputs_hidden": false
    }
   },
   "outputs": [
    {
     "data": {
      "text/plain": [
       "[  1   2   3   4   5   6   7   8   9  10]\n",
       "[  1   4   7  10  13  16  19  22  25  28]\n",
       "[  1   5  12  22  35  51  70  92 117 145]"
      ]
     },
     "execution_count": 7,
     "metadata": {},
     "output_type": "execute_result"
    }
   ],
   "source": [
    "T(n) = 3*n - 2\n",
    "n = list(range(1,11))\n",
    "Tn = list(map(T, n))\n",
    "Sn = np.cumsum(Tn)\n",
    "matrix([n,Tn,Sn])"
   ]
  },
  {
   "cell_type": "code",
   "execution_count": 10,
   "metadata": {
    "collapsed": false,
    "jupyter": {
     "outputs_hidden": false
    }
   },
   "outputs": [
    {
     "data": {
      "text/plain": [
       "{1: 1000,\n",
       " 2: 1009,\n",
       " 3: 975,\n",
       " 4: 1014,\n",
       " 5: 1026,\n",
       " 6: 1044,\n",
       " 7: 982,\n",
       " 8: 979,\n",
       " 9: 968,\n",
       " 10: 1003}"
      ]
     },
     "execution_count": 10,
     "metadata": {},
     "output_type": "execute_result"
    }
   ],
   "source": [
    "# table(data) in R\n",
    "# randint(a,b) generates random integers between a and b INCLUSIVE\n",
    "\n",
    "data = [randint(10^0,10^1) for _ in range(10^4)]\n",
    "{x: data.count(x) for x in set(data)}"
   ]
  },
  {
   "cell_type": "code",
   "execution_count": 12,
   "metadata": {
    "collapsed": false,
    "jupyter": {
     "outputs_hidden": false
    }
   },
   "outputs": [
    {
     "data": {
      "text/plain": [
       "13"
      ]
     },
     "execution_count": 12,
     "metadata": {},
     "output_type": "execute_result"
    }
   ],
   "source": [
    "# Inline functions with lambda\n",
    "\n",
    "hypot = lambda x,y : sqrt(x^2+y^2)\n",
    "hypot(5,12)"
   ]
  },
  {
   "cell_type": "code",
   "execution_count": 66,
   "metadata": {
    "collapsed": false,
    "jupyter": {
     "outputs_hidden": false
    }
   },
   "outputs": [
    {
     "data": {
      "image/png": "[encoded data removed]",
      "text/plain": [
       "Graphics object consisting of 1 graphics primitive"
      ]
     },
     "execution_count": 66,
     "metadata": {},
     "output_type": "execute_result"
    }
   ],
   "source": [
    "f(x) = x*exp(-x**2)\n",
    "# f(x) = (x-2)*(x+3)\n",
    "f.plot(-6,5, figsize=3)"
   ]
  },
  {
   "cell_type": "code",
   "execution_count": 85,
   "metadata": {
    "collapsed": false,
    "jupyter": {
     "outputs_hidden": false
    }
   },
   "outputs": [
    {
     "data": {
      "text/plain": [
       "[{x: -1/2*sqrt(2)}, {x: 1/2*sqrt(2)}]"
      ]
     },
     "execution_count": 85,
     "metadata": {},
     "output_type": "execute_result"
    }
   ],
   "source": [
    "# f.find_root(-4,4)\n",
    "\n",
    "solve(f.diff(),x, solution_dict=True)"
   ]
  },
  {
   "cell_type": "code",
   "execution_count": 86,
   "metadata": {
    "collapsed": false,
    "jupyter": {
     "outputs_hidden": false
    }
   },
   "outputs": [
    {
     "data": {
      "text/plain": [
       "'Failed to converge.'"
      ]
     },
     "execution_count": 86,
     "metadata": {},
     "output_type": "execute_result"
    }
   ],
   "source": [
    "# Newton-Raphson Method\n",
    "\n",
    "def NR(fn, guess):\n",
    "\n",
    "    output = [guess]\n",
    "\n",
    "    for _ in range(20):\n",
    "        prior = output[-1]\n",
    "        Dr = fn.diff()(prior)\n",
    "        if Dr==0: return \"Initial guess is a stationary point.\"\n",
    "        new = prior - fn(prior) / Dr\n",
    "        output.append(new.n())\n",
    "\n",
    "    while output[-1]==output[-2]:\n",
    "        output.pop()\n",
    "\n",
    "    if len(output)==21:\n",
    "        return \"Failed to converge.\"\n",
    "    return output\n",
    "\n",
    "iter = NR(f, 2)\n",
    "\n",
    "# err = list(map(f,iter))\n",
    "\n",
    "iter"
   ]
  },
  {
   "cell_type": "code",
   "execution_count": 3,
   "metadata": {
    "collapsed": false,
    "jupyter": {
     "outputs_hidden": false
    }
   },
   "outputs": [
    {
     "data": {
      "image/png": "[encoded data removed]",
      "text/plain": [
       "Graphics object consisting of 3 graphics primitives"
      ]
     },
     "execution_count": 3,
     "metadata": {},
     "output_type": "execute_result"
    }
   ],
   "source": [
    "# Mathematical drawings\n",
    "\n",
    "c = circle((0,0), 1, axes=False, color='red', linestyle='--')\n",
    "\n",
    "n = 10\n",
    "theta = 2*pi/n\n",
    "w = [(cos(i*theta), sin(i*theta)) for i in range(n+1)]\n",
    "pt = points(w)\n",
    "\n",
    "ngon = polygon(w, fill=False, thickness=3)\n",
    "\n",
    "c+pt+ngon"
   ]
  },
  {
   "cell_type": "code",
   "execution_count": 7,
   "metadata": {
    "collapsed": false,
    "jupyter": {
     "outputs_hidden": false
    }
   },
   "outputs": [
    {
     "data": {
      "text/plain": [
       "(142, 10011)"
      ]
     },
     "execution_count": 7,
     "metadata": {},
     "output_type": "execute_result"
    }
   ],
   "source": [
    "import numpy as np\n",
    "\n",
    "a = [n for n in range(1,150)]\n",
    "b = np.cumsum(a)\n",
    "c = [n*(1+n)/2 for n in a]\n",
    "len(b[b<10000])\n",
    "\n",
    "sum = 0\n",
    "i = 1\n",
    "\n",
    "while sum <= 10000:\n",
    "    sum+=i\n",
    "    i+=1\n",
    "\n",
    "i,sum"
   ]
  },
  {
   "cell_type": "code",
   "execution_count": 5,
   "metadata": {
    "collapsed": false,
    "jupyter": {
     "outputs_hidden": false
    }
   },
   "outputs": [
    {
     "data": {
      "text/plain": [
       "(141, 10011)"
      ]
     },
     "execution_count": 5,
     "metadata": {},
     "output_type": "execute_result"
    }
   ],
   "source": [
    "# Use of break and continue\n",
    "\n",
    "sum = 0\n",
    "for i in range(150):\n",
    "    sum+=i\n",
    "    if sum >= 10000: break\n",
    "\n",
    "i, sum"
   ]
  },
  {
   "cell_type": "code",
   "execution_count": 33,
   "metadata": {
    "collapsed": false,
    "jupyter": {
     "outputs_hidden": false
    }
   },
   "outputs": [
    {
     "data": {
      "text/plain": [
       "'1 2 F 4 B F 7 8 F B 11 F 13 14 FB 16 17 F 19 B F 22 23 F B 26 F 28 29 FB 31 32 F 34 B F 37 38 F B'"
      ]
     },
     "execution_count": 33,
     "metadata": {},
     "output_type": "execute_result"
    }
   ],
   "source": [
    "fb = []\n",
    "\n",
    "for i in range(1,41):\n",
    "    if not i%15:\n",
    "        fb.append(\"FB\")\n",
    "        continue\n",
    "    if not i%5:\n",
    "        fb.append(\"B\")\n",
    "        continue\n",
    "    if not i%3:\n",
    "        fb.append(\"F\")\n",
    "        continue\n",
    "    fb.append(i)\n",
    "\n",
    "# https://www.simplilearn.com/tutorials/python-tutorial/list-to-string-in-python\n",
    "' '.join(map(str,fb))"
   ]
  }
 ],
 "metadata": {
  "kernelspec": {
   "display_name": "SageMath 9.7",
   "language": "sagemath",
   "name": "sage-9.7"
  },
  "language_info": {
   "codemirror_mode": {
    "name": "ipython",
    "version": 3
   },
   "file_extension": ".py",
   "mimetype": "text/x-python",
   "name": "python",
   "nbconvert_exporter": "python",
   "pygments_lexer": "ipython3",
   "version": "3.10.5"
  }
 },
 "nbformat": 4,
 "nbformat_minor": 4
}
