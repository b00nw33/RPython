{
 "cells": [
  {
   "cell_type": "markdown",
   "id": "9ec62517",
   "metadata": {},
   "source": [
    "File:   Factors.R\n",
    "Course: R: An Introduction (with RStudio)"
   ]
  },
  {
   "cell_type": "markdown",
   "id": "29412003",
   "metadata": {},
   "source": [
    "CREATE DATA ##############################################"
   ]
  },
  {
   "cell_type": "code",
   "execution_count": 11,
   "id": "e79a4a1c",
   "metadata": {},
   "outputs": [
    {
     "data": {
      "text/html": [
       "<style>\n",
       ".list-inline {list-style: none; margin:0; padding: 0}\n",
       ".list-inline>li {display: inline-block}\n",
       ".list-inline>li:not(:last-child)::after {content: \"\\00b7\"; padding: 0 .5ex}\n",
       "</style>\n",
       "<ol class=list-inline><li>1</li><li>2</li><li>3</li></ol>\n"
      ],
      "text/latex": [
       "\\begin{enumerate*}\n",
       "\\item 1\n",
       "\\item 2\n",
       "\\item 3\n",
       "\\end{enumerate*}\n"
      ],
      "text/markdown": [
       "1. 1\n",
       "2. 2\n",
       "3. 3\n",
       "\n",
       "\n"
      ],
      "text/plain": [
       "[1] 1 2 3"
      ]
     },
     "metadata": {},
     "output_type": "display_data"
    },
    {
     "data": {
      "text/html": [
       "<style>\n",
       ".list-inline {list-style: none; margin:0; padding: 0}\n",
       ".list-inline>li {display: inline-block}\n",
       ".list-inline>li:not(:last-child)::after {content: \"\\00b7\"; padding: 0 .5ex}\n",
       "</style>\n",
       "<ol class=list-inline><li>1</li><li>2</li><li>3</li><li>4</li><li>5</li><li>6</li><li>7</li><li>8</li><li>9</li></ol>\n"
      ],
      "text/latex": [
       "\\begin{enumerate*}\n",
       "\\item 1\n",
       "\\item 2\n",
       "\\item 3\n",
       "\\item 4\n",
       "\\item 5\n",
       "\\item 6\n",
       "\\item 7\n",
       "\\item 8\n",
       "\\item 9\n",
       "\\end{enumerate*}\n"
      ],
      "text/markdown": [
       "1. 1\n",
       "2. 2\n",
       "3. 3\n",
       "4. 4\n",
       "5. 5\n",
       "6. 6\n",
       "7. 7\n",
       "8. 8\n",
       "9. 9\n",
       "\n",
       "\n"
      ],
      "text/plain": [
       "[1] 1 2 3 4 5 6 7 8 9"
      ]
     },
     "metadata": {},
     "output_type": "display_data"
    }
   ],
   "source": [
    "(x1 <- 1:3)\n",
    "(y  <- 1:9)"
   ]
  },
  {
   "cell_type": "code",
   "execution_count": 2,
   "id": "db057c32",
   "metadata": {},
   "outputs": [
    {
     "data": {
      "text/html": [
       "<table class=\"dataframe\">\n",
       "<caption>A data.frame: 9 × 2</caption>\n",
       "<thead>\n",
       "\t<tr><th scope=col>x1</th><th scope=col>y</th></tr>\n",
       "\t<tr><th scope=col>&lt;int&gt;</th><th scope=col>&lt;int&gt;</th></tr>\n",
       "</thead>\n",
       "<tbody>\n",
       "\t<tr><td>1</td><td>1</td></tr>\n",
       "\t<tr><td>2</td><td>2</td></tr>\n",
       "\t<tr><td>3</td><td>3</td></tr>\n",
       "\t<tr><td>1</td><td>4</td></tr>\n",
       "\t<tr><td>2</td><td>5</td></tr>\n",
       "\t<tr><td>3</td><td>6</td></tr>\n",
       "\t<tr><td>1</td><td>7</td></tr>\n",
       "\t<tr><td>2</td><td>8</td></tr>\n",
       "\t<tr><td>3</td><td>9</td></tr>\n",
       "</tbody>\n",
       "</table>\n"
      ],
      "text/latex": [
       "A data.frame: 9 × 2\n",
       "\\begin{tabular}{ll}\n",
       " x1 & y\\\\\n",
       " <int> & <int>\\\\\n",
       "\\hline\n",
       "\t 1 & 1\\\\\n",
       "\t 2 & 2\\\\\n",
       "\t 3 & 3\\\\\n",
       "\t 1 & 4\\\\\n",
       "\t 2 & 5\\\\\n",
       "\t 3 & 6\\\\\n",
       "\t 1 & 7\\\\\n",
       "\t 2 & 8\\\\\n",
       "\t 3 & 9\\\\\n",
       "\\end{tabular}\n"
      ],
      "text/markdown": [
       "\n",
       "A data.frame: 9 × 2\n",
       "\n",
       "| x1 &lt;int&gt; | y &lt;int&gt; |\n",
       "|---|---|\n",
       "| 1 | 1 |\n",
       "| 2 | 2 |\n",
       "| 3 | 3 |\n",
       "| 1 | 4 |\n",
       "| 2 | 5 |\n",
       "| 3 | 6 |\n",
       "| 1 | 7 |\n",
       "| 2 | 8 |\n",
       "| 3 | 9 |\n",
       "\n"
      ],
      "text/plain": [
       "  x1 y\n",
       "1 1  1\n",
       "2 2  2\n",
       "3 3  3\n",
       "4 1  4\n",
       "5 2  5\n",
       "6 3  6\n",
       "7 1  7\n",
       "8 2  8\n",
       "9 3  9"
      ]
     },
     "metadata": {},
     "output_type": "display_data"
    },
    {
     "data": {
      "text/html": [
       "'integer'"
      ],
      "text/latex": [
       "'integer'"
      ],
      "text/markdown": [
       "'integer'"
      ],
      "text/plain": [
       "[1] \"integer\""
      ]
     },
     "metadata": {},
     "output_type": "display_data"
    },
    {
     "name": "stdout",
     "output_type": "stream",
     "text": [
      "'data.frame':\t9 obs. of  2 variables:\n",
      " $ x1: int  1 2 3 1 2 3 1 2 3\n",
      " $ y : int  1 2 3 4 5 6 7 8 9\n"
     ]
    }
   ],
   "source": [
    "# Combine variables\n",
    "(df1 <- cbind.data.frame(x1, y))\n",
    "typeof(df1$x1)\n",
    "str(df1)"
   ]
  },
  {
   "cell_type": "markdown",
   "id": "8148fa2f",
   "metadata": {},
   "source": [
    "AS.FACTOR ################################################"
   ]
  },
  {
   "cell_type": "code",
   "execution_count": 14,
   "id": "91479e3a",
   "metadata": {},
   "outputs": [
    {
     "data": {
      "text/html": [
       "<style>\n",
       ".list-inline {list-style: none; margin:0; padding: 0}\n",
       ".list-inline>li {display: inline-block}\n",
       ".list-inline>li:not(:last-child)::after {content: \"\\00b7\"; padding: 0 .5ex}\n",
       "</style>\n",
       "<ol class=list-inline><li>1</li><li>2</li><li>3</li></ol>\n",
       "\n",
       "<details>\n",
       "\t<summary style=display:list-item;cursor:pointer>\n",
       "\t\t<strong>Levels</strong>:\n",
       "\t</summary>\n",
       "\t<style>\n",
       "\t.list-inline {list-style: none; margin:0; padding: 0}\n",
       "\t.list-inline>li {display: inline-block}\n",
       "\t.list-inline>li:not(:last-child)::after {content: \"\\00b7\"; padding: 0 .5ex}\n",
       "\t</style>\n",
       "\t<ol class=list-inline><li>'1'</li><li>'2'</li><li>'3'</li></ol>\n",
       "</details>"
      ],
      "text/latex": [
       "\\begin{enumerate*}\n",
       "\\item 1\n",
       "\\item 2\n",
       "\\item 3\n",
       "\\end{enumerate*}\n",
       "\n",
       "\\emph{Levels}: \\begin{enumerate*}\n",
       "\\item '1'\n",
       "\\item '2'\n",
       "\\item '3'\n",
       "\\end{enumerate*}\n"
      ],
      "text/markdown": [
       "1. 1\n",
       "2. 2\n",
       "3. 3\n",
       "\n",
       "\n",
       "\n",
       "**Levels**: 1. '1'\n",
       "2. '2'\n",
       "3. '3'\n",
       "\n",
       "\n"
      ],
      "text/plain": [
       "[1] 1 2 3\n",
       "Levels: 1 2 3"
      ]
     },
     "metadata": {},
     "output_type": "display_data"
    },
    {
     "data": {
      "text/html": [
       "<table class=\"dataframe\">\n",
       "<caption>A data.frame: 9 × 2</caption>\n",
       "<thead>\n",
       "\t<tr><th scope=col>x2</th><th scope=col>y</th></tr>\n",
       "\t<tr><th scope=col>&lt;fct&gt;</th><th scope=col>&lt;int&gt;</th></tr>\n",
       "</thead>\n",
       "<tbody>\n",
       "\t<tr><td>1</td><td>1</td></tr>\n",
       "\t<tr><td>2</td><td>2</td></tr>\n",
       "\t<tr><td>3</td><td>3</td></tr>\n",
       "\t<tr><td>1</td><td>4</td></tr>\n",
       "\t<tr><td>2</td><td>5</td></tr>\n",
       "\t<tr><td>3</td><td>6</td></tr>\n",
       "\t<tr><td>1</td><td>7</td></tr>\n",
       "\t<tr><td>2</td><td>8</td></tr>\n",
       "\t<tr><td>3</td><td>9</td></tr>\n",
       "</tbody>\n",
       "</table>\n"
      ],
      "text/latex": [
       "A data.frame: 9 × 2\n",
       "\\begin{tabular}{ll}\n",
       " x2 & y\\\\\n",
       " <fct> & <int>\\\\\n",
       "\\hline\n",
       "\t 1 & 1\\\\\n",
       "\t 2 & 2\\\\\n",
       "\t 3 & 3\\\\\n",
       "\t 1 & 4\\\\\n",
       "\t 2 & 5\\\\\n",
       "\t 3 & 6\\\\\n",
       "\t 1 & 7\\\\\n",
       "\t 2 & 8\\\\\n",
       "\t 3 & 9\\\\\n",
       "\\end{tabular}\n"
      ],
      "text/markdown": [
       "\n",
       "A data.frame: 9 × 2\n",
       "\n",
       "| x2 &lt;fct&gt; | y &lt;int&gt; |\n",
       "|---|---|\n",
       "| 1 | 1 |\n",
       "| 2 | 2 |\n",
       "| 3 | 3 |\n",
       "| 1 | 4 |\n",
       "| 2 | 5 |\n",
       "| 3 | 6 |\n",
       "| 1 | 7 |\n",
       "| 2 | 8 |\n",
       "| 3 | 9 |\n",
       "\n"
      ],
      "text/plain": [
       "  x2 y\n",
       "1 1  1\n",
       "2 2  2\n",
       "3 3  3\n",
       "4 1  4\n",
       "5 2  5\n",
       "6 3  6\n",
       "7 1  7\n",
       "8 2  8\n",
       "9 3  9"
      ]
     },
     "metadata": {},
     "output_type": "display_data"
    },
    {
     "data": {
      "text/html": [
       "'integer'"
      ],
      "text/latex": [
       "'integer'"
      ],
      "text/markdown": [
       "'integer'"
      ],
      "text/plain": [
       "[1] \"integer\""
      ]
     },
     "metadata": {},
     "output_type": "display_data"
    },
    {
     "name": "stdout",
     "output_type": "stream",
     "text": [
      "'data.frame':\t9 obs. of  2 variables:\n",
      " $ x2: Factor w/ 3 levels \"1\",\"2\",\"3\": 1 2 3 1 2 3 1 2 3\n",
      " $ y : int  1 2 3 4 5 6 7 8 9\n"
     ]
    }
   ],
   "source": [
    "(x2  <- as.factor(c(1:3)))\n",
    "(df2 <- cbind.data.frame(x2, y))\n",
    "typeof(df2$x2)\n",
    "str(df2)"
   ]
  },
  {
   "cell_type": "markdown",
   "id": "8b333b1f",
   "metadata": {},
   "source": [
    "DEFINE EXISTING VARIABLE AS FACTOR #######################"
   ]
  },
  {
   "cell_type": "code",
   "execution_count": 4,
   "id": "c0f5f2e7",
   "metadata": {},
   "outputs": [
    {
     "data": {
      "text/html": [
       "<style>\n",
       ".list-inline {list-style: none; margin:0; padding: 0}\n",
       ".list-inline>li {display: inline-block}\n",
       ".list-inline>li:not(:last-child)::after {content: \"\\00b7\"; padding: 0 .5ex}\n",
       "</style>\n",
       "<ol class=list-inline><li>1</li><li>2</li><li>3</li><li>1</li><li>2</li><li>3</li><li>1</li><li>2</li><li>3</li></ol>\n",
       "\n",
       "<details>\n",
       "\t<summary style=display:list-item;cursor:pointer>\n",
       "\t\t<strong>Levels</strong>:\n",
       "\t</summary>\n",
       "\t<style>\n",
       "\t.list-inline {list-style: none; margin:0; padding: 0}\n",
       "\t.list-inline>li {display: inline-block}\n",
       "\t.list-inline>li:not(:last-child)::after {content: \"\\00b7\"; padding: 0 .5ex}\n",
       "\t</style>\n",
       "\t<ol class=list-inline><li>'1'</li><li>'2'</li><li>'3'</li></ol>\n",
       "</details>"
      ],
      "text/latex": [
       "\\begin{enumerate*}\n",
       "\\item 1\n",
       "\\item 2\n",
       "\\item 3\n",
       "\\item 1\n",
       "\\item 2\n",
       "\\item 3\n",
       "\\item 1\n",
       "\\item 2\n",
       "\\item 3\n",
       "\\end{enumerate*}\n",
       "\n",
       "\\emph{Levels}: \\begin{enumerate*}\n",
       "\\item '1'\n",
       "\\item '2'\n",
       "\\item '3'\n",
       "\\end{enumerate*}\n"
      ],
      "text/markdown": [
       "1. 1\n",
       "2. 2\n",
       "3. 3\n",
       "4. 1\n",
       "5. 2\n",
       "6. 3\n",
       "7. 1\n",
       "8. 2\n",
       "9. 3\n",
       "\n",
       "\n",
       "\n",
       "**Levels**: 1. '1'\n",
       "2. '2'\n",
       "3. '3'\n",
       "\n",
       "\n"
      ],
      "text/plain": [
       "[1] 1 2 3 1 2 3 1 2 3\n",
       "Levels: 1 2 3"
      ]
     },
     "metadata": {},
     "output_type": "display_data"
    },
    {
     "data": {
      "text/html": [
       "'integer'"
      ],
      "text/latex": [
       "'integer'"
      ],
      "text/markdown": [
       "'integer'"
      ],
      "text/plain": [
       "[1] \"integer\""
      ]
     },
     "metadata": {},
     "output_type": "display_data"
    },
    {
     "name": "stdout",
     "output_type": "stream",
     "text": [
      "'data.frame':\t9 obs. of  2 variables:\n",
      " $ x3: Factor w/ 3 levels \"1\",\"2\",\"3\": 1 2 3 1 2 3 1 2 3\n",
      " $ y : int  1 2 3 4 5 6 7 8 9\n"
     ]
    }
   ],
   "source": [
    "x3  <- c(1:3)\n",
    "df3 <- cbind.data.frame(x3, y)\n",
    "(df3$x3 <- factor(df3$x3,\n",
    "  levels = c(1, 2, 3)))\n",
    "typeof(df3$x3)\n",
    "str(df3)"
   ]
  },
  {
   "cell_type": "markdown",
   "id": "eb573022",
   "metadata": {},
   "source": [
    "LABELS FOR FACTOR ########################################"
   ]
  },
  {
   "cell_type": "code",
   "execution_count": 5,
   "id": "0cc7d9ec",
   "metadata": {},
   "outputs": [
    {
     "data": {
      "text/html": [
       "<table class=\"dataframe\">\n",
       "<caption>A data.frame: 9 × 2</caption>\n",
       "<thead>\n",
       "\t<tr><th scope=col>x4</th><th scope=col>y</th></tr>\n",
       "\t<tr><th scope=col>&lt;fct&gt;</th><th scope=col>&lt;int&gt;</th></tr>\n",
       "</thead>\n",
       "<tbody>\n",
       "\t<tr><td>macOS  </td><td>1</td></tr>\n",
       "\t<tr><td>Windows</td><td>2</td></tr>\n",
       "\t<tr><td>Linux  </td><td>3</td></tr>\n",
       "\t<tr><td>macOS  </td><td>4</td></tr>\n",
       "\t<tr><td>Windows</td><td>5</td></tr>\n",
       "\t<tr><td>Linux  </td><td>6</td></tr>\n",
       "\t<tr><td>macOS  </td><td>7</td></tr>\n",
       "\t<tr><td>Windows</td><td>8</td></tr>\n",
       "\t<tr><td>Linux  </td><td>9</td></tr>\n",
       "</tbody>\n",
       "</table>\n"
      ],
      "text/latex": [
       "A data.frame: 9 × 2\n",
       "\\begin{tabular}{ll}\n",
       " x4 & y\\\\\n",
       " <fct> & <int>\\\\\n",
       "\\hline\n",
       "\t macOS   & 1\\\\\n",
       "\t Windows & 2\\\\\n",
       "\t Linux   & 3\\\\\n",
       "\t macOS   & 4\\\\\n",
       "\t Windows & 5\\\\\n",
       "\t Linux   & 6\\\\\n",
       "\t macOS   & 7\\\\\n",
       "\t Windows & 8\\\\\n",
       "\t Linux   & 9\\\\\n",
       "\\end{tabular}\n"
      ],
      "text/markdown": [
       "\n",
       "A data.frame: 9 × 2\n",
       "\n",
       "| x4 &lt;fct&gt; | y &lt;int&gt; |\n",
       "|---|---|\n",
       "| macOS   | 1 |\n",
       "| Windows | 2 |\n",
       "| Linux   | 3 |\n",
       "| macOS   | 4 |\n",
       "| Windows | 5 |\n",
       "| Linux   | 6 |\n",
       "| macOS   | 7 |\n",
       "| Windows | 8 |\n",
       "| Linux   | 9 |\n",
       "\n"
      ],
      "text/plain": [
       "  x4      y\n",
       "1 macOS   1\n",
       "2 Windows 2\n",
       "3 Linux   3\n",
       "4 macOS   4\n",
       "5 Windows 5\n",
       "6 Linux   6\n",
       "7 macOS   7\n",
       "8 Windows 8\n",
       "9 Linux   9"
      ]
     },
     "metadata": {},
     "output_type": "display_data"
    },
    {
     "data": {
      "text/html": [
       "'integer'"
      ],
      "text/latex": [
       "'integer'"
      ],
      "text/markdown": [
       "'integer'"
      ],
      "text/plain": [
       "[1] \"integer\""
      ]
     },
     "metadata": {},
     "output_type": "display_data"
    },
    {
     "name": "stdout",
     "output_type": "stream",
     "text": [
      "'data.frame':\t9 obs. of  2 variables:\n",
      " $ x4: Factor w/ 3 levels \"macOS\",\"Windows\",..: 1 2 3 1 2 3 1 2 3\n",
      " $ y : int  1 2 3 4 5 6 7 8 9\n"
     ]
    }
   ],
   "source": [
    "x4  <- c(1:3)\n",
    "df4 <- cbind.data.frame(x4, y)\n",
    "df4$x4 <- factor(df4$x4,\n",
    "  levels = c(1, 2, 3),\n",
    "  labels = c(\"macOS\", \"Windows\", \"Linux\"))\n",
    "df4\n",
    "typeof(df4$x4)\n",
    "str(df4)"
   ]
  },
  {
   "cell_type": "markdown",
   "id": "a0c87091",
   "metadata": {},
   "source": [
    "ORDERED FACTORS AND LABELS ###############################"
   ]
  },
  {
   "cell_type": "code",
   "execution_count": 6,
   "id": "d3593b2e",
   "metadata": {},
   "outputs": [
    {
     "data": {
      "text/html": [
       "<style>\n",
       ".list-inline {list-style: none; margin:0; padding: 0}\n",
       ".list-inline>li {display: inline-block}\n",
       ".list-inline>li:not(:last-child)::after {content: \"\\00b7\"; padding: 0 .5ex}\n",
       "</style>\n",
       "<ol class=list-inline><li>Maybe</li><li>Yes</li><li>No</li><li>Maybe</li><li>Yes</li><li>No</li><li>Maybe</li><li>Yes</li><li>No</li></ol>\n",
       "\n",
       "<details>\n",
       "\t<summary style=display:list-item;cursor:pointer>\n",
       "\t\t<strong>Levels</strong>:\n",
       "\t</summary>\n",
       "\t<style>\n",
       "\t.list-inline {list-style: none; margin:0; padding: 0}\n",
       "\t.list-inline>li {display: inline-block}\n",
       "\t.list-inline>li:not(:last-child)::after {content: \"\\00b7\"; padding: 0 .5ex}\n",
       "\t</style>\n",
       "\t<ol class=list-inline><li>'No'</li><li>'Maybe'</li><li>'Yes'</li></ol>\n",
       "</details>"
      ],
      "text/latex": [
       "\\begin{enumerate*}\n",
       "\\item Maybe\n",
       "\\item Yes\n",
       "\\item No\n",
       "\\item Maybe\n",
       "\\item Yes\n",
       "\\item No\n",
       "\\item Maybe\n",
       "\\item Yes\n",
       "\\item No\n",
       "\\end{enumerate*}\n",
       "\n",
       "\\emph{Levels}: \\begin{enumerate*}\n",
       "\\item 'No'\n",
       "\\item 'Maybe'\n",
       "\\item 'Yes'\n",
       "\\end{enumerate*}\n"
      ],
      "text/markdown": [
       "1. Maybe\n",
       "2. Yes\n",
       "3. No\n",
       "4. Maybe\n",
       "5. Yes\n",
       "6. No\n",
       "7. Maybe\n",
       "8. Yes\n",
       "9. No\n",
       "\n",
       "\n",
       "\n",
       "**Levels**: 1. 'No'\n",
       "2. 'Maybe'\n",
       "3. 'Yes'\n",
       "\n",
       "\n"
      ],
      "text/plain": [
       "[1] Maybe Yes   No    Maybe Yes   No    Maybe Yes   No   \n",
       "Levels: No < Maybe < Yes"
      ]
     },
     "metadata": {},
     "output_type": "display_data"
    },
    {
     "data": {
      "text/html": [
       "<table class=\"dataframe\">\n",
       "<caption>A data.frame: 9 × 2</caption>\n",
       "<thead>\n",
       "\t<tr><th scope=col>x5</th><th scope=col>y</th></tr>\n",
       "\t<tr><th scope=col>&lt;ord&gt;</th><th scope=col>&lt;int&gt;</th></tr>\n",
       "</thead>\n",
       "<tbody>\n",
       "\t<tr><td>Maybe</td><td>1</td></tr>\n",
       "\t<tr><td>Yes  </td><td>2</td></tr>\n",
       "\t<tr><td>No   </td><td>3</td></tr>\n",
       "\t<tr><td>Maybe</td><td>4</td></tr>\n",
       "\t<tr><td>Yes  </td><td>5</td></tr>\n",
       "\t<tr><td>No   </td><td>6</td></tr>\n",
       "\t<tr><td>Maybe</td><td>7</td></tr>\n",
       "\t<tr><td>Yes  </td><td>8</td></tr>\n",
       "\t<tr><td>No   </td><td>9</td></tr>\n",
       "</tbody>\n",
       "</table>\n"
      ],
      "text/latex": [
       "A data.frame: 9 × 2\n",
       "\\begin{tabular}{ll}\n",
       " x5 & y\\\\\n",
       " <ord> & <int>\\\\\n",
       "\\hline\n",
       "\t Maybe & 1\\\\\n",
       "\t Yes   & 2\\\\\n",
       "\t No    & 3\\\\\n",
       "\t Maybe & 4\\\\\n",
       "\t Yes   & 5\\\\\n",
       "\t No    & 6\\\\\n",
       "\t Maybe & 7\\\\\n",
       "\t Yes   & 8\\\\\n",
       "\t No    & 9\\\\\n",
       "\\end{tabular}\n"
      ],
      "text/markdown": [
       "\n",
       "A data.frame: 9 × 2\n",
       "\n",
       "| x5 &lt;ord&gt; | y &lt;int&gt; |\n",
       "|---|---|\n",
       "| Maybe | 1 |\n",
       "| Yes   | 2 |\n",
       "| No    | 3 |\n",
       "| Maybe | 4 |\n",
       "| Yes   | 5 |\n",
       "| No    | 6 |\n",
       "| Maybe | 7 |\n",
       "| Yes   | 8 |\n",
       "| No    | 9 |\n",
       "\n"
      ],
      "text/plain": [
       "  x5    y\n",
       "1 Maybe 1\n",
       "2 Yes   2\n",
       "3 No    3\n",
       "4 Maybe 4\n",
       "5 Yes   5\n",
       "6 No    6\n",
       "7 Maybe 7\n",
       "8 Yes   8\n",
       "9 No    9"
      ]
     },
     "metadata": {},
     "output_type": "display_data"
    },
    {
     "data": {
      "text/html": [
       "'integer'"
      ],
      "text/latex": [
       "'integer'"
      ],
      "text/markdown": [
       "'integer'"
      ],
      "text/plain": [
       "[1] \"integer\""
      ]
     },
     "metadata": {},
     "output_type": "display_data"
    },
    {
     "name": "stdout",
     "output_type": "stream",
     "text": [
      "'data.frame':\t9 obs. of  2 variables:\n",
      " $ x5: Ord.factor w/ 3 levels \"No\"<\"Maybe\"<\"Yes\": 2 3 1 2 3 1 2 3 1\n",
      " $ y : int  1 2 3 4 5 6 7 8 9\n"
     ]
    }
   ],
   "source": [
    "x5  <- c(1:3)\n",
    "df5 <- cbind.data.frame(x5, y)\n",
    "(df5$x5 <- ordered(df5$x5,\n",
    "  levels = c(3, 1, 2),\n",
    "  labels = c(\"No\", \"Maybe\", \"Yes\")))\n",
    "df5\n",
    "typeof(df5$x5)\n",
    "str(df5)"
   ]
  },
  {
   "cell_type": "markdown",
   "id": "d876b362",
   "metadata": {},
   "source": [
    "CLEAN UP #################################################"
   ]
  },
  {
   "cell_type": "code",
   "execution_count": 7,
   "id": "19cd87e0",
   "metadata": {},
   "outputs": [],
   "source": [
    "# Clear environment\n",
    "rm(list = ls()) "
   ]
  },
  {
   "cell_type": "code",
   "execution_count": 8,
   "id": "48097e76",
   "metadata": {},
   "outputs": [
    {
     "name": "stdout",
     "output_type": "stream",
     "text": [
      "\f"
     ]
    }
   ],
   "source": [
    "# Clear console\n",
    "cat(\"\\014\")  # ctrl+L"
   ]
  },
  {
   "cell_type": "markdown",
   "id": "5dc7533b",
   "metadata": {},
   "source": [
    "Clear mind :)"
   ]
  }
 ],
 "metadata": {
  "jupytext": {
   "cell_metadata_filter": "-all",
   "main_language": "R",
   "notebook_metadata_filter": "-all"
  },
  "kernelspec": {
   "display_name": "R (system-wide)",
   "language": "r",
   "name": "ir"
  },
  "language_info": {
   "codemirror_mode": "r",
   "file_extension": ".r",
   "mimetype": "text/x-r-source",
   "name": "R",
   "pygments_lexer": "r",
   "version": "4.2.1"
  }
 },
 "nbformat": 4,
 "nbformat_minor": 5
}
