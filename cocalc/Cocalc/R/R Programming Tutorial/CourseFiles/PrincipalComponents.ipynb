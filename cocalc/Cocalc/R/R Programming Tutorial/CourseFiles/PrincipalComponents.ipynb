{
 "cells": [
  {
   "cell_type": "markdown",
   "id": "405c5faf",
   "metadata": {},
   "source": [
    "File:    R01_6_2_PrincipalComponents.R\n",
    "Course:  R01: R: An introduction\n",
    "Chapter: 6: Modeling data\n",
    "Section: 2: Principal components\n",
    "Author:  Barton Poulson, datalab.cc, @bartonpoulson\n",
    "Date:    2016-08-04"
   ]
  },
  {
   "cell_type": "markdown",
   "id": "60f50804",
   "metadata": {},
   "source": [
    "INSTALL AND LOAD PACKAGES ################################"
   ]
  },
  {
   "cell_type": "code",
   "execution_count": 1,
   "id": "d3ffdbf0",
   "metadata": {},
   "outputs": [
    {
     "ename": "ERROR",
     "evalue": "Error in loadNamespace(x): there is no package called ‘pacman’\n",
     "output_type": "error",
     "traceback": [
      "Error in loadNamespace(x): there is no package called ‘pacman’\nTraceback:\n",
      "1. loadNamespace(x)",
      "2. withRestarts(stop(cond), retry_loadNamespace = function() NULL)",
      "3. withOneRestart(expr, restarts[[1L]])",
      "4. doWithOneRestart(return(expr), restart)"
     ]
    }
   ],
   "source": [
    "# Packages I load every time; uses \"pacman\"\n",
    "pacman::p_load(pacman, dplyr, GGally, ggplot2, ggthemes, \n",
    "  ggvis, httr, lubridate, plotly, rio, rmarkdown, shiny, \n",
    "  stringr, tidyr) "
   ]
  },
  {
   "cell_type": "code",
   "execution_count": 2,
   "id": "b12cf2d2",
   "metadata": {},
   "outputs": [],
   "source": [
    "library(datasets)  # Load base packages manually"
   ]
  },
  {
   "cell_type": "markdown",
   "id": "9ca09550",
   "metadata": {},
   "source": [
    "LOAD DATA ################################################"
   ]
  },
  {
   "cell_type": "code",
   "execution_count": 3,
   "id": "afacfc11",
   "metadata": {},
   "outputs": [
    {
     "data": {
      "text/html": [
       "<table class=\"dataframe\">\n",
       "<caption>A data.frame: 6 × 11</caption>\n",
       "<thead>\n",
       "\t<tr><th></th><th scope=col>mpg</th><th scope=col>cyl</th><th scope=col>disp</th><th scope=col>hp</th><th scope=col>drat</th><th scope=col>wt</th><th scope=col>qsec</th><th scope=col>vs</th><th scope=col>am</th><th scope=col>gear</th><th scope=col>carb</th></tr>\n",
       "\t<tr><th></th><th scope=col>&lt;dbl&gt;</th><th scope=col>&lt;dbl&gt;</th><th scope=col>&lt;dbl&gt;</th><th scope=col>&lt;dbl&gt;</th><th scope=col>&lt;dbl&gt;</th><th scope=col>&lt;dbl&gt;</th><th scope=col>&lt;dbl&gt;</th><th scope=col>&lt;dbl&gt;</th><th scope=col>&lt;dbl&gt;</th><th scope=col>&lt;dbl&gt;</th><th scope=col>&lt;dbl&gt;</th></tr>\n",
       "</thead>\n",
       "<tbody>\n",
       "\t<tr><th scope=row>Mazda RX4</th><td>21.0</td><td>6</td><td>160</td><td>110</td><td>3.90</td><td>2.620</td><td>16.46</td><td>0</td><td>1</td><td>4</td><td>4</td></tr>\n",
       "\t<tr><th scope=row>Mazda RX4 Wag</th><td>21.0</td><td>6</td><td>160</td><td>110</td><td>3.90</td><td>2.875</td><td>17.02</td><td>0</td><td>1</td><td>4</td><td>4</td></tr>\n",
       "\t<tr><th scope=row>Datsun 710</th><td>22.8</td><td>4</td><td>108</td><td> 93</td><td>3.85</td><td>2.320</td><td>18.61</td><td>1</td><td>1</td><td>4</td><td>1</td></tr>\n",
       "\t<tr><th scope=row>Hornet 4 Drive</th><td>21.4</td><td>6</td><td>258</td><td>110</td><td>3.08</td><td>3.215</td><td>19.44</td><td>1</td><td>0</td><td>3</td><td>1</td></tr>\n",
       "\t<tr><th scope=row>Hornet Sportabout</th><td>18.7</td><td>8</td><td>360</td><td>175</td><td>3.15</td><td>3.440</td><td>17.02</td><td>0</td><td>0</td><td>3</td><td>2</td></tr>\n",
       "\t<tr><th scope=row>Valiant</th><td>18.1</td><td>6</td><td>225</td><td>105</td><td>2.76</td><td>3.460</td><td>20.22</td><td>1</td><td>0</td><td>3</td><td>1</td></tr>\n",
       "</tbody>\n",
       "</table>\n"
      ],
      "text/latex": [
       "A data.frame: 6 × 11\n",
       "\\begin{tabular}{r|lllllllllll}\n",
       "  & mpg & cyl & disp & hp & drat & wt & qsec & vs & am & gear & carb\\\\\n",
       "  & <dbl> & <dbl> & <dbl> & <dbl> & <dbl> & <dbl> & <dbl> & <dbl> & <dbl> & <dbl> & <dbl>\\\\\n",
       "\\hline\n",
       "\tMazda RX4 & 21.0 & 6 & 160 & 110 & 3.90 & 2.620 & 16.46 & 0 & 1 & 4 & 4\\\\\n",
       "\tMazda RX4 Wag & 21.0 & 6 & 160 & 110 & 3.90 & 2.875 & 17.02 & 0 & 1 & 4 & 4\\\\\n",
       "\tDatsun 710 & 22.8 & 4 & 108 &  93 & 3.85 & 2.320 & 18.61 & 1 & 1 & 4 & 1\\\\\n",
       "\tHornet 4 Drive & 21.4 & 6 & 258 & 110 & 3.08 & 3.215 & 19.44 & 1 & 0 & 3 & 1\\\\\n",
       "\tHornet Sportabout & 18.7 & 8 & 360 & 175 & 3.15 & 3.440 & 17.02 & 0 & 0 & 3 & 2\\\\\n",
       "\tValiant & 18.1 & 6 & 225 & 105 & 2.76 & 3.460 & 20.22 & 1 & 0 & 3 & 1\\\\\n",
       "\\end{tabular}\n"
      ],
      "text/markdown": [
       "\n",
       "A data.frame: 6 × 11\n",
       "\n",
       "| <!--/--> | mpg &lt;dbl&gt; | cyl &lt;dbl&gt; | disp &lt;dbl&gt; | hp &lt;dbl&gt; | drat &lt;dbl&gt; | wt &lt;dbl&gt; | qsec &lt;dbl&gt; | vs &lt;dbl&gt; | am &lt;dbl&gt; | gear &lt;dbl&gt; | carb &lt;dbl&gt; |\n",
       "|---|---|---|---|---|---|---|---|---|---|---|---|\n",
       "| Mazda RX4 | 21.0 | 6 | 160 | 110 | 3.90 | 2.620 | 16.46 | 0 | 1 | 4 | 4 |\n",
       "| Mazda RX4 Wag | 21.0 | 6 | 160 | 110 | 3.90 | 2.875 | 17.02 | 0 | 1 | 4 | 4 |\n",
       "| Datsun 710 | 22.8 | 4 | 108 |  93 | 3.85 | 2.320 | 18.61 | 1 | 1 | 4 | 1 |\n",
       "| Hornet 4 Drive | 21.4 | 6 | 258 | 110 | 3.08 | 3.215 | 19.44 | 1 | 0 | 3 | 1 |\n",
       "| Hornet Sportabout | 18.7 | 8 | 360 | 175 | 3.15 | 3.440 | 17.02 | 0 | 0 | 3 | 2 |\n",
       "| Valiant | 18.1 | 6 | 225 | 105 | 2.76 | 3.460 | 20.22 | 1 | 0 | 3 | 1 |\n",
       "\n"
      ],
      "text/plain": [
       "                  mpg  cyl disp hp  drat wt    qsec  vs am gear carb\n",
       "Mazda RX4         21.0 6   160  110 3.90 2.620 16.46 0  1  4    4   \n",
       "Mazda RX4 Wag     21.0 6   160  110 3.90 2.875 17.02 0  1  4    4   \n",
       "Datsun 710        22.8 4   108   93 3.85 2.320 18.61 1  1  4    1   \n",
       "Hornet 4 Drive    21.4 6   258  110 3.08 3.215 19.44 1  0  3    1   \n",
       "Hornet Sportabout 18.7 8   360  175 3.15 3.440 17.02 0  0  3    2   \n",
       "Valiant           18.1 6   225  105 2.76 3.460 20.22 1  0  3    1   "
      ]
     },
     "metadata": {},
     "output_type": "display_data"
    },
    {
     "data": {
      "text/html": [
       "<table class=\"dataframe\">\n",
       "<caption>A data.frame: 6 × 9</caption>\n",
       "<thead>\n",
       "\t<tr><th></th><th scope=col>mpg</th><th scope=col>cyl</th><th scope=col>disp</th><th scope=col>hp</th><th scope=col>wt</th><th scope=col>qsec</th><th scope=col>am</th><th scope=col>gear</th><th scope=col>carb</th></tr>\n",
       "\t<tr><th></th><th scope=col>&lt;dbl&gt;</th><th scope=col>&lt;dbl&gt;</th><th scope=col>&lt;dbl&gt;</th><th scope=col>&lt;dbl&gt;</th><th scope=col>&lt;dbl&gt;</th><th scope=col>&lt;dbl&gt;</th><th scope=col>&lt;dbl&gt;</th><th scope=col>&lt;dbl&gt;</th><th scope=col>&lt;dbl&gt;</th></tr>\n",
       "</thead>\n",
       "<tbody>\n",
       "\t<tr><th scope=row>Mazda RX4</th><td>21.0</td><td>6</td><td>160</td><td>110</td><td>2.620</td><td>16.46</td><td>1</td><td>4</td><td>4</td></tr>\n",
       "\t<tr><th scope=row>Mazda RX4 Wag</th><td>21.0</td><td>6</td><td>160</td><td>110</td><td>2.875</td><td>17.02</td><td>1</td><td>4</td><td>4</td></tr>\n",
       "\t<tr><th scope=row>Datsun 710</th><td>22.8</td><td>4</td><td>108</td><td> 93</td><td>2.320</td><td>18.61</td><td>1</td><td>4</td><td>1</td></tr>\n",
       "\t<tr><th scope=row>Hornet 4 Drive</th><td>21.4</td><td>6</td><td>258</td><td>110</td><td>3.215</td><td>19.44</td><td>0</td><td>3</td><td>1</td></tr>\n",
       "\t<tr><th scope=row>Hornet Sportabout</th><td>18.7</td><td>8</td><td>360</td><td>175</td><td>3.440</td><td>17.02</td><td>0</td><td>3</td><td>2</td></tr>\n",
       "\t<tr><th scope=row>Valiant</th><td>18.1</td><td>6</td><td>225</td><td>105</td><td>3.460</td><td>20.22</td><td>0</td><td>3</td><td>1</td></tr>\n",
       "</tbody>\n",
       "</table>\n"
      ],
      "text/latex": [
       "A data.frame: 6 × 9\n",
       "\\begin{tabular}{r|lllllllll}\n",
       "  & mpg & cyl & disp & hp & wt & qsec & am & gear & carb\\\\\n",
       "  & <dbl> & <dbl> & <dbl> & <dbl> & <dbl> & <dbl> & <dbl> & <dbl> & <dbl>\\\\\n",
       "\\hline\n",
       "\tMazda RX4 & 21.0 & 6 & 160 & 110 & 2.620 & 16.46 & 1 & 4 & 4\\\\\n",
       "\tMazda RX4 Wag & 21.0 & 6 & 160 & 110 & 2.875 & 17.02 & 1 & 4 & 4\\\\\n",
       "\tDatsun 710 & 22.8 & 4 & 108 &  93 & 2.320 & 18.61 & 1 & 4 & 1\\\\\n",
       "\tHornet 4 Drive & 21.4 & 6 & 258 & 110 & 3.215 & 19.44 & 0 & 3 & 1\\\\\n",
       "\tHornet Sportabout & 18.7 & 8 & 360 & 175 & 3.440 & 17.02 & 0 & 3 & 2\\\\\n",
       "\tValiant & 18.1 & 6 & 225 & 105 & 3.460 & 20.22 & 0 & 3 & 1\\\\\n",
       "\\end{tabular}\n"
      ],
      "text/markdown": [
       "\n",
       "A data.frame: 6 × 9\n",
       "\n",
       "| <!--/--> | mpg &lt;dbl&gt; | cyl &lt;dbl&gt; | disp &lt;dbl&gt; | hp &lt;dbl&gt; | wt &lt;dbl&gt; | qsec &lt;dbl&gt; | am &lt;dbl&gt; | gear &lt;dbl&gt; | carb &lt;dbl&gt; |\n",
       "|---|---|---|---|---|---|---|---|---|---|\n",
       "| Mazda RX4 | 21.0 | 6 | 160 | 110 | 2.620 | 16.46 | 1 | 4 | 4 |\n",
       "| Mazda RX4 Wag | 21.0 | 6 | 160 | 110 | 2.875 | 17.02 | 1 | 4 | 4 |\n",
       "| Datsun 710 | 22.8 | 4 | 108 |  93 | 2.320 | 18.61 | 1 | 4 | 1 |\n",
       "| Hornet 4 Drive | 21.4 | 6 | 258 | 110 | 3.215 | 19.44 | 0 | 3 | 1 |\n",
       "| Hornet Sportabout | 18.7 | 8 | 360 | 175 | 3.440 | 17.02 | 0 | 3 | 2 |\n",
       "| Valiant | 18.1 | 6 | 225 | 105 | 3.460 | 20.22 | 0 | 3 | 1 |\n",
       "\n"
      ],
      "text/plain": [
       "                  mpg  cyl disp hp  wt    qsec  am gear carb\n",
       "Mazda RX4         21.0 6   160  110 2.620 16.46 1  4    4   \n",
       "Mazda RX4 Wag     21.0 6   160  110 2.875 17.02 1  4    4   \n",
       "Datsun 710        22.8 4   108   93 2.320 18.61 1  4    1   \n",
       "Hornet 4 Drive    21.4 6   258  110 3.215 19.44 0  3    1   \n",
       "Hornet Sportabout 18.7 8   360  175 3.440 17.02 0  3    2   \n",
       "Valiant           18.1 6   225  105 3.460 20.22 0  3    1   "
      ]
     },
     "metadata": {},
     "output_type": "display_data"
    }
   ],
   "source": [
    "head(mtcars)\n",
    "cars <- mtcars[, c(1:4, 6:7, 9:11)]  # Select variables\n",
    "head(cars)"
   ]
  },
  {
   "cell_type": "markdown",
   "id": "354eab58",
   "metadata": {},
   "source": [
    "COMPUTE PCA ##############################################"
   ]
  },
  {
   "cell_type": "code",
   "execution_count": 4,
   "id": "48041b1e",
   "metadata": {},
   "outputs": [],
   "source": [
    "# For entire data frame ####################################\n",
    "pc <- prcomp(cars,\n",
    "        center = TRUE,  # Centers means to 0 (optional)\n",
    "        scale = TRUE)   # Sets unit variance (helpful)"
   ]
  },
  {
   "cell_type": "markdown",
   "id": "7d79f28a",
   "metadata": {},
   "source": [
    "To specify variables #####################################"
   ]
  },
  {
   "cell_type": "code",
   "execution_count": 5,
   "id": "73d1c7a0",
   "metadata": {},
   "outputs": [],
   "source": [
    "pc <- prcomp(~ mpg + cyl + disp + hp + wt + qsec + am +\n",
    "        gear + carb, \n",
    "        data = mtcars, \n",
    "        center = TRUE,\n",
    "        scale = TRUE)"
   ]
  },
  {
   "cell_type": "markdown",
   "id": "c5ec4129",
   "metadata": {},
   "source": [
    "EXAMINE RESULTS ##########################################"
   ]
  },
  {
   "cell_type": "code",
   "execution_count": 6,
   "id": "07297619",
   "metadata": {},
   "outputs": [
    {
     "data": {
      "text/plain": [
       "Importance of components:\n",
       "                          PC1    PC2     PC3     PC4     PC5     PC6     PC7\n",
       "Standard deviation     2.3391 1.5299 0.71836 0.46491 0.38903 0.35099 0.31714\n",
       "Proportion of Variance 0.6079 0.2601 0.05734 0.02402 0.01682 0.01369 0.01118\n",
       "Cumulative Proportion  0.6079 0.8680 0.92537 0.94939 0.96620 0.97989 0.99107\n",
       "                           PC8    PC9\n",
       "Standard deviation     0.24070 0.1499\n",
       "Proportion of Variance 0.00644 0.0025\n",
       "Cumulative Proportion  0.99750 1.0000"
      ]
     },
     "metadata": {},
     "output_type": "display_data"
    }
   ],
   "source": [
    "# Get summary stats\n",
    "summary(pc)"
   ]
  },
  {
   "cell_type": "code",
   "execution_count": 15,
   "id": "17737be2",
   "metadata": {},
   "outputs": [
    {
     "data": {
      "image/png": "[encoded data removed]",
      "text/plain": [
       "Plot with title “pc”"
      ]
     },
     "metadata": {
      "image/png": {
       "height": 420,
       "width": 420
      }
     },
     "output_type": "display_data"
    }
   ],
   "source": [
    "# Screeplot for number of components\n",
    "plot(pc, type='l')\n",
    "abline(h=1,col='red',lty=2)"
   ]
  },
  {
   "cell_type": "code",
   "execution_count": 8,
   "id": "532f4d2a",
   "metadata": {},
   "outputs": [
    {
     "data": {
      "text/plain": [
       "Standard deviations (1, .., p=9):\n",
       "[1] 2.3391410 1.5299383 0.7183646 0.4649052 0.3890348 0.3509911 0.3171373\n",
       "[8] 0.2406989 0.1498962\n",
       "\n",
       "Rotation (n x k) = (9 x 9):\n",
       "            PC1         PC2         PC3        PC4         PC5          PC6\n",
       "mpg  -0.4023287  0.02205294 -0.17272803 -0.1366169  0.31654561 -0.718609897\n",
       "cyl   0.4068870  0.03589482 -0.27747610  0.1410976  0.02066646 -0.214224005\n",
       "disp  0.4046964 -0.06479590 -0.17669890 -0.5089434  0.21525777  0.010052074\n",
       "hp    0.3699702  0.26518848 -0.01046827 -0.1273173  0.42166543 -0.254229405\n",
       "wt    0.3850686 -0.15955242  0.33740464 -0.4469327 -0.21141143  0.002897706\n",
       "qsec -0.2168575 -0.48343885  0.54815205 -0.2545226  0.05466817 -0.226660704\n",
       "am   -0.2594512  0.46039449 -0.19492256 -0.5354196 -0.55331460 -0.087616182\n",
       "gear -0.2195660  0.50608232  0.34579810 -0.1799814  0.50533262  0.393990378\n",
       "carb  0.2471604  0.44322600  0.53847588  0.3203064 -0.25696817 -0.398353829\n",
       "            PC7        PC8         PC9\n",
       "mpg   0.3633216 -0.1487806  0.13567069\n",
       "cyl   0.2099893  0.7951724  0.11635839\n",
       "disp  0.2007152 -0.1346748 -0.66099594\n",
       "hp   -0.6741641 -0.1210386  0.25474680\n",
       "wt    0.3392809 -0.1598333  0.57211273\n",
       "qsec -0.2986852  0.4144075 -0.19671599\n",
       "am   -0.2135605  0.1897463 -0.02465169\n",
       "gear  0.2484622  0.2614819  0.05482771\n",
       "carb  0.1321064 -0.1054553 -0.31083546"
      ]
     },
     "metadata": {},
     "output_type": "display_data"
    }
   ],
   "source": [
    "# Get standard deviations and rotation\n",
    "pc"
   ]
  },
  {
   "cell_type": "code",
   "execution_count": null,
   "id": "6e4dc9cf",
   "metadata": {},
   "outputs": [],
   "source": [
    "# See how cases load on PCs\n",
    "predict(pc) %>% round(2)"
   ]
  },
  {
   "cell_type": "code",
   "execution_count": null,
   "id": "6840941e",
   "metadata": {},
   "outputs": [],
   "source": [
    "# Biplot of first two components\n",
    "biplot(pc)"
   ]
  },
  {
   "cell_type": "markdown",
   "id": "48012562",
   "metadata": {},
   "source": [
    "CLEAN UP #################################################"
   ]
  },
  {
   "cell_type": "code",
   "execution_count": null,
   "id": "9641d8ad",
   "metadata": {},
   "outputs": [],
   "source": [
    "# Clear environment\n",
    "rm(list = ls()) "
   ]
  },
  {
   "cell_type": "code",
   "execution_count": null,
   "id": "534c9b93",
   "metadata": {},
   "outputs": [],
   "source": [
    "# Clear packages\n",
    "p_unload(all)  # Remove all add-ons\n",
    "detach(\"package:datasets\", unload = TRUE)  # For base"
   ]
  },
  {
   "cell_type": "code",
   "execution_count": null,
   "id": "823c84a6",
   "metadata": {},
   "outputs": [],
   "source": [
    "# Clear plots\n",
    "dev.off()  # But only if there IS a plot"
   ]
  },
  {
   "cell_type": "code",
   "execution_count": null,
   "id": "2f2a1d9e",
   "metadata": {},
   "outputs": [],
   "source": [
    "# Clear console\n",
    "cat(\"\\014\")  # ctrl+L"
   ]
  },
  {
   "cell_type": "markdown",
   "id": "32d0ae28",
   "metadata": {},
   "source": [
    "Clear mind :)"
   ]
  }
 ],
 "metadata": {
  "jupytext": {
   "cell_metadata_filter": "-all",
   "main_language": "R",
   "notebook_metadata_filter": "-all"
  },
  "kernelspec": {
   "display_name": "R (system-wide)",
   "language": "r",
   "name": "ir"
  },
  "language_info": {
   "codemirror_mode": "r",
   "file_extension": ".r",
   "mimetype": "text/x-r-source",
   "name": "R",
   "pygments_lexer": "r",
   "version": "4.2.1"
  }
 },
 "nbformat": 4,
 "nbformat_minor": 5
}
