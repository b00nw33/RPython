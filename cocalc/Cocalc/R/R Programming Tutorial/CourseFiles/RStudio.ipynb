{
 "cells": [
  {
   "cell_type": "markdown",
   "id": "b052eb4e",
   "metadata": {},
   "source": [
    "File:   RStudio.R\n",
    "Course: R: An Introduction (with RStudio)"
   ]
  },
  {
   "cell_type": "markdown",
   "id": "5e94e2d4",
   "metadata": {},
   "source": [
    "LOAD DATA ################################################"
   ]
  },
  {
   "cell_type": "code",
   "execution_count": null,
   "id": "3f0e7eed",
   "metadata": {},
   "outputs": [],
   "source": [
    "library(datasets)  # Load built-in datasets"
   ]
  },
  {
   "cell_type": "markdown",
   "id": "84dc649f",
   "metadata": {},
   "source": [
    "SUMMARIZE DATA ###########################################"
   ]
  },
  {
   "cell_type": "code",
   "execution_count": null,
   "id": "d4cf8ecc",
   "metadata": {},
   "outputs": [],
   "source": [
    "head(iris)         # Show the first six lines of iris data\n",
    "summary(iris)      # Summary statistics for iris data\n",
    "plot(iris)         # Scatterplot matrix for iris data"
   ]
  },
  {
   "cell_type": "markdown",
   "id": "47ea7e6c",
   "metadata": {},
   "source": [
    "CLEAN UP #################################################"
   ]
  },
  {
   "cell_type": "code",
   "execution_count": null,
   "id": "c9a08b58",
   "metadata": {},
   "outputs": [],
   "source": [
    "# Clear packages\n",
    "detach(\"package:datasets\", unload = TRUE)  # For base"
   ]
  },
  {
   "cell_type": "code",
   "execution_count": null,
   "id": "4e77b05a",
   "metadata": {},
   "outputs": [],
   "source": [
    "# Clear plots\n",
    "dev.off()  # But only if there IS a plot"
   ]
  },
  {
   "cell_type": "code",
   "execution_count": null,
   "id": "c525c51c",
   "metadata": {},
   "outputs": [],
   "source": [
    "# Clear console\n",
    "cat(\"\\014\")  # ctrl+L"
   ]
  },
  {
   "cell_type": "markdown",
   "id": "7610f560",
   "metadata": {},
   "source": [
    "Clear mind :)"
   ]
  }
 ],
 "metadata": {
  "jupytext": {
   "cell_metadata_filter": "-all",
   "main_language": "R",
   "notebook_metadata_filter": "-all"
  }
 },
 "nbformat": 4,
 "nbformat_minor": 5
}
