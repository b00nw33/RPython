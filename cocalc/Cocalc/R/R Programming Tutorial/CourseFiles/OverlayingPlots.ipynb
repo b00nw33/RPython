{
 "cells": [
  {
   "cell_type": "markdown",
   "id": "19b6eea1",
   "metadata": {},
   "source": [
    "File:   OverlayingPlots.R\n",
    "Course: R: An Introduction (with RStudio)"
   ]
  },
  {
   "cell_type": "markdown",
   "id": "4d9ccc8e",
   "metadata": {},
   "source": [
    "INSTALL AND LOAD PACKAGES ################################"
   ]
  },
  {
   "cell_type": "code",
   "execution_count": 1,
   "id": "414d1927",
   "metadata": {},
   "outputs": [],
   "source": [
    "library(datasets)  # Load/unload base packages manually"
   ]
  },
  {
   "cell_type": "markdown",
   "id": "3d8435e1",
   "metadata": {},
   "source": [
    "LOAD DATA ################################################"
   ]
  },
  {
   "cell_type": "code",
   "execution_count": 2,
   "id": "f5246321",
   "metadata": {},
   "outputs": [
    {
     "data": {
      "text/html": [
       "<style>\n",
       ".list-inline {list-style: none; margin:0; padding: 0}\n",
       ".list-inline>li {display: inline-block}\n",
       ".list-inline>li:not(:last-child)::after {content: \"\\00b7\"; padding: 0 .5ex}\n",
       "</style>\n",
       "<ol class=list-inline><li>269</li><li>321</li><li>585</li><li>871</li><li>1475</li><li>2821</li></ol>\n"
      ],
      "text/latex": [
       "\\begin{enumerate*}\n",
       "\\item 269\n",
       "\\item 321\n",
       "\\item 585\n",
       "\\item 871\n",
       "\\item 1475\n",
       "\\item 2821\n",
       "\\end{enumerate*}\n"
      ],
      "text/markdown": [
       "1. 269\n",
       "2. 321\n",
       "3. 585\n",
       "4. 871\n",
       "5. 1475\n",
       "6. 2821\n",
       "\n",
       "\n"
      ],
      "text/plain": [
       "[1]  269  321  585  871 1475 2821"
      ]
     },
     "metadata": {},
     "output_type": "display_data"
    },
    {
     "data": {
      "text/html": [
       "\n",
       "<table style=\"width: 100%;\"><tr><td>lynx {datasets}</td><td style=\"text-align: right;\">R Documentation</td></tr></table>\n",
       "\n",
       "<h2>Annual Canadian Lynx trappings 1821&ndash;1934</h2>\n",
       "\n",
       "<h3>Description</h3>\n",
       "\n",
       "<p>Annual numbers of lynx trappings for 1821&ndash;1934 in Canada. Taken from\n",
       "Brockwell &amp; Davis (1991), this appears to be the series considered\n",
       "by Campbell &amp; Walker (1977).\n",
       "</p>\n",
       "\n",
       "\n",
       "<h3>Usage</h3>\n",
       "\n",
       "<pre><code class='language-R'>lynx</code></pre>\n",
       "\n",
       "\n",
       "<h3>Source</h3>\n",
       "\n",
       "<p>Brockwell, P. J. and Davis, R. A. (1991).\n",
       "<em>Time Series and Forecasting Methods</em>.  Second edition.\n",
       "Springer. Series G (page 557).\n",
       "</p>\n",
       "\n",
       "\n",
       "<h3>References</h3>\n",
       "\n",
       "<p>Becker, R. A., Chambers, J. M. and Wilks, A. R. (1988).\n",
       "<em>The New S Language</em>.\n",
       "Wadsworth &amp; Brooks/Cole.\n",
       "</p>\n",
       "<p>Campbell, M. J. and Walker, A. M. (1977).\n",
       "A Survey of statistical work on the Mackenzie River series of annual\n",
       "Canadian lynx trappings for the years 1821&ndash;1934 and  a new analysis.\n",
       "<em>Journal of the Royal Statistical Society series A</em>, <b>140</b>,\n",
       "411&ndash;431.\n",
       "<a href=\"https://doi.org/10.2307/2345277\">doi:10.2307/2345277</a>.\n",
       "</p>\n",
       "\n",
       "<hr /><div style=\"text-align: center;\">[Package <em>datasets</em> version 4.2.1 ]</div>\n",
       "</div>"
      ],
      "text/latex": [
       "\\inputencoding{utf8}\n",
       "\\HeaderA{lynx}{Annual Canadian Lynx trappings 1821--1934}{lynx}\n",
       "\\keyword{datasets}{lynx}\n",
       "%\n",
       "\\begin{Description}\\relax\n",
       "Annual numbers of lynx trappings for 1821--1934 in Canada. Taken from\n",
       "Brockwell \\& Davis (1991), this appears to be the series considered\n",
       "by Campbell \\& Walker (1977).\n",
       "\\end{Description}\n",
       "%\n",
       "\\begin{Usage}\n",
       "\\begin{verbatim}\n",
       "lynx\n",
       "\\end{verbatim}\n",
       "\\end{Usage}\n",
       "%\n",
       "\\begin{Source}\\relax\n",
       "Brockwell, P. J. and Davis, R. A. (1991).\n",
       "\\emph{Time Series and Forecasting Methods}.  Second edition.\n",
       "Springer. Series G (page 557).\n",
       "\\end{Source}\n",
       "%\n",
       "\\begin{References}\\relax\n",
       "Becker, R. A., Chambers, J. M. and Wilks, A. R. (1988).\n",
       "\\emph{The New S Language}.\n",
       "Wadsworth \\& Brooks/Cole.\n",
       "\n",
       "Campbell, M. J. and Walker, A. M. (1977).\n",
       "A Survey of statistical work on the Mackenzie River series of annual\n",
       "Canadian lynx trappings for the years 1821--1934 and  a new analysis.\n",
       "\\emph{Journal of the Royal Statistical Society series A}, \\bold{140},\n",
       "411--431.\n",
       "\\Rhref{https://doi.org/10.2307/2345277}{doi:10.2307\\slash{}2345277}.\n",
       "\\end{References}"
      ],
      "text/plain": [
       "lynx                 package:datasets                  R Documentation\n",
       "\n",
       "_\bA_\bn_\bn_\bu_\ba_\bl _\bC_\ba_\bn_\ba_\bd_\bi_\ba_\bn _\bL_\by_\bn_\bx _\bt_\br_\ba_\bp_\bp_\bi_\bn_\bg_\bs _\b1_\b8_\b2_\b1-_\b1_\b9_\b3_\b4\n",
       "\n",
       "_\bD_\be_\bs_\bc_\br_\bi_\bp_\bt_\bi_\bo_\bn:\n",
       "\n",
       "     Annual numbers of lynx trappings for 1821-1934 in Canada. Taken\n",
       "     from Brockwell & Davis (1991), this appears to be the series\n",
       "     considered by Campbell & Walker (1977).\n",
       "\n",
       "_\bU_\bs_\ba_\bg_\be:\n",
       "\n",
       "     lynx\n",
       "     \n",
       "_\bS_\bo_\bu_\br_\bc_\be:\n",
       "\n",
       "     Brockwell, P. J. and Davis, R. A. (1991).  _Time Series and\n",
       "     Forecasting Methods_.  Second edition.  Springer. Series G (page\n",
       "     557).\n",
       "\n",
       "_\bR_\be_\bf_\be_\br_\be_\bn_\bc_\be_\bs:\n",
       "\n",
       "     Becker, R. A., Chambers, J. M. and Wilks, A. R. (1988).  _The New\n",
       "     S Language_.  Wadsworth & Brooks/Cole.\n",
       "\n",
       "     Campbell, M. J. and Walker, A. M. (1977).  A Survey of statistical\n",
       "     work on the Mackenzie River series of annual Canadian lynx\n",
       "     trappings for the years 1821-1934 and a new analysis.  _Journal of\n",
       "     the Royal Statistical Society series A_, *140*, 411-431.\n",
       "     doi:10.2307/2345277 <https://doi.org/10.2307/2345277>.\n"
      ]
     },
     "metadata": {},
     "output_type": "display_data"
    }
   ],
   "source": [
    "# Annual Canadian Lynx trappings 1821-1934\n",
    "?lynx\n",
    "head(lynx)"
   ]
  },
  {
   "cell_type": "markdown",
   "id": "a3b4375d",
   "metadata": {},
   "source": [
    "HISTOGRAM ################################################"
   ]
  },
  {
   "cell_type": "code",
   "execution_count": 3,
   "id": "c585f253",
   "metadata": {},
   "outputs": [
    {
     "data": {
      "image/png": "[encoded data removed]",
      "text/plain": [
       "Plot with title “Histogram of lynx”"
      ]
     },
     "metadata": {
      "image/png": {
       "height": 420,
       "width": 420
      }
     },
     "output_type": "display_data"
    }
   ],
   "source": [
    "# Default\n",
    "hist(lynx)"
   ]
  },
  {
   "cell_type": "code",
   "execution_count": 4,
   "id": "8d6e466e",
   "metadata": {},
   "outputs": [
    {
     "data": {
      "image/png": "[encoded data removed]",
      "text/plain": [
       "Plot with title “Histogram of Annual Canadian Lynx Trappings, 1821-1934”"
      ]
     },
     "metadata": {
      "image/png": {
       "height": 420,
       "width": 420
      }
     },
     "output_type": "display_data"
    }
   ],
   "source": [
    "# Add some options\n",
    "hist(lynx,\n",
    "     breaks = 14,          # \"Suggests\" 14 bins\n",
    "     freq   = FALSE,       # Axis shows density, not freq.\n",
    "     col    = \"thistle1\",  # Color for histogram\n",
    "     main   = paste(\"Histogram of Annual Canadian Lynx\",\n",
    "                    \"Trappings, 1821-1934\"),\n",
    "     xlab   = \"Number of Lynx Trapped\")"
   ]
  },
  {
   "cell_type": "code",
   "execution_count": 5,
   "id": "171d9a07",
   "metadata": {},
   "outputs": [
    {
     "ename": "ERROR",
     "evalue": "Error in plot.xy(xy.coords(x, y), type = type, ...): plot.new has not been called yet\n",
     "output_type": "error",
     "traceback": [
      "Error in plot.xy(xy.coords(x, y), type = type, ...): plot.new has not been called yet\nTraceback:\n",
      "1. curve(dnorm(x, mean = mean(lynx), sd = sd(lynx)), col = \"thistle4\", \n .     lwd = 2, add = TRUE)",
      "2. lines(x = x, y = y, type = type, ...)",
      "3. lines.default(x = x, y = y, type = type, ...)",
      "4. plot.xy(xy.coords(x, y), type = type, ...)"
     ]
    }
   ],
   "source": [
    "# Add a normal distribution\n",
    "curve(dnorm(x, mean = mean(lynx), sd = sd(lynx)),\n",
    "      col = \"thistle4\",  # Color of curve\n",
    "      lwd = 2,           # Line width of 2 pixels\n",
    "      add = TRUE)        # Superimpose on previous graph"
   ]
  },
  {
   "cell_type": "code",
   "execution_count": null,
   "id": "5a58deca",
   "metadata": {},
   "outputs": [],
   "source": [
    "# Add two kernel density estimators\n",
    "lines(density(lynx), col = \"blue\", lwd = 2)\n",
    "lines(density(lynx, adjust = 3), col = \"purple\", lwd = 2)"
   ]
  },
  {
   "cell_type": "code",
   "execution_count": null,
   "id": "35b1063f",
   "metadata": {},
   "outputs": [],
   "source": [
    "# Add a rug plot\n",
    "rug(lynx, lwd = 2, col = \"gray\")"
   ]
  },
  {
   "cell_type": "markdown",
   "id": "e281f588",
   "metadata": {},
   "source": [
    "CLEAN UP #################################################"
   ]
  },
  {
   "cell_type": "code",
   "execution_count": null,
   "id": "2c818550",
   "metadata": {},
   "outputs": [],
   "source": [
    "# Clear packages\n",
    "detach(\"package:datasets\", unload = TRUE)  # For base"
   ]
  },
  {
   "cell_type": "code",
   "execution_count": null,
   "id": "2ac28993",
   "metadata": {},
   "outputs": [],
   "source": [
    "# Clear plots\n",
    "dev.off()  # But only if there IS a plot"
   ]
  },
  {
   "cell_type": "code",
   "execution_count": null,
   "id": "8b56d00a",
   "metadata": {},
   "outputs": [],
   "source": [
    "# Clear console\n",
    "cat(\"\\014\")  # ctrl+L"
   ]
  },
  {
   "cell_type": "markdown",
   "id": "6496bc38",
   "metadata": {},
   "source": [
    "Clear mind :)"
   ]
  }
 ],
 "metadata": {
  "jupytext": {
   "cell_metadata_filter": "-all",
   "main_language": "R",
   "notebook_metadata_filter": "-all"
  },
  "kernelspec": {
   "display_name": "R (system-wide)",
   "language": "r",
   "name": "ir"
  },
  "language_info": {
   "codemirror_mode": "r",
   "file_extension": ".r",
   "mimetype": "text/x-r-source",
   "name": "R",
   "pygments_lexer": "r",
   "version": "4.2.1"
  }
 },
 "nbformat": 4,
 "nbformat_minor": 5
}
