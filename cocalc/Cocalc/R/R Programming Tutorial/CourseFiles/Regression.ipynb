{
 "cells": [
  {
   "cell_type": "markdown",
   "id": "e8876dc4",
   "metadata": {},
   "source": [
    "File:   Regression.R\n",
    "Course: R: An Introduction (with RStudio)"
   ]
  },
  {
   "cell_type": "markdown",
   "id": "827daa48",
   "metadata": {},
   "source": [
    "INSTALL AND LOAD PACKAGES ################################"
   ]
  },
  {
   "cell_type": "code",
   "execution_count": null,
   "id": "d2cc561b",
   "metadata": {},
   "outputs": [],
   "source": [
    "library(datasets)  # Load base packages manually"
   ]
  },
  {
   "cell_type": "code",
   "execution_count": null,
   "id": "6ad29631",
   "metadata": {},
   "outputs": [],
   "source": [
    "# Installs pacman (\"package manager\") if needed\n",
    "if (!require(\"pacman\")) install.packages(\"pacman\")"
   ]
  },
  {
   "cell_type": "code",
   "execution_count": null,
   "id": "08f74e01",
   "metadata": {},
   "outputs": [],
   "source": [
    "# Use pacman to load add-on packages as desired\n",
    "pacman::p_load(pacman, caret, lars, tidyverse)"
   ]
  },
  {
   "cell_type": "markdown",
   "id": "1d2d48a2",
   "metadata": {},
   "source": [
    "LOAD DATA ################################################"
   ]
  },
  {
   "cell_type": "code",
   "execution_count": 1,
   "id": "36e4cd7f",
   "metadata": {},
   "outputs": [
    {
     "data": {
      "text/html": [
       "<table class=\"dataframe\">\n",
       "<caption>A data.frame: 6 × 12</caption>\n",
       "<thead>\n",
       "\t<tr><th></th><th scope=col>CONT</th><th scope=col>INTG</th><th scope=col>DMNR</th><th scope=col>DILG</th><th scope=col>CFMG</th><th scope=col>DECI</th><th scope=col>PREP</th><th scope=col>FAMI</th><th scope=col>ORAL</th><th scope=col>WRIT</th><th scope=col>PHYS</th><th scope=col>RTEN</th></tr>\n",
       "\t<tr><th></th><th scope=col>&lt;dbl&gt;</th><th scope=col>&lt;dbl&gt;</th><th scope=col>&lt;dbl&gt;</th><th scope=col>&lt;dbl&gt;</th><th scope=col>&lt;dbl&gt;</th><th scope=col>&lt;dbl&gt;</th><th scope=col>&lt;dbl&gt;</th><th scope=col>&lt;dbl&gt;</th><th scope=col>&lt;dbl&gt;</th><th scope=col>&lt;dbl&gt;</th><th scope=col>&lt;dbl&gt;</th><th scope=col>&lt;dbl&gt;</th></tr>\n",
       "</thead>\n",
       "<tbody>\n",
       "\t<tr><th scope=row>AARONSON,L.H.</th><td>5.7</td><td>7.9</td><td>7.7</td><td>7.3</td><td>7.1</td><td>7.4</td><td>7.1</td><td>7.1</td><td>7.1</td><td>7.0</td><td>8.3</td><td>7.8</td></tr>\n",
       "\t<tr><th scope=row>ALEXANDER,J.M.</th><td>6.8</td><td>8.9</td><td>8.8</td><td>8.5</td><td>7.8</td><td>8.1</td><td>8.0</td><td>8.0</td><td>7.8</td><td>7.9</td><td>8.5</td><td>8.7</td></tr>\n",
       "\t<tr><th scope=row>ARMENTANO,A.J.</th><td>7.2</td><td>8.1</td><td>7.8</td><td>7.8</td><td>7.5</td><td>7.6</td><td>7.5</td><td>7.5</td><td>7.3</td><td>7.4</td><td>7.9</td><td>7.8</td></tr>\n",
       "\t<tr><th scope=row>BERDON,R.I.</th><td>6.8</td><td>8.8</td><td>8.5</td><td>8.8</td><td>8.3</td><td>8.5</td><td>8.7</td><td>8.7</td><td>8.4</td><td>8.5</td><td>8.8</td><td>8.7</td></tr>\n",
       "\t<tr><th scope=row>BRACKEN,J.J.</th><td>7.3</td><td>6.4</td><td>4.3</td><td>6.5</td><td>6.0</td><td>6.2</td><td>5.7</td><td>5.7</td><td>5.1</td><td>5.3</td><td>5.5</td><td>4.8</td></tr>\n",
       "\t<tr><th scope=row>BURNS,E.B.</th><td>6.2</td><td>8.8</td><td>8.7</td><td>8.5</td><td>7.9</td><td>8.0</td><td>8.1</td><td>8.0</td><td>8.0</td><td>8.0</td><td>8.6</td><td>8.6</td></tr>\n",
       "</tbody>\n",
       "</table>\n"
      ],
      "text/latex": [
       "A data.frame: 6 × 12\n",
       "\\begin{tabular}{r|llllllllllll}\n",
       "  & CONT & INTG & DMNR & DILG & CFMG & DECI & PREP & FAMI & ORAL & WRIT & PHYS & RTEN\\\\\n",
       "  & <dbl> & <dbl> & <dbl> & <dbl> & <dbl> & <dbl> & <dbl> & <dbl> & <dbl> & <dbl> & <dbl> & <dbl>\\\\\n",
       "\\hline\n",
       "\tAARONSON,L.H. & 5.7 & 7.9 & 7.7 & 7.3 & 7.1 & 7.4 & 7.1 & 7.1 & 7.1 & 7.0 & 8.3 & 7.8\\\\\n",
       "\tALEXANDER,J.M. & 6.8 & 8.9 & 8.8 & 8.5 & 7.8 & 8.1 & 8.0 & 8.0 & 7.8 & 7.9 & 8.5 & 8.7\\\\\n",
       "\tARMENTANO,A.J. & 7.2 & 8.1 & 7.8 & 7.8 & 7.5 & 7.6 & 7.5 & 7.5 & 7.3 & 7.4 & 7.9 & 7.8\\\\\n",
       "\tBERDON,R.I. & 6.8 & 8.8 & 8.5 & 8.8 & 8.3 & 8.5 & 8.7 & 8.7 & 8.4 & 8.5 & 8.8 & 8.7\\\\\n",
       "\tBRACKEN,J.J. & 7.3 & 6.4 & 4.3 & 6.5 & 6.0 & 6.2 & 5.7 & 5.7 & 5.1 & 5.3 & 5.5 & 4.8\\\\\n",
       "\tBURNS,E.B. & 6.2 & 8.8 & 8.7 & 8.5 & 7.9 & 8.0 & 8.1 & 8.0 & 8.0 & 8.0 & 8.6 & 8.6\\\\\n",
       "\\end{tabular}\n"
      ],
      "text/markdown": [
       "\n",
       "A data.frame: 6 × 12\n",
       "\n",
       "| <!--/--> | CONT &lt;dbl&gt; | INTG &lt;dbl&gt; | DMNR &lt;dbl&gt; | DILG &lt;dbl&gt; | CFMG &lt;dbl&gt; | DECI &lt;dbl&gt; | PREP &lt;dbl&gt; | FAMI &lt;dbl&gt; | ORAL &lt;dbl&gt; | WRIT &lt;dbl&gt; | PHYS &lt;dbl&gt; | RTEN &lt;dbl&gt; |\n",
       "|---|---|---|---|---|---|---|---|---|---|---|---|---|\n",
       "| AARONSON,L.H. | 5.7 | 7.9 | 7.7 | 7.3 | 7.1 | 7.4 | 7.1 | 7.1 | 7.1 | 7.0 | 8.3 | 7.8 |\n",
       "| ALEXANDER,J.M. | 6.8 | 8.9 | 8.8 | 8.5 | 7.8 | 8.1 | 8.0 | 8.0 | 7.8 | 7.9 | 8.5 | 8.7 |\n",
       "| ARMENTANO,A.J. | 7.2 | 8.1 | 7.8 | 7.8 | 7.5 | 7.6 | 7.5 | 7.5 | 7.3 | 7.4 | 7.9 | 7.8 |\n",
       "| BERDON,R.I. | 6.8 | 8.8 | 8.5 | 8.8 | 8.3 | 8.5 | 8.7 | 8.7 | 8.4 | 8.5 | 8.8 | 8.7 |\n",
       "| BRACKEN,J.J. | 7.3 | 6.4 | 4.3 | 6.5 | 6.0 | 6.2 | 5.7 | 5.7 | 5.1 | 5.3 | 5.5 | 4.8 |\n",
       "| BURNS,E.B. | 6.2 | 8.8 | 8.7 | 8.5 | 7.9 | 8.0 | 8.1 | 8.0 | 8.0 | 8.0 | 8.6 | 8.6 |\n",
       "\n"
      ],
      "text/plain": [
       "               CONT INTG DMNR DILG CFMG DECI PREP FAMI ORAL WRIT PHYS RTEN\n",
       "AARONSON,L.H.  5.7  7.9  7.7  7.3  7.1  7.4  7.1  7.1  7.1  7.0  8.3  7.8 \n",
       "ALEXANDER,J.M. 6.8  8.9  8.8  8.5  7.8  8.1  8.0  8.0  7.8  7.9  8.5  8.7 \n",
       "ARMENTANO,A.J. 7.2  8.1  7.8  7.8  7.5  7.6  7.5  7.5  7.3  7.4  7.9  7.8 \n",
       "BERDON,R.I.    6.8  8.8  8.5  8.8  8.3  8.5  8.7  8.7  8.4  8.5  8.8  8.7 \n",
       "BRACKEN,J.J.   7.3  6.4  4.3  6.5  6.0  6.2  5.7  5.7  5.1  5.3  5.5  4.8 \n",
       "BURNS,E.B.     6.2  8.8  8.7  8.5  7.9  8.0  8.1  8.0  8.0  8.0  8.6  8.6 "
      ]
     },
     "metadata": {},
     "output_type": "display_data"
    },
    {
     "data": {
      "text/html": [
       "\n",
       "<table style=\"width: 100%;\"><tr><td>USJudgeRatings {datasets}</td><td style=\"text-align: right;\">R Documentation</td></tr></table>\n",
       "\n",
       "<h2>Lawyers' Ratings of State Judges in the US Superior Court</h2>\n",
       "\n",
       "<h3>Description</h3>\n",
       "\n",
       "<p>Lawyers' ratings of state judges in the US Superior Court.\n",
       "</p>\n",
       "\n",
       "\n",
       "<h3>Usage</h3>\n",
       "\n",
       "<pre><code class='language-R'>USJudgeRatings</code></pre>\n",
       "\n",
       "\n",
       "<h3>Format</h3>\n",
       "\n",
       "<p>A data frame containing 43 observations on 12 numeric variables.\n",
       "</p>\n",
       "\n",
       "<table>\n",
       "<tr>\n",
       " <td style=\"text-align: right;\">\n",
       "    [,1] </td><td style=\"text-align: left;\"> CONT </td><td style=\"text-align: left;\"> Number of contacts of lawyer with judge.</td>\n",
       "</tr>\n",
       "<tr>\n",
       " <td style=\"text-align: right;\">\n",
       "    [,2] </td><td style=\"text-align: left;\"> INTG </td><td style=\"text-align: left;\"> Judicial integrity.</td>\n",
       "</tr>\n",
       "<tr>\n",
       " <td style=\"text-align: right;\">\n",
       "    [,3] </td><td style=\"text-align: left;\"> DMNR </td><td style=\"text-align: left;\"> Demeanor.</td>\n",
       "</tr>\n",
       "<tr>\n",
       " <td style=\"text-align: right;\">\n",
       "    [,4] </td><td style=\"text-align: left;\"> DILG </td><td style=\"text-align: left;\"> Diligence.</td>\n",
       "</tr>\n",
       "<tr>\n",
       " <td style=\"text-align: right;\">\n",
       "    [,5] </td><td style=\"text-align: left;\"> CFMG </td><td style=\"text-align: left;\"> Case flow managing.</td>\n",
       "</tr>\n",
       "<tr>\n",
       " <td style=\"text-align: right;\">\n",
       "    [,6] </td><td style=\"text-align: left;\"> DECI </td><td style=\"text-align: left;\"> Prompt decisions.</td>\n",
       "</tr>\n",
       "<tr>\n",
       " <td style=\"text-align: right;\">\n",
       "    [,7] </td><td style=\"text-align: left;\"> PREP </td><td style=\"text-align: left;\"> Preparation for trial.</td>\n",
       "</tr>\n",
       "<tr>\n",
       " <td style=\"text-align: right;\">\n",
       "    [,8] </td><td style=\"text-align: left;\"> FAMI </td><td style=\"text-align: left;\"> Familiarity with law.</td>\n",
       "</tr>\n",
       "<tr>\n",
       " <td style=\"text-align: right;\">\n",
       "    [,9] </td><td style=\"text-align: left;\"> ORAL </td><td style=\"text-align: left;\"> Sound oral rulings.</td>\n",
       "</tr>\n",
       "<tr>\n",
       " <td style=\"text-align: right;\">\n",
       "    [,10] </td><td style=\"text-align: left;\"> WRIT </td><td style=\"text-align: left;\"> Sound written rulings.</td>\n",
       "</tr>\n",
       "<tr>\n",
       " <td style=\"text-align: right;\">\n",
       "    [,11] </td><td style=\"text-align: left;\"> PHYS </td><td style=\"text-align: left;\"> Physical ability.</td>\n",
       "</tr>\n",
       "<tr>\n",
       " <td style=\"text-align: right;\">\n",
       "    [,12] </td><td style=\"text-align: left;\"> RTEN </td><td style=\"text-align: left;\"> Worthy of retention.\n",
       "  </td>\n",
       "</tr>\n",
       "\n",
       "</table>\n",
       "\n",
       "\n",
       "\n",
       "<h3>Source</h3>\n",
       "\n",
       "<p>New Haven Register, 14 January, 1977 (from John Hartigan).\n",
       "</p>\n",
       "\n",
       "\n",
       "<h3>Examples</h3>\n",
       "\n",
       "<pre><code class='language-R'>require(graphics)\n",
       "pairs(USJudgeRatings, main = \"USJudgeRatings data\")\n",
       "</code></pre>\n",
       "\n",
       "<hr /><div style=\"text-align: center;\">[Package <em>datasets</em> version 4.2.1 ]</div>\n",
       "</div>"
      ],
      "text/latex": [
       "\\inputencoding{utf8}\n",
       "\\HeaderA{USJudgeRatings}{Lawyers' Ratings of State Judges in the US Superior Court}{USJudgeRatings}\n",
       "\\keyword{datasets}{USJudgeRatings}\n",
       "%\n",
       "\\begin{Description}\\relax\n",
       "Lawyers' ratings of state judges in the US Superior Court.\n",
       "\\end{Description}\n",
       "%\n",
       "\\begin{Usage}\n",
       "\\begin{verbatim}\n",
       "USJudgeRatings\n",
       "\\end{verbatim}\n",
       "\\end{Usage}\n",
       "%\n",
       "\\begin{Format}\n",
       "A data frame containing 43 observations on 12 numeric variables.\n",
       "\n",
       "\\Tabular{rll}{\n",
       "[,1] & CONT & Number of contacts of lawyer with judge.\\\\{}\n",
       "[,2] & INTG & Judicial integrity.\\\\{}\n",
       "[,3] & DMNR & Demeanor.\\\\{}\n",
       "[,4] & DILG & Diligence.\\\\{}\n",
       "[,5] & CFMG & Case flow managing.\\\\{}\n",
       "[,6] & DECI & Prompt decisions.\\\\{}\n",
       "[,7] & PREP & Preparation for trial.\\\\{}\n",
       "[,8] & FAMI & Familiarity with law.\\\\{}\n",
       "[,9] & ORAL & Sound oral rulings.\\\\{}\n",
       "[,10] & WRIT & Sound written rulings.\\\\{}\n",
       "[,11] & PHYS & Physical ability.\\\\{}\n",
       "[,12] & RTEN & Worthy of retention.\n",
       "}\n",
       "\\end{Format}\n",
       "%\n",
       "\\begin{Source}\\relax\n",
       "New Haven Register, 14 January, 1977 (from John Hartigan).\n",
       "\\end{Source}\n",
       "%\n",
       "\\begin{Examples}\n",
       "\\begin{ExampleCode}\n",
       "require(graphics)\n",
       "pairs(USJudgeRatings, main = \"USJudgeRatings data\")\n",
       "\\end{ExampleCode}\n",
       "\\end{Examples}"
      ],
      "text/plain": [
       "USJudgeRatings            package:datasets             R Documentation\n",
       "\n",
       "_\bL_\ba_\bw_\by_\be_\br_\bs' _\bR_\ba_\bt_\bi_\bn_\bg_\bs _\bo_\bf _\bS_\bt_\ba_\bt_\be _\bJ_\bu_\bd_\bg_\be_\bs _\bi_\bn _\bt_\bh_\be _\bU_\bS _\bS_\bu_\bp_\be_\br_\bi_\bo_\br _\bC_\bo_\bu_\br_\bt\n",
       "\n",
       "_\bD_\be_\bs_\bc_\br_\bi_\bp_\bt_\bi_\bo_\bn:\n",
       "\n",
       "     Lawyers' ratings of state judges in the US Superior Court.\n",
       "\n",
       "_\bU_\bs_\ba_\bg_\be:\n",
       "\n",
       "     USJudgeRatings\n",
       "     \n",
       "_\bF_\bo_\br_\bm_\ba_\bt:\n",
       "\n",
       "     A data frame containing 43 observations on 12 numeric variables.\n",
       "\n",
       "        [,1]  CONT  Number of contacts of lawyer with judge. \n",
       "        [,2]  INTG  Judicial integrity.                      \n",
       "        [,3]  DMNR  Demeanor.                                \n",
       "        [,4]  DILG  Diligence.                               \n",
       "        [,5]  CFMG  Case flow managing.                      \n",
       "        [,6]  DECI  Prompt decisions.                        \n",
       "        [,7]  PREP  Preparation for trial.                   \n",
       "        [,8]  FAMI  Familiarity with law.                    \n",
       "        [,9]  ORAL  Sound oral rulings.                      \n",
       "       [,10]  WRIT  Sound written rulings.                   \n",
       "       [,11]  PHYS  Physical ability.                        \n",
       "       [,12]  RTEN  Worthy of retention.                     \n",
       "      \n",
       "_\bS_\bo_\bu_\br_\bc_\be:\n",
       "\n",
       "     New Haven Register, 14 January, 1977 (from John Hartigan).\n",
       "\n",
       "_\bE_\bx_\ba_\bm_\bp_\bl_\be_\bs:\n",
       "\n",
       "     require(graphics)\n",
       "     pairs(USJudgeRatings, main = \"USJudgeRatings data\")\n",
       "     "
      ]
     },
     "metadata": {},
     "output_type": "display_data"
    }
   ],
   "source": [
    "?USJudgeRatings\n",
    "head(USJudgeRatings)\n",
    "data <- USJudgeRatings"
   ]
  },
  {
   "cell_type": "code",
   "execution_count": 2,
   "id": "a5209753",
   "metadata": {},
   "outputs": [],
   "source": [
    "# Define variable groups\n",
    "x <- as.matrix(data[, -12])\n",
    "y <- data[, 12]"
   ]
  },
  {
   "cell_type": "markdown",
   "id": "7f0cccfe",
   "metadata": {},
   "source": [
    "REGRESSION WITH SIMULTANEOUS ENTRY #######################"
   ]
  },
  {
   "cell_type": "code",
   "execution_count": 3,
   "id": "d405d138",
   "metadata": {},
   "outputs": [],
   "source": [
    "# Using variable groups\n",
    "reg1 <- lm(y ~ x)"
   ]
  },
  {
   "cell_type": "code",
   "execution_count": null,
   "id": "d579997c",
   "metadata": {},
   "outputs": [],
   "source": [
    "# Or specify variables individually\n",
    "reg1 <- lm(RTEN ~ CONT + INTG + DMNR + DILG + CFMG +\n",
    "           DECI + PREP + FAMI + ORAL + WRIT + PHYS,\n",
    "           data = USJudgeRatings)"
   ]
  },
  {
   "cell_type": "code",
   "execution_count": null,
   "id": "38f7bb36",
   "metadata": {},
   "outputs": [],
   "source": [
    "# Results\n",
    "reg1           # Coefficients only\n",
    "summary(reg1)  # Inferential tests"
   ]
  },
  {
   "cell_type": "markdown",
   "id": "42c9f048",
   "metadata": {},
   "source": [
    "MORE SUMMARIES ###########################################"
   ]
  },
  {
   "cell_type": "code",
   "execution_count": null,
   "id": "4909fc6a",
   "metadata": {},
   "outputs": [],
   "source": [
    "anova(reg1)            # Coefficients w/inferential tests\n",
    "coef(reg1)             # Coefficients (same as reg1)\n",
    "confint(reg1)          # CI for coefficients\n",
    "resid(reg1)            # Residuals case-by-case\n",
    "hist(residuals(reg1))  # Histogram of residuals"
   ]
  },
  {
   "cell_type": "markdown",
   "id": "a88cbab3",
   "metadata": {},
   "source": [
    "ADDITIONAL MODELS ########################################"
   ]
  },
  {
   "cell_type": "code",
   "execution_count": null,
   "id": "f2192cb0",
   "metadata": {},
   "outputs": [],
   "source": [
    "# Conventional stepwise regression\n",
    "stepwise <- lars(x, y, type = \"stepwise\")"
   ]
  },
  {
   "cell_type": "code",
   "execution_count": null,
   "id": "7b4d9d02",
   "metadata": {},
   "outputs": [],
   "source": [
    "# Stagewise: Like stepwise but with better generalizability\n",
    "forward <- lars(x, y, type = \"forward.stagewise\")"
   ]
  },
  {
   "cell_type": "code",
   "execution_count": null,
   "id": "d5a729c6",
   "metadata": {},
   "outputs": [],
   "source": [
    "# LAR: Least Angle Regression\n",
    "lar <- lars(x, y, type = \"lar\")"
   ]
  },
  {
   "cell_type": "code",
   "execution_count": null,
   "id": "938e16c4",
   "metadata": {},
   "outputs": [],
   "source": [
    "# LASSO: Least Absolute Shrinkage and Selection Operator\n",
    "lasso <- lars(x, y, type = \"lasso\")"
   ]
  },
  {
   "cell_type": "code",
   "execution_count": null,
   "id": "90bcfe2f",
   "metadata": {},
   "outputs": [],
   "source": [
    "# Comparison of R^2 for new models\n",
    "r2comp <- c(stepwise$R2[6], forward$R2[6], \n",
    "            lar$R2[6], lasso$R2[6]) %>% \n",
    "            round(2)\n",
    "names(r2comp) <- c(\"stepwise\", \"forward\", \"lar\", \"lasso\") \n",
    "r2comp  # Show values of R^2"
   ]
  },
  {
   "cell_type": "markdown",
   "id": "4e8e971f",
   "metadata": {},
   "source": [
    "CLEAN UP #################################################"
   ]
  },
  {
   "cell_type": "code",
   "execution_count": null,
   "id": "40f0e05e",
   "metadata": {},
   "outputs": [],
   "source": [
    "# Clear environment\n",
    "rm(list = ls()) "
   ]
  },
  {
   "cell_type": "code",
   "execution_count": null,
   "id": "2ae6c6a7",
   "metadata": {},
   "outputs": [],
   "source": [
    "# Clear packages\n",
    "p_unload(all)  # Remove all add-ons\n",
    "detach(\"package:datasets\", unload = TRUE)  # For base"
   ]
  },
  {
   "cell_type": "code",
   "execution_count": null,
   "id": "68221008",
   "metadata": {},
   "outputs": [],
   "source": [
    "# Clear plots\n",
    "dev.off()  # But only if there IS a plot"
   ]
  },
  {
   "cell_type": "code",
   "execution_count": null,
   "id": "3b8146f5",
   "metadata": {},
   "outputs": [],
   "source": [
    "# Clear console\n",
    "cat(\"\\014\")  # ctrl+L"
   ]
  },
  {
   "cell_type": "markdown",
   "id": "ea8503e3",
   "metadata": {},
   "source": [
    "Clear mind :)"
   ]
  }
 ],
 "metadata": {
  "jupytext": {
   "cell_metadata_filter": "-all",
   "main_language": "R",
   "notebook_metadata_filter": "-all"
  },
  "kernelspec": {
   "display_name": "R (system-wide)",
   "language": "r",
   "name": "ir"
  },
  "language_info": {
   "codemirror_mode": "r",
   "file_extension": ".r",
   "mimetype": "text/x-r-source",
   "name": "R",
   "pygments_lexer": "r",
   "version": "4.2.1"
  }
 },
 "nbformat": 4,
 "nbformat_minor": 5
}
