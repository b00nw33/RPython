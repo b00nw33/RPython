{
 "cells": [
  {
   "cell_type": "markdown",
   "id": "88102563",
   "metadata": {},
   "source": [
    "File:   Tidyverse.R\n",
    "Course: R: An Introduction (with RStudio)"
   ]
  },
  {
   "cell_type": "markdown",
   "id": "f5d774a4",
   "metadata": {},
   "source": [
    "LOAD PACKAGES ############################################"
   ]
  },
  {
   "cell_type": "code",
   "execution_count": null,
   "id": "b309d9a5",
   "metadata": {},
   "outputs": [],
   "source": [
    "# I recommend \"pacman\" for managing add-on packages. It will\n",
    "# install packages, if needed, and then load the packages.\n",
    "install.packages(\"pacman\")"
   ]
  },
  {
   "cell_type": "code",
   "execution_count": null,
   "id": "75544aa8",
   "metadata": {},
   "outputs": [],
   "source": [
    "# Then load the package by using either of the following:\n",
    "require(pacman)  # Gives a confirmation message.\n",
    "library(pacman)  # No message."
   ]
  },
  {
   "cell_type": "code",
   "execution_count": null,
   "id": "3615bd14",
   "metadata": {},
   "outputs": [],
   "source": [
    "# Or, by using \"pacman::p_load\" you can use the p_load\n",
    "# function from pacman without actually loading pacman.\n",
    "# These are packages I load every time.\n",
    "pacman::p_load(pacman, dplyr, GGally, ggplot2, ggthemes, \n",
    "  ggvis, httr, lubridate, plotly, rio, rmarkdown, shiny, \n",
    "  stringr, tidyr) "
   ]
  },
  {
   "cell_type": "code",
   "execution_count": null,
   "id": "c16ec3aa",
   "metadata": {},
   "outputs": [],
   "source": [
    "library(datasets)  # Load/unload base packages manually"
   ]
  },
  {
   "cell_type": "markdown",
   "id": "69429bd1",
   "metadata": {},
   "source": [
    "CLEAN UP #################################################"
   ]
  },
  {
   "cell_type": "code",
   "execution_count": null,
   "id": "1e4b1f1d",
   "metadata": {},
   "outputs": [],
   "source": [
    "# Clear packages\n",
    "p_unload(dplyr, tidyr, stringr) # Clear specific packages\n",
    "p_unload(all)  # Easier: clears all add-ons\n",
    "detach(\"package:datasets\", unload = TRUE)  # For base"
   ]
  },
  {
   "cell_type": "code",
   "execution_count": null,
   "id": "e8828d57",
   "metadata": {},
   "outputs": [],
   "source": [
    "# Clear console\n",
    "cat(\"\\014\")  # ctrl+L"
   ]
  },
  {
   "cell_type": "markdown",
   "id": "83c03b45",
   "metadata": {},
   "source": [
    "Clear mind :)"
   ]
  }
 ],
 "metadata": {
  "jupytext": {
   "cell_metadata_filter": "-all",
   "main_language": "R",
   "notebook_metadata_filter": "-all"
  }
 },
 "nbformat": 4,
 "nbformat_minor": 5
}
