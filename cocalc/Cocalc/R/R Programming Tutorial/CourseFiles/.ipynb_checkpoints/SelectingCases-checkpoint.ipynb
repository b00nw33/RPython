{
 "cells": [
  {
   "cell_type": "markdown",
   "id": "179d6119",
   "metadata": {},
   "source": [
    "File:   SelectingCases.R\n",
    "Course: R: An Introduction (with RStudio)"
   ]
  },
  {
   "cell_type": "markdown",
   "id": "04b623be",
   "metadata": {},
   "source": [
    "INSTALL AND LOAD PACKAGES ################################"
   ]
  },
  {
   "cell_type": "code",
   "execution_count": null,
   "id": "9a535043",
   "metadata": {},
   "outputs": [],
   "source": [
    "library(datasets)  # Load/unload base packages manually"
   ]
  },
  {
   "cell_type": "markdown",
   "id": "7d5abc34",
   "metadata": {},
   "source": [
    "LOAD DATA ################################################"
   ]
  },
  {
   "cell_type": "code",
   "execution_count": null,
   "id": "ef4f627e",
   "metadata": {},
   "outputs": [],
   "source": [
    "head(iris)"
   ]
  },
  {
   "cell_type": "markdown",
   "id": "14909c6e",
   "metadata": {},
   "source": [
    "ALL DATA #################################################"
   ]
  },
  {
   "cell_type": "code",
   "execution_count": null,
   "id": "c4b48803",
   "metadata": {},
   "outputs": [],
   "source": [
    "hist(iris$Petal.Length)\n",
    "summary(iris$Petal.Length)"
   ]
  },
  {
   "cell_type": "code",
   "execution_count": null,
   "id": "258f9ef4",
   "metadata": {},
   "outputs": [],
   "source": [
    "summary(iris$Species)  # Get names and n for each species"
   ]
  },
  {
   "cell_type": "markdown",
   "id": "81ddcf0b",
   "metadata": {},
   "source": [
    "SELECT BY CATEGORY #######################################"
   ]
  },
  {
   "cell_type": "code",
   "execution_count": null,
   "id": "f059bfdf",
   "metadata": {},
   "outputs": [],
   "source": [
    "# Versicolor\n",
    "hist(iris$Petal.Length[iris$Species == \"versicolor\"],\n",
    "  main = \"Petal Length: Versicolor\")"
   ]
  },
  {
   "cell_type": "code",
   "execution_count": null,
   "id": "6d5a5be2",
   "metadata": {},
   "outputs": [],
   "source": [
    "# Virginica\n",
    "hist(iris$Petal.Length[iris$Species == \"virginica\"],\n",
    "  main = \"Petal Length: Virginica\")"
   ]
  },
  {
   "cell_type": "code",
   "execution_count": null,
   "id": "5b52f630",
   "metadata": {},
   "outputs": [],
   "source": [
    "# Setosa\n",
    "hist(iris$Petal.Length[iris$Species == \"setosa\"],\n",
    "  main = \"Petal Length: Setosa\")"
   ]
  },
  {
   "cell_type": "markdown",
   "id": "8ce7c46b",
   "metadata": {},
   "source": [
    "SELECT BY VALUE ##########################################"
   ]
  },
  {
   "cell_type": "code",
   "execution_count": null,
   "id": "65e248ca",
   "metadata": {},
   "outputs": [],
   "source": [
    "# Short petals only (all Setosa)\n",
    "hist(iris$Petal.Length[iris$Petal.Length < 2],\n",
    "  main = \"Petal Length < 2\")"
   ]
  },
  {
   "cell_type": "markdown",
   "id": "ae0fc95d",
   "metadata": {},
   "source": [
    "MULTIPLE SELECTORS #######################################"
   ]
  },
  {
   "cell_type": "code",
   "execution_count": null,
   "id": "ffaba5b8",
   "metadata": {},
   "outputs": [],
   "source": [
    "# Short Virginica petals only\n",
    "hist(iris$Petal.Length[iris$Species == \"virginica\" & \n",
    "  iris$Petal.Length < 5.5],\n",
    "  main = \"Petal Length: Short Virginica\")"
   ]
  },
  {
   "cell_type": "markdown",
   "id": "d0ad348d",
   "metadata": {},
   "source": [
    "CREATE SUBSAMPLE #########################################"
   ]
  },
  {
   "cell_type": "code",
   "execution_count": null,
   "id": "7eb98929",
   "metadata": {},
   "outputs": [],
   "source": [
    "# Format: data[rows, columns]\n",
    "# Leave rows or columns blank to select all\n",
    "i.setosa <- iris[iris$Species == \"setosa\", ]"
   ]
  },
  {
   "cell_type": "markdown",
   "id": "3f19f146",
   "metadata": {},
   "source": [
    "EXPLORE SUBSAMPLE ########################################"
   ]
  },
  {
   "cell_type": "code",
   "execution_count": null,
   "id": "3639d220",
   "metadata": {},
   "outputs": [],
   "source": [
    "head(i.setosa)\n",
    "summary(i.setosa$Petal.Length)\n",
    "hist(i.setosa$Petal.Length)"
   ]
  },
  {
   "cell_type": "markdown",
   "id": "f857c88d",
   "metadata": {},
   "source": [
    "CLEAN UP #################################################"
   ]
  },
  {
   "cell_type": "code",
   "execution_count": null,
   "id": "fe45a0e8",
   "metadata": {},
   "outputs": [],
   "source": [
    "# Clear environment\n",
    "rm(list = ls()) "
   ]
  },
  {
   "cell_type": "code",
   "execution_count": null,
   "id": "2a81e2bc",
   "metadata": {},
   "outputs": [],
   "source": [
    "# Clear packages\n",
    "detach(\"package:datasets\", unload = TRUE)  # For base"
   ]
  },
  {
   "cell_type": "code",
   "execution_count": null,
   "id": "77489973",
   "metadata": {},
   "outputs": [],
   "source": [
    "# Clear plots\n",
    "dev.off()  # But only if there IS a plot"
   ]
  },
  {
   "cell_type": "code",
   "execution_count": null,
   "id": "9ee75811",
   "metadata": {},
   "outputs": [],
   "source": [
    "# Clear console\n",
    "cat(\"\\014\")  # ctrl+L"
   ]
  },
  {
   "cell_type": "markdown",
   "id": "0374a8b4",
   "metadata": {},
   "source": [
    "Clear mind :)"
   ]
  }
 ],
 "metadata": {
  "jupytext": {
   "cell_metadata_filter": "-all",
   "main_language": "R",
   "notebook_metadata_filter": "-all"
  }
 },
 "nbformat": 4,
 "nbformat_minor": 5
}
