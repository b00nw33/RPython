{
 "cells": [
  {
   "cell_type": "markdown",
   "id": "009fa4ce",
   "metadata": {},
   "source": [
    "File:   Plot.R\n",
    "Course: R: An Introduction (with RStudio)"
   ]
  },
  {
   "cell_type": "markdown",
   "id": "2f68fb2c",
   "metadata": {},
   "source": [
    "LOAD DATASETS PACKAGES ###################################"
   ]
  },
  {
   "cell_type": "code",
   "execution_count": null,
   "id": "c97e9e07",
   "metadata": {},
   "outputs": [],
   "source": [
    "library(datasets)  # Load/unload base packages manually"
   ]
  },
  {
   "cell_type": "markdown",
   "id": "d433d8a4",
   "metadata": {},
   "source": [
    "LOAD DATA ################################################"
   ]
  },
  {
   "cell_type": "code",
   "execution_count": null,
   "id": "231fb85c",
   "metadata": {},
   "outputs": [],
   "source": [
    "head(iris)"
   ]
  },
  {
   "cell_type": "markdown",
   "id": "641d540b",
   "metadata": {},
   "source": [
    "PLOT DATA WITH PLOT() ####################################"
   ]
  },
  {
   "cell_type": "code",
   "execution_count": null,
   "id": "6f4a3d97",
   "metadata": {},
   "outputs": [],
   "source": [
    "?plot  # Help for plot()"
   ]
  },
  {
   "cell_type": "code",
   "execution_count": null,
   "id": "3a3d42ba",
   "metadata": {},
   "outputs": [],
   "source": [
    "plot(iris$Species)  # Categorical variable\n",
    "plot(iris$Petal.Length)  # Quantitative variable\n",
    "plot(iris$Species, iris$Petal.Width)  # Cat x quant\n",
    "plot(iris$Petal.Length, iris$Petal.Width)  # Quant pair\n",
    "plot(iris)  # Entire data frame"
   ]
  },
  {
   "cell_type": "code",
   "execution_count": null,
   "id": "a83fd87b",
   "metadata": {},
   "outputs": [],
   "source": [
    "# Plot with options\n",
    "plot(iris$Petal.Length, iris$Petal.Width,\n",
    "  col = \"#cc0000\",  # Hex code for datalab.cc red\n",
    "  pch = 19,         # Use solid circles for points\n",
    "  main = \"Iris: Petal Length vs. Petal Width\",\n",
    "  xlab = \"Petal Length\",\n",
    "  ylab = \"Petal Width\")"
   ]
  },
  {
   "cell_type": "markdown",
   "id": "189858aa",
   "metadata": {},
   "source": [
    "PLOT FORMULAS WITH PLOT() ################################"
   ]
  },
  {
   "cell_type": "code",
   "execution_count": null,
   "id": "d80fa123",
   "metadata": {},
   "outputs": [],
   "source": [
    "plot(cos, 0, 2*pi)\n",
    "plot(exp, 1, 5)\n",
    "plot(dnorm, -3, +3)"
   ]
  },
  {
   "cell_type": "code",
   "execution_count": null,
   "id": "c8ecace1",
   "metadata": {},
   "outputs": [],
   "source": [
    "# Formula plot with options\n",
    "plot(dnorm, -3, +3,\n",
    "  col = \"#cc0000\",\n",
    "  lwd = 5,\n",
    "  main = \"Standard Normal Distribution\",\n",
    "  xlab = \"z-scores\",\n",
    "  ylab = \"Density\")"
   ]
  },
  {
   "cell_type": "markdown",
   "id": "79777a36",
   "metadata": {},
   "source": [
    "CLEAN UP #################################################"
   ]
  },
  {
   "cell_type": "code",
   "execution_count": null,
   "id": "240f94a1",
   "metadata": {},
   "outputs": [],
   "source": [
    "# Clear packages\n",
    "detach(\"package:datasets\", unload = TRUE)"
   ]
  },
  {
   "cell_type": "code",
   "execution_count": null,
   "id": "2e692023",
   "metadata": {},
   "outputs": [],
   "source": [
    "# Clear plots\n",
    "dev.off()  # But only if there IS a plot"
   ]
  },
  {
   "cell_type": "code",
   "execution_count": null,
   "id": "aa2d62b0",
   "metadata": {},
   "outputs": [],
   "source": [
    "# Clear console\n",
    "cat(\"\\014\")  # ctrl+L"
   ]
  },
  {
   "cell_type": "markdown",
   "id": "0217eceb",
   "metadata": {},
   "source": [
    "Clear mind :)"
   ]
  }
 ],
 "metadata": {
  "jupytext": {
   "cell_metadata_filter": "-all",
   "main_language": "R",
   "notebook_metadata_filter": "-all"
  }
 },
 "nbformat": 4,
 "nbformat_minor": 5
}
