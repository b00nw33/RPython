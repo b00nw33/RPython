{
 "cells": [
  {
   "cell_type": "markdown",
   "id": "405c5faf",
   "metadata": {},
   "source": [
    "File:    R01_6_2_PrincipalComponents.R\n",
    "Course:  R01: R: An introduction\n",
    "Chapter: 6: Modeling data\n",
    "Section: 2: Principal components\n",
    "Author:  Barton Poulson, datalab.cc, @bartonpoulson\n",
    "Date:    2016-08-04"
   ]
  },
  {
   "cell_type": "markdown",
   "id": "60f50804",
   "metadata": {},
   "source": [
    "INSTALL AND LOAD PACKAGES ################################"
   ]
  },
  {
   "cell_type": "code",
   "execution_count": null,
   "id": "d3ffdbf0",
   "metadata": {},
   "outputs": [],
   "source": [
    "# Packages I load every time; uses \"pacman\"\n",
    "pacman::p_load(pacman, dplyr, GGally, ggplot2, ggthemes, \n",
    "  ggvis, httr, lubridate, plotly, rio, rmarkdown, shiny, \n",
    "  stringr, tidyr) "
   ]
  },
  {
   "cell_type": "code",
   "execution_count": null,
   "id": "b12cf2d2",
   "metadata": {},
   "outputs": [],
   "source": [
    "library(datasets)  # Load base packages manually"
   ]
  },
  {
   "cell_type": "markdown",
   "id": "9ca09550",
   "metadata": {},
   "source": [
    "LOAD DATA ################################################"
   ]
  },
  {
   "cell_type": "code",
   "execution_count": null,
   "id": "afacfc11",
   "metadata": {},
   "outputs": [],
   "source": [
    "head(mtcars)\n",
    "cars <- mtcars[, c(1:4, 6:7, 9:11)]  # Select variables\n",
    "head(cars)"
   ]
  },
  {
   "cell_type": "markdown",
   "id": "354eab58",
   "metadata": {},
   "source": [
    "COMPUTE PCA ##############################################"
   ]
  },
  {
   "cell_type": "code",
   "execution_count": null,
   "id": "48041b1e",
   "metadata": {},
   "outputs": [],
   "source": [
    "# For entire data frame ####################################\n",
    "pc <- prcomp(cars,\n",
    "        center = TRUE,  # Centers means to 0 (optional)\n",
    "        scale = TRUE)   # Sets unit variance (helpful)"
   ]
  },
  {
   "cell_type": "markdown",
   "id": "7d79f28a",
   "metadata": {},
   "source": [
    "To specify variables #####################################"
   ]
  },
  {
   "cell_type": "code",
   "execution_count": null,
   "id": "73d1c7a0",
   "metadata": {},
   "outputs": [],
   "source": [
    "pc <- prcomp(~ mpg + cyl + disp + hp + wt + qsec + am +\n",
    "        gear + carb, \n",
    "        data = mtcars, \n",
    "        center = TRUE,\n",
    "        scale = TRUE)"
   ]
  },
  {
   "cell_type": "markdown",
   "id": "c5ec4129",
   "metadata": {},
   "source": [
    "EXAMINE RESULTS ##########################################"
   ]
  },
  {
   "cell_type": "code",
   "execution_count": null,
   "id": "07297619",
   "metadata": {},
   "outputs": [],
   "source": [
    "# Get summary stats\n",
    "summary(pc)"
   ]
  },
  {
   "cell_type": "code",
   "execution_count": null,
   "id": "17737be2",
   "metadata": {},
   "outputs": [],
   "source": [
    "# Screeplot for number of components\n",
    "plot(pc)"
   ]
  },
  {
   "cell_type": "code",
   "execution_count": null,
   "id": "532f4d2a",
   "metadata": {},
   "outputs": [],
   "source": [
    "# Get standard deviations and rotation\n",
    "pc"
   ]
  },
  {
   "cell_type": "code",
   "execution_count": null,
   "id": "6e4dc9cf",
   "metadata": {},
   "outputs": [],
   "source": [
    "# See how cases load on PCs\n",
    "predict(pc) %>% round(2)"
   ]
  },
  {
   "cell_type": "code",
   "execution_count": null,
   "id": "6840941e",
   "metadata": {},
   "outputs": [],
   "source": [
    "# Biplot of first two components\n",
    "biplot(pc)"
   ]
  },
  {
   "cell_type": "markdown",
   "id": "48012562",
   "metadata": {},
   "source": [
    "CLEAN UP #################################################"
   ]
  },
  {
   "cell_type": "code",
   "execution_count": null,
   "id": "9641d8ad",
   "metadata": {},
   "outputs": [],
   "source": [
    "# Clear environment\n",
    "rm(list = ls()) "
   ]
  },
  {
   "cell_type": "code",
   "execution_count": null,
   "id": "534c9b93",
   "metadata": {},
   "outputs": [],
   "source": [
    "# Clear packages\n",
    "p_unload(all)  # Remove all add-ons\n",
    "detach(\"package:datasets\", unload = TRUE)  # For base"
   ]
  },
  {
   "cell_type": "code",
   "execution_count": null,
   "id": "823c84a6",
   "metadata": {},
   "outputs": [],
   "source": [
    "# Clear plots\n",
    "dev.off()  # But only if there IS a plot"
   ]
  },
  {
   "cell_type": "code",
   "execution_count": null,
   "id": "2f2a1d9e",
   "metadata": {},
   "outputs": [],
   "source": [
    "# Clear console\n",
    "cat(\"\\014\")  # ctrl+L"
   ]
  },
  {
   "cell_type": "markdown",
   "id": "32d0ae28",
   "metadata": {},
   "source": [
    "Clear mind :)"
   ]
  }
 ],
 "metadata": {
  "jupytext": {
   "cell_metadata_filter": "-all",
   "main_language": "R",
   "notebook_metadata_filter": "-all"
  }
 },
 "nbformat": 4,
 "nbformat_minor": 5
}
