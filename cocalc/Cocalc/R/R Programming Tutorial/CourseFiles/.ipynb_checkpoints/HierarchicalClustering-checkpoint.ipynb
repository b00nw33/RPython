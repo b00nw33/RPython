{
 "cells": [
  {
   "cell_type": "markdown",
   "id": "cddb6170",
   "metadata": {},
   "source": [
    "File:   HierarchicalClustering.R\n",
    "Course: R: An Introduction (with RStudio)"
   ]
  },
  {
   "cell_type": "markdown",
   "id": "0a0aa49f",
   "metadata": {},
   "source": [
    "INSTALL AND LOAD PACKAGES ################################"
   ]
  },
  {
   "cell_type": "code",
   "execution_count": null,
   "id": "18f79132",
   "metadata": {},
   "outputs": [],
   "source": [
    "library(datasets)  # Load base packages manually"
   ]
  },
  {
   "cell_type": "code",
   "execution_count": null,
   "id": "fcfefc79",
   "metadata": {},
   "outputs": [],
   "source": [
    "# Installs pacman (\"package manager\") if needed\n",
    "if (!require(\"pacman\")) install.packages(\"pacman\")"
   ]
  },
  {
   "cell_type": "code",
   "execution_count": null,
   "id": "7443dbb8",
   "metadata": {},
   "outputs": [],
   "source": [
    "# Use pacman to load add-on packages as desired\n",
    "pacman::p_load(pacman, tidyverse) "
   ]
  },
  {
   "cell_type": "markdown",
   "id": "27fc617d",
   "metadata": {},
   "source": [
    "LOAD DATA ################################################"
   ]
  },
  {
   "cell_type": "code",
   "execution_count": null,
   "id": "f324d755",
   "metadata": {},
   "outputs": [],
   "source": [
    "?mtcars\n",
    "head(mtcars)\n",
    "cars <- mtcars[, c(1:4, 6:7, 9:11)]  # Select variables\n",
    "head(cars)"
   ]
  },
  {
   "cell_type": "markdown",
   "id": "69796474",
   "metadata": {},
   "source": [
    "COMPUTE AND PLOT CLUSTERS ################################"
   ]
  },
  {
   "cell_type": "code",
   "execution_count": null,
   "id": "e412b764",
   "metadata": {},
   "outputs": [],
   "source": [
    "# Save hierarchical clustering to \"hc.\" This codes uses\n",
    "# pipes from dplyr.\n",
    "hc <- cars   %>%  # Get cars data\n",
    "      dist   %>%  # Compute distance/dissimilarity matrix\n",
    "      hclust      # Computer hierarchical clusters"
   ]
  },
  {
   "cell_type": "code",
   "execution_count": null,
   "id": "1d01557d",
   "metadata": {},
   "outputs": [],
   "source": [
    "plot(hc)          # Plot dendrogram"
   ]
  },
  {
   "cell_type": "markdown",
   "id": "cd63a4d1",
   "metadata": {},
   "source": [
    "ADD BOXES TO PLOT ########################################"
   ]
  },
  {
   "cell_type": "code",
   "execution_count": null,
   "id": "54b06722",
   "metadata": {},
   "outputs": [],
   "source": [
    "rect.hclust(hc, k = 2, border = \"gray\")\n",
    "rect.hclust(hc, k = 3, border = \"blue\")\n",
    "rect.hclust(hc, k = 4, border = \"green4\")\n",
    "rect.hclust(hc, k = 5, border = \"darkred\")"
   ]
  },
  {
   "cell_type": "markdown",
   "id": "e4da4665",
   "metadata": {},
   "source": [
    "CLEAN UP #################################################"
   ]
  },
  {
   "cell_type": "code",
   "execution_count": null,
   "id": "a86b9a35",
   "metadata": {},
   "outputs": [],
   "source": [
    "# Clear environment\n",
    "rm(list = ls()) "
   ]
  },
  {
   "cell_type": "code",
   "execution_count": null,
   "id": "dff4896a",
   "metadata": {},
   "outputs": [],
   "source": [
    "# Clear packages\n",
    "p_unload(all)  # Remove all add-ons\n",
    "detach(\"package:datasets\", unload = TRUE)  # For base"
   ]
  },
  {
   "cell_type": "code",
   "execution_count": null,
   "id": "3d5fd3b2",
   "metadata": {},
   "outputs": [],
   "source": [
    "# Clear plots\n",
    "dev.off()  # But only if there IS a plot"
   ]
  },
  {
   "cell_type": "code",
   "execution_count": null,
   "id": "1c817d5b",
   "metadata": {},
   "outputs": [],
   "source": [
    "# Clear console\n",
    "cat(\"\\014\")  # ctrl+L"
   ]
  },
  {
   "cell_type": "markdown",
   "id": "ef001aff",
   "metadata": {},
   "source": [
    "Clear mind :)"
   ]
  }
 ],
 "metadata": {
  "jupytext": {
   "cell_metadata_filter": "-all",
   "main_language": "R",
   "notebook_metadata_filter": "-all"
  }
 },
 "nbformat": 4,
 "nbformat_minor": 5
}
