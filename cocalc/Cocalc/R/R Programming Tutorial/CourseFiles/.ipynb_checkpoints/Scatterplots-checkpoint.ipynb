{
 "cells": [
  {
   "cell_type": "markdown",
   "id": "62400539",
   "metadata": {},
   "source": [
    "File:   Scatterplots.R\n",
    "Course: R: An Introduction (with RStudio)"
   ]
  },
  {
   "cell_type": "markdown",
   "id": "610188ef",
   "metadata": {},
   "source": [
    "LOAD DATASETS PACKAGES ###################################"
   ]
  },
  {
   "cell_type": "code",
   "execution_count": null,
   "id": "b07a86ac",
   "metadata": {},
   "outputs": [],
   "source": [
    "library(datasets)  # Load/unload base packages manually"
   ]
  },
  {
   "cell_type": "markdown",
   "id": "296a3bd9",
   "metadata": {},
   "source": [
    "LOAD DATA ################################################"
   ]
  },
  {
   "cell_type": "code",
   "execution_count": null,
   "id": "1dfbe836",
   "metadata": {},
   "outputs": [],
   "source": [
    "?mtcars\n",
    "head(mtcars)"
   ]
  },
  {
   "cell_type": "markdown",
   "id": "75893040",
   "metadata": {},
   "source": [
    "PLOTS ####################################################"
   ]
  },
  {
   "cell_type": "code",
   "execution_count": null,
   "id": "4a0d0df9",
   "metadata": {},
   "outputs": [],
   "source": [
    "# Good to first check univariate distributions\n",
    "hist(mtcars$wt)\n",
    "hist(mtcars$mpg)"
   ]
  },
  {
   "cell_type": "code",
   "execution_count": null,
   "id": "b106d832",
   "metadata": {},
   "outputs": [],
   "source": [
    "# Basic X-Y plot for two quantitative variables\n",
    "plot(mtcars$wt, mtcars$mpg)"
   ]
  },
  {
   "cell_type": "code",
   "execution_count": null,
   "id": "a16e1fa6",
   "metadata": {},
   "outputs": [],
   "source": [
    "# Add some options\n",
    "plot(mtcars$wt, mtcars$mpg,\n",
    "  pch = 19,         # Solid circle\n",
    "  cex = 1.5,        # Make 150% size\n",
    "  col = \"#cc0000\",  # Red\n",
    "  main = \"MPG as a Function of Weight of Cars\",\n",
    "  xlab = \"Weight (in 1000 pounds)\",\n",
    "  ylab = \"MPG\")"
   ]
  },
  {
   "cell_type": "markdown",
   "id": "7b0f7b5d",
   "metadata": {},
   "source": [
    "CLEAN UP #################################################"
   ]
  },
  {
   "cell_type": "code",
   "execution_count": null,
   "id": "ad4ec20d",
   "metadata": {},
   "outputs": [],
   "source": [
    "# Clear packages\n",
    "detach(\"package:datasets\", unload = TRUE)  # For base"
   ]
  },
  {
   "cell_type": "code",
   "execution_count": null,
   "id": "86f02ef8",
   "metadata": {},
   "outputs": [],
   "source": [
    "# Clear plots\n",
    "dev.off()  # But only if there IS a plot"
   ]
  },
  {
   "cell_type": "code",
   "execution_count": null,
   "id": "651ad74b",
   "metadata": {},
   "outputs": [],
   "source": [
    "# Clear console\n",
    "cat(\"\\014\")  # ctrl+L"
   ]
  },
  {
   "cell_type": "markdown",
   "id": "a4b2e439",
   "metadata": {},
   "source": [
    "Clear mind :)"
   ]
  }
 ],
 "metadata": {
  "jupytext": {
   "cell_metadata_filter": "-all",
   "main_language": "R",
   "notebook_metadata_filter": "-all"
  }
 },
 "nbformat": 4,
 "nbformat_minor": 5
}
