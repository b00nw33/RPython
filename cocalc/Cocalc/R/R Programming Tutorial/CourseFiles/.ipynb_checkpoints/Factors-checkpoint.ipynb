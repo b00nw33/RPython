{
 "cells": [
  {
   "cell_type": "markdown",
   "id": "9ec62517",
   "metadata": {},
   "source": [
    "File:   Factors.R\n",
    "Course: R: An Introduction (with RStudio)"
   ]
  },
  {
   "cell_type": "markdown",
   "id": "29412003",
   "metadata": {},
   "source": [
    "CREATE DATA ##############################################"
   ]
  },
  {
   "cell_type": "code",
   "execution_count": null,
   "id": "e79a4a1c",
   "metadata": {},
   "outputs": [],
   "source": [
    "(x1 <- 1:3)\n",
    "(y  <- 1:9)"
   ]
  },
  {
   "cell_type": "code",
   "execution_count": null,
   "id": "db057c32",
   "metadata": {},
   "outputs": [],
   "source": [
    "# Combine variables\n",
    "(df1 <- cbind.data.frame(x1, y))\n",
    "typeof(df1$x1)\n",
    "str(df1)"
   ]
  },
  {
   "cell_type": "markdown",
   "id": "8148fa2f",
   "metadata": {},
   "source": [
    "AS.FACTOR ################################################"
   ]
  },
  {
   "cell_type": "code",
   "execution_count": null,
   "id": "91479e3a",
   "metadata": {},
   "outputs": [],
   "source": [
    "(x2  <- as.factor(c(1:3)))\n",
    "(df2 <- cbind.data.frame(x2, y))\n",
    "typeof(df2$x2)\n",
    "str(df2)"
   ]
  },
  {
   "cell_type": "markdown",
   "id": "8b333b1f",
   "metadata": {},
   "source": [
    "DEFINE EXISTING VARIABLE AS FACTOR #######################"
   ]
  },
  {
   "cell_type": "code",
   "execution_count": null,
   "id": "c0f5f2e7",
   "metadata": {},
   "outputs": [],
   "source": [
    "x3  <- c(1:3)\n",
    "df3 <- cbind.data.frame(x3, y)\n",
    "(df3$x3 <- factor(df3$x3,\n",
    "  levels = c(1, 2, 3)))\n",
    "typeof(df3$x3)\n",
    "str(df3)"
   ]
  },
  {
   "cell_type": "markdown",
   "id": "eb573022",
   "metadata": {},
   "source": [
    "LABELS FOR FACTOR ########################################"
   ]
  },
  {
   "cell_type": "code",
   "execution_count": null,
   "id": "0cc7d9ec",
   "metadata": {},
   "outputs": [],
   "source": [
    "x4  <- c(1:3)\n",
    "df4 <- cbind.data.frame(x4, y)\n",
    "df4$x4 <- factor(df4$x4,\n",
    "  levels = c(1, 2, 3),\n",
    "  labels = c(\"macOS\", \"Windows\", \"Linux\"))\n",
    "df4\n",
    "typeof(df4$x4)\n",
    "str(df4)"
   ]
  },
  {
   "cell_type": "markdown",
   "id": "a0c87091",
   "metadata": {},
   "source": [
    "ORDERED FACTORS AND LABELS ###############################"
   ]
  },
  {
   "cell_type": "code",
   "execution_count": null,
   "id": "d3593b2e",
   "metadata": {},
   "outputs": [],
   "source": [
    "x5  <- c(1:3)\n",
    "df5 <- cbind.data.frame(x5, y)\n",
    "(df5$x5 <- ordered(df5$x5,\n",
    "  levels = c(3, 1, 2),\n",
    "  labels = c(\"No\", \"Maybe\", \"Yes\")))\n",
    "df5\n",
    "typeof(df5$x5)\n",
    "str(df5)"
   ]
  },
  {
   "cell_type": "markdown",
   "id": "d876b362",
   "metadata": {},
   "source": [
    "CLEAN UP #################################################"
   ]
  },
  {
   "cell_type": "code",
   "execution_count": null,
   "id": "19cd87e0",
   "metadata": {},
   "outputs": [],
   "source": [
    "# Clear environment\n",
    "rm(list = ls()) "
   ]
  },
  {
   "cell_type": "code",
   "execution_count": null,
   "id": "48097e76",
   "metadata": {},
   "outputs": [],
   "source": [
    "# Clear console\n",
    "cat(\"\\014\")  # ctrl+L"
   ]
  },
  {
   "cell_type": "markdown",
   "id": "5dc7533b",
   "metadata": {},
   "source": [
    "Clear mind :)"
   ]
  }
 ],
 "metadata": {
  "jupytext": {
   "cell_metadata_filter": "-all",
   "main_language": "R",
   "notebook_metadata_filter": "-all"
  }
 },
 "nbformat": 4,
 "nbformat_minor": 5
}
