{
 "cells": [
  {
   "cell_type": "markdown",
   "id": "ba6f497e",
   "metadata": {},
   "source": [
    "File:   Summary.R\n",
    "Course: R: An Introduction (with RStudio)"
   ]
  },
  {
   "cell_type": "markdown",
   "id": "5d2788bb",
   "metadata": {},
   "source": [
    "INSTALL AND LOAD PACKAGES ################################"
   ]
  },
  {
   "cell_type": "code",
   "execution_count": null,
   "id": "0d08c0e4",
   "metadata": {},
   "outputs": [],
   "source": [
    "library(datasets)  # Load/unload base packages manually"
   ]
  },
  {
   "cell_type": "markdown",
   "id": "adf8dd4a",
   "metadata": {},
   "source": [
    "LOAD DATA ################################################"
   ]
  },
  {
   "cell_type": "code",
   "execution_count": null,
   "id": "b72d65b1",
   "metadata": {},
   "outputs": [],
   "source": [
    "head(iris)"
   ]
  },
  {
   "cell_type": "markdown",
   "id": "d8744399",
   "metadata": {},
   "source": [
    "SUMMARY() ################################################"
   ]
  },
  {
   "cell_type": "code",
   "execution_count": null,
   "id": "faef5fc1",
   "metadata": {},
   "outputs": [],
   "source": [
    "summary(iris$Species)       # Categorical variable\n",
    "summary(iris$Sepal.Length)  # Quantitative variable\n",
    "summary(iris)               # Entire data frame"
   ]
  },
  {
   "cell_type": "markdown",
   "id": "b30bf39c",
   "metadata": {},
   "source": [
    "CLEAN UP #################################################"
   ]
  },
  {
   "cell_type": "code",
   "execution_count": null,
   "id": "108fa553",
   "metadata": {},
   "outputs": [],
   "source": [
    "# Clear packages\n",
    "detach(\"package:datasets\", unload = TRUE)   # For base"
   ]
  },
  {
   "cell_type": "code",
   "execution_count": null,
   "id": "77d0ad8c",
   "metadata": {},
   "outputs": [],
   "source": [
    "# Clear console\n",
    "cat(\"\\014\")  # ctrl+L"
   ]
  },
  {
   "cell_type": "markdown",
   "id": "aba93d96",
   "metadata": {},
   "source": [
    "Clear mind :)"
   ]
  }
 ],
 "metadata": {
  "jupytext": {
   "cell_metadata_filter": "-all",
   "main_language": "R",
   "notebook_metadata_filter": "-all"
  }
 },
 "nbformat": 4,
 "nbformat_minor": 5
}
