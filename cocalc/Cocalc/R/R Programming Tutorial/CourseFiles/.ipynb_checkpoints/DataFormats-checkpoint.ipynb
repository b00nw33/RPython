{
 "cells": [
  {
   "cell_type": "markdown",
   "id": "f3c15a0e",
   "metadata": {},
   "source": [
    "File:   DataFormats.R\n",
    "Course: R: An Introduction (with RStudio)"
   ]
  },
  {
   "cell_type": "markdown",
   "id": "945a32f6",
   "metadata": {},
   "source": [
    "DATA TYPES ###############################################"
   ]
  },
  {
   "cell_type": "markdown",
   "id": "bd78af64",
   "metadata": {},
   "source": [
    "Numeric"
   ]
  },
  {
   "cell_type": "code",
   "execution_count": null,
   "id": "ee1c0ffc",
   "metadata": {},
   "outputs": [],
   "source": [
    "n1 <- 15  # Double precision by default\n",
    "n1\n",
    "typeof(n1)"
   ]
  },
  {
   "cell_type": "code",
   "execution_count": null,
   "id": "caa33026",
   "metadata": {},
   "outputs": [],
   "source": [
    "n2 <- 1.5\n",
    "n2\n",
    "typeof(n2)"
   ]
  },
  {
   "cell_type": "markdown",
   "id": "296c94af",
   "metadata": {},
   "source": [
    "Character"
   ]
  },
  {
   "cell_type": "code",
   "execution_count": null,
   "id": "33708b9a",
   "metadata": {},
   "outputs": [],
   "source": [
    "c1 <- \"c\"\n",
    "c1\n",
    "typeof(c1)"
   ]
  },
  {
   "cell_type": "code",
   "execution_count": null,
   "id": "af47e9c0",
   "metadata": {},
   "outputs": [],
   "source": [
    "c2 <- \"a string of text\"\n",
    "c2\n",
    "typeof(c2)"
   ]
  },
  {
   "cell_type": "markdown",
   "id": "35c0b527",
   "metadata": {},
   "source": [
    "Logical"
   ]
  },
  {
   "cell_type": "code",
   "execution_count": null,
   "id": "9590a930",
   "metadata": {},
   "outputs": [],
   "source": [
    "l1 <- TRUE\n",
    "l1\n",
    "typeof(l1)"
   ]
  },
  {
   "cell_type": "code",
   "execution_count": null,
   "id": "535ff48b",
   "metadata": {},
   "outputs": [],
   "source": [
    "l2 <- F\n",
    "l2\n",
    "typeof(l2)"
   ]
  },
  {
   "cell_type": "markdown",
   "id": "d3bd0fe9",
   "metadata": {},
   "source": [
    "DATA STRUCTURES ##########################################"
   ]
  },
  {
   "cell_type": "markdown",
   "id": "5f0e5181",
   "metadata": {},
   "source": [
    "# Vector ##################################################"
   ]
  },
  {
   "cell_type": "code",
   "execution_count": null,
   "id": "6b05c2a2",
   "metadata": {},
   "outputs": [],
   "source": [
    "v1 <- c(1, 2, 3, 4, 5)\n",
    "v1\n",
    "is.vector(v1)"
   ]
  },
  {
   "cell_type": "code",
   "execution_count": null,
   "id": "56795517",
   "metadata": {},
   "outputs": [],
   "source": [
    "v2 <- c(\"a\", \"b\", \"c\")\n",
    "v2\n",
    "is.vector(v2)"
   ]
  },
  {
   "cell_type": "code",
   "execution_count": null,
   "id": "de937d9c",
   "metadata": {},
   "outputs": [],
   "source": [
    "v3 <- c(TRUE, TRUE, FALSE, FALSE, TRUE)\n",
    "v3\n",
    "is.vector(v3)"
   ]
  },
  {
   "cell_type": "markdown",
   "id": "6b06eb6a",
   "metadata": {},
   "source": [
    "# Matrix ##################################################"
   ]
  },
  {
   "cell_type": "code",
   "execution_count": null,
   "id": "7b2a7567",
   "metadata": {},
   "outputs": [],
   "source": [
    "m1 <- matrix(c(T, T, F, F, T, F), nrow = 2)\n",
    "m1"
   ]
  },
  {
   "cell_type": "code",
   "execution_count": null,
   "id": "5a62fdce",
   "metadata": {},
   "outputs": [],
   "source": [
    "m2 <- matrix(c(\"a\", \"b\", \n",
    "               \"c\", \"d\"), \n",
    "               nrow = 2,\n",
    "               byrow = T)\n",
    "m2"
   ]
  },
  {
   "cell_type": "markdown",
   "id": "a560c8d8",
   "metadata": {},
   "source": [
    "# Array ###################################################"
   ]
  },
  {
   "cell_type": "code",
   "execution_count": null,
   "id": "62b557bc",
   "metadata": {},
   "outputs": [],
   "source": [
    "# Give data, then dimemensions (rows, columns, tables)\n",
    "a1 <- array(c( 1:24), c(4, 3, 2))\n",
    "a1"
   ]
  },
  {
   "cell_type": "markdown",
   "id": "50c2ced5",
   "metadata": {},
   "source": [
    "# Data frame ##############################################"
   ]
  },
  {
   "cell_type": "markdown",
   "id": "b895ac7a",
   "metadata": {},
   "source": [
    "Can combine vectors of the same length"
   ]
  },
  {
   "cell_type": "code",
   "execution_count": null,
   "id": "8a1f1cb3",
   "metadata": {},
   "outputs": [],
   "source": [
    "vNumeric   <- c(1, 2, 3)\n",
    "vCharacter <- c(\"a\", \"b\", \"c\")\n",
    "vLogical   <- c(T, F, T)"
   ]
  },
  {
   "cell_type": "code",
   "execution_count": null,
   "id": "3cb3aecc",
   "metadata": {},
   "outputs": [],
   "source": [
    "dfa <- cbind(vNumeric, vCharacter, vLogical)\n",
    "dfa  # Matrix of one data type"
   ]
  },
  {
   "cell_type": "code",
   "execution_count": null,
   "id": "7287f545",
   "metadata": {},
   "outputs": [],
   "source": [
    "df <- as.data.frame(cbind(vNumeric, vCharacter, vLogical))\n",
    "df  # Makes a data frame with three different data types"
   ]
  },
  {
   "cell_type": "markdown",
   "id": "72799e3f",
   "metadata": {},
   "source": [
    "# List ####################################################"
   ]
  },
  {
   "cell_type": "code",
   "execution_count": null,
   "id": "346d40d0",
   "metadata": {},
   "outputs": [],
   "source": [
    "o1 <- c(1, 2, 3)\n",
    "o2 <- c(\"a\", \"b\", \"c\", \"d\")\n",
    "o3 <- c(T, F, T, T, F)"
   ]
  },
  {
   "cell_type": "code",
   "execution_count": null,
   "id": "ae9e0953",
   "metadata": {},
   "outputs": [],
   "source": [
    "list1 <- list(o1, o2, o3)\n",
    "list1"
   ]
  },
  {
   "cell_type": "code",
   "execution_count": null,
   "id": "a10048dd",
   "metadata": {},
   "outputs": [],
   "source": [
    "list2 <- list(o1, o2, o3, list1)  # Lists within lists!\n",
    "list2"
   ]
  },
  {
   "cell_type": "markdown",
   "id": "aae20e40",
   "metadata": {},
   "source": [
    "COERCING TYPES ###########################################"
   ]
  },
  {
   "cell_type": "markdown",
   "id": "31768bfa",
   "metadata": {},
   "source": [
    "# Automatic coercion ######################################"
   ]
  },
  {
   "cell_type": "markdown",
   "id": "efbba90b",
   "metadata": {},
   "source": [
    "Goes to \"least restrictive\" data type"
   ]
  },
  {
   "cell_type": "code",
   "execution_count": null,
   "id": "e7d96495",
   "metadata": {},
   "outputs": [],
   "source": [
    "(coerce1 <- c(1, \"b\", TRUE))\n",
    "# coerce1  # Parenthese around command above make this moot\n",
    "typeof(coerce1)"
   ]
  },
  {
   "cell_type": "markdown",
   "id": "898628d4",
   "metadata": {},
   "source": [
    "# Coerce numeric to integer ###############################"
   ]
  },
  {
   "cell_type": "code",
   "execution_count": null,
   "id": "dd027bd5",
   "metadata": {},
   "outputs": [],
   "source": [
    "(coerce2 <- 5)\n",
    "typeof(coerce2)"
   ]
  },
  {
   "cell_type": "code",
   "execution_count": null,
   "id": "f5750569",
   "metadata": {},
   "outputs": [],
   "source": [
    "(coerce3 <- as.integer(5))\n",
    "typeof(coerce3)"
   ]
  },
  {
   "cell_type": "markdown",
   "id": "ebe4258f",
   "metadata": {},
   "source": [
    "# Coerce character to numeric #############################"
   ]
  },
  {
   "cell_type": "code",
   "execution_count": null,
   "id": "97aa0736",
   "metadata": {},
   "outputs": [],
   "source": [
    "(coerce4 <- c(\"1\", \"2\", \"3\"))\n",
    "typeof(coerce4)"
   ]
  },
  {
   "cell_type": "code",
   "execution_count": null,
   "id": "85c50833",
   "metadata": {},
   "outputs": [],
   "source": [
    "(coerce5 <- as.numeric(c(\"1\", \"2\", \"3\")))\n",
    "typeof(coerce5)"
   ]
  },
  {
   "cell_type": "markdown",
   "id": "d5c7adb7",
   "metadata": {},
   "source": [
    "# Coerce matrix to data frame #############################"
   ]
  },
  {
   "cell_type": "code",
   "execution_count": null,
   "id": "0553c566",
   "metadata": {},
   "outputs": [],
   "source": [
    "(coerce6 <- matrix(1:9, nrow= 3))\n",
    "is.matrix(coerce6)"
   ]
  },
  {
   "cell_type": "code",
   "execution_count": null,
   "id": "2c33412a",
   "metadata": {},
   "outputs": [],
   "source": [
    "(coerce7 <- as.data.frame(matrix(1:9, nrow= 3)))\n",
    "is.data.frame(coerce7)"
   ]
  },
  {
   "cell_type": "markdown",
   "id": "52113e5c",
   "metadata": {},
   "source": [
    "CLEAN UP #################################################"
   ]
  },
  {
   "cell_type": "code",
   "execution_count": null,
   "id": "d1479f4d",
   "metadata": {},
   "outputs": [],
   "source": [
    "# Clear environment\n",
    "rm(list = ls()) "
   ]
  },
  {
   "cell_type": "code",
   "execution_count": null,
   "id": "87ced98f",
   "metadata": {},
   "outputs": [],
   "source": [
    "# Clear console\n",
    "cat(\"\\014\")  # ctrl+L"
   ]
  },
  {
   "cell_type": "markdown",
   "id": "df29a520",
   "metadata": {},
   "source": [
    "Clear mind :)"
   ]
  }
 ],
 "metadata": {
  "jupytext": {
   "cell_metadata_filter": "-all",
   "main_language": "R",
   "notebook_metadata_filter": "-all"
  }
 },
 "nbformat": 4,
 "nbformat_minor": 5
}
