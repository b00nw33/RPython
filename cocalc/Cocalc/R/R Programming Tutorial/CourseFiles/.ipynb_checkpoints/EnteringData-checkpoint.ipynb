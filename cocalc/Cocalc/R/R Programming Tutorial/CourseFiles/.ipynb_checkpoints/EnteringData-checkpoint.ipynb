{
 "cells": [
  {
   "cell_type": "markdown",
   "id": "8f178747",
   "metadata": {},
   "source": [
    "File:   EnteringData.R\n",
    "Course: R: An Introduction (with RStudio)"
   ]
  },
  {
   "cell_type": "markdown",
   "id": "1c0da9d0",
   "metadata": {},
   "source": [
    "COLON OPERATOR ###########################################"
   ]
  },
  {
   "cell_type": "code",
   "execution_count": null,
   "id": "e55f3f5f",
   "metadata": {},
   "outputs": [],
   "source": [
    "# Assigns number 0 through 10 to x1\n",
    "x1 <- 0:10\n",
    "x1"
   ]
  },
  {
   "cell_type": "code",
   "execution_count": null,
   "id": "80c4918a",
   "metadata": {},
   "outputs": [],
   "source": [
    "# Descending order\n",
    "x2 <- 10:0\n",
    "x2"
   ]
  },
  {
   "cell_type": "markdown",
   "id": "a8b5bcd8",
   "metadata": {},
   "source": [
    "SEQ ######################################################"
   ]
  },
  {
   "cell_type": "code",
   "execution_count": null,
   "id": "0bce716a",
   "metadata": {},
   "outputs": [],
   "source": [
    "?seq  # R help on seq"
   ]
  },
  {
   "cell_type": "code",
   "execution_count": null,
   "id": "f1335ff6",
   "metadata": {},
   "outputs": [],
   "source": [
    "# Ascending values (duplicates 1:10)\n",
    "(x3 <- seq(10))"
   ]
  },
  {
   "cell_type": "code",
   "execution_count": null,
   "id": "98852ae7",
   "metadata": {},
   "outputs": [],
   "source": [
    "# Specify change in values\n",
    "(x4 <- seq(30, 0, by = -3))"
   ]
  },
  {
   "cell_type": "markdown",
   "id": "19ab4dc4",
   "metadata": {},
   "source": [
    "ENTER MULTIPLE VALUES WITH C #############################"
   ]
  },
  {
   "cell_type": "code",
   "execution_count": null,
   "id": "93459d68",
   "metadata": {},
   "outputs": [],
   "source": [
    "# c = concatenate (or combine or collect)\n",
    "?c  # R help on c"
   ]
  },
  {
   "cell_type": "code",
   "execution_count": null,
   "id": "d29c1288",
   "metadata": {},
   "outputs": [],
   "source": [
    "x5 <- c(5, 4, 1, 6, 7, 2, 2, 3, 2, 8)\n",
    "x5"
   ]
  },
  {
   "cell_type": "markdown",
   "id": "fccb5ba8",
   "metadata": {},
   "source": [
    "SCAN #####################################################"
   ]
  },
  {
   "cell_type": "code",
   "execution_count": null,
   "id": "24508775",
   "metadata": {},
   "outputs": [],
   "source": [
    "?scan  # R help on scan"
   ]
  },
  {
   "cell_type": "code",
   "execution_count": null,
   "id": "7afa9600",
   "metadata": {},
   "outputs": [],
   "source": [
    "x6 <- scan()  # After running this command, go to console\n",
    "# Hit return after each number\n",
    "# Hit return twice to stop\n",
    "x6"
   ]
  },
  {
   "cell_type": "markdown",
   "id": "2b777dc3",
   "metadata": {},
   "source": [
    "REP ######################################################"
   ]
  },
  {
   "cell_type": "code",
   "execution_count": null,
   "id": "2f4d2ee9",
   "metadata": {},
   "outputs": [],
   "source": [
    "?rep  # R help on rep\n",
    "x7 <- rep(TRUE, 5)\n",
    "x7"
   ]
  },
  {
   "cell_type": "code",
   "execution_count": null,
   "id": "fb47e0d2",
   "metadata": {},
   "outputs": [],
   "source": [
    "# Repeats set\n",
    "x8 <- rep(c(TRUE, FALSE), 5)\n",
    "x8"
   ]
  },
  {
   "cell_type": "code",
   "execution_count": null,
   "id": "7ee3f863",
   "metadata": {},
   "outputs": [],
   "source": [
    "# Repeats items in set\n",
    "x9 <- rep(c(TRUE, FALSE), each = 5)\n",
    "x9"
   ]
  },
  {
   "cell_type": "markdown",
   "id": "8b9e656b",
   "metadata": {},
   "source": [
    "CLEAN UP #################################################"
   ]
  },
  {
   "cell_type": "code",
   "execution_count": null,
   "id": "b106c8f8",
   "metadata": {},
   "outputs": [],
   "source": [
    "# Clear environment\n",
    "rm(list = ls()) "
   ]
  },
  {
   "cell_type": "code",
   "execution_count": null,
   "id": "8109e2a8",
   "metadata": {},
   "outputs": [],
   "source": [
    "# Clear console\n",
    "cat(\"\\014\")  # ctrl+L"
   ]
  },
  {
   "cell_type": "markdown",
   "id": "75331545",
   "metadata": {},
   "source": [
    "Clear mind :)"
   ]
  }
 ],
 "metadata": {
  "jupytext": {
   "cell_metadata_filter": "-all",
   "main_language": "R",
   "notebook_metadata_filter": "-all"
  }
 },
 "nbformat": 4,
 "nbformat_minor": 5
}
