{
 "cells": [
  {
   "cell_type": "code",
   "execution_count": 1,
   "id": "2ba8e1d7",
   "metadata": {},
   "outputs": [],
   "source": [
    "sum <- 1 + 4 * 3"
   ]
  },
  {
   "cell_type": "code",
   "execution_count": 2,
   "id": "2a37c702",
   "metadata": {},
   "outputs": [
    {
     "name": "stdout",
     "output_type": "stream",
     "text": [
      "[1] \"Default Order: 13\"\n"
     ]
    }
   ],
   "source": [
    "print( paste( \"Default Order:\", sum ) )"
   ]
  },
  {
   "cell_type": "code",
   "execution_count": 3,
   "id": "7457bfde",
   "metadata": {},
   "outputs": [],
   "source": [
    "sum <- ( 1 + 4 ) * 3"
   ]
  },
  {
   "cell_type": "code",
   "execution_count": 4,
   "id": "9d237952",
   "metadata": {},
   "outputs": [
    {
     "name": "stdout",
     "output_type": "stream",
     "text": [
      "[1] \"Forced Order: 15\"\n"
     ]
    }
   ],
   "source": [
    "print( paste( \"Forced Order:\", sum ) )"
   ]
  },
  {
   "cell_type": "code",
   "execution_count": 5,
   "id": "67e7b30e",
   "metadata": {},
   "outputs": [],
   "source": [
    "sum <- 7 - 4 + 2"
   ]
  },
  {
   "cell_type": "code",
   "execution_count": 6,
   "id": "fd1e6f14",
   "metadata": {},
   "outputs": [
    {
     "name": "stdout",
     "output_type": "stream",
     "text": [
      "[1] \"Default Direction: 5\"\n"
     ]
    }
   ],
   "source": [
    "print( paste( \"Default Direction:\", sum ) )"
   ]
  },
  {
   "cell_type": "code",
   "execution_count": 7,
   "id": "ae707981",
   "metadata": {},
   "outputs": [
    {
     "name": "stdout",
     "output_type": "stream",
     "text": [
      "[1] \"Forced Direction: 1\"\n"
     ]
    }
   ],
   "source": [
    "sum <- 7 - ( 4 + 2 )\n",
    "print( paste( \"Forced Direction:\", sum ) )"
   ]
  }
 ],
 "metadata": {
  "jupytext": {
   "cell_metadata_filter": "-all",
   "main_language": "R",
   "notebook_metadata_filter": "-all"
  },
  "kernelspec": {
   "display_name": "R (system-wide)",
   "language": "r",
   "name": "ir"
  },
  "language_info": {
   "codemirror_mode": "r",
   "file_extension": ".r",
   "mimetype": "text/x-r-source",
   "name": "R",
   "pygments_lexer": "r",
   "version": "4.2.1"
  }
 },
 "nbformat": 4,
 "nbformat_minor": 5
}
