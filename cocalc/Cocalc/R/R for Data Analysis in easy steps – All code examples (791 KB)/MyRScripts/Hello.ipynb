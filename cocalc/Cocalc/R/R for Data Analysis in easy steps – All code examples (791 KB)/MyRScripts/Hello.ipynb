{
 "cells": [
  {
   "cell_type": "code",
   "execution_count": null,
   "id": "191061f1",
   "metadata": {},
   "outputs": [],
   "source": [
    "print( \"Hello World!\" )"
   ]
  },
  {
   "cell_type": "code",
   "execution_count": null,
   "id": "e61f700e",
   "metadata": {},
   "outputs": [],
   "source": [
    "print( \"Hello World!\", quote=FALSE )"
   ]
  }
 ],
 "metadata": {
  "jupytext": {
   "cell_metadata_filter": "-all",
   "main_language": "R",
   "notebook_metadata_filter": "-all"
  }
 },
 "nbformat": 4,
 "nbformat_minor": 5
}
