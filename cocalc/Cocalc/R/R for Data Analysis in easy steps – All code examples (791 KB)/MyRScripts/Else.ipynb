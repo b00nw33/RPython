{
 "cells": [
  {
   "cell_type": "code",
   "execution_count": 1,
   "id": "f90eb6a5",
   "metadata": {},
   "outputs": [],
   "source": [
    "hour <- 21"
   ]
  },
  {
   "cell_type": "code",
   "execution_count": 2,
   "id": "dded4be2",
   "metadata": {},
   "outputs": [
    {
     "name": "stdout",
     "output_type": "stream",
     "text": [
      "[1] \"Good Evening: 21\"\n"
     ]
    }
   ],
   "source": [
    "if( hour < 13 )\n",
    "{\n",
    "  print( paste( \"Good Morning:\", hour ) )\n",
    "} else\n",
    "  {\n",
    "    if( hour < 18 ) print( paste( \"Good Afternoon:\", hour ) )\n",
    "    else\n",
    "    {\n",
    "      print( paste( \"Good Evening:\", hour ) )\n",
    "    }\n",
    "  }"
   ]
  }
 ],
 "metadata": {
  "jupytext": {
   "cell_metadata_filter": "-all",
   "main_language": "R",
   "notebook_metadata_filter": "-all"
  },
  "kernelspec": {
   "display_name": "R (system-wide)",
   "language": "r",
   "name": "ir"
  },
  "language_info": {
   "codemirror_mode": "r",
   "file_extension": ".r",
   "mimetype": "text/x-r-source",
   "name": "R",
   "pygments_lexer": "r",
   "version": "4.2.1"
  }
 },
 "nbformat": 4,
 "nbformat_minor": 5
}
