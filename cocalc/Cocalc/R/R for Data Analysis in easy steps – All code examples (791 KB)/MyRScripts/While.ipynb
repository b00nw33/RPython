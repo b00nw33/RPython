{
 "cells": [
  {
   "cell_type": "code",
   "execution_count": 1,
   "id": "d88cd771",
   "metadata": {},
   "outputs": [],
   "source": [
    "sum <- 0"
   ]
  },
  {
   "cell_type": "code",
   "execution_count": 3,
   "id": "098d3320",
   "metadata": {},
   "outputs": [
    {
     "name": "stdout",
     "output_type": "stream",
     "text": [
      "Outer Loop i = 1 \t\tTotal = 1 \n",
      "\tInner Loop j = 1 \tTotal = 2 \n",
      "\tInner Loop j = 2 \tTotal = 3 \n",
      "\tInner Loop j = 3 \tTotal = 4 \n",
      "Outer Loop i = 2 \t\tTotal = 5 \n",
      "\tInner Loop j = 1 \tTotal = 6 \n",
      "\tInner Loop j = 2 \tTotal = 7 \n",
      "\tInner Loop j = 3 \tTotal = 8 \n",
      "Outer Loop i = 3 \t\tTotal = 9 \n",
      "\tInner Loop j = 1 \tTotal = 10 \n",
      "\tInner Loop j = 2 \tTotal = 11 \n",
      "\tInner Loop j = 3 \tTotal = 12 \n"
     ]
    }
   ],
   "source": [
    "i <- 1\n",
    "while( i < 4 )\n",
    "{\n",
    "  sum <- ( sum + 1 )\n",
    "  cat( \"Outer Loop i =\", i, \"\\t\\tTotal =\", sum, \"\\n\" )\n",
    "  i <- ( i + 1 )\n",
    "  \n",
    "  # Nested loop to be inserted here.\n",
    "  \n",
    "  j <- 1\n",
    "  while( j < 4 )\n",
    "  {\n",
    "    sum <- ( sum + 1 )\n",
    "    cat( \"\\tInner Loop j =\", j, \"\\tTotal =\", sum, \"\\n\" )\n",
    "    j <- ( j + 1 )\n",
    "  }\n",
    "}"
   ]
  },
  {
   "cell_type": "code",
   "execution_count": null,
   "id": "fb9190c3",
   "metadata": {},
   "outputs": [],
   "source": []
  }
 ],
 "metadata": {
  "jupytext": {
   "cell_metadata_filter": "-all",
   "main_language": "R",
   "notebook_metadata_filter": "-all"
  },
  "kernelspec": {
   "display_name": "R (system-wide)",
   "language": "r",
   "name": "ir"
  },
  "language_info": {
   "codemirror_mode": "r",
   "file_extension": ".r",
   "mimetype": "text/x-r-source",
   "name": "R",
   "pygments_lexer": "r",
   "version": "4.2.1"
  }
 },
 "nbformat": 4,
 "nbformat_minor": 5
}
