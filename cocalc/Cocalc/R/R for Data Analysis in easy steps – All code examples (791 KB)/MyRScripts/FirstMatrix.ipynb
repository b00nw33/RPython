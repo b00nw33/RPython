{
 "cells": [
  {
   "cell_type": "code",
   "execution_count": 1,
   "id": "f481843c",
   "metadata": {},
   "outputs": [],
   "source": [
    "data <- seq( 1:32 )"
   ]
  },
  {
   "cell_type": "code",
   "execution_count": 2,
   "id": "ff7d3371",
   "metadata": {},
   "outputs": [],
   "source": [
    "table <- matrix( data, nrow=4, ncol=8 )"
   ]
  },
  {
   "cell_type": "code",
   "execution_count": 3,
   "id": "9dea607f",
   "metadata": {},
   "outputs": [
    {
     "name": "stdout",
     "output_type": "stream",
     "text": [
      "     [,1] [,2] [,3] [,4] [,5] [,6] [,7] [,8]\n",
      "[1,]    1    5    9   13   17   21   25   29\n",
      "[2,]    2    6   10   14   18   22   26   30\n",
      "[3,]    3    7   11   15   19   23   27   31\n",
      "[4,]    4    8   12   16   20   24   28   32\n"
     ]
    }
   ],
   "source": [
    "print( table )"
   ]
  },
  {
   "cell_type": "code",
   "execution_count": 4,
   "id": "8359e388",
   "metadata": {},
   "outputs": [
    {
     "name": "stdout",
     "output_type": "stream",
     "text": [
      "\n",
      "Vector?: FALSE \tMatrix?: TRUE"
     ]
    }
   ],
   "source": [
    "cat( \"\\nVector?:\", is.vector( table ), \n",
    "     \"\\tMatrix?:\", is.matrix( table ) )"
   ]
  },
  {
   "cell_type": "code",
   "execution_count": 5,
   "id": "d6be5635",
   "metadata": {},
   "outputs": [
    {
     "name": "stdout",
     "output_type": "stream",
     "text": [
      "\n",
      "\n",
      "Cell 4,5 Contains: 20"
     ]
    }
   ],
   "source": [
    "cat( \"\\n\\nCell 4,5 Contains:\", table[ 4, 5 ] )\n",
    "table[ 4, 5 ] <- 10"
   ]
  },
  {
   "cell_type": "code",
   "execution_count": 6,
   "id": "253c6195",
   "metadata": {},
   "outputs": [
    {
     "name": "stdout",
     "output_type": "stream",
     "text": [
      "\n",
      "\n",
      "Value 10 Search:\n",
      "     row col\n",
      "[1,]   2   3\n",
      "[2,]   4   5\n"
     ]
    }
   ],
   "source": [
    "cell <- which( table==10, arr.ind=TRUE )\n",
    "cat( \"\\n\\nValue 10 Search:\\n\" )\n",
    "print( cell )"
   ]
  }
 ],
 "metadata": {
  "jupytext": {
   "cell_metadata_filter": "-all",
   "main_language": "R",
   "notebook_metadata_filter": "-all"
  },
  "kernelspec": {
   "display_name": "R (system-wide)",
   "language": "r",
   "name": "ir"
  },
  "language_info": {
   "codemirror_mode": "r",
   "file_extension": ".r",
   "mimetype": "text/x-r-source",
   "name": "R",
   "pygments_lexer": "r",
   "version": "4.2.1"
  }
 },
 "nbformat": 4,
 "nbformat_minor": 5
}
