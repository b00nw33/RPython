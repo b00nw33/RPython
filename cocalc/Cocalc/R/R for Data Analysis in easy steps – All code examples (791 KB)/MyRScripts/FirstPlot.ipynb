{
 "cells": [
  {
   "cell_type": "code",
   "execution_count": null,
   "id": "53bb7af2",
   "metadata": {},
   "outputs": [],
   "source": [
    "x <- c( 1, 3, 5, 7, 9 )\n",
    "y <- c( 8, 0, 4, 6, 2 )\n",
    "plot( x, y, type=\"o\" )"
   ]
  }
 ],
 "metadata": {
  "jupytext": {
   "cell_metadata_filter": "-all",
   "main_language": "R",
   "notebook_metadata_filter": "-all"
  }
 },
 "nbformat": 4,
 "nbformat_minor": 5
}
