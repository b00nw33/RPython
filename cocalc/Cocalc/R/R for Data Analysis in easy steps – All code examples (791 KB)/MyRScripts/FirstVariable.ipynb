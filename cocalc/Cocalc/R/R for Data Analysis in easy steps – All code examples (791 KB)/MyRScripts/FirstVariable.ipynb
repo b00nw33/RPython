{
 "cells": [
  {
   "cell_type": "code",
   "execution_count": null,
   "id": "c51c9bee",
   "metadata": {},
   "outputs": [],
   "source": [
    "name <- \"Username\""
   ]
  },
  {
   "cell_type": "code",
   "execution_count": null,
   "id": "6261b630",
   "metadata": {},
   "outputs": [],
   "source": [
    "name <- \"Mike McGrath\""
   ]
  },
  {
   "cell_type": "code",
   "execution_count": null,
   "id": "7701918f",
   "metadata": {},
   "outputs": [],
   "source": [
    "print( name )"
   ]
  }
 ],
 "metadata": {
  "jupytext": {
   "cell_metadata_filter": "-all",
   "main_language": "R",
   "notebook_metadata_filter": "-all"
  }
 },
 "nbformat": 4,
 "nbformat_minor": 5
}
