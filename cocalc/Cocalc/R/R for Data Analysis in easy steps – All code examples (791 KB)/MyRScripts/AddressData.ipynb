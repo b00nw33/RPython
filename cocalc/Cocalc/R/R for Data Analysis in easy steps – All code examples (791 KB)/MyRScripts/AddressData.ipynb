{
 "cells": [
  {
   "cell_type": "code",
   "execution_count": 1,
   "id": "b050e750",
   "metadata": {},
   "outputs": [],
   "source": [
    "frame <- read.csv( \"DataSet-Browsers.csv\" )"
   ]
  },
  {
   "cell_type": "code",
   "execution_count": 2,
   "id": "2f1b8fea",
   "metadata": {},
   "outputs": [
    {
     "name": "stdout",
     "output_type": "stream",
     "text": [
      "Head...\n",
      "               Web.Browser.Version PerCentage.Market.Share\n",
      "1                      Chrome 61.0                   35.16\n",
      "2 Microsoft Internet Explorer 11.0                   12.52\n",
      "3                      Chrome 55.0                    7.40\n"
     ]
    }
   ],
   "source": [
    "cat( \"Head...\\n\" )\n",
    "print( head( frame, n=3 ) )"
   ]
  },
  {
   "cell_type": "code",
   "execution_count": 3,
   "id": "acc81405",
   "metadata": {},
   "outputs": [
    {
     "name": "stdout",
     "output_type": "stream",
     "text": [
      "\n",
      "Row #1, Column #2: 35.16 \n"
     ]
    }
   ],
   "source": [
    "data <- frame[ 1, 2 ]\n",
    "cat( \"\\nRow #1, Column #2:\", data , \"\\n\" )"
   ]
  },
  {
   "cell_type": "code",
   "execution_count": 4,
   "id": "07253955",
   "metadata": {},
   "outputs": [
    {
     "name": "stdout",
     "output_type": "stream",
     "text": [
      "\n",
      "Row #2, Column #2: 12.52 \n"
     ]
    }
   ],
   "source": [
    "data <- frame[ 2, \"PerCentage.Market.Share\" ]\n",
    "cat( \"\\nRow #2, Column #2:\", data, \"\\n\" )"
   ]
  },
  {
   "cell_type": "code",
   "execution_count": 5,
   "id": "f0c8603d",
   "metadata": {},
   "outputs": [
    {
     "name": "stdout",
     "output_type": "stream",
     "text": [
      "\n",
      "Row #3, Column #2: 7.4 \n",
      "\n"
     ]
    }
   ],
   "source": [
    "data <- frame$PerCentage.Market.Share[ 3 ]\n",
    "cat( \"\\nRow #3, Column #2:\", data, \"\\n\\n\" )"
   ]
  },
  {
   "cell_type": "code",
   "execution_count": 6,
   "id": "6b7e5ee8",
   "metadata": {},
   "outputs": [
    {
     "name": "stdout",
     "output_type": "stream",
     "text": [
      "NULL\n"
     ]
    }
   ],
   "source": [
    "print( levels( frame$Web.Browser.Version ) )"
   ]
  },
  {
   "cell_type": "code",
   "execution_count": 11,
   "id": "df84c7fa-46ab-486f-ad3d-f32f8990edb8",
   "metadata": {},
   "outputs": [
    {
     "data": {
      "text/html": [
       "FALSE"
      ],
      "text/latex": [
       "FALSE"
      ],
      "text/markdown": [
       "FALSE"
      ],
      "text/plain": [
       "[1] FALSE"
      ]
     },
     "metadata": {},
     "output_type": "display_data"
    }
   ],
   "source": [
    "is.factor(frame$Web.Browser.Version)"
   ]
  }
 ],
 "metadata": {
  "jupytext": {
   "cell_metadata_filter": "-all",
   "main_language": "R",
   "notebook_metadata_filter": "-all"
  },
  "kernelspec": {
   "display_name": "R (system-wide)",
   "language": "r",
   "name": "ir"
  },
  "language_info": {
   "codemirror_mode": "r",
   "file_extension": ".r",
   "mimetype": "text/x-r-source",
   "name": "R",
   "pygments_lexer": "r",
   "version": "4.2.1"
  }
 },
 "nbformat": 4,
 "nbformat_minor": 5
}
