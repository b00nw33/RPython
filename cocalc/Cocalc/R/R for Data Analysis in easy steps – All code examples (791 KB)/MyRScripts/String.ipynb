{
 "cells": [
  {
   "cell_type": "code",
   "execution_count": 1,
   "id": "e1cabae8",
   "metadata": {},
   "outputs": [],
   "source": [
    "string <- \"R for Data Analysis\""
   ]
  },
  {
   "cell_type": "code",
   "execution_count": 2,
   "id": "00a225f5",
   "metadata": {},
   "outputs": [
    {
     "name": "stdout",
     "output_type": "stream",
     "text": [
      "Substring:\t Data \n"
     ]
    }
   ],
   "source": [
    "cat( \"Substring:\\t\", substr( string, 7, 10 ), \"\\n\" )"
   ]
  },
  {
   "cell_type": "code",
   "execution_count": 3,
   "id": "bd89a481",
   "metadata": {},
   "outputs": [
    {
     "name": "stdout",
     "output_type": "stream",
     "text": [
      "Replaced:\t R for Data Analytics \n",
      "\n"
     ]
    }
   ],
   "source": [
    "cat( \"Replaced:\\t\", sub( \"sis\", \"tics\", string ), \"\\n\\n\" )"
   ]
  },
  {
   "cell_type": "code",
   "execution_count": 4,
   "id": "0972509a",
   "metadata": {},
   "outputs": [
    {
     "name": "stdout",
     "output_type": "stream",
     "text": [
      "[1] \"Split:  c(\\\"R\\\", \\\"for\\\", \\\"Data\\\", \\\"Analysis\\\")\"\n"
     ]
    }
   ],
   "source": [
    "print( paste( \"Split: \", strsplit( string, \" \" ) ) )"
   ]
  },
  {
   "cell_type": "code",
   "execution_count": 5,
   "id": "f76180db",
   "metadata": {},
   "outputs": [
    {
     "name": "stdout",
     "output_type": "stream",
     "text": [
      "\n",
      "Uppercase:\t R FOR DATA ANALYSIS \n",
      "\n"
     ]
    }
   ],
   "source": [
    "cat( \"\\nUppercase:\\t\", toupper( string ), \"\\n\\n\" )"
   ]
  },
  {
   "cell_type": "code",
   "execution_count": 6,
   "id": "a2724df1",
   "metadata": {},
   "outputs": [
    {
     "name": "stdout",
     "output_type": "stream",
     "text": [
      "[1] \"Date: Friday, October 21\"\n",
      "[1] \"Time: 07:35\"\n"
     ]
    }
   ],
   "source": [
    "now <-  Sys.time( )\n",
    "print( format( now, format=\"Date: %A, %B %e\" ) )\n",
    "print( format( now, format=\"Time: %H:%M\" ) )"
   ]
  }
 ],
 "metadata": {
  "jupytext": {
   "cell_metadata_filter": "-all",
   "main_language": "R",
   "notebook_metadata_filter": "-all"
  },
  "kernelspec": {
   "display_name": "R (system-wide)",
   "language": "r",
   "name": "ir"
  },
  "language_info": {
   "codemirror_mode": "r",
   "file_extension": ".r",
   "mimetype": "text/x-r-source",
   "name": "R",
   "pygments_lexer": "r",
   "version": "4.2.1"
  }
 },
 "nbformat": 4,
 "nbformat_minor": 5
}
