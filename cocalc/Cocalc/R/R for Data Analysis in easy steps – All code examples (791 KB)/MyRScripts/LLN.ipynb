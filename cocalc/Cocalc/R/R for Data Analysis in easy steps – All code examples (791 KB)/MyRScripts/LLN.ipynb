{
 "cells": [
  {
   "cell_type": "code",
   "execution_count": 3,
   "id": "2d06290c",
   "metadata": {},
   "outputs": [],
   "source": [
    "qty <- 10"
   ]
  },
  {
   "cell_type": "code",
   "execution_count": 4,
   "id": "1891b47b",
   "metadata": {},
   "outputs": [
    {
     "name": "stdout",
     "output_type": "stream",
     "text": [
      "For 10 Generated Random Numbers: 60 %\n",
      "For 100 Generated Random Numbers: 70 %\n",
      "For 1000 Generated Random Numbers: 69 %\n",
      "For 10000 Generated Random Numbers: 68.76 %\n",
      "For 1e+05 Generated Random Numbers: 68.328 %\n",
      "For 1e+06 Generated Random Numbers: 68.2935 %\n"
     ]
    }
   ],
   "source": [
    "while( qty <= 1000000 )\n",
    "{\n",
    "  num <- 0\n",
    "  for( i in rnorm( qty, mean=0, sd=1 ) )\n",
    "  {\n",
    "    if( ( i >= -1 ) && ( i <= 1 ) ) num <- ( num + 1 )\n",
    "  }\n",
    "  \n",
    "  num <-  ( num / ( qty / 100 ) )\n",
    "  cat( \"For\", qty, \"Generated Random Numbers:\", num,\"%\\n\" )\n",
    "  \n",
    "  qty = ( qty * 10 )\n",
    "}"
   ]
  }
 ],
 "metadata": {
  "jupytext": {
   "cell_metadata_filter": "-all",
   "main_language": "R",
   "notebook_metadata_filter": "-all"
  },
  "kernelspec": {
   "display_name": "R (system-wide)",
   "language": "r",
   "name": "ir"
  },
  "language_info": {
   "codemirror_mode": "r",
   "file_extension": ".r",
   "mimetype": "text/x-r-source",
   "name": "R",
   "pygments_lexer": "r",
   "version": "4.2.1"
  }
 },
 "nbformat": 4,
 "nbformat_minor": 5
}
