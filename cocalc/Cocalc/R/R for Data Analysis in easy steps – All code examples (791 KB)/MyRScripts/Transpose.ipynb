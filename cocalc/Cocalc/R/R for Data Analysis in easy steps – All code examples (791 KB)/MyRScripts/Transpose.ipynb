{
 "cells": [
  {
   "cell_type": "code",
   "execution_count": 1,
   "id": "ecbe2968",
   "metadata": {},
   "outputs": [],
   "source": [
    "data <- seq( 1:32 )"
   ]
  },
  {
   "cell_type": "code",
   "execution_count": 2,
   "id": "d86c904b",
   "metadata": {},
   "outputs": [
    {
     "name": "stdout",
     "output_type": "stream",
     "text": [
      "\n",
      "By Column (Default):\n",
      "\n",
      "     [,1] [,2] [,3] [,4] [,5] [,6] [,7] [,8]\n",
      "[1,]    1    5    9   13   17   21   25   29\n",
      "[2,]    2    6   10   14   18   22   26   30\n",
      "[3,]    3    7   11   15   19   23   27   31\n",
      "[4,]    4    8   12   16   20   24   28   32\n"
     ]
    }
   ],
   "source": [
    "table <- matrix( data, nrow=4, ncol=8 )\n",
    "cat( \"\\nBy Column (Default):\\n\\n\" )\n",
    "print( table )"
   ]
  },
  {
   "cell_type": "code",
   "execution_count": 3,
   "id": "2db5aefc",
   "metadata": {},
   "outputs": [
    {
     "name": "stdout",
     "output_type": "stream",
     "text": [
      "\n",
      "By Row:\n",
      "\n",
      "     [,1] [,2] [,3] [,4] [,5] [,6] [,7] [,8]\n",
      "[1,]    1    2    3    4    5    6    7    8\n",
      "[2,]    9   10   11   12   13   14   15   16\n",
      "[3,]   17   18   19   20   21   22   23   24\n",
      "[4,]   25   26   27   28   29   30   31   32\n"
     ]
    }
   ],
   "source": [
    "table <- matrix( data, nrow=4, ncol=8, byrow=TRUE )\n",
    "cat( \"\\nBy Row:\\n\\n\" )\n",
    "print( table )"
   ]
  },
  {
   "cell_type": "code",
   "execution_count": 4,
   "id": "6bc97d1c",
   "metadata": {},
   "outputs": [
    {
     "name": "stdout",
     "output_type": "stream",
     "text": [
      "\n",
      "Transposed (Rows to Columns):\n",
      "\n",
      "     [,1] [,2] [,3] [,4]\n",
      "[1,]    1    9   17   25\n",
      "[2,]    2   10   18   26\n",
      "[3,]    3   11   19   27\n",
      "[4,]    4   12   20   28\n",
      "[5,]    5   13   21   29\n",
      "[6,]    6   14   22   30\n",
      "[7,]    7   15   23   31\n",
      "[8,]    8   16   24   32\n"
     ]
    }
   ],
   "source": [
    "table <- t( table )\n",
    "cat( \"\\nTransposed (Rows to Columns):\\n\\n\" )\n",
    "print( table )"
   ]
  }
 ],
 "metadata": {
  "jupytext": {
   "cell_metadata_filter": "-all",
   "main_language": "R",
   "notebook_metadata_filter": "-all"
  },
  "kernelspec": {
   "display_name": "R (system-wide)",
   "language": "r",
   "name": "ir"
  },
  "language_info": {
   "codemirror_mode": "r",
   "file_extension": ".r",
   "mimetype": "text/x-r-source",
   "name": "R",
   "pygments_lexer": "r",
   "version": "4.2.1"
  }
 },
 "nbformat": 4,
 "nbformat_minor": 5
}
