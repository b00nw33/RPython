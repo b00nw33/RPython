{
 "cells": [
  {
   "cell_type": "code",
   "execution_count": null,
   "id": "94ad94b1",
   "metadata": {},
   "outputs": [],
   "source": [
    "qtr.1 <- list( Jan=1500, Feb=1300, Mar=2400 )\n",
    "qtr.2 <- list( Apr=1800, May=1700, Jun=2800 )\n",
    "qtr.3 <- list( Jul=3100, Aug=3800, Sep=3200 )\n",
    "qtr.4 <- list( Oct=2600, Nov=2200, Dec=2400 )"
   ]
  },
  {
   "cell_type": "code",
   "execution_count": null,
   "id": "6b151bbe",
   "metadata": {},
   "outputs": [],
   "source": [
    "year <- unlist( c( qtr.1, qtr.2, qtr.3, qtr.4 ) )"
   ]
  },
  {
   "cell_type": "code",
   "execution_count": null,
   "id": "1aef8c83",
   "metadata": {},
   "outputs": [],
   "source": [
    "plot( year, type=\"o\", col=\"Blue\", pch=15,\n",
    "      ann=FALSE, axes=FALSE )\n",
    "axis( 1, at=1:12, lab=c( names( year ) ) )\n",
    "axis( 2 )\n",
    "title( xlab=\"Month\", ylab=\"$\",\n",
    "       main=\"Yearly Sales\", col.main=rgb( 1, 0, 0 ) )\n",
    "box( )"
   ]
  }
 ],
 "metadata": {
  "jupytext": {
   "cell_metadata_filter": "-all",
   "main_language": "R",
   "notebook_metadata_filter": "-all"
  }
 },
 "nbformat": 4,
 "nbformat_minor": 5
}
