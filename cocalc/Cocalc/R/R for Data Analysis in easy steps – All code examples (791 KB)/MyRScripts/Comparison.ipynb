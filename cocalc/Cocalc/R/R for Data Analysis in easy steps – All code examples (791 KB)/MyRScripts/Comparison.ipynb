{
 "cells": [
  {
   "cell_type": "code",
   "execution_count": null,
   "id": "1c43b4dd",
   "metadata": {},
   "outputs": [],
   "source": [
    "nil <- 0\n",
    "num <- 0\n",
    "max <- 1"
   ]
  },
  {
   "cell_type": "code",
   "execution_count": null,
   "id": "b436bb2a",
   "metadata": {},
   "outputs": [],
   "source": [
    "cap <- \"A\"\n",
    "low <- \"a\""
   ]
  },
  {
   "cell_type": "code",
   "execution_count": null,
   "id": "807a2dff",
   "metadata": {},
   "outputs": [],
   "source": [
    "print( paste( \"0 == 0 Equality:\", nil == num ) )\n",
    "print( paste( \"A == a Equality:\", cap == low ) )"
   ]
  },
  {
   "cell_type": "code",
   "execution_count": null,
   "id": "cf1f29dd",
   "metadata": {},
   "outputs": [],
   "source": [
    "print( paste( \"0 != 1 Inequality:\", nil != max ) )"
   ]
  },
  {
   "cell_type": "code",
   "execution_count": null,
   "id": "eb5b39fd",
   "metadata": {},
   "outputs": [],
   "source": [
    "print( paste( \"0 > 1 Greater:\", nil > max ) )\n",
    "print( paste( \"0 < 1 Less:\", nil < max ) )"
   ]
  },
  {
   "cell_type": "code",
   "execution_count": null,
   "id": "263a1d2e",
   "metadata": {},
   "outputs": [],
   "source": [
    "print( paste( \"0 >= 0 Greater or Equal:\", nil >= num ) )\n",
    "print( paste( \"1 <= 0 Less or Equal:\", max <= nil ) )"
   ]
  }
 ],
 "metadata": {
  "jupytext": {
   "cell_metadata_filter": "-all",
   "main_language": "R",
   "notebook_metadata_filter": "-all"
  }
 },
 "nbformat": 4,
 "nbformat_minor": 5
}
