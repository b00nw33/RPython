{
 "cells": [
  {
   "cell_type": "code",
   "execution_count": null,
   "id": "ac49dda1",
   "metadata": {},
   "outputs": [],
   "source": [
    "rand <- runif( 1 )\n",
    "cat( \"Random Number:\\t\\t\", rand, \"\\n\" )"
   ]
  },
  {
   "cell_type": "code",
   "execution_count": null,
   "id": "601781cf",
   "metadata": {},
   "outputs": [],
   "source": [
    "rand <- ( rand * 10 )\n",
    "cat( \"Multiplied Number:\\t\", rand, \"\\n\" )"
   ]
  },
  {
   "cell_type": "code",
   "execution_count": null,
   "id": "29e0de3a",
   "metadata": {},
   "outputs": [],
   "source": [
    "rand <- ceiling( rand )\n",
    "cat( \"Random Integer:\\t\\t\", rand, \"\\n\\n\" )"
   ]
  }
 ],
 "metadata": {
  "jupytext": {
   "cell_metadata_filter": "-all",
   "main_language": "R",
   "notebook_metadata_filter": "-all"
  }
 },
 "nbformat": 4,
 "nbformat_minor": 5
}
