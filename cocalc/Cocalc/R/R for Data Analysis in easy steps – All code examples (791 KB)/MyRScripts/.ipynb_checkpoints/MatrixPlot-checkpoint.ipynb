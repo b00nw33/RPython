{
 "cells": [
  {
   "cell_type": "code",
   "execution_count": null,
   "id": "e4bcd85d",
   "metadata": {},
   "outputs": [],
   "source": [
    "ny <- c( 3.8, 5.5, 9.9, 15.7, 21.5, 26.3 )\n",
    "la <- c( 19.5, 19.4, 19.7, 20.8, 21.3, 22.7 )\n",
    "fw <- c( 13.7, 15.4, 20, 24.6, 28.5, 32.7 )"
   ]
  },
  {
   "cell_type": "code",
   "execution_count": null,
   "id": "bdaf04d4",
   "metadata": {},
   "outputs": [],
   "source": [
    "table <- cbind( ny, la, fw )\n",
    "print( table )"
   ]
  },
  {
   "cell_type": "code",
   "execution_count": null,
   "id": "a9dd0089",
   "metadata": {},
   "outputs": [],
   "source": [
    "matplot( table, type=\"b\", pch=15:17, col=2:4 )"
   ]
  }
 ],
 "metadata": {
  "jupytext": {
   "cell_metadata_filter": "-all",
   "main_language": "R",
   "notebook_metadata_filter": "-all"
  }
 },
 "nbformat": 4,
 "nbformat_minor": 5
}
