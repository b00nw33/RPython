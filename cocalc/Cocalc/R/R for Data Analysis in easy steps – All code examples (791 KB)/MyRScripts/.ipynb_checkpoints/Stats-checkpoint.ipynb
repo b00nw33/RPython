{
 "cells": [
  {
   "cell_type": "code",
   "execution_count": null,
   "id": "e169e001",
   "metadata": {},
   "outputs": [],
   "source": [
    "nums <- rnorm( 20, mean=5, sd=2 )"
   ]
  },
  {
   "cell_type": "code",
   "execution_count": null,
   "id": "adb43b0a",
   "metadata": {},
   "outputs": [],
   "source": [
    "cat( \"Mean:\\t\", mean( nums ), \"\\n\" )\n",
    "cat( \"Median:\\t\", median( nums ), \"\\n\\n\" )"
   ]
  },
  {
   "cell_type": "code",
   "execution_count": null,
   "id": "0a41ceef",
   "metadata": {},
   "outputs": [],
   "source": [
    "cat( \"Actual SD:\\t\", sd( nums ), \"\\n\\n\" )"
   ]
  },
  {
   "cell_type": "code",
   "execution_count": null,
   "id": "10d69d7f",
   "metadata": {},
   "outputs": [],
   "source": [
    "cat( \"Cut Points:\", quantile( nums ), \"\\n\" )"
   ]
  },
  {
   "cell_type": "code",
   "execution_count": null,
   "id": "b0e1e0dd",
   "metadata": {},
   "outputs": [],
   "source": [
    "cat( \"Total:\\t\", sum( nums ), \"\\n\\n\" )\n",
    "cat( \"Range:\\t\\t\", range( nums ), \"\\n\" )\n",
    "cat( \"Minimum:\\t\", min( nums ), \"\\n\" )\n",
    "cat( \"Maximum:\\t\", max( nums ), \"\\n\" )"
   ]
  },
  {
   "cell_type": "code",
   "execution_count": null,
   "id": "a5aab9d5",
   "metadata": {},
   "outputs": [],
   "source": [
    "plot( 1:20, nums, type=\"o\" )"
   ]
  }
 ],
 "metadata": {
  "jupytext": {
   "cell_metadata_filter": "-all",
   "main_language": "R",
   "notebook_metadata_filter": "-all"
  }
 },
 "nbformat": 4,
 "nbformat_minor": 5
}
