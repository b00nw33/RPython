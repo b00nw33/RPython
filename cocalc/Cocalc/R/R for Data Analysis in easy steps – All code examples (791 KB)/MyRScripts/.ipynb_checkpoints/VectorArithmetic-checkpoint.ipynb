{
 "cells": [
  {
   "cell_type": "code",
   "execution_count": null,
   "id": "66be055d",
   "metadata": {},
   "outputs": [],
   "source": [
    "series <- c( 1:9 )\n",
    "cat( \"Series:\", series, \"\\n\" ) "
   ]
  },
  {
   "cell_type": "code",
   "execution_count": null,
   "id": "9a652dc3",
   "metadata": {},
   "outputs": [],
   "source": [
    "slice <- series[ 1:3 ]\n",
    "cat( \"Slice:\", slice, \"\\n\" )"
   ]
  },
  {
   "cell_type": "code",
   "execution_count": null,
   "id": "cebaa8c6",
   "metadata": {},
   "outputs": [],
   "source": [
    "totals <- series + slice\n",
    "cat( \"Totals:\", totals, \"\\n\" )"
   ]
  },
  {
   "cell_type": "code",
   "execution_count": null,
   "id": "372751f6",
   "metadata": {},
   "outputs": [],
   "source": [
    "slice <- series[ 1:4 ]\n",
    "cat( \"New Slice:\", slice, \"\\n\" )"
   ]
  },
  {
   "cell_type": "code",
   "execution_count": null,
   "id": "ab2ffee3",
   "metadata": {},
   "outputs": [],
   "source": [
    "totals <- series + slice\n",
    "cat( \"New Totals:\", totals, \"\\n\" )"
   ]
  }
 ],
 "metadata": {
  "jupytext": {
   "cell_metadata_filter": "-all",
   "main_language": "R",
   "notebook_metadata_filter": "-all"
  }
 },
 "nbformat": 4,
 "nbformat_minor": 5
}
