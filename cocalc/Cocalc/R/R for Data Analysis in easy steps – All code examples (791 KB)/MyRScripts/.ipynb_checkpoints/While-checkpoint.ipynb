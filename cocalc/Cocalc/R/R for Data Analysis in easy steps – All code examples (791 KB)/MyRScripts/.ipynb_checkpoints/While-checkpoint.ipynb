{
 "cells": [
  {
   "cell_type": "code",
   "execution_count": null,
   "id": "d88cd771",
   "metadata": {},
   "outputs": [],
   "source": [
    "sum <- 0"
   ]
  },
  {
   "cell_type": "code",
   "execution_count": null,
   "id": "098d3320",
   "metadata": {},
   "outputs": [],
   "source": [
    "i <- 1\n",
    "while( i < 4 )\n",
    "{\n",
    "  sum <- ( sum + 1 )\n",
    "  cat( \"Outer Loop i =\", i, \"\\t\\tTotal =\", sum, \"\\n\" )\n",
    "  i <- ( i + 1 )\n",
    "  \n",
    "  # Nested loop to be inserted here.\n",
    "  \n",
    "  j <- 1\n",
    "  while( j < 4 )\n",
    "  {\n",
    "    sum <- ( sum + 1 )\n",
    "    cat( \"\\tInner Loop j =\", j, \"\\tTotal =\", sum, \"\\n\" )\n",
    "    j <- ( j + 1 )\n",
    "  }"
   ]
  },
  {
   "cell_type": "code",
   "execution_count": null,
   "id": "fb9190c3",
   "metadata": {},
   "outputs": [],
   "source": [
    "}"
   ]
  }
 ],
 "metadata": {
  "jupytext": {
   "cell_metadata_filter": "-all",
   "main_language": "R",
   "notebook_metadata_filter": "-all"
  }
 },
 "nbformat": 4,
 "nbformat_minor": 5
}
