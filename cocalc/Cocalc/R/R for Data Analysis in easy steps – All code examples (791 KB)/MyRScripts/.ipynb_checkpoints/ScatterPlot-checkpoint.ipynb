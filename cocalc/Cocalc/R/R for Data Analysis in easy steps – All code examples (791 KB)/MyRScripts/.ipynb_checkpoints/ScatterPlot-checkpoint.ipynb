{
 "cells": [
  {
   "cell_type": "code",
   "execution_count": null,
   "id": "07fd5c6b",
   "metadata": {},
   "outputs": [],
   "source": [
    "x <- 1:10\n",
    "y <- x^2"
   ]
  },
  {
   "cell_type": "code",
   "execution_count": null,
   "id": "c5999daa",
   "metadata": {},
   "outputs": [],
   "source": [
    "library( ggplot2 )"
   ]
  },
  {
   "cell_type": "code",
   "execution_count": null,
   "id": "b6243667",
   "metadata": {},
   "outputs": [],
   "source": [
    "qplot( x, y )"
   ]
  },
  {
   "cell_type": "code",
   "execution_count": null,
   "id": "a1ef0e53",
   "metadata": {},
   "outputs": [],
   "source": [
    "qplot( x, y, geom=c(\"point\", \"line\" ) )"
   ]
  },
  {
   "cell_type": "code",
   "execution_count": null,
   "id": "6da76374",
   "metadata": {},
   "outputs": [],
   "source": [
    "qplot( x, y, geom=c( \"point\", \"line\" ), color=I( \"Red\" ) )"
   ]
  }
 ],
 "metadata": {
  "jupytext": {
   "cell_metadata_filter": "-all",
   "main_language": "R",
   "notebook_metadata_filter": "-all"
  }
 },
 "nbformat": 4,
 "nbformat_minor": 5
}
