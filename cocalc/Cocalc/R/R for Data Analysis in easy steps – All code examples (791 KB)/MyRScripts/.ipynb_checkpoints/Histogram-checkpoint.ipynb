{
 "cells": [
  {
   "cell_type": "code",
   "execution_count": null,
   "id": "e1807859",
   "metadata": {},
   "outputs": [],
   "source": [
    "Sex <- rep( c( \"Female\", \"Male\" ), each=500 )"
   ]
  },
  {
   "cell_type": "code",
   "execution_count": null,
   "id": "ca57859e",
   "metadata": {},
   "outputs": [],
   "source": [
    "height <- c( rnorm( 500, 65 ), rnorm( 500, 69 ) )"
   ]
  },
  {
   "cell_type": "code",
   "execution_count": null,
   "id": "7fd7e2b0",
   "metadata": {},
   "outputs": [],
   "source": [
    "frame <- data.frame( Sex, height )"
   ]
  },
  {
   "cell_type": "code",
   "execution_count": null,
   "id": "97d272db",
   "metadata": {},
   "outputs": [],
   "source": [
    "head( frame, n=3 )\n",
    "tail( frame, n=3 )"
   ]
  },
  {
   "cell_type": "code",
   "execution_count": null,
   "id": "b318d178",
   "metadata": {},
   "outputs": [],
   "source": [
    "library( ggplot2 )"
   ]
  },
  {
   "cell_type": "code",
   "execution_count": null,
   "id": "f7a1bfa6",
   "metadata": {},
   "outputs": [],
   "source": [
    "qplot( height, data=frame, geom=\"histogram\", \n",
    "       fill=Sex, bins=40,\n",
    "       ylab=\"Frequency\", xlab=\"Height in Inches\",\n",
    "       main=\"Average Adult Height (USA)\" )"
   ]
  },
  {
   "cell_type": "code",
   "execution_count": null,
   "id": "1d8bbc8d",
   "metadata": {},
   "outputs": [],
   "source": [
    "qplot( height, data=frame, geom=\"density\", \n",
    "       size=I(2), color=Sex, linetype=Sex,\n",
    "       ylab=\"Density\", xlab=\"Height in Inches\",\n",
    "       main=\"Average Adult Height (USA)\" )"
   ]
  }
 ],
 "metadata": {
  "jupytext": {
   "cell_metadata_filter": "-all",
   "main_language": "R",
   "notebook_metadata_filter": "-all"
  }
 },
 "nbformat": 4,
 "nbformat_minor": 5
}
