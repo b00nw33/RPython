{
 "cells": [
  {
   "cell_type": "code",
   "execution_count": null,
   "id": "2ba8e1d7",
   "metadata": {},
   "outputs": [],
   "source": [
    "sum <- 1 + 4 * 3"
   ]
  },
  {
   "cell_type": "code",
   "execution_count": null,
   "id": "2a37c702",
   "metadata": {},
   "outputs": [],
   "source": [
    "print( paste( \"Default Order:\", sum ) )"
   ]
  },
  {
   "cell_type": "code",
   "execution_count": null,
   "id": "7457bfde",
   "metadata": {},
   "outputs": [],
   "source": [
    "sum <- ( 1 + 4 ) * 3"
   ]
  },
  {
   "cell_type": "code",
   "execution_count": null,
   "id": "9d237952",
   "metadata": {},
   "outputs": [],
   "source": [
    "print( paste( \"Forced Order:\", sum ) )"
   ]
  },
  {
   "cell_type": "code",
   "execution_count": null,
   "id": "67e7b30e",
   "metadata": {},
   "outputs": [],
   "source": [
    "sum <- 7 - 4 + 2"
   ]
  },
  {
   "cell_type": "code",
   "execution_count": null,
   "id": "fd1e6f14",
   "metadata": {},
   "outputs": [],
   "source": [
    "print( paste( \"Default Direction:\", sum ) )"
   ]
  },
  {
   "cell_type": "code",
   "execution_count": null,
   "id": "ae707981",
   "metadata": {},
   "outputs": [],
   "source": [
    "sum <- 7 - ( 4 + 2 )\n",
    "print( paste( \"Forced Direction:\", sum ) )"
   ]
  }
 ],
 "metadata": {
  "jupytext": {
   "cell_metadata_filter": "-all",
   "main_language": "R",
   "notebook_metadata_filter": "-all"
  }
 },
 "nbformat": 4,
 "nbformat_minor": 5
}
