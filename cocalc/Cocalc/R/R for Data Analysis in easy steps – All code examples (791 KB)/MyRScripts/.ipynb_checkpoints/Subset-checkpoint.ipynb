{
 "cells": [
  {
   "cell_type": "code",
   "execution_count": null,
   "id": "e8514500",
   "metadata": {},
   "outputs": [],
   "source": [
    "ny <- c( 3.8, 5.5, 9.9, 15.7, 21.5, 26.3 )\n",
    "la <- c( 19.5, 19.4, 19.7, 20.8, 21.3, 22.7 )\n",
    "fw <- c( 13.7, 15.4, 20.0, 24.6, 28.5, 32.7 )"
   ]
  },
  {
   "cell_type": "code",
   "execution_count": null,
   "id": "462d25de",
   "metadata": {},
   "outputs": [],
   "source": [
    "table <- cbind( ny, la, fw )\n",
    "rownames( table ) <- month.name[ 1:6 ]\n",
    "colnames( table ) <- c( \"New York\", \"Los Angeles\", \"Fort Worth\" )"
   ]
  },
  {
   "cell_type": "code",
   "execution_count": null,
   "id": "456cb1bd",
   "metadata": {},
   "outputs": [],
   "source": [
    "cat( \"\\nMatrix...\\n\")\n",
    "print( table )"
   ]
  },
  {
   "cell_type": "code",
   "execution_count": null,
   "id": "6f9cd82f",
   "metadata": {},
   "outputs": [],
   "source": [
    "table.q1 <- table[ 1:3, c( 1, 3 ) ]"
   ]
  },
  {
   "cell_type": "code",
   "execution_count": null,
   "id": "cb896119",
   "metadata": {},
   "outputs": [],
   "source": [
    "cat( \"\\nSubset...\\n\" )\n",
    "print( table.q1 )"
   ]
  }
 ],
 "metadata": {
  "jupytext": {
   "cell_metadata_filter": "-all",
   "main_language": "R",
   "notebook_metadata_filter": "-all"
  }
 },
 "nbformat": 4,
 "nbformat_minor": 5
}
