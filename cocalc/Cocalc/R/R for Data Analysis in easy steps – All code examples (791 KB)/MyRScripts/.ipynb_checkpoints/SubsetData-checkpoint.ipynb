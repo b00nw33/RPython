{
 "cells": [
  {
   "cell_type": "code",
   "execution_count": null,
   "id": "1acadc61",
   "metadata": {},
   "outputs": [],
   "source": [
    "frame <- read.csv( \"DataSet-Browsers.csv\" )"
   ]
  },
  {
   "cell_type": "code",
   "execution_count": null,
   "id": "2295ec92",
   "metadata": {},
   "outputs": [],
   "source": [
    "edge <- frame[ c( 33, 24, 5, 12 ),  ]\n",
    "print( edge )"
   ]
  },
  {
   "cell_type": "code",
   "execution_count": null,
   "id": "1606e4a1",
   "metadata": {},
   "outputs": [],
   "source": [
    "edge.row <- edge[ 1 , ]"
   ]
  },
  {
   "cell_type": "code",
   "execution_count": null,
   "id": "ebff468c",
   "metadata": {},
   "outputs": [],
   "source": [
    "cat( \"\\nRow...\\n\")\n",
    "print( edge.row )"
   ]
  },
  {
   "cell_type": "code",
   "execution_count": null,
   "id": "424c9cfd",
   "metadata": {},
   "outputs": [],
   "source": [
    "cat( \"Data Frame?:\", is.data.frame( edge.row ) )"
   ]
  },
  {
   "cell_type": "code",
   "execution_count": null,
   "id": "cb9d7694",
   "metadata": {},
   "outputs": [],
   "source": [
    "edge.col <- edge[ , 2 ]\n",
    "cat( \"\\n\\nColumn...\\n\" )\n",
    "print( edge.col )"
   ]
  },
  {
   "cell_type": "code",
   "execution_count": null,
   "id": "04fe02ba",
   "metadata": {},
   "outputs": [],
   "source": [
    "cat( \"Data Frame?:\", is.data.frame( edge.col ) )\n",
    "cat( \"\\tVector?:\", is.vector( edge.col ) )"
   ]
  },
  {
   "cell_type": "code",
   "execution_count": null,
   "id": "904fa422",
   "metadata": {},
   "outputs": [],
   "source": [
    "edge.col <- edge[ , 2, drop=FALSE ]\n",
    "cat( \"\\n\\nColumn...\\n\" )\n",
    "print( edge.col )"
   ]
  },
  {
   "cell_type": "code",
   "execution_count": null,
   "id": "bdaa4555",
   "metadata": {},
   "outputs": [],
   "source": [
    "cat( \"Data Frame?:\", is.data.frame( edge.col ) )\n",
    "cat( \"\\tVector?:\", is.vector( edge.col ) )"
   ]
  }
 ],
 "metadata": {
  "jupytext": {
   "cell_metadata_filter": "-all",
   "main_language": "R",
   "notebook_metadata_filter": "-all"
  }
 },
 "nbformat": 4,
 "nbformat_minor": 5
}
