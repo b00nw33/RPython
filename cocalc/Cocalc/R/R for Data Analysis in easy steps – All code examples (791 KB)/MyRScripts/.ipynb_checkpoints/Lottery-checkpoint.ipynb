{
 "cells": [
  {
   "cell_type": "code",
   "execution_count": null,
   "id": "e9ba84ef",
   "metadata": {},
   "outputs": [],
   "source": [
    "nums <- c( 1:59 )"
   ]
  },
  {
   "cell_type": "code",
   "execution_count": null,
   "id": "0c626010",
   "metadata": {},
   "outputs": [],
   "source": [
    "cat( \"My Lucky Numbers:\", sample( nums, 6 ), \"\\n\\n\" )"
   ]
  }
 ],
 "metadata": {
  "jupytext": {
   "cell_metadata_filter": "-all",
   "main_language": "R",
   "notebook_metadata_filter": "-all"
  }
 },
 "nbformat": 4,
 "nbformat_minor": 5
}
