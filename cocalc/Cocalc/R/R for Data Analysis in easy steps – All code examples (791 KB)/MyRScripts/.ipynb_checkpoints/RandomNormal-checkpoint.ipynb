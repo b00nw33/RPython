{
 "cells": [
  {
   "cell_type": "code",
   "execution_count": null,
   "id": "01e04b0b",
   "metadata": {},
   "outputs": [],
   "source": [
    "nums <- rnorm( 3 )"
   ]
  },
  {
   "cell_type": "code",
   "execution_count": null,
   "id": "b72f9d8e",
   "metadata": {},
   "outputs": [],
   "source": [
    "cat( \"Random Normal Distribution:\", nums, \"\\n\\n\" )"
   ]
  }
 ],
 "metadata": {
  "jupytext": {
   "cell_metadata_filter": "-all",
   "main_language": "R",
   "notebook_metadata_filter": "-all"
  }
 },
 "nbformat": 4,
 "nbformat_minor": 5
}
