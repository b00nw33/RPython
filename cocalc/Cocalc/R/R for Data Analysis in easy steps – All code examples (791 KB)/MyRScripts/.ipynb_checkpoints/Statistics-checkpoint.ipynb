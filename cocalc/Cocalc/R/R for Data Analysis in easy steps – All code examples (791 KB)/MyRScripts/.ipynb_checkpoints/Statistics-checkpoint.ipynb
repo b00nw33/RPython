{
 "cells": [
  {
   "cell_type": "code",
   "execution_count": null,
   "id": "6dc3d797",
   "metadata": {},
   "outputs": [],
   "source": [
    "frame <- read.csv( \"DataSet-ProfSalaries.csv\" )\n",
    "library( ggplot2 )"
   ]
  },
  {
   "cell_type": "code",
   "execution_count": null,
   "id": "ace28d92",
   "metadata": {},
   "outputs": [],
   "source": [
    "ggplot( data=frame, aes( x=salary ) ) +\n",
    "  geom_density( aes( fill=rank ) )"
   ]
  },
  {
   "cell_type": "code",
   "execution_count": null,
   "id": "f0b9f08d",
   "metadata": {},
   "outputs": [],
   "source": [
    "ggplot( data=frame, aes( x=yrs.since.phd, y=salary ) ) +\n",
    "  geom_point( aes( color=rank ) ) +\n",
    "  geom_smooth( aes( color=rank ), fill=NA )"
   ]
  },
  {
   "cell_type": "code",
   "execution_count": null,
   "id": "198ec6af",
   "metadata": {},
   "outputs": [],
   "source": [
    "ggplot( data=frame, aes( x=rank, y=salary ) ) +\n",
    "  geom_jitter( aes( color=rank) ) +\n",
    "  geom_boxplot(  aes( fill=rank ), alpha=0.5 ) "
   ]
  }
 ],
 "metadata": {
  "jupytext": {
   "cell_metadata_filter": "-all",
   "main_language": "R",
   "notebook_metadata_filter": "-all"
  }
 },
 "nbformat": 4,
 "nbformat_minor": 5
}
