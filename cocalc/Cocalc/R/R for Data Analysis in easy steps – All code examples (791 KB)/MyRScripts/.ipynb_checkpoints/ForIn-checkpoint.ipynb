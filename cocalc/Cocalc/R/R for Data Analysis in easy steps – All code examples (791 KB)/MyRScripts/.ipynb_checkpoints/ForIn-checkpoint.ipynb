{
 "cells": [
  {
   "cell_type": "code",
   "execution_count": null,
   "id": "0265682d",
   "metadata": {},
   "outputs": [],
   "source": [
    "seq <- list( A=\"Alpha\", B=\"Bravo\", C=\"Charlie\" )"
   ]
  },
  {
   "cell_type": "code",
   "execution_count": null,
   "id": "31411892",
   "metadata": {},
   "outputs": [],
   "source": [
    "for( var in seq )\n",
    "{\n",
    "  print( var )\n",
    "}"
   ]
  },
  {
   "cell_type": "code",
   "execution_count": null,
   "id": "8ab7c0a8",
   "metadata": {},
   "outputs": [],
   "source": [
    "seq <- c( 2, 7, 6, 8, 3, 5, 4 )"
   ]
  },
  {
   "cell_type": "code",
   "execution_count": null,
   "id": "4b28bbf8",
   "metadata": {},
   "outputs": [],
   "source": [
    "for( var in seq )\n",
    "{\n",
    "  if( var %% 2 == 1 )\n",
    "  {\n",
    "    cat( var, \"Is Odd\\n\")\n",
    "  } else\n",
    "  {\n",
    "    cat( var, \"Is Even\\n\")\n",
    "  }\n",
    "}"
   ]
  }
 ],
 "metadata": {
  "jupytext": {
   "cell_metadata_filter": "-all",
   "main_language": "R",
   "notebook_metadata_filter": "-all"
  }
 },
 "nbformat": 4,
 "nbformat_minor": 5
}
