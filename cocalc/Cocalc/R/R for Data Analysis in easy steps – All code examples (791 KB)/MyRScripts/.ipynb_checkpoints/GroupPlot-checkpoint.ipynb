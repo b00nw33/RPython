{
 "cells": [
  {
   "cell_type": "code",
   "execution_count": null,
   "id": "8f0ed43c",
   "metadata": {},
   "outputs": [],
   "source": [
    "frame <- read.csv( \"DataSet-Autos.csv\" )"
   ]
  },
  {
   "cell_type": "code",
   "execution_count": null,
   "id": "fd59c31e",
   "metadata": {},
   "outputs": [],
   "source": [
    "library( ggplot2 )"
   ]
  },
  {
   "cell_type": "code",
   "execution_count": null,
   "id": "f72f287e",
   "metadata": {},
   "outputs": [],
   "source": [
    "Cylinders <- factor( frame$cyl )"
   ]
  },
  {
   "cell_type": "code",
   "execution_count": null,
   "id": "b452d094",
   "metadata": {},
   "outputs": [],
   "source": [
    "qplot( mpg, wt, data=frame, size=I( 5 ), shape=Cylinders, color=Cylinders )"
   ]
  }
 ],
 "metadata": {
  "jupytext": {
   "cell_metadata_filter": "-all",
   "main_language": "R",
   "notebook_metadata_filter": "-all"
  }
 },
 "nbformat": 4,
 "nbformat_minor": 5
}
