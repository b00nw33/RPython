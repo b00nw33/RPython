{
 "cells": [
  {
   "cell_type": "code",
   "execution_count": null,
   "id": "f481843c",
   "metadata": {},
   "outputs": [],
   "source": [
    "data <- seq( 1:32 )"
   ]
  },
  {
   "cell_type": "code",
   "execution_count": null,
   "id": "ff7d3371",
   "metadata": {},
   "outputs": [],
   "source": [
    "table <- matrix( data, nrow=4, ncol=8 )"
   ]
  },
  {
   "cell_type": "code",
   "execution_count": null,
   "id": "9dea607f",
   "metadata": {},
   "outputs": [],
   "source": [
    "print( table )"
   ]
  },
  {
   "cell_type": "code",
   "execution_count": null,
   "id": "8359e388",
   "metadata": {},
   "outputs": [],
   "source": [
    "cat( \"\\nVector?:\", is.vector( table ), \n",
    "     \"\\tMatrix?:\", is.matrix( table ) )"
   ]
  },
  {
   "cell_type": "code",
   "execution_count": null,
   "id": "d6be5635",
   "metadata": {},
   "outputs": [],
   "source": [
    "cat( \"\\n\\nCell 4,5 Contains:\", table[ 4, 5 ] )\n",
    "table[ 4, 5 ] <- 10"
   ]
  },
  {
   "cell_type": "code",
   "execution_count": null,
   "id": "253c6195",
   "metadata": {},
   "outputs": [],
   "source": [
    "cell <- which( table==10, arr.ind=TRUE )\n",
    "cat( \"\\n\\nValue 10 Search:\\n\" )\n",
    "print( cell )"
   ]
  }
 ],
 "metadata": {
  "jupytext": {
   "cell_metadata_filter": "-all",
   "main_language": "R",
   "notebook_metadata_filter": "-all"
  }
 },
 "nbformat": 4,
 "nbformat_minor": 5
}
