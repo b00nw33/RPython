{
 "cells": [
  {
   "cell_type": "code",
   "execution_count": null,
   "id": "18316a45",
   "metadata": {},
   "outputs": [],
   "source": [
    "frame <- read.csv( \"DataSet-Browsers.csv\" )"
   ]
  },
  {
   "cell_type": "code",
   "execution_count": null,
   "id": "e6f90ef5",
   "metadata": {},
   "outputs": [],
   "source": [
    "cat( \"Rows:\", nrow( frame ), \"\\tColumns:\", ncol( frame ) )"
   ]
  },
  {
   "cell_type": "code",
   "execution_count": null,
   "id": "96c610ec",
   "metadata": {},
   "outputs": [],
   "source": [
    "cat( \"\\nHead...\\n\" )\n",
    "print( head( frame, n=3 ) )\n",
    "cat( \"\\nTail...\\n\" )       \n",
    "print( tail( frame, n=3 ) )"
   ]
  },
  {
   "cell_type": "code",
   "execution_count": null,
   "id": "af979c99",
   "metadata": {},
   "outputs": [],
   "source": [
    "cat( \"\\nStructure...\\n\" )\n",
    "print( str( frame ) )\n",
    "cat( \"\\nSummary...\\n\" )\n",
    "print( summary( frame ) )"
   ]
  }
 ],
 "metadata": {
  "jupytext": {
   "cell_metadata_filter": "-all",
   "main_language": "R",
   "notebook_metadata_filter": "-all"
  }
 },
 "nbformat": 4,
 "nbformat_minor": 5
}
