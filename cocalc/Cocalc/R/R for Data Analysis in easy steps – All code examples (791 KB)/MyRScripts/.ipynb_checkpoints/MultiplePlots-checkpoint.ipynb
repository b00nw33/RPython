{
 "cells": [
  {
   "cell_type": "code",
   "execution_count": null,
   "id": "2aaf4ec6",
   "metadata": {},
   "outputs": [],
   "source": [
    "# P.166 - Loading the data\n",
    "frame <- read.csv( \"DataSet-Hurricanes.csv\" )"
   ]
  },
  {
   "cell_type": "code",
   "execution_count": null,
   "id": "a075c755",
   "metadata": {},
   "outputs": [],
   "source": [
    "head( frame, n=8 )"
   ]
  },
  {
   "cell_type": "code",
   "execution_count": null,
   "id": "9ae64543",
   "metadata": {},
   "outputs": [],
   "source": [
    "library( ggplot2 )"
   ]
  },
  {
   "cell_type": "code",
   "execution_count": null,
   "id": "aa97b96d",
   "metadata": {},
   "outputs": [],
   "source": [
    "ggplot( data=frame, aes( x=Year, y=DamageMillions, \n",
    "                         size=DamageMillions,\n",
    "                         color=WindMPH ) ) + geom_point( )\n",
    "#-----------------------------------------------------------\n",
    "# P.168 - Retaining objects\n",
    "damage_plot <- ggplot( data=frame,\n",
    "                  aes( x=Year, y=DamageMillions,\n",
    "                  size=DamageMillions,\n",
    "                  color=WindMPH ) )"
   ]
  },
  {
   "cell_type": "code",
   "execution_count": null,
   "id": "83882e88",
   "metadata": {},
   "outputs": [],
   "source": [
    "damage_plot + geom_point( )"
   ]
  },
  {
   "cell_type": "code",
   "execution_count": null,
   "id": "7721afc5",
   "metadata": {},
   "outputs": [],
   "source": [
    "damage_plot + geom_point( ) + geom_line( size=0.5 )\n",
    "#-----------------------------------------------------------\n",
    "# P.170 - Overriding labels\n",
    "damage_plot + ggtitle( \"US Atlantic Hurricanes\" ) +\n",
    "xlab( \"Event Year\" ) + ylab( \"Damage $ Millions\" ) +\n",
    "geom_point( ) +\n",
    "geom_line( size=0.5 )"
   ]
  },
  {
   "cell_type": "code",
   "execution_count": null,
   "id": "fbe7e292",
   "metadata": {},
   "outputs": [],
   "source": [
    "label_object <- labs( title=\"US Atlantic Hurricanes\", \n",
    "                      subtitle=\"1950-2012\",\n",
    "                      x=\"Event Year\",\n",
    "                      y=\"Damage $ Millions\",\n",
    "                      caption=\"Source: Wikipedia\" )\n",
    "damage_plot + \n",
    "label_object +\n",
    "geom_point( ) +\n",
    "geom_line( size=0.5 ) \n",
    "#----------------------------------------------------------\n",
    "# P.172 - Adding a theme\n",
    "windowsFonts()"
   ]
  },
  {
   "cell_type": "code",
   "execution_count": null,
   "id": "a4b3bdb3",
   "metadata": {},
   "outputs": [],
   "source": [
    "install.packages( \"extrafont\", dependencies=TRUE )"
   ]
  },
  {
   "cell_type": "code",
   "execution_count": null,
   "id": "f21505da",
   "metadata": {},
   "outputs": [],
   "source": [
    "library( extrafont )"
   ]
  },
  {
   "cell_type": "code",
   "execution_count": null,
   "id": "d5de5c8d",
   "metadata": {},
   "outputs": [],
   "source": [
    "font_import( prompt=FALSE )"
   ]
  },
  {
   "cell_type": "code",
   "execution_count": null,
   "id": "1e578884",
   "metadata": {},
   "outputs": [],
   "source": [
    "loadfonts( device = \"win\" )"
   ]
  },
  {
   "cell_type": "code",
   "execution_count": null,
   "id": "a08a54c9",
   "metadata": {},
   "outputs": [],
   "source": [
    "length( windowsFonts( ) )"
   ]
  },
  {
   "cell_type": "code",
   "execution_count": null,
   "id": "5d069685",
   "metadata": {},
   "outputs": [],
   "source": [
    "theme_object <- theme(\n",
    "  plot.title=element_text( color=\"Red\", family=\"Wide Latin\" ),\n",
    "  plot.subtitle=element_text( color=\"Red\" ),\n",
    "  axis.title.x=element_text( color=\"Red\", face=\"bold\" ),\n",
    "  axis.title.y=element_text( color=\"Red\", face=\"bold\" ),\n",
    "  plot.caption=element_text( color=\"Black\", face=\"italic\" ),\n",
    "  legend.background = element_rect( color=\"Gray\" ) )"
   ]
  },
  {
   "cell_type": "code",
   "execution_count": null,
   "id": "9c68324c",
   "metadata": {},
   "outputs": [],
   "source": [
    "damage_plot +\n",
    "label_object +\n",
    "geom_point( ) +\n",
    "geom_line( size=0.5 ) +\n",
    "theme_object\n",
    "#----------------------------------------------------------\n",
    "#P.175 - Comparing boxes (Boxplot)\n",
    "head( frame, n=8 )"
   ]
  },
  {
   "cell_type": "code",
   "execution_count": null,
   "id": "f9570e0a",
   "metadata": {},
   "outputs": [],
   "source": [
    "gender_plot <- ggplot( data=frame,\n",
    "                       aes( x=Sex, y=Deaths, color=Sex ), \n",
    "                       size=3 )\n",
    "gender_plot + \n",
    "label_object + \n",
    "  xlab( \"Gender\" ) + \n",
    "  ylab( \"Number of Fatalities\" ) +\n",
    "geom_jitter( ) +\n",
    "geom_boxplot( alpha=0.5 ) + ylim( 10, 200 ) +\n",
    "theme_object\n",
    "#----------------------------------------------------------\n",
    "# P.176 - Identifying extremes\n",
    "fatal_plot <- ggplot( data=frame, \n",
    "                      aes( x=Year, y=Deaths ) )\n",
    "fatal_plot +\n",
    "label_object +\n",
    "ylab( \"Number of Fatalities\" ) +\n",
    "geom_point( aes( color=WindMPH )) + \n",
    "geom_text( aes( label=ifelse( Deaths > 180,\n",
    "                as.character( Name ), \"\" ),\n",
    "                hjust=1.1 ) \n",
    "            ) +\n",
    "geom_smooth() +\n",
    "theme_object\n",
    "#-----------------------------------------------------------\n",
    "# P.178 - Limiting focus\n",
    "windspeed_plot <- ggplot( data=frame, \n",
    "                      aes( x=Year, y=Deaths ) )\n",
    "windspeed_plot +\n",
    "geom_point( aes( color=WindMPH ), size=10, shape=17 ) + \n",
    "label_object +\n",
    "ylab( \"Number of Fatalities\" ) +\n",
    "xlim( 1980, 2000 ) +\n",
    "ylim( 0, 65 ) +\n",
    "theme_object\n",
    "#-----------------------------------------------------------\n",
    "# P.179 - Zooming focus\n",
    "strike_plot <- ggplot( data=frame, aes( x=Year, fill=Sex ) )"
   ]
  },
  {
   "cell_type": "code",
   "execution_count": null,
   "id": "bc26bdbe",
   "metadata": {},
   "outputs": [],
   "source": [
    "strike_plot +\n",
    "label_object +\n",
    "ylab( \"Number of Strikes\" ) +\n",
    "geom_bar( ) +\n",
    "coord_cartesian( xlim=c( 1980, 2000 ) ) +\n",
    "theme_object\n",
    "#----------------------------------------------------------- \n",
    "# P.180 - Displaying facets\n",
    "frame.tx <- frame[ grep( \"TX\", frame$AffectedStates ) , ]"
   ]
  },
  {
   "cell_type": "code",
   "execution_count": null,
   "id": "bfa15ab1",
   "metadata": {},
   "outputs": [],
   "source": [
    "texas_plot <- ggplot( data=frame.tx, \n",
    "                      aes( x=Year,y=DamageMillions,\n",
    "                          size=Deaths, color=AffectedStates))\n",
    "texas_plot + \n",
    "label_object + \n",
    "geom_point( aes( size=Deaths ) ) + \n",
    "facet_grid( AffectedStates~.  ) + \n",
    "theme_object\n",
    "#-----------------------------------------------------------\n",
    "# P.181 - cont'd\n",
    "frame.fl <- frame[ grep( \"FL\", frame$AffectedStates ) , ]"
   ]
  },
  {
   "cell_type": "code",
   "execution_count": null,
   "id": "e12975f9",
   "metadata": {},
   "outputs": [],
   "source": [
    "florida_plot <- ggplot( data=frame.fl, aes(x=Year ) )"
   ]
  },
  {
   "cell_type": "code",
   "execution_count": null,
   "id": "813355e8",
   "metadata": {},
   "outputs": [],
   "source": [
    "florida_plot +\n",
    "label_object +\n",
    "ylab( \"Number of Strikes in Florida\" ) +\n",
    "geom_histogram( bins=20, aes(fill=AffectedStates),\n",
    "                  color=\"Black\" ) +\n",
    "theme_object\n",
    "#--End------------------------------------------------------"
   ]
  }
 ],
 "metadata": {
  "jupytext": {
   "cell_metadata_filter": "-all",
   "main_language": "R",
   "notebook_metadata_filter": "-all"
  }
 },
 "nbformat": 4,
 "nbformat_minor": 5
}
