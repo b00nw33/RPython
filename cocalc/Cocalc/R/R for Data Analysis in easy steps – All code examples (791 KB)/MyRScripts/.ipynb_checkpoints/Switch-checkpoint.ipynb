{
 "cells": [
  {
   "cell_type": "code",
   "execution_count": null,
   "id": "cc70d76d",
   "metadata": {},
   "outputs": [],
   "source": [
    "month <- \"Feb\"\n",
    "year <- 2020\n",
    "num <- 0"
   ]
  },
  {
   "cell_type": "code",
   "execution_count": null,
   "id": "b0ac73b1",
   "metadata": {},
   "outputs": [],
   "source": [
    "switch( month,\n",
    "        \"Jan\" = { num <- 31 } ,\n",
    "        \"Feb\" = { if ( year %% 4 == 0 ) \n",
    "                        num <- 29 else num <-  28 },\n",
    "        \"Mar\" = { num <- 31 } ,\n",
    "        \"Apr\" = { num <- 30 },\n",
    "        \"May\" = { num <- 31 },\n",
    "        \"Jun\" = { num <- 30 },\n",
    "        \"Jul\" = { num <- 31 },\n",
    "        \"Aug\" = { num <- 31 },\n",
    "        \"Sep\" = { num <- 30 },\n",
    "        \"Oct\" = { num <- 31 },\n",
    "        \"Nov\" = { num <- 30 },\n",
    "        \"Dec\" = { num <- 31 }\n",
    "        )"
   ]
  },
  {
   "cell_type": "code",
   "execution_count": null,
   "id": "9bd160b6",
   "metadata": {},
   "outputs": [],
   "source": [
    "print( paste( month, year,\"has\", num, \"days\" ) )"
   ]
  }
 ],
 "metadata": {
  "jupytext": {
   "cell_metadata_filter": "-all",
   "main_language": "R",
   "notebook_metadata_filter": "-all"
  }
 },
 "nbformat": 4,
 "nbformat_minor": 5
}
