{
 "cells": [
  {
   "cell_type": "code",
   "execution_count": null,
   "id": "ecbe2968",
   "metadata": {},
   "outputs": [],
   "source": [
    "data <- seq( 1:32 )"
   ]
  },
  {
   "cell_type": "code",
   "execution_count": null,
   "id": "d86c904b",
   "metadata": {},
   "outputs": [],
   "source": [
    "table <- matrix( data, nrow=4, ncol=8 )\n",
    "cat( \"\\nBy Column (Default):\\n\\n\" )\n",
    "print( table )"
   ]
  },
  {
   "cell_type": "code",
   "execution_count": null,
   "id": "2db5aefc",
   "metadata": {},
   "outputs": [],
   "source": [
    "table <- matrix( data, nrow=4, ncol=8, byrow=TRUE )\n",
    "cat( \"\\nBy Row:\\n\\n\" )\n",
    "print( table )"
   ]
  },
  {
   "cell_type": "code",
   "execution_count": null,
   "id": "6bc97d1c",
   "metadata": {},
   "outputs": [],
   "source": [
    "table <- t( table )\n",
    "cat( \"\\nTransposed (Rows to Columns):\\n\\n\" )\n",
    "print( table )"
   ]
  }
 ],
 "metadata": {
  "jupytext": {
   "cell_metadata_filter": "-all",
   "main_language": "R",
   "notebook_metadata_filter": "-all"
  }
 },
 "nbformat": 4,
 "nbformat_minor": 5
}
