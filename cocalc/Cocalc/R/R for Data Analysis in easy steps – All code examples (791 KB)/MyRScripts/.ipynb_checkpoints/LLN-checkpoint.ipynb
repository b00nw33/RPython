{
 "cells": [
  {
   "cell_type": "code",
   "execution_count": null,
   "id": "2d06290c",
   "metadata": {},
   "outputs": [],
   "source": [
    "qty <- 10"
   ]
  },
  {
   "cell_type": "code",
   "execution_count": null,
   "id": "1891b47b",
   "metadata": {},
   "outputs": [],
   "source": [
    "while( qty <= 1000000 )\n",
    "{\n",
    "  num <- 0\n",
    "  for( i in rnorm( qty, mean=0, sd=1 ) )\n",
    "  {\n",
    "    if( ( i >= -1 ) && ( i <= 1 ) ) num <- ( num + 1 )\n",
    "  }\n",
    "  \n",
    "  num <-  ( num / ( qty / 100 ) )\n",
    "  cat( \"For\", qty, \"Generated Random Numbers:\", num,\"%\\n\" )\n",
    "  \n",
    "  qty = ( qty * 10 )\n",
    "}"
   ]
  }
 ],
 "metadata": {
  "jupytext": {
   "cell_metadata_filter": "-all",
   "main_language": "R",
   "notebook_metadata_filter": "-all"
  }
 },
 "nbformat": 4,
 "nbformat_minor": 5
}
