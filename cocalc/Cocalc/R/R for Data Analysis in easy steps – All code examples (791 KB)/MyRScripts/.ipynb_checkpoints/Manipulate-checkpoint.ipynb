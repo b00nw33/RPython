{
 "cells": [
  {
   "cell_type": "code",
   "execution_count": null,
   "id": "c1e619d8",
   "metadata": {},
   "outputs": [],
   "source": [
    "fruit <- c( \"Banana\", \"Apple\", \"Cherry\" )"
   ]
  },
  {
   "cell_type": "code",
   "execution_count": null,
   "id": "797e5fb7",
   "metadata": {},
   "outputs": [],
   "source": [
    "cat( \"Fruit:\", fruit , \"\\n\" )"
   ]
  },
  {
   "cell_type": "code",
   "execution_count": null,
   "id": "26cd3a53",
   "metadata": {},
   "outputs": [],
   "source": [
    "fruit <- sort( fruit )"
   ]
  },
  {
   "cell_type": "code",
   "execution_count": null,
   "id": "0385140d",
   "metadata": {},
   "outputs": [],
   "source": [
    "cat( \"Sorted:\", fruit , \"\\n\\n\" )"
   ]
  },
  {
   "cell_type": "code",
   "execution_count": null,
   "id": "fad0c946",
   "metadata": {},
   "outputs": [],
   "source": [
    "nums <-  c( NA, 8:2, NA, 1:7, NA  )"
   ]
  },
  {
   "cell_type": "code",
   "execution_count": null,
   "id": "e7449134",
   "metadata": {},
   "outputs": [],
   "source": [
    "cat( \"Numbers:\", nums , \"\\n\" )"
   ]
  },
  {
   "cell_type": "code",
   "execution_count": null,
   "id": "82e197e3",
   "metadata": {},
   "outputs": [],
   "source": [
    "nums <- sort( nums, na.last=TRUE )"
   ]
  },
  {
   "cell_type": "code",
   "execution_count": null,
   "id": "4cbbf132",
   "metadata": {},
   "outputs": [],
   "source": [
    "cat( \"Increasing:\", nums , \"\\n\" )"
   ]
  },
  {
   "cell_type": "code",
   "execution_count": null,
   "id": "576a2cd1",
   "metadata": {},
   "outputs": [],
   "source": [
    "nums <- sort( nums , decreasing=TRUE )\n",
    "cat( \"Decreasing:\", nums , \"\\n\" )"
   ]
  },
  {
   "cell_type": "code",
   "execution_count": null,
   "id": "b7a31ab9",
   "metadata": {},
   "outputs": [],
   "source": [
    "nums <- rev( nums )\n",
    "cat( \"Reversed:\", nums , \"\\n\" )"
   ]
  },
  {
   "cell_type": "code",
   "execution_count": null,
   "id": "6577aa59",
   "metadata": {},
   "outputs": [],
   "source": [
    "nums <- unique( nums )\n",
    "cat( \"Unique:\", nums , \"\\n\" )"
   ]
  }
 ],
 "metadata": {
  "jupytext": {
   "cell_metadata_filter": "-all",
   "main_language": "R",
   "notebook_metadata_filter": "-all"
  }
 },
 "nbformat": 4,
 "nbformat_minor": 5
}
