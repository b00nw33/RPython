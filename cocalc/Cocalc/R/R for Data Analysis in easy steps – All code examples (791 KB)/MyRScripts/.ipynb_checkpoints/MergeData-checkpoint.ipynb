{
 "cells": [
  {
   "cell_type": "code",
   "execution_count": 1,
   "id": "8ea5441b-1f0c-4198-a8bb-a651277fa94e",
   "metadata": {},
   "outputs": [],
   "source": [
    "high.temp <- read.csv(\"DataSet-HighTemps.csv\")\n",
    "low.temp <- read.csv(\"DataSet-LowTemps.csv\")"
   ]
  },
  {
   "cell_type": "code",
   "execution_count": 2,
   "id": "5a8314fb-576c-41fa-add8-779fd4442a89",
   "metadata": {},
   "outputs": [],
   "source": [
    "display <- function(frame) {\n",
    "    cat(\"\\nAnnual Temperatures (oC)...\\n\")\n",
    "    print(frame)\n",
    "    }"
   ]
  },
  {
   "cell_type": "code",
   "execution_count": 3,
   "id": "06dca3ec-a79e-4a02-9b16-1636228ec8e0",
   "metadata": {},
   "outputs": [],
   "source": [
    "high.temp <- rbind(high.temp, list('Hougang', 'HG', 38.5))\n",
    "low.temp <- rbind(low.temp, list('CN', 'China', 2.3))"
   ]
  },
  {
   "cell_type": "code",
   "execution_count": 4,
   "id": "1eac6987-eea8-4596-9dc4-dbba59dfca81",
   "metadata": {},
   "outputs": [
    {
     "name": "stdout",
     "output_type": "stream",
     "text": [
      "\n",
      "Annual Temperatures (oC)...\n",
      "        City State High\n",
      "1     Albany    NY 14.3\n",
      "2 Sacramento    CA 23.1\n",
      "3     Austin    TX 26.5\n",
      "4    Hougang    HG 38.5\n",
      "\n",
      "Annual Temperatures (oC)...\n",
      "  State.Code    Capital  Low\n",
      "1         NY     Albany  3.7\n",
      "2         CA Sacramento  9.1\n",
      "3         TX     Austin 15.0\n",
      "4         CN      China  2.3\n"
     ]
    }
   ],
   "source": [
    "display(high.temp)\n",
    "display(low.temp)"
   ]
  },
  {
   "cell_type": "code",
   "execution_count": 5,
   "id": "a24abde9-2fa9-4903-b259-e492e718971f",
   "metadata": {},
   "outputs": [
    {
     "name": "stdout",
     "output_type": "stream",
     "text": [
      "\n",
      "Annual Temperatures (oC)...\n",
      "  State       City High    Capital  Low\n",
      "1    CA Sacramento 23.1 Sacramento  9.1\n",
      "2    CN       <NA>   NA      China  2.3\n",
      "3    NY     Albany 14.3     Albany  3.7\n",
      "4    TX     Austin 26.5     Austin 15.0\n"
     ]
    }
   ],
   "source": [
    "avg.temp <- merge(high.temp, low.temp, by.x = \"State\", by.y = \"State.Code\")\n",
    "\n",
    "display(avg.temp)\n",
    "\n",
    "# Noticed that cases unique to either dataframes were dropped during merge. Can be tweaked within merge."
   ]
  },
  {
   "cell_type": "code",
   "execution_count": 6,
   "id": "d9bbd5d9-0c21-435e-82f3-00af175bd2cb",
   "metadata": {},
   "outputs": [],
   "source": [
    "avg.temp$Capital <- NULL"
   ]
  },
  {
   "cell_type": "code",
   "execution_count": 7,
   "id": "21cd166b-eb2e-4443-ba0d-5454ae8ce9c1",
   "metadata": {},
   "outputs": [
    {
     "name": "stdout",
     "output_type": "stream",
     "text": [
      "\n",
      "Annual Temperatures (oC)...\n",
      "  State       City High  Low Average\n",
      "1    CA Sacramento 23.1  9.1   16.10\n",
      "2    CN       <NA>   NA  2.3      NA\n",
      "3    NY     Albany 14.3  3.7    9.00\n",
      "4    TX     Austin 26.5 15.0   20.75\n"
     ]
    }
   ],
   "source": [
    "avg.temp$Average <- (avg.temp$High + avg.temp$Low) / 2\n",
    "display(avg.temp)"
   ]
  },
  {
   "cell_type": "code",
   "execution_count": null,
   "id": "19508bd5-f886-4dd9-a10b-2c81485950c7",
   "metadata": {},
   "outputs": [],
   "source": []
  }
 ],
 "metadata": {
  "kernelspec": {
   "display_name": "R (system-wide)",
   "language": "r",
   "name": "ir"
  },
  "language_info": {
   "codemirror_mode": "r",
   "file_extension": ".r",
   "mimetype": "text/x-r-source",
   "name": "R",
   "pygments_lexer": "r",
   "version": "4.2.1"
  }
 },
 "nbformat": 4,
 "nbformat_minor": 5
}
