{
 "cells": [
  {
   "cell_type": "code",
   "execution_count": null,
   "id": "2e7fc65d",
   "metadata": {},
   "outputs": [],
   "source": [
    "large <- 5\n",
    "small <- 2"
   ]
  },
  {
   "cell_type": "code",
   "execution_count": null,
   "id": "1912580a",
   "metadata": {},
   "outputs": [],
   "source": [
    "print( paste( \"Addition:\", large + small ) )\n",
    "print( paste( \"Subtraction:\", large - small ) )\n",
    "print( paste( \"Multiplication:\", large * small ) )"
   ]
  },
  {
   "cell_type": "code",
   "execution_count": null,
   "id": "436ff8a9",
   "metadata": {},
   "outputs": [],
   "source": [
    "print( paste( \"Division:\", large / small ) )\n",
    "print( paste( \"Integer Division:\", large %/% small ) )"
   ]
  },
  {
   "cell_type": "code",
   "execution_count": null,
   "id": "c1ada721",
   "metadata": {},
   "outputs": [],
   "source": [
    "print( paste( \"Exponentiation:\", large ^ small ) )"
   ]
  },
  {
   "cell_type": "code",
   "execution_count": null,
   "id": "a12253f3",
   "metadata": {},
   "outputs": [],
   "source": [
    "print( paste( \"Remainder:\", large %% small ) )"
   ]
  }
 ],
 "metadata": {
  "jupytext": {
   "cell_metadata_filter": "-all",
   "main_language": "R",
   "notebook_metadata_filter": "-all"
  }
 },
 "nbformat": 4,
 "nbformat_minor": 5
}
