{
 "cells": [
  {
   "cell_type": "code",
   "execution_count": null,
   "id": "f1d44b8f",
   "metadata": {},
   "outputs": [],
   "source": [
    "if ( 5 > 1 )\n",
    "{\n",
    "  print( \"Five is greater than one.\" )\n",
    "}"
   ]
  },
  {
   "cell_type": "code",
   "execution_count": null,
   "id": "049cd92c",
   "metadata": {},
   "outputs": [],
   "source": [
    "if ( 2 < 4 )\n",
    "{\n",
    "  print( \"Two is less than four.\" )\n",
    "  print( \"Test succeeded.\" )\n",
    "}"
   ]
  },
  {
   "cell_type": "code",
   "execution_count": null,
   "id": "7aa5f482",
   "metadata": {},
   "outputs": [],
   "source": [
    "num <- 8"
   ]
  },
  {
   "cell_type": "code",
   "execution_count": null,
   "id": "07f5d7c4",
   "metadata": {},
   "outputs": [],
   "source": [
    "if( ( num > 5 ) && ( num < 10 ) || ( num == 12 ) )\n",
    "{\n",
    "  print( \"Number is 6-9 inclusive, or 12\" )\n",
    "}"
   ]
  }
 ],
 "metadata": {
  "jupytext": {
   "cell_metadata_filter": "-all",
   "main_language": "R",
   "notebook_metadata_filter": "-all"
  }
 },
 "nbformat": 4,
 "nbformat_minor": 5
}
