{
 "cells": [
  {
   "cell_type": "code",
   "execution_count": null,
   "id": "4031a22e",
   "metadata": {},
   "outputs": [],
   "source": [
    "frame <- read.csv( \"DataSet-ProfSalaries.csv\" )"
   ]
  },
  {
   "cell_type": "code",
   "execution_count": null,
   "id": "36846166",
   "metadata": {},
   "outputs": [],
   "source": [
    "head( frame, n=10 )"
   ]
  },
  {
   "cell_type": "code",
   "execution_count": null,
   "id": "040140ad",
   "metadata": {},
   "outputs": [],
   "source": [
    "library( ggplot2 )"
   ]
  },
  {
   "cell_type": "code",
   "execution_count": null,
   "id": "469f95a0",
   "metadata": {},
   "outputs": [],
   "source": [
    "ggplot( data=frame, aes( x=yrs.since.phd, y=salary ) ) +\n",
    "  geom_point( )"
   ]
  }
 ],
 "metadata": {
  "jupytext": {
   "cell_metadata_filter": "-all",
   "main_language": "R",
   "notebook_metadata_filter": "-all"
  }
 },
 "nbformat": 4,
 "nbformat_minor": 5
}
