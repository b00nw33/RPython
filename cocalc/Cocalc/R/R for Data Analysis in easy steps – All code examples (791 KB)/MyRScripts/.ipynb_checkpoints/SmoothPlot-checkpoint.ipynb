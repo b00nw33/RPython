{
 "cells": [
  {
   "cell_type": "code",
   "execution_count": null,
   "id": "1ac816ad",
   "metadata": {},
   "outputs": [],
   "source": [
    "frame <- read.csv( \"DataSet-Autos.csv\" )"
   ]
  },
  {
   "cell_type": "code",
   "execution_count": null,
   "id": "1665f959",
   "metadata": {},
   "outputs": [],
   "source": [
    "print( tail( frame ) )"
   ]
  },
  {
   "cell_type": "code",
   "execution_count": null,
   "id": "813732b3",
   "metadata": {},
   "outputs": [],
   "source": [
    "library( ggplot2 )"
   ]
  },
  {
   "cell_type": "code",
   "execution_count": null,
   "id": "f7febba3",
   "metadata": {},
   "outputs": [],
   "source": [
    "qplot( mpg, wt, data=frame, geom=c( \"point\", \"line\" ) )"
   ]
  },
  {
   "cell_type": "code",
   "execution_count": null,
   "id": "3924c9cf",
   "metadata": {},
   "outputs": [],
   "source": [
    "qplot( mpg, wt, data=frame, geom=c( \"point\", \"smooth\" ) )"
   ]
  }
 ],
 "metadata": {
  "jupytext": {
   "cell_metadata_filter": "-all",
   "main_language": "R",
   "notebook_metadata_filter": "-all"
  }
 },
 "nbformat": 4,
 "nbformat_minor": 5
}
