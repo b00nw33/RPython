{
 "cells": [
  {
   "cell_type": "code",
   "execution_count": null,
   "id": "2b263dc6",
   "metadata": {},
   "outputs": [],
   "source": [
    "hour <- 21"
   ]
  },
  {
   "cell_type": "code",
   "execution_count": null,
   "id": "34aab8cc",
   "metadata": {},
   "outputs": [],
   "source": [
    "if( hour < 13 )\n",
    "{\n",
    "  print( paste( \"Good Morning:\", hour ) )\n",
    "} else if( hour < 18 )\n",
    "  {\n",
    "    print( paste( \"Good Afternoon:\", hour ) )\n",
    "  } else\n",
    "    { \n",
    "      print( paste( \"Good Evening:\", hour ) )\n",
    "    }"
   ]
  }
 ],
 "metadata": {
  "jupytext": {
   "cell_metadata_filter": "-all",
   "main_language": "R",
   "notebook_metadata_filter": "-all"
  }
 },
 "nbformat": 4,
 "nbformat_minor": 5
}
