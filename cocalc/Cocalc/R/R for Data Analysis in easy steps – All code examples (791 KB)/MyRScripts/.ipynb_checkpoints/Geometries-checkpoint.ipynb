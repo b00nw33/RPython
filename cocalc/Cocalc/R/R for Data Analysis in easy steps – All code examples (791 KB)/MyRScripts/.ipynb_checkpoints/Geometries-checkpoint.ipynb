{
 "cells": [
  {
   "cell_type": "code",
   "execution_count": null,
   "id": "c0d6aa93",
   "metadata": {},
   "outputs": [],
   "source": [
    "frame <- read.csv( \"DataSet-ProfSalaries.csv\" )\n",
    "library( ggplot2 )"
   ]
  },
  {
   "cell_type": "code",
   "execution_count": null,
   "id": "6763ad25",
   "metadata": {},
   "outputs": [],
   "source": [
    "ggplot( data=frame, aes( x=rank ) ) +\n",
    "  geom_bar( fill=\"Yellow\", color=\"Red\" )"
   ]
  },
  {
   "cell_type": "code",
   "execution_count": null,
   "id": "f30ce4e5",
   "metadata": {},
   "outputs": [],
   "source": [
    "ggplot( data=frame, aes( x=salary ) ) + \n",
    "  geom_histogram( fill=\"Purple\", color=\"White\", bins=20 )"
   ]
  },
  {
   "cell_type": "code",
   "execution_count": null,
   "id": "69cd740b",
   "metadata": {},
   "outputs": [],
   "source": [
    "ggplot( data=frame, aes( x=salary ) ) +\n",
    "  geom_histogram(  aes( fill=rank), color=\"Black\", bins=20 )"
   ]
  }
 ],
 "metadata": {
  "jupytext": {
   "cell_metadata_filter": "-all",
   "main_language": "R",
   "notebook_metadata_filter": "-all"
  }
 },
 "nbformat": 4,
 "nbformat_minor": 5
}
