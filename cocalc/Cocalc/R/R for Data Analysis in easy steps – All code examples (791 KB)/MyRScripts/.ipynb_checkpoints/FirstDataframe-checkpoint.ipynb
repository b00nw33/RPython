{
 "cells": [
  {
   "cell_type": "code",
   "execution_count": null,
   "id": "6a117f94",
   "metadata": {},
   "outputs": [],
   "source": [
    "bools <- c( TRUE, FALSE, TRUE )\n",
    "chars <- LETTERS[ 1:3 ]\n",
    "nums <- 1:3"
   ]
  },
  {
   "cell_type": "code",
   "execution_count": null,
   "id": "59c4e9b6",
   "metadata": {},
   "outputs": [],
   "source": [
    "frame <- data.frame( bools, chars, nums )\n",
    "print( frame )\n",
    "cat( \"\\nData Frame?:\", is.data.frame( frame ), \"\\n\\n\" )"
   ]
  },
  {
   "cell_type": "code",
   "execution_count": null,
   "id": "ebee60c3",
   "metadata": {},
   "outputs": [],
   "source": [
    "rownames( frame ) <- c( \"Tier 1:\",\"Tier 2:\", \"Tier 3:\" )\n",
    "colnames( frame ) <- c( \"Logical\", \"Alphabetical\", \"Numerical\" )"
   ]
  },
  {
   "cell_type": "code",
   "execution_count": null,
   "id": "20d8d4d3",
   "metadata": {},
   "outputs": [],
   "source": [
    "frame[ 2, 2 ] <- \"A\"\n",
    "print( frame ) "
   ]
  },
  {
   "cell_type": "code",
   "execution_count": null,
   "id": "5132f981",
   "metadata": {},
   "outputs": [],
   "source": [
    "cat( \"\\nSearch for 'A'...\\n\" )\n",
    "print( which( frame==\"A\", arr.ind=TRUE ) )"
   ]
  }
 ],
 "metadata": {
  "jupytext": {
   "cell_metadata_filter": "-all",
   "main_language": "R",
   "notebook_metadata_filter": "-all"
  }
 },
 "nbformat": 4,
 "nbformat_minor": 5
}
