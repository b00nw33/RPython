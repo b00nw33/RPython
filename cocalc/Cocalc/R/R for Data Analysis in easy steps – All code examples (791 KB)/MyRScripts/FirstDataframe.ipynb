{
 "cells": [
  {
   "cell_type": "code",
   "execution_count": 1,
   "id": "6a117f94",
   "metadata": {},
   "outputs": [],
   "source": [
    "bools <- c( TRUE, FALSE, TRUE )\n",
    "chars <- LETTERS[ 1:3 ]\n",
    "nums <- 1:3"
   ]
  },
  {
   "cell_type": "code",
   "execution_count": 2,
   "id": "59c4e9b6",
   "metadata": {},
   "outputs": [
    {
     "name": "stdout",
     "output_type": "stream",
     "text": [
      "  bools chars nums\n",
      "1  TRUE     A    1\n",
      "2 FALSE     B    2\n",
      "3  TRUE     C    3\n",
      "\n",
      "Data Frame?: TRUE \n",
      "\n"
     ]
    }
   ],
   "source": [
    "frame <- data.frame( bools, chars, nums )\n",
    "print( frame )\n",
    "cat( \"\\nData Frame?:\", is.data.frame( frame ), \"\\n\\n\" )"
   ]
  },
  {
   "cell_type": "code",
   "execution_count": 3,
   "id": "ebee60c3",
   "metadata": {},
   "outputs": [],
   "source": [
    "rownames( frame ) <- c( \"Tier 1:\",\"Tier 2:\", \"Tier 3:\" )\n",
    "colnames( frame ) <- c( \"Logical\", \"Alphabetical\", \"Numerical\" )"
   ]
  },
  {
   "cell_type": "code",
   "execution_count": 4,
   "id": "20d8d4d3",
   "metadata": {},
   "outputs": [
    {
     "name": "stdout",
     "output_type": "stream",
     "text": [
      "        Logical Alphabetical Numerical\n",
      "Tier 1:    TRUE            A         1\n",
      "Tier 2:   FALSE            A         2\n",
      "Tier 3:    TRUE            C         3\n"
     ]
    }
   ],
   "source": [
    "frame[ 2, 2 ] <- \"A\"\n",
    "print( frame ) "
   ]
  },
  {
   "cell_type": "code",
   "execution_count": 5,
   "id": "5132f981",
   "metadata": {},
   "outputs": [
    {
     "name": "stdout",
     "output_type": "stream",
     "text": [
      "\n",
      "Search for 'A'...\n",
      "        row col\n",
      "Tier 1:   1   2\n",
      "Tier 2:   2   2\n"
     ]
    }
   ],
   "source": [
    "cat( \"\\nSearch for 'A'...\\n\" )\n",
    "print( which( frame==\"A\", arr.ind=TRUE ) )"
   ]
  },
  {
   "cell_type": "code",
   "execution_count": 26,
   "id": "04a24136-dce5-4026-ab8f-9692c51af018",
   "metadata": {},
   "outputs": [
    {
     "name": "stdout",
     "output_type": "stream",
     "text": [
      "\n",
      "Search for 'A'...\n",
      "[1] 4 5\n"
     ]
    }
   ],
   "source": [
    "cat( \"\\nSearch for 'A'...\\n\" )\n",
    "print( which( frame=='A' ) )"
   ]
  },
  {
   "cell_type": "code",
   "execution_count": 25,
   "id": "d677c59f-cf4e-46d6-b1f4-94ffd5f0f605",
   "metadata": {},
   "outputs": [
    {
     "data": {
      "text/html": [
       "<style>\n",
       ".list-inline {list-style: none; margin:0; padding: 0}\n",
       ".list-inline>li {display: inline-block}\n",
       ".list-inline>li:not(:last-child)::after {content: \"\\00b7\"; padding: 0 .5ex}\n",
       "</style>\n",
       "<ol class=list-inline><li>1</li><li>2</li><li>5</li></ol>\n"
      ],
      "text/latex": [
       "\\begin{enumerate*}\n",
       "\\item 1\n",
       "\\item 2\n",
       "\\item 5\n",
       "\\end{enumerate*}\n"
      ],
      "text/markdown": [
       "1. 1\n",
       "2. 2\n",
       "3. 5\n",
       "\n",
       "\n"
      ],
      "text/plain": [
       "[1] 1 2 5"
      ]
     },
     "metadata": {},
     "output_type": "display_data"
    }
   ],
   "source": [
    "m <- matrix(c(T,T,F,F,T,F),nrow=2)\n",
    "which(m)"
   ]
  }
 ],
 "metadata": {
  "jupytext": {
   "cell_metadata_filter": "-all",
   "main_language": "R",
   "notebook_metadata_filter": "-all"
  },
  "kernelspec": {
   "display_name": "R (system-wide)",
   "language": "r",
   "name": "ir"
  },
  "language_info": {
   "codemirror_mode": "r",
   "file_extension": ".r",
   "mimetype": "text/x-r-source",
   "name": "R",
   "pygments_lexer": "r",
   "version": "4.2.1"
  }
 },
 "nbformat": 4,
 "nbformat_minor": 5
}
