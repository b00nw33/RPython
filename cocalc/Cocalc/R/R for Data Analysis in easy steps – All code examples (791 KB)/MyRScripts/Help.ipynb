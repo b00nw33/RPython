{
 "cells": [
  {
   "cell_type": "code",
   "execution_count": null,
   "id": "7f55bb8c",
   "metadata": {},
   "outputs": [],
   "source": [
    "help( \"color\" )"
   ]
  },
  {
   "cell_type": "code",
   "execution_count": null,
   "id": "ddc811d9",
   "metadata": {},
   "outputs": [],
   "source": [
    "??color"
   ]
  },
  {
   "cell_type": "code",
   "execution_count": null,
   "id": "cfe8d491",
   "metadata": {},
   "outputs": [],
   "source": [
    "plo"
   ]
  }
 ],
 "metadata": {
  "jupytext": {
   "cell_metadata_filter": "-all",
   "main_language": "R",
   "notebook_metadata_filter": "-all"
  }
 },
 "nbformat": 4,
 "nbformat_minor": 5
}
