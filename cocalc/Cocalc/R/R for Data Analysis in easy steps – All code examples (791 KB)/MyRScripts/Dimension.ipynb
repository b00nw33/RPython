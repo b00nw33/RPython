{
 "cells": [
  {
   "cell_type": "code",
   "execution_count": 1,
   "id": "2d459eff",
   "metadata": {},
   "outputs": [],
   "source": [
    "data <- 1:28"
   ]
  },
  {
   "cell_type": "code",
   "execution_count": 2,
   "id": "60a586d8",
   "metadata": {},
   "outputs": [],
   "source": [
    "table <- matrix( data, nrow=4, ncol=7, byrow=TRUE, \n",
    "          dimnames=list( letters[ 1:4 ], LETTERS[ 1:7 ] ) )"
   ]
  },
  {
   "cell_type": "code",
   "execution_count": 3,
   "id": "15ba197a",
   "metadata": {},
   "outputs": [
    {
     "name": "stdout",
     "output_type": "stream",
     "text": [
      "Matrix...\n",
      "   A  B  C  D  E  F  G\n",
      "a  1  2  3  4  5  6  7\n",
      "b  8  9 10 11 12 13 14\n",
      "c 15 16 17 18 19 20 21\n",
      "d 22 23 24 25 26 27 28\n"
     ]
    }
   ],
   "source": [
    "cat( \"Matrix...\\n\" )\n",
    "print( table )"
   ]
  },
  {
   "cell_type": "code",
   "execution_count": 4,
   "id": "9faa6ecc",
   "metadata": {},
   "outputs": [],
   "source": [
    "tier <- table[ 2, ]"
   ]
  },
  {
   "cell_type": "code",
   "execution_count": 5,
   "id": "c23d4526",
   "metadata": {},
   "outputs": [
    {
     "name": "stdout",
     "output_type": "stream",
     "text": [
      "\n",
      "Subset...\n",
      "\n",
      "Row #2 (Default)...\n",
      " A  B  C  D  E  F  G \n",
      " 8  9 10 11 12 13 14 \n"
     ]
    }
   ],
   "source": [
    "cat( \"\\nSubset...\\n\\nRow #2 (Default)...\\n\" )\n",
    "print( tier )"
   ]
  },
  {
   "cell_type": "code",
   "execution_count": 6,
   "id": "a94dbea7",
   "metadata": {},
   "outputs": [
    {
     "name": "stdout",
     "output_type": "stream",
     "text": [
      "\n",
      "Matrix?: FALSE\tVector?: TRUE \n",
      "\n"
     ]
    }
   ],
   "source": [
    "cat( \"\\nMatrix?:\", is.matrix( tier ) )\n",
    "cat( \"\\tVector?:\", is.vector( tier ), \"\\n\\n\" )"
   ]
  },
  {
   "cell_type": "code",
   "execution_count": 7,
   "id": "ad1635f7",
   "metadata": {},
   "outputs": [],
   "source": [
    "tier <- table[ 2, , drop=FALSE ]"
   ]
  },
  {
   "cell_type": "code",
   "execution_count": 8,
   "id": "6fdfbf60",
   "metadata": {},
   "outputs": [
    {
     "name": "stdout",
     "output_type": "stream",
     "text": [
      "\n",
      "Row #2 (Drop=FALSE)...\n",
      "  A B  C  D  E  F  G\n",
      "b 8 9 10 11 12 13 14\n"
     ]
    }
   ],
   "source": [
    "cat( \"\\nRow #2 (Drop=FALSE)...\\n\" )\n",
    "print( tier )"
   ]
  },
  {
   "cell_type": "code",
   "execution_count": 9,
   "id": "90377174",
   "metadata": {},
   "outputs": [
    {
     "name": "stdout",
     "output_type": "stream",
     "text": [
      "\n",
      "Matrix?: TRUE\tVector?: FALSE \n"
     ]
    }
   ],
   "source": [
    "cat( \"\\nMatrix?:\", is.matrix( tier ) )\n",
    "cat( \"\\tVector?:\", is.vector( tier ), \"\\n\" )"
   ]
  }
 ],
 "metadata": {
  "jupytext": {
   "cell_metadata_filter": "-all",
   "main_language": "R",
   "notebook_metadata_filter": "-all"
  },
  "kernelspec": {
   "display_name": "R (system-wide)",
   "language": "r",
   "name": "ir"
  },
  "language_info": {
   "codemirror_mode": "r",
   "file_extension": ".r",
   "mimetype": "text/x-r-source",
   "name": "R",
   "pygments_lexer": "r",
   "version": "4.2.1"
  }
 },
 "nbformat": 4,
 "nbformat_minor": 5
}
