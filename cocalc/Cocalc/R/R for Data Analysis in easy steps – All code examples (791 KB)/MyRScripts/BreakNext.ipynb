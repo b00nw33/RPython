{
 "cells": [
  {
   "cell_type": "code",
   "execution_count": 1,
   "id": "4ec66c28",
   "metadata": {},
   "outputs": [
    {
     "name": "stdout",
     "output_type": "stream",
     "text": [
      "Skips Iteration at i= 1  and j= 1 \n",
      "Running i= 1  j= 2 \n",
      "Running i= 1  j= 3 \n",
      "Breaks Inner Loop at i= 2  and j= 1 \n",
      "Running i= 3  j= 1 \n",
      "Running i= 3  j= 2 \n",
      "Running i= 3  j= 3 \n"
     ]
    }
   ],
   "source": [
    "for( i in 1:3 )\n",
    "{\n",
    "  for( j in 1:3 )\n",
    "  {\n",
    "    if( i==1 && j==1)\n",
    "    {\n",
    "      cat( \"Skips Iteration at i=\", i, \" and j=\", j, \"\\n\" )\n",
    "      next\n",
    "    }\n",
    "    \n",
    "    if( i==2 && j==1)\n",
    "    {\n",
    "      cat( \"Breaks Inner Loop at i=\", i, \" and j=\", j, \"\\n\" )\n",
    "      break\n",
    "    }\n",
    "    \n",
    "    cat( \"Running i=\", i,\" j=\", j, \"\\n\" )\n",
    "  }\n",
    "}"
   ]
  }
 ],
 "metadata": {
  "jupytext": {
   "cell_metadata_filter": "-all",
   "main_language": "R",
   "notebook_metadata_filter": "-all"
  },
  "kernelspec": {
   "display_name": "R (system-wide)",
   "language": "r",
   "name": "ir"
  },
  "language_info": {
   "codemirror_mode": "r",
   "file_extension": ".r",
   "mimetype": "text/x-r-source",
   "name": "R",
   "pygments_lexer": "r",
   "version": "4.2.1"
  }
 },
 "nbformat": 4,
 "nbformat_minor": 5
}
