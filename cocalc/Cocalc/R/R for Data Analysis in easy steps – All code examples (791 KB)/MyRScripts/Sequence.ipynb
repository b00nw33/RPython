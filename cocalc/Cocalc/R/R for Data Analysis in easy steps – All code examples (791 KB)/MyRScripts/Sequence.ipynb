{
 "cells": [
  {
   "cell_type": "code",
   "execution_count": 1,
   "id": "4a89e3ea",
   "metadata": {},
   "outputs": [
    {
     "name": "stdout",
     "output_type": "stream",
     "text": [
      "Constant: Jan Feb Mar Apr May Jun \n"
     ]
    }
   ],
   "source": [
    "half.year <- month.abb[ 1:6 ]\n",
    "cat( \"Constant:\", half.year, \"\\n\" )"
   ]
  },
  {
   "cell_type": "code",
   "execution_count": 2,
   "id": "17fa3811",
   "metadata": {},
   "outputs": [
    {
     "name": "stdout",
     "output_type": "stream",
     "text": [
      "Sequence: 1 2 3 4 5 6 7 8 \n",
      "Two Step: 1 3 5 7 \n",
      "\n"
     ]
    }
   ],
   "source": [
    "cat( \"Sequence:\", seq( 1, 8 ), \"\\n\" )\n",
    "cat( \"Two Step:\", seq( 1, 8, 2 ), \"\\n\\n\" )"
   ]
  },
  {
   "cell_type": "code",
   "execution_count": 3,
   "id": "875a7b95",
   "metadata": {},
   "outputs": [
    {
     "name": "stdout",
     "output_type": "stream",
     "text": [
      "Distributed: 1 3.333333 5.666667 8 \n",
      "Distributed: 1 2.4 3.8 5.2 6.6 8 \n",
      "\n"
     ]
    }
   ],
   "source": [
    "cat( \"Distributed:\", seq( 1, 8, length.out=4 ), \"\\n\" )\n",
    "cat( \"Distributed:\", seq( 1, 8, along.with = half.year ), \"\\n\\n\" )"
   ]
  },
  {
   "cell_type": "code",
   "execution_count": 4,
   "id": "96c26e03",
   "metadata": {},
   "outputs": [
    {
     "name": "stdout",
     "output_type": "stream",
     "text": [
      "Replicated: 5 5 5 5 5 5 5 5 5 \n"
     ]
    }
   ],
   "source": [
    "cat( \"Replicated:\", rep( 5, 9 ), \"\\n\" )"
   ]
  },
  {
   "cell_type": "code",
   "execution_count": 5,
   "id": "76217129",
   "metadata": {},
   "outputs": [
    {
     "name": "stdout",
     "output_type": "stream",
     "text": [
      "Replicated: 1 2 3 4 1 2 3 4 1 2 3 4 \n"
     ]
    }
   ],
   "source": [
    "cat( \"Replicated:\", rep( 1:4, 3 ), \"\\n\" )"
   ]
  },
  {
   "cell_type": "code",
   "execution_count": 6,
   "id": "77cc06d1",
   "metadata": {},
   "outputs": [
    {
     "name": "stdout",
     "output_type": "stream",
     "text": [
      "Replicated: 1 1 2 2 3 3 4 4 1 1 2 2 3 3 4 4 1 1 2 2 3 3 4 4 \n"
     ]
    }
   ],
   "source": [
    "cat( \"Replicated:\", rep( 1:4, 3, each=2 ), \"\\n\" )"
   ]
  }
 ],
 "metadata": {
  "jupytext": {
   "cell_metadata_filter": "-all",
   "main_language": "R",
   "notebook_metadata_filter": "-all"
  },
  "kernelspec": {
   "display_name": "R (system-wide)",
   "language": "r",
   "name": "ir"
  },
  "language_info": {
   "codemirror_mode": "r",
   "file_extension": ".r",
   "mimetype": "text/x-r-source",
   "name": "R",
   "pygments_lexer": "r",
   "version": "4.2.1"
  }
 },
 "nbformat": 4,
 "nbformat_minor": 5
}
