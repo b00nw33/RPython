{
 "cells": [
  {
   "cell_type": "code",
   "execution_count": 1,
   "id": "0265682d",
   "metadata": {},
   "outputs": [],
   "source": [
    "seq <- list( A=\"Alpha\", B=\"Bravo\", C=\"Charlie\" )"
   ]
  },
  {
   "cell_type": "code",
   "execution_count": 2,
   "id": "31411892",
   "metadata": {},
   "outputs": [
    {
     "name": "stdout",
     "output_type": "stream",
     "text": [
      "[1] \"Alpha\"\n",
      "[1] \"Bravo\"\n",
      "[1] \"Charlie\"\n"
     ]
    }
   ],
   "source": [
    "for( var in seq )\n",
    "{\n",
    "  print( var )\n",
    "}"
   ]
  },
  {
   "cell_type": "code",
   "execution_count": 3,
   "id": "8ab7c0a8",
   "metadata": {},
   "outputs": [],
   "source": [
    "seq <- c( 2, 7, 6, 8, 3, 5, 4 )"
   ]
  },
  {
   "cell_type": "code",
   "execution_count": 4,
   "id": "4b28bbf8",
   "metadata": {},
   "outputs": [
    {
     "name": "stdout",
     "output_type": "stream",
     "text": [
      "2 Is Even\n",
      "7 Is Odd\n",
      "6 Is Even\n",
      "8 Is Even\n",
      "3 Is Odd\n",
      "5 Is Odd\n",
      "4 Is Even\n"
     ]
    }
   ],
   "source": [
    "for( var in seq )\n",
    "{\n",
    "  if( var %% 2 == 1 )\n",
    "  {\n",
    "    cat( var, \"Is Odd\\n\")\n",
    "  } else\n",
    "  {\n",
    "    cat( var, \"Is Even\\n\")\n",
    "  }\n",
    "}"
   ]
  }
 ],
 "metadata": {
  "jupytext": {
   "cell_metadata_filter": "-all",
   "main_language": "R",
   "notebook_metadata_filter": "-all"
  },
  "kernelspec": {
   "display_name": "R (system-wide)",
   "language": "r",
   "name": "ir"
  },
  "language_info": {
   "codemirror_mode": "r",
   "file_extension": ".r",
   "mimetype": "text/x-r-source",
   "name": "R",
   "pygments_lexer": "r",
   "version": "4.2.1"
  }
 },
 "nbformat": 4,
 "nbformat_minor": 5
}
