{
 "cells": [
  {
   "cell_type": "code",
   "execution_count": 1,
   "id": "66be055d",
   "metadata": {},
   "outputs": [
    {
     "name": "stdout",
     "output_type": "stream",
     "text": [
      "Series: 1 2 3 4 5 6 7 8 9 \n"
     ]
    }
   ],
   "source": [
    "series <- c( 1:9 )\n",
    "cat( \"Series:\", series, \"\\n\" ) "
   ]
  },
  {
   "cell_type": "code",
   "execution_count": 2,
   "id": "9a652dc3",
   "metadata": {},
   "outputs": [
    {
     "name": "stdout",
     "output_type": "stream",
     "text": [
      "Slice: 1 2 3 \n"
     ]
    }
   ],
   "source": [
    "slice <- series[ 1:3 ]\n",
    "cat( \"Slice:\", slice, \"\\n\" )"
   ]
  },
  {
   "cell_type": "code",
   "execution_count": 3,
   "id": "cebaa8c6",
   "metadata": {},
   "outputs": [
    {
     "name": "stdout",
     "output_type": "stream",
     "text": [
      "Totals: 2 4 6 5 7 9 8 10 12 \n"
     ]
    }
   ],
   "source": [
    "totals <- series + slice\n",
    "cat( \"Totals:\", totals, \"\\n\" )"
   ]
  },
  {
   "cell_type": "code",
   "execution_count": 4,
   "id": "372751f6",
   "metadata": {},
   "outputs": [
    {
     "name": "stdout",
     "output_type": "stream",
     "text": [
      "New Slice: 1 2 3 4 \n"
     ]
    }
   ],
   "source": [
    "slice <- series[ 1:4 ]\n",
    "cat( \"New Slice:\", slice, \"\\n\" )"
   ]
  },
  {
   "cell_type": "code",
   "execution_count": 5,
   "id": "ab2ffee3",
   "metadata": {},
   "outputs": [
    {
     "name": "stderr",
     "output_type": "stream",
     "text": [
      "Warning message in series + slice:\n",
      "“longer object length is not a multiple of shorter object length”\n"
     ]
    },
    {
     "name": "stdout",
     "output_type": "stream",
     "text": [
      "New Totals: 2 4 6 8 6 8 10 12 10 \n"
     ]
    }
   ],
   "source": [
    "totals <- series + slice\n",
    "cat( \"New Totals:\", totals, \"\\n\" )"
   ]
  },
  {
   "cell_type": "code",
   "execution_count": 6,
   "id": "7a8de634-4563-40dd-b705-eeaa2fe3d8bf",
   "metadata": {},
   "outputs": [
    {
     "data": {
      "text/html": [
       "<style>\n",
       ".list-inline {list-style: none; margin:0; padding: 0}\n",
       ".list-inline>li {display: inline-block}\n",
       ".list-inline>li:not(:last-child)::after {content: \"\\00b7\"; padding: 0 .5ex}\n",
       "</style>\n",
       "<ol class=list-inline><li>1</li><li>2</li><li>3</li><li>4</li><li>5</li><li>6</li><li>7</li><li>8</li><li>9</li><li>1</li><li>2</li><li>3</li><li>4</li></ol>\n"
      ],
      "text/latex": [
       "\\begin{enumerate*}\n",
       "\\item 1\n",
       "\\item 2\n",
       "\\item 3\n",
       "\\item 4\n",
       "\\item 5\n",
       "\\item 6\n",
       "\\item 7\n",
       "\\item 8\n",
       "\\item 9\n",
       "\\item 1\n",
       "\\item 2\n",
       "\\item 3\n",
       "\\item 4\n",
       "\\end{enumerate*}\n"
      ],
      "text/markdown": [
       "1. 1\n",
       "2. 2\n",
       "3. 3\n",
       "4. 4\n",
       "5. 5\n",
       "6. 6\n",
       "7. 7\n",
       "8. 8\n",
       "9. 9\n",
       "10. 1\n",
       "11. 2\n",
       "12. 3\n",
       "13. 4\n",
       "\n",
       "\n"
      ],
      "text/plain": [
       " [1] 1 2 3 4 5 6 7 8 9 1 2 3 4"
      ]
     },
     "metadata": {},
     "output_type": "display_data"
    }
   ],
   "source": [
    "c(series,slice)"
   ]
  }
 ],
 "metadata": {
  "jupytext": {
   "cell_metadata_filter": "-all",
   "main_language": "R",
   "notebook_metadata_filter": "-all"
  },
  "kernelspec": {
   "display_name": "R (system-wide)",
   "language": "r",
   "name": "ir"
  },
  "language_info": {
   "codemirror_mode": "r",
   "file_extension": ".r",
   "mimetype": "text/x-r-source",
   "name": "R",
   "pygments_lexer": "r",
   "version": "4.2.1"
  }
 },
 "nbformat": 4,
 "nbformat_minor": 5
}
