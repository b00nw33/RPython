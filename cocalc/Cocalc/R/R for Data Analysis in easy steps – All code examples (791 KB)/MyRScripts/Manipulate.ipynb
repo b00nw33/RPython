{
 "cells": [
  {
   "cell_type": "code",
   "execution_count": 1,
   "id": "c1e619d8",
   "metadata": {},
   "outputs": [],
   "source": [
    "fruit <- c( \"Banana\", \"Apple\", \"Cherry\" )"
   ]
  },
  {
   "cell_type": "code",
   "execution_count": 2,
   "id": "797e5fb7",
   "metadata": {},
   "outputs": [
    {
     "name": "stdout",
     "output_type": "stream",
     "text": [
      "Fruit: Banana Apple Cherry \n"
     ]
    }
   ],
   "source": [
    "cat( \"Fruit:\", fruit , \"\\n\" )"
   ]
  },
  {
   "cell_type": "code",
   "execution_count": 3,
   "id": "26cd3a53",
   "metadata": {},
   "outputs": [],
   "source": [
    "fruit <- sort( fruit )"
   ]
  },
  {
   "cell_type": "code",
   "execution_count": 4,
   "id": "0385140d",
   "metadata": {},
   "outputs": [
    {
     "name": "stdout",
     "output_type": "stream",
     "text": [
      "Sorted: Apple Banana Cherry \n",
      "\n"
     ]
    }
   ],
   "source": [
    "cat( \"Sorted:\", fruit , \"\\n\\n\" )"
   ]
  },
  {
   "cell_type": "code",
   "execution_count": 5,
   "id": "fad0c946",
   "metadata": {},
   "outputs": [],
   "source": [
    "nums <-  c( NA, 8:2, NA, 1:7, NA  )"
   ]
  },
  {
   "cell_type": "code",
   "execution_count": 6,
   "id": "e7449134",
   "metadata": {},
   "outputs": [
    {
     "name": "stdout",
     "output_type": "stream",
     "text": [
      "Numbers: NA 8 7 6 5 4 3 2 NA 1 2 3 4 5 6 7 NA \n"
     ]
    }
   ],
   "source": [
    "cat( \"Numbers:\", nums , \"\\n\" )"
   ]
  },
  {
   "cell_type": "code",
   "execution_count": 7,
   "id": "82e197e3",
   "metadata": {},
   "outputs": [],
   "source": [
    "nums <- sort( nums, na.last=TRUE )"
   ]
  },
  {
   "cell_type": "code",
   "execution_count": 8,
   "id": "4cbbf132",
   "metadata": {},
   "outputs": [
    {
     "name": "stdout",
     "output_type": "stream",
     "text": [
      "Increasing: 1 2 2 3 3 4 4 5 5 6 6 7 7 8 NA NA NA \n"
     ]
    }
   ],
   "source": [
    "cat( \"Increasing:\", nums , \"\\n\" )"
   ]
  },
  {
   "cell_type": "code",
   "execution_count": 9,
   "id": "576a2cd1",
   "metadata": {},
   "outputs": [
    {
     "name": "stdout",
     "output_type": "stream",
     "text": [
      "Decreasing: 8 7 7 6 6 5 5 4 4 3 3 2 2 1 \n"
     ]
    }
   ],
   "source": [
    "nums <- sort( nums , decreasing=TRUE )\n",
    "cat( \"Decreasing:\", nums , \"\\n\" )"
   ]
  },
  {
   "cell_type": "code",
   "execution_count": 10,
   "id": "b7a31ab9",
   "metadata": {},
   "outputs": [
    {
     "name": "stdout",
     "output_type": "stream",
     "text": [
      "Reversed: 1 2 2 3 3 4 4 5 5 6 6 7 7 8 \n"
     ]
    }
   ],
   "source": [
    "nums <- rev( nums )\n",
    "cat( \"Reversed:\", nums , \"\\n\" )"
   ]
  },
  {
   "cell_type": "code",
   "execution_count": 11,
   "id": "6577aa59",
   "metadata": {},
   "outputs": [
    {
     "name": "stdout",
     "output_type": "stream",
     "text": [
      "Unique: 1 2 3 4 5 6 7 8 \n"
     ]
    }
   ],
   "source": [
    "nums <- unique( nums )\n",
    "cat( \"Unique:\", nums , \"\\n\" )"
   ]
  }
 ],
 "metadata": {
  "jupytext": {
   "cell_metadata_filter": "-all",
   "main_language": "R",
   "notebook_metadata_filter": "-all"
  },
  "kernelspec": {
   "display_name": "R (system-wide)",
   "language": "r",
   "name": "ir"
  },
  "language_info": {
   "codemirror_mode": "r",
   "file_extension": ".r",
   "mimetype": "text/x-r-source",
   "name": "R",
   "pygments_lexer": "r",
   "version": "4.2.1"
  }
 },
 "nbformat": 4,
 "nbformat_minor": 5
}
