{
 "cells": [
  {
   "cell_type": "code",
   "execution_count": 1,
   "id": "dbd9c64d",
   "metadata": {},
   "outputs": [],
   "source": [
    "ascend <- c( 1:5 )\n",
    "descend <- c( 5:1 )"
   ]
  },
  {
   "cell_type": "code",
   "execution_count": 2,
   "id": "d3de46b1",
   "metadata": {},
   "outputs": [
    {
     "name": "stdout",
     "output_type": "stream",
     "text": [
      "Vectors:\n",
      " 1 2 3 4 5 \n",
      " 5 4 3 2 1"
     ]
    }
   ],
   "source": [
    "cat( \"Vectors:\\n\", ascend,\"\\n\", descend )"
   ]
  },
  {
   "cell_type": "code",
   "execution_count": 3,
   "id": "f0688b18",
   "metadata": {},
   "outputs": [],
   "source": [
    "result <- ascend > descend"
   ]
  },
  {
   "cell_type": "code",
   "execution_count": 4,
   "id": "24cdb0d3",
   "metadata": {},
   "outputs": [
    {
     "name": "stdout",
     "output_type": "stream",
     "text": [
      "\n",
      "1st Vector Greater?: FALSE FALSE FALSE TRUE TRUE"
     ]
    }
   ],
   "source": [
    "cat( \"\\n1st Vector Greater?:\", result )"
   ]
  },
  {
   "cell_type": "code",
   "execution_count": 5,
   "id": "8529e967",
   "metadata": {},
   "outputs": [
    {
     "name": "stdout",
     "output_type": "stream",
     "text": [
      "\n",
      "At Index No.: 4 5"
     ]
    }
   ],
   "source": [
    "cat( \"\\nAt Index No.:\", which( result ) )"
   ]
  },
  {
   "cell_type": "code",
   "execution_count": 6,
   "id": "50c9bcad",
   "metadata": {},
   "outputs": [],
   "source": [
    "pets <- c( \"Dog\", \"Cat\", \"Gerbil\", \"Rabbit\" )\n",
    "animals <- c( \"Dog\",\"Tiger\", \"Cat\", \"Rabbit\" )"
   ]
  },
  {
   "cell_type": "code",
   "execution_count": 7,
   "id": "1cc4c976",
   "metadata": {},
   "outputs": [
    {
     "name": "stdout",
     "output_type": "stream",
     "text": [
      "\n",
      "\n",
      "Vectors:\n",
      " Dog Cat Gerbil Rabbit \n",
      " Dog Tiger Cat Rabbit"
     ]
    }
   ],
   "source": [
    "cat( \"\\n\\nVectors:\\n\", pets,\"\\n\",animals )"
   ]
  },
  {
   "cell_type": "code",
   "execution_count": 8,
   "id": "29b7b984",
   "metadata": {},
   "outputs": [],
   "source": [
    "result <- pets == animals"
   ]
  },
  {
   "cell_type": "code",
   "execution_count": 9,
   "id": "52450394",
   "metadata": {},
   "outputs": [
    {
     "name": "stdout",
     "output_type": "stream",
     "text": [
      "\n",
      "Element Match?: TRUE FALSE FALSE TRUE"
     ]
    }
   ],
   "source": [
    "cat( \"\\nElement Match?:\", result )"
   ]
  },
  {
   "cell_type": "code",
   "execution_count": 10,
   "id": "6787703c",
   "metadata": {},
   "outputs": [
    {
     "name": "stdout",
     "output_type": "stream",
     "text": [
      "\n",
      "At Index No.: 1 4"
     ]
    }
   ],
   "source": [
    "cat( \"\\nAt Index No.:\", which( result ) )"
   ]
  },
  {
   "cell_type": "code",
   "execution_count": 11,
   "id": "60061517",
   "metadata": {},
   "outputs": [
    {
     "name": "stdout",
     "output_type": "stream",
     "text": [
      "\n",
      "Common: Dog Cat Rabbit"
     ]
    }
   ],
   "source": [
    "cat( \"\\nCommon:\", intersect( pets, animals ) )"
   ]
  }
 ],
 "metadata": {
  "jupytext": {
   "cell_metadata_filter": "-all",
   "main_language": "R",
   "notebook_metadata_filter": "-all"
  },
  "kernelspec": {
   "display_name": "R (system-wide)",
   "language": "r",
   "name": "ir"
  },
  "language_info": {
   "codemirror_mode": "r",
   "file_extension": ".r",
   "mimetype": "text/x-r-source",
   "name": "R",
   "pygments_lexer": "r",
   "version": "4.2.1"
  }
 },
 "nbformat": 4,
 "nbformat_minor": 5
}
