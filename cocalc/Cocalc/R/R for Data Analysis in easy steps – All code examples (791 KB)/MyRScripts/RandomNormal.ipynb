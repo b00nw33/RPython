{
 "cells": [
  {
   "cell_type": "code",
   "execution_count": 1,
   "id": "01e04b0b",
   "metadata": {},
   "outputs": [],
   "source": [
    "nums <- rnorm( 3 )"
   ]
  },
  {
   "cell_type": "code",
   "execution_count": 2,
   "id": "b72f9d8e",
   "metadata": {},
   "outputs": [
    {
     "name": "stdout",
     "output_type": "stream",
     "text": [
      "Random Normal Distribution: 0.5478641 0.4863171 -2.095639 \n",
      "\n"
     ]
    }
   ],
   "source": [
    "cat( \"Random Normal Distribution:\", nums, \"\\n\\n\" )"
   ]
  }
 ],
 "metadata": {
  "jupytext": {
   "cell_metadata_filter": "-all",
   "main_language": "R",
   "notebook_metadata_filter": "-all"
  },
  "kernelspec": {
   "display_name": "R (system-wide)",
   "language": "r",
   "name": "ir"
  },
  "language_info": {
   "codemirror_mode": "r",
   "file_extension": ".r",
   "mimetype": "text/x-r-source",
   "name": "R",
   "pygments_lexer": "r",
   "version": "4.2.1"
  }
 },
 "nbformat": 4,
 "nbformat_minor": 5
}
