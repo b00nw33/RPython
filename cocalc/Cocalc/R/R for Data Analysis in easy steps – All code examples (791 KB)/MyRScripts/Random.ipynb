{
 "cells": [
  {
   "cell_type": "code",
   "execution_count": 1,
   "id": "ac49dda1",
   "metadata": {},
   "outputs": [
    {
     "name": "stdout",
     "output_type": "stream",
     "text": [
      "Random Number:\t\t 0.07655515 \n"
     ]
    }
   ],
   "source": [
    "rand <- runif( 1 )\n",
    "cat( \"Random Number:\\t\\t\", rand, \"\\n\" )"
   ]
  },
  {
   "cell_type": "code",
   "execution_count": 2,
   "id": "601781cf",
   "metadata": {},
   "outputs": [
    {
     "name": "stdout",
     "output_type": "stream",
     "text": [
      "Multiplied Number:\t 0.7655515 \n"
     ]
    }
   ],
   "source": [
    "rand <- ( rand * 10 )\n",
    "cat( \"Multiplied Number:\\t\", rand, \"\\n\" )"
   ]
  },
  {
   "cell_type": "code",
   "execution_count": 3,
   "id": "29e0de3a",
   "metadata": {},
   "outputs": [
    {
     "name": "stdout",
     "output_type": "stream",
     "text": [
      "Random Integer:\t\t 1 \n",
      "\n"
     ]
    }
   ],
   "source": [
    "rand <- ceiling( rand )\n",
    "cat( \"Random Integer:\\t\\t\", rand, \"\\n\\n\" )"
   ]
  }
 ],
 "metadata": {
  "jupytext": {
   "cell_metadata_filter": "-all",
   "main_language": "R",
   "notebook_metadata_filter": "-all"
  },
  "kernelspec": {
   "display_name": "R (system-wide)",
   "language": "r",
   "name": "ir"
  },
  "language_info": {
   "codemirror_mode": "r",
   "file_extension": ".r",
   "mimetype": "text/x-r-source",
   "name": "R",
   "pygments_lexer": "r",
   "version": "4.2.1"
  }
 },
 "nbformat": 4,
 "nbformat_minor": 5
}
